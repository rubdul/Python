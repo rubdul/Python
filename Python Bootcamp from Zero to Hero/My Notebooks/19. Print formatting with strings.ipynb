{
 "cells": [
  {
   "cell_type": "code",
   "execution_count": 1,
   "id": "2abe7404",
   "metadata": {},
   "outputs": [],
   "source": [
    "# Example of fromatted string using the .Format method"
   ]
  },
  {
   "cell_type": "code",
   "execution_count": 7,
   "id": "15971ab9",
   "metadata": {},
   "outputs": [
    {
     "name": "stdout",
     "output_type": "stream",
     "text": [
      "This is a string Inserted.\n"
     ]
    }
   ],
   "source": [
    "print('This is a string {}.' .format('Inserted'))"
   ]
  },
  {
   "cell_type": "code",
   "execution_count": null,
   "id": "0bb73a31",
   "metadata": {},
   "outputs": [],
   "source": [
    "# This is a longer .format method using string."
   ]
  },
  {
   "cell_type": "code",
   "execution_count": 3,
   "id": "c396adef",
   "metadata": {},
   "outputs": [
    {
     "name": "stdout",
     "output_type": "stream",
     "text": [
      "The fox brown quick.\n"
     ]
    }
   ],
   "source": [
    "print('The {} {} {}.' .format('fox','brown','quick'))"
   ]
  },
  {
   "cell_type": "code",
   "execution_count": null,
   "id": "dd7b14ca",
   "metadata": {},
   "outputs": [],
   "source": [
    "# Formatting and assignment with variables"
   ]
  },
  {
   "cell_type": "code",
   "execution_count": 8,
   "id": "361db469",
   "metadata": {},
   "outputs": [
    {
     "name": "stdout",
     "output_type": "stream",
     "text": [
      "The quick brown fox.\n"
     ]
    }
   ],
   "source": [
    "print('The {q} {b} {f}.' .format(f='fox',b='brown',q='quick'))"
   ]
  },
  {
   "cell_type": "code",
   "execution_count": 10,
   "id": "60f1af28",
   "metadata": {},
   "outputs": [],
   "source": [
    "# Lets practice formatting decimal precision Syntax {value:width.precisionf}"
   ]
  },
  {
   "cell_type": "code",
   "execution_count": 12,
   "id": "441ea2d1",
   "metadata": {},
   "outputs": [],
   "source": [
    "result = 100/777"
   ]
  },
  {
   "cell_type": "code",
   "execution_count": 14,
   "id": "78eda25c",
   "metadata": {},
   "outputs": [
    {
     "name": "stdout",
     "output_type": "stream",
     "text": [
      "The result was 0.128700129\n"
     ]
    }
   ],
   "source": [
    "print('The result was {r:1.9f}' .format(r=result))"
   ]
  },
  {
   "cell_type": "code",
   "execution_count": null,
   "id": "95adddef",
   "metadata": {},
   "outputs": [],
   "source": []
  }
 ],
 "metadata": {
  "kernelspec": {
   "display_name": "Python 3 (ipykernel)",
   "language": "python",
   "name": "python3"
  },
  "language_info": {
   "codemirror_mode": {
    "name": "ipython",
    "version": 3
   },
   "file_extension": ".py",
   "mimetype": "text/x-python",
   "name": "python",
   "nbconvert_exporter": "python",
   "pygments_lexer": "ipython3",
   "version": "3.9.7"
  }
 },
 "nbformat": 4,
 "nbformat_minor": 5
}
