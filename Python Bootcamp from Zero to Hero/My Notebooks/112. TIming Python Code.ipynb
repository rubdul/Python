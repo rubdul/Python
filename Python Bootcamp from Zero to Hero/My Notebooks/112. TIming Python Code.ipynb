{
 "cells": [
  {
   "cell_type": "code",
   "execution_count": null,
   "id": "e882ee93",
   "metadata": {},
   "outputs": [],
   "source": [
    "# There are 3 typical ways to time your code.\n",
    "# 1. Checking time elapsed\n",
    "# 2. Using the timeit module\n",
    "# 3. The special %%timeit \"magic\" for Jupyter notebooks\n"
   ]
  },
  {
   "cell_type": "code",
   "execution_count": null,
   "id": "5a0679b3",
   "metadata": {},
   "outputs": [],
   "source": [
    "# let's test this with some functions"
   ]
  },
  {
   "cell_type": "code",
   "execution_count": 1,
   "id": "e8bbbed1",
   "metadata": {},
   "outputs": [],
   "source": [
    "def func1(n):\n",
    "    return [str(num) for num in range(n)]\n",
    "    "
   ]
  },
  {
   "cell_type": "code",
   "execution_count": 2,
   "id": "f4e2a7dd",
   "metadata": {},
   "outputs": [],
   "source": [
    "def func2(n):\n",
    "    return list(map(str,range(n)))"
   ]
  },
  {
   "cell_type": "code",
   "execution_count": 3,
   "id": "efd7f3b4",
   "metadata": {},
   "outputs": [
    {
     "data": {
      "text/plain": [
       "['0', '1', '2', '3', '4', '5', '6', '7', '8', '9']"
      ]
     },
     "execution_count": 3,
     "metadata": {},
     "output_type": "execute_result"
    }
   ],
   "source": [
    "func1(10)"
   ]
  },
  {
   "cell_type": "code",
   "execution_count": 5,
   "id": "7f101e77",
   "metadata": {},
   "outputs": [
    {
     "data": {
      "text/plain": [
       "['0', '1', '2', '3', '4', '5', '6', '7', '8', '9']"
      ]
     },
     "execution_count": 5,
     "metadata": {},
     "output_type": "execute_result"
    }
   ],
   "source": [
    "func2(10)"
   ]
  },
  {
   "cell_type": "code",
   "execution_count": 6,
   "id": "452c59ba",
   "metadata": {},
   "outputs": [],
   "source": [
    "# Import the time library\n",
    "import time"
   ]
  },
  {
   "cell_type": "code",
   "execution_count": 9,
   "id": "edc06483",
   "metadata": {},
   "outputs": [
    {
     "data": {
      "text/plain": [
       "0.25930213928222656"
      ]
     },
     "execution_count": 9,
     "metadata": {},
     "output_type": "execute_result"
    }
   ],
   "source": [
    "# Current time before\n",
    "start_time = time.time()\n",
    "\n",
    "# Run code\n",
    "result = func1(1000000)\n",
    "\n",
    "# Current time after running code\n",
    "end_time = time.time()\n",
    "\n",
    "# Calculate elapsed time\n",
    "elapsed_time = end_time - start_time\n",
    "\n",
    "elapsed_time"
   ]
  },
  {
   "cell_type": "code",
   "execution_count": 17,
   "id": "b63a5775",
   "metadata": {},
   "outputs": [
    {
     "data": {
      "text/plain": [
       "0.21343255043029785"
      ]
     },
     "execution_count": 17,
     "metadata": {},
     "output_type": "execute_result"
    }
   ],
   "source": [
    "# Repeat for function 2\n",
    "# Current time before\n",
    "start_time = time.time()\n",
    "\n",
    "# Run code\n",
    "result = func2(1000000)\n",
    "\n",
    "# Current time after running code\n",
    "end_time = time.time()\n",
    "\n",
    "# Calculate elapsed time\n",
    "elapsed_time = end_time - start_time\n",
    "\n",
    "elapsed_time"
   ]
  },
  {
   "cell_type": "code",
   "execution_count": null,
   "id": "abb9fe75",
   "metadata": {},
   "outputs": [],
   "source": []
  },
  {
   "cell_type": "code",
   "execution_count": 12,
   "id": "38234804",
   "metadata": {},
   "outputs": [],
   "source": [
    "# Now lets use the timeit module\n",
    "import timeit"
   ]
  },
  {
   "cell_type": "code",
   "execution_count": 13,
   "id": "afe011fe",
   "metadata": {},
   "outputs": [],
   "source": [
    "# make a statment which is the actual code that you want to run over and over again\n",
    "stmt = '''\n",
    "func1(100)\n",
    "'''"
   ]
  },
  {
   "cell_type": "code",
   "execution_count": 15,
   "id": "1e049e2b",
   "metadata": {},
   "outputs": [],
   "source": [
    "# make setup code to only be run once\n",
    "\n",
    "setup = '''\n",
    "def func1(n):\n",
    "    return [str(num) for num in range(n)]\n",
    "'''"
   ]
  },
  {
   "cell_type": "code",
   "execution_count": 16,
   "id": "24093d10",
   "metadata": {},
   "outputs": [
    {
     "data": {
      "text/plain": [
       "0.033727900000030786"
      ]
     },
     "execution_count": 16,
     "metadata": {},
     "output_type": "execute_result"
    }
   ],
   "source": [
    "timeit.timeit(stmt,setup,number=1000)"
   ]
  },
  {
   "cell_type": "code",
   "execution_count": 19,
   "id": "e3e257c2",
   "metadata": {},
   "outputs": [],
   "source": [
    "stmt2 = '''\n",
    "func2(100)\n",
    "'''"
   ]
  },
  {
   "cell_type": "code",
   "execution_count": 20,
   "id": "47f28817",
   "metadata": {},
   "outputs": [],
   "source": [
    "setup2 = '''\n",
    "def func2(n):\n",
    "    return list(map(str,range(n)))\n",
    "''' "
   ]
  },
  {
   "cell_type": "code",
   "execution_count": 22,
   "id": "b1e8461b",
   "metadata": {},
   "outputs": [
    {
     "data": {
      "text/plain": [
       "0.026518200000282377"
      ]
     },
     "execution_count": 22,
     "metadata": {},
     "output_type": "execute_result"
    }
   ],
   "source": [
    "timeit.timeit(stmt2,setup2,number=1000)"
   ]
  },
  {
   "cell_type": "code",
   "execution_count": null,
   "id": "db8e2c57",
   "metadata": {},
   "outputs": [],
   "source": []
  },
  {
   "cell_type": "code",
   "execution_count": null,
   "id": "b896ed79",
   "metadata": {},
   "outputs": [],
   "source": [
    "# now let's use the magic method %%timeit"
   ]
  },
  {
   "cell_type": "code",
   "execution_count": 23,
   "id": "d7015caa",
   "metadata": {},
   "outputs": [
    {
     "name": "stdout",
     "output_type": "stream",
     "text": [
      "167 µs ± 4.53 µs per loop (mean ± std. dev. of 7 runs, 1000 loops each)\n"
     ]
    }
   ],
   "source": [
    "%%timeit\n",
    "func1(1000)"
   ]
  },
  {
   "cell_type": "code",
   "execution_count": 26,
   "id": "dd54a88c",
   "metadata": {},
   "outputs": [
    {
     "name": "stdout",
     "output_type": "stream",
     "text": [
      "129 µs ± 3.23 µs per loop (mean ± std. dev. of 7 runs, 10000 loops each)\n"
     ]
    }
   ],
   "source": [
    "%%timeit\n",
    "func2(1000)"
   ]
  },
  {
   "cell_type": "code",
   "execution_count": null,
   "id": "274a233d",
   "metadata": {},
   "outputs": [],
   "source": []
  },
  {
   "cell_type": "code",
   "execution_count": null,
   "id": "fcbeb0ac",
   "metadata": {},
   "outputs": [],
   "source": []
  }
 ],
 "metadata": {
  "kernelspec": {
   "display_name": "Python 3 (ipykernel)",
   "language": "python",
   "name": "python3"
  },
  "language_info": {
   "codemirror_mode": {
    "name": "ipython",
    "version": 3
   },
   "file_extension": ".py",
   "mimetype": "text/x-python",
   "name": "python",
   "nbconvert_exporter": "python",
   "pygments_lexer": "ipython3",
   "version": "3.9.7"
  }
 },
 "nbformat": 4,
 "nbformat_minor": 5
}
