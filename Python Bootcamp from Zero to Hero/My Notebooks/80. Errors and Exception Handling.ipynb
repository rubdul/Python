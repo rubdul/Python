{
 "cells": [
  {
   "cell_type": "code",
   "execution_count": 2,
   "id": "cc018924",
   "metadata": {},
   "outputs": [],
   "source": [
    "# We can use try, except and finally statements to handle errors in the code"
   ]
  },
  {
   "cell_type": "code",
   "execution_count": null,
   "id": "62733626",
   "metadata": {},
   "outputs": [],
   "source": [
    "# try runs first and an except statement runs if the try throws an error "
   ]
  },
  {
   "cell_type": "code",
   "execution_count": 5,
   "id": "9d177cdf",
   "metadata": {},
   "outputs": [
    {
     "name": "stdout",
     "output_type": "stream",
     "text": [
      "You have an error in your operations\n"
     ]
    }
   ],
   "source": [
    "try: \n",
    "    result = 10 +\"10\"\n",
    "    print(result)\n",
    "    \n",
    "except:\n",
    "    print(\"You have an error in your operations\")\n",
    "    "
   ]
  },
  {
   "cell_type": "code",
   "execution_count": null,
   "id": "24d349aa",
   "metadata": {},
   "outputs": [],
   "source": [
    "# An else statement will only wun if the try block has run before it"
   ]
  },
  {
   "cell_type": "code",
   "execution_count": null,
   "id": "a00383bd",
   "metadata": {},
   "outputs": [],
   "source": [
    "try: result"
   ]
  }
 ],
 "metadata": {
  "kernelspec": {
   "display_name": "Python 3 (ipykernel)",
   "language": "python",
   "name": "python3"
  },
  "language_info": {
   "codemirror_mode": {
    "name": "ipython",
    "version": 3
   },
   "file_extension": ".py",
   "mimetype": "text/x-python",
   "name": "python",
   "nbconvert_exporter": "python",
   "pygments_lexer": "ipython3",
   "version": "3.9.7"
  }
 },
 "nbformat": 4,
 "nbformat_minor": 5
}
