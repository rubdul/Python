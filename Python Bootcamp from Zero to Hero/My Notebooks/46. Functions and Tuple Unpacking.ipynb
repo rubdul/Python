{
 "cells": [
  {
   "cell_type": "code",
   "execution_count": 3,
   "id": "91d39eb4",
   "metadata": {},
   "outputs": [],
   "source": [
    "# Lets see how we can use functions to unpack tuples\n",
    "stock_prices =[('APPL',200), ('GOOG',400),('MSFT',100) ]\n"
   ]
  },
  {
   "cell_type": "code",
   "execution_count": 5,
   "id": "a307e189",
   "metadata": {},
   "outputs": [
    {
     "name": "stdout",
     "output_type": "stream",
     "text": [
      "('APPL', 200)\n",
      "('GOOG', 400)\n",
      "('MSFT', 100)\n"
     ]
    }
   ],
   "source": [
    "# Remember tuple unpacking in a for loop\n",
    "for item in stock_prices:\n",
    "    print(item)"
   ]
  },
  {
   "cell_type": "code",
   "execution_count": 6,
   "id": "d5a5f545",
   "metadata": {},
   "outputs": [
    {
     "name": "stdout",
     "output_type": "stream",
     "text": [
      "220.0\n",
      "440.0\n",
      "110.0\n"
     ]
    }
   ],
   "source": [
    "for ticker,price in stock_prices:\n",
    "    print(price +(0.1*price))"
   ]
  },
  {
   "cell_type": "code",
   "execution_count": 11,
   "id": "c63797e2",
   "metadata": {},
   "outputs": [],
   "source": [
    "# Now lets say we want to get employee of the month\n",
    "\n",
    "# list of tuples of employee names and hours worked\n",
    "work_hours = [('Abby',100), ('Billy',400), ('Cassie', 800)]"
   ]
  },
  {
   "cell_type": "code",
   "execution_count": 16,
   "id": "dfad1a32",
   "metadata": {},
   "outputs": [],
   "source": [
    "# make a function to unpack the tuples\n",
    "# and declare the employee of the month and their worked hours\n",
    "def employee_check(work_hours):\n",
    "    \n",
    "    current_max = 0\n",
    "    employee_of_the_month = ''\n",
    "    \n",
    "    for employee,hours in work_hours:\n",
    "        \n",
    "        if hours > current_max:\n",
    "            current_max = hours\n",
    "            employee_of_the_month = employee\n",
    "        else:\n",
    "            pass\n",
    "    \n",
    "    \n",
    "    return (employee_of_the_month, current_max)\n",
    "\n"
   ]
  },
  {
   "cell_type": "code",
   "execution_count": 17,
   "id": "6f152be8",
   "metadata": {},
   "outputs": [],
   "source": [
    "# now lets get the both values output of the function\n",
    "name,hours = employee_check(work_hours)\n"
   ]
  },
  {
   "cell_type": "code",
   "execution_count": 19,
   "id": "ce33ca0a",
   "metadata": {},
   "outputs": [
    {
     "data": {
      "text/plain": [
       "'Cassie'"
      ]
     },
     "execution_count": 19,
     "metadata": {},
     "output_type": "execute_result"
    }
   ],
   "source": [
    "name"
   ]
  },
  {
   "cell_type": "code",
   "execution_count": 22,
   "id": "8e62141a",
   "metadata": {},
   "outputs": [
    {
     "data": {
      "text/plain": [
       "800"
      ]
     },
     "execution_count": 22,
     "metadata": {},
     "output_type": "execute_result"
    }
   ],
   "source": [
    "hours"
   ]
  },
  {
   "cell_type": "code",
   "execution_count": 23,
   "id": "91e77449",
   "metadata": {},
   "outputs": [],
   "source": [
    "# you can also assign the returned result to just one item\n",
    "item = employee_check(work_hours)"
   ]
  },
  {
   "cell_type": "code",
   "execution_count": 24,
   "id": "6d2d2149",
   "metadata": {},
   "outputs": [
    {
     "data": {
      "text/plain": [
       "('Cassie', 800)"
      ]
     },
     "execution_count": 24,
     "metadata": {},
     "output_type": "execute_result"
    }
   ],
   "source": [
    "# then you can just unpack the result from there\n",
    "item"
   ]
  }
 ],
 "metadata": {
  "kernelspec": {
   "display_name": "Python 3 (ipykernel)",
   "language": "python",
   "name": "python3"
  },
  "language_info": {
   "codemirror_mode": {
    "name": "ipython",
    "version": 3
   },
   "file_extension": ".py",
   "mimetype": "text/x-python",
   "name": "python",
   "nbconvert_exporter": "python",
   "pygments_lexer": "ipython3",
   "version": "3.9.7"
  }
 },
 "nbformat": 4,
 "nbformat_minor": 5
}
