{
 "cells": [
  {
   "cell_type": "code",
   "execution_count": 2,
   "id": "4a083ea9",
   "metadata": {},
   "outputs": [],
   "source": [
    "# make a set named mySet\n",
    "mySet= set()"
   ]
  },
  {
   "cell_type": "code",
   "execution_count": 3,
   "id": "e5ac8b33",
   "metadata": {},
   "outputs": [
    {
     "data": {
      "text/plain": [
       "set()"
      ]
     },
     "execution_count": 3,
     "metadata": {},
     "output_type": "execute_result"
    }
   ],
   "source": [
    "mySet"
   ]
  },
  {
   "cell_type": "code",
   "execution_count": 10,
   "id": "bcdcafda",
   "metadata": {},
   "outputs": [
    {
     "data": {
      "text/plain": [
       "{1, 2, 5}"
      ]
     },
     "execution_count": 10,
     "metadata": {},
     "output_type": "execute_result"
    }
   ],
   "source": [
    "# now add to it using the .add function\n",
    "mySet.add(1)\n",
    "mySet"
   ]
  },
  {
   "cell_type": "code",
   "execution_count": 13,
   "id": "3661063a",
   "metadata": {},
   "outputs": [],
   "source": [
    "# lets practice casting a list to a set\n",
    "myList = [1,1,1,1,1,2,2,2,2,2,3,3,3]\n",
    "\n",
    "#create the set\n",
    "prunedList = set(myList)\n"
   ]
  },
  {
   "cell_type": "code",
   "execution_count": 12,
   "id": "0160ef59",
   "metadata": {},
   "outputs": [
    {
     "data": {
      "text/plain": [
       "[1, 1, 1, 1, 1, 2, 2, 2, 2, 2, 3, 3, 3]"
      ]
     },
     "execution_count": 12,
     "metadata": {},
     "output_type": "execute_result"
    }
   ],
   "source": [
    "myList"
   ]
  },
  {
   "cell_type": "code",
   "execution_count": 14,
   "id": "8d3903e7",
   "metadata": {},
   "outputs": [
    {
     "data": {
      "text/plain": [
       "{1, 2, 3}"
      ]
     },
     "execution_count": 14,
     "metadata": {},
     "output_type": "execute_result"
    }
   ],
   "source": [
    "prunedList"
   ]
  }
 ],
 "metadata": {
  "kernelspec": {
   "display_name": "Python 3 (ipykernel)",
   "language": "python",
   "name": "python3"
  },
  "language_info": {
   "codemirror_mode": {
    "name": "ipython",
    "version": 3
   },
   "file_extension": ".py",
   "mimetype": "text/x-python",
   "name": "python",
   "nbconvert_exporter": "python",
   "pygments_lexer": "ipython3",
   "version": "3.9.7"
  }
 },
 "nbformat": 4,
 "nbformat_minor": 5
}
