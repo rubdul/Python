{
 "cells": [
  {
   "cell_type": "code",
   "execution_count": 1,
   "id": "15e64f33",
   "metadata": {},
   "outputs": [],
   "source": [
    "# Using modulo logic wih functions\n",
    "def even_check(num):\n",
    "    return num % 2 == 0\n"
   ]
  },
  {
   "cell_type": "code",
   "execution_count": 3,
   "id": "50dec5e8",
   "metadata": {},
   "outputs": [
    {
     "data": {
      "text/plain": [
       "True"
      ]
     },
     "execution_count": 3,
     "metadata": {},
     "output_type": "execute_result"
    }
   ],
   "source": [
    "even_check(20)"
   ]
  },
  {
   "cell_type": "code",
   "execution_count": 5,
   "id": "78241bbe",
   "metadata": {},
   "outputs": [
    {
     "data": {
      "text/plain": [
       "False"
      ]
     },
     "execution_count": 5,
     "metadata": {},
     "output_type": "execute_result"
    }
   ],
   "source": [
    "even_check(17)"
   ]
  },
  {
   "cell_type": "code",
   "execution_count": null,
   "id": "23b9b1a3",
   "metadata": {},
   "outputs": [],
   "source": [
    "# return if any num is even in a list"
   ]
  },
  {
   "cell_type": "code",
   "execution_count": 15,
   "id": "cbff9495",
   "metadata": {},
   "outputs": [],
   "source": [
    "def check_even_list(num_list):\n",
    "    \n",
    "    for iter,number in enumerate (num_list):\n",
    "        if number % 2 == 0:\n",
    "            return True\n",
    "        else:\n",
    "            pass"
   ]
  },
  {
   "cell_type": "code",
   "execution_count": 16,
   "id": "a1d6a523",
   "metadata": {},
   "outputs": [
    {
     "data": {
      "text/plain": [
       "True"
      ]
     },
     "execution_count": 16,
     "metadata": {},
     "output_type": "execute_result"
    }
   ],
   "source": [
    "check_even_list([11,13,29,30,31])"
   ]
  },
  {
   "cell_type": "code",
   "execution_count": 24,
   "id": "d1726fe9",
   "metadata": {},
   "outputs": [],
   "source": [
    "# The function will always stop running when the return is called\n",
    "\n",
    "def even_list(ls):\n",
    "    \n",
    "    # Placeholder list\n",
    "    evens = []\n",
    "    \n",
    "    for num in ls:\n",
    "        \n",
    "        if num % 2 == 0:\n",
    "            evens.append(num)\n",
    "        else:\n",
    "            pass\n",
    "    \n",
    "    return(evens)\n"
   ]
  },
  {
   "cell_type": "code",
   "execution_count": 25,
   "id": "699a0c30",
   "metadata": {},
   "outputs": [
    {
     "data": {
      "text/plain": [
       "[2, 10, 20, 30]"
      ]
     },
     "execution_count": 25,
     "metadata": {},
     "output_type": "execute_result"
    }
   ],
   "source": [
    "even_list([1,2, 5, 7, 10, 20, 9, 30])"
   ]
  }
 ],
 "metadata": {
  "kernelspec": {
   "display_name": "Python 3 (ipykernel)",
   "language": "python",
   "name": "python3"
  },
  "language_info": {
   "codemirror_mode": {
    "name": "ipython",
    "version": 3
   },
   "file_extension": ".py",
   "mimetype": "text/x-python",
   "name": "python",
   "nbconvert_exporter": "python",
   "pygments_lexer": "ipython3",
   "version": "3.9.7"
  }
 },
 "nbformat": 4,
 "nbformat_minor": 5
}
