{
 "cells": [
  {
   "cell_type": "code",
   "execution_count": 1,
   "id": "0c243250",
   "metadata": {},
   "outputs": [],
   "source": [
    "# Example of fromatted string using the .Format method"
   ]
  },
  {
   "cell_type": "code",
   "execution_count": 7,
   "id": "fe77bf91",
   "metadata": {},
   "outputs": [
    {
     "name": "stdout",
     "output_type": "stream",
     "text": [
      "This is a string Inserted.\n"
     ]
    }
   ],
   "source": [
    "print('This is a string {}.' .format('Inserted'))"
   ]
  },
  {
   "cell_type": "code",
   "execution_count": null,
   "id": "0cfcd8d6",
   "metadata": {},
   "outputs": [],
   "source": [
    "# This is a longer .format method using string."
   ]
  },
  {
   "cell_type": "code",
   "execution_count": 3,
   "id": "50660d98",
   "metadata": {},
   "outputs": [
    {
     "name": "stdout",
     "output_type": "stream",
     "text": [
      "The fox brown quick.\n"
     ]
    }
   ],
   "source": [
    "print('The {} {} {}.' .format('fox','brown','quick'))"
   ]
  },
  {
   "cell_type": "code",
   "execution_count": null,
   "id": "bc18c926",
   "metadata": {},
   "outputs": [],
   "source": [
    "# Formatting and assignment with variables"
   ]
  },
  {
   "cell_type": "code",
   "execution_count": null,
   "id": "611c3deb",
   "metadata": {},
   "outputs": [],
   "source": [
    "print('The {} {} {}.' .format(f='fox',b='brown',q='quick'))"
   ]
  },
  {
   "cell_type": "code",
   "execution_count": null,
   "id": "fbbbbde6",
   "metadata": {},
   "outputs": [],
   "source": []
  }
 ],
 "metadata": {
  "kernelspec": {
   "display_name": "Python 3 (ipykernel)",
   "language": "python",
   "name": "python3"
  },
  "language_info": {
   "codemirror_mode": {
    "name": "ipython",
    "version": 3
   },
   "file_extension": ".py",
   "mimetype": "text/x-python",
   "name": "python",
   "nbconvert_exporter": "python",
   "pygments_lexer": "ipython3",
   "version": "3.9.7"
  }
 },
 "nbformat": 4,
 "nbformat_minor": 5
}
