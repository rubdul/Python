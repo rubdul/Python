{
 "cells": [
  {
   "cell_type": "code",
   "execution_count": 1,
   "id": "360cbcf2",
   "metadata": {},
   "outputs": [],
   "source": [
    "my_list = [1,2,3]"
   ]
  },
  {
   "cell_type": "code",
   "execution_count": 2,
   "id": "ca6cb59b",
   "metadata": {},
   "outputs": [
    {
     "data": {
      "text/plain": [
       "3"
      ]
     },
     "execution_count": 2,
     "metadata": {},
     "output_type": "execute_result"
    }
   ],
   "source": [
    "len(my_list)"
   ]
  },
  {
   "cell_type": "code",
   "execution_count": 3,
   "id": "d2725f78",
   "metadata": {},
   "outputs": [],
   "source": [
    "my_list = ['String',2,3]"
   ]
  },
  {
   "cell_type": "code",
   "execution_count": 9,
   "id": "21258c21",
   "metadata": {},
   "outputs": [
    {
     "data": {
      "text/plain": [
       "str"
      ]
     },
     "execution_count": 9,
     "metadata": {},
     "output_type": "execute_result"
    }
   ],
   "source": [
    "type(my_list[0])"
   ]
  },
  {
   "cell_type": "code",
   "execution_count": 11,
   "id": "5841f203",
   "metadata": {},
   "outputs": [],
   "source": [
    "my_list =[\"one\",\"two\",\"three\"]"
   ]
  },
  {
   "cell_type": "code",
   "execution_count": 13,
   "id": "655c77d0",
   "metadata": {},
   "outputs": [],
   "source": [
    "other_list = [\"four\",\"five\",\"six\"]"
   ]
  },
  {
   "cell_type": "code",
   "execution_count": 14,
   "id": "1f57b6d5",
   "metadata": {},
   "outputs": [],
   "source": [
    "combined_list = my_list + other_list"
   ]
  },
  {
   "cell_type": "markdown",
   "id": "781d5ed9",
   "metadata": {},
   "source": []
  },
  {
   "cell_type": "code",
   "execution_count": 16,
   "id": "7e3a482f",
   "metadata": {},
   "outputs": [
    {
     "data": {
      "text/plain": [
       "['one', 'two', 'three', 'four', 'five', 'six']"
      ]
     },
     "execution_count": 16,
     "metadata": {},
     "output_type": "execute_result"
    }
   ],
   "source": [
    "combined_list"
   ]
  },
  {
   "cell_type": "code",
   "execution_count": 17,
   "id": "f8d20946",
   "metadata": {},
   "outputs": [],
   "source": [
    "# lets transmute the first of the list indexes into all caps"
   ]
  },
  {
   "cell_type": "code",
   "execution_count": 32,
   "id": "1cebc271",
   "metadata": {},
   "outputs": [],
   "source": [
    "combined_list[0] = \"ONE IN ALL CAPS\""
   ]
  },
  {
   "cell_type": "code",
   "execution_count": 41,
   "id": "70f47308",
   "metadata": {},
   "outputs": [],
   "source": [
    "# Let's append to the list\n",
    "combined_list.append(\"eight\")"
   ]
  },
  {
   "cell_type": "code",
   "execution_count": 42,
   "id": "39fc836e",
   "metadata": {},
   "outputs": [
    {
     "data": {
      "text/plain": [
       "'eight'"
      ]
     },
     "execution_count": 42,
     "metadata": {},
     "output_type": "execute_result"
    }
   ],
   "source": [
    "# Now let's remove elements from the list using the pop command\n",
    "combined_list.pop()"
   ]
  },
  {
   "cell_type": "code",
   "execution_count": 48,
   "id": "7768a911",
   "metadata": {},
   "outputs": [],
   "source": [
    "# lets see if we can capitalize an element throught the upper command.\n",
    "combined_list[1] = combined_list[1].upper() # this works "
   ]
  },
  {
   "cell_type": "code",
   "execution_count": 49,
   "id": "f97880c2",
   "metadata": {},
   "outputs": [
    {
     "data": {
      "text/plain": [
       "['ONE IN ALL CAPS', 'TWO', 'three', 'four', 'five', 'six', 'seven']"
      ]
     },
     "execution_count": 49,
     "metadata": {},
     "output_type": "execute_result"
    }
   ],
   "source": [
    "combined_list"
   ]
  },
  {
   "cell_type": "code",
   "execution_count": 52,
   "id": "d268c838",
   "metadata": {},
   "outputs": [
    {
     "data": {
      "text/plain": [
       "'three'"
      ]
     },
     "execution_count": 52,
     "metadata": {},
     "output_type": "execute_result"
    }
   ],
   "source": [
    "# pop a specific index from the list\n",
    "\n",
    "combined_list.pop(2)\n"
   ]
  },
  {
   "cell_type": "code",
   "execution_count": 54,
   "id": "3286bd39",
   "metadata": {},
   "outputs": [
    {
     "data": {
      "text/plain": [
       "['ONE IN ALL CAPS', 'TWO', 'four', 'five', 'six', 'seven']"
      ]
     },
     "execution_count": 54,
     "metadata": {},
     "output_type": "execute_result"
    }
   ],
   "source": [
    "combined_list"
   ]
  },
  {
   "cell_type": "code",
   "execution_count": null,
   "id": "29bd6f56",
   "metadata": {},
   "outputs": [],
   "source": [
    "# Now lets practice  sorting a list "
   ]
  },
  {
   "cell_type": "code",
   "execution_count": 59,
   "id": "59070b7c",
   "metadata": {},
   "outputs": [],
   "source": [
    "my_list = [\"a\",\"e\" ,\"i\" ,\"x\" , \"o\", \"u\"]\n",
    "num_list = [3, 2, 4 ,5, 10, 220, 203, 80]"
   ]
  },
  {
   "cell_type": "code",
   "execution_count": 60,
   "id": "315e6e36",
   "metadata": {},
   "outputs": [],
   "source": [
    "my_list.sort()"
   ]
  },
  {
   "cell_type": "code",
   "execution_count": 61,
   "id": "d099b765",
   "metadata": {},
   "outputs": [
    {
     "data": {
      "text/plain": [
       "['a', 'e', 'i', 'o', 'u', 'x']"
      ]
     },
     "execution_count": 61,
     "metadata": {},
     "output_type": "execute_result"
    }
   ],
   "source": [
    "my_list"
   ]
  },
  {
   "cell_type": "code",
   "execution_count": 66,
   "id": "be09fdfe",
   "metadata": {},
   "outputs": [],
   "source": [
    "# To assign the sorted list to a new variable you need to sort it first in one line\n",
    "# and then assign the original list name to the new variable\n",
    "\n",
    "#example\n",
    "num_list.sort()\n",
    "\n",
    "sorted_num_list = num_list"
   ]
  },
  {
   "cell_type": "code",
   "execution_count": 68,
   "id": "718d26fe",
   "metadata": {},
   "outputs": [
    {
     "data": {
      "text/plain": [
       "[2, 3, 4, 5, 10, 80, 203, 220]"
      ]
     },
     "execution_count": 68,
     "metadata": {},
     "output_type": "execute_result"
    }
   ],
   "source": [
    "sorted_num_list"
   ]
  },
  {
   "cell_type": "code",
   "execution_count": 9,
   "id": "1c1282fe",
   "metadata": {},
   "outputs": [
    {
     "ename": "NameError",
     "evalue": "name 'num_list' is not defined",
     "output_type": "error",
     "traceback": [
      "\u001b[1;31m---------------------------------------------------------------------------\u001b[0m",
      "\u001b[1;31mNameError\u001b[0m                                 Traceback (most recent call last)",
      "\u001b[1;32mC:\\Users\\MICROS~1\\AppData\\Local\\Temp/ipykernel_10248/236400102.py\u001b[0m in \u001b[0;36m<module>\u001b[1;34m\u001b[0m\n\u001b[0;32m      1\u001b[0m \u001b[1;31m# now let's reverse the sort\u001b[0m\u001b[1;33m\u001b[0m\u001b[1;33m\u001b[0m\u001b[0m\n\u001b[1;32m----> 2\u001b[1;33m \u001b[0mnum_list\u001b[0m\u001b[1;33m.\u001b[0m\u001b[0mreverse\u001b[0m\u001b[1;33m(\u001b[0m\u001b[1;33m)\u001b[0m\u001b[1;33m\u001b[0m\u001b[1;33m\u001b[0m\u001b[0m\n\u001b[0m\u001b[0;32m      3\u001b[0m \u001b[0mnum_list\u001b[0m\u001b[1;33m\u001b[0m\u001b[1;33m\u001b[0m\u001b[0m\n",
      "\u001b[1;31mNameError\u001b[0m: name 'num_list' is not defined"
     ]
    }
   ],
   "source": [
    "# now let's reverse the sort\n",
    "num_list.reverse()\n",
    "num_list\n"
   ]
  },
  {
   "cell_type": "code",
   "execution_count": 20,
   "id": "3e5f0490",
   "metadata": {},
   "outputs": [],
   "source": [
    "def myfunc(word):\n",
    "    new_word = word[0].lower()\n",
    "    for num in range(1,len(word)):\n",
    "        if num%2 ==0:\n",
    "           new_word = new_word + word[num].lower()\n",
    "        else:\n",
    "            new_word = new_word + word[num].upper()\n",
    "    return new_word"
   ]
  },
  {
   "cell_type": "code",
   "execution_count": null,
   "id": "c0ae91e4",
   "metadata": {},
   "outputs": [],
   "source": []
  },
  {
   "cell_type": "code",
   "execution_count": 21,
   "id": "96dee118",
   "metadata": {},
   "outputs": [
    {
     "data": {
      "text/plain": [
       "'aPpLe'"
      ]
     },
     "execution_count": 21,
     "metadata": {},
     "output_type": "execute_result"
    }
   ],
   "source": [
    "myfunc('apple')"
   ]
  }
 ],
 "metadata": {
  "kernelspec": {
   "display_name": "Python 3 (ipykernel)",
   "language": "python",
   "name": "python3"
  },
  "language_info": {
   "codemirror_mode": {
    "name": "ipython",
    "version": 3
   },
   "file_extension": ".py",
   "mimetype": "text/x-python",
   "name": "python",
   "nbconvert_exporter": "python",
   "pygments_lexer": "ipython3",
   "version": "3.9.7"
  }
 },
 "nbformat": 4,
 "nbformat_minor": 5
}
