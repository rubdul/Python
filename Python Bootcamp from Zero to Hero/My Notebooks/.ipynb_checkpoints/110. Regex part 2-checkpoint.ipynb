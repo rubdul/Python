{
 "cells": [
  {
   "cell_type": "code",
   "execution_count": 5,
   "id": "46d46ca6",
   "metadata": {},
   "outputs": [],
   "source": [
    "text = 'my phone number is 408-555-1234'"
   ]
  },
  {
   "cell_type": "code",
   "execution_count": 6,
   "id": "a59fa3d3",
   "metadata": {},
   "outputs": [],
   "source": [
    "import re"
   ]
  },
  {
   "cell_type": "code",
   "execution_count": null,
   "id": "8f0008f4",
   "metadata": {},
   "outputs": [],
   "source": [
    "# use regular expression characters for match findings"
   ]
  },
  {
   "cell_type": "code",
   "execution_count": 8,
   "id": "dce5256c",
   "metadata": {},
   "outputs": [],
   "source": [
    "# \\d for digit\n",
    "\n",
    "phone = re.search(r'\\d\\d\\d-\\d\\d\\d-\\d\\d\\d\\d',text)"
   ]
  },
  {
   "cell_type": "code",
   "execution_count": 14,
   "id": "8564779d",
   "metadata": {},
   "outputs": [
    {
     "data": {
      "text/plain": [
       "'408-555-1234'"
      ]
     },
     "execution_count": 14,
     "metadata": {},
     "output_type": "execute_result"
    }
   ],
   "source": [
    "phone.group()"
   ]
  },
  {
   "cell_type": "code",
   "execution_count": 17,
   "id": "e59ec653",
   "metadata": {},
   "outputs": [],
   "source": [
    "# \\w for alpha numeric\n",
    "\n",
    "alpha = re.search(r'\\w\\w\\w-\\w\\w\\w-\\w\\w\\w\\w',text)"
   ]
  },
  {
   "cell_type": "code",
   "execution_count": 18,
   "id": "588c7668",
   "metadata": {},
   "outputs": [
    {
     "data": {
      "text/plain": [
       "<re.Match object; span=(19, 31), match='408-555-1234'>"
      ]
     },
     "execution_count": 18,
     "metadata": {},
     "output_type": "execute_result"
    }
   ],
   "source": [
    "alpha"
   ]
  },
  {
   "cell_type": "code",
   "execution_count": 20,
   "id": "9d34b480",
   "metadata": {},
   "outputs": [],
   "source": [
    "# \\s for whitespace\n",
    "\n",
    "white = re.search(r'\\s',text)"
   ]
  },
  {
   "cell_type": "code",
   "execution_count": 21,
   "id": "8391ec6e",
   "metadata": {},
   "outputs": [
    {
     "data": {
      "text/plain": [
       "<re.Match object; span=(2, 3), match=' '>"
      ]
     },
     "execution_count": 21,
     "metadata": {},
     "output_type": "execute_result"
    }
   ],
   "source": [
    "white"
   ]
  },
  {
   "cell_type": "code",
   "execution_count": 22,
   "id": "c1719ecf",
   "metadata": {},
   "outputs": [],
   "source": [
    "# \\D for nondigit\n",
    "non_dig =  re.search(r'\\D',text)"
   ]
  },
  {
   "cell_type": "code",
   "execution_count": 25,
   "id": "54509954",
   "metadata": {},
   "outputs": [
    {
     "data": {
      "text/plain": [
       "<re.Match object; span=(0, 1), match='m'>"
      ]
     },
     "execution_count": 25,
     "metadata": {},
     "output_type": "execute_result"
    }
   ],
   "source": [
    "non_dig"
   ]
  },
  {
   "cell_type": "code",
   "execution_count": 26,
   "id": "ac5212d6",
   "metadata": {},
   "outputs": [],
   "source": [
    "# \\S for non whitespace\n",
    "non_white =  re.search(r'\\S',text)"
   ]
  },
  {
   "cell_type": "code",
   "execution_count": 29,
   "id": "041bffeb",
   "metadata": {},
   "outputs": [
    {
     "data": {
      "text/plain": [
       "<re.Match object; span=(0, 1), match='m'>"
      ]
     },
     "execution_count": 29,
     "metadata": {},
     "output_type": "execute_result"
    }
   ],
   "source": [
    "non_white"
   ]
  },
  {
   "cell_type": "code",
   "execution_count": null,
   "id": "5e12edc2",
   "metadata": {},
   "outputs": [],
   "source": []
  },
  {
   "cell_type": "markdown",
   "id": "e3c33541",
   "metadata": {},
   "source": [
    "### Quantifiers\n",
    "These are made for when you want something to be found in a recurring pattern"
   ]
  },
  {
   "cell_type": "code",
   "execution_count": 34,
   "id": "593665ad",
   "metadata": {},
   "outputs": [],
   "source": [
    "# + one or more times\n",
    "w_plus = re.search(r'\\w+ \\w+',text)"
   ]
  },
  {
   "cell_type": "code",
   "execution_count": 35,
   "id": "f9b66b70",
   "metadata": {},
   "outputs": [
    {
     "data": {
      "text/plain": [
       "<re.Match object; span=(0, 8), match='my phone'>"
      ]
     },
     "execution_count": 35,
     "metadata": {},
     "output_type": "execute_result"
    }
   ],
   "source": [
    "w_plus"
   ]
  },
  {
   "cell_type": "code",
   "execution_count": 61,
   "id": "6d6bfb81",
   "metadata": {},
   "outputs": [],
   "source": [
    "# {n} occurs exactly n times\n",
    "# {n1, n2} occurs between n1 and n2 times\n",
    "# {n3,} occurs n3 or more times\n",
    "\n",
    "alpha_many = re.search(r'\\w{1,10}', text)"
   ]
  },
  {
   "cell_type": "code",
   "execution_count": 62,
   "id": "1aa0877f",
   "metadata": {},
   "outputs": [
    {
     "data": {
      "text/plain": [
       "<re.Match object; span=(0, 2), match='my'>"
      ]
     },
     "execution_count": 62,
     "metadata": {},
     "output_type": "execute_result"
    }
   ],
   "source": [
    "alpha_many"
   ]
  },
  {
   "cell_type": "code",
   "execution_count": 89,
   "id": "2a1ca102",
   "metadata": {},
   "outputs": [],
   "source": [
    "# \\* occurs zero or more times\n",
    "# ? occurs once or none\n",
    "\n",
    "occur_once = re.search(r'phones?',text)\n",
    "occur_star = re.search(r'\\w* \\s* ',text)\n"
   ]
  },
  {
   "cell_type": "code",
   "execution_count": 90,
   "id": "f77f210f",
   "metadata": {},
   "outputs": [
    {
     "data": {
      "text/plain": [
       "<re.Match object; span=(3, 8), match='phone'>"
      ]
     },
     "execution_count": 90,
     "metadata": {},
     "output_type": "execute_result"
    }
   ],
   "source": [
    "occur_once"
   ]
  },
  {
   "cell_type": "code",
   "execution_count": 78,
   "id": "d104f71d",
   "metadata": {},
   "outputs": [
    {
     "data": {
      "text/plain": [
       "<re.Match object; span=(0, 8), match='my phone'>"
      ]
     },
     "execution_count": 78,
     "metadata": {},
     "output_type": "execute_result"
    }
   ],
   "source": [
    "occur_star"
   ]
  },
  {
   "cell_type": "code",
   "execution_count": 95,
   "id": "7c4737fe",
   "metadata": {},
   "outputs": [],
   "source": [
    "# You can use re.compile to group multiple patterns together."
   ]
  },
  {
   "cell_type": "code",
   "execution_count": 97,
   "id": "766a6813",
   "metadata": {},
   "outputs": [],
   "source": [
    "phone_pattern =  re.compile(r'(\\d{3})-(\\d{3})-(\\d{4})')"
   ]
  },
  {
   "cell_type": "code",
   "execution_count": 98,
   "id": "83944c31",
   "metadata": {},
   "outputs": [],
   "source": [
    "phone_number = re.search(phone_pattern,text)"
   ]
  },
  {
   "cell_type": "code",
   "execution_count": 106,
   "id": "61f2af1c",
   "metadata": {},
   "outputs": [
    {
     "data": {
      "text/plain": [
       "['408', '555', '1234']"
      ]
     },
     "execution_count": 106,
     "metadata": {},
     "output_type": "execute_result"
    }
   ],
   "source": [
    "list(phone_number.group(1,2,3))"
   ]
  },
  {
   "cell_type": "code",
   "execution_count": null,
   "id": "da4eba11",
   "metadata": {},
   "outputs": [],
   "source": []
  },
  {
   "cell_type": "code",
   "execution_count": null,
   "id": "7df847e7",
   "metadata": {},
   "outputs": [],
   "source": []
  }
 ],
 "metadata": {
  "kernelspec": {
   "display_name": "Python 3 (ipykernel)",
   "language": "python",
   "name": "python3"
  },
  "language_info": {
   "codemirror_mode": {
    "name": "ipython",
    "version": 3
   },
   "file_extension": ".py",
   "mimetype": "text/x-python",
   "name": "python",
   "nbconvert_exporter": "python",
   "pygments_lexer": "ipython3",
   "version": "3.9.7"
  }
 },
 "nbformat": 4,
 "nbformat_minor": 5
}
