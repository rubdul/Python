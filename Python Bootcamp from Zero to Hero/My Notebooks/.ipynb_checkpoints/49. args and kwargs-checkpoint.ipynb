{
 "cells": [
  {
   "cell_type": "code",
   "execution_count": 11,
   "id": "7f65cf11",
   "metadata": {},
   "outputs": [],
   "source": [
    "# You can set up default argument than can be overwritten at run time\n",
    "\n",
    "def myfunc(a,b,c=0,d=0,e=0):\n",
    "    # returns 5% of the sum of a and b\n",
    "    return sum((a,b,c,d,e))*0.05"
   ]
  },
  {
   "cell_type": "code",
   "execution_count": 14,
   "id": "e588c7ed",
   "metadata": {},
   "outputs": [
    {
     "data": {
      "text/plain": [
       "15.0"
      ]
     },
     "execution_count": 14,
     "metadata": {},
     "output_type": "execute_result"
    }
   ],
   "source": [
    "myfunc(40,60) # if the args are not input the default variables the function can still run "
   ]
  },
  {
   "cell_type": "code",
   "execution_count": 15,
   "id": "024e77c2",
   "metadata": {},
   "outputs": [],
   "source": [
    "# a function can make use of the *args keyword for an arbitrary amount of arguments"
   ]
  },
  {
   "cell_type": "code",
   "execution_count": 20,
   "id": "08871fd0",
   "metadata": {},
   "outputs": [],
   "source": [
    "def func(*args):\n",
    "    return sum((args)) * 0.05\n",
    "\n",
    "# remember the * operater makes a tupple of args."
   ]
  },
  {
   "cell_type": "code",
   "execution_count": 22,
   "id": "511950eb",
   "metadata": {},
   "outputs": [
    {
     "data": {
      "text/plain": [
       "50.0"
      ]
     },
     "execution_count": 22,
     "metadata": {},
     "output_type": "execute_result"
    }
   ],
   "source": [
    "func(100,200,300,400)"
   ]
  },
  {
   "cell_type": "code",
   "execution_count": null,
   "id": "47e98a93",
   "metadata": {},
   "outputs": [],
   "source": [
    "# We can use **kwargs to instead store arguments in a dictionary of key value pairs."
   ]
  },
  {
   "cell_type": "code",
   "execution_count": 25,
   "id": "0bfe0b76",
   "metadata": {},
   "outputs": [],
   "source": [
    "def printer(**kwargs):\n",
    "    if 'fruit' in kwargs:\n",
    "        print(\"My fruit of choice is {}\".format(kwargs['fruit']))\n",
    "    else:\n",
    "        print(\"No fruit found\")\n",
    "        "
   ]
  },
  {
   "cell_type": "code",
   "execution_count": 31,
   "id": "0a72ffd0",
   "metadata": {},
   "outputs": [
    {
     "name": "stdout",
     "output_type": "stream",
     "text": [
      "My fruit of choice is apple or fig\n"
     ]
    }
   ],
   "source": [
    "printer(fruit='apple or fig',sugar='white')"
   ]
  },
  {
   "cell_type": "code",
   "execution_count": null,
   "id": "d7c75fb3",
   "metadata": {},
   "outputs": [],
   "source": [
    "# now Lets try mixing *args and **kwargs"
   ]
  },
  {
   "cell_type": "code",
   "execution_count": 32,
   "id": "099073b3",
   "metadata": {},
   "outputs": [],
   "source": [
    "def argYkwarg(*args,**kwargs):\n",
    "    print (kwargs)\n",
    "    print (args)\n",
    "    print (\"I would like to print argument {} and key word argument {}.\".format(args[0],kwargs[\"food\"]))"
   ]
  },
  {
   "cell_type": "code",
   "execution_count": 33,
   "id": "2ace6263",
   "metadata": {},
   "outputs": [
    {
     "name": "stdout",
     "output_type": "stream",
     "text": [
      "{'hotel': 'trivago', 'ice': 'Spelunky Cave', 'food': 'lasagna'}\n",
      "(1, 2, 3, 4)\n",
      "I would like to print argument 1 and key word argument lasagna.\n"
     ]
    }
   ],
   "source": [
    "argYkwarg(1,2,3,4,hotel = \"trivago\", ice = \"Spelunky Cave\", food = \"lasagna\")\n",
    "    "
   ]
  },
  {
   "cell_type": "code",
   "execution_count": null,
   "id": "83a901b4",
   "metadata": {},
   "outputs": [],
   "source": []
  }
 ],
 "metadata": {
  "kernelspec": {
   "display_name": "Python 3 (ipykernel)",
   "language": "python",
   "name": "python3"
  },
  "language_info": {
   "codemirror_mode": {
    "name": "ipython",
    "version": 3
   },
   "file_extension": ".py",
   "mimetype": "text/x-python",
   "name": "python",
   "nbconvert_exporter": "python",
   "pygments_lexer": "ipython3",
   "version": "3.9.7"
  }
 },
 "nbformat": 4,
 "nbformat_minor": 5
}
