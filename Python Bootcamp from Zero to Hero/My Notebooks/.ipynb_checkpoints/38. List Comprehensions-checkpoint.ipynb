{
 "cells": [
  {
   "cell_type": "code",
   "execution_count": 6,
   "id": "0a470a09",
   "metadata": {},
   "outputs": [],
   "source": [
    "# You can make a for loop iterate like this \n",
    "mystring  = 'hello'\n",
    "\n"
   ]
  },
  {
   "cell_type": "code",
   "execution_count": 8,
   "id": "426b838f",
   "metadata": {},
   "outputs": [
    {
     "name": "stdout",
     "output_type": "stream",
     "text": [
      "['h', 'e', 'l', 'l', 'o']\n"
     ]
    }
   ],
   "source": [
    "\n",
    "mylist = []\n",
    "\n",
    "for letter in mystring:\n",
    "    mylist.append(letter)\n",
    "\n",
    "print (mylist)"
   ]
  },
  {
   "cell_type": "code",
   "execution_count": null,
   "id": "2a3c7c3a",
   "metadata": {},
   "outputs": [],
   "source": [
    "# Or you can do it ike this using list comprehension"
   ]
  },
  {
   "cell_type": "code",
   "execution_count": 12,
   "id": "c5bf08d9",
   "metadata": {},
   "outputs": [
    {
     "name": "stdout",
     "output_type": "stream",
     "text": [
      "['h', 'e', 'l', 'l', 'o']\n"
     ]
    }
   ],
   "source": [
    "mylist = [letter for letter in mystring ]\n",
    "\n",
    "print(mylist)"
   ]
  },
  {
   "cell_type": "code",
   "execution_count": null,
   "id": "5d2793f7",
   "metadata": {},
   "outputs": [],
   "source": [
    "# It also can be used for numberical lists"
   ]
  },
  {
   "cell_type": "code",
   "execution_count": 19,
   "id": "00bd7c46",
   "metadata": {},
   "outputs": [
    {
     "name": "stdout",
     "output_type": "stream",
     "text": [
      "[1, 2, 3, 4, 5, 6, 7, 8, 9, 10]\n"
     ]
    }
   ],
   "source": [
    "mylist = [x for x in range(1,11)]\n",
    "\n",
    "print(mylist)"
   ]
  },
  {
   "cell_type": "code",
   "execution_count": 20,
   "id": "4296e29e",
   "metadata": {},
   "outputs": [
    {
     "name": "stdout",
     "output_type": "stream",
     "text": [
      "[1, 4, 9, 16, 25, 36, 49, 64, 81, 100]\n"
     ]
    }
   ],
   "source": [
    "# you can also perform numerical operations while in the list\n",
    "\n",
    "# lets square x\n",
    "mylist = [x**2 for x in range(1,11)]\n",
    "print(mylist)"
   ]
  },
  {
   "cell_type": "code",
   "execution_count": 25,
   "id": "674c5bff",
   "metadata": {},
   "outputs": [
    {
     "name": "stdout",
     "output_type": "stream",
     "text": [
      "[4, 8, 12, 16, 20]\n"
     ]
    }
   ],
   "source": [
    "# we can also filter out which values of x we want\n",
    "\n",
    "# lets do this for only even values\n",
    "mylist = [x*2 for x in range(1,11) if x%2==0]\n",
    "print(mylist)"
   ]
  },
  {
   "cell_type": "code",
   "execution_count": 26,
   "id": "7a8aedba",
   "metadata": {},
   "outputs": [
    {
     "data": {
      "text/plain": [
       "[32.0, 50.0, 68.0, 86.0, 104.0, 122.0]"
      ]
     },
     "execution_count": 26,
     "metadata": {},
     "output_type": "execute_result"
    }
   ],
   "source": [
    "# lets try this with a mathematical or scientific relationship\n",
    "celsius = [0, 10, 20, 30, 40, 50]\n",
    "\n",
    "fahrenheit = [((9/5)*temp +32) for temp in celsius]\n",
    "fahrenheit"
   ]
  },
  {
   "cell_type": "code",
   "execution_count": 30,
   "id": "10984242",
   "metadata": {},
   "outputs": [
    {
     "data": {
      "text/plain": [
       "['odd', 4, 'odd', 8, 'odd', 12, 'odd', 16, 'odd', 20]"
      ]
     },
     "execution_count": 30,
     "metadata": {},
     "output_type": "execute_result"
    }
   ],
   "source": [
    "# We can also if and else statements in them but it is too cumbersome to be viable\n",
    "mylist =  [ x*2 if x%2==0 else 'odd' for x in range(1,11)]\n",
    "mylist\n"
   ]
  },
  {
   "cell_type": "code",
   "execution_count": 33,
   "id": "a932a287",
   "metadata": {},
   "outputs": [
    {
     "data": {
      "text/plain": [
       "[100, 200, 300, 200, 400, 600, 300, 600, 900]"
      ]
     },
     "execution_count": 33,
     "metadata": {},
     "output_type": "execute_result"
    }
   ],
   "source": [
    "# Nested loops inside the comprehension scope\n",
    "mylist = [x*y for x in [1, 2, 3] for y in [100, 200, 300] ]\n",
    "mylist"
   ]
  },
  {
   "cell_type": "code",
   "execution_count": null,
   "id": "94778b9f",
   "metadata": {},
   "outputs": [],
   "source": []
  }
 ],
 "metadata": {
  "kernelspec": {
   "display_name": "Python 3 (ipykernel)",
   "language": "python",
   "name": "python3"
  },
  "language_info": {
   "codemirror_mode": {
    "name": "ipython",
    "version": 3
   },
   "file_extension": ".py",
   "mimetype": "text/x-python",
   "name": "python",
   "nbconvert_exporter": "python",
   "pygments_lexer": "ipython3",
   "version": "3.9.7"
  }
 },
 "nbformat": 4,
 "nbformat_minor": 5
}
