{
 "cells": [
  {
   "cell_type": "code",
   "execution_count": 2,
   "id": "163cd50a",
   "metadata": {},
   "outputs": [],
   "source": [
    "import re"
   ]
  },
  {
   "cell_type": "code",
   "execution_count": null,
   "id": "00b9e5d0",
   "metadata": {},
   "outputs": [],
   "source": [
    "# You can place an or condition into a regex statement"
   ]
  },
  {
   "cell_type": "code",
   "execution_count": 43,
   "id": "d773ccf4",
   "metadata": {},
   "outputs": [],
   "source": [
    "c_or_d = re.findall('cat|dog', 'The dog and cat is here')"
   ]
  },
  {
   "cell_type": "code",
   "execution_count": 8,
   "id": "4889b201",
   "metadata": {},
   "outputs": [
    {
     "data": {
      "text/plain": [
       "['dog', 'cat']"
      ]
     },
     "execution_count": 8,
     "metadata": {},
     "output_type": "execute_result"
    }
   ],
   "source": [
    "c_or_d"
   ]
  },
  {
   "cell_type": "code",
   "execution_count": null,
   "id": "b9dabb8c",
   "metadata": {},
   "outputs": [],
   "source": [
    "# You can also search up multiple parts at once using wildcard operator"
   ]
  },
  {
   "cell_type": "code",
   "execution_count": 11,
   "id": "40040391",
   "metadata": {},
   "outputs": [
    {
     "data": {
      "text/plain": [
       "['cat', 'hat', 'hat']"
      ]
     },
     "execution_count": 11,
     "metadata": {},
     "output_type": "execute_result"
    }
   ],
   "source": [
    "re.findall(r'.at', 'The cat in the hat knows all about that')"
   ]
  },
  {
   "cell_type": "code",
   "execution_count": 35,
   "id": "6091834a",
   "metadata": {},
   "outputs": [
    {
     "data": {
      "text/plain": [
       "[]"
      ]
     },
     "execution_count": 35,
     "metadata": {},
     "output_type": "execute_result"
    }
   ],
   "source": [
    "# use ^  for starts with \n",
    "# $ ends with \n",
    "re.findall(r'$\\d','the number 4is ')"
   ]
  },
  {
   "cell_type": "code",
   "execution_count": 25,
   "id": "930cbe9a",
   "metadata": {},
   "outputs": [],
   "source": [
    "# you can use [^] to exclude characters as well"
   ]
  },
  {
   "cell_type": "code",
   "execution_count": 26,
   "id": "5d9dfa25",
   "metadata": {},
   "outputs": [],
   "source": [
    "phrase = 'there are 3 numbers 34 inside this 5 sentence.'"
   ]
  },
  {
   "cell_type": "code",
   "execution_count": 38,
   "id": "2de1cd97",
   "metadata": {},
   "outputs": [
    {
     "data": {
      "text/plain": [
       "'[^\\\\d]+'"
      ]
     },
     "execution_count": 38,
     "metadata": {},
     "output_type": "execute_result"
    }
   ],
   "source": [
    "pattern = r'[^\\d]+'\n",
    "pattern"
   ]
  },
  {
   "cell_type": "code",
   "execution_count": 39,
   "id": "e2644c2d",
   "metadata": {},
   "outputs": [
    {
     "data": {
      "text/plain": [
       "['there are ', ' numbers ', ' inside this ', ' sentence.']"
      ]
     },
     "execution_count": 39,
     "metadata": {},
     "output_type": "execute_result"
    }
   ],
   "source": [
    "re.findall(pattern,phrase)"
   ]
  },
  {
   "cell_type": "code",
   "execution_count": null,
   "id": "805efc7d",
   "metadata": {},
   "outputs": [],
   "source": [
    "# What if we want to eliminate punctuation"
   ]
  },
  {
   "cell_type": "code",
   "execution_count": 40,
   "id": "91180e8a",
   "metadata": {},
   "outputs": [],
   "source": [
    "test_phrase = 'This is a string! But it has punctuation. How can we remove it?'"
   ]
  },
  {
   "cell_type": "code",
   "execution_count": 47,
   "id": "16bb6588",
   "metadata": {},
   "outputs": [
    {
     "data": {
      "text/plain": [
       "['This is a string', ' But it has punctuation', ' How can we remove it']"
      ]
     },
     "execution_count": 47,
     "metadata": {},
     "output_type": "execute_result"
    }
   ],
   "source": [
    "re.findall(r'[^!?.]+',test_phrase)"
   ]
  },
  {
   "cell_type": "code",
   "execution_count": 48,
   "id": "eee4a79b",
   "metadata": {},
   "outputs": [],
   "source": [
    "clean = re.findall(r'[^!?.]+',test_phrase)"
   ]
  },
  {
   "cell_type": "code",
   "execution_count": 55,
   "id": "b9cdd97c",
   "metadata": {},
   "outputs": [
    {
     "data": {
      "text/plain": [
       "'This is a string But it has punctuation How can we remove it'"
      ]
     },
     "execution_count": 55,
     "metadata": {},
     "output_type": "execute_result"
    }
   ],
   "source": [
    "# use the .join() method to compine all the strings\n",
    "''.join(clean)"
   ]
  },
  {
   "cell_type": "code",
   "execution_count": null,
   "id": "c3ad49c3",
   "metadata": {},
   "outputs": [],
   "source": [
    "# You can also group prefixes and potential suffixes with parenthesis"
   ]
  },
  {
   "cell_type": "code",
   "execution_count": 56,
   "id": "f8a77847",
   "metadata": {},
   "outputs": [],
   "source": [
    "text = 'Hello would you like some catfish?'\n",
    "texttwo = 'Hello would you like to take a catnap?'\n",
    "texthree = 'Have you seen this caterpillar?'"
   ]
  },
  {
   "cell_type": "code",
   "execution_count": 63,
   "id": "8261310d",
   "metadata": {},
   "outputs": [
    {
     "data": {
      "text/plain": [
       "<re.Match object; span=(31, 37), match='catnap'>"
      ]
     },
     "execution_count": 63,
     "metadata": {},
     "output_type": "execute_result"
    }
   ],
   "source": [
    "re.search(r'cat(fish|nap|terpillar)',texttwo)"
   ]
  },
  {
   "cell_type": "code",
   "execution_count": null,
   "id": "c790068d",
   "metadata": {},
   "outputs": [],
   "source": []
  },
  {
   "cell_type": "code",
   "execution_count": null,
   "id": "8b2638ee",
   "metadata": {},
   "outputs": [],
   "source": []
  }
 ],
 "metadata": {
  "kernelspec": {
   "display_name": "Python 3 (ipykernel)",
   "language": "python",
   "name": "python3"
  },
  "language_info": {
   "codemirror_mode": {
    "name": "ipython",
    "version": 3
   },
   "file_extension": ".py",
   "mimetype": "text/x-python",
   "name": "python",
   "nbconvert_exporter": "python",
   "pygments_lexer": "ipython3",
   "version": "3.9.7"
  }
 },
 "nbformat": 4,
 "nbformat_minor": 5
}
