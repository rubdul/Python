{
 "cells": [
  {
   "cell_type": "code",
   "execution_count": 5,
   "id": "82a89084",
   "metadata": {},
   "outputs": [
    {
     "name": "stdout",
     "output_type": "stream",
     "text": [
      "The current value of x is 0\n",
      "The current value of x is 1\n",
      "The current value of x is 2\n",
      "The current value of x is 3\n",
      "The current value of x is 4\n",
      "x is now greater than 5\n"
     ]
    }
   ],
   "source": [
    "# first while loop practice\n",
    "\n",
    "x = 0\n",
    "while x < 5:\n",
    "    print(f'The current value of x is {x}')\n",
    "    x = x + 1\n",
    "else:\n",
    "    print('x is now greater than 5')\n",
    "\n"
   ]
  },
  {
   "cell_type": "code",
   "execution_count": 8,
   "id": "2ec88719",
   "metadata": {},
   "outputs": [
    {
     "name": "stdout",
     "output_type": "stream",
     "text": [
      "1\n",
      "2\n",
      "4\n",
      "5\n"
     ]
    }
   ],
   "source": [
    "# practice using the continue statement to go to the top of the closest enclosing loop\n",
    "\n",
    "l = [1,2,3,4,5]\n",
    "\n",
    "for num in l:\n",
    "    if num == 3:\n",
    "        continue\n",
    "    print(num)\n",
    "    "
   ]
  },
  {
   "cell_type": "code",
   "execution_count": 10,
   "id": "75563813",
   "metadata": {},
   "outputs": [
    {
     "name": "stdout",
     "output_type": "stream",
     "text": [
      "0\n",
      "1\n",
      "2\n"
     ]
    }
   ],
   "source": [
    "# practice using break to escape the closest enclosing loop\n",
    "n = 0\n",
    "while n<5:\n",
    "    if n==3:\n",
    "        break\n",
    "    print(n)\n",
    "    n +=1"
   ]
  },
  {
   "cell_type": "code",
   "execution_count": 17,
   "id": "7a558fe9",
   "metadata": {},
   "outputs": [
    {
     "data": {
      "text/plain": [
       "5"
      ]
     },
     "execution_count": 17,
     "metadata": {},
     "output_type": "execute_result"
    }
   ],
   "source": [
    "sign = 1\n",
    "sign += 4\n",
    "sign"
   ]
  },
  {
   "cell_type": "code",
   "execution_count": null,
   "id": "effcf35d",
   "metadata": {},
   "outputs": [],
   "source": []
  }
 ],
 "metadata": {
  "kernelspec": {
   "display_name": "Python 3 (ipykernel)",
   "language": "python",
   "name": "python3"
  },
  "language_info": {
   "codemirror_mode": {
    "name": "ipython",
    "version": 3
   },
   "file_extension": ".py",
   "mimetype": "text/x-python",
   "name": "python",
   "nbconvert_exporter": "python",
   "pygments_lexer": "ipython3",
   "version": "3.9.7"
  }
 },
 "nbformat": 4,
 "nbformat_minor": 5
}
