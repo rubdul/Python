{
 "cells": [
  {
   "cell_type": "code",
   "execution_count": 5,
   "id": "d3d164e8",
   "metadata": {},
   "outputs": [],
   "source": [
    "# lets make a functio called say hello\n",
    "def say_hello():\n",
    "    print('hello')"
   ]
  },
  {
   "cell_type": "code",
   "execution_count": 6,
   "id": "4d7278e3",
   "metadata": {},
   "outputs": [
    {
     "name": "stdout",
     "output_type": "stream",
     "text": [
      "hello\n"
     ]
    }
   ],
   "source": [
    "# you need the paranthesis at the end to run the function\n",
    "say_hello()"
   ]
  },
  {
   "cell_type": "code",
   "execution_count": 10,
   "id": "59c780d0",
   "metadata": {},
   "outputs": [],
   "source": [
    "# You can also assign run parameters to your function\n",
    "def say_hello(name):\n",
    "    print('hello ' + name)"
   ]
  },
  {
   "cell_type": "code",
   "execution_count": 11,
   "id": "c65f7cc3",
   "metadata": {},
   "outputs": [
    {
     "name": "stdout",
     "output_type": "stream",
     "text": [
      "hello Guy\n"
     ]
    }
   ],
   "source": [
    "# If you call the function you do need the parameter entered\n",
    "# or it wont work\n",
    "say_hello('Guy')\n"
   ]
  },
  {
   "cell_type": "code",
   "execution_count": 13,
   "id": "9e43961b",
   "metadata": {},
   "outputs": [],
   "source": [
    "# use the Default key word to prevent the function from not working\n",
    "def say_hello(name= 'Default'):\n",
    "    print('Hello ' + name)"
   ]
  },
  {
   "cell_type": "code",
   "execution_count": 15,
   "id": "6e145c1d",
   "metadata": {},
   "outputs": [
    {
     "name": "stdout",
     "output_type": "stream",
     "text": [
      "hello Default\n"
     ]
    }
   ],
   "source": [
    "say_hello()"
   ]
  },
  {
   "cell_type": "code",
   "execution_count": 16,
   "id": "d2f0c0fb",
   "metadata": {},
   "outputs": [],
   "source": [
    "# Let's use the return key word\n",
    "def add_num(num1,num2):\n",
    "    return num1+num2"
   ]
  },
  {
   "cell_type": "code",
   "execution_count": 19,
   "id": "c7bed749",
   "metadata": {},
   "outputs": [
    {
     "name": "stdout",
     "output_type": "stream",
     "text": [
      "6\n"
     ]
    }
   ],
   "source": [
    "result =  add_num(2,4)\n",
    "print(result)"
   ]
  },
  {
   "cell_type": "code",
   "execution_count": 21,
   "id": "b72fa90f",
   "metadata": {},
   "outputs": [],
   "source": [
    "# We can also have a function return and print in the same line\n",
    "def num_sum(a,b):\n",
    "    print(a+b)\n",
    "    return a+b"
   ]
  },
  {
   "cell_type": "code",
   "execution_count": 25,
   "id": "80706f0f",
   "metadata": {},
   "outputs": [
    {
     "name": "stdout",
     "output_type": "stream",
     "text": [
      "8\n"
     ]
    }
   ],
   "source": [
    "result = num_sum(1,7)"
   ]
  },
  {
   "cell_type": "code",
   "execution_count": 26,
   "id": "2c57e4f2",
   "metadata": {},
   "outputs": [
    {
     "data": {
      "text/plain": [
       "8"
      ]
     },
     "execution_count": 26,
     "metadata": {},
     "output_type": "execute_result"
    }
   ],
   "source": [
    "result"
   ]
  }
 ],
 "metadata": {
  "kernelspec": {
   "display_name": "Python 3 (ipykernel)",
   "language": "python",
   "name": "python3"
  },
  "language_info": {
   "codemirror_mode": {
    "name": "ipython",
    "version": 3
   },
   "file_extension": ".py",
   "mimetype": "text/x-python",
   "name": "python",
   "nbconvert_exporter": "python",
   "pygments_lexer": "ipython3",
   "version": "3.9.7"
  }
 },
 "nbformat": 4,
 "nbformat_minor": 5
}
