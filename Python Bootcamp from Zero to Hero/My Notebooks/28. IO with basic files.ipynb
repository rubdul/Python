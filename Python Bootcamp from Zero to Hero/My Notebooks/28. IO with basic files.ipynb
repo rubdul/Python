{
 "cells": [
  {
   "cell_type": "code",
   "execution_count": null,
   "id": "208a7000",
   "metadata": {},
   "outputs": [],
   "source": [
    "# warning the jupiter magic command must come first even before comments at the top of code line."
   ]
  },
  {
   "cell_type": "code",
   "execution_count": 17,
   "id": "69abf0f9",
   "metadata": {},
   "outputs": [
    {
     "name": "stdout",
     "output_type": "stream",
     "text": [
      "Overwriting myfile.txt\n"
     ]
    }
   ],
   "source": [
    "%%writefile myfile.txt\n",
    "Hello this is a text file\n",
    "this is the second line\n",
    "this is the third line"
   ]
  },
  {
   "cell_type": "code",
   "execution_count": 18,
   "id": "315a5573",
   "metadata": {},
   "outputs": [],
   "source": [
    "# assign the file\n",
    "myfile = open('myfile.txt')"
   ]
  },
  {
   "cell_type": "code",
   "execution_count": 23,
   "id": "da12e135",
   "metadata": {},
   "outputs": [
    {
     "data": {
      "text/plain": [
       "'Hello this is a text file\\nthis is the second line\\nthis is the third line\\n'"
      ]
     },
     "execution_count": 23,
     "metadata": {},
     "output_type": "execute_result"
    }
   ],
   "source": [
    "#lets read from the file as on giant string\n",
    "myfile.read()"
   ]
  },
  {
   "cell_type": "code",
   "execution_count": 27,
   "id": "082ca795",
   "metadata": {},
   "outputs": [
    {
     "data": {
      "text/plain": [
       "0"
      ]
     },
     "execution_count": 27,
     "metadata": {},
     "output_type": "execute_result"
    }
   ],
   "source": [
    "# reset the cursor at the begining of the file\n",
    "myfile.seek(0)\n"
   ]
  },
  {
   "cell_type": "code",
   "execution_count": 31,
   "id": "fcae1437",
   "metadata": {},
   "outputs": [
    {
     "data": {
      "text/plain": [
       "['Hello this is a text file\\n',\n",
       " 'this is the second line\\n',\n",
       " 'this is the third line\\n']"
      ]
     },
     "execution_count": 31,
     "metadata": {},
     "output_type": "execute_result"
    }
   ],
   "source": [
    "# output the contents of the file in a list\n",
    "myfile.readlines()\n",
    "\n"
   ]
  },
  {
   "cell_type": "code",
   "execution_count": 34,
   "id": "c787b274",
   "metadata": {},
   "outputs": [],
   "source": [
    "# close the files\n",
    "\n",
    "myfile.close()"
   ]
  },
  {
   "cell_type": "code",
   "execution_count": 41,
   "id": "7872aace",
   "metadata": {},
   "outputs": [],
   "source": [
    "# alternative method that closes the file when executed\n",
    "\n",
    "with open('myfile.txt') as myfile:\n",
    "    contents = myfile.read()"
   ]
  },
  {
   "cell_type": "code",
   "execution_count": 43,
   "id": "0dfbf994",
   "metadata": {},
   "outputs": [
    {
     "data": {
      "text/plain": [
       "'Hello this is a text file\\nthis is the second line\\nthis is the third line\\n'"
      ]
     },
     "execution_count": 43,
     "metadata": {},
     "output_type": "execute_result"
    }
   ],
   "source": [
    "contents"
   ]
  },
  {
   "cell_type": "code",
   "execution_count": 64,
   "id": "f47ea738",
   "metadata": {},
   "outputs": [],
   "source": [
    "# we can change the mode of the .read method to read, write, append, read & write, etc...\n",
    "\n",
    "\n",
    "with open('newfile.txt',mode = 'w+') as newfile:\n",
    "    newfile.seek(0)\n",
    "    newfile.write('This is the new file')\n",
    "    "
   ]
  },
  {
   "cell_type": "code",
   "execution_count": 67,
   "id": "5793c9a5",
   "metadata": {},
   "outputs": [
    {
     "name": "stdout",
     "output_type": "stream",
     "text": [
      "This is the new file\n"
     ]
    }
   ],
   "source": [
    "with open('newfile.txt') as n:\n",
    "    print(n.read())"
   ]
  },
  {
   "cell_type": "code",
   "execution_count": null,
   "id": "d674e2a7",
   "metadata": {},
   "outputs": [],
   "source": []
  }
 ],
 "metadata": {
  "kernelspec": {
   "display_name": "Python 3 (ipykernel)",
   "language": "python",
   "name": "python3"
  },
  "language_info": {
   "codemirror_mode": {
    "name": "ipython",
    "version": 3
   },
   "file_extension": ".py",
   "mimetype": "text/x-python",
   "name": "python",
   "nbconvert_exporter": "python",
   "pygments_lexer": "ipython3",
   "version": "3.9.7"
  }
 },
 "nbformat": 4,
 "nbformat_minor": 5
}
