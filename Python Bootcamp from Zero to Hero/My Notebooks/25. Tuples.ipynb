{
 "cells": [
  {
   "cell_type": "code",
   "execution_count": 2,
   "id": "52dda90e",
   "metadata": {},
   "outputs": [],
   "source": [
    "# make a tupple with paranthesis\n",
    "t = (1,2,3)"
   ]
  },
  {
   "cell_type": "code",
   "execution_count": 3,
   "id": "3d1bcf75",
   "metadata": {},
   "outputs": [
    {
     "data": {
      "text/plain": [
       "3"
      ]
     },
     "execution_count": 3,
     "metadata": {},
     "output_type": "execute_result"
    }
   ],
   "source": [
    "# you can index it like a regular file\n",
    "t[2]"
   ]
  },
  {
   "cell_type": "code",
   "execution_count": 5,
   "id": "3410fb0d",
   "metadata": {},
   "outputs": [
    {
     "data": {
      "text/plain": [
       "4"
      ]
     },
     "execution_count": 5,
     "metadata": {},
     "output_type": "execute_result"
    }
   ],
   "source": [
    "# We can use the .count to count how many times an object appears in a tupple\n",
    "\n",
    "t = ('a', 'b', 'c', 'd','d','d','d')\n",
    "t.count('d')"
   ]
  },
  {
   "cell_type": "code",
   "execution_count": 7,
   "id": "7c0c87d6",
   "metadata": {},
   "outputs": [
    {
     "data": {
      "text/plain": [
       "3"
      ]
     },
     "execution_count": 7,
     "metadata": {},
     "output_type": "execute_result"
    }
   ],
   "source": [
    "# Use the .index method to return the index of the first instance of an object\n",
    "\n",
    "t.index('d')\n"
   ]
  },
  {
   "cell_type": "code",
   "execution_count": 8,
   "id": "2f08da39",
   "metadata": {},
   "outputs": [],
   "source": [
    "# typically tuples are typically used to preserve data integrity as they are immutable\n",
    "# this helps prevent tampering with the data after it's creation"
   ]
  }
 ],
 "metadata": {
  "kernelspec": {
   "display_name": "Python 3 (ipykernel)",
   "language": "python",
   "name": "python3"
  },
  "language_info": {
   "codemirror_mode": {
    "name": "ipython",
    "version": 3
   },
   "file_extension": ".py",
   "mimetype": "text/x-python",
   "name": "python",
   "nbconvert_exporter": "python",
   "pygments_lexer": "ipython3",
   "version": "3.9.7"
  }
 },
 "nbformat": 4,
 "nbformat_minor": 5
}
