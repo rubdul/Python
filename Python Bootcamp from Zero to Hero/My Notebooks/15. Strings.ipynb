{
 "cells": [
  {
   "cell_type": "code",
   "execution_count": 2,
   "id": "ec3bc052",
   "metadata": {},
   "outputs": [
    {
     "data": {
      "text/plain": [
       "'This is a string'"
      ]
     },
     "execution_count": 2,
     "metadata": {},
     "output_type": "execute_result"
    }
   ],
   "source": [
    "'This is a string'"
   ]
  },
  {
   "cell_type": "code",
   "execution_count": 3,
   "id": "b3fa166f",
   "metadata": {},
   "outputs": [
    {
     "data": {
      "text/plain": [
       "'This is also strong'"
      ]
     },
     "execution_count": 3,
     "metadata": {},
     "output_type": "execute_result"
    }
   ],
   "source": [
    "\"This is also strong\""
   ]
  },
  {
   "cell_type": "code",
   "execution_count": 4,
   "id": "7d067714",
   "metadata": {},
   "outputs": [
    {
     "data": {
      "text/plain": [
       "\"I can't believe it\""
      ]
     },
     "execution_count": 4,
     "metadata": {},
     "output_type": "execute_result"
    }
   ],
   "source": [
    "\"I can't believe it\""
   ]
  },
  {
   "cell_type": "code",
   "execution_count": 5,
   "id": "f08e504d",
   "metadata": {},
   "outputs": [],
   "source": [
    "myString = \"Hello World\""
   ]
  },
  {
   "cell_type": "code",
   "execution_count": 6,
   "id": "78121e1c",
   "metadata": {},
   "outputs": [
    {
     "data": {
      "text/plain": [
       "' '"
      ]
     },
     "execution_count": 6,
     "metadata": {},
     "output_type": "execute_result"
    }
   ],
   "source": [
    "myString[5]"
   ]
  },
  {
   "cell_type": "code",
   "execution_count": 8,
   "id": "b98c2935",
   "metadata": {},
   "outputs": [
    {
     "data": {
      "text/plain": [
       "'d'"
      ]
     },
     "execution_count": 8,
     "metadata": {},
     "output_type": "execute_result"
    }
   ],
   "source": [
    "myString[-1]"
   ]
  },
  {
   "cell_type": "code",
   "execution_count": 9,
   "id": "519e09d3",
   "metadata": {},
   "outputs": [],
   "source": [
    "myString = \"abcdefghijk\""
   ]
  },
  {
   "cell_type": "code",
   "execution_count": 13,
   "id": "cd6d7d40",
   "metadata": {},
   "outputs": [
    {
     "data": {
      "text/plain": [
       "'dfh'"
      ]
     },
     "execution_count": 13,
     "metadata": {},
     "output_type": "execute_result"
    }
   ],
   "source": [
    "myString[3:9:2]"
   ]
  },
  {
   "cell_type": "code",
   "execution_count": 14,
   "id": "e9996f47",
   "metadata": {},
   "outputs": [],
   "source": [
    "name = \"Bob\""
   ]
  },
  {
   "cell_type": "code",
   "execution_count": 15,
   "id": "4c29858a",
   "metadata": {},
   "outputs": [],
   "source": [
    "name_part = name[1:]"
   ]
  },
  {
   "cell_type": "code",
   "execution_count": 16,
   "id": "421369d3",
   "metadata": {},
   "outputs": [
    {
     "data": {
      "text/plain": [
       "'ob'"
      ]
     },
     "execution_count": 16,
     "metadata": {},
     "output_type": "execute_result"
    }
   ],
   "source": [
    "name_part"
   ]
  },
  {
   "cell_type": "code",
   "execution_count": 17,
   "id": "e8b37e39",
   "metadata": {},
   "outputs": [],
   "source": [
    "full_name = 'R' + name_part"
   ]
  },
  {
   "cell_type": "code",
   "execution_count": 18,
   "id": "c6bd06fd",
   "metadata": {},
   "outputs": [
    {
     "data": {
      "text/plain": [
       "'Rob'"
      ]
     },
     "execution_count": 18,
     "metadata": {},
     "output_type": "execute_result"
    }
   ],
   "source": [
    "full_name"
   ]
  },
  {
   "cell_type": "code",
   "execution_count": null,
   "id": "b8da8da8",
   "metadata": {},
   "outputs": [],
   "source": []
  }
 ],
 "metadata": {
  "kernelspec": {
   "display_name": "Python 3 (ipykernel)",
   "language": "python",
   "name": "python3"
  },
  "language_info": {
   "codemirror_mode": {
    "name": "ipython",
    "version": 3
   },
   "file_extension": ".py",
   "mimetype": "text/x-python",
   "name": "python",
   "nbconvert_exporter": "python",
   "pygments_lexer": "ipython3",
   "version": "3.9.7"
  }
 },
 "nbformat": 4,
 "nbformat_minor": 5
}
