{
 "cells": [
  {
   "cell_type": "code",
   "execution_count": 2,
   "id": "8ff3046f",
   "metadata": {},
   "outputs": [],
   "source": [
    "# We will use the pillow Library for manipulating images\n",
    "\n",
    "from PIL import Image"
   ]
  },
  {
   "cell_type": "code",
   "execution_count": null,
   "id": "03ac07ab",
   "metadata": {},
   "outputs": [],
   "source": [
    "mac = Image.open('Example.jpg')"
   ]
  },
  {
   "cell_type": "code",
   "execution_count": null,
   "id": "35351943",
   "metadata": {},
   "outputs": [],
   "source": [
    "type(mac)"
   ]
  },
  {
   "cell_type": "code",
   "execution_count": null,
   "id": "527d2563",
   "metadata": {},
   "outputs": [],
   "source": [
    "# Use mac.show() for other IDEs to make this\n",
    "mac"
   ]
  },
  {
   "cell_type": "code",
   "execution_count": null,
   "id": "7e5e4d6c",
   "metadata": {},
   "outputs": [],
   "source": [
    "# Check the width and height with the .size method \"no Parenthesis\"\n",
    "mac.size"
   ]
  },
  {
   "cell_type": "code",
   "execution_count": null,
   "id": "36362381",
   "metadata": {},
   "outputs": [],
   "source": [
    "# Now let's try cropping the image\n",
    "\n",
    "# note: Images start from the top left corners and go from left to right and top to bottom"
   ]
  },
  {
   "cell_type": "code",
   "execution_count": null,
   "id": "c43c6768",
   "metadata": {},
   "outputs": [],
   "source": [
    "mac.crop((0,0,1000,1000))"
   ]
  },
  {
   "cell_type": "code",
   "execution_count": null,
   "id": "2beae216",
   "metadata": {},
   "outputs": [],
   "source": [
    "pencils = Image.open('pencils.jpg')"
   ]
  },
  {
   "cell_type": "code",
   "execution_count": null,
   "id": "e89ffc3d",
   "metadata": {},
   "outputs": [],
   "source": [
    "pencils"
   ]
  },
  {
   "cell_type": "code",
   "execution_count": null,
   "id": "a4e4f9af",
   "metadata": {},
   "outputs": [],
   "source": [
    "pencils.size"
   ]
  },
  {
   "cell_type": "code",
   "execution_count": null,
   "id": "b562ee05",
   "metadata": {},
   "outputs": [],
   "source": [
    "pencils.crop(box = (0,0,1950/3,1300))"
   ]
  },
  {
   "cell_type": "code",
   "execution_count": null,
   "id": "33b499c6",
   "metadata": {},
   "outputs": [],
   "source": [
    "# You can setup variables for cropping the image and store the cropping"
   ]
  },
  {
   "cell_type": "code",
   "execution_count": null,
   "id": "47199df5",
   "metadata": {},
   "outputs": [],
   "source": [
    "x= 0\n",
    "y= 0\n",
    "w = 1950/2\n",
    "h = 1300/2"
   ]
  },
  {
   "cell_type": "code",
   "execution_count": null,
   "id": "da5735cf",
   "metadata": {},
   "outputs": [],
   "source": [
    "halfof = pencils.crop((x,y,w,h))"
   ]
  },
  {
   "cell_type": "code",
   "execution_count": null,
   "id": "000dc311",
   "metadata": {},
   "outputs": [],
   "source": [
    "halfof"
   ]
  },
  {
   "cell_type": "code",
   "execution_count": null,
   "id": "d4b64f8d",
   "metadata": {},
   "outputs": [],
   "source": [
    "# now try to make an image box for displaying many pictures"
   ]
  },
  {
   "cell_type": "code",
   "execution_count": null,
   "id": "b4d71ad1",
   "metadata": {},
   "outputs": [],
   "source": [
    "mac.size[0]"
   ]
  },
  {
   "cell_type": "code",
   "execution_count": null,
   "id": "40ce531a",
   "metadata": {},
   "outputs": [],
   "source": [
    "halfway = mac.size[0]/2\n",
    "halfway"
   ]
  },
  {
   "cell_type": "code",
   "execution_count": null,
   "id": "137ee150",
   "metadata": {},
   "outputs": [],
   "source": [
    "x = halfway - 200\n",
    "w = halfway + 200\n",
    "\n",
    "y = mac.size[1]*(2/3)\n",
    "h = mac.size[1]"
   ]
  },
  {
   "cell_type": "code",
   "execution_count": null,
   "id": "f48e222b",
   "metadata": {},
   "outputs": [],
   "source": [
    "computer = mac.crop((x,y,w,h))"
   ]
  },
  {
   "cell_type": "code",
   "execution_count": null,
   "id": "1390299e",
   "metadata": {},
   "outputs": [],
   "source": [
    "computer"
   ]
  },
  {
   "cell_type": "code",
   "execution_count": null,
   "id": "074f4db1",
   "metadata": {},
   "outputs": [],
   "source": [
    "# now place multiple of these in an image box using the paste method "
   ]
  },
  {
   "cell_type": "code",
   "execution_count": null,
   "id": "51414510",
   "metadata": {},
   "outputs": [],
   "source": [
    "mac.paste(im= computer, box = (0,0))"
   ]
  },
  {
   "cell_type": "code",
   "execution_count": null,
   "id": "6a2caf69",
   "metadata": {},
   "outputs": [],
   "source": [
    "mac"
   ]
  },
  {
   "cell_type": "code",
   "execution_count": null,
   "id": "646a65fe",
   "metadata": {},
   "outputs": [],
   "source": [
    "# resize images with the .resize() method\n",
    "mac.resize((3000,500))"
   ]
  },
  {
   "cell_type": "code",
   "execution_count": null,
   "id": "de870042",
   "metadata": {},
   "outputs": [],
   "source": [
    "# rotate an image\n",
    "mac.rotate(45)"
   ]
  },
  {
   "cell_type": "markdown",
   "id": "83c2ec38",
   "metadata": {},
   "source": [
    "# Now let's discuss transparency and RGB values"
   ]
  },
  {
   "cell_type": "code",
   "execution_count": 3,
   "id": "59e60394",
   "metadata": {},
   "outputs": [],
   "source": [
    "red = Image.open('red_color.jpg')"
   ]
  },
  {
   "cell_type": "code",
   "execution_count": 19,
   "id": "740ab287",
   "metadata": {},
   "outputs": [],
   "source": [
    "blue = Image.open('blue_color.png')"
   ]
  },
  {
   "cell_type": "code",
   "execution_count": 20,
   "id": "feb30876",
   "metadata": {},
   "outputs": [
    {
     "data": {
      "image/png": "[encoded data removed]",
      "text/plain": [
       "<PIL.PngImagePlugin.PngImageFile image mode=P size=200x200 at 0x24761F0AF70>"
      ]
     },
     "execution_count": 20,
     "metadata": {},
     "output_type": "execute_result"
    }
   ],
   "source": [
    "blue"
   ]
  },
  {
   "cell_type": "code",
   "execution_count": 6,
   "id": "4847522a",
   "metadata": {},
   "outputs": [
    {
     "data": {
      "image/png": "[encoded data removed]",
      "text/plain": [
       "<PIL.JpegImagePlugin.JpegImageFile image mode=RGB size=200x200 at 0x24761E58EE0>"
      ]
     },
     "execution_count": 6,
     "metadata": {},
     "output_type": "execute_result"
    }
   ],
   "source": [
    "red"
   ]
  },
  {
   "cell_type": "code",
   "execution_count": 21,
   "id": "21f04b65",
   "metadata": {
    "scrolled": true
   },
   "outputs": [],
   "source": [
    "# change the alpha values of an image to change transparency\n",
    "# Warnig convert to Jpeg first for error sake\n",
    "newblue = blue.convert('RGB')\n",
    "newblue.save('newblue.jpg')\n"
   ]
  },
  {
   "cell_type": "code",
   "execution_count": 22,
   "id": "a0a9faf4",
   "metadata": {},
   "outputs": [],
   "source": [
    "blue = Image.open('newblue.jpg')"
   ]
  },
  {
   "cell_type": "code",
   "execution_count": 37,
   "id": "f4c03a65",
   "metadata": {},
   "outputs": [],
   "source": [
    "blue.putalpha(150)"
   ]
  },
  {
   "cell_type": "code",
   "execution_count": 38,
   "id": "20b8fad6",
   "metadata": {},
   "outputs": [
    {
     "data": {
      "image/png": "[encoded data removed]",
      "text/plain": [
       "<PIL.JpegImagePlugin.JpegImageFile image mode=RGBA size=200x200 at 0x24761F172B0>"
      ]
     },
     "execution_count": 38,
     "metadata": {},
     "output_type": "execute_result"
    }
   ],
   "source": [
    "blue"
   ]
  },
  {
   "cell_type": "code",
   "execution_count": 31,
   "id": "ccf1dbbd",
   "metadata": {},
   "outputs": [],
   "source": [
    "# convert red\n",
    "newred= red.convert('RGB')\n",
    "newred.save('newred.jpg')\n",
    "red = Image.open('newred.jpg')\n"
   ]
  },
  {
   "cell_type": "code",
   "execution_count": 45,
   "id": "b72192fd",
   "metadata": {},
   "outputs": [
    {
     "data": {
      "image/png": "[encoded data removed]",
      "text/plain": [
       "<PIL.JpegImagePlugin.JpegImageFile image mode=RGBA size=200x200 at 0x24762083280>"
      ]
     },
     "execution_count": 45,
     "metadata": {},
     "output_type": "execute_result"
    }
   ],
   "source": [
    "red.putalpha(100)\n",
    "red"
   ]
  },
  {
   "cell_type": "code",
   "execution_count": 50,
   "id": "5b687cf1",
   "metadata": {},
   "outputs": [],
   "source": [
    "# Superimpose both images on one another\n",
    "\n",
    "blue.paste(im=red,box = (0,0),mask = red)"
   ]
  },
  {
   "cell_type": "code",
   "execution_count": 51,
   "id": "6017a27e",
   "metadata": {},
   "outputs": [
    {
     "data": {
      "image/png": "[encoded data removed]",
      "text/plain": [
       "<PIL.JpegImagePlugin.JpegImageFile image mode=RGBA size=200x200 at 0x24761F172B0>"
      ]
     },
     "execution_count": 51,
     "metadata": {},
     "output_type": "execute_result"
    }
   ],
   "source": [
    "blue"
   ]
  },
  {
   "cell_type": "code",
   "execution_count": null,
   "id": "f6a95049",
   "metadata": {},
   "outputs": [],
   "source": []
  },
  {
   "cell_type": "code",
   "execution_count": null,
   "id": "98741f8a",
   "metadata": {},
   "outputs": [],
   "source": []
  }
 ],
 "metadata": {
  "kernelspec": {
   "display_name": "Python 3 (ipykernel)",
   "language": "python",
   "name": "python3"
  },
  "language_info": {
   "codemirror_mode": {
    "name": "ipython",
    "version": 3
   },
   "file_extension": ".py",
   "mimetype": "text/x-python",
   "name": "python",
   "nbconvert_exporter": "python",
   "pygments_lexer": "ipython3",
   "version": "3.9.7"
  }
 },
 "nbformat": 4,
 "nbformat_minor": 5
}
