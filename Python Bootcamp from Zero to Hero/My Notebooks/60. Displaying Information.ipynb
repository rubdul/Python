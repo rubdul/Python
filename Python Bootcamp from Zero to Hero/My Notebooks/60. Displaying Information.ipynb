{
 "cells": [
  {
   "cell_type": "code",
   "execution_count": 2,
   "id": "e8631062",
   "metadata": {},
   "outputs": [
    {
     "name": "stdout",
     "output_type": "stream",
     "text": [
      "[1, 2, 3]\n"
     ]
    }
   ],
   "source": [
    "print([1,2,3])"
   ]
  },
  {
   "cell_type": "code",
   "execution_count": 10,
   "id": "b48b32ae",
   "metadata": {},
   "outputs": [
    {
     "name": "stdout",
     "output_type": "stream",
     "text": [
      "[1, 2, 3]\n",
      "[4, 5, 6]\n",
      "[7, 8, 9]\n"
     ]
    }
   ],
   "source": [
    "print([1,2,3])\n",
    "print([4,5,6])\n",
    "print([7,8,9])"
   ]
  },
  {
   "cell_type": "code",
   "execution_count": 5,
   "id": "c564d445",
   "metadata": {},
   "outputs": [],
   "source": [
    "\n",
    "# create a function to display information in rows\n",
    "def display(row1,row2,row3):\n",
    "    print(row1)\n",
    "    print(row2)\n",
    "    print(row3)"
   ]
  },
  {
   "cell_type": "code",
   "execution_count": 6,
   "id": "3d3add30",
   "metadata": {},
   "outputs": [],
   "source": [
    "# create the rows in question\n",
    "row1 = [' ',' ',' ']\n",
    "row2 = [' ',' ',' ']\n",
    "row3 = [' ',' ',' ']"
   ]
  },
  {
   "cell_type": "code",
   "execution_count": 7,
   "id": "c6ee1fab",
   "metadata": {},
   "outputs": [
    {
     "name": "stdout",
     "output_type": "stream",
     "text": [
      "[' ', ' ', ' ']\n",
      "[' ', ' ', ' ']\n",
      "[' ', ' ', ' ']\n"
     ]
    }
   ],
   "source": [
    "display(row1,row2,row3)"
   ]
  },
  {
   "cell_type": "code",
   "execution_count": 8,
   "id": "5c0c320e",
   "metadata": {},
   "outputs": [],
   "source": [
    "# Change the value of one of the rows\n",
    "row2[1]= 'X';"
   ]
  },
  {
   "cell_type": "code",
   "execution_count": 9,
   "id": "f03a1138",
   "metadata": {},
   "outputs": [
    {
     "name": "stdout",
     "output_type": "stream",
     "text": [
      "[' ', ' ', ' ']\n",
      "[' ', 'X', ' ']\n",
      "[' ', ' ', ' ']\n"
     ]
    }
   ],
   "source": [
    "display(row1,row2,row3)"
   ]
  },
  {
   "cell_type": "code",
   "execution_count": 12,
   "id": "94162d27",
   "metadata": {},
   "outputs": [],
   "source": [
    "# Now let's use the input function to prompt the user and take input"
   ]
  },
  {
   "cell_type": "code",
   "execution_count": 14,
   "id": "a6f7b52a",
   "metadata": {},
   "outputs": [
    {
     "name": "stdout",
     "output_type": "stream",
     "text": [
      "Please enter a value: 2\n"
     ]
    },
    {
     "data": {
      "text/plain": [
       "'2'"
      ]
     },
     "execution_count": 14,
     "metadata": {},
     "output_type": "execute_result"
    }
   ],
   "source": [
    "input(\"Please enter a value: \")"
   ]
  },
  {
   "cell_type": "code",
   "execution_count": 15,
   "id": "1478b523",
   "metadata": {},
   "outputs": [
    {
     "name": "stdout",
     "output_type": "stream",
     "text": [
      "Please enter a value: 2\n"
     ]
    }
   ],
   "source": [
    "result = input(\"Please enter a value: \")"
   ]
  },
  {
   "cell_type": "code",
   "execution_count": 18,
   "id": "ae2b9783",
   "metadata": {},
   "outputs": [],
   "source": [
    "# Warning: the input function will only give user input as a string\n",
    "\n",
    "# You will need to cast it using a built in function"
   ]
  },
  {
   "cell_type": "code",
   "execution_count": 19,
   "id": "5c3176fb",
   "metadata": {},
   "outputs": [
    {
     "name": "stdout",
     "output_type": "stream",
     "text": [
      "Please enter an integer: 3\n"
     ]
    }
   ],
   "source": [
    "# cast user input to an integer\n",
    "result_int = int(input(\"Please enter an integer: \"))"
   ]
  },
  {
   "cell_type": "code",
   "execution_count": 22,
   "id": "e83f3c39",
   "metadata": {},
   "outputs": [
    {
     "data": {
      "text/plain": [
       "str"
      ]
     },
     "execution_count": 22,
     "metadata": {},
     "output_type": "execute_result"
    }
   ],
   "source": [
    "type(result)"
   ]
  },
  {
   "cell_type": "code",
   "execution_count": 23,
   "id": "cecd509a",
   "metadata": {},
   "outputs": [
    {
     "data": {
      "text/plain": [
       "int"
      ]
     },
     "execution_count": 23,
     "metadata": {},
     "output_type": "execute_result"
    }
   ],
   "source": [
    "type(result_int)"
   ]
  },
  {
   "cell_type": "code",
   "execution_count": 25,
   "id": "8b3dfe6c",
   "metadata": {},
   "outputs": [
    {
     "data": {
      "text/plain": [
       "3.1415926"
      ]
     },
     "execution_count": 25,
     "metadata": {},
     "output_type": "execute_result"
    }
   ],
   "source": [
    "# Cast to a float\n",
    "float('3.1415926')"
   ]
  },
  {
   "cell_type": "code",
   "execution_count": 26,
   "id": "89956518",
   "metadata": {},
   "outputs": [
    {
     "name": "stdout",
     "output_type": "stream",
     "text": [
      "Choose and index position:3\n"
     ]
    }
   ],
   "source": [
    "position_index = int(input(\"Choose and index position:\"))"
   ]
  },
  {
   "cell_type": "code",
   "execution_count": 27,
   "id": "865da165",
   "metadata": {},
   "outputs": [],
   "source": [
    "# Warning do not run an input cell twice before getting a value the first time.\n",
    "# It will cause the program to lockup."
   ]
  },
  {
   "cell_type": "code",
   "execution_count": null,
   "id": "1a559699",
   "metadata": {},
   "outputs": [],
   "source": [
    "# Next we will address validating user input"
   ]
  },
  {
   "cell_type": "code",
   "execution_count": 1,
   "id": "8bacf127",
   "metadata": {},
   "outputs": [],
   "source": [
    "# First we will connect the user input to a function\n",
    "def user_choice():\n",
    "    \n",
    "    choice = 'not num'\n",
    "    #Use the is Digit method\n",
    "    while choice.isdigit() ==  False:\n",
    "        choice = input(\"Please enter a number (0-10)\")\n",
    "        \n",
    "        # Digit check\n",
    "        if choice.isdigit == False:\n",
    "            print('Sorry that is not a digit!')\n",
    "        \n",
    "        \n",
    "    \n",
    "    return int(choice)"
   ]
  },
  {
   "cell_type": "code",
   "execution_count": 4,
   "id": "3fb8f93f",
   "metadata": {},
   "outputs": [
    {
     "name": "stdout",
     "output_type": "stream",
     "text": [
      "Please enter a number (0-10)\n",
      "Please enter a number (0-10)\n",
      "Please enter a number (0-10)20\n"
     ]
    },
    {
     "data": {
      "text/plain": [
       "20"
      ]
     },
     "execution_count": 4,
     "metadata": {},
     "output_type": "execute_result"
    }
   ],
   "source": [
    "user_choice()"
   ]
  },
  {
   "cell_type": "code",
   "execution_count": null,
   "id": "932a6570",
   "metadata": {},
   "outputs": [],
   "source": [
    "# Now let's make sure that the user chooses between an a certain"
   ]
  },
  {
   "cell_type": "code",
   "execution_count": 3,
   "id": "4bdfc6f3",
   "metadata": {},
   "outputs": [],
   "source": [
    "# First we will connect the user input to a function\n",
    "def user_choice():\n",
    "    \n",
    "    choice = 'Wrong'\n",
    "    acceptable_range = range(0,10)\n",
    "    within_range = False\n",
    "    \n",
    "    #Use the is Digit method and also check through\n",
    "    while (choice.isdigit() ==  False) or (within_range == False):\n",
    "        \n",
    "        choice = input(\"Please enter a number (0-10): \")\n",
    "        \n",
    "        # Digit check\n",
    "        if choice.isdigit() == False:\n",
    "            print('Sorry that is not a digit!')\n",
    "        # Within Range Check\n",
    "        if choice.isdigit() == True:\n",
    "            if int(choice) in acceptable_range:\n",
    "                within_range = True\n",
    "            else:\n",
    "                print(\"Sorry man you're out of bounds\")\n",
    "                within_range = False\n",
    "                \n",
    "        \n",
    "    \n",
    "    return int(choice)"
   ]
  },
  {
   "cell_type": "code",
   "execution_count": 4,
   "id": "fd603f1e",
   "metadata": {},
   "outputs": [
    {
     "name": "stdout",
     "output_type": "stream",
     "text": [
      "Please enter a number (0-10): 300\n",
      "Sorry man you're out of bounds\n",
      "Please enter a number (0-10): dor\n",
      "Sorry that is not a digit!\n",
      "Please enter a number (0-10): 9\n"
     ]
    },
    {
     "data": {
      "text/plain": [
       "9"
      ]
     },
     "execution_count": 4,
     "metadata": {},
     "output_type": "execute_result"
    }
   ],
   "source": [
    "user_choice()"
   ]
  },
  {
   "cell_type": "code",
   "execution_count": null,
   "id": "ef4e3498",
   "metadata": {},
   "outputs": [],
   "source": []
  },
  {
   "cell_type": "code",
   "execution_count": null,
   "id": "795f64bc",
   "metadata": {},
   "outputs": [],
   "source": [
    "#63. Simple User interaction"
   ]
  },
  {
   "cell_type": "code",
   "execution_count": 1,
   "id": "ec0cd78a",
   "metadata": {},
   "outputs": [],
   "source": [
    "game_list =  [0,1,2]"
   ]
  },
  {
   "cell_type": "code",
   "execution_count": 2,
   "id": "661e5f0a",
   "metadata": {},
   "outputs": [],
   "source": [
    "def display_game(game_list):\n",
    "    print(\"here is the current list: \")\n",
    "    print(game_list)"
   ]
  },
  {
   "cell_type": "code",
   "execution_count": 3,
   "id": "52770410",
   "metadata": {},
   "outputs": [
    {
     "name": "stdout",
     "output_type": "stream",
     "text": [
      "here is the current list: \n",
      "[0, 1, 2]\n"
     ]
    }
   ],
   "source": [
    "display_game(game_list)"
   ]
  },
  {
   "cell_type": "code",
   "execution_count": 5,
   "id": "598115db",
   "metadata": {},
   "outputs": [],
   "source": [
    "def position_choice():\n",
    "    choice = 'wrong'\n",
    "    while choice not in ['0','1','2']:\n",
    "        choice =  input(\"Pick a position (0,1,2): \")\n",
    "\n",
    "        if choice not in ['0','1','2']:\n",
    "            print (\"Sorry, invalid choice!\")\n",
    "    \n",
    "    return int(choice)"
   ]
  },
  {
   "cell_type": "code",
   "execution_count": 7,
   "id": "168137bd",
   "metadata": {},
   "outputs": [
    {
     "name": "stdout",
     "output_type": "stream",
     "text": [
      "Pick a position (0,1,2): 13\n",
      "Sorry, invalid choice!\n",
      "Pick a position (0,1,2): 123\n",
      "Sorry, invalid choice!\n",
      "Pick a position (0,1,2): 1\n"
     ]
    },
    {
     "data": {
      "text/plain": [
       "1"
      ]
     },
     "execution_count": 7,
     "metadata": {},
     "output_type": "execute_result"
    }
   ],
   "source": [
    "position_choice()"
   ]
  },
  {
   "cell_type": "code",
   "execution_count": 8,
   "id": "d96f01d8",
   "metadata": {},
   "outputs": [],
   "source": [
    "def replacement_choice(game_list,position):\n",
    "    user_placement = input(\"Type a string to place at position: \")\n",
    "    \n",
    "    game_list[position] = user_placement\n",
    "    \n",
    "    return game_list"
   ]
  },
  {
   "cell_type": "code",
   "execution_count": 10,
   "id": "fe6372d8",
   "metadata": {},
   "outputs": [
    {
     "name": "stdout",
     "output_type": "stream",
     "text": [
      "Type a string to place at position: 2\n"
     ]
    },
    {
     "data": {
      "text/plain": [
       "[0, '2', 2]"
      ]
     },
     "execution_count": 10,
     "metadata": {},
     "output_type": "execute_result"
    }
   ],
   "source": [
    "replacement_choice(game_list,1)"
   ]
  },
  {
   "cell_type": "code",
   "execution_count": 16,
   "id": "8863c0a7",
   "metadata": {},
   "outputs": [],
   "source": [
    "def gameon_choice():\n",
    "    \n",
    "    choice='not chosen';\n",
    "    \n",
    "    while choice not in ['Y','N','y','n']:\n",
    "        \n",
    "        choice = input (\"Keep playing? (Y or N)\")\n",
    "        \n",
    "        if choice not in ['Y','N','y','n']:\n",
    "            print(\"sorry, I don't understand. Y or N please.\")\n",
    "        \n",
    "    if choice == 'Y' or choice == 'y':\n",
    "        return True\n",
    "    else:\n",
    "        return False\n",
    "    "
   ]
  },
  {
   "cell_type": "code",
   "execution_count": 18,
   "id": "5b07d019",
   "metadata": {},
   "outputs": [
    {
     "name": "stdout",
     "output_type": "stream",
     "text": [
      "Keep playing? (Y or N)\n",
      "sorry, I don't understand. Y or N please.\n",
      "Keep playing? (Y or N)Y\n"
     ]
    },
    {
     "data": {
      "text/plain": [
       "True"
      ]
     },
     "execution_count": 18,
     "metadata": {},
     "output_type": "execute_result"
    }
   ],
   "source": [
    "gameon_choice()"
   ]
  },
  {
   "cell_type": "code",
   "execution_count": null,
   "id": "8b78bf62",
   "metadata": {},
   "outputs": [],
   "source": [
    "# combine these all into one program"
   ]
  },
  {
   "cell_type": "code",
   "execution_count": 23,
   "id": "782bd9f4",
   "metadata": {},
   "outputs": [
    {
     "name": "stdout",
     "output_type": "stream",
     "text": [
      "here is the current list: \n",
      "[0, 1, 2]\n",
      "Pick a position (0,1,2): 2\n",
      "Type a string to place at position: 133\n",
      "here is the current list: \n",
      "[0, 1, '133']\n",
      "Keep playing? (Y or N)n\n"
     ]
    }
   ],
   "source": [
    "game_on = True\n",
    "game_list = [0,1,2]\n",
    "\n",
    "\n",
    "while game_on:\n",
    "    display_game(game_list)\n",
    "    \n",
    "    position = position_choice()\n",
    "    \n",
    "    game_list = replacement_choice(game_list, position)\n",
    "    \n",
    "    display_game(game_list)\n",
    "    \n",
    "    game_on = gameon_choice()    "
   ]
  },
  {
   "cell_type": "code",
   "execution_count": null,
   "id": "b27bc2ea",
   "metadata": {},
   "outputs": [],
   "source": []
  },
  {
   "cell_type": "code",
   "execution_count": null,
   "id": "ccabf01d",
   "metadata": {},
   "outputs": [],
   "source": []
  }
 ],
 "metadata": {
  "kernelspec": {
   "display_name": "Python 3 (ipykernel)",
   "language": "python",
   "name": "python3"
  },
  "language_info": {
   "codemirror_mode": {
    "name": "ipython",
    "version": 3
   },
   "file_extension": ".py",
   "mimetype": "text/x-python",
   "name": "python",
   "nbconvert_exporter": "python",
   "pygments_lexer": "ipython3",
   "version": "3.9.7"
  }
 },
 "nbformat": 4,
 "nbformat_minor": 5
}
