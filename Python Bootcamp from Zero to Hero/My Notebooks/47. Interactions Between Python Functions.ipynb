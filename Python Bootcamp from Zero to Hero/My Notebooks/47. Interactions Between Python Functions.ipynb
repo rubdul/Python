{
 "cells": [
  {
   "cell_type": "code",
   "execution_count": 2,
   "id": "f69ec7d4",
   "metadata": {},
   "outputs": [],
   "source": [
    "# lets make a set of functions to reproduce the carnival cup guessing game"
   ]
  },
  {
   "cell_type": "code",
   "execution_count": 3,
   "id": "bcdcff6d",
   "metadata": {},
   "outputs": [],
   "source": [
    "# lets make a list and have a function randomly shuffle and return it\n",
    "\n",
    "mylist = [1,2,3,4,5,6,7]"
   ]
  },
  {
   "cell_type": "code",
   "execution_count": 4,
   "id": "520673ab",
   "metadata": {},
   "outputs": [],
   "source": [
    "# import the shuffle function from the random library\n",
    "from random import shuffle"
   ]
  },
  {
   "cell_type": "code",
   "execution_count": 5,
   "id": "a6a05a6f",
   "metadata": {},
   "outputs": [],
   "source": [
    "# function that shuffles the list\n",
    "\n",
    "def shuffle_list(mylist):\n",
    "    shuffle(mylist)\n",
    "    return mylist"
   ]
  },
  {
   "cell_type": "code",
   "execution_count": null,
   "id": "fae7b0ce",
   "metadata": {},
   "outputs": [],
   "source": [
    "mylist  = [' ', 'O', ' ']\n",
    " "
   ]
  },
  {
   "cell_type": "code",
   "execution_count": 24,
   "id": "1416fb0d",
   "metadata": {},
   "outputs": [],
   "source": [
    "# function to take in a player guess and have them take it on\n",
    "\n",
    "def player_guess():\n",
    "    \n",
    "    # placeholder for the guess\n",
    "    guess =''\n",
    "    \n",
    "    # while loop to check if the guess is one of 3 char values\n",
    "    while guess not in ['0','1','2']:\n",
    "        guess = input(\"Pick an number: 0, 1, or 2\")\n",
    "            \n",
    "    # Cast the guess as an int becuase \n",
    "    return int(guess)\n"
   ]
  },
  {
   "cell_type": "code",
   "execution_count": 10,
   "id": "2b4b2424",
   "metadata": {},
   "outputs": [
    {
     "name": "stdout",
     "output_type": "stream",
     "text": [
      "Pick an number: 0, 1, or 20\n"
     ]
    }
   ],
   "source": [
    "myindex = player_guess()"
   ]
  },
  {
   "cell_type": "code",
   "execution_count": 12,
   "id": "1c2e72f0",
   "metadata": {},
   "outputs": [
    {
     "data": {
      "text/plain": [
       "0"
      ]
     },
     "execution_count": 12,
     "metadata": {},
     "output_type": "execute_result"
    }
   ],
   "source": [
    "myindex"
   ]
  },
  {
   "cell_type": "code",
   "execution_count": 25,
   "id": "4e5a2ed4",
   "metadata": {},
   "outputs": [],
   "source": [
    "# Now make a function to check the guess\n",
    "\n",
    "def check_guess(mylist, guess):\n",
    "    \n",
    "    if mylist[guess] == 'O':\n",
    "        print ('Correct!')\n",
    "        \n",
    "    else:\n",
    "        print('Wrong guess!')\n",
    "        print(mylist)\n",
    "    "
   ]
  },
  {
   "cell_type": "code",
   "execution_count": 14,
   "id": "c4a7870c",
   "metadata": {},
   "outputs": [],
   "source": [
    "# Let's put it all together to make one program"
   ]
  },
  {
   "cell_type": "markdown",
   "id": "1803d37a",
   "metadata": {},
   "source": [
    "\n",
    "mylist = [' ', 'O', ' ']\n",
    "\n",
    "\n",
    "mixedup_list = shuffle_list(mylist)\n",
    "\n",
    "guess = player_guess()\n",
    "print(guess)\n",
    "\n",
    "check_guess(mixedup_list,guess)"
   ]
  },
  {
   "cell_type": "code",
   "execution_count": 38,
   "id": "0f8eeb5d",
   "metadata": {},
   "outputs": [
    {
     "name": "stdout",
     "output_type": "stream",
     "text": [
      "Pick an number: 0, 1, or 20\n",
      "0\n",
      "Wrong guess!\n",
      "[' ', 'O', ' ']\n"
     ]
    }
   ],
   "source": [
    "# initial list\n",
    "mylist = [' ', 'O', ' ']\n",
    "\n",
    "# shuffle list\n",
    "mixedup_list = shuffle_list(mylist)\n",
    "\n",
    "# user Guess\n",
    "guess = player_guess() \n",
    "print(guess)\n",
    "\n",
    "#check guess\n",
    "check_guess(mixedup_list,guess)"
   ]
  }
 ],
 "metadata": {
  "kernelspec": {
   "display_name": "Python 3 (ipykernel)",
   "language": "python",
   "name": "python3"
  },
  "language_info": {
   "codemirror_mode": {
    "name": "ipython",
    "version": 3
   },
   "file_extension": ".py",
   "mimetype": "text/x-python",
   "name": "python",
   "nbconvert_exporter": "python",
   "pygments_lexer": "ipython3",
   "version": "3.9.7"
  }
 },
 "nbformat": 4,
 "nbformat_minor": 5
}
