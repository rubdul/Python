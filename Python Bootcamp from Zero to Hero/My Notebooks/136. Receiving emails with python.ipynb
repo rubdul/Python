{
 "cells": [
  {
   "cell_type": "code",
   "execution_count": 3,
   "id": "2c448fad",
   "metadata": {},
   "outputs": [],
   "source": [
    "import imaplib"
   ]
  },
  {
   "cell_type": "code",
   "execution_count": 6,
   "id": "63f17aa0",
   "metadata": {},
   "outputs": [],
   "source": [
    "m =  imaplib.IMAP4_SSL('imap.gmail.com')"
   ]
  },
  {
   "cell_type": "code",
   "execution_count": 5,
   "id": "8552478b",
   "metadata": {},
   "outputs": [],
   "source": [
    "import getpass"
   ]
  },
  {
   "cell_type": "code",
   "execution_count": 7,
   "id": "8e02e773",
   "metadata": {},
   "outputs": [
    {
     "name": "stdout",
     "output_type": "stream",
     "text": [
      "password please : ········\n"
     ]
    }
   ],
   "source": [
    "email = 'rubdul@gmail.com'\n",
    "password =  getpass.getpass('password please : ')"
   ]
  },
  {
   "cell_type": "code",
   "execution_count": 8,
   "id": "6c9439ae",
   "metadata": {},
   "outputs": [
    {
     "data": {
      "text/plain": [
       "('OK', [b'rubdul@gmail.com authenticated (Success)'])"
      ]
     },
     "execution_count": 8,
     "metadata": {},
     "output_type": "execute_result"
    }
   ],
   "source": [
    "m.login(email,password)"
   ]
  },
  {
   "cell_type": "code",
   "execution_count": 9,
   "id": "6b707080",
   "metadata": {},
   "outputs": [
    {
     "data": {
      "text/plain": [
       "('OK',\n",
       " [b'(\\\\HasNoChildren) \"/\" \"Drafts\"',\n",
       "  b'(\\\\HasNoChildren) \"/\" \"INBOX\"',\n",
       "  b'(\\\\HasNoChildren) \"/\" \"Personal\"',\n",
       "  b'(\\\\HasNoChildren) \"/\" \"Receipts\"',\n",
       "  b'(\\\\HasNoChildren) \"/\" \"Work\"',\n",
       "  b'(\\\\HasChildren \\\\Noselect) \"/\" \"[Gmail]\"',\n",
       "  b'(\\\\All \\\\HasNoChildren) \"/\" \"[Gmail]/All Mail\"',\n",
       "  b'(\\\\Drafts \\\\HasNoChildren) \"/\" \"[Gmail]/Drafts\"',\n",
       "  b'(\\\\HasNoChildren \\\\Important) \"/\" \"[Gmail]/Important\"',\n",
       "  b'(\\\\HasNoChildren \\\\Sent) \"/\" \"[Gmail]/Sent Mail\"',\n",
       "  b'(\\\\HasNoChildren \\\\Junk) \"/\" \"[Gmail]/Spam\"',\n",
       "  b'(\\\\Flagged \\\\HasNoChildren) \"/\" \"[Gmail]/Starred\"',\n",
       "  b'(\\\\HasNoChildren \\\\Trash) \"/\" \"[Gmail]/Trash\"'])"
      ]
     },
     "execution_count": 9,
     "metadata": {},
     "output_type": "execute_result"
    }
   ],
   "source": [
    "# Access the email\n",
    "m.list()"
   ]
  },
  {
   "cell_type": "code",
   "execution_count": 10,
   "id": "89bcfd15",
   "metadata": {},
   "outputs": [
    {
     "data": {
      "text/plain": [
       "('OK', [b'73822'])"
      ]
     },
     "execution_count": 10,
     "metadata": {},
     "output_type": "execute_result"
    }
   ],
   "source": [
    "# enter your inbox\n",
    "m.select('inbox')"
   ]
  },
  {
   "cell_type": "code",
   "execution_count": 12,
   "id": "19125e71",
   "metadata": {},
   "outputs": [],
   "source": [
    "# search through the inbox based on criteria\n",
    "typ, data = m.search(None,'SUBJECT \"test\"')"
   ]
  },
  {
   "cell_type": "code",
   "execution_count": 13,
   "id": "7a080183",
   "metadata": {},
   "outputs": [
    {
     "data": {
      "text/plain": [
       "'OK'"
      ]
     },
     "execution_count": 13,
     "metadata": {},
     "output_type": "execute_result"
    }
   ],
   "source": [
    "typ"
   ]
  },
  {
   "cell_type": "code",
   "execution_count": 24,
   "id": "105b9e19",
   "metadata": {},
   "outputs": [
    {
     "data": {
      "text/plain": [
       "[b'336',\n",
       " b'1649',\n",
       " b'1680',\n",
       " b'1735',\n",
       " b'1854',\n",
       " b'1858',\n",
       " b'1937',\n",
       " b'2178',\n",
       " b'2570',\n",
       " b'2716',\n",
       " b'2723',\n",
       " b'3200',\n",
       " b'3480',\n",
       " b'3516',\n",
       " b'3545',\n",
       " b'4031',\n",
       " b'4410',\n",
       " b'4802',\n",
       " b'4963',\n",
       " b'5216',\n",
       " b'5326',\n",
       " b'5492',\n",
       " b'6130',\n",
       " b'6307',\n",
       " b'6528',\n",
       " b'8421',\n",
       " b'8492',\n",
       " b'8525',\n",
       " b'8660',\n",
       " b'8733',\n",
       " b'8795',\n",
       " b'9013',\n",
       " b'9170',\n",
       " b'9361',\n",
       " b'9531',\n",
       " b'10038',\n",
       " b'10187',\n",
       " b'10314',\n",
       " b'10535',\n",
       " b'10895',\n",
       " b'12165',\n",
       " b'12262',\n",
       " b'12289',\n",
       " b'12290',\n",
       " b'12353',\n",
       " b'12383',\n",
       " b'12446',\n",
       " b'12490',\n",
       " b'12693',\n",
       " b'12733',\n",
       " b'12743',\n",
       " b'12762',\n",
       " b'12788',\n",
       " b'12826',\n",
       " b'12924',\n",
       " b'13047',\n",
       " b'13052',\n",
       " b'13107',\n",
       " b'13239',\n",
       " b'13415',\n",
       " b'13501',\n",
       " b'13553',\n",
       " b'13604',\n",
       " b'13690',\n",
       " b'13794',\n",
       " b'13823',\n",
       " b'13867',\n",
       " b'13957',\n",
       " b'13981',\n",
       " b'14011',\n",
       " b'14021',\n",
       " b'14151',\n",
       " b'14230',\n",
       " b'14267',\n",
       " b'14328',\n",
       " b'14593',\n",
       " b'14959',\n",
       " b'15161',\n",
       " b'15260',\n",
       " b'15268',\n",
       " b'15275',\n",
       " b'15290',\n",
       " b'15334',\n",
       " b'15338',\n",
       " b'15378',\n",
       " b'15506',\n",
       " b'15746',\n",
       " b'16100',\n",
       " b'16202',\n",
       " b'16332',\n",
       " b'16351',\n",
       " b'16461',\n",
       " b'16958',\n",
       " b'18671',\n",
       " b'18879',\n",
       " b'18886',\n",
       " b'19094',\n",
       " b'19272',\n",
       " b'20229',\n",
       " b'21218',\n",
       " b'21607',\n",
       " b'22160',\n",
       " b'22673',\n",
       " b'22871',\n",
       " b'23068',\n",
       " b'23097',\n",
       " b'23149',\n",
       " b'23185',\n",
       " b'23229',\n",
       " b'23239',\n",
       " b'23249',\n",
       " b'23300',\n",
       " b'23347',\n",
       " b'23432',\n",
       " b'23640',\n",
       " b'23717',\n",
       " b'23804',\n",
       " b'23872',\n",
       " b'23881',\n",
       " b'23895',\n",
       " b'24001',\n",
       " b'24042',\n",
       " b'24045',\n",
       " b'24115',\n",
       " b'24311',\n",
       " b'24312',\n",
       " b'24352',\n",
       " b'24418',\n",
       " b'24443',\n",
       " b'24555',\n",
       " b'24642',\n",
       " b'24766',\n",
       " b'24767',\n",
       " b'24775',\n",
       " b'24778',\n",
       " b'24797',\n",
       " b'24822',\n",
       " b'24827',\n",
       " b'24842',\n",
       " b'24920',\n",
       " b'25045',\n",
       " b'25119',\n",
       " b'25174',\n",
       " b'25186',\n",
       " b'25397',\n",
       " b'25436',\n",
       " b'26189',\n",
       " b'26190',\n",
       " b'26191',\n",
       " b'26419',\n",
       " b'27280',\n",
       " b'27449',\n",
       " b'27659',\n",
       " b'28467',\n",
       " b'28478',\n",
       " b'29647',\n",
       " b'30144',\n",
       " b'30555',\n",
       " b'32136',\n",
       " b'32671',\n",
       " b'32820',\n",
       " b'32821',\n",
       " b'32837',\n",
       " b'32935',\n",
       " b'33049',\n",
       " b'33382',\n",
       " b'33518',\n",
       " b'33593',\n",
       " b'33702',\n",
       " b'33828',\n",
       " b'34108',\n",
       " b'34192',\n",
       " b'34674',\n",
       " b'34827',\n",
       " b'34917',\n",
       " b'34933',\n",
       " b'35013',\n",
       " b'35107',\n",
       " b'35210',\n",
       " b'35340',\n",
       " b'35610',\n",
       " b'35693',\n",
       " b'35720',\n",
       " b'35757',\n",
       " b'36043',\n",
       " b'36382',\n",
       " b'37728',\n",
       " b'37955',\n",
       " b'38169',\n",
       " b'38289',\n",
       " b'38507',\n",
       " b'38522',\n",
       " b'38528',\n",
       " b'38634',\n",
       " b'38730',\n",
       " b'38769',\n",
       " b'38881',\n",
       " b'39004',\n",
       " b'39100',\n",
       " b'39219',\n",
       " b'39222',\n",
       " b'39301',\n",
       " b'39380',\n",
       " b'39656',\n",
       " b'39676',\n",
       " b'39792',\n",
       " b'39897',\n",
       " b'39987',\n",
       " b'40129',\n",
       " b'40186',\n",
       " b'41524',\n",
       " b'41954',\n",
       " b'42076',\n",
       " b'42156',\n",
       " b'42537',\n",
       " b'42596',\n",
       " b'42781',\n",
       " b'43321',\n",
       " b'43834',\n",
       " b'43924',\n",
       " b'43926',\n",
       " b'44135',\n",
       " b'44427',\n",
       " b'45766',\n",
       " b'48124',\n",
       " b'48431',\n",
       " b'48449',\n",
       " b'48460',\n",
       " b'48616',\n",
       " b'48703',\n",
       " b'48828',\n",
       " b'49037',\n",
       " b'50480',\n",
       " b'50721',\n",
       " b'50999',\n",
       " b'51119',\n",
       " b'51537',\n",
       " b'52164',\n",
       " b'52529',\n",
       " b'53732',\n",
       " b'53735',\n",
       " b'54096',\n",
       " b'55022',\n",
       " b'55518',\n",
       " b'55895',\n",
       " b'55963',\n",
       " b'56232',\n",
       " b'56797',\n",
       " b'57131',\n",
       " b'57282',\n",
       " b'58017',\n",
       " b'58061',\n",
       " b'58398',\n",
       " b'58420',\n",
       " b'58966',\n",
       " b'59568',\n",
       " b'60383',\n",
       " b'60605',\n",
       " b'60961',\n",
       " b'61153',\n",
       " b'62814',\n",
       " b'64832',\n",
       " b'64930',\n",
       " b'64931',\n",
       " b'65065',\n",
       " b'66290',\n",
       " b'66604',\n",
       " b'66841',\n",
       " b'68211',\n",
       " b'68525',\n",
       " b'68756',\n",
       " b'68948',\n",
       " b'69137',\n",
       " b'69207',\n",
       " b'69347',\n",
       " b'70581',\n",
       " b'70647',\n",
       " b'70829',\n",
       " b'72992',\n",
       " b'73728',\n",
       " b'73822']"
      ]
     },
     "execution_count": 24,
     "metadata": {},
     "output_type": "execute_result"
    }
   ],
   "source": [
    "data[0].split()"
   ]
  },
  {
   "cell_type": "code",
   "execution_count": 25,
   "id": "38e93347",
   "metadata": {},
   "outputs": [],
   "source": [
    "# now we have to specially fetch the email data\n",
    "for dat in data[0].split():\n",
    "    result, email_data = m.fetch(dat,\"(RFC822)\")"
   ]
  },
  {
   "cell_type": "code",
   "execution_count": 28,
   "id": "6454c75d",
   "metadata": {},
   "outputs": [],
   "source": [
    "raw_email = email_data[0][1]"
   ]
  },
  {
   "cell_type": "code",
   "execution_count": 29,
   "id": "96678c85",
   "metadata": {},
   "outputs": [
    {
     "data": {
      "text/plain": [
       "b'Bcc: rubdul@gmail.com\\r\\nReturn-Path: <rubdul@gmail.com>\\r\\nReceived: from DESKTOP-6DQMH08.lan (2603-7000-713e-a6b2-15d9-e27f-0bbe-4c19.res6.spectrum.com. [2603:7000:713e:a6b2:15d9:e27f:bbe:4c19])\\r\\n        by smtp.gmail.com with ESMTPSA id de41-20020a05620a372900b006aefa015c05sm14564071qkb.25.2022.07.19.15.03.08\\r\\n        for <rubdul@gmail.com>\\r\\n        (version=TLS1_3 cipher=TLS_AES_256_GCM_SHA384 bits=256/256);\\r\\n        Tue, 19 Jul 2022 15:03:09 -0700 (PDT)\\r\\nMessage-ID: <62d72a1d.1c69fb81.f8e0d.f2f4@mx.google.com>\\r\\nDate: Tue, 19 Jul 2022 15:03:09 -0700 (PDT)\\r\\nFrom: rubdul@gmail.com\\r\\nSubject: test\\r\\n\\r\\nThis is a test message from a python script\\r\\n'"
      ]
     },
     "execution_count": 29,
     "metadata": {},
     "output_type": "execute_result"
    }
   ],
   "source": [
    "raw_email"
   ]
  },
  {
   "cell_type": "code",
   "execution_count": 30,
   "id": "e5e4b939",
   "metadata": {},
   "outputs": [],
   "source": [
    "# decode the raw email string\n",
    "raw_email_string = raw_email.decode('utf-8')"
   ]
  },
  {
   "cell_type": "code",
   "execution_count": 31,
   "id": "f5b0bc4d",
   "metadata": {},
   "outputs": [],
   "source": [
    "import email"
   ]
  },
  {
   "cell_type": "code",
   "execution_count": 33,
   "id": "351127ab",
   "metadata": {},
   "outputs": [],
   "source": [
    "email_message = email.message_from_string(raw_email_string)"
   ]
  },
  {
   "cell_type": "code",
   "execution_count": 34,
   "id": "453d289f",
   "metadata": {},
   "outputs": [
    {
     "name": "stdout",
     "output_type": "stream",
     "text": [
      "b'This is a test message from a python script\\r\\n'\n"
     ]
    }
   ],
   "source": [
    "for part in email_message.walk():\n",
    "    \n",
    "    if part.get_content_type() == 'text/plain':\n",
    "        body= part.get_payload(decode=True)\n",
    "        print(body)"
   ]
  },
  {
   "cell_type": "code",
   "execution_count": null,
   "id": "2bdf59ea",
   "metadata": {},
   "outputs": [],
   "source": []
  },
  {
   "cell_type": "code",
   "execution_count": null,
   "id": "0277206f",
   "metadata": {},
   "outputs": [],
   "source": []
  },
  {
   "cell_type": "code",
   "execution_count": null,
   "id": "11150da7",
   "metadata": {},
   "outputs": [],
   "source": []
  }
 ],
 "metadata": {
  "kernelspec": {
   "display_name": "Python 3 (ipykernel)",
   "language": "python",
   "name": "python3"
  },
  "language_info": {
   "codemirror_mode": {
    "name": "ipython",
    "version": 3
   },
   "file_extension": ".py",
   "mimetype": "text/x-python",
   "name": "python",
   "nbconvert_exporter": "python",
   "pygments_lexer": "ipython3",
   "version": "3.9.7"
  }
 },
 "nbformat": 4,
 "nbformat_minor": 5
}
