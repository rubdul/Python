{
 "cells": [
  {
   "cell_type": "code",
   "execution_count": 1,
   "id": "b1982e2d",
   "metadata": {},
   "outputs": [],
   "source": [
    "# You can use the built in smtp library in python to accomplish this."
   ]
  },
  {
   "cell_type": "code",
   "execution_count": null,
   "id": "50b8b93f",
   "metadata": {},
   "outputs": [],
   "source": [
    "# You will need an app password for the script"
   ]
  },
  {
   "cell_type": "code",
   "execution_count": 2,
   "id": "a9699245",
   "metadata": {},
   "outputs": [],
   "source": [
    "import smtplib"
   ]
  },
  {
   "cell_type": "code",
   "execution_count": 11,
   "id": "ae68cbd9",
   "metadata": {},
   "outputs": [],
   "source": [
    "# we're using gmail as the object\n",
    "smtp_object = smtplib.SMTP('smtp.gmail.com',587)"
   ]
  },
  {
   "cell_type": "code",
   "execution_count": 12,
   "id": "2dd928a9",
   "metadata": {},
   "outputs": [
    {
     "data": {
      "text/plain": [
       "(250,\n",
       " b'smtp.gmail.com at your service, [2603:7000:713e:a6b2:15d9:e27f:bbe:4c19]\\nSIZE 35882577\\n8BITMIME\\nSTARTTLS\\nENHANCEDSTATUSCODES\\nPIPELINING\\nCHUNKING\\nSMTPUTF8')"
      ]
     },
     "execution_count": 12,
     "metadata": {},
     "output_type": "execute_result"
    }
   ],
   "source": [
    "# Now you need to immediately run an ehlo script to greet the server\n",
    "smtp_object.ehlo()\n"
   ]
  },
  {
   "cell_type": "code",
   "execution_count": 13,
   "id": "ddf8f3b9",
   "metadata": {},
   "outputs": [
    {
     "data": {
      "text/plain": [
       "(220, b'2.0.0 Ready to start TLS')"
      ]
     },
     "execution_count": 13,
     "metadata": {},
     "output_type": "execute_result"
    }
   ],
   "source": [
    "# Now find out the encryption\n",
    "smtp_object.starttls()"
   ]
  },
  {
   "cell_type": "code",
   "execution_count": null,
   "id": "7bec4462",
   "metadata": {},
   "outputs": [],
   "source": [
    "# Now setup the email and the password and use the input function to not have it compromised in the script"
   ]
  },
  {
   "cell_type": "code",
   "execution_count": 6,
   "id": "03ed468e",
   "metadata": {},
   "outputs": [],
   "source": [
    "import getpass"
   ]
  },
  {
   "cell_type": "code",
   "execution_count": 9,
   "id": "c31aee97",
   "metadata": {},
   "outputs": [
    {
     "name": "stdout",
     "output_type": "stream",
     "text": [
      "Enter your password: ········\n"
     ]
    }
   ],
   "source": [
    "password = getpass.getpass('Enter your password: ')"
   ]
  },
  {
   "cell_type": "code",
   "execution_count": null,
   "id": "f588ebd6",
   "metadata": {},
   "outputs": [],
   "source": [
    "# now we need to setup two step verification"
   ]
  },
  {
   "cell_type": "code",
   "execution_count": 8,
   "id": "d63fbbc7",
   "metadata": {},
   "outputs": [
    {
     "name": "stdout",
     "output_type": "stream",
     "text": [
      "Email please: ········\n"
     ]
    }
   ],
   "source": [
    "email = getpass.getpass('Email please: ')"
   ]
  },
  {
   "cell_type": "code",
   "execution_count": 14,
   "id": "07a12c15",
   "metadata": {},
   "outputs": [
    {
     "data": {
      "text/plain": [
       "(235, b'2.7.0 Accepted')"
      ]
     },
     "execution_count": 14,
     "metadata": {},
     "output_type": "execute_result"
    }
   ],
   "source": [
    "smtp_object.login(email,password)"
   ]
  },
  {
   "cell_type": "code",
   "execution_count": 15,
   "id": "f11c2a64",
   "metadata": {},
   "outputs": [
    {
     "data": {
      "text/plain": [
       "{}"
      ]
     },
     "execution_count": 15,
     "metadata": {},
     "output_type": "execute_result"
    }
   ],
   "source": [
    "from_address= email\n",
    "to_address= email\n",
    "subject = 'test'\n",
    "message = 'This is a test message from a python script'\n",
    "msg = \"Subject: \" + subject + '\\n' + message\n",
    "\n",
    "\n",
    "smtp_object.sendmail(from_address,to_address,msg)"
   ]
  },
  {
   "cell_type": "code",
   "execution_count": 16,
   "id": "7fabc9d6",
   "metadata": {},
   "outputs": [
    {
     "data": {
      "text/plain": [
       "(221,\n",
       " b'2.0.0 closing connection de41-20020a05620a372900b006aefa015c05sm14564071qkb.25 - gsmtp')"
      ]
     },
     "execution_count": 16,
     "metadata": {},
     "output_type": "execute_result"
    }
   ],
   "source": [
    "# Now exit the smtp protocol\n",
    "smtp_object.quit()"
   ]
  },
  {
   "cell_type": "code",
   "execution_count": null,
   "id": "024fed8d",
   "metadata": {},
   "outputs": [],
   "source": []
  },
  {
   "cell_type": "code",
   "execution_count": null,
   "id": "c5b57695",
   "metadata": {},
   "outputs": [],
   "source": []
  },
  {
   "cell_type": "code",
   "execution_count": null,
   "id": "14085880",
   "metadata": {},
   "outputs": [],
   "source": []
  }
 ],
 "metadata": {
  "kernelspec": {
   "display_name": "Python 3 (ipykernel)",
   "language": "python",
   "name": "python3"
  },
  "language_info": {
   "codemirror_mode": {
    "name": "ipython",
    "version": 3
   },
   "file_extension": ".py",
   "mimetype": "text/x-python",
   "name": "python",
   "nbconvert_exporter": "python",
   "pygments_lexer": "ipython3",
   "version": "3.9.7"
  }
 },
 "nbformat": 4,
 "nbformat_minor": 5
}
