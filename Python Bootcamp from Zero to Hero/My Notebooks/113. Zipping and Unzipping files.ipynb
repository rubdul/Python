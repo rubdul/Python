{
 "cells": [
  {
   "cell_type": "markdown",
   "id": "94db1902",
   "metadata": {},
   "source": [
    "    We can use the zipfile module for handling file zipping"
   ]
  },
  {
   "cell_type": "code",
   "execution_count": 7,
   "id": "5d697b14",
   "metadata": {},
   "outputs": [],
   "source": [
    "f = open('fileone.txt','w+')\n",
    "f.write('One File')\n",
    "f.close()"
   ]
  },
  {
   "cell_type": "code",
   "execution_count": 2,
   "id": "bf3774e8",
   "metadata": {},
   "outputs": [],
   "source": [
    "f2 = open('filetwo.txt','w+')\n",
    "f2.write('Two files')\n",
    "f.close()"
   ]
  },
  {
   "cell_type": "code",
   "execution_count": null,
   "id": "f24a0f60",
   "metadata": {},
   "outputs": [],
   "source": []
  },
  {
   "cell_type": "code",
   "execution_count": 3,
   "id": "b7f277fd",
   "metadata": {},
   "outputs": [],
   "source": [
    "import zipfile"
   ]
  },
  {
   "cell_type": "code",
   "execution_count": null,
   "id": "080dc0cc",
   "metadata": {},
   "outputs": [],
   "source": [
    "# First Create a zip file"
   ]
  },
  {
   "cell_type": "code",
   "execution_count": 4,
   "id": "5e4c6805",
   "metadata": {},
   "outputs": [],
   "source": [
    "comp_file = zipfile.ZipFile('comp_file.zip','w')"
   ]
  },
  {
   "cell_type": "code",
   "execution_count": 8,
   "id": "e6b96da0",
   "metadata": {},
   "outputs": [],
   "source": [
    "comp_file.write('fileone.txt', compress_type=zipfile.ZIP_DEFLATED)"
   ]
  },
  {
   "cell_type": "code",
   "execution_count": 5,
   "id": "91a77d21",
   "metadata": {},
   "outputs": [],
   "source": [
    "comp_file.write('filetwo.txt', compress_type=zipfile.ZIP_DEFLATED)"
   ]
  },
  {
   "cell_type": "code",
   "execution_count": null,
   "id": "67169861",
   "metadata": {},
   "outputs": [],
   "source": [
    "# Extracting the contents of a zip folder "
   ]
  },
  {
   "cell_type": "code",
   "execution_count": 10,
   "id": "f6ff6528",
   "metadata": {},
   "outputs": [],
   "source": [
    "comp_file.close()"
   ]
  },
  {
   "cell_type": "code",
   "execution_count": 11,
   "id": "41628ae6",
   "metadata": {},
   "outputs": [],
   "source": [
    "zip_obj = zipfile.ZipFile('comp_file.zip','r')"
   ]
  },
  {
   "cell_type": "code",
   "execution_count": 12,
   "id": "26039b37",
   "metadata": {},
   "outputs": [],
   "source": [
    "zip_obj.extractall('extracted_content')"
   ]
  },
  {
   "cell_type": "code",
   "execution_count": null,
   "id": "d3365582",
   "metadata": {},
   "outputs": [],
   "source": [
    "# We can also manipulate zip files using shell utility"
   ]
  },
  {
   "cell_type": "code",
   "execution_count": 13,
   "id": "32e94ab7",
   "metadata": {},
   "outputs": [],
   "source": [
    "import shutil"
   ]
  },
  {
   "cell_type": "code",
   "execution_count": 24,
   "id": "813bb9ac",
   "metadata": {},
   "outputs": [
    {
     "data": {
      "text/plain": [
       "'C:\\\\Users\\\\Microsoft\\\\Documents\\\\Python\\\\Python Bootcamp from Zero to Hero\\\\My Notebooks'"
      ]
     },
     "execution_count": 24,
     "metadata": {},
     "output_type": "execute_result"
    }
   ],
   "source": [
    "pwd"
   ]
  },
  {
   "cell_type": "code",
   "execution_count": 25,
   "id": "5a0a111f",
   "metadata": {},
   "outputs": [],
   "source": [
    "dir_to_zip = 'C:\\\\Users\\\\Microsoft\\\\Documents\\\\Python\\\\Python Bootcamp from Zero to Hero\\\\My Notebooks\\\\extracted_content'"
   ]
  },
  {
   "cell_type": "code",
   "execution_count": 26,
   "id": "658a9e5f",
   "metadata": {},
   "outputs": [],
   "source": [
    "output_filename = 'example'"
   ]
  },
  {
   "cell_type": "code",
   "execution_count": null,
   "id": "3e43bc6c",
   "metadata": {},
   "outputs": [],
   "source": [
    "# Make the zip file"
   ]
  },
  {
   "cell_type": "code",
   "execution_count": 27,
   "id": "2f4ed6fa",
   "metadata": {},
   "outputs": [
    {
     "data": {
      "text/plain": [
       "'C:\\\\Users\\\\Microsoft\\\\Documents\\\\Python\\\\Python Bootcamp from Zero to Hero\\\\My Notebooks\\\\example.zip'"
      ]
     },
     "execution_count": 27,
     "metadata": {},
     "output_type": "execute_result"
    }
   ],
   "source": [
    "shutil.make_archive(output_filename,'zip',dir_to_zip)"
   ]
  },
  {
   "cell_type": "code",
   "execution_count": null,
   "id": "b1b2d2c1",
   "metadata": {},
   "outputs": [],
   "source": [
    "# Now extract the zip file"
   ]
  },
  {
   "cell_type": "code",
   "execution_count": 29,
   "id": "be52ca95",
   "metadata": {},
   "outputs": [],
   "source": [
    "shutil.unpack_archive('example.zip','example_unpacked')"
   ]
  },
  {
   "cell_type": "code",
   "execution_count": null,
   "id": "eaabe225",
   "metadata": {},
   "outputs": [],
   "source": []
  }
 ],
 "metadata": {
  "kernelspec": {
   "display_name": "Python 3 (ipykernel)",
   "language": "python",
   "name": "python3"
  },
  "language_info": {
   "codemirror_mode": {
    "name": "ipython",
    "version": 3
   },
   "file_extension": ".py",
   "mimetype": "text/x-python",
   "name": "python",
   "nbconvert_exporter": "python",
   "pygments_lexer": "ipython3",
   "version": "3.9.7"
  }
 },
 "nbformat": 4,
 "nbformat_minor": 5
}
