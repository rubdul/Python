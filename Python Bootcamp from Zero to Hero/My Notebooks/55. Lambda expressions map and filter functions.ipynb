{
 "cells": [
  {
   "cell_type": "code",
   "execution_count": 2,
   "id": "93ecfe52",
   "metadata": {},
   "outputs": [],
   "source": [
    "# Lambda Expressions are one time use functions that you call and never use again"
   ]
  },
  {
   "cell_type": "code",
   "execution_count": 4,
   "id": "1b2a140f",
   "metadata": {},
   "outputs": [],
   "source": [
    "# first make a function to square numbers\n",
    "def square(num):\n",
    "    return num**2"
   ]
  },
  {
   "cell_type": "code",
   "execution_count": 26,
   "id": "525c8ec6",
   "metadata": {},
   "outputs": [],
   "source": [
    "# now make a list of numbers\n",
    "nums = [1,2,3,4,5,6]"
   ]
  },
  {
   "cell_type": "code",
   "execution_count": 8,
   "id": "94e8b876",
   "metadata": {},
   "outputs": [
    {
     "name": "stdout",
     "output_type": "stream",
     "text": [
      "1\n",
      "4\n",
      "9\n",
      "16\n",
      "25\n"
     ]
    }
   ],
   "source": [
    "# You can the map function to apply the sqaure function to every list item\n",
    "\n",
    "# you need to iterate through map because it normally returns a memory location rather than a value\n",
    "for item in map(square,nums):\n",
    "    print(item)"
   ]
  },
  {
   "cell_type": "code",
   "execution_count": 11,
   "id": "e660d40a",
   "metadata": {},
   "outputs": [
    {
     "data": {
      "text/plain": [
       "[1, 4, 9, 16, 25]"
      ]
     },
     "execution_count": 11,
     "metadata": {},
     "output_type": "execute_result"
    }
   ],
   "source": [
    "# or you can do it like this \n",
    "list(map(square,nums))"
   ]
  },
  {
   "cell_type": "code",
   "execution_count": 12,
   "id": "957f71c2",
   "metadata": {},
   "outputs": [],
   "source": [
    "# now lets try to apply this to strings"
   ]
  },
  {
   "cell_type": "code",
   "execution_count": 22,
   "id": "70235dd4",
   "metadata": {},
   "outputs": [],
   "source": [
    "def splicer(mystring):\n",
    "    if len(mystring)%2==0:\n",
    "        return 'EVEN'\n",
    "    else:\n",
    "        return mystring[0]"
   ]
  },
  {
   "cell_type": "code",
   "execution_count": 23,
   "id": "5623a8a7",
   "metadata": {},
   "outputs": [],
   "source": [
    "names = ['Andy','Eve','Stacy']"
   ]
  },
  {
   "cell_type": "code",
   "execution_count": 24,
   "id": "f9452474",
   "metadata": {},
   "outputs": [
    {
     "data": {
      "text/plain": [
       "['EVEN', 'E', 'S']"
      ]
     },
     "execution_count": 24,
     "metadata": {},
     "output_type": "execute_result"
    }
   ],
   "source": [
    "list(map(splicer,names))"
   ]
  },
  {
   "cell_type": "code",
   "execution_count": null,
   "id": "788347d2",
   "metadata": {},
   "outputs": [],
   "source": [
    "# The filter function returns the iterator yielding the items of the iterable\n",
    "# for which it is true"
   ]
  },
  {
   "cell_type": "code",
   "execution_count": 25,
   "id": "923e9c13",
   "metadata": {},
   "outputs": [],
   "source": [
    "def check_even(num):\n",
    "    return num%2 == 0"
   ]
  },
  {
   "cell_type": "code",
   "execution_count": 29,
   "id": "4d5346a6",
   "metadata": {},
   "outputs": [
    {
     "data": {
      "text/plain": [
       "[2, 4, 6]"
      ]
     },
     "execution_count": 29,
     "metadata": {},
     "output_type": "execute_result"
    }
   ],
   "source": [
    "list(filter(check_even, nums))"
   ]
  },
  {
   "cell_type": "code",
   "execution_count": 32,
   "id": "ae800d0a",
   "metadata": {},
   "outputs": [
    {
     "name": "stdout",
     "output_type": "stream",
     "text": [
      "2\n",
      "4\n",
      "6\n"
     ]
    }
   ],
   "source": [
    "# you can also iterate through this in a for loop\n",
    "for num in filter(check_even, nums):\n",
    "    print(num)"
   ]
  },
  {
   "cell_type": "code",
   "execution_count": 33,
   "id": "19e28421",
   "metadata": {},
   "outputs": [],
   "source": [
    "# Lambda function explanation"
   ]
  },
  {
   "cell_type": "code",
   "execution_count": null,
   "id": "d7bc8295",
   "metadata": {},
   "outputs": [],
   "source": [
    "def square(num): return num ** 2"
   ]
  },
  {
   "cell_type": "code",
   "execution_count": 34,
   "id": "05cbb690",
   "metadata": {},
   "outputs": [
    {
     "data": {
      "text/plain": [
       "<function __main__.<lambda>(num)>"
      ]
     },
     "execution_count": 34,
     "metadata": {},
     "output_type": "execute_result"
    }
   ],
   "source": [
    "# instead of doing def you can just use a lambda expression for temporary storage\n",
    "lambda num: num**2"
   ]
  },
  {
   "cell_type": "code",
   "execution_count": 36,
   "id": "64780035",
   "metadata": {},
   "outputs": [
    {
     "data": {
      "text/plain": [
       "4"
      ]
     },
     "execution_count": 36,
     "metadata": {},
     "output_type": "execute_result"
    }
   ],
   "source": [
    "# you can also assign the lambda function\n",
    "square = lambda num: num**2\n",
    "square(2)"
   ]
  },
  {
   "cell_type": "code",
   "execution_count": null,
   "id": "902a703c",
   "metadata": {},
   "outputs": [],
   "source": [
    "# you can also use lambda expressions in conjunction with maps and filters"
   ]
  },
  {
   "cell_type": "code",
   "execution_count": 38,
   "id": "06f0bfb3",
   "metadata": {},
   "outputs": [
    {
     "data": {
      "text/plain": [
       "[1, 4, 9, 16, 25, 36]"
      ]
     },
     "execution_count": 38,
     "metadata": {},
     "output_type": "execute_result"
    }
   ],
   "source": [
    "list(map(lambda num: num **2, nums))"
   ]
  },
  {
   "cell_type": "code",
   "execution_count": 39,
   "id": "768b207e",
   "metadata": {},
   "outputs": [
    {
     "data": {
      "text/plain": [
       "[2, 4, 6]"
      ]
     },
     "execution_count": 39,
     "metadata": {},
     "output_type": "execute_result"
    }
   ],
   "source": [
    "list(filter(lambda num: num%2==0, nums))"
   ]
  }
 ],
 "metadata": {
  "kernelspec": {
   "display_name": "Python 3 (ipykernel)",
   "language": "python",
   "name": "python3"
  },
  "language_info": {
   "codemirror_mode": {
    "name": "ipython",
    "version": 3
   },
   "file_extension": ".py",
   "mimetype": "text/x-python",
   "name": "python",
   "nbconvert_exporter": "python",
   "pygments_lexer": "ipython3",
   "version": "3.9.7"
  }
 },
 "nbformat": 4,
 "nbformat_minor": 5
}
