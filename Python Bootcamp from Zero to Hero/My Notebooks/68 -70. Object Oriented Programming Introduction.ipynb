{
 "cells": [
  {
   "cell_type": "code",
   "execution_count": 2,
   "id": "f657bd0e",
   "metadata": {},
   "outputs": [],
   "source": [
    "# Make a class called circle"
   ]
  },
  {
   "cell_type": "code",
   "execution_count": null,
   "id": "df426d87",
   "metadata": {},
   "outputs": [],
   "source": []
  },
  {
   "cell_type": "code",
   "execution_count": 16,
   "id": "a44f8263",
   "metadata": {},
   "outputs": [],
   "source": [
    "class Circle:\n",
    "    \n",
    "    # Class Attribute\n",
    "    pi = 3.14\n",
    "    \n",
    "    def __init__(self, radius=1):\n",
    "        self.radius = radius \n",
    "    \n",
    "    def get_circumference(self):\n",
    "        circumference = self.radius * 2 * Circle.pi\n",
    "        return circumference\n",
    "    \n",
    "    def get_area(self):\n",
    "        area  = self.radius**2 * Circle.pi\n",
    "        return area\n",
    "    "
   ]
  },
  {
   "cell_type": "code",
   "execution_count": 20,
   "id": "ee89eb11",
   "metadata": {},
   "outputs": [],
   "source": [
    "circle1 = Circle(5)"
   ]
  },
  {
   "cell_type": "code",
   "execution_count": 21,
   "id": "67943e99",
   "metadata": {},
   "outputs": [
    {
     "data": {
      "text/plain": [
       "78.5"
      ]
     },
     "execution_count": 21,
     "metadata": {},
     "output_type": "execute_result"
    }
   ],
   "source": [
    "circle1.get_area()"
   ]
  },
  {
   "cell_type": "code",
   "execution_count": 32,
   "id": "5701d80e",
   "metadata": {},
   "outputs": [],
   "source": [
    "# Now practice inheritance and polymorphisim\n",
    "class Animal:\n",
    "    \n",
    "    def __init__(self):\n",
    "        print(\"Animal Created!\")\n",
    "    \n",
    "    def whoAmI(self):\n",
    "        print(\"Animal\")\n",
    "        \n",
    "    def eat(self):\n",
    "        print(\"Animal is eating\")\n",
    "        \n",
    "    def speak(self):\n",
    "        print(\"Hello I am an Animal\")"
   ]
  },
  {
   "cell_type": "code",
   "execution_count": 33,
   "id": "949963f6",
   "metadata": {},
   "outputs": [],
   "source": [
    "\n",
    "class Dog(Animal):\n",
    "    \n",
    "    def __init__(self):\n",
    "        Animal.__init__(self)\n",
    "        print(\"Dog created\")\n",
    "        \n",
    "    def whoAmI(self):\n",
    "        print(\"Dog\")\n",
    "    \n",
    "    def bark(self):\n",
    "        print(\"Bark Bark I am a Dog\")\n",
    "    \n",
    "    def speak(self):\n",
    "        print(\"Luke I am your father.\")\n",
    "        "
   ]
  },
  {
   "cell_type": "code",
   "execution_count": 40,
   "id": "96905b08",
   "metadata": {},
   "outputs": [],
   "source": [
    "class Cat(Animal):\n",
    "    \n",
    "    def __init__(self):\n",
    "        Animal.__init__(self)\n",
    "        print(\"Cat created\")\n",
    "    \n",
    "    def whoAmI(self):\n",
    "        print(\"Cat\")\n",
    "        \n",
    "    def meow(self):\n",
    "        print(\"meow\")\n",
    "        \n",
    "    def speak(self):\n",
    "        print(\"Hello I am a cat\")"
   ]
  },
  {
   "cell_type": "code",
   "execution_count": 42,
   "id": "54a73e7a",
   "metadata": {},
   "outputs": [
    {
     "name": "stdout",
     "output_type": "stream",
     "text": [
      "Animal Created!\n",
      "Dog created\n"
     ]
    }
   ],
   "source": [
    "goddard = Dog()"
   ]
  },
  {
   "cell_type": "code",
   "execution_count": 29,
   "id": "d177d18b",
   "metadata": {},
   "outputs": [
    {
     "name": "stdout",
     "output_type": "stream",
     "text": [
      "Dog\n"
     ]
    }
   ],
   "source": [
    "goddard.whoAmI()"
   ]
  },
  {
   "cell_type": "code",
   "execution_count": 35,
   "id": "3b0465c3",
   "metadata": {},
   "outputs": [
    {
     "name": "stdout",
     "output_type": "stream",
     "text": [
      "Bark Bark I am a Dog\n"
     ]
    }
   ],
   "source": [
    "goddard.bark()"
   ]
  },
  {
   "cell_type": "code",
   "execution_count": 37,
   "id": "22f90887",
   "metadata": {},
   "outputs": [
    {
     "name": "stdout",
     "output_type": "stream",
     "text": [
      "Animal Created!\n",
      "Cat created\n"
     ]
    }
   ],
   "source": [
    "katy = Cat()"
   ]
  },
  {
   "cell_type": "code",
   "execution_count": 38,
   "id": "94c26c56",
   "metadata": {},
   "outputs": [
    {
     "name": "stdout",
     "output_type": "stream",
     "text": [
      "Hello I am a cat\n"
     ]
    }
   ],
   "source": [
    "katy.speak()"
   ]
  },
  {
   "cell_type": "code",
   "execution_count": 43,
   "id": "8e36cd1b",
   "metadata": {},
   "outputs": [
    {
     "name": "stdout",
     "output_type": "stream",
     "text": [
      "Luke I am your father.\n"
     ]
    }
   ],
   "source": [
    "goddard.speak()"
   ]
  },
  {
   "cell_type": "code",
   "execution_count": null,
   "id": "fee69d42",
   "metadata": {},
   "outputs": [],
   "source": [
    "# If you want to use abstract classes create a error raise to prevent the original method from being called."
   ]
  },
  {
   "cell_type": "code",
   "execution_count": null,
   "id": "af5c0b72",
   "metadata": {},
   "outputs": [],
   "source": []
  },
  {
   "cell_type": "code",
   "execution_count": null,
   "id": "b37bebc9",
   "metadata": {},
   "outputs": [],
   "source": []
  }
 ],
 "metadata": {
  "kernelspec": {
   "display_name": "Python 3 (ipykernel)",
   "language": "python",
   "name": "python3"
  },
  "language_info": {
   "codemirror_mode": {
    "name": "ipython",
    "version": 3
   },
   "file_extension": ".py",
   "mimetype": "text/x-python",
   "name": "python",
   "nbconvert_exporter": "python",
   "pygments_lexer": "ipython3",
   "version": "3.9.7"
  }
 },
 "nbformat": 4,
 "nbformat_minor": 5
}
