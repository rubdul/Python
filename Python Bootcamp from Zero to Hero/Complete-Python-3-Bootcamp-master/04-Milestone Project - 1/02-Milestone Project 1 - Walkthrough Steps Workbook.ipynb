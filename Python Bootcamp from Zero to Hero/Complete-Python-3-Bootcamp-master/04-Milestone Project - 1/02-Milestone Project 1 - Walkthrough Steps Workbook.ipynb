{
 "cells": [
  {
   "cell_type": "markdown",
   "metadata": {},
   "source": [
    "___\n",
    "\n",
    "<a href='https://www.udemy.com/user/joseportilla/'><img src='../Pierian_Data_Logo.png'/></a>\n",
    "___\n",
    "<center><em>Content Copyright by Pierian Data</em></center>"
   ]
  },
  {
   "cell_type": "markdown",
   "metadata": {},
   "source": [
    "# Milestone Project 1: Walkthrough Steps Workbook\n",
    "\n",
    "Below is a set of steps for you to follow to try to create the Tic Tac Toe Milestone Project game!"
   ]
  },
  {
   "cell_type": "markdown",
   "metadata": {},
   "source": [
    "#### Some suggested tools before you get started:\n",
    "To take input from a user:\n",
    "\n",
    "    player1 = input(\"Please pick a marker 'X' or 'O'\")\n",
    "    \n",
    "Note that input() takes in a string. If you need an integer value, use\n",
    "\n",
    "    position = int(input('Please enter a number'))\n",
    "    \n",
    "<br>To clear the screen between moves:\n",
    "\n",
    "    from IPython.display import clear_output\n",
    "    clear_output()\n",
    "    \n",
    "Note that clear_output() will only work in jupyter. To clear the screen in other IDEs, consider:\n",
    "\n",
    "    print('\\n'*100)\n",
    "    \n",
    "This scrolls the previous board up out of view. Now on to the program!"
   ]
  },
  {
   "cell_type": "markdown",
   "metadata": {},
   "source": [
    "**Step 1: Write a function that can print out a board. Set up your board as a list, where each index 1-9 corresponds with a number on a number pad, so you get a 3 by 3 board representation.**"
   ]
  },
  {
   "cell_type": "code",
   "execution_count": 4,
   "metadata": {},
   "outputs": [],
   "source": [
    "from IPython.display import clear_output\n",
    "\n",
    "def display_board(board):\n",
    "        \n",
    "        print(board[6]+\" | \" + board[7]+\" | \" + board[8])\n",
    "        print(board[3]+\" | \" + board[4]+\" | \" + board[5])\n",
    "        print(board[0]+\" | \" + board[1]+\" | \" + board[2])\n",
    "        \n",
    "        pass"
   ]
  },
  {
   "cell_type": "markdown",
   "metadata": {},
   "source": [
    "**TEST Step 1:** run your function on a test version of the board list, and make adjustments as necessary"
   ]
  },
  {
   "cell_type": "code",
   "execution_count": 40,
   "metadata": {},
   "outputs": [
    {
     "name": "stdout",
     "output_type": "stream",
     "text": [
      "O | X | O\n",
      "X | O | X\n",
      "# | X | O\n"
     ]
    }
   ],
   "source": [
    "test_board = ['#','X','O' ,'X','O','X','O','X','O']\n",
    "display_board(test_board)"
   ]
  },
  {
   "cell_type": "markdown",
   "metadata": {},
   "source": [
    "**Step 2: Write a function that can take in a player input and assign their marker as 'X' or 'O'. Think about using *while* loops to continually ask until you get a correct answer.**"
   ]
  },
  {
   "cell_type": "code",
   "execution_count": 41,
   "metadata": {},
   "outputs": [],
   "source": [
    "def player_input():\n",
    "    \n",
    "    choice = 'wrong'\n",
    "    while choice not in ['x','X','o','O']:\n",
    "        choice = input(\"Do you want to X or O? Please select one: \")\n",
    "        \n",
    "        if choice in ['x','X']:\n",
    "            player_1 = 'X'\n",
    "            player_2 = 'O'\n",
    "        elif choice == 'o' or choice =='O':\n",
    "            player_1 = 'O'\n",
    "            player_2 = 'X'\n",
    "        else: \n",
    "            print(\"I didn't understand that please enter in 'X' or 'O' \")\n",
    "    \n",
    "    return (player_1,player_2)\n",
    "    pass"
   ]
  },
  {
   "cell_type": "markdown",
   "metadata": {},
   "source": [
    "**TEST Step 2:** run the function to make sure it returns the desired output"
   ]
  },
  {
   "cell_type": "code",
   "execution_count": 6,
   "metadata": {},
   "outputs": [],
   "source": []
  },
  {
   "cell_type": "code",
   "execution_count": 18,
   "metadata": {},
   "outputs": [
    {
     "data": {
      "text/plain": [
       "False"
      ]
     },
     "execution_count": 18,
     "metadata": {},
     "output_type": "execute_result"
    }
   ],
   "source": [
    "0 in range(1,9)"
   ]
  },
  {
   "cell_type": "code",
   "execution_count": 13,
   "metadata": {},
   "outputs": [
    {
     "data": {
      "text/plain": [
       "range(0, 9)"
      ]
     },
     "execution_count": 13,
     "metadata": {},
     "output_type": "execute_result"
    }
   ],
   "source": [
    "interval"
   ]
  },
  {
   "cell_type": "code",
   "execution_count": 7,
   "metadata": {
    "scrolled": false
   },
   "outputs": [
    {
     "name": "stdout",
     "output_type": "stream",
     "text": [
      "Do you want to X or O? Please select one: X\n"
     ]
    },
    {
     "data": {
      "text/plain": [
       "('X', 'O')"
      ]
     },
     "execution_count": 7,
     "metadata": {},
     "output_type": "execute_result"
    }
   ],
   "source": [
    "player_input()"
   ]
  },
  {
   "cell_type": "markdown",
   "metadata": {},
   "source": [
    "**Step 3: Write a function that takes in the board list object, a marker ('X' or 'O'), and a desired position (number 1-9) and assigns it to the board.**"
   ]
  },
  {
   "cell_type": "code",
   "execution_count": 94,
   "metadata": {},
   "outputs": [],
   "source": [
    "def place_marker(board, marker, position):\n",
    "    \n",
    "    \n",
    "    if int(position) in range(1,10):\n",
    "        board[int(position) - 1 ] = marker.upper()\n",
    "    \n",
    "    \n",
    "    pass"
   ]
  },
  {
   "cell_type": "markdown",
   "metadata": {},
   "source": [
    "**TEST Step 3:** run the place marker function using test parameters and display the modified board"
   ]
  },
  {
   "cell_type": "code",
   "execution_count": 43,
   "metadata": {
    "scrolled": false
   },
   "outputs": [
    {
     "name": "stdout",
     "output_type": "stream",
     "text": [
      "O | X | O\n",
      "X | O | X\n",
      "X | X | O\n"
     ]
    }
   ],
   "source": [
    "place_marker(test_board,'X',1)\n",
    "display_board(test_board)"
   ]
  },
  {
   "cell_type": "code",
   "execution_count": 11,
   "metadata": {},
   "outputs": [
    {
     "data": {
      "text/plain": [
       "False"
      ]
     },
     "execution_count": 11,
     "metadata": {},
     "output_type": "execute_result"
    }
   ],
   "source": [
    "all(ele == 'X' for ele in test_board[1:3])"
   ]
  },
  {
   "cell_type": "code",
   "execution_count": 13,
   "metadata": {},
   "outputs": [
    {
     "data": {
      "text/plain": [
       "['X', 'X', 'O']"
      ]
     },
     "execution_count": 13,
     "metadata": {},
     "output_type": "execute_result"
    }
   ],
   "source": [
    "row1 = list(map(test_board.__getitem__,[0,1,2]))\n",
    "\n",
    "row1"
   ]
  },
  {
   "cell_type": "markdown",
   "metadata": {},
   "source": [
    "**Step 4: Write a function that takes in a board and a mark (X or O) and then checks to see if that mark has won. **"
   ]
  },
  {
   "cell_type": "code",
   "execution_count": 108,
   "metadata": {},
   "outputs": [],
   "source": [
    "def win_check(board, mark):\n",
    "    \n",
    "    # capitalize the object first\n",
    "    mark = mark.upper()\n",
    "    \n",
    "    #use mapping to make rows columns and diagonals\n",
    "    row1 = list(map(board.__getitem__, [0,1,2]))\n",
    "    row2 = list(map(board.__getitem__, [3,4,5]))\n",
    "    row3 = list(map(board.__getitem__, [6,7,8]))\n",
    "    \n",
    "    col1 = list(map(board.__getitem__, [0,3,6]))\n",
    "    col2 = list(map(board.__getitem__, [1,4,7]))\n",
    "    col3 = list(map(board.__getitem__, [2,5,8]))\n",
    "    \n",
    "    diag1 = list(map(board.__getitem__, [0,4,8]))\n",
    "    diag2 = list(map(board.__getitem__, [2,4,6]))\n",
    "  \n",
    "    # check the rows,columns and diagonals for the matches\n",
    "    if all(ele == mark for ele in row1) or all(ele == mark for ele in row2) or all(ele == mark for ele in row3):\n",
    "        print('{} wins'.format(mark))\n",
    "        return(True)\n",
    "    \n",
    "    elif all(ele == mark for ele in col1) or all(ele == mark for ele in col2) or all(ele == mark for ele in col3):\n",
    "        print('{} wins'.format(mark))\n",
    "        return(True)\n",
    "    \n",
    "    elif all(ele == mark for ele in diag1) or all(ele == mark for ele in diag2): \n",
    "        print('{} wins'.format(mark))\n",
    "        return(True)\n",
    "    \n",
    "    else:\n",
    "        return(False)\n",
    "        "
   ]
  },
  {
   "cell_type": "code",
   "execution_count": 14,
   "metadata": {},
   "outputs": [
    {
     "name": "stdout",
     "output_type": "stream",
     "text": [
      "X wins\n",
      "X\n"
     ]
    },
    {
     "data": {
      "text/plain": [
       "'x'"
      ]
     },
     "execution_count": 14,
     "metadata": {},
     "output_type": "execute_result"
    }
   ],
   "source": [
    "marker = 'x'\n",
    "marker = marker.upper()\n",
    "print('{} wins'.format(marker))\n",
    "print(marker)\n",
    "marker.lower()"
   ]
  },
  {
   "cell_type": "markdown",
   "metadata": {},
   "source": [
    "**TEST Step 4:** run the win_check function against our test_board - it should return True"
   ]
  },
  {
   "cell_type": "code",
   "execution_count": 16,
   "metadata": {
    "scrolled": true
   },
   "outputs": [
    {
     "name": "stdout",
     "output_type": "stream",
     "text": [
      "O | X | O\n",
      "X | O | X\n",
      "X | X | O\n"
     ]
    }
   ],
   "source": [
    "place_marker(test_board,'x',8)\n",
    "display_board(test_board)"
   ]
  },
  {
   "cell_type": "code",
   "execution_count": 17,
   "metadata": {},
   "outputs": [
    {
     "data": {
      "text/plain": [
       "1"
      ]
     },
     "execution_count": 17,
     "metadata": {},
     "output_type": "execute_result"
    }
   ],
   "source": [
    "import random\n",
    "random.randint(1,2)"
   ]
  },
  {
   "cell_type": "code",
   "execution_count": 18,
   "metadata": {},
   "outputs": [
    {
     "name": "stdout",
     "output_type": "stream",
     "text": [
      "O wins\n"
     ]
    }
   ],
   "source": [
    "win_check(test_board,\"o\") # This checks out."
   ]
  },
  {
   "cell_type": "markdown",
   "metadata": {},
   "source": [
    "**Step 5: Write a function that uses the random module to randomly decide which player goes first. You may want to lookup random.randint() Return a string of which player went first.**"
   ]
  },
  {
   "cell_type": "code",
   "execution_count": 19,
   "metadata": {},
   "outputs": [],
   "source": [
    "import random\n",
    "\n",
    "def choose_first():\n",
    "    \n",
    "    choice = random.randint(1,2) \n",
    "    \n",
    "    if choice == 1:\n",
    "        print(\"Player X goes  first\")\n",
    "        return(choice)\n",
    "    else:\n",
    "        print(\"Player O goes first\")\n",
    "        return(choice)"
   ]
  },
  {
   "cell_type": "markdown",
   "metadata": {},
   "source": [
    "**Step 6: Write a function that returns a boolean indicating whether a space on the board is freely available.**"
   ]
  },
  {
   "cell_type": "code",
   "execution_count": 91,
   "metadata": {},
   "outputs": [],
   "source": [
    "def space_check(board, position):\n",
    "    \n",
    "    if board[position-1].upper() == \"O\" or board[position-1].upper() == \"X\":\n",
    "        print(\"That space is occupied you can't use it\")\n",
    "        return(False)\n",
    "    \n",
    "    else:\n",
    "        print(\"That position is free\")\n",
    "        return(True)"
   ]
  },
  {
   "cell_type": "code",
   "execution_count": 92,
   "metadata": {},
   "outputs": [
    {
     "name": "stdout",
     "output_type": "stream",
     "text": [
      "That position is free\n"
     ]
    },
    {
     "data": {
      "text/plain": [
       "['X', '$', 'O', 'X', 'O', 'X', 'O', 'X', 'O']"
      ]
     },
     "execution_count": 92,
     "metadata": {},
     "output_type": "execute_result"
    }
   ],
   "source": [
    "space_check(test_board, 2)\n",
    "\n",
    "test_board\n"
   ]
  },
  {
   "cell_type": "markdown",
   "metadata": {},
   "source": [
    "**Step 7: Write a function that checks if the board is full and returns a boolean value. True if full, False otherwise.**"
   ]
  },
  {
   "cell_type": "code",
   "execution_count": 46,
   "metadata": {},
   "outputs": [],
   "source": [
    "def full_board_check(board):\n",
    "    board_fill = []\n",
    "    \n",
    "    for mark in board:\n",
    "        if mark.upper() == \"X\" or mark.upper() == \"O\":\n",
    "            board_fill.append(True)\n",
    "    \n",
    "    if len(board_fill) >= 9:\n",
    "        print(\"The board is filled\")\n",
    "        return(True)\n",
    "    \n",
    "    else:\n",
    "        print(\"There are still some spots open on the board\")\n",
    "        return(False)\n",
    "    \n",
    "    \n",
    "    "
   ]
  },
  {
   "cell_type": "code",
   "execution_count": 50,
   "metadata": {},
   "outputs": [
    {
     "data": {
      "text/plain": [
       "['X', '$', 'O', 'X', 'O', 'X', 'O', 'X', 'O']"
      ]
     },
     "execution_count": 50,
     "metadata": {},
     "output_type": "execute_result"
    }
   ],
   "source": [
    "test_board"
   ]
  },
  {
   "cell_type": "code",
   "execution_count": 51,
   "metadata": {
    "scrolled": true
   },
   "outputs": [
    {
     "name": "stdout",
     "output_type": "stream",
     "text": [
      "There are still some spots open on the board\n"
     ]
    },
    {
     "data": {
      "text/plain": [
       "False"
      ]
     },
     "execution_count": 51,
     "metadata": {},
     "output_type": "execute_result"
    }
   ],
   "source": [
    "full_board_check(test_board)"
   ]
  },
  {
   "cell_type": "markdown",
   "metadata": {},
   "source": [
    "**Step 8: Write a function that asks for a player's next position (as a number 1-9) and then uses the function from step 6 to check if it's a free position. If it is, then return the position for later use.**"
   ]
  },
  {
   "cell_type": "code",
   "execution_count": 86,
   "metadata": {},
   "outputs": [],
   "source": [
    "def player_choice(board):\n",
    "    \n",
    "    n = True\n",
    "    #Ask for the current player's next position and then compare it to the filled or unfilled spots on the board\n",
    "    while(n):\n",
    "        choice = input(\"Please choose a spot on the board between 1 and 9: \")\n",
    "        \n",
    "        \n",
    "        if int(choice) in range(1,10) and space_check(game_board,int(choice)):\n",
    "            print()\n",
    "            n = False\n",
    "            return(int(choice))\n",
    "        \n",
    "        elif int(choice) not in range(1,10):\n",
    "            print(\"That number isn't between 1 and 9. Please choose one between 1 and 9.\")\n",
    "        \n",
    "        else:\n",
    "            print(\"I'm sorry that spot is not available please pick another one between 1 and 9.\")\n",
    "    "
   ]
  },
  {
   "cell_type": "markdown",
   "metadata": {},
   "source": [
    "**Step 9: Write a function that asks the player if they want to play again and returns a boolean True if they do want to play again.**"
   ]
  },
  {
   "cell_type": "code",
   "execution_count": 53,
   "metadata": {},
   "outputs": [],
   "source": [
    "def replay():\n",
    "    n = True\n",
    "    # Ask if they want to play again first\n",
    "    \n",
    "    \n",
    "    while(n):\n",
    "        choice = input(\"Do you want to play again: (Y/N)\")\n",
    "    \n",
    "        # Player says yes\n",
    "        if choice.upper() == \"Y\" or choice.upper() == \"YES\":\n",
    "            print(\"Alright let's set up the game again\")\n",
    "            n = False\n",
    "            return(True)\n",
    "\n",
    "        # player says no and ends the game\n",
    "        elif choice.upper() == \"N\" or choice.upper():\n",
    "            print(\"Game Over\")\n",
    "            n = False\n",
    "            return(False)\n",
    "\n",
    "        # In case of unintelligible answer.\n",
    "        else:\n",
    "            print(\"I'm sorry, but I didn't quite get that\")\n"
   ]
  },
  {
   "cell_type": "markdown",
   "metadata": {
    "collapsed": true
   },
   "source": [
    "**Step 10: Here comes the hard part! Use while loops and the functions you've made to run the game!**"
   ]
  },
  {
   "cell_type": "code",
   "execution_count": null,
   "metadata": {
    "collapsed": true
   },
   "outputs": [],
   "source": [
    "print('Welcome to Tic Tac Toe!')\n",
    "\n",
    "\n",
    "\n",
    "#while True:\n",
    "    # Set the game up here\n",
    "    #pass\n",
    "    \n",
    "    \n",
    "    \n",
    "    \n",
    "    #while game_on:\n",
    "        #Player 1 Turn\n",
    "        \n",
    "        \n",
    "        # Player2's turn.\n",
    "            \n",
    "            #pass\n",
    "\n",
    "    #if not replay():\n",
    "        #break"
   ]
  },
  {
   "cell_type": "code",
   "execution_count": 109,
   "metadata": {},
   "outputs": [
    {
     "name": "stdout",
     "output_type": "stream",
     "text": [
      "Welcome to Tic Tac Toe!\n",
      "Do you want to X or O? Please select one: x\n",
      "Player O goes first\n",
      "There are still some spots open on the board\n",
      "7 | 8 | 9\n",
      "4 | 5 | 6\n",
      "1 | 2 | 3\n",
      "Please choose a spot on the board between 1 and 9: 1\n",
      "That position is free\n",
      "\n",
      "There are still some spots open on the board\n",
      "7 | 8 | 9\n",
      "4 | 5 | 6\n",
      "O | 2 | 3\n",
      "Please choose a spot on the board between 1 and 9: 2\n",
      "That position is free\n",
      "\n",
      "There are still some spots open on the board\n",
      "7 | 8 | 9\n",
      "4 | 5 | 6\n",
      "O | X | 3\n",
      "Please choose a spot on the board between 1 and 9: 3\n",
      "That position is free\n",
      "\n",
      "There are still some spots open on the board\n",
      "7 | 8 | 9\n",
      "4 | 5 | 6\n",
      "O | X | O\n",
      "Please choose a spot on the board between 1 and 9: 4\n",
      "That position is free\n",
      "\n",
      "There are still some spots open on the board\n",
      "7 | 8 | 9\n",
      "X | 5 | 6\n",
      "O | X | O\n",
      "Please choose a spot on the board between 1 and 9: 5\n",
      "That position is free\n",
      "\n",
      "There are still some spots open on the board\n",
      "7 | 8 | 9\n",
      "X | O | 6\n",
      "O | X | O\n",
      "Please choose a spot on the board between 1 and 9: 6\n",
      "That position is free\n",
      "\n",
      "There are still some spots open on the board\n",
      "7 | 8 | 9\n",
      "X | O | X\n",
      "O | X | O\n",
      "Please choose a spot on the board between 1 and 9: 7\n",
      "That position is free\n",
      "\n",
      "There are still some spots open on the board\n",
      "O wins\n",
      "> \u001b[1;32mc:\\users\\micros~1\\appdata\\local\\temp\\ipykernel_6904\\2067538993.py\u001b[0m(34)\u001b[0;36m<module>\u001b[1;34m()\u001b[0m\n",
      "\n",
      "ipdb> game_won\n",
      "True\n",
      "ipdb> step\n",
      "> \u001b[1;32mc:\\users\\micros~1\\appdata\\local\\temp\\ipykernel_6904\\2067538993.py\u001b[0m(22)\u001b[0;36m<module>\u001b[1;34m()\u001b[0m\n",
      "\n",
      "ipdb> step\n",
      "--Call--\n",
      "> \u001b[1;32mc:\\users\\micros~1\\appdata\\local\\temp\\ipykernel_6904\\416031643.py\u001b[0m(1)\u001b[0;36mfull_board_check\u001b[1;34m()\u001b[0m\n",
      "\n",
      "ipdb> step\n",
      "> \u001b[1;32mc:\\users\\micros~1\\appdata\\local\\temp\\ipykernel_6904\\416031643.py\u001b[0m(2)\u001b[0;36mfull_board_check\u001b[1;34m()\u001b[0m\n",
      "\n",
      "ipdb> ste\n",
      "*** NameError: name 'ste' is not defined\n",
      "ipdb> step\n",
      "> \u001b[1;32mc:\\users\\micros~1\\appdata\\local\\temp\\ipykernel_6904\\416031643.py\u001b[0m(4)\u001b[0;36mfull_board_check\u001b[1;34m()\u001b[0m\n",
      "\n",
      "ipdb> step\n",
      "> \u001b[1;32mc:\\users\\micros~1\\appdata\\local\\temp\\ipykernel_6904\\416031643.py\u001b[0m(5)\u001b[0;36mfull_board_check\u001b[1;34m()\u001b[0m\n",
      "\n",
      "ipdb> step\n",
      "> \u001b[1;32mc:\\users\\micros~1\\appdata\\local\\temp\\ipykernel_6904\\416031643.py\u001b[0m(6)\u001b[0;36mfull_board_check\u001b[1;34m()\u001b[0m\n",
      "\n",
      "ipdb> step_out\n",
      "*** NameError: name 'step_out' is not defined\n",
      "ipdb> continue\n",
      "There are still some spots open on the board\n",
      "Do you want to play again: (Y/N)n\n",
      "Game Over\n"
     ]
    }
   ],
   "source": [
    " print('Welcome to Tic Tac Toe!')\n",
    "\n",
    "\n",
    "\n",
    "\n",
    "while True:\n",
    "    ## first set up the board and players\n",
    "    \n",
    "    #ask who wants to be players 1 and 2\n",
    "    (p1,p2) = player_input()\n",
    "    \n",
    "    # create the board\n",
    "    game_board = [\"1\",\"2\",\"3\",\"4\",\"5\",\"6\",\"7\",\"8\",\"9\"]\n",
    "   \n",
    "    \n",
    "    #choose the first player at random\n",
    "    turn = choose_first()\n",
    "    game_won = False\n",
    "    \n",
    "    ## main loop to handle the game \n",
    "    # checks that the board is not full of Xs and Os\n",
    "    while ((not(full_board_check(game_board))) and (not(game_won))):\n",
    "        \n",
    "        # check if player 1 or 2 has won the game and exit if they have\n",
    "        if win_check(game_board,p1):\n",
    "            game_won = True\n",
    "#             pdb.set_trace()\n",
    "            continue\n",
    "            \n",
    "        \n",
    "        elif win_check(game_board,p2):\n",
    "            game_won = True\n",
    "#             pdb.set_trace()\n",
    "            continue\n",
    "    \n",
    "        else:\n",
    "            if turn == 1: \n",
    "                ##player 1 turn\n",
    "                \n",
    "                # first display the board\n",
    "                display_board(game_board)\n",
    "\n",
    "                # next ask a player to choose a legal spot \n",
    "                position = player_choice(game_board)\n",
    "                # place the mark on the board\n",
    "                place_marker(game_board,p1,position)\n",
    "\n",
    "                # switch to player 2 and continue the game\n",
    "                turn = 2\n",
    "                \n",
    "\n",
    "\n",
    "            elif turn == 2:\n",
    "                ##player 2 turn\n",
    "\n",
    "                # This is the same logic as player 1\n",
    "                display_board(game_board)\n",
    "                position = player_choice(game_board)\n",
    "                place_marker(game_board,p2,position)\n",
    "\n",
    "                # switch over to player 1\n",
    "                turn = 1\n",
    "                \n",
    "\n",
    "       \n",
    "    # conditional to end the game\n",
    "    if not replay():\n",
    "        break\n"
   ]
  },
  {
   "cell_type": "code",
   "execution_count": 60,
   "metadata": {},
   "outputs": [
    {
     "name": "stdout",
     "output_type": "stream",
     "text": [
      "Free | Free | Free\n",
      "Free | Free | Free\n",
      "Free | Free | Free\n"
     ]
    }
   ],
   "source": [
    "game_board = [\"Free\"]*9\n",
    "game_board\n",
    "display_board(game_board)"
   ]
  },
  {
   "cell_type": "code",
   "execution_count": 106,
   "metadata": {},
   "outputs": [],
   "source": [
    "import pdb"
   ]
  },
  {
   "cell_type": "markdown",
   "metadata": {
    "collapsed": true
   },
   "source": [
    "## Good Job!"
   ]
  }
 ],
 "metadata": {
  "kernelspec": {
   "display_name": "Python 3 (ipykernel)",
   "language": "python",
   "name": "python3"
  },
  "language_info": {
   "codemirror_mode": {
    "name": "ipython",
    "version": 3
   },
   "file_extension": ".py",
   "mimetype": "text/x-python",
   "name": "python",
   "nbconvert_exporter": "python",
   "pygments_lexer": "ipython3",
   "version": "3.9.7"
  }
 },
 "nbformat": 4,
 "nbformat_minor": 1
}
