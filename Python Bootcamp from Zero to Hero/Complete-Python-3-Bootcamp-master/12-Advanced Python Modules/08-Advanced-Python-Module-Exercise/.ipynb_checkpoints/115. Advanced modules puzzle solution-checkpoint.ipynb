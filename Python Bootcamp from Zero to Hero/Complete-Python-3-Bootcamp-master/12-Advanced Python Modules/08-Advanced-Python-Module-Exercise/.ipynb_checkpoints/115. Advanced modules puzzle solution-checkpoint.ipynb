{
 "cells": [
  {
   "cell_type": "code",
   "execution_count": null,
   "id": "6f25e855",
   "metadata": {},
   "outputs": [],
   "source": [
    "# First unpack the zip folder in the current directory"
   ]
  },
  {
   "cell_type": "code",
   "execution_count": 39,
   "id": "3f30f5a5",
   "metadata": {},
   "outputs": [],
   "source": [
    "import zipfile,shutil,re,pdb"
   ]
  },
  {
   "cell_type": "code",
   "execution_count": 2,
   "id": "fc1f4dbb",
   "metadata": {},
   "outputs": [],
   "source": [
    "zip_obj = zipfile.ZipFile('unzip_me_for_instructions.zip','r')"
   ]
  },
  {
   "cell_type": "code",
   "execution_count": 3,
   "id": "7fdc845a",
   "metadata": {},
   "outputs": [],
   "source": [
    "zip_obj.extractall('extracted')"
   ]
  },
  {
   "cell_type": "code",
   "execution_count": null,
   "id": "ff97576a",
   "metadata": {},
   "outputs": [],
   "source": []
  },
  {
   "cell_type": "code",
   "execution_count": null,
   "id": "6b0058ef",
   "metadata": {},
   "outputs": [],
   "source": [
    "# now we need to head into the folder go into the subfolders and find the phone numbers in each text file"
   ]
  },
  {
   "cell_type": "code",
   "execution_count": 5,
   "id": "991e6018",
   "metadata": {},
   "outputs": [],
   "source": [
    "import os"
   ]
  },
  {
   "cell_type": "code",
   "execution_count": 8,
   "id": "840198b7",
   "metadata": {},
   "outputs": [
    {
     "data": {
      "text/plain": [
       "['.ipynb_checkpoints',\n",
       " '07-Advanced-Modules-Exercise-Puzzle.ipynb',\n",
       " '08-Advanced-Modules-Exercise-Solutions.ipynb',\n",
       " '115. Advanced modules solution.ipynb',\n",
       " 'extracted',\n",
       " 'extracted_content',\n",
       " 'unzip_me_for_instructions.zip']"
      ]
     },
     "execution_count": 8,
     "metadata": {},
     "output_type": "execute_result"
    }
   ],
   "source": [
    "os.listdir()"
   ]
  },
  {
   "cell_type": "code",
   "execution_count": 16,
   "id": "85d175fa",
   "metadata": {},
   "outputs": [],
   "source": [
    "ex_folder = os.getcwd() + '\\\\extracted_content'"
   ]
  },
  {
   "cell_type": "code",
   "execution_count": 17,
   "id": "3906d418",
   "metadata": {},
   "outputs": [
    {
     "data": {
      "text/plain": [
       "['Five', 'Four', 'Instructions.txt', 'One', 'Three', 'Two']"
      ]
     },
     "execution_count": 17,
     "metadata": {},
     "output_type": "execute_result"
    }
   ],
   "source": [
    "os.listdir(ex_folder)"
   ]
  },
  {
   "cell_type": "code",
   "execution_count": 60,
   "id": "487a6632",
   "metadata": {},
   "outputs": [],
   "source": [
    "One = ex_folder + '\\\\One'\n",
    "Two = ex_folder + '\\\\Two'\n",
    "Three = ex_folder + '\\\\Three'\n",
    "Four = ex_folder + '\\\\Four'\n",
    "Five = ex_folder + '\\\\Five'"
   ]
  },
  {
   "cell_type": "code",
   "execution_count": 63,
   "id": "513cb2b1",
   "metadata": {},
   "outputs": [
    {
     "data": {
      "text/plain": [
       "['AEITMYIRQLP.txt',\n",
       " 'APJKSRITGGX.txt',\n",
       " 'AQKATDFGXTS.txt',\n",
       " 'ARLKFCWIAJE.txt',\n",
       " 'AXJGVPVEFAS.txt',\n",
       " 'BNUQEHCFRTG.txt',\n",
       " 'BSKJDRNEZQM.txt',\n",
       " 'BTYWAHLHKBM.txt',\n",
       " 'BUGKBZWRRVI.txt',\n",
       " 'BVBURZZCAPR.txt',\n",
       " 'CAHBEVSVDDN.txt',\n",
       " 'COMGMZBJAYE.txt',\n",
       " 'CRFSDGYFSHA.txt',\n",
       " 'CSCLFZCDYYC.txt',\n",
       " 'CXBVCTRBBIE.txt',\n",
       " 'DDLASODUVPX.txt',\n",
       " 'DHZBAAYEADM.txt',\n",
       " 'DQPZQLBCJYP.txt',\n",
       " 'DYOPIIVMZOO.txt',\n",
       " 'DZUWWXYIAEL.txt',\n",
       " 'EAAOEPSAWMQ.txt',\n",
       " 'EIPWXMQZJKU.txt',\n",
       " 'ESIZWBHMGDP.txt',\n",
       " 'ETCUEXWNBCF.txt',\n",
       " 'EYTCGIOYWIW.txt']"
      ]
     },
     "execution_count": 63,
     "metadata": {},
     "output_type": "execute_result"
    }
   ],
   "source": [
    "os.listdir(Five)"
   ]
  },
  {
   "cell_type": "code",
   "execution_count": 84,
   "id": "1e4826db",
   "metadata": {},
   "outputs": [
    {
     "name": "stdout",
     "output_type": "stream",
     "text": [
      "[]\n"
     ]
    }
   ],
   "source": [
    "# now lets loop through all the files for folder One\n",
    "for filepath,folder,filename in os.walk(One):\n",
    "  \n",
    "    for file in filename:\n",
    "        # first combine the filepath and name of the file to create the full path to the file\n",
    "        f= filepath + '\\\\' + file\n",
    "        fh = open(f,'r')\n",
    "        # Now open up the file \n",
    "        text = fh.read()\n",
    "        # use regular expressions to search for the phone number\n",
    "        phone = re.findall(r'\\d{3}-\\d{3}-\\d{4}',text)\n",
    "        # condition to break if phone is not empty\n",
    "        if phone:\n",
    "            break\n",
    "\n",
    "print(phone)        "
   ]
  },
  {
   "cell_type": "code",
   "execution_count": 85,
   "id": "fffc56aa",
   "metadata": {},
   "outputs": [
    {
     "name": "stdout",
     "output_type": "stream",
     "text": [
      "[]\n"
     ]
    }
   ],
   "source": [
    "# now lets loop through all the files for folder two\n",
    "for filepath,folder,filename in os.walk(Two):\n",
    "  \n",
    "    for file in filename:\n",
    "        # first combine the filepath and name of the file to create the full path to the file\n",
    "        f= filepath + '\\\\' + file\n",
    "        fh = open(f,'r')\n",
    "        # Now open up the file \n",
    "        text = fh.read()\n",
    "        # use regular expressions to search for the phone number\n",
    "        phone = re.findall(r'\\d{3}-\\d{3}-\\d{4}',text)\n",
    "        # condition to break if phone is not empty\n",
    "        if phone:\n",
    "            break\n",
    "\n",
    "print(phone)"
   ]
  },
  {
   "cell_type": "code",
   "execution_count": 86,
   "id": "a899f0ee",
   "metadata": {},
   "outputs": [
    {
     "name": "stdout",
     "output_type": "stream",
     "text": [
      "[]\n"
     ]
    }
   ],
   "source": [
    "# now lets loop through all the files for folder three\n",
    "for filepath,folder,filename in os.walk(Three):\n",
    "  \n",
    "    for file in filename:\n",
    "        # first combine the filepath and name of the file to create the full path to the file\n",
    "        f= filepath + '\\\\' + file\n",
    "        fh = open(f,'r')\n",
    "        # Now open up the file \n",
    "        text = fh.read()\n",
    "        # use regular expressions to search for the phone number\n",
    "        phone = re.findall(r'\\d{3}-\\d{3}-\\d{4}',text)\n",
    "        # condition to break if phone is not empty\n",
    "        if phone:\n",
    "            break\n",
    "\n",
    "print(phone)"
   ]
  },
  {
   "cell_type": "code",
   "execution_count": 87,
   "id": "255be69d",
   "metadata": {},
   "outputs": [
    {
     "name": "stdout",
     "output_type": "stream",
     "text": [
      "['719-266-2837']\n"
     ]
    }
   ],
   "source": [
    "# now lets loop through all the files for folder Four\n",
    "for filepath,folder,filename in os.walk(Four):\n",
    "  \n",
    "    for file in filename:\n",
    "        # first combine the filepath and name of the file to create the full path to the file\n",
    "        f= filepath + '\\\\' + file\n",
    "        fh = open(f,'r')\n",
    "        # Now open up the file \n",
    "        text = fh.read()\n",
    "        # use regular expressions to search for the phone number\n",
    "        phone = re.findall(r'\\d{3}-\\d{3}-\\d{4}',text)\n",
    "        # condition to break if phone is not empty\n",
    "        if phone:\n",
    "            break        \n",
    "        \n",
    "        \n",
    "print(phone)"
   ]
  },
  {
   "cell_type": "code",
   "execution_count": 83,
   "id": "052c30ee",
   "metadata": {},
   "outputs": [
    {
     "name": "stdout",
     "output_type": "stream",
     "text": [
      "[]\n"
     ]
    }
   ],
   "source": [
    "# now lets loop through all the files for folder Five\n",
    "for filepath,folder,filename in os.walk(Five):\n",
    "  \n",
    "    for file in filename:\n",
    "        # first combine the filepath and name of the file to create the full path to the file\n",
    "        f= filepath + '\\\\' + file\n",
    "        fh = open(f,'r')\n",
    "        # Now open up the file \n",
    "        text = fh.read()\n",
    "        # use regular expressions to search for the phone number\n",
    "        phone = re.findall(r'\\d{3}-\\d{3}-\\d{4}',text)\n",
    "        # check if phone is empty or not\n",
    "        if phone:\n",
    "            break\n",
    "            \n",
    "print(phone)"
   ]
  },
  {
   "cell_type": "code",
   "execution_count": 81,
   "id": "f634ec35",
   "metadata": {},
   "outputs": [
    {
     "data": {
      "text/plain": [
       "'Eget potenti dictumstvivamus ullamcorper.Veniam nunc condimentum, dapibusnam zzril lacus sanctus venenatis mollis no nibh.Antesuspendisse vestibulum illum netus nullasuspendisse, labore consetetur eget.Accumsan sadipscing, libero metus habitant consequat est blandit fermentumfusce.Muspellentesque mus hac leo adipiscing enimnulla, justo nostra auctor convallis.Vestibulumnulla pulvinar libero.Leopraesent dictum lectusnullam, mollis sollicitudin scelerisque no.Sedfusce habitasse, mattis varius metusdonec habitant per.Venenatis magnis massa duo dapibusnam tristique.Imperdietaliquam dictum arcumorbi placerat, zzril imperdiet adipiscing massaphasellus hac dignissim.Nec invidunt tation.Leo blandit mauris ridiculus, dapibus eirmod sempermorbi ea malesuadanullam urnamorbi.Eum ametduis soluta.Erat turpis aaenean liberoduis montes, volutpatut vivamus libero.Sodalessed sagittis ultriciespellentesque, elitvivamus eum consectetuer nequeetiam accumsan nostra sadipscing imperdietaliquam.Ipsuminteger malesuada tortorvestibulum felis.Aliquam imperdiet dolore in, ullamcorper liberoduis nisised.Elitr pulvinarvestibulum consectetuer at, doming est cum nonumy maurisaenean in mi vulputate nullamauris.Arcu facilisi nonummy.Laoreet id auctor illum, veniam bibendum potenti ipsumcurabitur varius.Etiam interdumdonec massaphasellus eros eu pellentesque.Vel class auctormauris mollis liberoduis, litora aptent iriure justocras enimnulla semper quod.Esse accusam sodales vitae dapibusnam, nostra in justocras sagittis invidunt erat.Ac gravida.Platea feugait invidunt eu, adipiscing magnapraesent quod.Primis variuscras habitasse aaenean odio ultrices, minim sit himenaeos nisi nullamauris lacus justocras vestibulum.Temporsuspendisse dictumst pulvinarvestibulum diam.Consectetuer arcu leo cursus, per interdumdonec antesuspendisse congue duimauris quisaenean gubergren imperdiet rutrum.Variuscras nihil, telluspraesent hendrerit massaphasellus tellus possim.Amet sem, ut soluta wisi duimauris bibendum convallis.Rutrum laoreet vestibulum erosin lectus interdumdonec.Elitduis rebum soluta fames magnis nullamauris, dui himenaeos conubia mi viverra lacinia mauris risusdonec.Ea rebum nascetur habitasse, nunc dolor volutpatut duis zzril metusdonec interdumdonec.Imperdietaliquam kasd, arcu placerat consequat hac rebum facilisisproin.Ut quod enimsed placerat, nisi malesuadanullam pellentesque lacusut liberoduis ea rutrum.Auctormauris lorem te exerci mollis, mi massaphasellus aliquyam.Curabitur tortorcurabitur pulvinar consequat curae rhoncusmaecenas, eos erosin ullamcorper sollicitudin et vel est aptent.Faucibusvestibulum consequatduis semvestibulum auctormauris, aaenean elit consecteturpraesent nisised arcu nullamauris venenatis.Consequat velit purus pulvinar, nobis phasellus massa.Euismod aliquet tempus, rebum porta lacusnulla duo nec sociis ac.Fames hendrerit phasellus faucibusvestibulum porttitor wisi, convallis risusdonec est sociosqu a conubia iriure.Donec aliquet laoreetphasellus rhoncusmaecenas amet facilisis.Sem cras soluta, inceptos magnis doming aaenean faucibusvestibulum.Eratproin vel nostra iriure parturient habitasse, aliquip vero cursus tortorcurabitur consetetur sagittis labore gubergren.Libero elitvivamus elit massa, sedfusce tellus sociosqu litora proin nec.Nondonec fermentum feugiat dolor mus sed adipiscing metusdonec, nonumy sociosqu pharetra veniam dictum at.Viverra aptent feliscras.Lobortis per ipsuminteger suscipit cum inceptos ut, magna quammaecenas arcumorbi duimauris tellus platea fames.Habitant cubilia, habitasse duis telluspraesent dictumstvivamus urna nobis diam.Imperdietaliquam risus elitvivamus quod pellentesque lacusut.'"
      ]
     },
     "execution_count": 81,
     "metadata": {},
     "output_type": "execute_result"
    }
   ],
   "source": []
  },
  {
   "cell_type": "code",
   "execution_count": null,
   "id": "0c6436cd",
   "metadata": {},
   "outputs": [],
   "source": []
  },
  {
   "cell_type": "code",
   "execution_count": null,
   "id": "7b63fb6a",
   "metadata": {},
   "outputs": [],
   "source": []
  }
 ],
 "metadata": {
  "kernelspec": {
   "display_name": "Python 3 (ipykernel)",
   "language": "python",
   "name": "python3"
  },
  "language_info": {
   "codemirror_mode": {
    "name": "ipython",
    "version": 3
   },
   "file_extension": ".py",
   "mimetype": "text/x-python",
   "name": "python",
   "nbconvert_exporter": "python",
   "pygments_lexer": "ipython3",
   "version": "3.9.7"
  }
 },
 "nbformat": 4,
 "nbformat_minor": 5
}
