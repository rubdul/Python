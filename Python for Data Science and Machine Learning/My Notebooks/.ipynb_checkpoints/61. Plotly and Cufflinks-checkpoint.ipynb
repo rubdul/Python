{
 "cells": [
  {
   "cell_type": "code",
   "execution_count": 1,
   "id": "ac38eeb8",
   "metadata": {},
   "outputs": [],
   "source": [
    "#Plotly and cufflinks are used to make interactive data visualizations"
   ]
  },
  {
   "cell_type": "code",
   "execution_count": 3,
   "id": "d58b5c8b",
   "metadata": {},
   "outputs": [],
   "source": [
    "import pandas as pd\n",
    "import numpy as np"
   ]
  },
  {
   "cell_type": "code",
   "execution_count": 5,
   "id": "ad6e7bbd",
   "metadata": {},
   "outputs": [],
   "source": [
    "from plotly import __version__"
   ]
  },
  {
   "cell_type": "code",
   "execution_count": 6,
   "id": "5492c1f5",
   "metadata": {},
   "outputs": [],
   "source": [
    "import cufflinks as cf"
   ]
  },
  {
   "cell_type": "code",
   "execution_count": 8,
   "id": "fc51ce4e",
   "metadata": {},
   "outputs": [],
   "source": [
    "from plotly.offline import download_plotlyjs, init_notebook_mode, plot, iplot"
   ]
  },
  {
   "cell_type": "code",
   "execution_count": 9,
   "id": "4109abb7",
   "metadata": {},
   "outputs": [
    {
     "data": {
      "text/html": [
       "        <script type=\"text/javascript\">\n",
       "        window.PlotlyConfig = {MathJaxConfig: 'local'};\n",
       "        if (window.MathJax && window.MathJax.Hub && window.MathJax.Hub.Config) {window.MathJax.Hub.Config({SVG: {font: \"STIX-Web\"}});}\n",
       "        if (typeof require !== 'undefined') {\n",
       "        require.undef(\"plotly\");\n",
       "        requirejs.config({\n",
       "            paths: {\n",
       "                'plotly': ['https://cdn.plot.ly/plotly-2.16.1.min']\n",
       "            }\n",
       "        });\n",
       "        require(['plotly'], function(Plotly) {\n",
       "            window._Plotly = Plotly;\n",
       "        });\n",
       "        }\n",
       "        </script>\n",
       "        "
      ]
     },
     "metadata": {},
     "output_type": "display_data"
    }
   ],
   "source": [
    "init_notebook_mode(connected=True)"
   ]
  },
  {
   "cell_type": "code",
   "execution_count": 10,
   "id": "298f1238",
   "metadata": {},
   "outputs": [
    {
     "data": {
      "text/html": [
       "        <script type=\"text/javascript\">\n",
       "        window.PlotlyConfig = {MathJaxConfig: 'local'};\n",
       "        if (window.MathJax && window.MathJax.Hub && window.MathJax.Hub.Config) {window.MathJax.Hub.Config({SVG: {font: \"STIX-Web\"}});}\n",
       "        if (typeof require !== 'undefined') {\n",
       "        require.undef(\"plotly\");\n",
       "        requirejs.config({\n",
       "            paths: {\n",
       "                'plotly': ['https://cdn.plot.ly/plotly-2.16.1.min']\n",
       "            }\n",
       "        });\n",
       "        require(['plotly'], function(Plotly) {\n",
       "            window._Plotly = Plotly;\n",
       "        });\n",
       "        }\n",
       "        </script>\n",
       "        "
      ]
     },
     "metadata": {},
     "output_type": "display_data"
    }
   ],
   "source": [
    "cf.go_offline()"
   ]
  },
  {
   "cell_type": "code",
   "execution_count": 12,
   "id": "ba0d769d",
   "metadata": {},
   "outputs": [],
   "source": [
    "# Data\n",
    "df = pd.DataFrame(np.random.randn(100,4),columns='A B C D'.split())"
   ]
  },
  {
   "cell_type": "code",
   "execution_count": 15,
   "id": "22d797ae",
   "metadata": {},
   "outputs": [
    {
     "data": {
      "text/html": [
       "<div>\n",
       "<style scoped>\n",
       "    .dataframe tbody tr th:only-of-type {\n",
       "        vertical-align: middle;\n",
       "    }\n",
       "\n",
       "    .dataframe tbody tr th {\n",
       "        vertical-align: top;\n",
       "    }\n",
       "\n",
       "    .dataframe thead th {\n",
       "        text-align: right;\n",
       "    }\n",
       "</style>\n",
       "<table border=\"1\" class=\"dataframe\">\n",
       "  <thead>\n",
       "    <tr style=\"text-align: right;\">\n",
       "      <th></th>\n",
       "      <th>A</th>\n",
       "      <th>B</th>\n",
       "      <th>C</th>\n",
       "      <th>D</th>\n",
       "    </tr>\n",
       "  </thead>\n",
       "  <tbody>\n",
       "    <tr>\n",
       "      <th>0</th>\n",
       "      <td>-0.248693</td>\n",
       "      <td>-0.612675</td>\n",
       "      <td>-2.187596</td>\n",
       "      <td>-1.589722</td>\n",
       "    </tr>\n",
       "    <tr>\n",
       "      <th>1</th>\n",
       "      <td>-2.388146</td>\n",
       "      <td>-0.236962</td>\n",
       "      <td>1.204347</td>\n",
       "      <td>0.388153</td>\n",
       "    </tr>\n",
       "    <tr>\n",
       "      <th>2</th>\n",
       "      <td>0.705257</td>\n",
       "      <td>0.884172</td>\n",
       "      <td>-0.262464</td>\n",
       "      <td>0.277294</td>\n",
       "    </tr>\n",
       "    <tr>\n",
       "      <th>3</th>\n",
       "      <td>0.892184</td>\n",
       "      <td>1.159968</td>\n",
       "      <td>-0.044775</td>\n",
       "      <td>1.298331</td>\n",
       "    </tr>\n",
       "    <tr>\n",
       "      <th>4</th>\n",
       "      <td>-0.864183</td>\n",
       "      <td>1.541434</td>\n",
       "      <td>-0.388287</td>\n",
       "      <td>0.856809</td>\n",
       "    </tr>\n",
       "  </tbody>\n",
       "</table>\n",
       "</div>"
      ],
      "text/plain": [
       "          A         B         C         D\n",
       "0 -0.248693 -0.612675 -2.187596 -1.589722\n",
       "1 -2.388146 -0.236962  1.204347  0.388153\n",
       "2  0.705257  0.884172 -0.262464  0.277294\n",
       "3  0.892184  1.159968 -0.044775  1.298331\n",
       "4 -0.864183  1.541434 -0.388287  0.856809"
      ]
     },
     "execution_count": 15,
     "metadata": {},
     "output_type": "execute_result"
    }
   ],
   "source": [
    "df.head()"
   ]
  },
  {
   "cell_type": "code",
   "execution_count": 17,
   "id": "10bcc2ae",
   "metadata": {},
   "outputs": [],
   "source": [
    "df2 =pd.DataFrame({'Category':['A','B','C'], 'Values':[32,43,50]})"
   ]
  },
  {
   "cell_type": "code",
   "execution_count": 18,
   "id": "cb89707c",
   "metadata": {},
   "outputs": [
    {
     "data": {
      "text/html": [
       "<div>\n",
       "<style scoped>\n",
       "    .dataframe tbody tr th:only-of-type {\n",
       "        vertical-align: middle;\n",
       "    }\n",
       "\n",
       "    .dataframe tbody tr th {\n",
       "        vertical-align: top;\n",
       "    }\n",
       "\n",
       "    .dataframe thead th {\n",
       "        text-align: right;\n",
       "    }\n",
       "</style>\n",
       "<table border=\"1\" class=\"dataframe\">\n",
       "  <thead>\n",
       "    <tr style=\"text-align: right;\">\n",
       "      <th></th>\n",
       "      <th>Category</th>\n",
       "      <th>Values</th>\n",
       "    </tr>\n",
       "  </thead>\n",
       "  <tbody>\n",
       "    <tr>\n",
       "      <th>0</th>\n",
       "      <td>A</td>\n",
       "      <td>32</td>\n",
       "    </tr>\n",
       "    <tr>\n",
       "      <th>1</th>\n",
       "      <td>B</td>\n",
       "      <td>43</td>\n",
       "    </tr>\n",
       "    <tr>\n",
       "      <th>2</th>\n",
       "      <td>C</td>\n",
       "      <td>50</td>\n",
       "    </tr>\n",
       "  </tbody>\n",
       "</table>\n",
       "</div>"
      ],
      "text/plain": [
       "  Category  Values\n",
       "0        A      32\n",
       "1        B      43\n",
       "2        C      50"
      ]
     },
     "execution_count": 18,
     "metadata": {},
     "output_type": "execute_result"
    }
   ],
   "source": [
    "df2"
   ]
  },
  {
   "cell_type": "code",
   "execution_count": null,
   "id": "1e00eb77",
   "metadata": {},
   "outputs": [],
   "source": [
    "# Now let's try to use cufflinks and plotly to make an interactable plot"
   ]
  },
  {
   "cell_type": "code",
   "execution_count": 19,
   "id": "c9779339",
   "metadata": {},
   "outputs": [],
   "source": [
    "%matplotlib inline"
   ]
  },
  {
   "cell_type": "code",
   "execution_count": 21,
   "id": "522e78a4",
   "metadata": {},
   "outputs": [
    {
     "data": {
      "text/plain": [
       "<AxesSubplot:>"
      ]
     },
     "execution_count": 21,
     "metadata": {},
     "output_type": "execute_result"
    },
    {
     "data": {
      "image/png": "[encoded data removed]",
      "text/plain": [
       "<Figure size 432x288 with 1 Axes>"
      ]
     },
     "metadata": {
      "needs_background": "light"
     },
     "output_type": "display_data"
    }
   ],
   "source": [
    "df.plot() # static plot when using pandas"
   ]
  },
  {
   "cell_type": "code",
   "execution_count": 22,
   "id": "226142e1",
   "metadata": {},
   "outputs": [
    {
     "data": {
      "application/vnd.plotly.v1+json": {
       "config": {
        "linkText": "Export to plot.ly",
        "plotlyServerURL": "https://plot.ly",
        "showLink": true
       },
       "data": [
        {
         "line": {
          "color": "rgba(255, 153, 51, 1.0)",
          "dash": "solid",
          "shape": "linear",
          "width": 1.3
         },
         "mode": "lines",
         "name": "A",
         "text": "",
         "type": "scatter",
         "x": [
          0,
          1,
          2,
          3,
          4,
          5,
          6,
          7,
          8,
          9,
          10,
          11,
          12,
          13,
          14,
          15,
          16,
          17,
          18,
          19,
          20,
          21,
          22,
          23,
          24,
          25,
          26,
          27,
          28,
          29,
          30,
          31,
          32,
          33,
          34,
          35,
          36,
          37,
          38,
          39,
          40,
          41,
          42,
          43,
          44,
          45,
          46,
          47,
          48,
          49,
          50,
          51,
          52,
          53,
          54,
          55,
          56,
          57,
          58,
          59,
          60,
          61,
          62,
          63,
          64,
          65,
          66,
          67,
          68,
          69,
          70,
          71,
          72,
          73,
          74,
          75,
          76,
          77,
          78,
          79,
          80,
          81,
          82,
          83,
          84,
          85,
          86,
          87,
          88,
          89,
          90,
          91,
          92,
          93,
          94,
          95,
          96,
          97,
          98,
          99
         ],
         "y": [
          -0.24869303225749126,
          -2.388145795579333,
          0.7052569495813963,
          0.8921836516207222,
          -0.8641832945932809,
          0.12474763473727571,
          0.9771147206925541,
          -1.120879746434406,
          2.083325158822628,
          -0.14292514964191178,
          -1.1312169975938375,
          -0.11607697197171943,
          -2.180363608406877,
          -1.109061809100249,
          1.1778238870317181,
          0.7910259440816909,
          0.645202281124067,
          -0.1742790933800676,
          0.8225032314842339,
          0.29877822246100105,
          0.36722046683406245,
          1.2324544434409372,
          -1.7020118796248933,
          1.7042326155461203,
          -1.4450455739935764,
          -0.78545924825664,
          2.06296995198097,
          0.3665990108761806,
          -1.116799652901445,
          0.7366232257112952,
          0.6809107980964005,
          0.4337169537228572,
          0.5054307038730637,
          -0.9015199558765126,
          1.2400228835450735,
          -0.0764876321557282,
          1.5777026737325832,
          -0.09862690109282116,
          0.7644500967843794,
          0.17103982442114465,
          0.37321438050746564,
          -0.1021660818701845,
          -2.351357285273254,
          0.8671154218975321,
          0.9128969618550399,
          0.17785238425044794,
          0.21187259997227123,
          0.050938673505943645,
          0.6563964094079809,
          0.053649786152871054,
          -0.0197549209834424,
          1.5798149195593896,
          0.791318635261723,
          -0.9025588999319102,
          1.656944673728671,
          -0.8269206687359101,
          0.06556319052433303,
          -0.8214461312213147,
          2.187880503422802,
          -0.46944316735562686,
          -0.7370885868139803,
          0.8165338304816602,
          -0.9054807194666195,
          -1.3809585264041093,
          -0.7458765995206087,
          0.18823758886614955,
          1.3784227314336097,
          -1.0036999714454244,
          -0.8559179530591503,
          -1.5808922630144657,
          -1.0890433281306702,
          0.6087193993857751,
          1.2516196623031353,
          -0.7354149576024046,
          0.2891258014135116,
          0.07985900771739284,
          -1.215018118998959,
          0.31249748403780464,
          0.9175732377339435,
          -1.041267348022098,
          -1.069969287706913,
          1.4965582109974387,
          2.639408794995632,
          0.9601098331096278,
          0.31731584401142465,
          -2.0170362462039684,
          0.9816338696585786,
          1.5190162401027576,
          0.15579596719864214,
          0.27471292445643963,
          -0.63239828780116,
          -1.0501242325930704,
          0.8160338670311766,
          -1.0935321627740018,
          -0.8056994370048624,
          0.32500050683722304,
          0.30487108890472714,
          -0.31497417629318075,
          2.0218995987796933,
          0.4843579882960143
         ]
        },
        {
         "line": {
          "color": "rgba(55, 128, 191, 1.0)",
          "dash": "solid",
          "shape": "linear",
          "width": 1.3
         },
         "mode": "lines",
         "name": "B",
         "text": "",
         "type": "scatter",
         "x": [
          0,
          1,
          2,
          3,
          4,
          5,
          6,
          7,
          8,
          9,
          10,
          11,
          12,
          13,
          14,
          15,
          16,
          17,
          18,
          19,
          20,
          21,
          22,
          23,
          24,
          25,
          26,
          27,
          28,
          29,
          30,
          31,
          32,
          33,
          34,
          35,
          36,
          37,
          38,
          39,
          40,
          41,
          42,
          43,
          44,
          45,
          46,
          47,
          48,
          49,
          50,
          51,
          52,
          53,
          54,
          55,
          56,
          57,
          58,
          59,
          60,
          61,
          62,
          63,
          64,
          65,
          66,
          67,
          68,
          69,
          70,
          71,
          72,
          73,
          74,
          75,
          76,
          77,
          78,
          79,
          80,
          81,
          82,
          83,
          84,
          85,
          86,
          87,
          88,
          89,
          90,
          91,
          92,
          93,
          94,
          95,
          96,
          97,
          98,
          99
         ],
         "y": [
          -0.612674881396858,
          -0.2369623864621897,
          0.884172060253383,
          1.1599681389449998,
          1.541433973431705,
          -0.024482749390586922,
          -0.010581934928280717,
          0.4208804279380881,
          -1.055904482828417,
          -0.5731293410391528,
          0.6136951834885712,
          0.3788139488071389,
          -0.7236246217565258,
          -0.9832872929064812,
          -0.04584667102425731,
          1.0990096326338898,
          -0.4894552325381044,
          0.09207295202927872,
          0.8907023697335712,
          1.071647550161279,
          -0.09772605038866598,
          -0.5573372268161606,
          2.1569812897937672,
          -0.3138297576026716,
          0.967564149880955,
          0.5283041481971225,
          1.275552520971748,
          -0.23814452995452495,
          1.3686369305494708,
          0.4554414353012013,
          0.17261064038033674,
          -1.2790756257079117,
          -1.668432178436465,
          -0.7589722147586523,
          -1.1217293268341164,
          0.1457960988457628,
          -2.460171601392952,
          1.1224080996706933,
          -0.5718735010119889,
          0.7480470173720155,
          -0.03113393613510434,
          1.6490615045790034,
          0.05753332794358935,
          -0.20428125058288318,
          -2.0075424792795133,
          0.667885385351891,
          0.0636282659190983,
          -0.011188874517152437,
          2.049007627401017,
          -1.5848630631660825,
          -0.9622210929462339,
          -0.8431124359578438,
          0.05754501771367724,
          -1.2870024758751444,
          -0.19727806101733522,
          1.3001919306481338,
          0.3064075043148491,
          0.07117476930400782,
          -0.96812683843896,
          1.82880823196082,
          1.5559339345907204,
          1.7050542509227609,
          1.7171720163798219,
          0.42589246627030913,
          -2.3660287467420225,
          -1.5323420715419014,
          1.9884957118847637,
          -0.7216381285780816,
          -0.9380010074166955,
          0.16306318472752554,
          -0.7425934426726053,
          -0.9707420414928241,
          -2.0238789682217306,
          0.20622339294902128,
          0.29403482434209716,
          0.12147098035639514,
          0.20258350462675498,
          -0.2992269193093349,
          0.22115912154903292,
          -1.7790002822602209,
          -1.872050479776317,
          -0.43176879529106,
          0.940906565069375,
          1.3443483421299551,
          -0.8062940834059503,
          -0.15012732876279758,
          0.20043931984963673,
          0.22002772846606183,
          -1.4076957323909052,
          1.36507767965311,
          0.5463241272540051,
          1.9568592851420272,
          -0.886230842336463,
          -0.24970954645615465,
          1.4577791399977678,
          -1.0263047973016162,
          -1.0009532490096018,
          -0.28890730822092503,
          1.072250787176654,
          0.45805736391766777
         ]
        },
        {
         "line": {
          "color": "rgba(50, 171, 96, 1.0)",
          "dash": "solid",
          "shape": "linear",
          "width": 1.3
         },
         "mode": "lines",
         "name": "C",
         "text": "",
         "type": "scatter",
         "x": [
          0,
          1,
          2,
          3,
          4,
          5,
          6,
          7,
          8,
          9,
          10,
          11,
          12,
          13,
          14,
          15,
          16,
          17,
          18,
          19,
          20,
          21,
          22,
          23,
          24,
          25,
          26,
          27,
          28,
          29,
          30,
          31,
          32,
          33,
          34,
          35,
          36,
          37,
          38,
          39,
          40,
          41,
          42,
          43,
          44,
          45,
          46,
          47,
          48,
          49,
          50,
          51,
          52,
          53,
          54,
          55,
          56,
          57,
          58,
          59,
          60,
          61,
          62,
          63,
          64,
          65,
          66,
          67,
          68,
          69,
          70,
          71,
          72,
          73,
          74,
          75,
          76,
          77,
          78,
          79,
          80,
          81,
          82,
          83,
          84,
          85,
          86,
          87,
          88,
          89,
          90,
          91,
          92,
          93,
          94,
          95,
          96,
          97,
          98,
          99
         ],
         "y": [
          -2.1875962710340633,
          1.2043466892488253,
          -0.2624637021694007,
          -0.044774519494937354,
          -0.38828732945577965,
          -1.7604191184675766,
          -0.8330320826323994,
          -0.45260597178575424,
          0.37666516698609703,
          -0.45075330251265217,
          -0.4543014386060515,
          -1.6818125208376644,
          -0.777172441623389,
          -1.115031723523379,
          -0.2828639849820452,
          1.5109558788259014,
          0.3497580319219913,
          -0.7986845728658987,
          -2.304293194629496,
          0.13818781871544455,
          -0.8568120676938925,
          0.1283511008423489,
          -1.6464870113713808,
          0.1509732009457024,
          0.48580680075115507,
          0.8844256749558661,
          0.863925568233306,
          -0.424112327916965,
          -1.023377757860004,
          -1.2429516240004856,
          0.4644114102285322,
          -0.10295568470534225,
          1.1343980376200298,
          0.5952729060364006,
          -0.944905980125573,
          -0.5918297192626695,
          -1.9362958830669315,
          0.7773084542894089,
          -0.7025040256192104,
          -0.6721361405389769,
          0.22489473295161644,
          -1.2072044451488124,
          -0.6679812924099646,
          0.20072281504376818,
          -0.06894227862165513,
          0.21307238240542759,
          0.8622619083858662,
          -0.9334003090979155,
          -0.04407152633317502,
          0.3703242459554553,
          -1.5132386818086954,
          1.704751495814103,
          -0.35615570204659286,
          -0.4074435132315458,
          -0.4803434654367431,
          -0.5228307576630105,
          2.1418357368651204,
          -0.5378629661350438,
          -0.8789667540700302,
          -0.679433912537144,
          2.166892421079014,
          2.526250778691885,
          1.0743531852444916,
          0.9990476667989842,
          0.9265298440916431,
          0.42914042026948807,
          -0.4111111006921592,
          -0.7268320997806266,
          -0.6605936820905781,
          -2.04184195646119,
          -0.14404800610251542,
          -0.07021136849345204,
          0.5959802125115937,
          2.3055706612204316,
          -0.39023861984682784,
          -0.2870649687792531,
          -0.241642459550871,
          0.43550553077105064,
          0.3272146563694911,
          -0.37076963719152484,
          -1.2705471688439887,
          -1.0400727555021632,
          0.1039131879954186,
          0.008023775137617924,
          0.8491798895964642,
          -0.03897877933284549,
          1.0028909315813694,
          -0.32044741849232344,
          2.1146621360431057,
          1.9176799493258965,
          -1.2039507080103085,
          1.6289595320326293,
          0.1337860305895442,
          1.0994080407915758,
          -0.2758949893549994,
          0.011838560565450105,
          1.5341262281452326,
          -0.36978117398831484,
          1.6380429951546858,
          0.7304392696016989
         ]
        },
        {
         "line": {
          "color": "rgba(128, 0, 128, 1.0)",
          "dash": "solid",
          "shape": "linear",
          "width": 1.3
         },
         "mode": "lines",
         "name": "D",
         "text": "",
         "type": "scatter",
         "x": [
          0,
          1,
          2,
          3,
          4,
          5,
          6,
          7,
          8,
          9,
          10,
          11,
          12,
          13,
          14,
          15,
          16,
          17,
          18,
          19,
          20,
          21,
          22,
          23,
          24,
          25,
          26,
          27,
          28,
          29,
          30,
          31,
          32,
          33,
          34,
          35,
          36,
          37,
          38,
          39,
          40,
          41,
          42,
          43,
          44,
          45,
          46,
          47,
          48,
          49,
          50,
          51,
          52,
          53,
          54,
          55,
          56,
          57,
          58,
          59,
          60,
          61,
          62,
          63,
          64,
          65,
          66,
          67,
          68,
          69,
          70,
          71,
          72,
          73,
          74,
          75,
          76,
          77,
          78,
          79,
          80,
          81,
          82,
          83,
          84,
          85,
          86,
          87,
          88,
          89,
          90,
          91,
          92,
          93,
          94,
          95,
          96,
          97,
          98,
          99
         ],
         "y": [
          -1.5897221946627162,
          0.3881534151264451,
          0.2772944841151599,
          1.298330640559541,
          0.8568091610919952,
          -1.486106835229758,
          -1.0862231370818147,
          0.5748087439840773,
          1.026628771340924,
          -0.4141700103142258,
          0.30538030427163665,
          -0.012805826093219381,
          -2.0749459185303816,
          0.8672918118015417,
          0.07451223055141265,
          -1.4561635949972151,
          -0.5360852317698505,
          0.3265984770476418,
          0.8368502744859896,
          -0.07877931097570023,
          0.30867488169765506,
          -0.9617878067606253,
          -1.4812539643895888,
          0.19203346442859506,
          1.0976284998357833,
          2.66715863939564,
          -0.6873804694129563,
          0.9948807074855572,
          -0.36959070183480014,
          -0.18158394365251512,
          0.34071102177736184,
          1.9530310396655668,
          1.503513220409165,
          -0.32346215040040593,
          -0.08263971729847629,
          -1.5292671827037791,
          0.28974899643705376,
          0.4631692021102995,
          0.8071285959134398,
          -0.9225761376000622,
          0.8235374860706418,
          -1.4003448077047984,
          0.7472141205820891,
          0.09259546962931467,
          -0.13428263434801724,
          0.22832046417331497,
          -0.7557896338030863,
          0.5533146148613863,
          -2.2699352226812253,
          -0.6861455007876447,
          0.5353727580331634,
          0.6991968133340193,
          2.2640420510689365,
          0.9316723073168875,
          -0.4747759199341716,
          0.5320410779272005,
          1.024932640201076,
          0.14427840861954674,
          -1.0822146534072383,
          0.3105510034526434,
          0.5891865162490424,
          -0.7105178812376683,
          0.3334024361608685,
          -0.01715749825336284,
          1.0880748291362126,
          0.7982450519963034,
          0.9505168604870251,
          -0.4029352598200969,
          1.4491594657254252,
          0.20045013807179224,
          -0.40928058030959946,
          0.5972644954771477,
          0.4809926819086426,
          -1.2633582269604677,
          -0.38106444879833234,
          1.0058960599684232,
          -0.5053756209038799,
          -0.3861065428798655,
          0.7108175908518505,
          -0.16554681207675614,
          1.374812443087915,
          1.3763994785644487,
          0.20954640783588474,
          0.3344658816141513,
          -2.1098790196848967,
          0.5367893903275768,
          -0.5464041834590837,
          1.7701255317721094,
          0.9911185492373951,
          -1.831858888910831,
          -0.3197343382221082,
          -0.03144426316548922,
          -0.7145999792041241,
          0.0552858232740609,
          -1.338721708829007,
          0.923197690489228,
          0.7368405105614648,
          -0.628642418169745,
          0.5444548763628334,
          -1.5507106220555789
         ]
        }
       ],
       "layout": {
        "legend": {
         "bgcolor": "#F5F6F9",
         "font": {
          "color": "#4D5663"
         }
        },
        "paper_bgcolor": "#F5F6F9",
        "plot_bgcolor": "#F5F6F9",
        "template": {
         "data": {
          "bar": [
           {
            "error_x": {
             "color": "#2a3f5f"
            },
            "error_y": {
             "color": "#2a3f5f"
            },
            "marker": {
             "line": {
              "color": "#E5ECF6",
              "width": 0.5
             },
             "pattern": {
              "fillmode": "overlay",
              "size": 10,
              "solidity": 0.2
             }
            },
            "type": "bar"
           }
          ],
          "barpolar": [
           {
            "marker": {
             "line": {
              "color": "#E5ECF6",
              "width": 0.5
             },
             "pattern": {
              "fillmode": "overlay",
              "size": 10,
              "solidity": 0.2
             }
            },
            "type": "barpolar"
           }
          ],
          "carpet": [
           {
            "aaxis": {
             "endlinecolor": "#2a3f5f",
             "gridcolor": "white",
             "linecolor": "white",
             "minorgridcolor": "white",
             "startlinecolor": "#2a3f5f"
            },
            "baxis": {
             "endlinecolor": "#2a3f5f",
             "gridcolor": "white",
             "linecolor": "white",
             "minorgridcolor": "white",
             "startlinecolor": "#2a3f5f"
            },
            "type": "carpet"
           }
          ],
          "choropleth": [
           {
            "colorbar": {
             "outlinewidth": 0,
             "ticks": ""
            },
            "type": "choropleth"
           }
          ],
          "contour": [
           {
            "colorbar": {
             "outlinewidth": 0,
             "ticks": ""
            },
            "colorscale": [
             [
              0,
              "#0d0887"
             ],
             [
              0.1111111111111111,
              "#46039f"
             ],
             [
              0.2222222222222222,
              "#7201a8"
             ],
             [
              0.3333333333333333,
              "#9c179e"
             ],
             [
              0.4444444444444444,
              "#bd3786"
             ],
             [
              0.5555555555555556,
              "#d8576b"
             ],
             [
              0.6666666666666666,
              "#ed7953"
             ],
             [
              0.7777777777777778,
              "#fb9f3a"
             ],
             [
              0.8888888888888888,
              "#fdca26"
             ],
             [
              1,
              "#f0f921"
             ]
            ],
            "type": "contour"
           }
          ],
          "contourcarpet": [
           {
            "colorbar": {
             "outlinewidth": 0,
             "ticks": ""
            },
            "type": "contourcarpet"
           }
          ],
          "heatmap": [
           {
            "colorbar": {
             "outlinewidth": 0,
             "ticks": ""
            },
            "colorscale": [
             [
              0,
              "#0d0887"
             ],
             [
              0.1111111111111111,
              "#46039f"
             ],
             [
              0.2222222222222222,
              "#7201a8"
             ],
             [
              0.3333333333333333,
              "#9c179e"
             ],
             [
              0.4444444444444444,
              "#bd3786"
             ],
             [
              0.5555555555555556,
              "#d8576b"
             ],
             [
              0.6666666666666666,
              "#ed7953"
             ],
             [
              0.7777777777777778,
              "#fb9f3a"
             ],
             [
              0.8888888888888888,
              "#fdca26"
             ],
             [
              1,
              "#f0f921"
             ]
            ],
            "type": "heatmap"
           }
          ],
          "heatmapgl": [
           {
            "colorbar": {
             "outlinewidth": 0,
             "ticks": ""
            },
            "colorscale": [
             [
              0,
              "#0d0887"
             ],
             [
              0.1111111111111111,
              "#46039f"
             ],
             [
              0.2222222222222222,
              "#7201a8"
             ],
             [
              0.3333333333333333,
              "#9c179e"
             ],
             [
              0.4444444444444444,
              "#bd3786"
             ],
             [
              0.5555555555555556,
              "#d8576b"
             ],
             [
              0.6666666666666666,
              "#ed7953"
             ],
             [
              0.7777777777777778,
              "#fb9f3a"
             ],
             [
              0.8888888888888888,
              "#fdca26"
             ],
             [
              1,
              "#f0f921"
             ]
            ],
            "type": "heatmapgl"
           }
          ],
          "histogram": [
           {
            "marker": {
             "pattern": {
              "fillmode": "overlay",
              "size": 10,
              "solidity": 0.2
             }
            },
            "type": "histogram"
           }
          ],
          "histogram2d": [
           {
            "colorbar": {
             "outlinewidth": 0,
             "ticks": ""
            },
            "colorscale": [
             [
              0,
              "#0d0887"
             ],
             [
              0.1111111111111111,
              "#46039f"
             ],
             [
              0.2222222222222222,
              "#7201a8"
             ],
             [
              0.3333333333333333,
              "#9c179e"
             ],
             [
              0.4444444444444444,
              "#bd3786"
             ],
             [
              0.5555555555555556,
              "#d8576b"
             ],
             [
              0.6666666666666666,
              "#ed7953"
             ],
             [
              0.7777777777777778,
              "#fb9f3a"
             ],
             [
              0.8888888888888888,
              "#fdca26"
             ],
             [
              1,
              "#f0f921"
             ]
            ],
            "type": "histogram2d"
           }
          ],
          "histogram2dcontour": [
           {
            "colorbar": {
             "outlinewidth": 0,
             "ticks": ""
            },
            "colorscale": [
             [
              0,
              "#0d0887"
             ],
             [
              0.1111111111111111,
              "#46039f"
             ],
             [
              0.2222222222222222,
              "#7201a8"
             ],
             [
              0.3333333333333333,
              "#9c179e"
             ],
             [
              0.4444444444444444,
              "#bd3786"
             ],
             [
              0.5555555555555556,
              "#d8576b"
             ],
             [
              0.6666666666666666,
              "#ed7953"
             ],
             [
              0.7777777777777778,
              "#fb9f3a"
             ],
             [
              0.8888888888888888,
              "#fdca26"
             ],
             [
              1,
              "#f0f921"
             ]
            ],
            "type": "histogram2dcontour"
           }
          ],
          "mesh3d": [
           {
            "colorbar": {
             "outlinewidth": 0,
             "ticks": ""
            },
            "type": "mesh3d"
           }
          ],
          "parcoords": [
           {
            "line": {
             "colorbar": {
              "outlinewidth": 0,
              "ticks": ""
             }
            },
            "type": "parcoords"
           }
          ],
          "pie": [
           {
            "automargin": true,
            "type": "pie"
           }
          ],
          "scatter": [
           {
            "fillpattern": {
             "fillmode": "overlay",
             "size": 10,
             "solidity": 0.2
            },
            "type": "scatter"
           }
          ],
          "scatter3d": [
           {
            "line": {
             "colorbar": {
              "outlinewidth": 0,
              "ticks": ""
             }
            },
            "marker": {
             "colorbar": {
              "outlinewidth": 0,
              "ticks": ""
             }
            },
            "type": "scatter3d"
           }
          ],
          "scattercarpet": [
           {
            "marker": {
             "colorbar": {
              "outlinewidth": 0,
              "ticks": ""
             }
            },
            "type": "scattercarpet"
           }
          ],
          "scattergeo": [
           {
            "marker": {
             "colorbar": {
              "outlinewidth": 0,
              "ticks": ""
             }
            },
            "type": "scattergeo"
           }
          ],
          "scattergl": [
           {
            "marker": {
             "colorbar": {
              "outlinewidth": 0,
              "ticks": ""
             }
            },
            "type": "scattergl"
           }
          ],
          "scattermapbox": [
           {
            "marker": {
             "colorbar": {
              "outlinewidth": 0,
              "ticks": ""
             }
            },
            "type": "scattermapbox"
           }
          ],
          "scatterpolar": [
           {
            "marker": {
             "colorbar": {
              "outlinewidth": 0,
              "ticks": ""
             }
            },
            "type": "scatterpolar"
           }
          ],
          "scatterpolargl": [
           {
            "marker": {
             "colorbar": {
              "outlinewidth": 0,
              "ticks": ""
             }
            },
            "type": "scatterpolargl"
           }
          ],
          "scatterternary": [
           {
            "marker": {
             "colorbar": {
              "outlinewidth": 0,
              "ticks": ""
             }
            },
            "type": "scatterternary"
           }
          ],
          "surface": [
           {
            "colorbar": {
             "outlinewidth": 0,
             "ticks": ""
            },
            "colorscale": [
             [
              0,
              "#0d0887"
             ],
             [
              0.1111111111111111,
              "#46039f"
             ],
             [
              0.2222222222222222,
              "#7201a8"
             ],
             [
              0.3333333333333333,
              "#9c179e"
             ],
             [
              0.4444444444444444,
              "#bd3786"
             ],
             [
              0.5555555555555556,
              "#d8576b"
             ],
             [
              0.6666666666666666,
              "#ed7953"
             ],
             [
              0.7777777777777778,
              "#fb9f3a"
             ],
             [
              0.8888888888888888,
              "#fdca26"
             ],
             [
              1,
              "#f0f921"
             ]
            ],
            "type": "surface"
           }
          ],
          "table": [
           {
            "cells": {
             "fill": {
              "color": "#EBF0F8"
             },
             "line": {
              "color": "white"
             }
            },
            "header": {
             "fill": {
              "color": "#C8D4E3"
             },
             "line": {
              "color": "white"
             }
            },
            "type": "table"
           }
          ]
         },
         "layout": {
          "annotationdefaults": {
           "arrowcolor": "#2a3f5f",
           "arrowhead": 0,
           "arrowwidth": 1
          },
          "autotypenumbers": "strict",
          "coloraxis": {
           "colorbar": {
            "outlinewidth": 0,
            "ticks": ""
           }
          },
          "colorscale": {
           "diverging": [
            [
             0,
             "#8e0152"
            ],
            [
             0.1,
             "#c51b7d"
            ],
            [
             0.2,
             "#de77ae"
            ],
            [
             0.3,
             "#f1b6da"
            ],
            [
             0.4,
             "#fde0ef"
            ],
            [
             0.5,
             "#f7f7f7"
            ],
            [
             0.6,
             "#e6f5d0"
            ],
            [
             0.7,
             "#b8e186"
            ],
            [
             0.8,
             "#7fbc41"
            ],
            [
             0.9,
             "#4d9221"
            ],
            [
             1,
             "#276419"
            ]
           ],
           "sequential": [
            [
             0,
             "#0d0887"
            ],
            [
             0.1111111111111111,
             "#46039f"
            ],
            [
             0.2222222222222222,
             "#7201a8"
            ],
            [
             0.3333333333333333,
             "#9c179e"
            ],
            [
             0.4444444444444444,
             "#bd3786"
            ],
            [
             0.5555555555555556,
             "#d8576b"
            ],
            [
             0.6666666666666666,
             "#ed7953"
            ],
            [
             0.7777777777777778,
             "#fb9f3a"
            ],
            [
             0.8888888888888888,
             "#fdca26"
            ],
            [
             1,
             "#f0f921"
            ]
           ],
           "sequentialminus": [
            [
             0,
             "#0d0887"
            ],
            [
             0.1111111111111111,
             "#46039f"
            ],
            [
             0.2222222222222222,
             "#7201a8"
            ],
            [
             0.3333333333333333,
             "#9c179e"
            ],
            [
             0.4444444444444444,
             "#bd3786"
            ],
            [
             0.5555555555555556,
             "#d8576b"
            ],
            [
             0.6666666666666666,
             "#ed7953"
            ],
            [
             0.7777777777777778,
             "#fb9f3a"
            ],
            [
             0.8888888888888888,
             "#fdca26"
            ],
            [
             1,
             "#f0f921"
            ]
           ]
          },
          "colorway": [
           "#636efa",
           "#EF553B",
           "#00cc96",
           "#ab63fa",
           "#FFA15A",
           "#19d3f3",
           "#FF6692",
           "#B6E880",
           "#FF97FF",
           "#FECB52"
          ],
          "font": {
           "color": "#2a3f5f"
          },
          "geo": {
           "bgcolor": "white",
           "lakecolor": "white",
           "landcolor": "#E5ECF6",
           "showlakes": true,
           "showland": true,
           "subunitcolor": "white"
          },
          "hoverlabel": {
           "align": "left"
          },
          "hovermode": "closest",
          "mapbox": {
           "style": "light"
          },
          "paper_bgcolor": "white",
          "plot_bgcolor": "#E5ECF6",
          "polar": {
           "angularaxis": {
            "gridcolor": "white",
            "linecolor": "white",
            "ticks": ""
           },
           "bgcolor": "#E5ECF6",
           "radialaxis": {
            "gridcolor": "white",
            "linecolor": "white",
            "ticks": ""
           }
          },
          "scene": {
           "xaxis": {
            "backgroundcolor": "#E5ECF6",
            "gridcolor": "white",
            "gridwidth": 2,
            "linecolor": "white",
            "showbackground": true,
            "ticks": "",
            "zerolinecolor": "white"
           },
           "yaxis": {
            "backgroundcolor": "#E5ECF6",
            "gridcolor": "white",
            "gridwidth": 2,
            "linecolor": "white",
            "showbackground": true,
            "ticks": "",
            "zerolinecolor": "white"
           },
           "zaxis": {
            "backgroundcolor": "#E5ECF6",
            "gridcolor": "white",
            "gridwidth": 2,
            "linecolor": "white",
            "showbackground": true,
            "ticks": "",
            "zerolinecolor": "white"
           }
          },
          "shapedefaults": {
           "line": {
            "color": "#2a3f5f"
           }
          },
          "ternary": {
           "aaxis": {
            "gridcolor": "white",
            "linecolor": "white",
            "ticks": ""
           },
           "baxis": {
            "gridcolor": "white",
            "linecolor": "white",
            "ticks": ""
           },
           "bgcolor": "#E5ECF6",
           "caxis": {
            "gridcolor": "white",
            "linecolor": "white",
            "ticks": ""
           }
          },
          "title": {
           "x": 0.05
          },
          "xaxis": {
           "automargin": true,
           "gridcolor": "white",
           "linecolor": "white",
           "ticks": "",
           "title": {
            "standoff": 15
           },
           "zerolinecolor": "white",
           "zerolinewidth": 2
          },
          "yaxis": {
           "automargin": true,
           "gridcolor": "white",
           "linecolor": "white",
           "ticks": "",
           "title": {
            "standoff": 15
           },
           "zerolinecolor": "white",
           "zerolinewidth": 2
          }
         }
        },
        "title": {
         "font": {
          "color": "#4D5663"
         }
        },
        "xaxis": {
         "gridcolor": "#E1E5ED",
         "showgrid": true,
         "tickfont": {
          "color": "#4D5663"
         },
         "title": {
          "font": {
           "color": "#4D5663"
          },
          "text": ""
         },
         "zerolinecolor": "#E1E5ED"
        },
        "yaxis": {
         "gridcolor": "#E1E5ED",
         "showgrid": true,
         "tickfont": {
          "color": "#4D5663"
         },
         "title": {
          "font": {
           "color": "#4D5663"
          },
          "text": ""
         },
         "zerolinecolor": "#E1E5ED"
        }
       }
      },
      "text/html": [
       "<div>                            <div id=\"0d0964de-7a74-4e8c-b409-e8fc5d7e5f77\" class=\"plotly-graph-div\" style=\"height:525px; width:100%;\"></div>            <script type=\"text/javascript\">                require([\"plotly\"], function(Plotly) {                    window.PLOTLYENV=window.PLOTLYENV || {};\n",
       "                    window.PLOTLYENV.BASE_URL='https://plot.ly';                                    if (document.getElementById(\"0d0964de-7a74-4e8c-b409-e8fc5d7e5f77\")) {                    Plotly.newPlot(                        \"0d0964de-7a74-4e8c-b409-e8fc5d7e5f77\",                        [{\"line\":{\"color\":\"rgba(255, 153, 51, 1.0)\",\"dash\":\"solid\",\"shape\":\"linear\",\"width\":1.3},\"mode\":\"lines\",\"name\":\"A\",\"text\":\"\",\"x\":[0,1,2,3,4,5,6,7,8,9,10,11,12,13,14,15,16,17,18,19,20,21,22,23,24,25,26,27,28,29,30,31,32,33,34,35,36,37,38,39,40,41,42,43,44,45,46,47,48,49,50,51,52,53,54,55,56,57,58,59,60,61,62,63,64,65,66,67,68,69,70,71,72,73,74,75,76,77,78,79,80,81,82,83,84,85,86,87,88,89,90,91,92,93,94,95,96,97,98,99],\"y\":[-0.24869303225749126,-2.388145795579333,0.7052569495813963,0.8921836516207222,-0.8641832945932809,0.12474763473727571,0.9771147206925541,-1.120879746434406,2.083325158822628,-0.14292514964191178,-1.1312169975938375,-0.11607697197171943,-2.180363608406877,-1.109061809100249,1.1778238870317181,0.7910259440816909,0.645202281124067,-0.1742790933800676,0.8225032314842339,0.29877822246100105,0.36722046683406245,1.2324544434409372,-1.7020118796248933,1.7042326155461203,-1.4450455739935764,-0.78545924825664,2.06296995198097,0.3665990108761806,-1.116799652901445,0.7366232257112952,0.6809107980964005,0.4337169537228572,0.5054307038730637,-0.9015199558765126,1.2400228835450735,-0.0764876321557282,1.5777026737325832,-0.09862690109282116,0.7644500967843794,0.17103982442114465,0.37321438050746564,-0.1021660818701845,-2.351357285273254,0.8671154218975321,0.9128969618550399,0.17785238425044794,0.21187259997227123,0.050938673505943645,0.6563964094079809,0.053649786152871054,-0.0197549209834424,1.5798149195593896,0.791318635261723,-0.9025588999319102,1.656944673728671,-0.8269206687359101,0.06556319052433303,-0.8214461312213147,2.187880503422802,-0.46944316735562686,-0.7370885868139803,0.8165338304816602,-0.9054807194666195,-1.3809585264041093,-0.7458765995206087,0.18823758886614955,1.3784227314336097,-1.0036999714454244,-0.8559179530591503,-1.5808922630144657,-1.0890433281306702,0.6087193993857751,1.2516196623031353,-0.7354149576024046,0.2891258014135116,0.07985900771739284,-1.215018118998959,0.31249748403780464,0.9175732377339435,-1.041267348022098,-1.069969287706913,1.4965582109974387,2.639408794995632,0.9601098331096278,0.31731584401142465,-2.0170362462039684,0.9816338696585786,1.5190162401027576,0.15579596719864214,0.27471292445643963,-0.63239828780116,-1.0501242325930704,0.8160338670311766,-1.0935321627740018,-0.8056994370048624,0.32500050683722304,0.30487108890472714,-0.31497417629318075,2.0218995987796933,0.4843579882960143],\"type\":\"scatter\"},{\"line\":{\"color\":\"rgba(55, 128, 191, 1.0)\",\"dash\":\"solid\",\"shape\":\"linear\",\"width\":1.3},\"mode\":\"lines\",\"name\":\"B\",\"text\":\"\",\"x\":[0,1,2,3,4,5,6,7,8,9,10,11,12,13,14,15,16,17,18,19,20,21,22,23,24,25,26,27,28,29,30,31,32,33,34,35,36,37,38,39,40,41,42,43,44,45,46,47,48,49,50,51,52,53,54,55,56,57,58,59,60,61,62,63,64,65,66,67,68,69,70,71,72,73,74,75,76,77,78,79,80,81,82,83,84,85,86,87,88,89,90,91,92,93,94,95,96,97,98,99],\"y\":[-0.612674881396858,-0.2369623864621897,0.884172060253383,1.1599681389449998,1.541433973431705,-0.024482749390586922,-0.010581934928280717,0.4208804279380881,-1.055904482828417,-0.5731293410391528,0.6136951834885712,0.3788139488071389,-0.7236246217565258,-0.9832872929064812,-0.04584667102425731,1.0990096326338898,-0.4894552325381044,0.09207295202927872,0.8907023697335712,1.071647550161279,-0.09772605038866598,-0.5573372268161606,2.1569812897937672,-0.3138297576026716,0.967564149880955,0.5283041481971225,1.275552520971748,-0.23814452995452495,1.3686369305494708,0.4554414353012013,0.17261064038033674,-1.2790756257079117,-1.668432178436465,-0.7589722147586523,-1.1217293268341164,0.1457960988457628,-2.460171601392952,1.1224080996706933,-0.5718735010119889,0.7480470173720155,-0.03113393613510434,1.6490615045790034,0.05753332794358935,-0.20428125058288318,-2.0075424792795133,0.667885385351891,0.0636282659190983,-0.011188874517152437,2.049007627401017,-1.5848630631660825,-0.9622210929462339,-0.8431124359578438,0.05754501771367724,-1.2870024758751444,-0.19727806101733522,1.3001919306481338,0.3064075043148491,0.07117476930400782,-0.96812683843896,1.82880823196082,1.5559339345907204,1.7050542509227609,1.7171720163798219,0.42589246627030913,-2.3660287467420225,-1.5323420715419014,1.9884957118847637,-0.7216381285780816,-0.9380010074166955,0.16306318472752554,-0.7425934426726053,-0.9707420414928241,-2.0238789682217306,0.20622339294902128,0.29403482434209716,0.12147098035639514,0.20258350462675498,-0.2992269193093349,0.22115912154903292,-1.7790002822602209,-1.872050479776317,-0.43176879529106,0.940906565069375,1.3443483421299551,-0.8062940834059503,-0.15012732876279758,0.20043931984963673,0.22002772846606183,-1.4076957323909052,1.36507767965311,0.5463241272540051,1.9568592851420272,-0.886230842336463,-0.24970954645615465,1.4577791399977678,-1.0263047973016162,-1.0009532490096018,-0.28890730822092503,1.072250787176654,0.45805736391766777],\"type\":\"scatter\"},{\"line\":{\"color\":\"rgba(50, 171, 96, 1.0)\",\"dash\":\"solid\",\"shape\":\"linear\",\"width\":1.3},\"mode\":\"lines\",\"name\":\"C\",\"text\":\"\",\"x\":[0,1,2,3,4,5,6,7,8,9,10,11,12,13,14,15,16,17,18,19,20,21,22,23,24,25,26,27,28,29,30,31,32,33,34,35,36,37,38,39,40,41,42,43,44,45,46,47,48,49,50,51,52,53,54,55,56,57,58,59,60,61,62,63,64,65,66,67,68,69,70,71,72,73,74,75,76,77,78,79,80,81,82,83,84,85,86,87,88,89,90,91,92,93,94,95,96,97,98,99],\"y\":[-2.1875962710340633,1.2043466892488253,-0.2624637021694007,-0.044774519494937354,-0.38828732945577965,-1.7604191184675766,-0.8330320826323994,-0.45260597178575424,0.37666516698609703,-0.45075330251265217,-0.4543014386060515,-1.6818125208376644,-0.777172441623389,-1.115031723523379,-0.2828639849820452,1.5109558788259014,0.3497580319219913,-0.7986845728658987,-2.304293194629496,0.13818781871544455,-0.8568120676938925,0.1283511008423489,-1.6464870113713808,0.1509732009457024,0.48580680075115507,0.8844256749558661,0.863925568233306,-0.424112327916965,-1.023377757860004,-1.2429516240004856,0.4644114102285322,-0.10295568470534225,1.1343980376200298,0.5952729060364006,-0.944905980125573,-0.5918297192626695,-1.9362958830669315,0.7773084542894089,-0.7025040256192104,-0.6721361405389769,0.22489473295161644,-1.2072044451488124,-0.6679812924099646,0.20072281504376818,-0.06894227862165513,0.21307238240542759,0.8622619083858662,-0.9334003090979155,-0.04407152633317502,0.3703242459554553,-1.5132386818086954,1.704751495814103,-0.35615570204659286,-0.4074435132315458,-0.4803434654367431,-0.5228307576630105,2.1418357368651204,-0.5378629661350438,-0.8789667540700302,-0.679433912537144,2.166892421079014,2.526250778691885,1.0743531852444916,0.9990476667989842,0.9265298440916431,0.42914042026948807,-0.4111111006921592,-0.7268320997806266,-0.6605936820905781,-2.04184195646119,-0.14404800610251542,-0.07021136849345204,0.5959802125115937,2.3055706612204316,-0.39023861984682784,-0.2870649687792531,-0.241642459550871,0.43550553077105064,0.3272146563694911,-0.37076963719152484,-1.2705471688439887,-1.0400727555021632,0.1039131879954186,0.008023775137617924,0.8491798895964642,-0.03897877933284549,1.0028909315813694,-0.32044741849232344,2.1146621360431057,1.9176799493258965,-1.2039507080103085,1.6289595320326293,0.1337860305895442,1.0994080407915758,-0.2758949893549994,0.011838560565450105,1.5341262281452326,-0.36978117398831484,1.6380429951546858,0.7304392696016989],\"type\":\"scatter\"},{\"line\":{\"color\":\"rgba(128, 0, 128, 1.0)\",\"dash\":\"solid\",\"shape\":\"linear\",\"width\":1.3},\"mode\":\"lines\",\"name\":\"D\",\"text\":\"\",\"x\":[0,1,2,3,4,5,6,7,8,9,10,11,12,13,14,15,16,17,18,19,20,21,22,23,24,25,26,27,28,29,30,31,32,33,34,35,36,37,38,39,40,41,42,43,44,45,46,47,48,49,50,51,52,53,54,55,56,57,58,59,60,61,62,63,64,65,66,67,68,69,70,71,72,73,74,75,76,77,78,79,80,81,82,83,84,85,86,87,88,89,90,91,92,93,94,95,96,97,98,99],\"y\":[-1.5897221946627162,0.3881534151264451,0.2772944841151599,1.298330640559541,0.8568091610919952,-1.486106835229758,-1.0862231370818147,0.5748087439840773,1.026628771340924,-0.4141700103142258,0.30538030427163665,-0.012805826093219381,-2.0749459185303816,0.8672918118015417,0.07451223055141265,-1.4561635949972151,-0.5360852317698505,0.3265984770476418,0.8368502744859896,-0.07877931097570023,0.30867488169765506,-0.9617878067606253,-1.4812539643895888,0.19203346442859506,1.0976284998357833,2.66715863939564,-0.6873804694129563,0.9948807074855572,-0.36959070183480014,-0.18158394365251512,0.34071102177736184,1.9530310396655668,1.503513220409165,-0.32346215040040593,-0.08263971729847629,-1.5292671827037791,0.28974899643705376,0.4631692021102995,0.8071285959134398,-0.9225761376000622,0.8235374860706418,-1.4003448077047984,0.7472141205820891,0.09259546962931467,-0.13428263434801724,0.22832046417331497,-0.7557896338030863,0.5533146148613863,-2.2699352226812253,-0.6861455007876447,0.5353727580331634,0.6991968133340193,2.2640420510689365,0.9316723073168875,-0.4747759199341716,0.5320410779272005,1.024932640201076,0.14427840861954674,-1.0822146534072383,0.3105510034526434,0.5891865162490424,-0.7105178812376683,0.3334024361608685,-0.01715749825336284,1.0880748291362126,0.7982450519963034,0.9505168604870251,-0.4029352598200969,1.4491594657254252,0.20045013807179224,-0.40928058030959946,0.5972644954771477,0.4809926819086426,-1.2633582269604677,-0.38106444879833234,1.0058960599684232,-0.5053756209038799,-0.3861065428798655,0.7108175908518505,-0.16554681207675614,1.374812443087915,1.3763994785644487,0.20954640783588474,0.3344658816141513,-2.1098790196848967,0.5367893903275768,-0.5464041834590837,1.7701255317721094,0.9911185492373951,-1.831858888910831,-0.3197343382221082,-0.03144426316548922,-0.7145999792041241,0.0552858232740609,-1.338721708829007,0.923197690489228,0.7368405105614648,-0.628642418169745,0.5444548763628334,-1.5507106220555789],\"type\":\"scatter\"}],                        {\"legend\":{\"bgcolor\":\"#F5F6F9\",\"font\":{\"color\":\"#4D5663\"}},\"paper_bgcolor\":\"#F5F6F9\",\"plot_bgcolor\":\"#F5F6F9\",\"template\":{\"data\":{\"barpolar\":[{\"marker\":{\"line\":{\"color\":\"#E5ECF6\",\"width\":0.5},\"pattern\":{\"fillmode\":\"overlay\",\"size\":10,\"solidity\":0.2}},\"type\":\"barpolar\"}],\"bar\":[{\"error_x\":{\"color\":\"#2a3f5f\"},\"error_y\":{\"color\":\"#2a3f5f\"},\"marker\":{\"line\":{\"color\":\"#E5ECF6\",\"width\":0.5},\"pattern\":{\"fillmode\":\"overlay\",\"size\":10,\"solidity\":0.2}},\"type\":\"bar\"}],\"carpet\":[{\"aaxis\":{\"endlinecolor\":\"#2a3f5f\",\"gridcolor\":\"white\",\"linecolor\":\"white\",\"minorgridcolor\":\"white\",\"startlinecolor\":\"#2a3f5f\"},\"baxis\":{\"endlinecolor\":\"#2a3f5f\",\"gridcolor\":\"white\",\"linecolor\":\"white\",\"minorgridcolor\":\"white\",\"startlinecolor\":\"#2a3f5f\"},\"type\":\"carpet\"}],\"choropleth\":[{\"colorbar\":{\"outlinewidth\":0,\"ticks\":\"\"},\"type\":\"choropleth\"}],\"contourcarpet\":[{\"colorbar\":{\"outlinewidth\":0,\"ticks\":\"\"},\"type\":\"contourcarpet\"}],\"contour\":[{\"colorbar\":{\"outlinewidth\":0,\"ticks\":\"\"},\"colorscale\":[[0.0,\"#0d0887\"],[0.1111111111111111,\"#46039f\"],[0.2222222222222222,\"#7201a8\"],[0.3333333333333333,\"#9c179e\"],[0.4444444444444444,\"#bd3786\"],[0.5555555555555556,\"#d8576b\"],[0.6666666666666666,\"#ed7953\"],[0.7777777777777778,\"#fb9f3a\"],[0.8888888888888888,\"#fdca26\"],[1.0,\"#f0f921\"]],\"type\":\"contour\"}],\"heatmapgl\":[{\"colorbar\":{\"outlinewidth\":0,\"ticks\":\"\"},\"colorscale\":[[0.0,\"#0d0887\"],[0.1111111111111111,\"#46039f\"],[0.2222222222222222,\"#7201a8\"],[0.3333333333333333,\"#9c179e\"],[0.4444444444444444,\"#bd3786\"],[0.5555555555555556,\"#d8576b\"],[0.6666666666666666,\"#ed7953\"],[0.7777777777777778,\"#fb9f3a\"],[0.8888888888888888,\"#fdca26\"],[1.0,\"#f0f921\"]],\"type\":\"heatmapgl\"}],\"heatmap\":[{\"colorbar\":{\"outlinewidth\":0,\"ticks\":\"\"},\"colorscale\":[[0.0,\"#0d0887\"],[0.1111111111111111,\"#46039f\"],[0.2222222222222222,\"#7201a8\"],[0.3333333333333333,\"#9c179e\"],[0.4444444444444444,\"#bd3786\"],[0.5555555555555556,\"#d8576b\"],[0.6666666666666666,\"#ed7953\"],[0.7777777777777778,\"#fb9f3a\"],[0.8888888888888888,\"#fdca26\"],[1.0,\"#f0f921\"]],\"type\":\"heatmap\"}],\"histogram2dcontour\":[{\"colorbar\":{\"outlinewidth\":0,\"ticks\":\"\"},\"colorscale\":[[0.0,\"#0d0887\"],[0.1111111111111111,\"#46039f\"],[0.2222222222222222,\"#7201a8\"],[0.3333333333333333,\"#9c179e\"],[0.4444444444444444,\"#bd3786\"],[0.5555555555555556,\"#d8576b\"],[0.6666666666666666,\"#ed7953\"],[0.7777777777777778,\"#fb9f3a\"],[0.8888888888888888,\"#fdca26\"],[1.0,\"#f0f921\"]],\"type\":\"histogram2dcontour\"}],\"histogram2d\":[{\"colorbar\":{\"outlinewidth\":0,\"ticks\":\"\"},\"colorscale\":[[0.0,\"#0d0887\"],[0.1111111111111111,\"#46039f\"],[0.2222222222222222,\"#7201a8\"],[0.3333333333333333,\"#9c179e\"],[0.4444444444444444,\"#bd3786\"],[0.5555555555555556,\"#d8576b\"],[0.6666666666666666,\"#ed7953\"],[0.7777777777777778,\"#fb9f3a\"],[0.8888888888888888,\"#fdca26\"],[1.0,\"#f0f921\"]],\"type\":\"histogram2d\"}],\"histogram\":[{\"marker\":{\"pattern\":{\"fillmode\":\"overlay\",\"size\":10,\"solidity\":0.2}},\"type\":\"histogram\"}],\"mesh3d\":[{\"colorbar\":{\"outlinewidth\":0,\"ticks\":\"\"},\"type\":\"mesh3d\"}],\"parcoords\":[{\"line\":{\"colorbar\":{\"outlinewidth\":0,\"ticks\":\"\"}},\"type\":\"parcoords\"}],\"pie\":[{\"automargin\":true,\"type\":\"pie\"}],\"scatter3d\":[{\"line\":{\"colorbar\":{\"outlinewidth\":0,\"ticks\":\"\"}},\"marker\":{\"colorbar\":{\"outlinewidth\":0,\"ticks\":\"\"}},\"type\":\"scatter3d\"}],\"scattercarpet\":[{\"marker\":{\"colorbar\":{\"outlinewidth\":0,\"ticks\":\"\"}},\"type\":\"scattercarpet\"}],\"scattergeo\":[{\"marker\":{\"colorbar\":{\"outlinewidth\":0,\"ticks\":\"\"}},\"type\":\"scattergeo\"}],\"scattergl\":[{\"marker\":{\"colorbar\":{\"outlinewidth\":0,\"ticks\":\"\"}},\"type\":\"scattergl\"}],\"scattermapbox\":[{\"marker\":{\"colorbar\":{\"outlinewidth\":0,\"ticks\":\"\"}},\"type\":\"scattermapbox\"}],\"scatterpolargl\":[{\"marker\":{\"colorbar\":{\"outlinewidth\":0,\"ticks\":\"\"}},\"type\":\"scatterpolargl\"}],\"scatterpolar\":[{\"marker\":{\"colorbar\":{\"outlinewidth\":0,\"ticks\":\"\"}},\"type\":\"scatterpolar\"}],\"scatter\":[{\"fillpattern\":{\"fillmode\":\"overlay\",\"size\":10,\"solidity\":0.2},\"type\":\"scatter\"}],\"scatterternary\":[{\"marker\":{\"colorbar\":{\"outlinewidth\":0,\"ticks\":\"\"}},\"type\":\"scatterternary\"}],\"surface\":[{\"colorbar\":{\"outlinewidth\":0,\"ticks\":\"\"},\"colorscale\":[[0.0,\"#0d0887\"],[0.1111111111111111,\"#46039f\"],[0.2222222222222222,\"#7201a8\"],[0.3333333333333333,\"#9c179e\"],[0.4444444444444444,\"#bd3786\"],[0.5555555555555556,\"#d8576b\"],[0.6666666666666666,\"#ed7953\"],[0.7777777777777778,\"#fb9f3a\"],[0.8888888888888888,\"#fdca26\"],[1.0,\"#f0f921\"]],\"type\":\"surface\"}],\"table\":[{\"cells\":{\"fill\":{\"color\":\"#EBF0F8\"},\"line\":{\"color\":\"white\"}},\"header\":{\"fill\":{\"color\":\"#C8D4E3\"},\"line\":{\"color\":\"white\"}},\"type\":\"table\"}]},\"layout\":{\"annotationdefaults\":{\"arrowcolor\":\"#2a3f5f\",\"arrowhead\":0,\"arrowwidth\":1},\"autotypenumbers\":\"strict\",\"coloraxis\":{\"colorbar\":{\"outlinewidth\":0,\"ticks\":\"\"}},\"colorscale\":{\"diverging\":[[0,\"#8e0152\"],[0.1,\"#c51b7d\"],[0.2,\"#de77ae\"],[0.3,\"#f1b6da\"],[0.4,\"#fde0ef\"],[0.5,\"#f7f7f7\"],[0.6,\"#e6f5d0\"],[0.7,\"#b8e186\"],[0.8,\"#7fbc41\"],[0.9,\"#4d9221\"],[1,\"#276419\"]],\"sequential\":[[0.0,\"#0d0887\"],[0.1111111111111111,\"#46039f\"],[0.2222222222222222,\"#7201a8\"],[0.3333333333333333,\"#9c179e\"],[0.4444444444444444,\"#bd3786\"],[0.5555555555555556,\"#d8576b\"],[0.6666666666666666,\"#ed7953\"],[0.7777777777777778,\"#fb9f3a\"],[0.8888888888888888,\"#fdca26\"],[1.0,\"#f0f921\"]],\"sequentialminus\":[[0.0,\"#0d0887\"],[0.1111111111111111,\"#46039f\"],[0.2222222222222222,\"#7201a8\"],[0.3333333333333333,\"#9c179e\"],[0.4444444444444444,\"#bd3786\"],[0.5555555555555556,\"#d8576b\"],[0.6666666666666666,\"#ed7953\"],[0.7777777777777778,\"#fb9f3a\"],[0.8888888888888888,\"#fdca26\"],[1.0,\"#f0f921\"]]},\"colorway\":[\"#636efa\",\"#EF553B\",\"#00cc96\",\"#ab63fa\",\"#FFA15A\",\"#19d3f3\",\"#FF6692\",\"#B6E880\",\"#FF97FF\",\"#FECB52\"],\"font\":{\"color\":\"#2a3f5f\"},\"geo\":{\"bgcolor\":\"white\",\"lakecolor\":\"white\",\"landcolor\":\"#E5ECF6\",\"showlakes\":true,\"showland\":true,\"subunitcolor\":\"white\"},\"hoverlabel\":{\"align\":\"left\"},\"hovermode\":\"closest\",\"mapbox\":{\"style\":\"light\"},\"paper_bgcolor\":\"white\",\"plot_bgcolor\":\"#E5ECF6\",\"polar\":{\"angularaxis\":{\"gridcolor\":\"white\",\"linecolor\":\"white\",\"ticks\":\"\"},\"bgcolor\":\"#E5ECF6\",\"radialaxis\":{\"gridcolor\":\"white\",\"linecolor\":\"white\",\"ticks\":\"\"}},\"scene\":{\"xaxis\":{\"backgroundcolor\":\"#E5ECF6\",\"gridcolor\":\"white\",\"gridwidth\":2,\"linecolor\":\"white\",\"showbackground\":true,\"ticks\":\"\",\"zerolinecolor\":\"white\"},\"yaxis\":{\"backgroundcolor\":\"#E5ECF6\",\"gridcolor\":\"white\",\"gridwidth\":2,\"linecolor\":\"white\",\"showbackground\":true,\"ticks\":\"\",\"zerolinecolor\":\"white\"},\"zaxis\":{\"backgroundcolor\":\"#E5ECF6\",\"gridcolor\":\"white\",\"gridwidth\":2,\"linecolor\":\"white\",\"showbackground\":true,\"ticks\":\"\",\"zerolinecolor\":\"white\"}},\"shapedefaults\":{\"line\":{\"color\":\"#2a3f5f\"}},\"ternary\":{\"aaxis\":{\"gridcolor\":\"white\",\"linecolor\":\"white\",\"ticks\":\"\"},\"baxis\":{\"gridcolor\":\"white\",\"linecolor\":\"white\",\"ticks\":\"\"},\"bgcolor\":\"#E5ECF6\",\"caxis\":{\"gridcolor\":\"white\",\"linecolor\":\"white\",\"ticks\":\"\"}},\"title\":{\"x\":0.05},\"xaxis\":{\"automargin\":true,\"gridcolor\":\"white\",\"linecolor\":\"white\",\"ticks\":\"\",\"title\":{\"standoff\":15},\"zerolinecolor\":\"white\",\"zerolinewidth\":2},\"yaxis\":{\"automargin\":true,\"gridcolor\":\"white\",\"linecolor\":\"white\",\"ticks\":\"\",\"title\":{\"standoff\":15},\"zerolinecolor\":\"white\",\"zerolinewidth\":2}}},\"title\":{\"font\":{\"color\":\"#4D5663\"}},\"xaxis\":{\"gridcolor\":\"#E1E5ED\",\"showgrid\":true,\"tickfont\":{\"color\":\"#4D5663\"},\"title\":{\"font\":{\"color\":\"#4D5663\"},\"text\":\"\"},\"zerolinecolor\":\"#E1E5ED\"},\"yaxis\":{\"gridcolor\":\"#E1E5ED\",\"showgrid\":true,\"tickfont\":{\"color\":\"#4D5663\"},\"title\":{\"font\":{\"color\":\"#4D5663\"},\"text\":\"\"},\"zerolinecolor\":\"#E1E5ED\"}},                        {\"showLink\": true, \"linkText\": \"Export to plot.ly\", \"plotlyServerURL\": \"https://plot.ly\", \"responsive\": true}                    ).then(function(){\n",
       "                            \n",
       "var gd = document.getElementById('0d0964de-7a74-4e8c-b409-e8fc5d7e5f77');\n",
       "var x = new MutationObserver(function (mutations, observer) {{\n",
       "        var display = window.getComputedStyle(gd).display;\n",
       "        if (!display || display === 'none') {{\n",
       "            console.log([gd, 'removed!']);\n",
       "            Plotly.purge(gd);\n",
       "            observer.disconnect();\n",
       "        }}\n",
       "}});\n",
       "\n",
       "// Listen for the removal of the full notebook cells\n",
       "var notebookContainer = gd.closest('#notebook-container');\n",
       "if (notebookContainer) {{\n",
       "    x.observe(notebookContainer, {childList: true});\n",
       "}}\n",
       "\n",
       "// Listen for the clearing of the current output cell\n",
       "var outputEl = gd.closest('.output');\n",
       "if (outputEl) {{\n",
       "    x.observe(outputEl, {childList: true});\n",
       "}}\n",
       "\n",
       "                        })                };                });            </script>        </div>"
      ]
     },
     "metadata": {},
     "output_type": "display_data"
    }
   ],
   "source": [
    "df.iplot() # Makes an interactable line plot that can be paned, zoomed out, changed and improved."
   ]
  },
  {
   "cell_type": "code",
   "execution_count": 24,
   "id": "09b9fbe3",
   "metadata": {},
   "outputs": [
    {
     "data": {
      "application/vnd.plotly.v1+json": {
       "config": {
        "linkText": "Export to plot.ly",
        "plotlyServerURL": "https://plot.ly",
        "showLink": true
       },
       "data": [
        {
         "line": {
          "color": "rgba(255, 153, 51, 1.0)",
          "dash": "solid",
          "shape": "linear",
          "width": 1.3
         },
         "marker": {
          "size": 12,
          "symbol": "circle"
         },
         "mode": "markers",
         "name": "B",
         "text": "",
         "type": "scatter",
         "x": [
          -0.24869303225749126,
          -2.388145795579333,
          0.7052569495813963,
          0.8921836516207222,
          -0.8641832945932809,
          0.12474763473727571,
          0.9771147206925541,
          -1.120879746434406,
          2.083325158822628,
          -0.14292514964191178,
          -1.1312169975938375,
          -0.11607697197171943,
          -2.180363608406877,
          -1.109061809100249,
          1.1778238870317181,
          0.7910259440816909,
          0.645202281124067,
          -0.1742790933800676,
          0.8225032314842339,
          0.29877822246100105,
          0.36722046683406245,
          1.2324544434409372,
          -1.7020118796248933,
          1.7042326155461203,
          -1.4450455739935764,
          -0.78545924825664,
          2.06296995198097,
          0.3665990108761806,
          -1.116799652901445,
          0.7366232257112952,
          0.6809107980964005,
          0.4337169537228572,
          0.5054307038730637,
          -0.9015199558765126,
          1.2400228835450735,
          -0.0764876321557282,
          1.5777026737325832,
          -0.09862690109282116,
          0.7644500967843794,
          0.17103982442114465,
          0.37321438050746564,
          -0.1021660818701845,
          -2.351357285273254,
          0.8671154218975321,
          0.9128969618550399,
          0.17785238425044794,
          0.21187259997227123,
          0.050938673505943645,
          0.6563964094079809,
          0.053649786152871054,
          -0.0197549209834424,
          1.5798149195593896,
          0.791318635261723,
          -0.9025588999319102,
          1.656944673728671,
          -0.8269206687359101,
          0.06556319052433303,
          -0.8214461312213147,
          2.187880503422802,
          -0.46944316735562686,
          -0.7370885868139803,
          0.8165338304816602,
          -0.9054807194666195,
          -1.3809585264041093,
          -0.7458765995206087,
          0.18823758886614955,
          1.3784227314336097,
          -1.0036999714454244,
          -0.8559179530591503,
          -1.5808922630144657,
          -1.0890433281306702,
          0.6087193993857751,
          1.2516196623031353,
          -0.7354149576024046,
          0.2891258014135116,
          0.07985900771739284,
          -1.215018118998959,
          0.31249748403780464,
          0.9175732377339435,
          -1.041267348022098,
          -1.069969287706913,
          1.4965582109974387,
          2.639408794995632,
          0.9601098331096278,
          0.31731584401142465,
          -2.0170362462039684,
          0.9816338696585786,
          1.5190162401027576,
          0.15579596719864214,
          0.27471292445643963,
          -0.63239828780116,
          -1.0501242325930704,
          0.8160338670311766,
          -1.0935321627740018,
          -0.8056994370048624,
          0.32500050683722304,
          0.30487108890472714,
          -0.31497417629318075,
          2.0218995987796933,
          0.4843579882960143
         ],
         "y": [
          -0.612674881396858,
          -0.2369623864621897,
          0.884172060253383,
          1.1599681389449998,
          1.541433973431705,
          -0.024482749390586922,
          -0.010581934928280717,
          0.4208804279380881,
          -1.055904482828417,
          -0.5731293410391528,
          0.6136951834885712,
          0.3788139488071389,
          -0.7236246217565258,
          -0.9832872929064812,
          -0.04584667102425731,
          1.0990096326338898,
          -0.4894552325381044,
          0.09207295202927872,
          0.8907023697335712,
          1.071647550161279,
          -0.09772605038866598,
          -0.5573372268161606,
          2.1569812897937672,
          -0.3138297576026716,
          0.967564149880955,
          0.5283041481971225,
          1.275552520971748,
          -0.23814452995452495,
          1.3686369305494708,
          0.4554414353012013,
          0.17261064038033674,
          -1.2790756257079117,
          -1.668432178436465,
          -0.7589722147586523,
          -1.1217293268341164,
          0.1457960988457628,
          -2.460171601392952,
          1.1224080996706933,
          -0.5718735010119889,
          0.7480470173720155,
          -0.03113393613510434,
          1.6490615045790034,
          0.05753332794358935,
          -0.20428125058288318,
          -2.0075424792795133,
          0.667885385351891,
          0.0636282659190983,
          -0.011188874517152437,
          2.049007627401017,
          -1.5848630631660825,
          -0.9622210929462339,
          -0.8431124359578438,
          0.05754501771367724,
          -1.2870024758751444,
          -0.19727806101733522,
          1.3001919306481338,
          0.3064075043148491,
          0.07117476930400782,
          -0.96812683843896,
          1.82880823196082,
          1.5559339345907204,
          1.7050542509227609,
          1.7171720163798219,
          0.42589246627030913,
          -2.3660287467420225,
          -1.5323420715419014,
          1.9884957118847637,
          -0.7216381285780816,
          -0.9380010074166955,
          0.16306318472752554,
          -0.7425934426726053,
          -0.9707420414928241,
          -2.0238789682217306,
          0.20622339294902128,
          0.29403482434209716,
          0.12147098035639514,
          0.20258350462675498,
          -0.2992269193093349,
          0.22115912154903292,
          -1.7790002822602209,
          -1.872050479776317,
          -0.43176879529106,
          0.940906565069375,
          1.3443483421299551,
          -0.8062940834059503,
          -0.15012732876279758,
          0.20043931984963673,
          0.22002772846606183,
          -1.4076957323909052,
          1.36507767965311,
          0.5463241272540051,
          1.9568592851420272,
          -0.886230842336463,
          -0.24970954645615465,
          1.4577791399977678,
          -1.0263047973016162,
          -1.0009532490096018,
          -0.28890730822092503,
          1.072250787176654,
          0.45805736391766777
         ]
        }
       ],
       "layout": {
        "legend": {
         "bgcolor": "#F5F6F9",
         "font": {
          "color": "#4D5663"
         }
        },
        "paper_bgcolor": "#F5F6F9",
        "plot_bgcolor": "#F5F6F9",
        "template": {
         "data": {
          "bar": [
           {
            "error_x": {
             "color": "#2a3f5f"
            },
            "error_y": {
             "color": "#2a3f5f"
            },
            "marker": {
             "line": {
              "color": "#E5ECF6",
              "width": 0.5
             },
             "pattern": {
              "fillmode": "overlay",
              "size": 10,
              "solidity": 0.2
             }
            },
            "type": "bar"
           }
          ],
          "barpolar": [
           {
            "marker": {
             "line": {
              "color": "#E5ECF6",
              "width": 0.5
             },
             "pattern": {
              "fillmode": "overlay",
              "size": 10,
              "solidity": 0.2
             }
            },
            "type": "barpolar"
           }
          ],
          "carpet": [
           {
            "aaxis": {
             "endlinecolor": "#2a3f5f",
             "gridcolor": "white",
             "linecolor": "white",
             "minorgridcolor": "white",
             "startlinecolor": "#2a3f5f"
            },
            "baxis": {
             "endlinecolor": "#2a3f5f",
             "gridcolor": "white",
             "linecolor": "white",
             "minorgridcolor": "white",
             "startlinecolor": "#2a3f5f"
            },
            "type": "carpet"
           }
          ],
          "choropleth": [
           {
            "colorbar": {
             "outlinewidth": 0,
             "ticks": ""
            },
            "type": "choropleth"
           }
          ],
          "contour": [
           {
            "colorbar": {
             "outlinewidth": 0,
             "ticks": ""
            },
            "colorscale": [
             [
              0,
              "#0d0887"
             ],
             [
              0.1111111111111111,
              "#46039f"
             ],
             [
              0.2222222222222222,
              "#7201a8"
             ],
             [
              0.3333333333333333,
              "#9c179e"
             ],
             [
              0.4444444444444444,
              "#bd3786"
             ],
             [
              0.5555555555555556,
              "#d8576b"
             ],
             [
              0.6666666666666666,
              "#ed7953"
             ],
             [
              0.7777777777777778,
              "#fb9f3a"
             ],
             [
              0.8888888888888888,
              "#fdca26"
             ],
             [
              1,
              "#f0f921"
             ]
            ],
            "type": "contour"
           }
          ],
          "contourcarpet": [
           {
            "colorbar": {
             "outlinewidth": 0,
             "ticks": ""
            },
            "type": "contourcarpet"
           }
          ],
          "heatmap": [
           {
            "colorbar": {
             "outlinewidth": 0,
             "ticks": ""
            },
            "colorscale": [
             [
              0,
              "#0d0887"
             ],
             [
              0.1111111111111111,
              "#46039f"
             ],
             [
              0.2222222222222222,
              "#7201a8"
             ],
             [
              0.3333333333333333,
              "#9c179e"
             ],
             [
              0.4444444444444444,
              "#bd3786"
             ],
             [
              0.5555555555555556,
              "#d8576b"
             ],
             [
              0.6666666666666666,
              "#ed7953"
             ],
             [
              0.7777777777777778,
              "#fb9f3a"
             ],
             [
              0.8888888888888888,
              "#fdca26"
             ],
             [
              1,
              "#f0f921"
             ]
            ],
            "type": "heatmap"
           }
          ],
          "heatmapgl": [
           {
            "colorbar": {
             "outlinewidth": 0,
             "ticks": ""
            },
            "colorscale": [
             [
              0,
              "#0d0887"
             ],
             [
              0.1111111111111111,
              "#46039f"
             ],
             [
              0.2222222222222222,
              "#7201a8"
             ],
             [
              0.3333333333333333,
              "#9c179e"
             ],
             [
              0.4444444444444444,
              "#bd3786"
             ],
             [
              0.5555555555555556,
              "#d8576b"
             ],
             [
              0.6666666666666666,
              "#ed7953"
             ],
             [
              0.7777777777777778,
              "#fb9f3a"
             ],
             [
              0.8888888888888888,
              "#fdca26"
             ],
             [
              1,
              "#f0f921"
             ]
            ],
            "type": "heatmapgl"
           }
          ],
          "histogram": [
           {
            "marker": {
             "pattern": {
              "fillmode": "overlay",
              "size": 10,
              "solidity": 0.2
             }
            },
            "type": "histogram"
           }
          ],
          "histogram2d": [
           {
            "colorbar": {
             "outlinewidth": 0,
             "ticks": ""
            },
            "colorscale": [
             [
              0,
              "#0d0887"
             ],
             [
              0.1111111111111111,
              "#46039f"
             ],
             [
              0.2222222222222222,
              "#7201a8"
             ],
             [
              0.3333333333333333,
              "#9c179e"
             ],
             [
              0.4444444444444444,
              "#bd3786"
             ],
             [
              0.5555555555555556,
              "#d8576b"
             ],
             [
              0.6666666666666666,
              "#ed7953"
             ],
             [
              0.7777777777777778,
              "#fb9f3a"
             ],
             [
              0.8888888888888888,
              "#fdca26"
             ],
             [
              1,
              "#f0f921"
             ]
            ],
            "type": "histogram2d"
           }
          ],
          "histogram2dcontour": [
           {
            "colorbar": {
             "outlinewidth": 0,
             "ticks": ""
            },
            "colorscale": [
             [
              0,
              "#0d0887"
             ],
             [
              0.1111111111111111,
              "#46039f"
             ],
             [
              0.2222222222222222,
              "#7201a8"
             ],
             [
              0.3333333333333333,
              "#9c179e"
             ],
             [
              0.4444444444444444,
              "#bd3786"
             ],
             [
              0.5555555555555556,
              "#d8576b"
             ],
             [
              0.6666666666666666,
              "#ed7953"
             ],
             [
              0.7777777777777778,
              "#fb9f3a"
             ],
             [
              0.8888888888888888,
              "#fdca26"
             ],
             [
              1,
              "#f0f921"
             ]
            ],
            "type": "histogram2dcontour"
           }
          ],
          "mesh3d": [
           {
            "colorbar": {
             "outlinewidth": 0,
             "ticks": ""
            },
            "type": "mesh3d"
           }
          ],
          "parcoords": [
           {
            "line": {
             "colorbar": {
              "outlinewidth": 0,
              "ticks": ""
             }
            },
            "type": "parcoords"
           }
          ],
          "pie": [
           {
            "automargin": true,
            "type": "pie"
           }
          ],
          "scatter": [
           {
            "fillpattern": {
             "fillmode": "overlay",
             "size": 10,
             "solidity": 0.2
            },
            "type": "scatter"
           }
          ],
          "scatter3d": [
           {
            "line": {
             "colorbar": {
              "outlinewidth": 0,
              "ticks": ""
             }
            },
            "marker": {
             "colorbar": {
              "outlinewidth": 0,
              "ticks": ""
             }
            },
            "type": "scatter3d"
           }
          ],
          "scattercarpet": [
           {
            "marker": {
             "colorbar": {
              "outlinewidth": 0,
              "ticks": ""
             }
            },
            "type": "scattercarpet"
           }
          ],
          "scattergeo": [
           {
            "marker": {
             "colorbar": {
              "outlinewidth": 0,
              "ticks": ""
             }
            },
            "type": "scattergeo"
           }
          ],
          "scattergl": [
           {
            "marker": {
             "colorbar": {
              "outlinewidth": 0,
              "ticks": ""
             }
            },
            "type": "scattergl"
           }
          ],
          "scattermapbox": [
           {
            "marker": {
             "colorbar": {
              "outlinewidth": 0,
              "ticks": ""
             }
            },
            "type": "scattermapbox"
           }
          ],
          "scatterpolar": [
           {
            "marker": {
             "colorbar": {
              "outlinewidth": 0,
              "ticks": ""
             }
            },
            "type": "scatterpolar"
           }
          ],
          "scatterpolargl": [
           {
            "marker": {
             "colorbar": {
              "outlinewidth": 0,
              "ticks": ""
             }
            },
            "type": "scatterpolargl"
           }
          ],
          "scatterternary": [
           {
            "marker": {
             "colorbar": {
              "outlinewidth": 0,
              "ticks": ""
             }
            },
            "type": "scatterternary"
           }
          ],
          "surface": [
           {
            "colorbar": {
             "outlinewidth": 0,
             "ticks": ""
            },
            "colorscale": [
             [
              0,
              "#0d0887"
             ],
             [
              0.1111111111111111,
              "#46039f"
             ],
             [
              0.2222222222222222,
              "#7201a8"
             ],
             [
              0.3333333333333333,
              "#9c179e"
             ],
             [
              0.4444444444444444,
              "#bd3786"
             ],
             [
              0.5555555555555556,
              "#d8576b"
             ],
             [
              0.6666666666666666,
              "#ed7953"
             ],
             [
              0.7777777777777778,
              "#fb9f3a"
             ],
             [
              0.8888888888888888,
              "#fdca26"
             ],
             [
              1,
              "#f0f921"
             ]
            ],
            "type": "surface"
           }
          ],
          "table": [
           {
            "cells": {
             "fill": {
              "color": "#EBF0F8"
             },
             "line": {
              "color": "white"
             }
            },
            "header": {
             "fill": {
              "color": "#C8D4E3"
             },
             "line": {
              "color": "white"
             }
            },
            "type": "table"
           }
          ]
         },
         "layout": {
          "annotationdefaults": {
           "arrowcolor": "#2a3f5f",
           "arrowhead": 0,
           "arrowwidth": 1
          },
          "autotypenumbers": "strict",
          "coloraxis": {
           "colorbar": {
            "outlinewidth": 0,
            "ticks": ""
           }
          },
          "colorscale": {
           "diverging": [
            [
             0,
             "#8e0152"
            ],
            [
             0.1,
             "#c51b7d"
            ],
            [
             0.2,
             "#de77ae"
            ],
            [
             0.3,
             "#f1b6da"
            ],
            [
             0.4,
             "#fde0ef"
            ],
            [
             0.5,
             "#f7f7f7"
            ],
            [
             0.6,
             "#e6f5d0"
            ],
            [
             0.7,
             "#b8e186"
            ],
            [
             0.8,
             "#7fbc41"
            ],
            [
             0.9,
             "#4d9221"
            ],
            [
             1,
             "#276419"
            ]
           ],
           "sequential": [
            [
             0,
             "#0d0887"
            ],
            [
             0.1111111111111111,
             "#46039f"
            ],
            [
             0.2222222222222222,
             "#7201a8"
            ],
            [
             0.3333333333333333,
             "#9c179e"
            ],
            [
             0.4444444444444444,
             "#bd3786"
            ],
            [
             0.5555555555555556,
             "#d8576b"
            ],
            [
             0.6666666666666666,
             "#ed7953"
            ],
            [
             0.7777777777777778,
             "#fb9f3a"
            ],
            [
             0.8888888888888888,
             "#fdca26"
            ],
            [
             1,
             "#f0f921"
            ]
           ],
           "sequentialminus": [
            [
             0,
             "#0d0887"
            ],
            [
             0.1111111111111111,
             "#46039f"
            ],
            [
             0.2222222222222222,
             "#7201a8"
            ],
            [
             0.3333333333333333,
             "#9c179e"
            ],
            [
             0.4444444444444444,
             "#bd3786"
            ],
            [
             0.5555555555555556,
             "#d8576b"
            ],
            [
             0.6666666666666666,
             "#ed7953"
            ],
            [
             0.7777777777777778,
             "#fb9f3a"
            ],
            [
             0.8888888888888888,
             "#fdca26"
            ],
            [
             1,
             "#f0f921"
            ]
           ]
          },
          "colorway": [
           "#636efa",
           "#EF553B",
           "#00cc96",
           "#ab63fa",
           "#FFA15A",
           "#19d3f3",
           "#FF6692",
           "#B6E880",
           "#FF97FF",
           "#FECB52"
          ],
          "font": {
           "color": "#2a3f5f"
          },
          "geo": {
           "bgcolor": "white",
           "lakecolor": "white",
           "landcolor": "#E5ECF6",
           "showlakes": true,
           "showland": true,
           "subunitcolor": "white"
          },
          "hoverlabel": {
           "align": "left"
          },
          "hovermode": "closest",
          "mapbox": {
           "style": "light"
          },
          "paper_bgcolor": "white",
          "plot_bgcolor": "#E5ECF6",
          "polar": {
           "angularaxis": {
            "gridcolor": "white",
            "linecolor": "white",
            "ticks": ""
           },
           "bgcolor": "#E5ECF6",
           "radialaxis": {
            "gridcolor": "white",
            "linecolor": "white",
            "ticks": ""
           }
          },
          "scene": {
           "xaxis": {
            "backgroundcolor": "#E5ECF6",
            "gridcolor": "white",
            "gridwidth": 2,
            "linecolor": "white",
            "showbackground": true,
            "ticks": "",
            "zerolinecolor": "white"
           },
           "yaxis": {
            "backgroundcolor": "#E5ECF6",
            "gridcolor": "white",
            "gridwidth": 2,
            "linecolor": "white",
            "showbackground": true,
            "ticks": "",
            "zerolinecolor": "white"
           },
           "zaxis": {
            "backgroundcolor": "#E5ECF6",
            "gridcolor": "white",
            "gridwidth": 2,
            "linecolor": "white",
            "showbackground": true,
            "ticks": "",
            "zerolinecolor": "white"
           }
          },
          "shapedefaults": {
           "line": {
            "color": "#2a3f5f"
           }
          },
          "ternary": {
           "aaxis": {
            "gridcolor": "white",
            "linecolor": "white",
            "ticks": ""
           },
           "baxis": {
            "gridcolor": "white",
            "linecolor": "white",
            "ticks": ""
           },
           "bgcolor": "#E5ECF6",
           "caxis": {
            "gridcolor": "white",
            "linecolor": "white",
            "ticks": ""
           }
          },
          "title": {
           "x": 0.05
          },
          "xaxis": {
           "automargin": true,
           "gridcolor": "white",
           "linecolor": "white",
           "ticks": "",
           "title": {
            "standoff": 15
           },
           "zerolinecolor": "white",
           "zerolinewidth": 2
          },
          "yaxis": {
           "automargin": true,
           "gridcolor": "white",
           "linecolor": "white",
           "ticks": "",
           "title": {
            "standoff": 15
           },
           "zerolinecolor": "white",
           "zerolinewidth": 2
          }
         }
        },
        "title": {
         "font": {
          "color": "#4D5663"
         }
        },
        "xaxis": {
         "gridcolor": "#E1E5ED",
         "showgrid": true,
         "tickfont": {
          "color": "#4D5663"
         },
         "title": {
          "font": {
           "color": "#4D5663"
          },
          "text": ""
         },
         "zerolinecolor": "#E1E5ED"
        },
        "yaxis": {
         "gridcolor": "#E1E5ED",
         "showgrid": true,
         "tickfont": {
          "color": "#4D5663"
         },
         "title": {
          "font": {
           "color": "#4D5663"
          },
          "text": ""
         },
         "zerolinecolor": "#E1E5ED"
        }
       }
      },
      "text/html": [
       "<div>                            <div id=\"a5fe9010-2fb7-47eb-a8d8-a711cb874d32\" class=\"plotly-graph-div\" style=\"height:525px; width:100%;\"></div>            <script type=\"text/javascript\">                require([\"plotly\"], function(Plotly) {                    window.PLOTLYENV=window.PLOTLYENV || {};\n",
       "                    window.PLOTLYENV.BASE_URL='https://plot.ly';                                    if (document.getElementById(\"a5fe9010-2fb7-47eb-a8d8-a711cb874d32\")) {                    Plotly.newPlot(                        \"a5fe9010-2fb7-47eb-a8d8-a711cb874d32\",                        [{\"line\":{\"color\":\"rgba(255, 153, 51, 1.0)\",\"dash\":\"solid\",\"shape\":\"linear\",\"width\":1.3},\"marker\":{\"size\":12,\"symbol\":\"circle\"},\"mode\":\"markers\",\"name\":\"B\",\"text\":\"\",\"x\":[-0.24869303225749126,-2.388145795579333,0.7052569495813963,0.8921836516207222,-0.8641832945932809,0.12474763473727571,0.9771147206925541,-1.120879746434406,2.083325158822628,-0.14292514964191178,-1.1312169975938375,-0.11607697197171943,-2.180363608406877,-1.109061809100249,1.1778238870317181,0.7910259440816909,0.645202281124067,-0.1742790933800676,0.8225032314842339,0.29877822246100105,0.36722046683406245,1.2324544434409372,-1.7020118796248933,1.7042326155461203,-1.4450455739935764,-0.78545924825664,2.06296995198097,0.3665990108761806,-1.116799652901445,0.7366232257112952,0.6809107980964005,0.4337169537228572,0.5054307038730637,-0.9015199558765126,1.2400228835450735,-0.0764876321557282,1.5777026737325832,-0.09862690109282116,0.7644500967843794,0.17103982442114465,0.37321438050746564,-0.1021660818701845,-2.351357285273254,0.8671154218975321,0.9128969618550399,0.17785238425044794,0.21187259997227123,0.050938673505943645,0.6563964094079809,0.053649786152871054,-0.0197549209834424,1.5798149195593896,0.791318635261723,-0.9025588999319102,1.656944673728671,-0.8269206687359101,0.06556319052433303,-0.8214461312213147,2.187880503422802,-0.46944316735562686,-0.7370885868139803,0.8165338304816602,-0.9054807194666195,-1.3809585264041093,-0.7458765995206087,0.18823758886614955,1.3784227314336097,-1.0036999714454244,-0.8559179530591503,-1.5808922630144657,-1.0890433281306702,0.6087193993857751,1.2516196623031353,-0.7354149576024046,0.2891258014135116,0.07985900771739284,-1.215018118998959,0.31249748403780464,0.9175732377339435,-1.041267348022098,-1.069969287706913,1.4965582109974387,2.639408794995632,0.9601098331096278,0.31731584401142465,-2.0170362462039684,0.9816338696585786,1.5190162401027576,0.15579596719864214,0.27471292445643963,-0.63239828780116,-1.0501242325930704,0.8160338670311766,-1.0935321627740018,-0.8056994370048624,0.32500050683722304,0.30487108890472714,-0.31497417629318075,2.0218995987796933,0.4843579882960143],\"y\":[-0.612674881396858,-0.2369623864621897,0.884172060253383,1.1599681389449998,1.541433973431705,-0.024482749390586922,-0.010581934928280717,0.4208804279380881,-1.055904482828417,-0.5731293410391528,0.6136951834885712,0.3788139488071389,-0.7236246217565258,-0.9832872929064812,-0.04584667102425731,1.0990096326338898,-0.4894552325381044,0.09207295202927872,0.8907023697335712,1.071647550161279,-0.09772605038866598,-0.5573372268161606,2.1569812897937672,-0.3138297576026716,0.967564149880955,0.5283041481971225,1.275552520971748,-0.23814452995452495,1.3686369305494708,0.4554414353012013,0.17261064038033674,-1.2790756257079117,-1.668432178436465,-0.7589722147586523,-1.1217293268341164,0.1457960988457628,-2.460171601392952,1.1224080996706933,-0.5718735010119889,0.7480470173720155,-0.03113393613510434,1.6490615045790034,0.05753332794358935,-0.20428125058288318,-2.0075424792795133,0.667885385351891,0.0636282659190983,-0.011188874517152437,2.049007627401017,-1.5848630631660825,-0.9622210929462339,-0.8431124359578438,0.05754501771367724,-1.2870024758751444,-0.19727806101733522,1.3001919306481338,0.3064075043148491,0.07117476930400782,-0.96812683843896,1.82880823196082,1.5559339345907204,1.7050542509227609,1.7171720163798219,0.42589246627030913,-2.3660287467420225,-1.5323420715419014,1.9884957118847637,-0.7216381285780816,-0.9380010074166955,0.16306318472752554,-0.7425934426726053,-0.9707420414928241,-2.0238789682217306,0.20622339294902128,0.29403482434209716,0.12147098035639514,0.20258350462675498,-0.2992269193093349,0.22115912154903292,-1.7790002822602209,-1.872050479776317,-0.43176879529106,0.940906565069375,1.3443483421299551,-0.8062940834059503,-0.15012732876279758,0.20043931984963673,0.22002772846606183,-1.4076957323909052,1.36507767965311,0.5463241272540051,1.9568592851420272,-0.886230842336463,-0.24970954645615465,1.4577791399977678,-1.0263047973016162,-1.0009532490096018,-0.28890730822092503,1.072250787176654,0.45805736391766777],\"type\":\"scatter\"}],                        {\"legend\":{\"bgcolor\":\"#F5F6F9\",\"font\":{\"color\":\"#4D5663\"}},\"paper_bgcolor\":\"#F5F6F9\",\"plot_bgcolor\":\"#F5F6F9\",\"template\":{\"data\":{\"barpolar\":[{\"marker\":{\"line\":{\"color\":\"#E5ECF6\",\"width\":0.5},\"pattern\":{\"fillmode\":\"overlay\",\"size\":10,\"solidity\":0.2}},\"type\":\"barpolar\"}],\"bar\":[{\"error_x\":{\"color\":\"#2a3f5f\"},\"error_y\":{\"color\":\"#2a3f5f\"},\"marker\":{\"line\":{\"color\":\"#E5ECF6\",\"width\":0.5},\"pattern\":{\"fillmode\":\"overlay\",\"size\":10,\"solidity\":0.2}},\"type\":\"bar\"}],\"carpet\":[{\"aaxis\":{\"endlinecolor\":\"#2a3f5f\",\"gridcolor\":\"white\",\"linecolor\":\"white\",\"minorgridcolor\":\"white\",\"startlinecolor\":\"#2a3f5f\"},\"baxis\":{\"endlinecolor\":\"#2a3f5f\",\"gridcolor\":\"white\",\"linecolor\":\"white\",\"minorgridcolor\":\"white\",\"startlinecolor\":\"#2a3f5f\"},\"type\":\"carpet\"}],\"choropleth\":[{\"colorbar\":{\"outlinewidth\":0,\"ticks\":\"\"},\"type\":\"choropleth\"}],\"contourcarpet\":[{\"colorbar\":{\"outlinewidth\":0,\"ticks\":\"\"},\"type\":\"contourcarpet\"}],\"contour\":[{\"colorbar\":{\"outlinewidth\":0,\"ticks\":\"\"},\"colorscale\":[[0.0,\"#0d0887\"],[0.1111111111111111,\"#46039f\"],[0.2222222222222222,\"#7201a8\"],[0.3333333333333333,\"#9c179e\"],[0.4444444444444444,\"#bd3786\"],[0.5555555555555556,\"#d8576b\"],[0.6666666666666666,\"#ed7953\"],[0.7777777777777778,\"#fb9f3a\"],[0.8888888888888888,\"#fdca26\"],[1.0,\"#f0f921\"]],\"type\":\"contour\"}],\"heatmapgl\":[{\"colorbar\":{\"outlinewidth\":0,\"ticks\":\"\"},\"colorscale\":[[0.0,\"#0d0887\"],[0.1111111111111111,\"#46039f\"],[0.2222222222222222,\"#7201a8\"],[0.3333333333333333,\"#9c179e\"],[0.4444444444444444,\"#bd3786\"],[0.5555555555555556,\"#d8576b\"],[0.6666666666666666,\"#ed7953\"],[0.7777777777777778,\"#fb9f3a\"],[0.8888888888888888,\"#fdca26\"],[1.0,\"#f0f921\"]],\"type\":\"heatmapgl\"}],\"heatmap\":[{\"colorbar\":{\"outlinewidth\":0,\"ticks\":\"\"},\"colorscale\":[[0.0,\"#0d0887\"],[0.1111111111111111,\"#46039f\"],[0.2222222222222222,\"#7201a8\"],[0.3333333333333333,\"#9c179e\"],[0.4444444444444444,\"#bd3786\"],[0.5555555555555556,\"#d8576b\"],[0.6666666666666666,\"#ed7953\"],[0.7777777777777778,\"#fb9f3a\"],[0.8888888888888888,\"#fdca26\"],[1.0,\"#f0f921\"]],\"type\":\"heatmap\"}],\"histogram2dcontour\":[{\"colorbar\":{\"outlinewidth\":0,\"ticks\":\"\"},\"colorscale\":[[0.0,\"#0d0887\"],[0.1111111111111111,\"#46039f\"],[0.2222222222222222,\"#7201a8\"],[0.3333333333333333,\"#9c179e\"],[0.4444444444444444,\"#bd3786\"],[0.5555555555555556,\"#d8576b\"],[0.6666666666666666,\"#ed7953\"],[0.7777777777777778,\"#fb9f3a\"],[0.8888888888888888,\"#fdca26\"],[1.0,\"#f0f921\"]],\"type\":\"histogram2dcontour\"}],\"histogram2d\":[{\"colorbar\":{\"outlinewidth\":0,\"ticks\":\"\"},\"colorscale\":[[0.0,\"#0d0887\"],[0.1111111111111111,\"#46039f\"],[0.2222222222222222,\"#7201a8\"],[0.3333333333333333,\"#9c179e\"],[0.4444444444444444,\"#bd3786\"],[0.5555555555555556,\"#d8576b\"],[0.6666666666666666,\"#ed7953\"],[0.7777777777777778,\"#fb9f3a\"],[0.8888888888888888,\"#fdca26\"],[1.0,\"#f0f921\"]],\"type\":\"histogram2d\"}],\"histogram\":[{\"marker\":{\"pattern\":{\"fillmode\":\"overlay\",\"size\":10,\"solidity\":0.2}},\"type\":\"histogram\"}],\"mesh3d\":[{\"colorbar\":{\"outlinewidth\":0,\"ticks\":\"\"},\"type\":\"mesh3d\"}],\"parcoords\":[{\"line\":{\"colorbar\":{\"outlinewidth\":0,\"ticks\":\"\"}},\"type\":\"parcoords\"}],\"pie\":[{\"automargin\":true,\"type\":\"pie\"}],\"scatter3d\":[{\"line\":{\"colorbar\":{\"outlinewidth\":0,\"ticks\":\"\"}},\"marker\":{\"colorbar\":{\"outlinewidth\":0,\"ticks\":\"\"}},\"type\":\"scatter3d\"}],\"scattercarpet\":[{\"marker\":{\"colorbar\":{\"outlinewidth\":0,\"ticks\":\"\"}},\"type\":\"scattercarpet\"}],\"scattergeo\":[{\"marker\":{\"colorbar\":{\"outlinewidth\":0,\"ticks\":\"\"}},\"type\":\"scattergeo\"}],\"scattergl\":[{\"marker\":{\"colorbar\":{\"outlinewidth\":0,\"ticks\":\"\"}},\"type\":\"scattergl\"}],\"scattermapbox\":[{\"marker\":{\"colorbar\":{\"outlinewidth\":0,\"ticks\":\"\"}},\"type\":\"scattermapbox\"}],\"scatterpolargl\":[{\"marker\":{\"colorbar\":{\"outlinewidth\":0,\"ticks\":\"\"}},\"type\":\"scatterpolargl\"}],\"scatterpolar\":[{\"marker\":{\"colorbar\":{\"outlinewidth\":0,\"ticks\":\"\"}},\"type\":\"scatterpolar\"}],\"scatter\":[{\"fillpattern\":{\"fillmode\":\"overlay\",\"size\":10,\"solidity\":0.2},\"type\":\"scatter\"}],\"scatterternary\":[{\"marker\":{\"colorbar\":{\"outlinewidth\":0,\"ticks\":\"\"}},\"type\":\"scatterternary\"}],\"surface\":[{\"colorbar\":{\"outlinewidth\":0,\"ticks\":\"\"},\"colorscale\":[[0.0,\"#0d0887\"],[0.1111111111111111,\"#46039f\"],[0.2222222222222222,\"#7201a8\"],[0.3333333333333333,\"#9c179e\"],[0.4444444444444444,\"#bd3786\"],[0.5555555555555556,\"#d8576b\"],[0.6666666666666666,\"#ed7953\"],[0.7777777777777778,\"#fb9f3a\"],[0.8888888888888888,\"#fdca26\"],[1.0,\"#f0f921\"]],\"type\":\"surface\"}],\"table\":[{\"cells\":{\"fill\":{\"color\":\"#EBF0F8\"},\"line\":{\"color\":\"white\"}},\"header\":{\"fill\":{\"color\":\"#C8D4E3\"},\"line\":{\"color\":\"white\"}},\"type\":\"table\"}]},\"layout\":{\"annotationdefaults\":{\"arrowcolor\":\"#2a3f5f\",\"arrowhead\":0,\"arrowwidth\":1},\"autotypenumbers\":\"strict\",\"coloraxis\":{\"colorbar\":{\"outlinewidth\":0,\"ticks\":\"\"}},\"colorscale\":{\"diverging\":[[0,\"#8e0152\"],[0.1,\"#c51b7d\"],[0.2,\"#de77ae\"],[0.3,\"#f1b6da\"],[0.4,\"#fde0ef\"],[0.5,\"#f7f7f7\"],[0.6,\"#e6f5d0\"],[0.7,\"#b8e186\"],[0.8,\"#7fbc41\"],[0.9,\"#4d9221\"],[1,\"#276419\"]],\"sequential\":[[0.0,\"#0d0887\"],[0.1111111111111111,\"#46039f\"],[0.2222222222222222,\"#7201a8\"],[0.3333333333333333,\"#9c179e\"],[0.4444444444444444,\"#bd3786\"],[0.5555555555555556,\"#d8576b\"],[0.6666666666666666,\"#ed7953\"],[0.7777777777777778,\"#fb9f3a\"],[0.8888888888888888,\"#fdca26\"],[1.0,\"#f0f921\"]],\"sequentialminus\":[[0.0,\"#0d0887\"],[0.1111111111111111,\"#46039f\"],[0.2222222222222222,\"#7201a8\"],[0.3333333333333333,\"#9c179e\"],[0.4444444444444444,\"#bd3786\"],[0.5555555555555556,\"#d8576b\"],[0.6666666666666666,\"#ed7953\"],[0.7777777777777778,\"#fb9f3a\"],[0.8888888888888888,\"#fdca26\"],[1.0,\"#f0f921\"]]},\"colorway\":[\"#636efa\",\"#EF553B\",\"#00cc96\",\"#ab63fa\",\"#FFA15A\",\"#19d3f3\",\"#FF6692\",\"#B6E880\",\"#FF97FF\",\"#FECB52\"],\"font\":{\"color\":\"#2a3f5f\"},\"geo\":{\"bgcolor\":\"white\",\"lakecolor\":\"white\",\"landcolor\":\"#E5ECF6\",\"showlakes\":true,\"showland\":true,\"subunitcolor\":\"white\"},\"hoverlabel\":{\"align\":\"left\"},\"hovermode\":\"closest\",\"mapbox\":{\"style\":\"light\"},\"paper_bgcolor\":\"white\",\"plot_bgcolor\":\"#E5ECF6\",\"polar\":{\"angularaxis\":{\"gridcolor\":\"white\",\"linecolor\":\"white\",\"ticks\":\"\"},\"bgcolor\":\"#E5ECF6\",\"radialaxis\":{\"gridcolor\":\"white\",\"linecolor\":\"white\",\"ticks\":\"\"}},\"scene\":{\"xaxis\":{\"backgroundcolor\":\"#E5ECF6\",\"gridcolor\":\"white\",\"gridwidth\":2,\"linecolor\":\"white\",\"showbackground\":true,\"ticks\":\"\",\"zerolinecolor\":\"white\"},\"yaxis\":{\"backgroundcolor\":\"#E5ECF6\",\"gridcolor\":\"white\",\"gridwidth\":2,\"linecolor\":\"white\",\"showbackground\":true,\"ticks\":\"\",\"zerolinecolor\":\"white\"},\"zaxis\":{\"backgroundcolor\":\"#E5ECF6\",\"gridcolor\":\"white\",\"gridwidth\":2,\"linecolor\":\"white\",\"showbackground\":true,\"ticks\":\"\",\"zerolinecolor\":\"white\"}},\"shapedefaults\":{\"line\":{\"color\":\"#2a3f5f\"}},\"ternary\":{\"aaxis\":{\"gridcolor\":\"white\",\"linecolor\":\"white\",\"ticks\":\"\"},\"baxis\":{\"gridcolor\":\"white\",\"linecolor\":\"white\",\"ticks\":\"\"},\"bgcolor\":\"#E5ECF6\",\"caxis\":{\"gridcolor\":\"white\",\"linecolor\":\"white\",\"ticks\":\"\"}},\"title\":{\"x\":0.05},\"xaxis\":{\"automargin\":true,\"gridcolor\":\"white\",\"linecolor\":\"white\",\"ticks\":\"\",\"title\":{\"standoff\":15},\"zerolinecolor\":\"white\",\"zerolinewidth\":2},\"yaxis\":{\"automargin\":true,\"gridcolor\":\"white\",\"linecolor\":\"white\",\"ticks\":\"\",\"title\":{\"standoff\":15},\"zerolinecolor\":\"white\",\"zerolinewidth\":2}}},\"title\":{\"font\":{\"color\":\"#4D5663\"}},\"xaxis\":{\"gridcolor\":\"#E1E5ED\",\"showgrid\":true,\"tickfont\":{\"color\":\"#4D5663\"},\"title\":{\"font\":{\"color\":\"#4D5663\"},\"text\":\"\"},\"zerolinecolor\":\"#E1E5ED\"},\"yaxis\":{\"gridcolor\":\"#E1E5ED\",\"showgrid\":true,\"tickfont\":{\"color\":\"#4D5663\"},\"title\":{\"font\":{\"color\":\"#4D5663\"},\"text\":\"\"},\"zerolinecolor\":\"#E1E5ED\"}},                        {\"showLink\": true, \"linkText\": \"Export to plot.ly\", \"plotlyServerURL\": \"https://plot.ly\", \"responsive\": true}                    ).then(function(){\n",
       "                            \n",
       "var gd = document.getElementById('a5fe9010-2fb7-47eb-a8d8-a711cb874d32');\n",
       "var x = new MutationObserver(function (mutations, observer) {{\n",
       "        var display = window.getComputedStyle(gd).display;\n",
       "        if (!display || display === 'none') {{\n",
       "            console.log([gd, 'removed!']);\n",
       "            Plotly.purge(gd);\n",
       "            observer.disconnect();\n",
       "        }}\n",
       "}});\n",
       "\n",
       "// Listen for the removal of the full notebook cells\n",
       "var notebookContainer = gd.closest('#notebook-container');\n",
       "if (notebookContainer) {{\n",
       "    x.observe(notebookContainer, {childList: true});\n",
       "}}\n",
       "\n",
       "// Listen for the clearing of the current output cell\n",
       "var outputEl = gd.closest('.output');\n",
       "if (outputEl) {{\n",
       "    x.observe(outputEl, {childList: true});\n",
       "}}\n",
       "\n",
       "                        })                };                });            </script>        </div>"
      ]
     },
     "metadata": {},
     "output_type": "display_data"
    }
   ],
   "source": [
    "# scatter plot \n",
    "df.iplot(kind='scatter',x='A',y='B', mode='markers')"
   ]
  },
  {
   "cell_type": "code",
   "execution_count": 25,
   "id": "55f413bf",
   "metadata": {},
   "outputs": [
    {
     "data": {
      "application/vnd.plotly.v1+json": {
       "config": {
        "linkText": "Export to plot.ly",
        "plotlyServerURL": "https://plot.ly",
        "showLink": true
       },
       "data": [
        {
         "marker": {
          "color": "rgba(255, 153, 51, 0.6)",
          "line": {
           "color": "rgba(255, 153, 51, 1.0)",
           "width": 1
          }
         },
         "name": "Values",
         "orientation": "v",
         "text": "",
         "type": "bar",
         "x": [
          "A",
          "B",
          "C"
         ],
         "y": [
          32,
          43,
          50
         ]
        }
       ],
       "layout": {
        "legend": {
         "bgcolor": "#F5F6F9",
         "font": {
          "color": "#4D5663"
         }
        },
        "paper_bgcolor": "#F5F6F9",
        "plot_bgcolor": "#F5F6F9",
        "template": {
         "data": {
          "bar": [
           {
            "error_x": {
             "color": "#2a3f5f"
            },
            "error_y": {
             "color": "#2a3f5f"
            },
            "marker": {
             "line": {
              "color": "#E5ECF6",
              "width": 0.5
             },
             "pattern": {
              "fillmode": "overlay",
              "size": 10,
              "solidity": 0.2
             }
            },
            "type": "bar"
           }
          ],
          "barpolar": [
           {
            "marker": {
             "line": {
              "color": "#E5ECF6",
              "width": 0.5
             },
             "pattern": {
              "fillmode": "overlay",
              "size": 10,
              "solidity": 0.2
             }
            },
            "type": "barpolar"
           }
          ],
          "carpet": [
           {
            "aaxis": {
             "endlinecolor": "#2a3f5f",
             "gridcolor": "white",
             "linecolor": "white",
             "minorgridcolor": "white",
             "startlinecolor": "#2a3f5f"
            },
            "baxis": {
             "endlinecolor": "#2a3f5f",
             "gridcolor": "white",
             "linecolor": "white",
             "minorgridcolor": "white",
             "startlinecolor": "#2a3f5f"
            },
            "type": "carpet"
           }
          ],
          "choropleth": [
           {
            "colorbar": {
             "outlinewidth": 0,
             "ticks": ""
            },
            "type": "choropleth"
           }
          ],
          "contour": [
           {
            "colorbar": {
             "outlinewidth": 0,
             "ticks": ""
            },
            "colorscale": [
             [
              0,
              "#0d0887"
             ],
             [
              0.1111111111111111,
              "#46039f"
             ],
             [
              0.2222222222222222,
              "#7201a8"
             ],
             [
              0.3333333333333333,
              "#9c179e"
             ],
             [
              0.4444444444444444,
              "#bd3786"
             ],
             [
              0.5555555555555556,
              "#d8576b"
             ],
             [
              0.6666666666666666,
              "#ed7953"
             ],
             [
              0.7777777777777778,
              "#fb9f3a"
             ],
             [
              0.8888888888888888,
              "#fdca26"
             ],
             [
              1,
              "#f0f921"
             ]
            ],
            "type": "contour"
           }
          ],
          "contourcarpet": [
           {
            "colorbar": {
             "outlinewidth": 0,
             "ticks": ""
            },
            "type": "contourcarpet"
           }
          ],
          "heatmap": [
           {
            "colorbar": {
             "outlinewidth": 0,
             "ticks": ""
            },
            "colorscale": [
             [
              0,
              "#0d0887"
             ],
             [
              0.1111111111111111,
              "#46039f"
             ],
             [
              0.2222222222222222,
              "#7201a8"
             ],
             [
              0.3333333333333333,
              "#9c179e"
             ],
             [
              0.4444444444444444,
              "#bd3786"
             ],
             [
              0.5555555555555556,
              "#d8576b"
             ],
             [
              0.6666666666666666,
              "#ed7953"
             ],
             [
              0.7777777777777778,
              "#fb9f3a"
             ],
             [
              0.8888888888888888,
              "#fdca26"
             ],
             [
              1,
              "#f0f921"
             ]
            ],
            "type": "heatmap"
           }
          ],
          "heatmapgl": [
           {
            "colorbar": {
             "outlinewidth": 0,
             "ticks": ""
            },
            "colorscale": [
             [
              0,
              "#0d0887"
             ],
             [
              0.1111111111111111,
              "#46039f"
             ],
             [
              0.2222222222222222,
              "#7201a8"
             ],
             [
              0.3333333333333333,
              "#9c179e"
             ],
             [
              0.4444444444444444,
              "#bd3786"
             ],
             [
              0.5555555555555556,
              "#d8576b"
             ],
             [
              0.6666666666666666,
              "#ed7953"
             ],
             [
              0.7777777777777778,
              "#fb9f3a"
             ],
             [
              0.8888888888888888,
              "#fdca26"
             ],
             [
              1,
              "#f0f921"
             ]
            ],
            "type": "heatmapgl"
           }
          ],
          "histogram": [
           {
            "marker": {
             "pattern": {
              "fillmode": "overlay",
              "size": 10,
              "solidity": 0.2
             }
            },
            "type": "histogram"
           }
          ],
          "histogram2d": [
           {
            "colorbar": {
             "outlinewidth": 0,
             "ticks": ""
            },
            "colorscale": [
             [
              0,
              "#0d0887"
             ],
             [
              0.1111111111111111,
              "#46039f"
             ],
             [
              0.2222222222222222,
              "#7201a8"
             ],
             [
              0.3333333333333333,
              "#9c179e"
             ],
             [
              0.4444444444444444,
              "#bd3786"
             ],
             [
              0.5555555555555556,
              "#d8576b"
             ],
             [
              0.6666666666666666,
              "#ed7953"
             ],
             [
              0.7777777777777778,
              "#fb9f3a"
             ],
             [
              0.8888888888888888,
              "#fdca26"
             ],
             [
              1,
              "#f0f921"
             ]
            ],
            "type": "histogram2d"
           }
          ],
          "histogram2dcontour": [
           {
            "colorbar": {
             "outlinewidth": 0,
             "ticks": ""
            },
            "colorscale": [
             [
              0,
              "#0d0887"
             ],
             [
              0.1111111111111111,
              "#46039f"
             ],
             [
              0.2222222222222222,
              "#7201a8"
             ],
             [
              0.3333333333333333,
              "#9c179e"
             ],
             [
              0.4444444444444444,
              "#bd3786"
             ],
             [
              0.5555555555555556,
              "#d8576b"
             ],
             [
              0.6666666666666666,
              "#ed7953"
             ],
             [
              0.7777777777777778,
              "#fb9f3a"
             ],
             [
              0.8888888888888888,
              "#fdca26"
             ],
             [
              1,
              "#f0f921"
             ]
            ],
            "type": "histogram2dcontour"
           }
          ],
          "mesh3d": [
           {
            "colorbar": {
             "outlinewidth": 0,
             "ticks": ""
            },
            "type": "mesh3d"
           }
          ],
          "parcoords": [
           {
            "line": {
             "colorbar": {
              "outlinewidth": 0,
              "ticks": ""
             }
            },
            "type": "parcoords"
           }
          ],
          "pie": [
           {
            "automargin": true,
            "type": "pie"
           }
          ],
          "scatter": [
           {
            "fillpattern": {
             "fillmode": "overlay",
             "size": 10,
             "solidity": 0.2
            },
            "type": "scatter"
           }
          ],
          "scatter3d": [
           {
            "line": {
             "colorbar": {
              "outlinewidth": 0,
              "ticks": ""
             }
            },
            "marker": {
             "colorbar": {
              "outlinewidth": 0,
              "ticks": ""
             }
            },
            "type": "scatter3d"
           }
          ],
          "scattercarpet": [
           {
            "marker": {
             "colorbar": {
              "outlinewidth": 0,
              "ticks": ""
             }
            },
            "type": "scattercarpet"
           }
          ],
          "scattergeo": [
           {
            "marker": {
             "colorbar": {
              "outlinewidth": 0,
              "ticks": ""
             }
            },
            "type": "scattergeo"
           }
          ],
          "scattergl": [
           {
            "marker": {
             "colorbar": {
              "outlinewidth": 0,
              "ticks": ""
             }
            },
            "type": "scattergl"
           }
          ],
          "scattermapbox": [
           {
            "marker": {
             "colorbar": {
              "outlinewidth": 0,
              "ticks": ""
             }
            },
            "type": "scattermapbox"
           }
          ],
          "scatterpolar": [
           {
            "marker": {
             "colorbar": {
              "outlinewidth": 0,
              "ticks": ""
             }
            },
            "type": "scatterpolar"
           }
          ],
          "scatterpolargl": [
           {
            "marker": {
             "colorbar": {
              "outlinewidth": 0,
              "ticks": ""
             }
            },
            "type": "scatterpolargl"
           }
          ],
          "scatterternary": [
           {
            "marker": {
             "colorbar": {
              "outlinewidth": 0,
              "ticks": ""
             }
            },
            "type": "scatterternary"
           }
          ],
          "surface": [
           {
            "colorbar": {
             "outlinewidth": 0,
             "ticks": ""
            },
            "colorscale": [
             [
              0,
              "#0d0887"
             ],
             [
              0.1111111111111111,
              "#46039f"
             ],
             [
              0.2222222222222222,
              "#7201a8"
             ],
             [
              0.3333333333333333,
              "#9c179e"
             ],
             [
              0.4444444444444444,
              "#bd3786"
             ],
             [
              0.5555555555555556,
              "#d8576b"
             ],
             [
              0.6666666666666666,
              "#ed7953"
             ],
             [
              0.7777777777777778,
              "#fb9f3a"
             ],
             [
              0.8888888888888888,
              "#fdca26"
             ],
             [
              1,
              "#f0f921"
             ]
            ],
            "type": "surface"
           }
          ],
          "table": [
           {
            "cells": {
             "fill": {
              "color": "#EBF0F8"
             },
             "line": {
              "color": "white"
             }
            },
            "header": {
             "fill": {
              "color": "#C8D4E3"
             },
             "line": {
              "color": "white"
             }
            },
            "type": "table"
           }
          ]
         },
         "layout": {
          "annotationdefaults": {
           "arrowcolor": "#2a3f5f",
           "arrowhead": 0,
           "arrowwidth": 1
          },
          "autotypenumbers": "strict",
          "coloraxis": {
           "colorbar": {
            "outlinewidth": 0,
            "ticks": ""
           }
          },
          "colorscale": {
           "diverging": [
            [
             0,
             "#8e0152"
            ],
            [
             0.1,
             "#c51b7d"
            ],
            [
             0.2,
             "#de77ae"
            ],
            [
             0.3,
             "#f1b6da"
            ],
            [
             0.4,
             "#fde0ef"
            ],
            [
             0.5,
             "#f7f7f7"
            ],
            [
             0.6,
             "#e6f5d0"
            ],
            [
             0.7,
             "#b8e186"
            ],
            [
             0.8,
             "#7fbc41"
            ],
            [
             0.9,
             "#4d9221"
            ],
            [
             1,
             "#276419"
            ]
           ],
           "sequential": [
            [
             0,
             "#0d0887"
            ],
            [
             0.1111111111111111,
             "#46039f"
            ],
            [
             0.2222222222222222,
             "#7201a8"
            ],
            [
             0.3333333333333333,
             "#9c179e"
            ],
            [
             0.4444444444444444,
             "#bd3786"
            ],
            [
             0.5555555555555556,
             "#d8576b"
            ],
            [
             0.6666666666666666,
             "#ed7953"
            ],
            [
             0.7777777777777778,
             "#fb9f3a"
            ],
            [
             0.8888888888888888,
             "#fdca26"
            ],
            [
             1,
             "#f0f921"
            ]
           ],
           "sequentialminus": [
            [
             0,
             "#0d0887"
            ],
            [
             0.1111111111111111,
             "#46039f"
            ],
            [
             0.2222222222222222,
             "#7201a8"
            ],
            [
             0.3333333333333333,
             "#9c179e"
            ],
            [
             0.4444444444444444,
             "#bd3786"
            ],
            [
             0.5555555555555556,
             "#d8576b"
            ],
            [
             0.6666666666666666,
             "#ed7953"
            ],
            [
             0.7777777777777778,
             "#fb9f3a"
            ],
            [
             0.8888888888888888,
             "#fdca26"
            ],
            [
             1,
             "#f0f921"
            ]
           ]
          },
          "colorway": [
           "#636efa",
           "#EF553B",
           "#00cc96",
           "#ab63fa",
           "#FFA15A",
           "#19d3f3",
           "#FF6692",
           "#B6E880",
           "#FF97FF",
           "#FECB52"
          ],
          "font": {
           "color": "#2a3f5f"
          },
          "geo": {
           "bgcolor": "white",
           "lakecolor": "white",
           "landcolor": "#E5ECF6",
           "showlakes": true,
           "showland": true,
           "subunitcolor": "white"
          },
          "hoverlabel": {
           "align": "left"
          },
          "hovermode": "closest",
          "mapbox": {
           "style": "light"
          },
          "paper_bgcolor": "white",
          "plot_bgcolor": "#E5ECF6",
          "polar": {
           "angularaxis": {
            "gridcolor": "white",
            "linecolor": "white",
            "ticks": ""
           },
           "bgcolor": "#E5ECF6",
           "radialaxis": {
            "gridcolor": "white",
            "linecolor": "white",
            "ticks": ""
           }
          },
          "scene": {
           "xaxis": {
            "backgroundcolor": "#E5ECF6",
            "gridcolor": "white",
            "gridwidth": 2,
            "linecolor": "white",
            "showbackground": true,
            "ticks": "",
            "zerolinecolor": "white"
           },
           "yaxis": {
            "backgroundcolor": "#E5ECF6",
            "gridcolor": "white",
            "gridwidth": 2,
            "linecolor": "white",
            "showbackground": true,
            "ticks": "",
            "zerolinecolor": "white"
           },
           "zaxis": {
            "backgroundcolor": "#E5ECF6",
            "gridcolor": "white",
            "gridwidth": 2,
            "linecolor": "white",
            "showbackground": true,
            "ticks": "",
            "zerolinecolor": "white"
           }
          },
          "shapedefaults": {
           "line": {
            "color": "#2a3f5f"
           }
          },
          "ternary": {
           "aaxis": {
            "gridcolor": "white",
            "linecolor": "white",
            "ticks": ""
           },
           "baxis": {
            "gridcolor": "white",
            "linecolor": "white",
            "ticks": ""
           },
           "bgcolor": "#E5ECF6",
           "caxis": {
            "gridcolor": "white",
            "linecolor": "white",
            "ticks": ""
           }
          },
          "title": {
           "x": 0.05
          },
          "xaxis": {
           "automargin": true,
           "gridcolor": "white",
           "linecolor": "white",
           "ticks": "",
           "title": {
            "standoff": 15
           },
           "zerolinecolor": "white",
           "zerolinewidth": 2
          },
          "yaxis": {
           "automargin": true,
           "gridcolor": "white",
           "linecolor": "white",
           "ticks": "",
           "title": {
            "standoff": 15
           },
           "zerolinecolor": "white",
           "zerolinewidth": 2
          }
         }
        },
        "title": {
         "font": {
          "color": "#4D5663"
         }
        },
        "xaxis": {
         "gridcolor": "#E1E5ED",
         "showgrid": true,
         "tickfont": {
          "color": "#4D5663"
         },
         "title": {
          "font": {
           "color": "#4D5663"
          },
          "text": ""
         },
         "zerolinecolor": "#E1E5ED"
        },
        "yaxis": {
         "gridcolor": "#E1E5ED",
         "showgrid": true,
         "tickfont": {
          "color": "#4D5663"
         },
         "title": {
          "font": {
           "color": "#4D5663"
          },
          "text": ""
         },
         "zerolinecolor": "#E1E5ED"
        }
       }
      },
      "text/html": [
       "<div>                            <div id=\"e94566b4-ecdd-4354-bf34-df6ef68dcbd7\" class=\"plotly-graph-div\" style=\"height:525px; width:100%;\"></div>            <script type=\"text/javascript\">                require([\"plotly\"], function(Plotly) {                    window.PLOTLYENV=window.PLOTLYENV || {};\n",
       "                    window.PLOTLYENV.BASE_URL='https://plot.ly';                                    if (document.getElementById(\"e94566b4-ecdd-4354-bf34-df6ef68dcbd7\")) {                    Plotly.newPlot(                        \"e94566b4-ecdd-4354-bf34-df6ef68dcbd7\",                        [{\"marker\":{\"color\":\"rgba(255, 153, 51, 0.6)\",\"line\":{\"color\":\"rgba(255, 153, 51, 1.0)\",\"width\":1}},\"name\":\"Values\",\"orientation\":\"v\",\"text\":\"\",\"x\":[\"A\",\"B\",\"C\"],\"y\":[32,43,50],\"type\":\"bar\"}],                        {\"legend\":{\"bgcolor\":\"#F5F6F9\",\"font\":{\"color\":\"#4D5663\"}},\"paper_bgcolor\":\"#F5F6F9\",\"plot_bgcolor\":\"#F5F6F9\",\"template\":{\"data\":{\"barpolar\":[{\"marker\":{\"line\":{\"color\":\"#E5ECF6\",\"width\":0.5},\"pattern\":{\"fillmode\":\"overlay\",\"size\":10,\"solidity\":0.2}},\"type\":\"barpolar\"}],\"bar\":[{\"error_x\":{\"color\":\"#2a3f5f\"},\"error_y\":{\"color\":\"#2a3f5f\"},\"marker\":{\"line\":{\"color\":\"#E5ECF6\",\"width\":0.5},\"pattern\":{\"fillmode\":\"overlay\",\"size\":10,\"solidity\":0.2}},\"type\":\"bar\"}],\"carpet\":[{\"aaxis\":{\"endlinecolor\":\"#2a3f5f\",\"gridcolor\":\"white\",\"linecolor\":\"white\",\"minorgridcolor\":\"white\",\"startlinecolor\":\"#2a3f5f\"},\"baxis\":{\"endlinecolor\":\"#2a3f5f\",\"gridcolor\":\"white\",\"linecolor\":\"white\",\"minorgridcolor\":\"white\",\"startlinecolor\":\"#2a3f5f\"},\"type\":\"carpet\"}],\"choropleth\":[{\"colorbar\":{\"outlinewidth\":0,\"ticks\":\"\"},\"type\":\"choropleth\"}],\"contourcarpet\":[{\"colorbar\":{\"outlinewidth\":0,\"ticks\":\"\"},\"type\":\"contourcarpet\"}],\"contour\":[{\"colorbar\":{\"outlinewidth\":0,\"ticks\":\"\"},\"colorscale\":[[0.0,\"#0d0887\"],[0.1111111111111111,\"#46039f\"],[0.2222222222222222,\"#7201a8\"],[0.3333333333333333,\"#9c179e\"],[0.4444444444444444,\"#bd3786\"],[0.5555555555555556,\"#d8576b\"],[0.6666666666666666,\"#ed7953\"],[0.7777777777777778,\"#fb9f3a\"],[0.8888888888888888,\"#fdca26\"],[1.0,\"#f0f921\"]],\"type\":\"contour\"}],\"heatmapgl\":[{\"colorbar\":{\"outlinewidth\":0,\"ticks\":\"\"},\"colorscale\":[[0.0,\"#0d0887\"],[0.1111111111111111,\"#46039f\"],[0.2222222222222222,\"#7201a8\"],[0.3333333333333333,\"#9c179e\"],[0.4444444444444444,\"#bd3786\"],[0.5555555555555556,\"#d8576b\"],[0.6666666666666666,\"#ed7953\"],[0.7777777777777778,\"#fb9f3a\"],[0.8888888888888888,\"#fdca26\"],[1.0,\"#f0f921\"]],\"type\":\"heatmapgl\"}],\"heatmap\":[{\"colorbar\":{\"outlinewidth\":0,\"ticks\":\"\"},\"colorscale\":[[0.0,\"#0d0887\"],[0.1111111111111111,\"#46039f\"],[0.2222222222222222,\"#7201a8\"],[0.3333333333333333,\"#9c179e\"],[0.4444444444444444,\"#bd3786\"],[0.5555555555555556,\"#d8576b\"],[0.6666666666666666,\"#ed7953\"],[0.7777777777777778,\"#fb9f3a\"],[0.8888888888888888,\"#fdca26\"],[1.0,\"#f0f921\"]],\"type\":\"heatmap\"}],\"histogram2dcontour\":[{\"colorbar\":{\"outlinewidth\":0,\"ticks\":\"\"},\"colorscale\":[[0.0,\"#0d0887\"],[0.1111111111111111,\"#46039f\"],[0.2222222222222222,\"#7201a8\"],[0.3333333333333333,\"#9c179e\"],[0.4444444444444444,\"#bd3786\"],[0.5555555555555556,\"#d8576b\"],[0.6666666666666666,\"#ed7953\"],[0.7777777777777778,\"#fb9f3a\"],[0.8888888888888888,\"#fdca26\"],[1.0,\"#f0f921\"]],\"type\":\"histogram2dcontour\"}],\"histogram2d\":[{\"colorbar\":{\"outlinewidth\":0,\"ticks\":\"\"},\"colorscale\":[[0.0,\"#0d0887\"],[0.1111111111111111,\"#46039f\"],[0.2222222222222222,\"#7201a8\"],[0.3333333333333333,\"#9c179e\"],[0.4444444444444444,\"#bd3786\"],[0.5555555555555556,\"#d8576b\"],[0.6666666666666666,\"#ed7953\"],[0.7777777777777778,\"#fb9f3a\"],[0.8888888888888888,\"#fdca26\"],[1.0,\"#f0f921\"]],\"type\":\"histogram2d\"}],\"histogram\":[{\"marker\":{\"pattern\":{\"fillmode\":\"overlay\",\"size\":10,\"solidity\":0.2}},\"type\":\"histogram\"}],\"mesh3d\":[{\"colorbar\":{\"outlinewidth\":0,\"ticks\":\"\"},\"type\":\"mesh3d\"}],\"parcoords\":[{\"line\":{\"colorbar\":{\"outlinewidth\":0,\"ticks\":\"\"}},\"type\":\"parcoords\"}],\"pie\":[{\"automargin\":true,\"type\":\"pie\"}],\"scatter3d\":[{\"line\":{\"colorbar\":{\"outlinewidth\":0,\"ticks\":\"\"}},\"marker\":{\"colorbar\":{\"outlinewidth\":0,\"ticks\":\"\"}},\"type\":\"scatter3d\"}],\"scattercarpet\":[{\"marker\":{\"colorbar\":{\"outlinewidth\":0,\"ticks\":\"\"}},\"type\":\"scattercarpet\"}],\"scattergeo\":[{\"marker\":{\"colorbar\":{\"outlinewidth\":0,\"ticks\":\"\"}},\"type\":\"scattergeo\"}],\"scattergl\":[{\"marker\":{\"colorbar\":{\"outlinewidth\":0,\"ticks\":\"\"}},\"type\":\"scattergl\"}],\"scattermapbox\":[{\"marker\":{\"colorbar\":{\"outlinewidth\":0,\"ticks\":\"\"}},\"type\":\"scattermapbox\"}],\"scatterpolargl\":[{\"marker\":{\"colorbar\":{\"outlinewidth\":0,\"ticks\":\"\"}},\"type\":\"scatterpolargl\"}],\"scatterpolar\":[{\"marker\":{\"colorbar\":{\"outlinewidth\":0,\"ticks\":\"\"}},\"type\":\"scatterpolar\"}],\"scatter\":[{\"fillpattern\":{\"fillmode\":\"overlay\",\"size\":10,\"solidity\":0.2},\"type\":\"scatter\"}],\"scatterternary\":[{\"marker\":{\"colorbar\":{\"outlinewidth\":0,\"ticks\":\"\"}},\"type\":\"scatterternary\"}],\"surface\":[{\"colorbar\":{\"outlinewidth\":0,\"ticks\":\"\"},\"colorscale\":[[0.0,\"#0d0887\"],[0.1111111111111111,\"#46039f\"],[0.2222222222222222,\"#7201a8\"],[0.3333333333333333,\"#9c179e\"],[0.4444444444444444,\"#bd3786\"],[0.5555555555555556,\"#d8576b\"],[0.6666666666666666,\"#ed7953\"],[0.7777777777777778,\"#fb9f3a\"],[0.8888888888888888,\"#fdca26\"],[1.0,\"#f0f921\"]],\"type\":\"surface\"}],\"table\":[{\"cells\":{\"fill\":{\"color\":\"#EBF0F8\"},\"line\":{\"color\":\"white\"}},\"header\":{\"fill\":{\"color\":\"#C8D4E3\"},\"line\":{\"color\":\"white\"}},\"type\":\"table\"}]},\"layout\":{\"annotationdefaults\":{\"arrowcolor\":\"#2a3f5f\",\"arrowhead\":0,\"arrowwidth\":1},\"autotypenumbers\":\"strict\",\"coloraxis\":{\"colorbar\":{\"outlinewidth\":0,\"ticks\":\"\"}},\"colorscale\":{\"diverging\":[[0,\"#8e0152\"],[0.1,\"#c51b7d\"],[0.2,\"#de77ae\"],[0.3,\"#f1b6da\"],[0.4,\"#fde0ef\"],[0.5,\"#f7f7f7\"],[0.6,\"#e6f5d0\"],[0.7,\"#b8e186\"],[0.8,\"#7fbc41\"],[0.9,\"#4d9221\"],[1,\"#276419\"]],\"sequential\":[[0.0,\"#0d0887\"],[0.1111111111111111,\"#46039f\"],[0.2222222222222222,\"#7201a8\"],[0.3333333333333333,\"#9c179e\"],[0.4444444444444444,\"#bd3786\"],[0.5555555555555556,\"#d8576b\"],[0.6666666666666666,\"#ed7953\"],[0.7777777777777778,\"#fb9f3a\"],[0.8888888888888888,\"#fdca26\"],[1.0,\"#f0f921\"]],\"sequentialminus\":[[0.0,\"#0d0887\"],[0.1111111111111111,\"#46039f\"],[0.2222222222222222,\"#7201a8\"],[0.3333333333333333,\"#9c179e\"],[0.4444444444444444,\"#bd3786\"],[0.5555555555555556,\"#d8576b\"],[0.6666666666666666,\"#ed7953\"],[0.7777777777777778,\"#fb9f3a\"],[0.8888888888888888,\"#fdca26\"],[1.0,\"#f0f921\"]]},\"colorway\":[\"#636efa\",\"#EF553B\",\"#00cc96\",\"#ab63fa\",\"#FFA15A\",\"#19d3f3\",\"#FF6692\",\"#B6E880\",\"#FF97FF\",\"#FECB52\"],\"font\":{\"color\":\"#2a3f5f\"},\"geo\":{\"bgcolor\":\"white\",\"lakecolor\":\"white\",\"landcolor\":\"#E5ECF6\",\"showlakes\":true,\"showland\":true,\"subunitcolor\":\"white\"},\"hoverlabel\":{\"align\":\"left\"},\"hovermode\":\"closest\",\"mapbox\":{\"style\":\"light\"},\"paper_bgcolor\":\"white\",\"plot_bgcolor\":\"#E5ECF6\",\"polar\":{\"angularaxis\":{\"gridcolor\":\"white\",\"linecolor\":\"white\",\"ticks\":\"\"},\"bgcolor\":\"#E5ECF6\",\"radialaxis\":{\"gridcolor\":\"white\",\"linecolor\":\"white\",\"ticks\":\"\"}},\"scene\":{\"xaxis\":{\"backgroundcolor\":\"#E5ECF6\",\"gridcolor\":\"white\",\"gridwidth\":2,\"linecolor\":\"white\",\"showbackground\":true,\"ticks\":\"\",\"zerolinecolor\":\"white\"},\"yaxis\":{\"backgroundcolor\":\"#E5ECF6\",\"gridcolor\":\"white\",\"gridwidth\":2,\"linecolor\":\"white\",\"showbackground\":true,\"ticks\":\"\",\"zerolinecolor\":\"white\"},\"zaxis\":{\"backgroundcolor\":\"#E5ECF6\",\"gridcolor\":\"white\",\"gridwidth\":2,\"linecolor\":\"white\",\"showbackground\":true,\"ticks\":\"\",\"zerolinecolor\":\"white\"}},\"shapedefaults\":{\"line\":{\"color\":\"#2a3f5f\"}},\"ternary\":{\"aaxis\":{\"gridcolor\":\"white\",\"linecolor\":\"white\",\"ticks\":\"\"},\"baxis\":{\"gridcolor\":\"white\",\"linecolor\":\"white\",\"ticks\":\"\"},\"bgcolor\":\"#E5ECF6\",\"caxis\":{\"gridcolor\":\"white\",\"linecolor\":\"white\",\"ticks\":\"\"}},\"title\":{\"x\":0.05},\"xaxis\":{\"automargin\":true,\"gridcolor\":\"white\",\"linecolor\":\"white\",\"ticks\":\"\",\"title\":{\"standoff\":15},\"zerolinecolor\":\"white\",\"zerolinewidth\":2},\"yaxis\":{\"automargin\":true,\"gridcolor\":\"white\",\"linecolor\":\"white\",\"ticks\":\"\",\"title\":{\"standoff\":15},\"zerolinecolor\":\"white\",\"zerolinewidth\":2}}},\"title\":{\"font\":{\"color\":\"#4D5663\"}},\"xaxis\":{\"gridcolor\":\"#E1E5ED\",\"showgrid\":true,\"tickfont\":{\"color\":\"#4D5663\"},\"title\":{\"font\":{\"color\":\"#4D5663\"},\"text\":\"\"},\"zerolinecolor\":\"#E1E5ED\"},\"yaxis\":{\"gridcolor\":\"#E1E5ED\",\"showgrid\":true,\"tickfont\":{\"color\":\"#4D5663\"},\"title\":{\"font\":{\"color\":\"#4D5663\"},\"text\":\"\"},\"zerolinecolor\":\"#E1E5ED\"}},                        {\"showLink\": true, \"linkText\": \"Export to plot.ly\", \"plotlyServerURL\": \"https://plot.ly\", \"responsive\": true}                    ).then(function(){\n",
       "                            \n",
       "var gd = document.getElementById('e94566b4-ecdd-4354-bf34-df6ef68dcbd7');\n",
       "var x = new MutationObserver(function (mutations, observer) {{\n",
       "        var display = window.getComputedStyle(gd).display;\n",
       "        if (!display || display === 'none') {{\n",
       "            console.log([gd, 'removed!']);\n",
       "            Plotly.purge(gd);\n",
       "            observer.disconnect();\n",
       "        }}\n",
       "}});\n",
       "\n",
       "// Listen for the removal of the full notebook cells\n",
       "var notebookContainer = gd.closest('#notebook-container');\n",
       "if (notebookContainer) {{\n",
       "    x.observe(notebookContainer, {childList: true});\n",
       "}}\n",
       "\n",
       "// Listen for the clearing of the current output cell\n",
       "var outputEl = gd.closest('.output');\n",
       "if (outputEl) {{\n",
       "    x.observe(outputEl, {childList: true});\n",
       "}}\n",
       "\n",
       "                        })                };                });            </script>        </div>"
      ]
     },
     "metadata": {},
     "output_type": "display_data"
    }
   ],
   "source": [
    "# bar graph\n",
    "df2.iplot(kind='bar', x= 'Category', y='')"
   ]
  },
  {
   "cell_type": "code",
   "execution_count": 26,
   "id": "f23a56bd",
   "metadata": {},
   "outputs": [
    {
     "data": {
      "application/vnd.plotly.v1+json": {
       "config": {
        "linkText": "Export to plot.ly",
        "plotlyServerURL": "https://plot.ly",
        "showLink": true
       },
       "data": [
        {
         "marker": {
          "color": "rgba(255, 153, 51, 0.6)",
          "line": {
           "color": "rgba(255, 153, 51, 1.0)",
           "width": 1
          }
         },
         "name": "None",
         "orientation": "v",
         "text": "",
         "type": "bar",
         "x": [
          "A",
          "B",
          "C",
          "D"
         ],
         "y": [
          8.716281646913105,
          1.894649974498103,
          -2.7582769332050527,
          8.003077708647336
         ]
        }
       ],
       "layout": {
        "legend": {
         "bgcolor": "#F5F6F9",
         "font": {
          "color": "#4D5663"
         }
        },
        "paper_bgcolor": "#F5F6F9",
        "plot_bgcolor": "#F5F6F9",
        "template": {
         "data": {
          "bar": [
           {
            "error_x": {
             "color": "#2a3f5f"
            },
            "error_y": {
             "color": "#2a3f5f"
            },
            "marker": {
             "line": {
              "color": "#E5ECF6",
              "width": 0.5
             },
             "pattern": {
              "fillmode": "overlay",
              "size": 10,
              "solidity": 0.2
             }
            },
            "type": "bar"
           }
          ],
          "barpolar": [
           {
            "marker": {
             "line": {
              "color": "#E5ECF6",
              "width": 0.5
             },
             "pattern": {
              "fillmode": "overlay",
              "size": 10,
              "solidity": 0.2
             }
            },
            "type": "barpolar"
           }
          ],
          "carpet": [
           {
            "aaxis": {
             "endlinecolor": "#2a3f5f",
             "gridcolor": "white",
             "linecolor": "white",
             "minorgridcolor": "white",
             "startlinecolor": "#2a3f5f"
            },
            "baxis": {
             "endlinecolor": "#2a3f5f",
             "gridcolor": "white",
             "linecolor": "white",
             "minorgridcolor": "white",
             "startlinecolor": "#2a3f5f"
            },
            "type": "carpet"
           }
          ],
          "choropleth": [
           {
            "colorbar": {
             "outlinewidth": 0,
             "ticks": ""
            },
            "type": "choropleth"
           }
          ],
          "contour": [
           {
            "colorbar": {
             "outlinewidth": 0,
             "ticks": ""
            },
            "colorscale": [
             [
              0,
              "#0d0887"
             ],
             [
              0.1111111111111111,
              "#46039f"
             ],
             [
              0.2222222222222222,
              "#7201a8"
             ],
             [
              0.3333333333333333,
              "#9c179e"
             ],
             [
              0.4444444444444444,
              "#bd3786"
             ],
             [
              0.5555555555555556,
              "#d8576b"
             ],
             [
              0.6666666666666666,
              "#ed7953"
             ],
             [
              0.7777777777777778,
              "#fb9f3a"
             ],
             [
              0.8888888888888888,
              "#fdca26"
             ],
             [
              1,
              "#f0f921"
             ]
            ],
            "type": "contour"
           }
          ],
          "contourcarpet": [
           {
            "colorbar": {
             "outlinewidth": 0,
             "ticks": ""
            },
            "type": "contourcarpet"
           }
          ],
          "heatmap": [
           {
            "colorbar": {
             "outlinewidth": 0,
             "ticks": ""
            },
            "colorscale": [
             [
              0,
              "#0d0887"
             ],
             [
              0.1111111111111111,
              "#46039f"
             ],
             [
              0.2222222222222222,
              "#7201a8"
             ],
             [
              0.3333333333333333,
              "#9c179e"
             ],
             [
              0.4444444444444444,
              "#bd3786"
             ],
             [
              0.5555555555555556,
              "#d8576b"
             ],
             [
              0.6666666666666666,
              "#ed7953"
             ],
             [
              0.7777777777777778,
              "#fb9f3a"
             ],
             [
              0.8888888888888888,
              "#fdca26"
             ],
             [
              1,
              "#f0f921"
             ]
            ],
            "type": "heatmap"
           }
          ],
          "heatmapgl": [
           {
            "colorbar": {
             "outlinewidth": 0,
             "ticks": ""
            },
            "colorscale": [
             [
              0,
              "#0d0887"
             ],
             [
              0.1111111111111111,
              "#46039f"
             ],
             [
              0.2222222222222222,
              "#7201a8"
             ],
             [
              0.3333333333333333,
              "#9c179e"
             ],
             [
              0.4444444444444444,
              "#bd3786"
             ],
             [
              0.5555555555555556,
              "#d8576b"
             ],
             [
              0.6666666666666666,
              "#ed7953"
             ],
             [
              0.7777777777777778,
              "#fb9f3a"
             ],
             [
              0.8888888888888888,
              "#fdca26"
             ],
             [
              1,
              "#f0f921"
             ]
            ],
            "type": "heatmapgl"
           }
          ],
          "histogram": [
           {
            "marker": {
             "pattern": {
              "fillmode": "overlay",
              "size": 10,
              "solidity": 0.2
             }
            },
            "type": "histogram"
           }
          ],
          "histogram2d": [
           {
            "colorbar": {
             "outlinewidth": 0,
             "ticks": ""
            },
            "colorscale": [
             [
              0,
              "#0d0887"
             ],
             [
              0.1111111111111111,
              "#46039f"
             ],
             [
              0.2222222222222222,
              "#7201a8"
             ],
             [
              0.3333333333333333,
              "#9c179e"
             ],
             [
              0.4444444444444444,
              "#bd3786"
             ],
             [
              0.5555555555555556,
              "#d8576b"
             ],
             [
              0.6666666666666666,
              "#ed7953"
             ],
             [
              0.7777777777777778,
              "#fb9f3a"
             ],
             [
              0.8888888888888888,
              "#fdca26"
             ],
             [
              1,
              "#f0f921"
             ]
            ],
            "type": "histogram2d"
           }
          ],
          "histogram2dcontour": [
           {
            "colorbar": {
             "outlinewidth": 0,
             "ticks": ""
            },
            "colorscale": [
             [
              0,
              "#0d0887"
             ],
             [
              0.1111111111111111,
              "#46039f"
             ],
             [
              0.2222222222222222,
              "#7201a8"
             ],
             [
              0.3333333333333333,
              "#9c179e"
             ],
             [
              0.4444444444444444,
              "#bd3786"
             ],
             [
              0.5555555555555556,
              "#d8576b"
             ],
             [
              0.6666666666666666,
              "#ed7953"
             ],
             [
              0.7777777777777778,
              "#fb9f3a"
             ],
             [
              0.8888888888888888,
              "#fdca26"
             ],
             [
              1,
              "#f0f921"
             ]
            ],
            "type": "histogram2dcontour"
           }
          ],
          "mesh3d": [
           {
            "colorbar": {
             "outlinewidth": 0,
             "ticks": ""
            },
            "type": "mesh3d"
           }
          ],
          "parcoords": [
           {
            "line": {
             "colorbar": {
              "outlinewidth": 0,
              "ticks": ""
             }
            },
            "type": "parcoords"
           }
          ],
          "pie": [
           {
            "automargin": true,
            "type": "pie"
           }
          ],
          "scatter": [
           {
            "fillpattern": {
             "fillmode": "overlay",
             "size": 10,
             "solidity": 0.2
            },
            "type": "scatter"
           }
          ],
          "scatter3d": [
           {
            "line": {
             "colorbar": {
              "outlinewidth": 0,
              "ticks": ""
             }
            },
            "marker": {
             "colorbar": {
              "outlinewidth": 0,
              "ticks": ""
             }
            },
            "type": "scatter3d"
           }
          ],
          "scattercarpet": [
           {
            "marker": {
             "colorbar": {
              "outlinewidth": 0,
              "ticks": ""
             }
            },
            "type": "scattercarpet"
           }
          ],
          "scattergeo": [
           {
            "marker": {
             "colorbar": {
              "outlinewidth": 0,
              "ticks": ""
             }
            },
            "type": "scattergeo"
           }
          ],
          "scattergl": [
           {
            "marker": {
             "colorbar": {
              "outlinewidth": 0,
              "ticks": ""
             }
            },
            "type": "scattergl"
           }
          ],
          "scattermapbox": [
           {
            "marker": {
             "colorbar": {
              "outlinewidth": 0,
              "ticks": ""
             }
            },
            "type": "scattermapbox"
           }
          ],
          "scatterpolar": [
           {
            "marker": {
             "colorbar": {
              "outlinewidth": 0,
              "ticks": ""
             }
            },
            "type": "scatterpolar"
           }
          ],
          "scatterpolargl": [
           {
            "marker": {
             "colorbar": {
              "outlinewidth": 0,
              "ticks": ""
             }
            },
            "type": "scatterpolargl"
           }
          ],
          "scatterternary": [
           {
            "marker": {
             "colorbar": {
              "outlinewidth": 0,
              "ticks": ""
             }
            },
            "type": "scatterternary"
           }
          ],
          "surface": [
           {
            "colorbar": {
             "outlinewidth": 0,
             "ticks": ""
            },
            "colorscale": [
             [
              0,
              "#0d0887"
             ],
             [
              0.1111111111111111,
              "#46039f"
             ],
             [
              0.2222222222222222,
              "#7201a8"
             ],
             [
              0.3333333333333333,
              "#9c179e"
             ],
             [
              0.4444444444444444,
              "#bd3786"
             ],
             [
              0.5555555555555556,
              "#d8576b"
             ],
             [
              0.6666666666666666,
              "#ed7953"
             ],
             [
              0.7777777777777778,
              "#fb9f3a"
             ],
             [
              0.8888888888888888,
              "#fdca26"
             ],
             [
              1,
              "#f0f921"
             ]
            ],
            "type": "surface"
           }
          ],
          "table": [
           {
            "cells": {
             "fill": {
              "color": "#EBF0F8"
             },
             "line": {
              "color": "white"
             }
            },
            "header": {
             "fill": {
              "color": "#C8D4E3"
             },
             "line": {
              "color": "white"
             }
            },
            "type": "table"
           }
          ]
         },
         "layout": {
          "annotationdefaults": {
           "arrowcolor": "#2a3f5f",
           "arrowhead": 0,
           "arrowwidth": 1
          },
          "autotypenumbers": "strict",
          "coloraxis": {
           "colorbar": {
            "outlinewidth": 0,
            "ticks": ""
           }
          },
          "colorscale": {
           "diverging": [
            [
             0,
             "#8e0152"
            ],
            [
             0.1,
             "#c51b7d"
            ],
            [
             0.2,
             "#de77ae"
            ],
            [
             0.3,
             "#f1b6da"
            ],
            [
             0.4,
             "#fde0ef"
            ],
            [
             0.5,
             "#f7f7f7"
            ],
            [
             0.6,
             "#e6f5d0"
            ],
            [
             0.7,
             "#b8e186"
            ],
            [
             0.8,
             "#7fbc41"
            ],
            [
             0.9,
             "#4d9221"
            ],
            [
             1,
             "#276419"
            ]
           ],
           "sequential": [
            [
             0,
             "#0d0887"
            ],
            [
             0.1111111111111111,
             "#46039f"
            ],
            [
             0.2222222222222222,
             "#7201a8"
            ],
            [
             0.3333333333333333,
             "#9c179e"
            ],
            [
             0.4444444444444444,
             "#bd3786"
            ],
            [
             0.5555555555555556,
             "#d8576b"
            ],
            [
             0.6666666666666666,
             "#ed7953"
            ],
            [
             0.7777777777777778,
             "#fb9f3a"
            ],
            [
             0.8888888888888888,
             "#fdca26"
            ],
            [
             1,
             "#f0f921"
            ]
           ],
           "sequentialminus": [
            [
             0,
             "#0d0887"
            ],
            [
             0.1111111111111111,
             "#46039f"
            ],
            [
             0.2222222222222222,
             "#7201a8"
            ],
            [
             0.3333333333333333,
             "#9c179e"
            ],
            [
             0.4444444444444444,
             "#bd3786"
            ],
            [
             0.5555555555555556,
             "#d8576b"
            ],
            [
             0.6666666666666666,
             "#ed7953"
            ],
            [
             0.7777777777777778,
             "#fb9f3a"
            ],
            [
             0.8888888888888888,
             "#fdca26"
            ],
            [
             1,
             "#f0f921"
            ]
           ]
          },
          "colorway": [
           "#636efa",
           "#EF553B",
           "#00cc96",
           "#ab63fa",
           "#FFA15A",
           "#19d3f3",
           "#FF6692",
           "#B6E880",
           "#FF97FF",
           "#FECB52"
          ],
          "font": {
           "color": "#2a3f5f"
          },
          "geo": {
           "bgcolor": "white",
           "lakecolor": "white",
           "landcolor": "#E5ECF6",
           "showlakes": true,
           "showland": true,
           "subunitcolor": "white"
          },
          "hoverlabel": {
           "align": "left"
          },
          "hovermode": "closest",
          "mapbox": {
           "style": "light"
          },
          "paper_bgcolor": "white",
          "plot_bgcolor": "#E5ECF6",
          "polar": {
           "angularaxis": {
            "gridcolor": "white",
            "linecolor": "white",
            "ticks": ""
           },
           "bgcolor": "#E5ECF6",
           "radialaxis": {
            "gridcolor": "white",
            "linecolor": "white",
            "ticks": ""
           }
          },
          "scene": {
           "xaxis": {
            "backgroundcolor": "#E5ECF6",
            "gridcolor": "white",
            "gridwidth": 2,
            "linecolor": "white",
            "showbackground": true,
            "ticks": "",
            "zerolinecolor": "white"
           },
           "yaxis": {
            "backgroundcolor": "#E5ECF6",
            "gridcolor": "white",
            "gridwidth": 2,
            "linecolor": "white",
            "showbackground": true,
            "ticks": "",
            "zerolinecolor": "white"
           },
           "zaxis": {
            "backgroundcolor": "#E5ECF6",
            "gridcolor": "white",
            "gridwidth": 2,
            "linecolor": "white",
            "showbackground": true,
            "ticks": "",
            "zerolinecolor": "white"
           }
          },
          "shapedefaults": {
           "line": {
            "color": "#2a3f5f"
           }
          },
          "ternary": {
           "aaxis": {
            "gridcolor": "white",
            "linecolor": "white",
            "ticks": ""
           },
           "baxis": {
            "gridcolor": "white",
            "linecolor": "white",
            "ticks": ""
           },
           "bgcolor": "#E5ECF6",
           "caxis": {
            "gridcolor": "white",
            "linecolor": "white",
            "ticks": ""
           }
          },
          "title": {
           "x": 0.05
          },
          "xaxis": {
           "automargin": true,
           "gridcolor": "white",
           "linecolor": "white",
           "ticks": "",
           "title": {
            "standoff": 15
           },
           "zerolinecolor": "white",
           "zerolinewidth": 2
          },
          "yaxis": {
           "automargin": true,
           "gridcolor": "white",
           "linecolor": "white",
           "ticks": "",
           "title": {
            "standoff": 15
           },
           "zerolinecolor": "white",
           "zerolinewidth": 2
          }
         }
        },
        "title": {
         "font": {
          "color": "#4D5663"
         }
        },
        "xaxis": {
         "gridcolor": "#E1E5ED",
         "showgrid": true,
         "tickfont": {
          "color": "#4D5663"
         },
         "title": {
          "font": {
           "color": "#4D5663"
          },
          "text": ""
         },
         "zerolinecolor": "#E1E5ED"
        },
        "yaxis": {
         "gridcolor": "#E1E5ED",
         "showgrid": true,
         "tickfont": {
          "color": "#4D5663"
         },
         "title": {
          "font": {
           "color": "#4D5663"
          },
          "text": ""
         },
         "zerolinecolor": "#E1E5ED"
        }
       }
      },
      "text/html": [
       "<div>                            <div id=\"11a0f8a1-9459-4fed-9b72-c04174d87ae8\" class=\"plotly-graph-div\" style=\"height:525px; width:100%;\"></div>            <script type=\"text/javascript\">                require([\"plotly\"], function(Plotly) {                    window.PLOTLYENV=window.PLOTLYENV || {};\n",
       "                    window.PLOTLYENV.BASE_URL='https://plot.ly';                                    if (document.getElementById(\"11a0f8a1-9459-4fed-9b72-c04174d87ae8\")) {                    Plotly.newPlot(                        \"11a0f8a1-9459-4fed-9b72-c04174d87ae8\",                        [{\"marker\":{\"color\":\"rgba(255, 153, 51, 0.6)\",\"line\":{\"color\":\"rgba(255, 153, 51, 1.0)\",\"width\":1}},\"name\":\"None\",\"orientation\":\"v\",\"text\":\"\",\"x\":[\"A\",\"B\",\"C\",\"D\"],\"y\":[8.716281646913105,1.894649974498103,-2.7582769332050527,8.003077708647336],\"type\":\"bar\"}],                        {\"legend\":{\"bgcolor\":\"#F5F6F9\",\"font\":{\"color\":\"#4D5663\"}},\"paper_bgcolor\":\"#F5F6F9\",\"plot_bgcolor\":\"#F5F6F9\",\"template\":{\"data\":{\"barpolar\":[{\"marker\":{\"line\":{\"color\":\"#E5ECF6\",\"width\":0.5},\"pattern\":{\"fillmode\":\"overlay\",\"size\":10,\"solidity\":0.2}},\"type\":\"barpolar\"}],\"bar\":[{\"error_x\":{\"color\":\"#2a3f5f\"},\"error_y\":{\"color\":\"#2a3f5f\"},\"marker\":{\"line\":{\"color\":\"#E5ECF6\",\"width\":0.5},\"pattern\":{\"fillmode\":\"overlay\",\"size\":10,\"solidity\":0.2}},\"type\":\"bar\"}],\"carpet\":[{\"aaxis\":{\"endlinecolor\":\"#2a3f5f\",\"gridcolor\":\"white\",\"linecolor\":\"white\",\"minorgridcolor\":\"white\",\"startlinecolor\":\"#2a3f5f\"},\"baxis\":{\"endlinecolor\":\"#2a3f5f\",\"gridcolor\":\"white\",\"linecolor\":\"white\",\"minorgridcolor\":\"white\",\"startlinecolor\":\"#2a3f5f\"},\"type\":\"carpet\"}],\"choropleth\":[{\"colorbar\":{\"outlinewidth\":0,\"ticks\":\"\"},\"type\":\"choropleth\"}],\"contourcarpet\":[{\"colorbar\":{\"outlinewidth\":0,\"ticks\":\"\"},\"type\":\"contourcarpet\"}],\"contour\":[{\"colorbar\":{\"outlinewidth\":0,\"ticks\":\"\"},\"colorscale\":[[0.0,\"#0d0887\"],[0.1111111111111111,\"#46039f\"],[0.2222222222222222,\"#7201a8\"],[0.3333333333333333,\"#9c179e\"],[0.4444444444444444,\"#bd3786\"],[0.5555555555555556,\"#d8576b\"],[0.6666666666666666,\"#ed7953\"],[0.7777777777777778,\"#fb9f3a\"],[0.8888888888888888,\"#fdca26\"],[1.0,\"#f0f921\"]],\"type\":\"contour\"}],\"heatmapgl\":[{\"colorbar\":{\"outlinewidth\":0,\"ticks\":\"\"},\"colorscale\":[[0.0,\"#0d0887\"],[0.1111111111111111,\"#46039f\"],[0.2222222222222222,\"#7201a8\"],[0.3333333333333333,\"#9c179e\"],[0.4444444444444444,\"#bd3786\"],[0.5555555555555556,\"#d8576b\"],[0.6666666666666666,\"#ed7953\"],[0.7777777777777778,\"#fb9f3a\"],[0.8888888888888888,\"#fdca26\"],[1.0,\"#f0f921\"]],\"type\":\"heatmapgl\"}],\"heatmap\":[{\"colorbar\":{\"outlinewidth\":0,\"ticks\":\"\"},\"colorscale\":[[0.0,\"#0d0887\"],[0.1111111111111111,\"#46039f\"],[0.2222222222222222,\"#7201a8\"],[0.3333333333333333,\"#9c179e\"],[0.4444444444444444,\"#bd3786\"],[0.5555555555555556,\"#d8576b\"],[0.6666666666666666,\"#ed7953\"],[0.7777777777777778,\"#fb9f3a\"],[0.8888888888888888,\"#fdca26\"],[1.0,\"#f0f921\"]],\"type\":\"heatmap\"}],\"histogram2dcontour\":[{\"colorbar\":{\"outlinewidth\":0,\"ticks\":\"\"},\"colorscale\":[[0.0,\"#0d0887\"],[0.1111111111111111,\"#46039f\"],[0.2222222222222222,\"#7201a8\"],[0.3333333333333333,\"#9c179e\"],[0.4444444444444444,\"#bd3786\"],[0.5555555555555556,\"#d8576b\"],[0.6666666666666666,\"#ed7953\"],[0.7777777777777778,\"#fb9f3a\"],[0.8888888888888888,\"#fdca26\"],[1.0,\"#f0f921\"]],\"type\":\"histogram2dcontour\"}],\"histogram2d\":[{\"colorbar\":{\"outlinewidth\":0,\"ticks\":\"\"},\"colorscale\":[[0.0,\"#0d0887\"],[0.1111111111111111,\"#46039f\"],[0.2222222222222222,\"#7201a8\"],[0.3333333333333333,\"#9c179e\"],[0.4444444444444444,\"#bd3786\"],[0.5555555555555556,\"#d8576b\"],[0.6666666666666666,\"#ed7953\"],[0.7777777777777778,\"#fb9f3a\"],[0.8888888888888888,\"#fdca26\"],[1.0,\"#f0f921\"]],\"type\":\"histogram2d\"}],\"histogram\":[{\"marker\":{\"pattern\":{\"fillmode\":\"overlay\",\"size\":10,\"solidity\":0.2}},\"type\":\"histogram\"}],\"mesh3d\":[{\"colorbar\":{\"outlinewidth\":0,\"ticks\":\"\"},\"type\":\"mesh3d\"}],\"parcoords\":[{\"line\":{\"colorbar\":{\"outlinewidth\":0,\"ticks\":\"\"}},\"type\":\"parcoords\"}],\"pie\":[{\"automargin\":true,\"type\":\"pie\"}],\"scatter3d\":[{\"line\":{\"colorbar\":{\"outlinewidth\":0,\"ticks\":\"\"}},\"marker\":{\"colorbar\":{\"outlinewidth\":0,\"ticks\":\"\"}},\"type\":\"scatter3d\"}],\"scattercarpet\":[{\"marker\":{\"colorbar\":{\"outlinewidth\":0,\"ticks\":\"\"}},\"type\":\"scattercarpet\"}],\"scattergeo\":[{\"marker\":{\"colorbar\":{\"outlinewidth\":0,\"ticks\":\"\"}},\"type\":\"scattergeo\"}],\"scattergl\":[{\"marker\":{\"colorbar\":{\"outlinewidth\":0,\"ticks\":\"\"}},\"type\":\"scattergl\"}],\"scattermapbox\":[{\"marker\":{\"colorbar\":{\"outlinewidth\":0,\"ticks\":\"\"}},\"type\":\"scattermapbox\"}],\"scatterpolargl\":[{\"marker\":{\"colorbar\":{\"outlinewidth\":0,\"ticks\":\"\"}},\"type\":\"scatterpolargl\"}],\"scatterpolar\":[{\"marker\":{\"colorbar\":{\"outlinewidth\":0,\"ticks\":\"\"}},\"type\":\"scatterpolar\"}],\"scatter\":[{\"fillpattern\":{\"fillmode\":\"overlay\",\"size\":10,\"solidity\":0.2},\"type\":\"scatter\"}],\"scatterternary\":[{\"marker\":{\"colorbar\":{\"outlinewidth\":0,\"ticks\":\"\"}},\"type\":\"scatterternary\"}],\"surface\":[{\"colorbar\":{\"outlinewidth\":0,\"ticks\":\"\"},\"colorscale\":[[0.0,\"#0d0887\"],[0.1111111111111111,\"#46039f\"],[0.2222222222222222,\"#7201a8\"],[0.3333333333333333,\"#9c179e\"],[0.4444444444444444,\"#bd3786\"],[0.5555555555555556,\"#d8576b\"],[0.6666666666666666,\"#ed7953\"],[0.7777777777777778,\"#fb9f3a\"],[0.8888888888888888,\"#fdca26\"],[1.0,\"#f0f921\"]],\"type\":\"surface\"}],\"table\":[{\"cells\":{\"fill\":{\"color\":\"#EBF0F8\"},\"line\":{\"color\":\"white\"}},\"header\":{\"fill\":{\"color\":\"#C8D4E3\"},\"line\":{\"color\":\"white\"}},\"type\":\"table\"}]},\"layout\":{\"annotationdefaults\":{\"arrowcolor\":\"#2a3f5f\",\"arrowhead\":0,\"arrowwidth\":1},\"autotypenumbers\":\"strict\",\"coloraxis\":{\"colorbar\":{\"outlinewidth\":0,\"ticks\":\"\"}},\"colorscale\":{\"diverging\":[[0,\"#8e0152\"],[0.1,\"#c51b7d\"],[0.2,\"#de77ae\"],[0.3,\"#f1b6da\"],[0.4,\"#fde0ef\"],[0.5,\"#f7f7f7\"],[0.6,\"#e6f5d0\"],[0.7,\"#b8e186\"],[0.8,\"#7fbc41\"],[0.9,\"#4d9221\"],[1,\"#276419\"]],\"sequential\":[[0.0,\"#0d0887\"],[0.1111111111111111,\"#46039f\"],[0.2222222222222222,\"#7201a8\"],[0.3333333333333333,\"#9c179e\"],[0.4444444444444444,\"#bd3786\"],[0.5555555555555556,\"#d8576b\"],[0.6666666666666666,\"#ed7953\"],[0.7777777777777778,\"#fb9f3a\"],[0.8888888888888888,\"#fdca26\"],[1.0,\"#f0f921\"]],\"sequentialminus\":[[0.0,\"#0d0887\"],[0.1111111111111111,\"#46039f\"],[0.2222222222222222,\"#7201a8\"],[0.3333333333333333,\"#9c179e\"],[0.4444444444444444,\"#bd3786\"],[0.5555555555555556,\"#d8576b\"],[0.6666666666666666,\"#ed7953\"],[0.7777777777777778,\"#fb9f3a\"],[0.8888888888888888,\"#fdca26\"],[1.0,\"#f0f921\"]]},\"colorway\":[\"#636efa\",\"#EF553B\",\"#00cc96\",\"#ab63fa\",\"#FFA15A\",\"#19d3f3\",\"#FF6692\",\"#B6E880\",\"#FF97FF\",\"#FECB52\"],\"font\":{\"color\":\"#2a3f5f\"},\"geo\":{\"bgcolor\":\"white\",\"lakecolor\":\"white\",\"landcolor\":\"#E5ECF6\",\"showlakes\":true,\"showland\":true,\"subunitcolor\":\"white\"},\"hoverlabel\":{\"align\":\"left\"},\"hovermode\":\"closest\",\"mapbox\":{\"style\":\"light\"},\"paper_bgcolor\":\"white\",\"plot_bgcolor\":\"#E5ECF6\",\"polar\":{\"angularaxis\":{\"gridcolor\":\"white\",\"linecolor\":\"white\",\"ticks\":\"\"},\"bgcolor\":\"#E5ECF6\",\"radialaxis\":{\"gridcolor\":\"white\",\"linecolor\":\"white\",\"ticks\":\"\"}},\"scene\":{\"xaxis\":{\"backgroundcolor\":\"#E5ECF6\",\"gridcolor\":\"white\",\"gridwidth\":2,\"linecolor\":\"white\",\"showbackground\":true,\"ticks\":\"\",\"zerolinecolor\":\"white\"},\"yaxis\":{\"backgroundcolor\":\"#E5ECF6\",\"gridcolor\":\"white\",\"gridwidth\":2,\"linecolor\":\"white\",\"showbackground\":true,\"ticks\":\"\",\"zerolinecolor\":\"white\"},\"zaxis\":{\"backgroundcolor\":\"#E5ECF6\",\"gridcolor\":\"white\",\"gridwidth\":2,\"linecolor\":\"white\",\"showbackground\":true,\"ticks\":\"\",\"zerolinecolor\":\"white\"}},\"shapedefaults\":{\"line\":{\"color\":\"#2a3f5f\"}},\"ternary\":{\"aaxis\":{\"gridcolor\":\"white\",\"linecolor\":\"white\",\"ticks\":\"\"},\"baxis\":{\"gridcolor\":\"white\",\"linecolor\":\"white\",\"ticks\":\"\"},\"bgcolor\":\"#E5ECF6\",\"caxis\":{\"gridcolor\":\"white\",\"linecolor\":\"white\",\"ticks\":\"\"}},\"title\":{\"x\":0.05},\"xaxis\":{\"automargin\":true,\"gridcolor\":\"white\",\"linecolor\":\"white\",\"ticks\":\"\",\"title\":{\"standoff\":15},\"zerolinecolor\":\"white\",\"zerolinewidth\":2},\"yaxis\":{\"automargin\":true,\"gridcolor\":\"white\",\"linecolor\":\"white\",\"ticks\":\"\",\"title\":{\"standoff\":15},\"zerolinecolor\":\"white\",\"zerolinewidth\":2}}},\"title\":{\"font\":{\"color\":\"#4D5663\"}},\"xaxis\":{\"gridcolor\":\"#E1E5ED\",\"showgrid\":true,\"tickfont\":{\"color\":\"#4D5663\"},\"title\":{\"font\":{\"color\":\"#4D5663\"},\"text\":\"\"},\"zerolinecolor\":\"#E1E5ED\"},\"yaxis\":{\"gridcolor\":\"#E1E5ED\",\"showgrid\":true,\"tickfont\":{\"color\":\"#4D5663\"},\"title\":{\"font\":{\"color\":\"#4D5663\"},\"text\":\"\"},\"zerolinecolor\":\"#E1E5ED\"}},                        {\"showLink\": true, \"linkText\": \"Export to plot.ly\", \"plotlyServerURL\": \"https://plot.ly\", \"responsive\": true}                    ).then(function(){\n",
       "                            \n",
       "var gd = document.getElementById('11a0f8a1-9459-4fed-9b72-c04174d87ae8');\n",
       "var x = new MutationObserver(function (mutations, observer) {{\n",
       "        var display = window.getComputedStyle(gd).display;\n",
       "        if (!display || display === 'none') {{\n",
       "            console.log([gd, 'removed!']);\n",
       "            Plotly.purge(gd);\n",
       "            observer.disconnect();\n",
       "        }}\n",
       "}});\n",
       "\n",
       "// Listen for the removal of the full notebook cells\n",
       "var notebookContainer = gd.closest('#notebook-container');\n",
       "if (notebookContainer) {{\n",
       "    x.observe(notebookContainer, {childList: true});\n",
       "}}\n",
       "\n",
       "// Listen for the clearing of the current output cell\n",
       "var outputEl = gd.closest('.output');\n",
       "if (outputEl) {{\n",
       "    x.observe(outputEl, {childList: true});\n",
       "}}\n",
       "\n",
       "                        })                };                });            </script>        </div>"
      ]
     },
     "metadata": {},
     "output_type": "display_data"
    }
   ],
   "source": [
    "# Now call an aggregate funciton to graph\n",
    "df.sum().iplot(kind='bar')"
   ]
  },
  {
   "cell_type": "code",
   "execution_count": 28,
   "id": "f69f1c2c",
   "metadata": {},
   "outputs": [
    {
     "data": {
      "application/vnd.plotly.v1+json": {
       "config": {
        "linkText": "Export to plot.ly",
        "plotlyServerURL": "https://plot.ly",
        "showLink": true
       },
       "data": [
        {
         "boxpoints": false,
         "line": {
          "width": 1.3
         },
         "marker": {
          "color": "rgba(255, 153, 51, 1.0)"
         },
         "name": "A",
         "orientation": "v",
         "type": "box",
         "y": [
          -0.24869303225749126,
          -2.388145795579333,
          0.7052569495813963,
          0.8921836516207222,
          -0.8641832945932809,
          0.12474763473727571,
          0.9771147206925541,
          -1.120879746434406,
          2.083325158822628,
          -0.14292514964191178,
          -1.1312169975938375,
          -0.11607697197171943,
          -2.180363608406877,
          -1.109061809100249,
          1.1778238870317181,
          0.7910259440816909,
          0.645202281124067,
          -0.1742790933800676,
          0.8225032314842339,
          0.29877822246100105,
          0.36722046683406245,
          1.2324544434409372,
          -1.7020118796248933,
          1.7042326155461203,
          -1.4450455739935764,
          -0.78545924825664,
          2.06296995198097,
          0.3665990108761806,
          -1.116799652901445,
          0.7366232257112952,
          0.6809107980964005,
          0.4337169537228572,
          0.5054307038730637,
          -0.9015199558765126,
          1.2400228835450735,
          -0.0764876321557282,
          1.5777026737325832,
          -0.09862690109282116,
          0.7644500967843794,
          0.17103982442114465,
          0.37321438050746564,
          -0.1021660818701845,
          -2.351357285273254,
          0.8671154218975321,
          0.9128969618550399,
          0.17785238425044794,
          0.21187259997227123,
          0.050938673505943645,
          0.6563964094079809,
          0.053649786152871054,
          -0.0197549209834424,
          1.5798149195593896,
          0.791318635261723,
          -0.9025588999319102,
          1.656944673728671,
          -0.8269206687359101,
          0.06556319052433303,
          -0.8214461312213147,
          2.187880503422802,
          -0.46944316735562686,
          -0.7370885868139803,
          0.8165338304816602,
          -0.9054807194666195,
          -1.3809585264041093,
          -0.7458765995206087,
          0.18823758886614955,
          1.3784227314336097,
          -1.0036999714454244,
          -0.8559179530591503,
          -1.5808922630144657,
          -1.0890433281306702,
          0.6087193993857751,
          1.2516196623031353,
          -0.7354149576024046,
          0.2891258014135116,
          0.07985900771739284,
          -1.215018118998959,
          0.31249748403780464,
          0.9175732377339435,
          -1.041267348022098,
          -1.069969287706913,
          1.4965582109974387,
          2.639408794995632,
          0.9601098331096278,
          0.31731584401142465,
          -2.0170362462039684,
          0.9816338696585786,
          1.5190162401027576,
          0.15579596719864214,
          0.27471292445643963,
          -0.63239828780116,
          -1.0501242325930704,
          0.8160338670311766,
          -1.0935321627740018,
          -0.8056994370048624,
          0.32500050683722304,
          0.30487108890472714,
          -0.31497417629318075,
          2.0218995987796933,
          0.4843579882960143
         ]
        },
        {
         "boxpoints": false,
         "line": {
          "width": 1.3
         },
         "marker": {
          "color": "rgba(55, 128, 191, 1.0)"
         },
         "name": "B",
         "orientation": "v",
         "type": "box",
         "y": [
          -0.612674881396858,
          -0.2369623864621897,
          0.884172060253383,
          1.1599681389449998,
          1.541433973431705,
          -0.024482749390586922,
          -0.010581934928280717,
          0.4208804279380881,
          -1.055904482828417,
          -0.5731293410391528,
          0.6136951834885712,
          0.3788139488071389,
          -0.7236246217565258,
          -0.9832872929064812,
          -0.04584667102425731,
          1.0990096326338898,
          -0.4894552325381044,
          0.09207295202927872,
          0.8907023697335712,
          1.071647550161279,
          -0.09772605038866598,
          -0.5573372268161606,
          2.1569812897937672,
          -0.3138297576026716,
          0.967564149880955,
          0.5283041481971225,
          1.275552520971748,
          -0.23814452995452495,
          1.3686369305494708,
          0.4554414353012013,
          0.17261064038033674,
          -1.2790756257079117,
          -1.668432178436465,
          -0.7589722147586523,
          -1.1217293268341164,
          0.1457960988457628,
          -2.460171601392952,
          1.1224080996706933,
          -0.5718735010119889,
          0.7480470173720155,
          -0.03113393613510434,
          1.6490615045790034,
          0.05753332794358935,
          -0.20428125058288318,
          -2.0075424792795133,
          0.667885385351891,
          0.0636282659190983,
          -0.011188874517152437,
          2.049007627401017,
          -1.5848630631660825,
          -0.9622210929462339,
          -0.8431124359578438,
          0.05754501771367724,
          -1.2870024758751444,
          -0.19727806101733522,
          1.3001919306481338,
          0.3064075043148491,
          0.07117476930400782,
          -0.96812683843896,
          1.82880823196082,
          1.5559339345907204,
          1.7050542509227609,
          1.7171720163798219,
          0.42589246627030913,
          -2.3660287467420225,
          -1.5323420715419014,
          1.9884957118847637,
          -0.7216381285780816,
          -0.9380010074166955,
          0.16306318472752554,
          -0.7425934426726053,
          -0.9707420414928241,
          -2.0238789682217306,
          0.20622339294902128,
          0.29403482434209716,
          0.12147098035639514,
          0.20258350462675498,
          -0.2992269193093349,
          0.22115912154903292,
          -1.7790002822602209,
          -1.872050479776317,
          -0.43176879529106,
          0.940906565069375,
          1.3443483421299551,
          -0.8062940834059503,
          -0.15012732876279758,
          0.20043931984963673,
          0.22002772846606183,
          -1.4076957323909052,
          1.36507767965311,
          0.5463241272540051,
          1.9568592851420272,
          -0.886230842336463,
          -0.24970954645615465,
          1.4577791399977678,
          -1.0263047973016162,
          -1.0009532490096018,
          -0.28890730822092503,
          1.072250787176654,
          0.45805736391766777
         ]
        },
        {
         "boxpoints": false,
         "line": {
          "width": 1.3
         },
         "marker": {
          "color": "rgba(50, 171, 96, 1.0)"
         },
         "name": "C",
         "orientation": "v",
         "type": "box",
         "y": [
          -2.1875962710340633,
          1.2043466892488253,
          -0.2624637021694007,
          -0.044774519494937354,
          -0.38828732945577965,
          -1.7604191184675766,
          -0.8330320826323994,
          -0.45260597178575424,
          0.37666516698609703,
          -0.45075330251265217,
          -0.4543014386060515,
          -1.6818125208376644,
          -0.777172441623389,
          -1.115031723523379,
          -0.2828639849820452,
          1.5109558788259014,
          0.3497580319219913,
          -0.7986845728658987,
          -2.304293194629496,
          0.13818781871544455,
          -0.8568120676938925,
          0.1283511008423489,
          -1.6464870113713808,
          0.1509732009457024,
          0.48580680075115507,
          0.8844256749558661,
          0.863925568233306,
          -0.424112327916965,
          -1.023377757860004,
          -1.2429516240004856,
          0.4644114102285322,
          -0.10295568470534225,
          1.1343980376200298,
          0.5952729060364006,
          -0.944905980125573,
          -0.5918297192626695,
          -1.9362958830669315,
          0.7773084542894089,
          -0.7025040256192104,
          -0.6721361405389769,
          0.22489473295161644,
          -1.2072044451488124,
          -0.6679812924099646,
          0.20072281504376818,
          -0.06894227862165513,
          0.21307238240542759,
          0.8622619083858662,
          -0.9334003090979155,
          -0.04407152633317502,
          0.3703242459554553,
          -1.5132386818086954,
          1.704751495814103,
          -0.35615570204659286,
          -0.4074435132315458,
          -0.4803434654367431,
          -0.5228307576630105,
          2.1418357368651204,
          -0.5378629661350438,
          -0.8789667540700302,
          -0.679433912537144,
          2.166892421079014,
          2.526250778691885,
          1.0743531852444916,
          0.9990476667989842,
          0.9265298440916431,
          0.42914042026948807,
          -0.4111111006921592,
          -0.7268320997806266,
          -0.6605936820905781,
          -2.04184195646119,
          -0.14404800610251542,
          -0.07021136849345204,
          0.5959802125115937,
          2.3055706612204316,
          -0.39023861984682784,
          -0.2870649687792531,
          -0.241642459550871,
          0.43550553077105064,
          0.3272146563694911,
          -0.37076963719152484,
          -1.2705471688439887,
          -1.0400727555021632,
          0.1039131879954186,
          0.008023775137617924,
          0.8491798895964642,
          -0.03897877933284549,
          1.0028909315813694,
          -0.32044741849232344,
          2.1146621360431057,
          1.9176799493258965,
          -1.2039507080103085,
          1.6289595320326293,
          0.1337860305895442,
          1.0994080407915758,
          -0.2758949893549994,
          0.011838560565450105,
          1.5341262281452326,
          -0.36978117398831484,
          1.6380429951546858,
          0.7304392696016989
         ]
        },
        {
         "boxpoints": false,
         "line": {
          "width": 1.3
         },
         "marker": {
          "color": "rgba(128, 0, 128, 1.0)"
         },
         "name": "D",
         "orientation": "v",
         "type": "box",
         "y": [
          -1.5897221946627162,
          0.3881534151264451,
          0.2772944841151599,
          1.298330640559541,
          0.8568091610919952,
          -1.486106835229758,
          -1.0862231370818147,
          0.5748087439840773,
          1.026628771340924,
          -0.4141700103142258,
          0.30538030427163665,
          -0.012805826093219381,
          -2.0749459185303816,
          0.8672918118015417,
          0.07451223055141265,
          -1.4561635949972151,
          -0.5360852317698505,
          0.3265984770476418,
          0.8368502744859896,
          -0.07877931097570023,
          0.30867488169765506,
          -0.9617878067606253,
          -1.4812539643895888,
          0.19203346442859506,
          1.0976284998357833,
          2.66715863939564,
          -0.6873804694129563,
          0.9948807074855572,
          -0.36959070183480014,
          -0.18158394365251512,
          0.34071102177736184,
          1.9530310396655668,
          1.503513220409165,
          -0.32346215040040593,
          -0.08263971729847629,
          -1.5292671827037791,
          0.28974899643705376,
          0.4631692021102995,
          0.8071285959134398,
          -0.9225761376000622,
          0.8235374860706418,
          -1.4003448077047984,
          0.7472141205820891,
          0.09259546962931467,
          -0.13428263434801724,
          0.22832046417331497,
          -0.7557896338030863,
          0.5533146148613863,
          -2.2699352226812253,
          -0.6861455007876447,
          0.5353727580331634,
          0.6991968133340193,
          2.2640420510689365,
          0.9316723073168875,
          -0.4747759199341716,
          0.5320410779272005,
          1.024932640201076,
          0.14427840861954674,
          -1.0822146534072383,
          0.3105510034526434,
          0.5891865162490424,
          -0.7105178812376683,
          0.3334024361608685,
          -0.01715749825336284,
          1.0880748291362126,
          0.7982450519963034,
          0.9505168604870251,
          -0.4029352598200969,
          1.4491594657254252,
          0.20045013807179224,
          -0.40928058030959946,
          0.5972644954771477,
          0.4809926819086426,
          -1.2633582269604677,
          -0.38106444879833234,
          1.0058960599684232,
          -0.5053756209038799,
          -0.3861065428798655,
          0.7108175908518505,
          -0.16554681207675614,
          1.374812443087915,
          1.3763994785644487,
          0.20954640783588474,
          0.3344658816141513,
          -2.1098790196848967,
          0.5367893903275768,
          -0.5464041834590837,
          1.7701255317721094,
          0.9911185492373951,
          -1.831858888910831,
          -0.3197343382221082,
          -0.03144426316548922,
          -0.7145999792041241,
          0.0552858232740609,
          -1.338721708829007,
          0.923197690489228,
          0.7368405105614648,
          -0.628642418169745,
          0.5444548763628334,
          -1.5507106220555789
         ]
        }
       ],
       "layout": {
        "legend": {
         "bgcolor": "#F5F6F9",
         "font": {
          "color": "#4D5663"
         }
        },
        "paper_bgcolor": "#F5F6F9",
        "plot_bgcolor": "#F5F6F9",
        "template": {
         "data": {
          "bar": [
           {
            "error_x": {
             "color": "#2a3f5f"
            },
            "error_y": {
             "color": "#2a3f5f"
            },
            "marker": {
             "line": {
              "color": "#E5ECF6",
              "width": 0.5
             },
             "pattern": {
              "fillmode": "overlay",
              "size": 10,
              "solidity": 0.2
             }
            },
            "type": "bar"
           }
          ],
          "barpolar": [
           {
            "marker": {
             "line": {
              "color": "#E5ECF6",
              "width": 0.5
             },
             "pattern": {
              "fillmode": "overlay",
              "size": 10,
              "solidity": 0.2
             }
            },
            "type": "barpolar"
           }
          ],
          "carpet": [
           {
            "aaxis": {
             "endlinecolor": "#2a3f5f",
             "gridcolor": "white",
             "linecolor": "white",
             "minorgridcolor": "white",
             "startlinecolor": "#2a3f5f"
            },
            "baxis": {
             "endlinecolor": "#2a3f5f",
             "gridcolor": "white",
             "linecolor": "white",
             "minorgridcolor": "white",
             "startlinecolor": "#2a3f5f"
            },
            "type": "carpet"
           }
          ],
          "choropleth": [
           {
            "colorbar": {
             "outlinewidth": 0,
             "ticks": ""
            },
            "type": "choropleth"
           }
          ],
          "contour": [
           {
            "colorbar": {
             "outlinewidth": 0,
             "ticks": ""
            },
            "colorscale": [
             [
              0,
              "#0d0887"
             ],
             [
              0.1111111111111111,
              "#46039f"
             ],
             [
              0.2222222222222222,
              "#7201a8"
             ],
             [
              0.3333333333333333,
              "#9c179e"
             ],
             [
              0.4444444444444444,
              "#bd3786"
             ],
             [
              0.5555555555555556,
              "#d8576b"
             ],
             [
              0.6666666666666666,
              "#ed7953"
             ],
             [
              0.7777777777777778,
              "#fb9f3a"
             ],
             [
              0.8888888888888888,
              "#fdca26"
             ],
             [
              1,
              "#f0f921"
             ]
            ],
            "type": "contour"
           }
          ],
          "contourcarpet": [
           {
            "colorbar": {
             "outlinewidth": 0,
             "ticks": ""
            },
            "type": "contourcarpet"
           }
          ],
          "heatmap": [
           {
            "colorbar": {
             "outlinewidth": 0,
             "ticks": ""
            },
            "colorscale": [
             [
              0,
              "#0d0887"
             ],
             [
              0.1111111111111111,
              "#46039f"
             ],
             [
              0.2222222222222222,
              "#7201a8"
             ],
             [
              0.3333333333333333,
              "#9c179e"
             ],
             [
              0.4444444444444444,
              "#bd3786"
             ],
             [
              0.5555555555555556,
              "#d8576b"
             ],
             [
              0.6666666666666666,
              "#ed7953"
             ],
             [
              0.7777777777777778,
              "#fb9f3a"
             ],
             [
              0.8888888888888888,
              "#fdca26"
             ],
             [
              1,
              "#f0f921"
             ]
            ],
            "type": "heatmap"
           }
          ],
          "heatmapgl": [
           {
            "colorbar": {
             "outlinewidth": 0,
             "ticks": ""
            },
            "colorscale": [
             [
              0,
              "#0d0887"
             ],
             [
              0.1111111111111111,
              "#46039f"
             ],
             [
              0.2222222222222222,
              "#7201a8"
             ],
             [
              0.3333333333333333,
              "#9c179e"
             ],
             [
              0.4444444444444444,
              "#bd3786"
             ],
             [
              0.5555555555555556,
              "#d8576b"
             ],
             [
              0.6666666666666666,
              "#ed7953"
             ],
             [
              0.7777777777777778,
              "#fb9f3a"
             ],
             [
              0.8888888888888888,
              "#fdca26"
             ],
             [
              1,
              "#f0f921"
             ]
            ],
            "type": "heatmapgl"
           }
          ],
          "histogram": [
           {
            "marker": {
             "pattern": {
              "fillmode": "overlay",
              "size": 10,
              "solidity": 0.2
             }
            },
            "type": "histogram"
           }
          ],
          "histogram2d": [
           {
            "colorbar": {
             "outlinewidth": 0,
             "ticks": ""
            },
            "colorscale": [
             [
              0,
              "#0d0887"
             ],
             [
              0.1111111111111111,
              "#46039f"
             ],
             [
              0.2222222222222222,
              "#7201a8"
             ],
             [
              0.3333333333333333,
              "#9c179e"
             ],
             [
              0.4444444444444444,
              "#bd3786"
             ],
             [
              0.5555555555555556,
              "#d8576b"
             ],
             [
              0.6666666666666666,
              "#ed7953"
             ],
             [
              0.7777777777777778,
              "#fb9f3a"
             ],
             [
              0.8888888888888888,
              "#fdca26"
             ],
             [
              1,
              "#f0f921"
             ]
            ],
            "type": "histogram2d"
           }
          ],
          "histogram2dcontour": [
           {
            "colorbar": {
             "outlinewidth": 0,
             "ticks": ""
            },
            "colorscale": [
             [
              0,
              "#0d0887"
             ],
             [
              0.1111111111111111,
              "#46039f"
             ],
             [
              0.2222222222222222,
              "#7201a8"
             ],
             [
              0.3333333333333333,
              "#9c179e"
             ],
             [
              0.4444444444444444,
              "#bd3786"
             ],
             [
              0.5555555555555556,
              "#d8576b"
             ],
             [
              0.6666666666666666,
              "#ed7953"
             ],
             [
              0.7777777777777778,
              "#fb9f3a"
             ],
             [
              0.8888888888888888,
              "#fdca26"
             ],
             [
              1,
              "#f0f921"
             ]
            ],
            "type": "histogram2dcontour"
           }
          ],
          "mesh3d": [
           {
            "colorbar": {
             "outlinewidth": 0,
             "ticks": ""
            },
            "type": "mesh3d"
           }
          ],
          "parcoords": [
           {
            "line": {
             "colorbar": {
              "outlinewidth": 0,
              "ticks": ""
             }
            },
            "type": "parcoords"
           }
          ],
          "pie": [
           {
            "automargin": true,
            "type": "pie"
           }
          ],
          "scatter": [
           {
            "fillpattern": {
             "fillmode": "overlay",
             "size": 10,
             "solidity": 0.2
            },
            "type": "scatter"
           }
          ],
          "scatter3d": [
           {
            "line": {
             "colorbar": {
              "outlinewidth": 0,
              "ticks": ""
             }
            },
            "marker": {
             "colorbar": {
              "outlinewidth": 0,
              "ticks": ""
             }
            },
            "type": "scatter3d"
           }
          ],
          "scattercarpet": [
           {
            "marker": {
             "colorbar": {
              "outlinewidth": 0,
              "ticks": ""
             }
            },
            "type": "scattercarpet"
           }
          ],
          "scattergeo": [
           {
            "marker": {
             "colorbar": {
              "outlinewidth": 0,
              "ticks": ""
             }
            },
            "type": "scattergeo"
           }
          ],
          "scattergl": [
           {
            "marker": {
             "colorbar": {
              "outlinewidth": 0,
              "ticks": ""
             }
            },
            "type": "scattergl"
           }
          ],
          "scattermapbox": [
           {
            "marker": {
             "colorbar": {
              "outlinewidth": 0,
              "ticks": ""
             }
            },
            "type": "scattermapbox"
           }
          ],
          "scatterpolar": [
           {
            "marker": {
             "colorbar": {
              "outlinewidth": 0,
              "ticks": ""
             }
            },
            "type": "scatterpolar"
           }
          ],
          "scatterpolargl": [
           {
            "marker": {
             "colorbar": {
              "outlinewidth": 0,
              "ticks": ""
             }
            },
            "type": "scatterpolargl"
           }
          ],
          "scatterternary": [
           {
            "marker": {
             "colorbar": {
              "outlinewidth": 0,
              "ticks": ""
             }
            },
            "type": "scatterternary"
           }
          ],
          "surface": [
           {
            "colorbar": {
             "outlinewidth": 0,
             "ticks": ""
            },
            "colorscale": [
             [
              0,
              "#0d0887"
             ],
             [
              0.1111111111111111,
              "#46039f"
             ],
             [
              0.2222222222222222,
              "#7201a8"
             ],
             [
              0.3333333333333333,
              "#9c179e"
             ],
             [
              0.4444444444444444,
              "#bd3786"
             ],
             [
              0.5555555555555556,
              "#d8576b"
             ],
             [
              0.6666666666666666,
              "#ed7953"
             ],
             [
              0.7777777777777778,
              "#fb9f3a"
             ],
             [
              0.8888888888888888,
              "#fdca26"
             ],
             [
              1,
              "#f0f921"
             ]
            ],
            "type": "surface"
           }
          ],
          "table": [
           {
            "cells": {
             "fill": {
              "color": "#EBF0F8"
             },
             "line": {
              "color": "white"
             }
            },
            "header": {
             "fill": {
              "color": "#C8D4E3"
             },
             "line": {
              "color": "white"
             }
            },
            "type": "table"
           }
          ]
         },
         "layout": {
          "annotationdefaults": {
           "arrowcolor": "#2a3f5f",
           "arrowhead": 0,
           "arrowwidth": 1
          },
          "autotypenumbers": "strict",
          "coloraxis": {
           "colorbar": {
            "outlinewidth": 0,
            "ticks": ""
           }
          },
          "colorscale": {
           "diverging": [
            [
             0,
             "#8e0152"
            ],
            [
             0.1,
             "#c51b7d"
            ],
            [
             0.2,
             "#de77ae"
            ],
            [
             0.3,
             "#f1b6da"
            ],
            [
             0.4,
             "#fde0ef"
            ],
            [
             0.5,
             "#f7f7f7"
            ],
            [
             0.6,
             "#e6f5d0"
            ],
            [
             0.7,
             "#b8e186"
            ],
            [
             0.8,
             "#7fbc41"
            ],
            [
             0.9,
             "#4d9221"
            ],
            [
             1,
             "#276419"
            ]
           ],
           "sequential": [
            [
             0,
             "#0d0887"
            ],
            [
             0.1111111111111111,
             "#46039f"
            ],
            [
             0.2222222222222222,
             "#7201a8"
            ],
            [
             0.3333333333333333,
             "#9c179e"
            ],
            [
             0.4444444444444444,
             "#bd3786"
            ],
            [
             0.5555555555555556,
             "#d8576b"
            ],
            [
             0.6666666666666666,
             "#ed7953"
            ],
            [
             0.7777777777777778,
             "#fb9f3a"
            ],
            [
             0.8888888888888888,
             "#fdca26"
            ],
            [
             1,
             "#f0f921"
            ]
           ],
           "sequentialminus": [
            [
             0,
             "#0d0887"
            ],
            [
             0.1111111111111111,
             "#46039f"
            ],
            [
             0.2222222222222222,
             "#7201a8"
            ],
            [
             0.3333333333333333,
             "#9c179e"
            ],
            [
             0.4444444444444444,
             "#bd3786"
            ],
            [
             0.5555555555555556,
             "#d8576b"
            ],
            [
             0.6666666666666666,
             "#ed7953"
            ],
            [
             0.7777777777777778,
             "#fb9f3a"
            ],
            [
             0.8888888888888888,
             "#fdca26"
            ],
            [
             1,
             "#f0f921"
            ]
           ]
          },
          "colorway": [
           "#636efa",
           "#EF553B",
           "#00cc96",
           "#ab63fa",
           "#FFA15A",
           "#19d3f3",
           "#FF6692",
           "#B6E880",
           "#FF97FF",
           "#FECB52"
          ],
          "font": {
           "color": "#2a3f5f"
          },
          "geo": {
           "bgcolor": "white",
           "lakecolor": "white",
           "landcolor": "#E5ECF6",
           "showlakes": true,
           "showland": true,
           "subunitcolor": "white"
          },
          "hoverlabel": {
           "align": "left"
          },
          "hovermode": "closest",
          "mapbox": {
           "style": "light"
          },
          "paper_bgcolor": "white",
          "plot_bgcolor": "#E5ECF6",
          "polar": {
           "angularaxis": {
            "gridcolor": "white",
            "linecolor": "white",
            "ticks": ""
           },
           "bgcolor": "#E5ECF6",
           "radialaxis": {
            "gridcolor": "white",
            "linecolor": "white",
            "ticks": ""
           }
          },
          "scene": {
           "xaxis": {
            "backgroundcolor": "#E5ECF6",
            "gridcolor": "white",
            "gridwidth": 2,
            "linecolor": "white",
            "showbackground": true,
            "ticks": "",
            "zerolinecolor": "white"
           },
           "yaxis": {
            "backgroundcolor": "#E5ECF6",
            "gridcolor": "white",
            "gridwidth": 2,
            "linecolor": "white",
            "showbackground": true,
            "ticks": "",
            "zerolinecolor": "white"
           },
           "zaxis": {
            "backgroundcolor": "#E5ECF6",
            "gridcolor": "white",
            "gridwidth": 2,
            "linecolor": "white",
            "showbackground": true,
            "ticks": "",
            "zerolinecolor": "white"
           }
          },
          "shapedefaults": {
           "line": {
            "color": "#2a3f5f"
           }
          },
          "ternary": {
           "aaxis": {
            "gridcolor": "white",
            "linecolor": "white",
            "ticks": ""
           },
           "baxis": {
            "gridcolor": "white",
            "linecolor": "white",
            "ticks": ""
           },
           "bgcolor": "#E5ECF6",
           "caxis": {
            "gridcolor": "white",
            "linecolor": "white",
            "ticks": ""
           }
          },
          "title": {
           "x": 0.05
          },
          "xaxis": {
           "automargin": true,
           "gridcolor": "white",
           "linecolor": "white",
           "ticks": "",
           "title": {
            "standoff": 15
           },
           "zerolinecolor": "white",
           "zerolinewidth": 2
          },
          "yaxis": {
           "automargin": true,
           "gridcolor": "white",
           "linecolor": "white",
           "ticks": "",
           "title": {
            "standoff": 15
           },
           "zerolinecolor": "white",
           "zerolinewidth": 2
          }
         }
        },
        "title": {
         "font": {
          "color": "#4D5663"
         }
        },
        "xaxis": {
         "gridcolor": "#E1E5ED",
         "showgrid": true,
         "tickfont": {
          "color": "#4D5663"
         },
         "title": {
          "font": {
           "color": "#4D5663"
          },
          "text": ""
         },
         "zerolinecolor": "#E1E5ED"
        },
        "yaxis": {
         "gridcolor": "#E1E5ED",
         "showgrid": true,
         "tickfont": {
          "color": "#4D5663"
         },
         "title": {
          "font": {
           "color": "#4D5663"
          },
          "text": ""
         },
         "zerolinecolor": "#E1E5ED"
        }
       }
      },
      "text/html": [
       "<div>                            <div id=\"34e2e579-b1f0-470b-a3ff-98dcbe3d6159\" class=\"plotly-graph-div\" style=\"height:525px; width:100%;\"></div>            <script type=\"text/javascript\">                require([\"plotly\"], function(Plotly) {                    window.PLOTLYENV=window.PLOTLYENV || {};\n",
       "                    window.PLOTLYENV.BASE_URL='https://plot.ly';                                    if (document.getElementById(\"34e2e579-b1f0-470b-a3ff-98dcbe3d6159\")) {                    Plotly.newPlot(                        \"34e2e579-b1f0-470b-a3ff-98dcbe3d6159\",                        [{\"boxpoints\":false,\"line\":{\"width\":1.3},\"marker\":{\"color\":\"rgba(255, 153, 51, 1.0)\"},\"name\":\"A\",\"orientation\":\"v\",\"y\":[-0.24869303225749126,-2.388145795579333,0.7052569495813963,0.8921836516207222,-0.8641832945932809,0.12474763473727571,0.9771147206925541,-1.120879746434406,2.083325158822628,-0.14292514964191178,-1.1312169975938375,-0.11607697197171943,-2.180363608406877,-1.109061809100249,1.1778238870317181,0.7910259440816909,0.645202281124067,-0.1742790933800676,0.8225032314842339,0.29877822246100105,0.36722046683406245,1.2324544434409372,-1.7020118796248933,1.7042326155461203,-1.4450455739935764,-0.78545924825664,2.06296995198097,0.3665990108761806,-1.116799652901445,0.7366232257112952,0.6809107980964005,0.4337169537228572,0.5054307038730637,-0.9015199558765126,1.2400228835450735,-0.0764876321557282,1.5777026737325832,-0.09862690109282116,0.7644500967843794,0.17103982442114465,0.37321438050746564,-0.1021660818701845,-2.351357285273254,0.8671154218975321,0.9128969618550399,0.17785238425044794,0.21187259997227123,0.050938673505943645,0.6563964094079809,0.053649786152871054,-0.0197549209834424,1.5798149195593896,0.791318635261723,-0.9025588999319102,1.656944673728671,-0.8269206687359101,0.06556319052433303,-0.8214461312213147,2.187880503422802,-0.46944316735562686,-0.7370885868139803,0.8165338304816602,-0.9054807194666195,-1.3809585264041093,-0.7458765995206087,0.18823758886614955,1.3784227314336097,-1.0036999714454244,-0.8559179530591503,-1.5808922630144657,-1.0890433281306702,0.6087193993857751,1.2516196623031353,-0.7354149576024046,0.2891258014135116,0.07985900771739284,-1.215018118998959,0.31249748403780464,0.9175732377339435,-1.041267348022098,-1.069969287706913,1.4965582109974387,2.639408794995632,0.9601098331096278,0.31731584401142465,-2.0170362462039684,0.9816338696585786,1.5190162401027576,0.15579596719864214,0.27471292445643963,-0.63239828780116,-1.0501242325930704,0.8160338670311766,-1.0935321627740018,-0.8056994370048624,0.32500050683722304,0.30487108890472714,-0.31497417629318075,2.0218995987796933,0.4843579882960143],\"type\":\"box\"},{\"boxpoints\":false,\"line\":{\"width\":1.3},\"marker\":{\"color\":\"rgba(55, 128, 191, 1.0)\"},\"name\":\"B\",\"orientation\":\"v\",\"y\":[-0.612674881396858,-0.2369623864621897,0.884172060253383,1.1599681389449998,1.541433973431705,-0.024482749390586922,-0.010581934928280717,0.4208804279380881,-1.055904482828417,-0.5731293410391528,0.6136951834885712,0.3788139488071389,-0.7236246217565258,-0.9832872929064812,-0.04584667102425731,1.0990096326338898,-0.4894552325381044,0.09207295202927872,0.8907023697335712,1.071647550161279,-0.09772605038866598,-0.5573372268161606,2.1569812897937672,-0.3138297576026716,0.967564149880955,0.5283041481971225,1.275552520971748,-0.23814452995452495,1.3686369305494708,0.4554414353012013,0.17261064038033674,-1.2790756257079117,-1.668432178436465,-0.7589722147586523,-1.1217293268341164,0.1457960988457628,-2.460171601392952,1.1224080996706933,-0.5718735010119889,0.7480470173720155,-0.03113393613510434,1.6490615045790034,0.05753332794358935,-0.20428125058288318,-2.0075424792795133,0.667885385351891,0.0636282659190983,-0.011188874517152437,2.049007627401017,-1.5848630631660825,-0.9622210929462339,-0.8431124359578438,0.05754501771367724,-1.2870024758751444,-0.19727806101733522,1.3001919306481338,0.3064075043148491,0.07117476930400782,-0.96812683843896,1.82880823196082,1.5559339345907204,1.7050542509227609,1.7171720163798219,0.42589246627030913,-2.3660287467420225,-1.5323420715419014,1.9884957118847637,-0.7216381285780816,-0.9380010074166955,0.16306318472752554,-0.7425934426726053,-0.9707420414928241,-2.0238789682217306,0.20622339294902128,0.29403482434209716,0.12147098035639514,0.20258350462675498,-0.2992269193093349,0.22115912154903292,-1.7790002822602209,-1.872050479776317,-0.43176879529106,0.940906565069375,1.3443483421299551,-0.8062940834059503,-0.15012732876279758,0.20043931984963673,0.22002772846606183,-1.4076957323909052,1.36507767965311,0.5463241272540051,1.9568592851420272,-0.886230842336463,-0.24970954645615465,1.4577791399977678,-1.0263047973016162,-1.0009532490096018,-0.28890730822092503,1.072250787176654,0.45805736391766777],\"type\":\"box\"},{\"boxpoints\":false,\"line\":{\"width\":1.3},\"marker\":{\"color\":\"rgba(50, 171, 96, 1.0)\"},\"name\":\"C\",\"orientation\":\"v\",\"y\":[-2.1875962710340633,1.2043466892488253,-0.2624637021694007,-0.044774519494937354,-0.38828732945577965,-1.7604191184675766,-0.8330320826323994,-0.45260597178575424,0.37666516698609703,-0.45075330251265217,-0.4543014386060515,-1.6818125208376644,-0.777172441623389,-1.115031723523379,-0.2828639849820452,1.5109558788259014,0.3497580319219913,-0.7986845728658987,-2.304293194629496,0.13818781871544455,-0.8568120676938925,0.1283511008423489,-1.6464870113713808,0.1509732009457024,0.48580680075115507,0.8844256749558661,0.863925568233306,-0.424112327916965,-1.023377757860004,-1.2429516240004856,0.4644114102285322,-0.10295568470534225,1.1343980376200298,0.5952729060364006,-0.944905980125573,-0.5918297192626695,-1.9362958830669315,0.7773084542894089,-0.7025040256192104,-0.6721361405389769,0.22489473295161644,-1.2072044451488124,-0.6679812924099646,0.20072281504376818,-0.06894227862165513,0.21307238240542759,0.8622619083858662,-0.9334003090979155,-0.04407152633317502,0.3703242459554553,-1.5132386818086954,1.704751495814103,-0.35615570204659286,-0.4074435132315458,-0.4803434654367431,-0.5228307576630105,2.1418357368651204,-0.5378629661350438,-0.8789667540700302,-0.679433912537144,2.166892421079014,2.526250778691885,1.0743531852444916,0.9990476667989842,0.9265298440916431,0.42914042026948807,-0.4111111006921592,-0.7268320997806266,-0.6605936820905781,-2.04184195646119,-0.14404800610251542,-0.07021136849345204,0.5959802125115937,2.3055706612204316,-0.39023861984682784,-0.2870649687792531,-0.241642459550871,0.43550553077105064,0.3272146563694911,-0.37076963719152484,-1.2705471688439887,-1.0400727555021632,0.1039131879954186,0.008023775137617924,0.8491798895964642,-0.03897877933284549,1.0028909315813694,-0.32044741849232344,2.1146621360431057,1.9176799493258965,-1.2039507080103085,1.6289595320326293,0.1337860305895442,1.0994080407915758,-0.2758949893549994,0.011838560565450105,1.5341262281452326,-0.36978117398831484,1.6380429951546858,0.7304392696016989],\"type\":\"box\"},{\"boxpoints\":false,\"line\":{\"width\":1.3},\"marker\":{\"color\":\"rgba(128, 0, 128, 1.0)\"},\"name\":\"D\",\"orientation\":\"v\",\"y\":[-1.5897221946627162,0.3881534151264451,0.2772944841151599,1.298330640559541,0.8568091610919952,-1.486106835229758,-1.0862231370818147,0.5748087439840773,1.026628771340924,-0.4141700103142258,0.30538030427163665,-0.012805826093219381,-2.0749459185303816,0.8672918118015417,0.07451223055141265,-1.4561635949972151,-0.5360852317698505,0.3265984770476418,0.8368502744859896,-0.07877931097570023,0.30867488169765506,-0.9617878067606253,-1.4812539643895888,0.19203346442859506,1.0976284998357833,2.66715863939564,-0.6873804694129563,0.9948807074855572,-0.36959070183480014,-0.18158394365251512,0.34071102177736184,1.9530310396655668,1.503513220409165,-0.32346215040040593,-0.08263971729847629,-1.5292671827037791,0.28974899643705376,0.4631692021102995,0.8071285959134398,-0.9225761376000622,0.8235374860706418,-1.4003448077047984,0.7472141205820891,0.09259546962931467,-0.13428263434801724,0.22832046417331497,-0.7557896338030863,0.5533146148613863,-2.2699352226812253,-0.6861455007876447,0.5353727580331634,0.6991968133340193,2.2640420510689365,0.9316723073168875,-0.4747759199341716,0.5320410779272005,1.024932640201076,0.14427840861954674,-1.0822146534072383,0.3105510034526434,0.5891865162490424,-0.7105178812376683,0.3334024361608685,-0.01715749825336284,1.0880748291362126,0.7982450519963034,0.9505168604870251,-0.4029352598200969,1.4491594657254252,0.20045013807179224,-0.40928058030959946,0.5972644954771477,0.4809926819086426,-1.2633582269604677,-0.38106444879833234,1.0058960599684232,-0.5053756209038799,-0.3861065428798655,0.7108175908518505,-0.16554681207675614,1.374812443087915,1.3763994785644487,0.20954640783588474,0.3344658816141513,-2.1098790196848967,0.5367893903275768,-0.5464041834590837,1.7701255317721094,0.9911185492373951,-1.831858888910831,-0.3197343382221082,-0.03144426316548922,-0.7145999792041241,0.0552858232740609,-1.338721708829007,0.923197690489228,0.7368405105614648,-0.628642418169745,0.5444548763628334,-1.5507106220555789],\"type\":\"box\"}],                        {\"legend\":{\"bgcolor\":\"#F5F6F9\",\"font\":{\"color\":\"#4D5663\"}},\"paper_bgcolor\":\"#F5F6F9\",\"plot_bgcolor\":\"#F5F6F9\",\"template\":{\"data\":{\"barpolar\":[{\"marker\":{\"line\":{\"color\":\"#E5ECF6\",\"width\":0.5},\"pattern\":{\"fillmode\":\"overlay\",\"size\":10,\"solidity\":0.2}},\"type\":\"barpolar\"}],\"bar\":[{\"error_x\":{\"color\":\"#2a3f5f\"},\"error_y\":{\"color\":\"#2a3f5f\"},\"marker\":{\"line\":{\"color\":\"#E5ECF6\",\"width\":0.5},\"pattern\":{\"fillmode\":\"overlay\",\"size\":10,\"solidity\":0.2}},\"type\":\"bar\"}],\"carpet\":[{\"aaxis\":{\"endlinecolor\":\"#2a3f5f\",\"gridcolor\":\"white\",\"linecolor\":\"white\",\"minorgridcolor\":\"white\",\"startlinecolor\":\"#2a3f5f\"},\"baxis\":{\"endlinecolor\":\"#2a3f5f\",\"gridcolor\":\"white\",\"linecolor\":\"white\",\"minorgridcolor\":\"white\",\"startlinecolor\":\"#2a3f5f\"},\"type\":\"carpet\"}],\"choropleth\":[{\"colorbar\":{\"outlinewidth\":0,\"ticks\":\"\"},\"type\":\"choropleth\"}],\"contourcarpet\":[{\"colorbar\":{\"outlinewidth\":0,\"ticks\":\"\"},\"type\":\"contourcarpet\"}],\"contour\":[{\"colorbar\":{\"outlinewidth\":0,\"ticks\":\"\"},\"colorscale\":[[0.0,\"#0d0887\"],[0.1111111111111111,\"#46039f\"],[0.2222222222222222,\"#7201a8\"],[0.3333333333333333,\"#9c179e\"],[0.4444444444444444,\"#bd3786\"],[0.5555555555555556,\"#d8576b\"],[0.6666666666666666,\"#ed7953\"],[0.7777777777777778,\"#fb9f3a\"],[0.8888888888888888,\"#fdca26\"],[1.0,\"#f0f921\"]],\"type\":\"contour\"}],\"heatmapgl\":[{\"colorbar\":{\"outlinewidth\":0,\"ticks\":\"\"},\"colorscale\":[[0.0,\"#0d0887\"],[0.1111111111111111,\"#46039f\"],[0.2222222222222222,\"#7201a8\"],[0.3333333333333333,\"#9c179e\"],[0.4444444444444444,\"#bd3786\"],[0.5555555555555556,\"#d8576b\"],[0.6666666666666666,\"#ed7953\"],[0.7777777777777778,\"#fb9f3a\"],[0.8888888888888888,\"#fdca26\"],[1.0,\"#f0f921\"]],\"type\":\"heatmapgl\"}],\"heatmap\":[{\"colorbar\":{\"outlinewidth\":0,\"ticks\":\"\"},\"colorscale\":[[0.0,\"#0d0887\"],[0.1111111111111111,\"#46039f\"],[0.2222222222222222,\"#7201a8\"],[0.3333333333333333,\"#9c179e\"],[0.4444444444444444,\"#bd3786\"],[0.5555555555555556,\"#d8576b\"],[0.6666666666666666,\"#ed7953\"],[0.7777777777777778,\"#fb9f3a\"],[0.8888888888888888,\"#fdca26\"],[1.0,\"#f0f921\"]],\"type\":\"heatmap\"}],\"histogram2dcontour\":[{\"colorbar\":{\"outlinewidth\":0,\"ticks\":\"\"},\"colorscale\":[[0.0,\"#0d0887\"],[0.1111111111111111,\"#46039f\"],[0.2222222222222222,\"#7201a8\"],[0.3333333333333333,\"#9c179e\"],[0.4444444444444444,\"#bd3786\"],[0.5555555555555556,\"#d8576b\"],[0.6666666666666666,\"#ed7953\"],[0.7777777777777778,\"#fb9f3a\"],[0.8888888888888888,\"#fdca26\"],[1.0,\"#f0f921\"]],\"type\":\"histogram2dcontour\"}],\"histogram2d\":[{\"colorbar\":{\"outlinewidth\":0,\"ticks\":\"\"},\"colorscale\":[[0.0,\"#0d0887\"],[0.1111111111111111,\"#46039f\"],[0.2222222222222222,\"#7201a8\"],[0.3333333333333333,\"#9c179e\"],[0.4444444444444444,\"#bd3786\"],[0.5555555555555556,\"#d8576b\"],[0.6666666666666666,\"#ed7953\"],[0.7777777777777778,\"#fb9f3a\"],[0.8888888888888888,\"#fdca26\"],[1.0,\"#f0f921\"]],\"type\":\"histogram2d\"}],\"histogram\":[{\"marker\":{\"pattern\":{\"fillmode\":\"overlay\",\"size\":10,\"solidity\":0.2}},\"type\":\"histogram\"}],\"mesh3d\":[{\"colorbar\":{\"outlinewidth\":0,\"ticks\":\"\"},\"type\":\"mesh3d\"}],\"parcoords\":[{\"line\":{\"colorbar\":{\"outlinewidth\":0,\"ticks\":\"\"}},\"type\":\"parcoords\"}],\"pie\":[{\"automargin\":true,\"type\":\"pie\"}],\"scatter3d\":[{\"line\":{\"colorbar\":{\"outlinewidth\":0,\"ticks\":\"\"}},\"marker\":{\"colorbar\":{\"outlinewidth\":0,\"ticks\":\"\"}},\"type\":\"scatter3d\"}],\"scattercarpet\":[{\"marker\":{\"colorbar\":{\"outlinewidth\":0,\"ticks\":\"\"}},\"type\":\"scattercarpet\"}],\"scattergeo\":[{\"marker\":{\"colorbar\":{\"outlinewidth\":0,\"ticks\":\"\"}},\"type\":\"scattergeo\"}],\"scattergl\":[{\"marker\":{\"colorbar\":{\"outlinewidth\":0,\"ticks\":\"\"}},\"type\":\"scattergl\"}],\"scattermapbox\":[{\"marker\":{\"colorbar\":{\"outlinewidth\":0,\"ticks\":\"\"}},\"type\":\"scattermapbox\"}],\"scatterpolargl\":[{\"marker\":{\"colorbar\":{\"outlinewidth\":0,\"ticks\":\"\"}},\"type\":\"scatterpolargl\"}],\"scatterpolar\":[{\"marker\":{\"colorbar\":{\"outlinewidth\":0,\"ticks\":\"\"}},\"type\":\"scatterpolar\"}],\"scatter\":[{\"fillpattern\":{\"fillmode\":\"overlay\",\"size\":10,\"solidity\":0.2},\"type\":\"scatter\"}],\"scatterternary\":[{\"marker\":{\"colorbar\":{\"outlinewidth\":0,\"ticks\":\"\"}},\"type\":\"scatterternary\"}],\"surface\":[{\"colorbar\":{\"outlinewidth\":0,\"ticks\":\"\"},\"colorscale\":[[0.0,\"#0d0887\"],[0.1111111111111111,\"#46039f\"],[0.2222222222222222,\"#7201a8\"],[0.3333333333333333,\"#9c179e\"],[0.4444444444444444,\"#bd3786\"],[0.5555555555555556,\"#d8576b\"],[0.6666666666666666,\"#ed7953\"],[0.7777777777777778,\"#fb9f3a\"],[0.8888888888888888,\"#fdca26\"],[1.0,\"#f0f921\"]],\"type\":\"surface\"}],\"table\":[{\"cells\":{\"fill\":{\"color\":\"#EBF0F8\"},\"line\":{\"color\":\"white\"}},\"header\":{\"fill\":{\"color\":\"#C8D4E3\"},\"line\":{\"color\":\"white\"}},\"type\":\"table\"}]},\"layout\":{\"annotationdefaults\":{\"arrowcolor\":\"#2a3f5f\",\"arrowhead\":0,\"arrowwidth\":1},\"autotypenumbers\":\"strict\",\"coloraxis\":{\"colorbar\":{\"outlinewidth\":0,\"ticks\":\"\"}},\"colorscale\":{\"diverging\":[[0,\"#8e0152\"],[0.1,\"#c51b7d\"],[0.2,\"#de77ae\"],[0.3,\"#f1b6da\"],[0.4,\"#fde0ef\"],[0.5,\"#f7f7f7\"],[0.6,\"#e6f5d0\"],[0.7,\"#b8e186\"],[0.8,\"#7fbc41\"],[0.9,\"#4d9221\"],[1,\"#276419\"]],\"sequential\":[[0.0,\"#0d0887\"],[0.1111111111111111,\"#46039f\"],[0.2222222222222222,\"#7201a8\"],[0.3333333333333333,\"#9c179e\"],[0.4444444444444444,\"#bd3786\"],[0.5555555555555556,\"#d8576b\"],[0.6666666666666666,\"#ed7953\"],[0.7777777777777778,\"#fb9f3a\"],[0.8888888888888888,\"#fdca26\"],[1.0,\"#f0f921\"]],\"sequentialminus\":[[0.0,\"#0d0887\"],[0.1111111111111111,\"#46039f\"],[0.2222222222222222,\"#7201a8\"],[0.3333333333333333,\"#9c179e\"],[0.4444444444444444,\"#bd3786\"],[0.5555555555555556,\"#d8576b\"],[0.6666666666666666,\"#ed7953\"],[0.7777777777777778,\"#fb9f3a\"],[0.8888888888888888,\"#fdca26\"],[1.0,\"#f0f921\"]]},\"colorway\":[\"#636efa\",\"#EF553B\",\"#00cc96\",\"#ab63fa\",\"#FFA15A\",\"#19d3f3\",\"#FF6692\",\"#B6E880\",\"#FF97FF\",\"#FECB52\"],\"font\":{\"color\":\"#2a3f5f\"},\"geo\":{\"bgcolor\":\"white\",\"lakecolor\":\"white\",\"landcolor\":\"#E5ECF6\",\"showlakes\":true,\"showland\":true,\"subunitcolor\":\"white\"},\"hoverlabel\":{\"align\":\"left\"},\"hovermode\":\"closest\",\"mapbox\":{\"style\":\"light\"},\"paper_bgcolor\":\"white\",\"plot_bgcolor\":\"#E5ECF6\",\"polar\":{\"angularaxis\":{\"gridcolor\":\"white\",\"linecolor\":\"white\",\"ticks\":\"\"},\"bgcolor\":\"#E5ECF6\",\"radialaxis\":{\"gridcolor\":\"white\",\"linecolor\":\"white\",\"ticks\":\"\"}},\"scene\":{\"xaxis\":{\"backgroundcolor\":\"#E5ECF6\",\"gridcolor\":\"white\",\"gridwidth\":2,\"linecolor\":\"white\",\"showbackground\":true,\"ticks\":\"\",\"zerolinecolor\":\"white\"},\"yaxis\":{\"backgroundcolor\":\"#E5ECF6\",\"gridcolor\":\"white\",\"gridwidth\":2,\"linecolor\":\"white\",\"showbackground\":true,\"ticks\":\"\",\"zerolinecolor\":\"white\"},\"zaxis\":{\"backgroundcolor\":\"#E5ECF6\",\"gridcolor\":\"white\",\"gridwidth\":2,\"linecolor\":\"white\",\"showbackground\":true,\"ticks\":\"\",\"zerolinecolor\":\"white\"}},\"shapedefaults\":{\"line\":{\"color\":\"#2a3f5f\"}},\"ternary\":{\"aaxis\":{\"gridcolor\":\"white\",\"linecolor\":\"white\",\"ticks\":\"\"},\"baxis\":{\"gridcolor\":\"white\",\"linecolor\":\"white\",\"ticks\":\"\"},\"bgcolor\":\"#E5ECF6\",\"caxis\":{\"gridcolor\":\"white\",\"linecolor\":\"white\",\"ticks\":\"\"}},\"title\":{\"x\":0.05},\"xaxis\":{\"automargin\":true,\"gridcolor\":\"white\",\"linecolor\":\"white\",\"ticks\":\"\",\"title\":{\"standoff\":15},\"zerolinecolor\":\"white\",\"zerolinewidth\":2},\"yaxis\":{\"automargin\":true,\"gridcolor\":\"white\",\"linecolor\":\"white\",\"ticks\":\"\",\"title\":{\"standoff\":15},\"zerolinecolor\":\"white\",\"zerolinewidth\":2}}},\"title\":{\"font\":{\"color\":\"#4D5663\"}},\"xaxis\":{\"gridcolor\":\"#E1E5ED\",\"showgrid\":true,\"tickfont\":{\"color\":\"#4D5663\"},\"title\":{\"font\":{\"color\":\"#4D5663\"},\"text\":\"\"},\"zerolinecolor\":\"#E1E5ED\"},\"yaxis\":{\"gridcolor\":\"#E1E5ED\",\"showgrid\":true,\"tickfont\":{\"color\":\"#4D5663\"},\"title\":{\"font\":{\"color\":\"#4D5663\"},\"text\":\"\"},\"zerolinecolor\":\"#E1E5ED\"}},                        {\"showLink\": true, \"linkText\": \"Export to plot.ly\", \"plotlyServerURL\": \"https://plot.ly\", \"responsive\": true}                    ).then(function(){\n",
       "                            \n",
       "var gd = document.getElementById('34e2e579-b1f0-470b-a3ff-98dcbe3d6159');\n",
       "var x = new MutationObserver(function (mutations, observer) {{\n",
       "        var display = window.getComputedStyle(gd).display;\n",
       "        if (!display || display === 'none') {{\n",
       "            console.log([gd, 'removed!']);\n",
       "            Plotly.purge(gd);\n",
       "            observer.disconnect();\n",
       "        }}\n",
       "}});\n",
       "\n",
       "// Listen for the removal of the full notebook cells\n",
       "var notebookContainer = gd.closest('#notebook-container');\n",
       "if (notebookContainer) {{\n",
       "    x.observe(notebookContainer, {childList: true});\n",
       "}}\n",
       "\n",
       "// Listen for the clearing of the current output cell\n",
       "var outputEl = gd.closest('.output');\n",
       "if (outputEl) {{\n",
       "    x.observe(outputEl, {childList: true});\n",
       "}}\n",
       "\n",
       "                        })                };                });            </script>        </div>"
      ]
     },
     "metadata": {},
     "output_type": "display_data"
    }
   ],
   "source": [
    "#box plot\n",
    "df.iplot(kind='box')"
   ]
  },
  {
   "cell_type": "code",
   "execution_count": null,
   "id": "e684fee1",
   "metadata": {},
   "outputs": [],
   "source": []
  },
  {
   "cell_type": "code",
   "execution_count": 34,
   "id": "a34b10aa",
   "metadata": {},
   "outputs": [],
   "source": [
    "df3 = pd.DataFrame({'x':[1,2,3,4,5],'y':[10,20,30,40,50],'z':[5,4,3,2,1]})"
   ]
  },
  {
   "cell_type": "code",
   "execution_count": 35,
   "id": "eb6347fd",
   "metadata": {},
   "outputs": [
    {
     "data": {
      "application/vnd.plotly.v1+json": {
       "config": {
        "linkText": "Export to plot.ly",
        "plotlyServerURL": "https://plot.ly",
        "showLink": true
       },
       "data": [
        {
         "colorscale": [
          [
           0,
           "rgb(165,0,38)"
          ],
          [
           0.1,
           "rgb(215,48,39)"
          ],
          [
           0.2,
           "rgb(244,109,67)"
          ],
          [
           0.3,
           "rgb(253,174,97)"
          ],
          [
           0.4,
           "rgb(254,224,144)"
          ],
          [
           0.5,
           "rgb(255,255,191)"
          ],
          [
           0.6,
           "rgb(224,243,248)"
          ],
          [
           0.7,
           "rgb(171,217,233)"
          ],
          [
           0.8,
           "rgb(116,173,209)"
          ],
          [
           0.9,
           "rgb(69,117,180)"
          ],
          [
           1,
           "rgb(49,54,149)"
          ]
         ],
         "type": "surface",
         "x": [
          0,
          1,
          2,
          3,
          4
         ],
         "y": [
          "x",
          "y",
          "z"
         ],
         "z": [
          [
           1,
           2,
           3,
           4,
           5
          ],
          [
           10,
           20,
           30,
           40,
           50
          ],
          [
           5,
           4,
           3,
           2,
           1
          ]
         ]
        }
       ],
       "layout": {
        "legend": {
         "bgcolor": "#F5F6F9",
         "font": {
          "color": "#4D5663"
         }
        },
        "paper_bgcolor": "#F5F6F9",
        "plot_bgcolor": "#F5F6F9",
        "template": {
         "data": {
          "bar": [
           {
            "error_x": {
             "color": "#2a3f5f"
            },
            "error_y": {
             "color": "#2a3f5f"
            },
            "marker": {
             "line": {
              "color": "#E5ECF6",
              "width": 0.5
             },
             "pattern": {
              "fillmode": "overlay",
              "size": 10,
              "solidity": 0.2
             }
            },
            "type": "bar"
           }
          ],
          "barpolar": [
           {
            "marker": {
             "line": {
              "color": "#E5ECF6",
              "width": 0.5
             },
             "pattern": {
              "fillmode": "overlay",
              "size": 10,
              "solidity": 0.2
             }
            },
            "type": "barpolar"
           }
          ],
          "carpet": [
           {
            "aaxis": {
             "endlinecolor": "#2a3f5f",
             "gridcolor": "white",
             "linecolor": "white",
             "minorgridcolor": "white",
             "startlinecolor": "#2a3f5f"
            },
            "baxis": {
             "endlinecolor": "#2a3f5f",
             "gridcolor": "white",
             "linecolor": "white",
             "minorgridcolor": "white",
             "startlinecolor": "#2a3f5f"
            },
            "type": "carpet"
           }
          ],
          "choropleth": [
           {
            "colorbar": {
             "outlinewidth": 0,
             "ticks": ""
            },
            "type": "choropleth"
           }
          ],
          "contour": [
           {
            "colorbar": {
             "outlinewidth": 0,
             "ticks": ""
            },
            "colorscale": [
             [
              0,
              "#0d0887"
             ],
             [
              0.1111111111111111,
              "#46039f"
             ],
             [
              0.2222222222222222,
              "#7201a8"
             ],
             [
              0.3333333333333333,
              "#9c179e"
             ],
             [
              0.4444444444444444,
              "#bd3786"
             ],
             [
              0.5555555555555556,
              "#d8576b"
             ],
             [
              0.6666666666666666,
              "#ed7953"
             ],
             [
              0.7777777777777778,
              "#fb9f3a"
             ],
             [
              0.8888888888888888,
              "#fdca26"
             ],
             [
              1,
              "#f0f921"
             ]
            ],
            "type": "contour"
           }
          ],
          "contourcarpet": [
           {
            "colorbar": {
             "outlinewidth": 0,
             "ticks": ""
            },
            "type": "contourcarpet"
           }
          ],
          "heatmap": [
           {
            "colorbar": {
             "outlinewidth": 0,
             "ticks": ""
            },
            "colorscale": [
             [
              0,
              "#0d0887"
             ],
             [
              0.1111111111111111,
              "#46039f"
             ],
             [
              0.2222222222222222,
              "#7201a8"
             ],
             [
              0.3333333333333333,
              "#9c179e"
             ],
             [
              0.4444444444444444,
              "#bd3786"
             ],
             [
              0.5555555555555556,
              "#d8576b"
             ],
             [
              0.6666666666666666,
              "#ed7953"
             ],
             [
              0.7777777777777778,
              "#fb9f3a"
             ],
             [
              0.8888888888888888,
              "#fdca26"
             ],
             [
              1,
              "#f0f921"
             ]
            ],
            "type": "heatmap"
           }
          ],
          "heatmapgl": [
           {
            "colorbar": {
             "outlinewidth": 0,
             "ticks": ""
            },
            "colorscale": [
             [
              0,
              "#0d0887"
             ],
             [
              0.1111111111111111,
              "#46039f"
             ],
             [
              0.2222222222222222,
              "#7201a8"
             ],
             [
              0.3333333333333333,
              "#9c179e"
             ],
             [
              0.4444444444444444,
              "#bd3786"
             ],
             [
              0.5555555555555556,
              "#d8576b"
             ],
             [
              0.6666666666666666,
              "#ed7953"
             ],
             [
              0.7777777777777778,
              "#fb9f3a"
             ],
             [
              0.8888888888888888,
              "#fdca26"
             ],
             [
              1,
              "#f0f921"
             ]
            ],
            "type": "heatmapgl"
           }
          ],
          "histogram": [
           {
            "marker": {
             "pattern": {
              "fillmode": "overlay",
              "size": 10,
              "solidity": 0.2
             }
            },
            "type": "histogram"
           }
          ],
          "histogram2d": [
           {
            "colorbar": {
             "outlinewidth": 0,
             "ticks": ""
            },
            "colorscale": [
             [
              0,
              "#0d0887"
             ],
             [
              0.1111111111111111,
              "#46039f"
             ],
             [
              0.2222222222222222,
              "#7201a8"
             ],
             [
              0.3333333333333333,
              "#9c179e"
             ],
             [
              0.4444444444444444,
              "#bd3786"
             ],
             [
              0.5555555555555556,
              "#d8576b"
             ],
             [
              0.6666666666666666,
              "#ed7953"
             ],
             [
              0.7777777777777778,
              "#fb9f3a"
             ],
             [
              0.8888888888888888,
              "#fdca26"
             ],
             [
              1,
              "#f0f921"
             ]
            ],
            "type": "histogram2d"
           }
          ],
          "histogram2dcontour": [
           {
            "colorbar": {
             "outlinewidth": 0,
             "ticks": ""
            },
            "colorscale": [
             [
              0,
              "#0d0887"
             ],
             [
              0.1111111111111111,
              "#46039f"
             ],
             [
              0.2222222222222222,
              "#7201a8"
             ],
             [
              0.3333333333333333,
              "#9c179e"
             ],
             [
              0.4444444444444444,
              "#bd3786"
             ],
             [
              0.5555555555555556,
              "#d8576b"
             ],
             [
              0.6666666666666666,
              "#ed7953"
             ],
             [
              0.7777777777777778,
              "#fb9f3a"
             ],
             [
              0.8888888888888888,
              "#fdca26"
             ],
             [
              1,
              "#f0f921"
             ]
            ],
            "type": "histogram2dcontour"
           }
          ],
          "mesh3d": [
           {
            "colorbar": {
             "outlinewidth": 0,
             "ticks": ""
            },
            "type": "mesh3d"
           }
          ],
          "parcoords": [
           {
            "line": {
             "colorbar": {
              "outlinewidth": 0,
              "ticks": ""
             }
            },
            "type": "parcoords"
           }
          ],
          "pie": [
           {
            "automargin": true,
            "type": "pie"
           }
          ],
          "scatter": [
           {
            "fillpattern": {
             "fillmode": "overlay",
             "size": 10,
             "solidity": 0.2
            },
            "type": "scatter"
           }
          ],
          "scatter3d": [
           {
            "line": {
             "colorbar": {
              "outlinewidth": 0,
              "ticks": ""
             }
            },
            "marker": {
             "colorbar": {
              "outlinewidth": 0,
              "ticks": ""
             }
            },
            "type": "scatter3d"
           }
          ],
          "scattercarpet": [
           {
            "marker": {
             "colorbar": {
              "outlinewidth": 0,
              "ticks": ""
             }
            },
            "type": "scattercarpet"
           }
          ],
          "scattergeo": [
           {
            "marker": {
             "colorbar": {
              "outlinewidth": 0,
              "ticks": ""
             }
            },
            "type": "scattergeo"
           }
          ],
          "scattergl": [
           {
            "marker": {
             "colorbar": {
              "outlinewidth": 0,
              "ticks": ""
             }
            },
            "type": "scattergl"
           }
          ],
          "scattermapbox": [
           {
            "marker": {
             "colorbar": {
              "outlinewidth": 0,
              "ticks": ""
             }
            },
            "type": "scattermapbox"
           }
          ],
          "scatterpolar": [
           {
            "marker": {
             "colorbar": {
              "outlinewidth": 0,
              "ticks": ""
             }
            },
            "type": "scatterpolar"
           }
          ],
          "scatterpolargl": [
           {
            "marker": {
             "colorbar": {
              "outlinewidth": 0,
              "ticks": ""
             }
            },
            "type": "scatterpolargl"
           }
          ],
          "scatterternary": [
           {
            "marker": {
             "colorbar": {
              "outlinewidth": 0,
              "ticks": ""
             }
            },
            "type": "scatterternary"
           }
          ],
          "surface": [
           {
            "colorbar": {
             "outlinewidth": 0,
             "ticks": ""
            },
            "colorscale": [
             [
              0,
              "#0d0887"
             ],
             [
              0.1111111111111111,
              "#46039f"
             ],
             [
              0.2222222222222222,
              "#7201a8"
             ],
             [
              0.3333333333333333,
              "#9c179e"
             ],
             [
              0.4444444444444444,
              "#bd3786"
             ],
             [
              0.5555555555555556,
              "#d8576b"
             ],
             [
              0.6666666666666666,
              "#ed7953"
             ],
             [
              0.7777777777777778,
              "#fb9f3a"
             ],
             [
              0.8888888888888888,
              "#fdca26"
             ],
             [
              1,
              "#f0f921"
             ]
            ],
            "type": "surface"
           }
          ],
          "table": [
           {
            "cells": {
             "fill": {
              "color": "#EBF0F8"
             },
             "line": {
              "color": "white"
             }
            },
            "header": {
             "fill": {
              "color": "#C8D4E3"
             },
             "line": {
              "color": "white"
             }
            },
            "type": "table"
           }
          ]
         },
         "layout": {
          "annotationdefaults": {
           "arrowcolor": "#2a3f5f",
           "arrowhead": 0,
           "arrowwidth": 1
          },
          "autotypenumbers": "strict",
          "coloraxis": {
           "colorbar": {
            "outlinewidth": 0,
            "ticks": ""
           }
          },
          "colorscale": {
           "diverging": [
            [
             0,
             "#8e0152"
            ],
            [
             0.1,
             "#c51b7d"
            ],
            [
             0.2,
             "#de77ae"
            ],
            [
             0.3,
             "#f1b6da"
            ],
            [
             0.4,
             "#fde0ef"
            ],
            [
             0.5,
             "#f7f7f7"
            ],
            [
             0.6,
             "#e6f5d0"
            ],
            [
             0.7,
             "#b8e186"
            ],
            [
             0.8,
             "#7fbc41"
            ],
            [
             0.9,
             "#4d9221"
            ],
            [
             1,
             "#276419"
            ]
           ],
           "sequential": [
            [
             0,
             "#0d0887"
            ],
            [
             0.1111111111111111,
             "#46039f"
            ],
            [
             0.2222222222222222,
             "#7201a8"
            ],
            [
             0.3333333333333333,
             "#9c179e"
            ],
            [
             0.4444444444444444,
             "#bd3786"
            ],
            [
             0.5555555555555556,
             "#d8576b"
            ],
            [
             0.6666666666666666,
             "#ed7953"
            ],
            [
             0.7777777777777778,
             "#fb9f3a"
            ],
            [
             0.8888888888888888,
             "#fdca26"
            ],
            [
             1,
             "#f0f921"
            ]
           ],
           "sequentialminus": [
            [
             0,
             "#0d0887"
            ],
            [
             0.1111111111111111,
             "#46039f"
            ],
            [
             0.2222222222222222,
             "#7201a8"
            ],
            [
             0.3333333333333333,
             "#9c179e"
            ],
            [
             0.4444444444444444,
             "#bd3786"
            ],
            [
             0.5555555555555556,
             "#d8576b"
            ],
            [
             0.6666666666666666,
             "#ed7953"
            ],
            [
             0.7777777777777778,
             "#fb9f3a"
            ],
            [
             0.8888888888888888,
             "#fdca26"
            ],
            [
             1,
             "#f0f921"
            ]
           ]
          },
          "colorway": [
           "#636efa",
           "#EF553B",
           "#00cc96",
           "#ab63fa",
           "#FFA15A",
           "#19d3f3",
           "#FF6692",
           "#B6E880",
           "#FF97FF",
           "#FECB52"
          ],
          "font": {
           "color": "#2a3f5f"
          },
          "geo": {
           "bgcolor": "white",
           "lakecolor": "white",
           "landcolor": "#E5ECF6",
           "showlakes": true,
           "showland": true,
           "subunitcolor": "white"
          },
          "hoverlabel": {
           "align": "left"
          },
          "hovermode": "closest",
          "mapbox": {
           "style": "light"
          },
          "paper_bgcolor": "white",
          "plot_bgcolor": "#E5ECF6",
          "polar": {
           "angularaxis": {
            "gridcolor": "white",
            "linecolor": "white",
            "ticks": ""
           },
           "bgcolor": "#E5ECF6",
           "radialaxis": {
            "gridcolor": "white",
            "linecolor": "white",
            "ticks": ""
           }
          },
          "scene": {
           "xaxis": {
            "backgroundcolor": "#E5ECF6",
            "gridcolor": "white",
            "gridwidth": 2,
            "linecolor": "white",
            "showbackground": true,
            "ticks": "",
            "zerolinecolor": "white"
           },
           "yaxis": {
            "backgroundcolor": "#E5ECF6",
            "gridcolor": "white",
            "gridwidth": 2,
            "linecolor": "white",
            "showbackground": true,
            "ticks": "",
            "zerolinecolor": "white"
           },
           "zaxis": {
            "backgroundcolor": "#E5ECF6",
            "gridcolor": "white",
            "gridwidth": 2,
            "linecolor": "white",
            "showbackground": true,
            "ticks": "",
            "zerolinecolor": "white"
           }
          },
          "shapedefaults": {
           "line": {
            "color": "#2a3f5f"
           }
          },
          "ternary": {
           "aaxis": {
            "gridcolor": "white",
            "linecolor": "white",
            "ticks": ""
           },
           "baxis": {
            "gridcolor": "white",
            "linecolor": "white",
            "ticks": ""
           },
           "bgcolor": "#E5ECF6",
           "caxis": {
            "gridcolor": "white",
            "linecolor": "white",
            "ticks": ""
           }
          },
          "title": {
           "x": 0.05
          },
          "xaxis": {
           "automargin": true,
           "gridcolor": "white",
           "linecolor": "white",
           "ticks": "",
           "title": {
            "standoff": 15
           },
           "zerolinecolor": "white",
           "zerolinewidth": 2
          },
          "yaxis": {
           "automargin": true,
           "gridcolor": "white",
           "linecolor": "white",
           "ticks": "",
           "title": {
            "standoff": 15
           },
           "zerolinecolor": "white",
           "zerolinewidth": 2
          }
         }
        },
        "title": {
         "font": {
          "color": "#4D5663"
         }
        },
        "xaxis": {
         "gridcolor": "#E1E5ED",
         "showgrid": true,
         "tickfont": {
          "color": "#4D5663"
         },
         "title": {
          "font": {
           "color": "#4D5663"
          },
          "text": ""
         },
         "zerolinecolor": "#E1E5ED"
        },
        "yaxis": {
         "gridcolor": "#E1E5ED",
         "showgrid": true,
         "tickfont": {
          "color": "#4D5663"
         },
         "title": {
          "font": {
           "color": "#4D5663"
          },
          "text": ""
         },
         "zerolinecolor": "#E1E5ED"
        }
       }
      },
      "text/html": [
       "<div>                            <div id=\"3a8a5a29-4726-4baf-bf75-d06827c5e4cc\" class=\"plotly-graph-div\" style=\"height:525px; width:100%;\"></div>            <script type=\"text/javascript\">                require([\"plotly\"], function(Plotly) {                    window.PLOTLYENV=window.PLOTLYENV || {};\n",
       "                    window.PLOTLYENV.BASE_URL='https://plot.ly';                                    if (document.getElementById(\"3a8a5a29-4726-4baf-bf75-d06827c5e4cc\")) {                    Plotly.newPlot(                        \"3a8a5a29-4726-4baf-bf75-d06827c5e4cc\",                        [{\"colorscale\":[[0.0,\"rgb(165,0,38)\"],[0.1,\"rgb(215,48,39)\"],[0.2,\"rgb(244,109,67)\"],[0.3,\"rgb(253,174,97)\"],[0.4,\"rgb(254,224,144)\"],[0.5,\"rgb(255,255,191)\"],[0.6,\"rgb(224,243,248)\"],[0.7,\"rgb(171,217,233)\"],[0.8,\"rgb(116,173,209)\"],[0.9,\"rgb(69,117,180)\"],[1.0,\"rgb(49,54,149)\"]],\"x\":[0,1,2,3,4],\"y\":[\"x\",\"y\",\"z\"],\"z\":[[1,2,3,4,5],[10,20,30,40,50],[5,4,3,2,1]],\"type\":\"surface\"}],                        {\"legend\":{\"bgcolor\":\"#F5F6F9\",\"font\":{\"color\":\"#4D5663\"}},\"paper_bgcolor\":\"#F5F6F9\",\"plot_bgcolor\":\"#F5F6F9\",\"template\":{\"data\":{\"barpolar\":[{\"marker\":{\"line\":{\"color\":\"#E5ECF6\",\"width\":0.5},\"pattern\":{\"fillmode\":\"overlay\",\"size\":10,\"solidity\":0.2}},\"type\":\"barpolar\"}],\"bar\":[{\"error_x\":{\"color\":\"#2a3f5f\"},\"error_y\":{\"color\":\"#2a3f5f\"},\"marker\":{\"line\":{\"color\":\"#E5ECF6\",\"width\":0.5},\"pattern\":{\"fillmode\":\"overlay\",\"size\":10,\"solidity\":0.2}},\"type\":\"bar\"}],\"carpet\":[{\"aaxis\":{\"endlinecolor\":\"#2a3f5f\",\"gridcolor\":\"white\",\"linecolor\":\"white\",\"minorgridcolor\":\"white\",\"startlinecolor\":\"#2a3f5f\"},\"baxis\":{\"endlinecolor\":\"#2a3f5f\",\"gridcolor\":\"white\",\"linecolor\":\"white\",\"minorgridcolor\":\"white\",\"startlinecolor\":\"#2a3f5f\"},\"type\":\"carpet\"}],\"choropleth\":[{\"colorbar\":{\"outlinewidth\":0,\"ticks\":\"\"},\"type\":\"choropleth\"}],\"contourcarpet\":[{\"colorbar\":{\"outlinewidth\":0,\"ticks\":\"\"},\"type\":\"contourcarpet\"}],\"contour\":[{\"colorbar\":{\"outlinewidth\":0,\"ticks\":\"\"},\"colorscale\":[[0.0,\"#0d0887\"],[0.1111111111111111,\"#46039f\"],[0.2222222222222222,\"#7201a8\"],[0.3333333333333333,\"#9c179e\"],[0.4444444444444444,\"#bd3786\"],[0.5555555555555556,\"#d8576b\"],[0.6666666666666666,\"#ed7953\"],[0.7777777777777778,\"#fb9f3a\"],[0.8888888888888888,\"#fdca26\"],[1.0,\"#f0f921\"]],\"type\":\"contour\"}],\"heatmapgl\":[{\"colorbar\":{\"outlinewidth\":0,\"ticks\":\"\"},\"colorscale\":[[0.0,\"#0d0887\"],[0.1111111111111111,\"#46039f\"],[0.2222222222222222,\"#7201a8\"],[0.3333333333333333,\"#9c179e\"],[0.4444444444444444,\"#bd3786\"],[0.5555555555555556,\"#d8576b\"],[0.6666666666666666,\"#ed7953\"],[0.7777777777777778,\"#fb9f3a\"],[0.8888888888888888,\"#fdca26\"],[1.0,\"#f0f921\"]],\"type\":\"heatmapgl\"}],\"heatmap\":[{\"colorbar\":{\"outlinewidth\":0,\"ticks\":\"\"},\"colorscale\":[[0.0,\"#0d0887\"],[0.1111111111111111,\"#46039f\"],[0.2222222222222222,\"#7201a8\"],[0.3333333333333333,\"#9c179e\"],[0.4444444444444444,\"#bd3786\"],[0.5555555555555556,\"#d8576b\"],[0.6666666666666666,\"#ed7953\"],[0.7777777777777778,\"#fb9f3a\"],[0.8888888888888888,\"#fdca26\"],[1.0,\"#f0f921\"]],\"type\":\"heatmap\"}],\"histogram2dcontour\":[{\"colorbar\":{\"outlinewidth\":0,\"ticks\":\"\"},\"colorscale\":[[0.0,\"#0d0887\"],[0.1111111111111111,\"#46039f\"],[0.2222222222222222,\"#7201a8\"],[0.3333333333333333,\"#9c179e\"],[0.4444444444444444,\"#bd3786\"],[0.5555555555555556,\"#d8576b\"],[0.6666666666666666,\"#ed7953\"],[0.7777777777777778,\"#fb9f3a\"],[0.8888888888888888,\"#fdca26\"],[1.0,\"#f0f921\"]],\"type\":\"histogram2dcontour\"}],\"histogram2d\":[{\"colorbar\":{\"outlinewidth\":0,\"ticks\":\"\"},\"colorscale\":[[0.0,\"#0d0887\"],[0.1111111111111111,\"#46039f\"],[0.2222222222222222,\"#7201a8\"],[0.3333333333333333,\"#9c179e\"],[0.4444444444444444,\"#bd3786\"],[0.5555555555555556,\"#d8576b\"],[0.6666666666666666,\"#ed7953\"],[0.7777777777777778,\"#fb9f3a\"],[0.8888888888888888,\"#fdca26\"],[1.0,\"#f0f921\"]],\"type\":\"histogram2d\"}],\"histogram\":[{\"marker\":{\"pattern\":{\"fillmode\":\"overlay\",\"size\":10,\"solidity\":0.2}},\"type\":\"histogram\"}],\"mesh3d\":[{\"colorbar\":{\"outlinewidth\":0,\"ticks\":\"\"},\"type\":\"mesh3d\"}],\"parcoords\":[{\"line\":{\"colorbar\":{\"outlinewidth\":0,\"ticks\":\"\"}},\"type\":\"parcoords\"}],\"pie\":[{\"automargin\":true,\"type\":\"pie\"}],\"scatter3d\":[{\"line\":{\"colorbar\":{\"outlinewidth\":0,\"ticks\":\"\"}},\"marker\":{\"colorbar\":{\"outlinewidth\":0,\"ticks\":\"\"}},\"type\":\"scatter3d\"}],\"scattercarpet\":[{\"marker\":{\"colorbar\":{\"outlinewidth\":0,\"ticks\":\"\"}},\"type\":\"scattercarpet\"}],\"scattergeo\":[{\"marker\":{\"colorbar\":{\"outlinewidth\":0,\"ticks\":\"\"}},\"type\":\"scattergeo\"}],\"scattergl\":[{\"marker\":{\"colorbar\":{\"outlinewidth\":0,\"ticks\":\"\"}},\"type\":\"scattergl\"}],\"scattermapbox\":[{\"marker\":{\"colorbar\":{\"outlinewidth\":0,\"ticks\":\"\"}},\"type\":\"scattermapbox\"}],\"scatterpolargl\":[{\"marker\":{\"colorbar\":{\"outlinewidth\":0,\"ticks\":\"\"}},\"type\":\"scatterpolargl\"}],\"scatterpolar\":[{\"marker\":{\"colorbar\":{\"outlinewidth\":0,\"ticks\":\"\"}},\"type\":\"scatterpolar\"}],\"scatter\":[{\"fillpattern\":{\"fillmode\":\"overlay\",\"size\":10,\"solidity\":0.2},\"type\":\"scatter\"}],\"scatterternary\":[{\"marker\":{\"colorbar\":{\"outlinewidth\":0,\"ticks\":\"\"}},\"type\":\"scatterternary\"}],\"surface\":[{\"colorbar\":{\"outlinewidth\":0,\"ticks\":\"\"},\"colorscale\":[[0.0,\"#0d0887\"],[0.1111111111111111,\"#46039f\"],[0.2222222222222222,\"#7201a8\"],[0.3333333333333333,\"#9c179e\"],[0.4444444444444444,\"#bd3786\"],[0.5555555555555556,\"#d8576b\"],[0.6666666666666666,\"#ed7953\"],[0.7777777777777778,\"#fb9f3a\"],[0.8888888888888888,\"#fdca26\"],[1.0,\"#f0f921\"]],\"type\":\"surface\"}],\"table\":[{\"cells\":{\"fill\":{\"color\":\"#EBF0F8\"},\"line\":{\"color\":\"white\"}},\"header\":{\"fill\":{\"color\":\"#C8D4E3\"},\"line\":{\"color\":\"white\"}},\"type\":\"table\"}]},\"layout\":{\"annotationdefaults\":{\"arrowcolor\":\"#2a3f5f\",\"arrowhead\":0,\"arrowwidth\":1},\"autotypenumbers\":\"strict\",\"coloraxis\":{\"colorbar\":{\"outlinewidth\":0,\"ticks\":\"\"}},\"colorscale\":{\"diverging\":[[0,\"#8e0152\"],[0.1,\"#c51b7d\"],[0.2,\"#de77ae\"],[0.3,\"#f1b6da\"],[0.4,\"#fde0ef\"],[0.5,\"#f7f7f7\"],[0.6,\"#e6f5d0\"],[0.7,\"#b8e186\"],[0.8,\"#7fbc41\"],[0.9,\"#4d9221\"],[1,\"#276419\"]],\"sequential\":[[0.0,\"#0d0887\"],[0.1111111111111111,\"#46039f\"],[0.2222222222222222,\"#7201a8\"],[0.3333333333333333,\"#9c179e\"],[0.4444444444444444,\"#bd3786\"],[0.5555555555555556,\"#d8576b\"],[0.6666666666666666,\"#ed7953\"],[0.7777777777777778,\"#fb9f3a\"],[0.8888888888888888,\"#fdca26\"],[1.0,\"#f0f921\"]],\"sequentialminus\":[[0.0,\"#0d0887\"],[0.1111111111111111,\"#46039f\"],[0.2222222222222222,\"#7201a8\"],[0.3333333333333333,\"#9c179e\"],[0.4444444444444444,\"#bd3786\"],[0.5555555555555556,\"#d8576b\"],[0.6666666666666666,\"#ed7953\"],[0.7777777777777778,\"#fb9f3a\"],[0.8888888888888888,\"#fdca26\"],[1.0,\"#f0f921\"]]},\"colorway\":[\"#636efa\",\"#EF553B\",\"#00cc96\",\"#ab63fa\",\"#FFA15A\",\"#19d3f3\",\"#FF6692\",\"#B6E880\",\"#FF97FF\",\"#FECB52\"],\"font\":{\"color\":\"#2a3f5f\"},\"geo\":{\"bgcolor\":\"white\",\"lakecolor\":\"white\",\"landcolor\":\"#E5ECF6\",\"showlakes\":true,\"showland\":true,\"subunitcolor\":\"white\"},\"hoverlabel\":{\"align\":\"left\"},\"hovermode\":\"closest\",\"mapbox\":{\"style\":\"light\"},\"paper_bgcolor\":\"white\",\"plot_bgcolor\":\"#E5ECF6\",\"polar\":{\"angularaxis\":{\"gridcolor\":\"white\",\"linecolor\":\"white\",\"ticks\":\"\"},\"bgcolor\":\"#E5ECF6\",\"radialaxis\":{\"gridcolor\":\"white\",\"linecolor\":\"white\",\"ticks\":\"\"}},\"scene\":{\"xaxis\":{\"backgroundcolor\":\"#E5ECF6\",\"gridcolor\":\"white\",\"gridwidth\":2,\"linecolor\":\"white\",\"showbackground\":true,\"ticks\":\"\",\"zerolinecolor\":\"white\"},\"yaxis\":{\"backgroundcolor\":\"#E5ECF6\",\"gridcolor\":\"white\",\"gridwidth\":2,\"linecolor\":\"white\",\"showbackground\":true,\"ticks\":\"\",\"zerolinecolor\":\"white\"},\"zaxis\":{\"backgroundcolor\":\"#E5ECF6\",\"gridcolor\":\"white\",\"gridwidth\":2,\"linecolor\":\"white\",\"showbackground\":true,\"ticks\":\"\",\"zerolinecolor\":\"white\"}},\"shapedefaults\":{\"line\":{\"color\":\"#2a3f5f\"}},\"ternary\":{\"aaxis\":{\"gridcolor\":\"white\",\"linecolor\":\"white\",\"ticks\":\"\"},\"baxis\":{\"gridcolor\":\"white\",\"linecolor\":\"white\",\"ticks\":\"\"},\"bgcolor\":\"#E5ECF6\",\"caxis\":{\"gridcolor\":\"white\",\"linecolor\":\"white\",\"ticks\":\"\"}},\"title\":{\"x\":0.05},\"xaxis\":{\"automargin\":true,\"gridcolor\":\"white\",\"linecolor\":\"white\",\"ticks\":\"\",\"title\":{\"standoff\":15},\"zerolinecolor\":\"white\",\"zerolinewidth\":2},\"yaxis\":{\"automargin\":true,\"gridcolor\":\"white\",\"linecolor\":\"white\",\"ticks\":\"\",\"title\":{\"standoff\":15},\"zerolinecolor\":\"white\",\"zerolinewidth\":2}}},\"title\":{\"font\":{\"color\":\"#4D5663\"}},\"xaxis\":{\"gridcolor\":\"#E1E5ED\",\"showgrid\":true,\"tickfont\":{\"color\":\"#4D5663\"},\"title\":{\"font\":{\"color\":\"#4D5663\"},\"text\":\"\"},\"zerolinecolor\":\"#E1E5ED\"},\"yaxis\":{\"gridcolor\":\"#E1E5ED\",\"showgrid\":true,\"tickfont\":{\"color\":\"#4D5663\"},\"title\":{\"font\":{\"color\":\"#4D5663\"},\"text\":\"\"},\"zerolinecolor\":\"#E1E5ED\"}},                        {\"showLink\": true, \"linkText\": \"Export to plot.ly\", \"plotlyServerURL\": \"https://plot.ly\", \"responsive\": true}                    ).then(function(){\n",
       "                            \n",
       "var gd = document.getElementById('3a8a5a29-4726-4baf-bf75-d06827c5e4cc');\n",
       "var x = new MutationObserver(function (mutations, observer) {{\n",
       "        var display = window.getComputedStyle(gd).display;\n",
       "        if (!display || display === 'none') {{\n",
       "            console.log([gd, 'removed!']);\n",
       "            Plotly.purge(gd);\n",
       "            observer.disconnect();\n",
       "        }}\n",
       "}});\n",
       "\n",
       "// Listen for the removal of the full notebook cells\n",
       "var notebookContainer = gd.closest('#notebook-container');\n",
       "if (notebookContainer) {{\n",
       "    x.observe(notebookContainer, {childList: true});\n",
       "}}\n",
       "\n",
       "// Listen for the clearing of the current output cell\n",
       "var outputEl = gd.closest('.output');\n",
       "if (outputEl) {{\n",
       "    x.observe(outputEl, {childList: true});\n",
       "}}\n",
       "\n",
       "                        })                };                });            </script>        </div>"
      ]
     },
     "metadata": {},
     "output_type": "display_data"
    }
   ],
   "source": [
    "# 3 dimensional surface plot\n",
    "df3.iplot(kind='surface',colorscale='rdylbu')"
   ]
  },
  {
   "cell_type": "code",
   "execution_count": 36,
   "id": "06eb8d4a",
   "metadata": {},
   "outputs": [
    {
     "data": {
      "application/vnd.plotly.v1+json": {
       "config": {
        "linkText": "Export to plot.ly",
        "plotlyServerURL": "https://plot.ly",
        "showLink": true
       },
       "data": [
        {
         "histfunc": "count",
         "histnorm": "",
         "marker": {
          "color": "rgba(255, 153, 51, 1.0)",
          "line": {
           "color": "#4D5663",
           "width": 1.3
          }
         },
         "name": "A",
         "opacity": 0.8,
         "orientation": "v",
         "type": "histogram",
         "x": [
          -0.24869303225749126,
          -2.388145795579333,
          0.7052569495813963,
          0.8921836516207222,
          -0.8641832945932809,
          0.12474763473727571,
          0.9771147206925541,
          -1.120879746434406,
          2.083325158822628,
          -0.14292514964191178,
          -1.1312169975938375,
          -0.11607697197171943,
          -2.180363608406877,
          -1.109061809100249,
          1.1778238870317181,
          0.7910259440816909,
          0.645202281124067,
          -0.1742790933800676,
          0.8225032314842339,
          0.29877822246100105,
          0.36722046683406245,
          1.2324544434409372,
          -1.7020118796248933,
          1.7042326155461203,
          -1.4450455739935764,
          -0.78545924825664,
          2.06296995198097,
          0.3665990108761806,
          -1.116799652901445,
          0.7366232257112952,
          0.6809107980964005,
          0.4337169537228572,
          0.5054307038730637,
          -0.9015199558765126,
          1.2400228835450735,
          -0.0764876321557282,
          1.5777026737325832,
          -0.09862690109282116,
          0.7644500967843794,
          0.17103982442114465,
          0.37321438050746564,
          -0.1021660818701845,
          -2.351357285273254,
          0.8671154218975321,
          0.9128969618550399,
          0.17785238425044794,
          0.21187259997227123,
          0.050938673505943645,
          0.6563964094079809,
          0.053649786152871054,
          -0.0197549209834424,
          1.5798149195593896,
          0.791318635261723,
          -0.9025588999319102,
          1.656944673728671,
          -0.8269206687359101,
          0.06556319052433303,
          -0.8214461312213147,
          2.187880503422802,
          -0.46944316735562686,
          -0.7370885868139803,
          0.8165338304816602,
          -0.9054807194666195,
          -1.3809585264041093,
          -0.7458765995206087,
          0.18823758886614955,
          1.3784227314336097,
          -1.0036999714454244,
          -0.8559179530591503,
          -1.5808922630144657,
          -1.0890433281306702,
          0.6087193993857751,
          1.2516196623031353,
          -0.7354149576024046,
          0.2891258014135116,
          0.07985900771739284,
          -1.215018118998959,
          0.31249748403780464,
          0.9175732377339435,
          -1.041267348022098,
          -1.069969287706913,
          1.4965582109974387,
          2.639408794995632,
          0.9601098331096278,
          0.31731584401142465,
          -2.0170362462039684,
          0.9816338696585786,
          1.5190162401027576,
          0.15579596719864214,
          0.27471292445643963,
          -0.63239828780116,
          -1.0501242325930704,
          0.8160338670311766,
          -1.0935321627740018,
          -0.8056994370048624,
          0.32500050683722304,
          0.30487108890472714,
          -0.31497417629318075,
          2.0218995987796933,
          0.4843579882960143
         ]
        },
        {
         "histfunc": "count",
         "histnorm": "",
         "marker": {
          "color": "rgba(55, 128, 191, 1.0)",
          "line": {
           "color": "#4D5663",
           "width": 1.3
          }
         },
         "name": "B",
         "opacity": 0.8,
         "orientation": "v",
         "type": "histogram",
         "x": [
          -0.612674881396858,
          -0.2369623864621897,
          0.884172060253383,
          1.1599681389449998,
          1.541433973431705,
          -0.024482749390586922,
          -0.010581934928280717,
          0.4208804279380881,
          -1.055904482828417,
          -0.5731293410391528,
          0.6136951834885712,
          0.3788139488071389,
          -0.7236246217565258,
          -0.9832872929064812,
          -0.04584667102425731,
          1.0990096326338898,
          -0.4894552325381044,
          0.09207295202927872,
          0.8907023697335712,
          1.071647550161279,
          -0.09772605038866598,
          -0.5573372268161606,
          2.1569812897937672,
          -0.3138297576026716,
          0.967564149880955,
          0.5283041481971225,
          1.275552520971748,
          -0.23814452995452495,
          1.3686369305494708,
          0.4554414353012013,
          0.17261064038033674,
          -1.2790756257079117,
          -1.668432178436465,
          -0.7589722147586523,
          -1.1217293268341164,
          0.1457960988457628,
          -2.460171601392952,
          1.1224080996706933,
          -0.5718735010119889,
          0.7480470173720155,
          -0.03113393613510434,
          1.6490615045790034,
          0.05753332794358935,
          -0.20428125058288318,
          -2.0075424792795133,
          0.667885385351891,
          0.0636282659190983,
          -0.011188874517152437,
          2.049007627401017,
          -1.5848630631660825,
          -0.9622210929462339,
          -0.8431124359578438,
          0.05754501771367724,
          -1.2870024758751444,
          -0.19727806101733522,
          1.3001919306481338,
          0.3064075043148491,
          0.07117476930400782,
          -0.96812683843896,
          1.82880823196082,
          1.5559339345907204,
          1.7050542509227609,
          1.7171720163798219,
          0.42589246627030913,
          -2.3660287467420225,
          -1.5323420715419014,
          1.9884957118847637,
          -0.7216381285780816,
          -0.9380010074166955,
          0.16306318472752554,
          -0.7425934426726053,
          -0.9707420414928241,
          -2.0238789682217306,
          0.20622339294902128,
          0.29403482434209716,
          0.12147098035639514,
          0.20258350462675498,
          -0.2992269193093349,
          0.22115912154903292,
          -1.7790002822602209,
          -1.872050479776317,
          -0.43176879529106,
          0.940906565069375,
          1.3443483421299551,
          -0.8062940834059503,
          -0.15012732876279758,
          0.20043931984963673,
          0.22002772846606183,
          -1.4076957323909052,
          1.36507767965311,
          0.5463241272540051,
          1.9568592851420272,
          -0.886230842336463,
          -0.24970954645615465,
          1.4577791399977678,
          -1.0263047973016162,
          -1.0009532490096018,
          -0.28890730822092503,
          1.072250787176654,
          0.45805736391766777
         ]
        },
        {
         "histfunc": "count",
         "histnorm": "",
         "marker": {
          "color": "rgba(50, 171, 96, 1.0)",
          "line": {
           "color": "#4D5663",
           "width": 1.3
          }
         },
         "name": "C",
         "opacity": 0.8,
         "orientation": "v",
         "type": "histogram",
         "x": [
          -2.1875962710340633,
          1.2043466892488253,
          -0.2624637021694007,
          -0.044774519494937354,
          -0.38828732945577965,
          -1.7604191184675766,
          -0.8330320826323994,
          -0.45260597178575424,
          0.37666516698609703,
          -0.45075330251265217,
          -0.4543014386060515,
          -1.6818125208376644,
          -0.777172441623389,
          -1.115031723523379,
          -0.2828639849820452,
          1.5109558788259014,
          0.3497580319219913,
          -0.7986845728658987,
          -2.304293194629496,
          0.13818781871544455,
          -0.8568120676938925,
          0.1283511008423489,
          -1.6464870113713808,
          0.1509732009457024,
          0.48580680075115507,
          0.8844256749558661,
          0.863925568233306,
          -0.424112327916965,
          -1.023377757860004,
          -1.2429516240004856,
          0.4644114102285322,
          -0.10295568470534225,
          1.1343980376200298,
          0.5952729060364006,
          -0.944905980125573,
          -0.5918297192626695,
          -1.9362958830669315,
          0.7773084542894089,
          -0.7025040256192104,
          -0.6721361405389769,
          0.22489473295161644,
          -1.2072044451488124,
          -0.6679812924099646,
          0.20072281504376818,
          -0.06894227862165513,
          0.21307238240542759,
          0.8622619083858662,
          -0.9334003090979155,
          -0.04407152633317502,
          0.3703242459554553,
          -1.5132386818086954,
          1.704751495814103,
          -0.35615570204659286,
          -0.4074435132315458,
          -0.4803434654367431,
          -0.5228307576630105,
          2.1418357368651204,
          -0.5378629661350438,
          -0.8789667540700302,
          -0.679433912537144,
          2.166892421079014,
          2.526250778691885,
          1.0743531852444916,
          0.9990476667989842,
          0.9265298440916431,
          0.42914042026948807,
          -0.4111111006921592,
          -0.7268320997806266,
          -0.6605936820905781,
          -2.04184195646119,
          -0.14404800610251542,
          -0.07021136849345204,
          0.5959802125115937,
          2.3055706612204316,
          -0.39023861984682784,
          -0.2870649687792531,
          -0.241642459550871,
          0.43550553077105064,
          0.3272146563694911,
          -0.37076963719152484,
          -1.2705471688439887,
          -1.0400727555021632,
          0.1039131879954186,
          0.008023775137617924,
          0.8491798895964642,
          -0.03897877933284549,
          1.0028909315813694,
          -0.32044741849232344,
          2.1146621360431057,
          1.9176799493258965,
          -1.2039507080103085,
          1.6289595320326293,
          0.1337860305895442,
          1.0994080407915758,
          -0.2758949893549994,
          0.011838560565450105,
          1.5341262281452326,
          -0.36978117398831484,
          1.6380429951546858,
          0.7304392696016989
         ]
        },
        {
         "histfunc": "count",
         "histnorm": "",
         "marker": {
          "color": "rgba(128, 0, 128, 1.0)",
          "line": {
           "color": "#4D5663",
           "width": 1.3
          }
         },
         "name": "D",
         "opacity": 0.8,
         "orientation": "v",
         "type": "histogram",
         "x": [
          -1.5897221946627162,
          0.3881534151264451,
          0.2772944841151599,
          1.298330640559541,
          0.8568091610919952,
          -1.486106835229758,
          -1.0862231370818147,
          0.5748087439840773,
          1.026628771340924,
          -0.4141700103142258,
          0.30538030427163665,
          -0.012805826093219381,
          -2.0749459185303816,
          0.8672918118015417,
          0.07451223055141265,
          -1.4561635949972151,
          -0.5360852317698505,
          0.3265984770476418,
          0.8368502744859896,
          -0.07877931097570023,
          0.30867488169765506,
          -0.9617878067606253,
          -1.4812539643895888,
          0.19203346442859506,
          1.0976284998357833,
          2.66715863939564,
          -0.6873804694129563,
          0.9948807074855572,
          -0.36959070183480014,
          -0.18158394365251512,
          0.34071102177736184,
          1.9530310396655668,
          1.503513220409165,
          -0.32346215040040593,
          -0.08263971729847629,
          -1.5292671827037791,
          0.28974899643705376,
          0.4631692021102995,
          0.8071285959134398,
          -0.9225761376000622,
          0.8235374860706418,
          -1.4003448077047984,
          0.7472141205820891,
          0.09259546962931467,
          -0.13428263434801724,
          0.22832046417331497,
          -0.7557896338030863,
          0.5533146148613863,
          -2.2699352226812253,
          -0.6861455007876447,
          0.5353727580331634,
          0.6991968133340193,
          2.2640420510689365,
          0.9316723073168875,
          -0.4747759199341716,
          0.5320410779272005,
          1.024932640201076,
          0.14427840861954674,
          -1.0822146534072383,
          0.3105510034526434,
          0.5891865162490424,
          -0.7105178812376683,
          0.3334024361608685,
          -0.01715749825336284,
          1.0880748291362126,
          0.7982450519963034,
          0.9505168604870251,
          -0.4029352598200969,
          1.4491594657254252,
          0.20045013807179224,
          -0.40928058030959946,
          0.5972644954771477,
          0.4809926819086426,
          -1.2633582269604677,
          -0.38106444879833234,
          1.0058960599684232,
          -0.5053756209038799,
          -0.3861065428798655,
          0.7108175908518505,
          -0.16554681207675614,
          1.374812443087915,
          1.3763994785644487,
          0.20954640783588474,
          0.3344658816141513,
          -2.1098790196848967,
          0.5367893903275768,
          -0.5464041834590837,
          1.7701255317721094,
          0.9911185492373951,
          -1.831858888910831,
          -0.3197343382221082,
          -0.03144426316548922,
          -0.7145999792041241,
          0.0552858232740609,
          -1.338721708829007,
          0.923197690489228,
          0.7368405105614648,
          -0.628642418169745,
          0.5444548763628334,
          -1.5507106220555789
         ]
        }
       ],
       "layout": {
        "barmode": "overlay",
        "legend": {
         "bgcolor": "#F5F6F9",
         "font": {
          "color": "#4D5663"
         }
        },
        "paper_bgcolor": "#F5F6F9",
        "plot_bgcolor": "#F5F6F9",
        "template": {
         "data": {
          "bar": [
           {
            "error_x": {
             "color": "#2a3f5f"
            },
            "error_y": {
             "color": "#2a3f5f"
            },
            "marker": {
             "line": {
              "color": "#E5ECF6",
              "width": 0.5
             },
             "pattern": {
              "fillmode": "overlay",
              "size": 10,
              "solidity": 0.2
             }
            },
            "type": "bar"
           }
          ],
          "barpolar": [
           {
            "marker": {
             "line": {
              "color": "#E5ECF6",
              "width": 0.5
             },
             "pattern": {
              "fillmode": "overlay",
              "size": 10,
              "solidity": 0.2
             }
            },
            "type": "barpolar"
           }
          ],
          "carpet": [
           {
            "aaxis": {
             "endlinecolor": "#2a3f5f",
             "gridcolor": "white",
             "linecolor": "white",
             "minorgridcolor": "white",
             "startlinecolor": "#2a3f5f"
            },
            "baxis": {
             "endlinecolor": "#2a3f5f",
             "gridcolor": "white",
             "linecolor": "white",
             "minorgridcolor": "white",
             "startlinecolor": "#2a3f5f"
            },
            "type": "carpet"
           }
          ],
          "choropleth": [
           {
            "colorbar": {
             "outlinewidth": 0,
             "ticks": ""
            },
            "type": "choropleth"
           }
          ],
          "contour": [
           {
            "colorbar": {
             "outlinewidth": 0,
             "ticks": ""
            },
            "colorscale": [
             [
              0,
              "#0d0887"
             ],
             [
              0.1111111111111111,
              "#46039f"
             ],
             [
              0.2222222222222222,
              "#7201a8"
             ],
             [
              0.3333333333333333,
              "#9c179e"
             ],
             [
              0.4444444444444444,
              "#bd3786"
             ],
             [
              0.5555555555555556,
              "#d8576b"
             ],
             [
              0.6666666666666666,
              "#ed7953"
             ],
             [
              0.7777777777777778,
              "#fb9f3a"
             ],
             [
              0.8888888888888888,
              "#fdca26"
             ],
             [
              1,
              "#f0f921"
             ]
            ],
            "type": "contour"
           }
          ],
          "contourcarpet": [
           {
            "colorbar": {
             "outlinewidth": 0,
             "ticks": ""
            },
            "type": "contourcarpet"
           }
          ],
          "heatmap": [
           {
            "colorbar": {
             "outlinewidth": 0,
             "ticks": ""
            },
            "colorscale": [
             [
              0,
              "#0d0887"
             ],
             [
              0.1111111111111111,
              "#46039f"
             ],
             [
              0.2222222222222222,
              "#7201a8"
             ],
             [
              0.3333333333333333,
              "#9c179e"
             ],
             [
              0.4444444444444444,
              "#bd3786"
             ],
             [
              0.5555555555555556,
              "#d8576b"
             ],
             [
              0.6666666666666666,
              "#ed7953"
             ],
             [
              0.7777777777777778,
              "#fb9f3a"
             ],
             [
              0.8888888888888888,
              "#fdca26"
             ],
             [
              1,
              "#f0f921"
             ]
            ],
            "type": "heatmap"
           }
          ],
          "heatmapgl": [
           {
            "colorbar": {
             "outlinewidth": 0,
             "ticks": ""
            },
            "colorscale": [
             [
              0,
              "#0d0887"
             ],
             [
              0.1111111111111111,
              "#46039f"
             ],
             [
              0.2222222222222222,
              "#7201a8"
             ],
             [
              0.3333333333333333,
              "#9c179e"
             ],
             [
              0.4444444444444444,
              "#bd3786"
             ],
             [
              0.5555555555555556,
              "#d8576b"
             ],
             [
              0.6666666666666666,
              "#ed7953"
             ],
             [
              0.7777777777777778,
              "#fb9f3a"
             ],
             [
              0.8888888888888888,
              "#fdca26"
             ],
             [
              1,
              "#f0f921"
             ]
            ],
            "type": "heatmapgl"
           }
          ],
          "histogram": [
           {
            "marker": {
             "pattern": {
              "fillmode": "overlay",
              "size": 10,
              "solidity": 0.2
             }
            },
            "type": "histogram"
           }
          ],
          "histogram2d": [
           {
            "colorbar": {
             "outlinewidth": 0,
             "ticks": ""
            },
            "colorscale": [
             [
              0,
              "#0d0887"
             ],
             [
              0.1111111111111111,
              "#46039f"
             ],
             [
              0.2222222222222222,
              "#7201a8"
             ],
             [
              0.3333333333333333,
              "#9c179e"
             ],
             [
              0.4444444444444444,
              "#bd3786"
             ],
             [
              0.5555555555555556,
              "#d8576b"
             ],
             [
              0.6666666666666666,
              "#ed7953"
             ],
             [
              0.7777777777777778,
              "#fb9f3a"
             ],
             [
              0.8888888888888888,
              "#fdca26"
             ],
             [
              1,
              "#f0f921"
             ]
            ],
            "type": "histogram2d"
           }
          ],
          "histogram2dcontour": [
           {
            "colorbar": {
             "outlinewidth": 0,
             "ticks": ""
            },
            "colorscale": [
             [
              0,
              "#0d0887"
             ],
             [
              0.1111111111111111,
              "#46039f"
             ],
             [
              0.2222222222222222,
              "#7201a8"
             ],
             [
              0.3333333333333333,
              "#9c179e"
             ],
             [
              0.4444444444444444,
              "#bd3786"
             ],
             [
              0.5555555555555556,
              "#d8576b"
             ],
             [
              0.6666666666666666,
              "#ed7953"
             ],
             [
              0.7777777777777778,
              "#fb9f3a"
             ],
             [
              0.8888888888888888,
              "#fdca26"
             ],
             [
              1,
              "#f0f921"
             ]
            ],
            "type": "histogram2dcontour"
           }
          ],
          "mesh3d": [
           {
            "colorbar": {
             "outlinewidth": 0,
             "ticks": ""
            },
            "type": "mesh3d"
           }
          ],
          "parcoords": [
           {
            "line": {
             "colorbar": {
              "outlinewidth": 0,
              "ticks": ""
             }
            },
            "type": "parcoords"
           }
          ],
          "pie": [
           {
            "automargin": true,
            "type": "pie"
           }
          ],
          "scatter": [
           {
            "fillpattern": {
             "fillmode": "overlay",
             "size": 10,
             "solidity": 0.2
            },
            "type": "scatter"
           }
          ],
          "scatter3d": [
           {
            "line": {
             "colorbar": {
              "outlinewidth": 0,
              "ticks": ""
             }
            },
            "marker": {
             "colorbar": {
              "outlinewidth": 0,
              "ticks": ""
             }
            },
            "type": "scatter3d"
           }
          ],
          "scattercarpet": [
           {
            "marker": {
             "colorbar": {
              "outlinewidth": 0,
              "ticks": ""
             }
            },
            "type": "scattercarpet"
           }
          ],
          "scattergeo": [
           {
            "marker": {
             "colorbar": {
              "outlinewidth": 0,
              "ticks": ""
             }
            },
            "type": "scattergeo"
           }
          ],
          "scattergl": [
           {
            "marker": {
             "colorbar": {
              "outlinewidth": 0,
              "ticks": ""
             }
            },
            "type": "scattergl"
           }
          ],
          "scattermapbox": [
           {
            "marker": {
             "colorbar": {
              "outlinewidth": 0,
              "ticks": ""
             }
            },
            "type": "scattermapbox"
           }
          ],
          "scatterpolar": [
           {
            "marker": {
             "colorbar": {
              "outlinewidth": 0,
              "ticks": ""
             }
            },
            "type": "scatterpolar"
           }
          ],
          "scatterpolargl": [
           {
            "marker": {
             "colorbar": {
              "outlinewidth": 0,
              "ticks": ""
             }
            },
            "type": "scatterpolargl"
           }
          ],
          "scatterternary": [
           {
            "marker": {
             "colorbar": {
              "outlinewidth": 0,
              "ticks": ""
             }
            },
            "type": "scatterternary"
           }
          ],
          "surface": [
           {
            "colorbar": {
             "outlinewidth": 0,
             "ticks": ""
            },
            "colorscale": [
             [
              0,
              "#0d0887"
             ],
             [
              0.1111111111111111,
              "#46039f"
             ],
             [
              0.2222222222222222,
              "#7201a8"
             ],
             [
              0.3333333333333333,
              "#9c179e"
             ],
             [
              0.4444444444444444,
              "#bd3786"
             ],
             [
              0.5555555555555556,
              "#d8576b"
             ],
             [
              0.6666666666666666,
              "#ed7953"
             ],
             [
              0.7777777777777778,
              "#fb9f3a"
             ],
             [
              0.8888888888888888,
              "#fdca26"
             ],
             [
              1,
              "#f0f921"
             ]
            ],
            "type": "surface"
           }
          ],
          "table": [
           {
            "cells": {
             "fill": {
              "color": "#EBF0F8"
             },
             "line": {
              "color": "white"
             }
            },
            "header": {
             "fill": {
              "color": "#C8D4E3"
             },
             "line": {
              "color": "white"
             }
            },
            "type": "table"
           }
          ]
         },
         "layout": {
          "annotationdefaults": {
           "arrowcolor": "#2a3f5f",
           "arrowhead": 0,
           "arrowwidth": 1
          },
          "autotypenumbers": "strict",
          "coloraxis": {
           "colorbar": {
            "outlinewidth": 0,
            "ticks": ""
           }
          },
          "colorscale": {
           "diverging": [
            [
             0,
             "#8e0152"
            ],
            [
             0.1,
             "#c51b7d"
            ],
            [
             0.2,
             "#de77ae"
            ],
            [
             0.3,
             "#f1b6da"
            ],
            [
             0.4,
             "#fde0ef"
            ],
            [
             0.5,
             "#f7f7f7"
            ],
            [
             0.6,
             "#e6f5d0"
            ],
            [
             0.7,
             "#b8e186"
            ],
            [
             0.8,
             "#7fbc41"
            ],
            [
             0.9,
             "#4d9221"
            ],
            [
             1,
             "#276419"
            ]
           ],
           "sequential": [
            [
             0,
             "#0d0887"
            ],
            [
             0.1111111111111111,
             "#46039f"
            ],
            [
             0.2222222222222222,
             "#7201a8"
            ],
            [
             0.3333333333333333,
             "#9c179e"
            ],
            [
             0.4444444444444444,
             "#bd3786"
            ],
            [
             0.5555555555555556,
             "#d8576b"
            ],
            [
             0.6666666666666666,
             "#ed7953"
            ],
            [
             0.7777777777777778,
             "#fb9f3a"
            ],
            [
             0.8888888888888888,
             "#fdca26"
            ],
            [
             1,
             "#f0f921"
            ]
           ],
           "sequentialminus": [
            [
             0,
             "#0d0887"
            ],
            [
             0.1111111111111111,
             "#46039f"
            ],
            [
             0.2222222222222222,
             "#7201a8"
            ],
            [
             0.3333333333333333,
             "#9c179e"
            ],
            [
             0.4444444444444444,
             "#bd3786"
            ],
            [
             0.5555555555555556,
             "#d8576b"
            ],
            [
             0.6666666666666666,
             "#ed7953"
            ],
            [
             0.7777777777777778,
             "#fb9f3a"
            ],
            [
             0.8888888888888888,
             "#fdca26"
            ],
            [
             1,
             "#f0f921"
            ]
           ]
          },
          "colorway": [
           "#636efa",
           "#EF553B",
           "#00cc96",
           "#ab63fa",
           "#FFA15A",
           "#19d3f3",
           "#FF6692",
           "#B6E880",
           "#FF97FF",
           "#FECB52"
          ],
          "font": {
           "color": "#2a3f5f"
          },
          "geo": {
           "bgcolor": "white",
           "lakecolor": "white",
           "landcolor": "#E5ECF6",
           "showlakes": true,
           "showland": true,
           "subunitcolor": "white"
          },
          "hoverlabel": {
           "align": "left"
          },
          "hovermode": "closest",
          "mapbox": {
           "style": "light"
          },
          "paper_bgcolor": "white",
          "plot_bgcolor": "#E5ECF6",
          "polar": {
           "angularaxis": {
            "gridcolor": "white",
            "linecolor": "white",
            "ticks": ""
           },
           "bgcolor": "#E5ECF6",
           "radialaxis": {
            "gridcolor": "white",
            "linecolor": "white",
            "ticks": ""
           }
          },
          "scene": {
           "xaxis": {
            "backgroundcolor": "#E5ECF6",
            "gridcolor": "white",
            "gridwidth": 2,
            "linecolor": "white",
            "showbackground": true,
            "ticks": "",
            "zerolinecolor": "white"
           },
           "yaxis": {
            "backgroundcolor": "#E5ECF6",
            "gridcolor": "white",
            "gridwidth": 2,
            "linecolor": "white",
            "showbackground": true,
            "ticks": "",
            "zerolinecolor": "white"
           },
           "zaxis": {
            "backgroundcolor": "#E5ECF6",
            "gridcolor": "white",
            "gridwidth": 2,
            "linecolor": "white",
            "showbackground": true,
            "ticks": "",
            "zerolinecolor": "white"
           }
          },
          "shapedefaults": {
           "line": {
            "color": "#2a3f5f"
           }
          },
          "ternary": {
           "aaxis": {
            "gridcolor": "white",
            "linecolor": "white",
            "ticks": ""
           },
           "baxis": {
            "gridcolor": "white",
            "linecolor": "white",
            "ticks": ""
           },
           "bgcolor": "#E5ECF6",
           "caxis": {
            "gridcolor": "white",
            "linecolor": "white",
            "ticks": ""
           }
          },
          "title": {
           "x": 0.05
          },
          "xaxis": {
           "automargin": true,
           "gridcolor": "white",
           "linecolor": "white",
           "ticks": "",
           "title": {
            "standoff": 15
           },
           "zerolinecolor": "white",
           "zerolinewidth": 2
          },
          "yaxis": {
           "automargin": true,
           "gridcolor": "white",
           "linecolor": "white",
           "ticks": "",
           "title": {
            "standoff": 15
           },
           "zerolinecolor": "white",
           "zerolinewidth": 2
          }
         }
        },
        "title": {
         "font": {
          "color": "#4D5663"
         }
        },
        "xaxis": {
         "gridcolor": "#E1E5ED",
         "showgrid": true,
         "tickfont": {
          "color": "#4D5663"
         },
         "title": {
          "font": {
           "color": "#4D5663"
          },
          "text": ""
         },
         "zerolinecolor": "#E1E5ED"
        },
        "yaxis": {
         "gridcolor": "#E1E5ED",
         "showgrid": true,
         "tickfont": {
          "color": "#4D5663"
         },
         "title": {
          "font": {
           "color": "#4D5663"
          },
          "text": ""
         },
         "zerolinecolor": "#E1E5ED"
        }
       }
      },
      "text/html": [
       "<div>                            <div id=\"f6aa369b-6897-442c-9347-138ff66ae4a3\" class=\"plotly-graph-div\" style=\"height:525px; width:100%;\"></div>            <script type=\"text/javascript\">                require([\"plotly\"], function(Plotly) {                    window.PLOTLYENV=window.PLOTLYENV || {};\n",
       "                    window.PLOTLYENV.BASE_URL='https://plot.ly';                                    if (document.getElementById(\"f6aa369b-6897-442c-9347-138ff66ae4a3\")) {                    Plotly.newPlot(                        \"f6aa369b-6897-442c-9347-138ff66ae4a3\",                        [{\"histfunc\":\"count\",\"histnorm\":\"\",\"marker\":{\"color\":\"rgba(255, 153, 51, 1.0)\",\"line\":{\"color\":\"#4D5663\",\"width\":1.3}},\"name\":\"A\",\"opacity\":0.8,\"orientation\":\"v\",\"x\":[-0.24869303225749126,-2.388145795579333,0.7052569495813963,0.8921836516207222,-0.8641832945932809,0.12474763473727571,0.9771147206925541,-1.120879746434406,2.083325158822628,-0.14292514964191178,-1.1312169975938375,-0.11607697197171943,-2.180363608406877,-1.109061809100249,1.1778238870317181,0.7910259440816909,0.645202281124067,-0.1742790933800676,0.8225032314842339,0.29877822246100105,0.36722046683406245,1.2324544434409372,-1.7020118796248933,1.7042326155461203,-1.4450455739935764,-0.78545924825664,2.06296995198097,0.3665990108761806,-1.116799652901445,0.7366232257112952,0.6809107980964005,0.4337169537228572,0.5054307038730637,-0.9015199558765126,1.2400228835450735,-0.0764876321557282,1.5777026737325832,-0.09862690109282116,0.7644500967843794,0.17103982442114465,0.37321438050746564,-0.1021660818701845,-2.351357285273254,0.8671154218975321,0.9128969618550399,0.17785238425044794,0.21187259997227123,0.050938673505943645,0.6563964094079809,0.053649786152871054,-0.0197549209834424,1.5798149195593896,0.791318635261723,-0.9025588999319102,1.656944673728671,-0.8269206687359101,0.06556319052433303,-0.8214461312213147,2.187880503422802,-0.46944316735562686,-0.7370885868139803,0.8165338304816602,-0.9054807194666195,-1.3809585264041093,-0.7458765995206087,0.18823758886614955,1.3784227314336097,-1.0036999714454244,-0.8559179530591503,-1.5808922630144657,-1.0890433281306702,0.6087193993857751,1.2516196623031353,-0.7354149576024046,0.2891258014135116,0.07985900771739284,-1.215018118998959,0.31249748403780464,0.9175732377339435,-1.041267348022098,-1.069969287706913,1.4965582109974387,2.639408794995632,0.9601098331096278,0.31731584401142465,-2.0170362462039684,0.9816338696585786,1.5190162401027576,0.15579596719864214,0.27471292445643963,-0.63239828780116,-1.0501242325930704,0.8160338670311766,-1.0935321627740018,-0.8056994370048624,0.32500050683722304,0.30487108890472714,-0.31497417629318075,2.0218995987796933,0.4843579882960143],\"type\":\"histogram\"},{\"histfunc\":\"count\",\"histnorm\":\"\",\"marker\":{\"color\":\"rgba(55, 128, 191, 1.0)\",\"line\":{\"color\":\"#4D5663\",\"width\":1.3}},\"name\":\"B\",\"opacity\":0.8,\"orientation\":\"v\",\"x\":[-0.612674881396858,-0.2369623864621897,0.884172060253383,1.1599681389449998,1.541433973431705,-0.024482749390586922,-0.010581934928280717,0.4208804279380881,-1.055904482828417,-0.5731293410391528,0.6136951834885712,0.3788139488071389,-0.7236246217565258,-0.9832872929064812,-0.04584667102425731,1.0990096326338898,-0.4894552325381044,0.09207295202927872,0.8907023697335712,1.071647550161279,-0.09772605038866598,-0.5573372268161606,2.1569812897937672,-0.3138297576026716,0.967564149880955,0.5283041481971225,1.275552520971748,-0.23814452995452495,1.3686369305494708,0.4554414353012013,0.17261064038033674,-1.2790756257079117,-1.668432178436465,-0.7589722147586523,-1.1217293268341164,0.1457960988457628,-2.460171601392952,1.1224080996706933,-0.5718735010119889,0.7480470173720155,-0.03113393613510434,1.6490615045790034,0.05753332794358935,-0.20428125058288318,-2.0075424792795133,0.667885385351891,0.0636282659190983,-0.011188874517152437,2.049007627401017,-1.5848630631660825,-0.9622210929462339,-0.8431124359578438,0.05754501771367724,-1.2870024758751444,-0.19727806101733522,1.3001919306481338,0.3064075043148491,0.07117476930400782,-0.96812683843896,1.82880823196082,1.5559339345907204,1.7050542509227609,1.7171720163798219,0.42589246627030913,-2.3660287467420225,-1.5323420715419014,1.9884957118847637,-0.7216381285780816,-0.9380010074166955,0.16306318472752554,-0.7425934426726053,-0.9707420414928241,-2.0238789682217306,0.20622339294902128,0.29403482434209716,0.12147098035639514,0.20258350462675498,-0.2992269193093349,0.22115912154903292,-1.7790002822602209,-1.872050479776317,-0.43176879529106,0.940906565069375,1.3443483421299551,-0.8062940834059503,-0.15012732876279758,0.20043931984963673,0.22002772846606183,-1.4076957323909052,1.36507767965311,0.5463241272540051,1.9568592851420272,-0.886230842336463,-0.24970954645615465,1.4577791399977678,-1.0263047973016162,-1.0009532490096018,-0.28890730822092503,1.072250787176654,0.45805736391766777],\"type\":\"histogram\"},{\"histfunc\":\"count\",\"histnorm\":\"\",\"marker\":{\"color\":\"rgba(50, 171, 96, 1.0)\",\"line\":{\"color\":\"#4D5663\",\"width\":1.3}},\"name\":\"C\",\"opacity\":0.8,\"orientation\":\"v\",\"x\":[-2.1875962710340633,1.2043466892488253,-0.2624637021694007,-0.044774519494937354,-0.38828732945577965,-1.7604191184675766,-0.8330320826323994,-0.45260597178575424,0.37666516698609703,-0.45075330251265217,-0.4543014386060515,-1.6818125208376644,-0.777172441623389,-1.115031723523379,-0.2828639849820452,1.5109558788259014,0.3497580319219913,-0.7986845728658987,-2.304293194629496,0.13818781871544455,-0.8568120676938925,0.1283511008423489,-1.6464870113713808,0.1509732009457024,0.48580680075115507,0.8844256749558661,0.863925568233306,-0.424112327916965,-1.023377757860004,-1.2429516240004856,0.4644114102285322,-0.10295568470534225,1.1343980376200298,0.5952729060364006,-0.944905980125573,-0.5918297192626695,-1.9362958830669315,0.7773084542894089,-0.7025040256192104,-0.6721361405389769,0.22489473295161644,-1.2072044451488124,-0.6679812924099646,0.20072281504376818,-0.06894227862165513,0.21307238240542759,0.8622619083858662,-0.9334003090979155,-0.04407152633317502,0.3703242459554553,-1.5132386818086954,1.704751495814103,-0.35615570204659286,-0.4074435132315458,-0.4803434654367431,-0.5228307576630105,2.1418357368651204,-0.5378629661350438,-0.8789667540700302,-0.679433912537144,2.166892421079014,2.526250778691885,1.0743531852444916,0.9990476667989842,0.9265298440916431,0.42914042026948807,-0.4111111006921592,-0.7268320997806266,-0.6605936820905781,-2.04184195646119,-0.14404800610251542,-0.07021136849345204,0.5959802125115937,2.3055706612204316,-0.39023861984682784,-0.2870649687792531,-0.241642459550871,0.43550553077105064,0.3272146563694911,-0.37076963719152484,-1.2705471688439887,-1.0400727555021632,0.1039131879954186,0.008023775137617924,0.8491798895964642,-0.03897877933284549,1.0028909315813694,-0.32044741849232344,2.1146621360431057,1.9176799493258965,-1.2039507080103085,1.6289595320326293,0.1337860305895442,1.0994080407915758,-0.2758949893549994,0.011838560565450105,1.5341262281452326,-0.36978117398831484,1.6380429951546858,0.7304392696016989],\"type\":\"histogram\"},{\"histfunc\":\"count\",\"histnorm\":\"\",\"marker\":{\"color\":\"rgba(128, 0, 128, 1.0)\",\"line\":{\"color\":\"#4D5663\",\"width\":1.3}},\"name\":\"D\",\"opacity\":0.8,\"orientation\":\"v\",\"x\":[-1.5897221946627162,0.3881534151264451,0.2772944841151599,1.298330640559541,0.8568091610919952,-1.486106835229758,-1.0862231370818147,0.5748087439840773,1.026628771340924,-0.4141700103142258,0.30538030427163665,-0.012805826093219381,-2.0749459185303816,0.8672918118015417,0.07451223055141265,-1.4561635949972151,-0.5360852317698505,0.3265984770476418,0.8368502744859896,-0.07877931097570023,0.30867488169765506,-0.9617878067606253,-1.4812539643895888,0.19203346442859506,1.0976284998357833,2.66715863939564,-0.6873804694129563,0.9948807074855572,-0.36959070183480014,-0.18158394365251512,0.34071102177736184,1.9530310396655668,1.503513220409165,-0.32346215040040593,-0.08263971729847629,-1.5292671827037791,0.28974899643705376,0.4631692021102995,0.8071285959134398,-0.9225761376000622,0.8235374860706418,-1.4003448077047984,0.7472141205820891,0.09259546962931467,-0.13428263434801724,0.22832046417331497,-0.7557896338030863,0.5533146148613863,-2.2699352226812253,-0.6861455007876447,0.5353727580331634,0.6991968133340193,2.2640420510689365,0.9316723073168875,-0.4747759199341716,0.5320410779272005,1.024932640201076,0.14427840861954674,-1.0822146534072383,0.3105510034526434,0.5891865162490424,-0.7105178812376683,0.3334024361608685,-0.01715749825336284,1.0880748291362126,0.7982450519963034,0.9505168604870251,-0.4029352598200969,1.4491594657254252,0.20045013807179224,-0.40928058030959946,0.5972644954771477,0.4809926819086426,-1.2633582269604677,-0.38106444879833234,1.0058960599684232,-0.5053756209038799,-0.3861065428798655,0.7108175908518505,-0.16554681207675614,1.374812443087915,1.3763994785644487,0.20954640783588474,0.3344658816141513,-2.1098790196848967,0.5367893903275768,-0.5464041834590837,1.7701255317721094,0.9911185492373951,-1.831858888910831,-0.3197343382221082,-0.03144426316548922,-0.7145999792041241,0.0552858232740609,-1.338721708829007,0.923197690489228,0.7368405105614648,-0.628642418169745,0.5444548763628334,-1.5507106220555789],\"type\":\"histogram\"}],                        {\"barmode\":\"overlay\",\"legend\":{\"bgcolor\":\"#F5F6F9\",\"font\":{\"color\":\"#4D5663\"}},\"paper_bgcolor\":\"#F5F6F9\",\"plot_bgcolor\":\"#F5F6F9\",\"template\":{\"data\":{\"barpolar\":[{\"marker\":{\"line\":{\"color\":\"#E5ECF6\",\"width\":0.5},\"pattern\":{\"fillmode\":\"overlay\",\"size\":10,\"solidity\":0.2}},\"type\":\"barpolar\"}],\"bar\":[{\"error_x\":{\"color\":\"#2a3f5f\"},\"error_y\":{\"color\":\"#2a3f5f\"},\"marker\":{\"line\":{\"color\":\"#E5ECF6\",\"width\":0.5},\"pattern\":{\"fillmode\":\"overlay\",\"size\":10,\"solidity\":0.2}},\"type\":\"bar\"}],\"carpet\":[{\"aaxis\":{\"endlinecolor\":\"#2a3f5f\",\"gridcolor\":\"white\",\"linecolor\":\"white\",\"minorgridcolor\":\"white\",\"startlinecolor\":\"#2a3f5f\"},\"baxis\":{\"endlinecolor\":\"#2a3f5f\",\"gridcolor\":\"white\",\"linecolor\":\"white\",\"minorgridcolor\":\"white\",\"startlinecolor\":\"#2a3f5f\"},\"type\":\"carpet\"}],\"choropleth\":[{\"colorbar\":{\"outlinewidth\":0,\"ticks\":\"\"},\"type\":\"choropleth\"}],\"contourcarpet\":[{\"colorbar\":{\"outlinewidth\":0,\"ticks\":\"\"},\"type\":\"contourcarpet\"}],\"contour\":[{\"colorbar\":{\"outlinewidth\":0,\"ticks\":\"\"},\"colorscale\":[[0.0,\"#0d0887\"],[0.1111111111111111,\"#46039f\"],[0.2222222222222222,\"#7201a8\"],[0.3333333333333333,\"#9c179e\"],[0.4444444444444444,\"#bd3786\"],[0.5555555555555556,\"#d8576b\"],[0.6666666666666666,\"#ed7953\"],[0.7777777777777778,\"#fb9f3a\"],[0.8888888888888888,\"#fdca26\"],[1.0,\"#f0f921\"]],\"type\":\"contour\"}],\"heatmapgl\":[{\"colorbar\":{\"outlinewidth\":0,\"ticks\":\"\"},\"colorscale\":[[0.0,\"#0d0887\"],[0.1111111111111111,\"#46039f\"],[0.2222222222222222,\"#7201a8\"],[0.3333333333333333,\"#9c179e\"],[0.4444444444444444,\"#bd3786\"],[0.5555555555555556,\"#d8576b\"],[0.6666666666666666,\"#ed7953\"],[0.7777777777777778,\"#fb9f3a\"],[0.8888888888888888,\"#fdca26\"],[1.0,\"#f0f921\"]],\"type\":\"heatmapgl\"}],\"heatmap\":[{\"colorbar\":{\"outlinewidth\":0,\"ticks\":\"\"},\"colorscale\":[[0.0,\"#0d0887\"],[0.1111111111111111,\"#46039f\"],[0.2222222222222222,\"#7201a8\"],[0.3333333333333333,\"#9c179e\"],[0.4444444444444444,\"#bd3786\"],[0.5555555555555556,\"#d8576b\"],[0.6666666666666666,\"#ed7953\"],[0.7777777777777778,\"#fb9f3a\"],[0.8888888888888888,\"#fdca26\"],[1.0,\"#f0f921\"]],\"type\":\"heatmap\"}],\"histogram2dcontour\":[{\"colorbar\":{\"outlinewidth\":0,\"ticks\":\"\"},\"colorscale\":[[0.0,\"#0d0887\"],[0.1111111111111111,\"#46039f\"],[0.2222222222222222,\"#7201a8\"],[0.3333333333333333,\"#9c179e\"],[0.4444444444444444,\"#bd3786\"],[0.5555555555555556,\"#d8576b\"],[0.6666666666666666,\"#ed7953\"],[0.7777777777777778,\"#fb9f3a\"],[0.8888888888888888,\"#fdca26\"],[1.0,\"#f0f921\"]],\"type\":\"histogram2dcontour\"}],\"histogram2d\":[{\"colorbar\":{\"outlinewidth\":0,\"ticks\":\"\"},\"colorscale\":[[0.0,\"#0d0887\"],[0.1111111111111111,\"#46039f\"],[0.2222222222222222,\"#7201a8\"],[0.3333333333333333,\"#9c179e\"],[0.4444444444444444,\"#bd3786\"],[0.5555555555555556,\"#d8576b\"],[0.6666666666666666,\"#ed7953\"],[0.7777777777777778,\"#fb9f3a\"],[0.8888888888888888,\"#fdca26\"],[1.0,\"#f0f921\"]],\"type\":\"histogram2d\"}],\"histogram\":[{\"marker\":{\"pattern\":{\"fillmode\":\"overlay\",\"size\":10,\"solidity\":0.2}},\"type\":\"histogram\"}],\"mesh3d\":[{\"colorbar\":{\"outlinewidth\":0,\"ticks\":\"\"},\"type\":\"mesh3d\"}],\"parcoords\":[{\"line\":{\"colorbar\":{\"outlinewidth\":0,\"ticks\":\"\"}},\"type\":\"parcoords\"}],\"pie\":[{\"automargin\":true,\"type\":\"pie\"}],\"scatter3d\":[{\"line\":{\"colorbar\":{\"outlinewidth\":0,\"ticks\":\"\"}},\"marker\":{\"colorbar\":{\"outlinewidth\":0,\"ticks\":\"\"}},\"type\":\"scatter3d\"}],\"scattercarpet\":[{\"marker\":{\"colorbar\":{\"outlinewidth\":0,\"ticks\":\"\"}},\"type\":\"scattercarpet\"}],\"scattergeo\":[{\"marker\":{\"colorbar\":{\"outlinewidth\":0,\"ticks\":\"\"}},\"type\":\"scattergeo\"}],\"scattergl\":[{\"marker\":{\"colorbar\":{\"outlinewidth\":0,\"ticks\":\"\"}},\"type\":\"scattergl\"}],\"scattermapbox\":[{\"marker\":{\"colorbar\":{\"outlinewidth\":0,\"ticks\":\"\"}},\"type\":\"scattermapbox\"}],\"scatterpolargl\":[{\"marker\":{\"colorbar\":{\"outlinewidth\":0,\"ticks\":\"\"}},\"type\":\"scatterpolargl\"}],\"scatterpolar\":[{\"marker\":{\"colorbar\":{\"outlinewidth\":0,\"ticks\":\"\"}},\"type\":\"scatterpolar\"}],\"scatter\":[{\"fillpattern\":{\"fillmode\":\"overlay\",\"size\":10,\"solidity\":0.2},\"type\":\"scatter\"}],\"scatterternary\":[{\"marker\":{\"colorbar\":{\"outlinewidth\":0,\"ticks\":\"\"}},\"type\":\"scatterternary\"}],\"surface\":[{\"colorbar\":{\"outlinewidth\":0,\"ticks\":\"\"},\"colorscale\":[[0.0,\"#0d0887\"],[0.1111111111111111,\"#46039f\"],[0.2222222222222222,\"#7201a8\"],[0.3333333333333333,\"#9c179e\"],[0.4444444444444444,\"#bd3786\"],[0.5555555555555556,\"#d8576b\"],[0.6666666666666666,\"#ed7953\"],[0.7777777777777778,\"#fb9f3a\"],[0.8888888888888888,\"#fdca26\"],[1.0,\"#f0f921\"]],\"type\":\"surface\"}],\"table\":[{\"cells\":{\"fill\":{\"color\":\"#EBF0F8\"},\"line\":{\"color\":\"white\"}},\"header\":{\"fill\":{\"color\":\"#C8D4E3\"},\"line\":{\"color\":\"white\"}},\"type\":\"table\"}]},\"layout\":{\"annotationdefaults\":{\"arrowcolor\":\"#2a3f5f\",\"arrowhead\":0,\"arrowwidth\":1},\"autotypenumbers\":\"strict\",\"coloraxis\":{\"colorbar\":{\"outlinewidth\":0,\"ticks\":\"\"}},\"colorscale\":{\"diverging\":[[0,\"#8e0152\"],[0.1,\"#c51b7d\"],[0.2,\"#de77ae\"],[0.3,\"#f1b6da\"],[0.4,\"#fde0ef\"],[0.5,\"#f7f7f7\"],[0.6,\"#e6f5d0\"],[0.7,\"#b8e186\"],[0.8,\"#7fbc41\"],[0.9,\"#4d9221\"],[1,\"#276419\"]],\"sequential\":[[0.0,\"#0d0887\"],[0.1111111111111111,\"#46039f\"],[0.2222222222222222,\"#7201a8\"],[0.3333333333333333,\"#9c179e\"],[0.4444444444444444,\"#bd3786\"],[0.5555555555555556,\"#d8576b\"],[0.6666666666666666,\"#ed7953\"],[0.7777777777777778,\"#fb9f3a\"],[0.8888888888888888,\"#fdca26\"],[1.0,\"#f0f921\"]],\"sequentialminus\":[[0.0,\"#0d0887\"],[0.1111111111111111,\"#46039f\"],[0.2222222222222222,\"#7201a8\"],[0.3333333333333333,\"#9c179e\"],[0.4444444444444444,\"#bd3786\"],[0.5555555555555556,\"#d8576b\"],[0.6666666666666666,\"#ed7953\"],[0.7777777777777778,\"#fb9f3a\"],[0.8888888888888888,\"#fdca26\"],[1.0,\"#f0f921\"]]},\"colorway\":[\"#636efa\",\"#EF553B\",\"#00cc96\",\"#ab63fa\",\"#FFA15A\",\"#19d3f3\",\"#FF6692\",\"#B6E880\",\"#FF97FF\",\"#FECB52\"],\"font\":{\"color\":\"#2a3f5f\"},\"geo\":{\"bgcolor\":\"white\",\"lakecolor\":\"white\",\"landcolor\":\"#E5ECF6\",\"showlakes\":true,\"showland\":true,\"subunitcolor\":\"white\"},\"hoverlabel\":{\"align\":\"left\"},\"hovermode\":\"closest\",\"mapbox\":{\"style\":\"light\"},\"paper_bgcolor\":\"white\",\"plot_bgcolor\":\"#E5ECF6\",\"polar\":{\"angularaxis\":{\"gridcolor\":\"white\",\"linecolor\":\"white\",\"ticks\":\"\"},\"bgcolor\":\"#E5ECF6\",\"radialaxis\":{\"gridcolor\":\"white\",\"linecolor\":\"white\",\"ticks\":\"\"}},\"scene\":{\"xaxis\":{\"backgroundcolor\":\"#E5ECF6\",\"gridcolor\":\"white\",\"gridwidth\":2,\"linecolor\":\"white\",\"showbackground\":true,\"ticks\":\"\",\"zerolinecolor\":\"white\"},\"yaxis\":{\"backgroundcolor\":\"#E5ECF6\",\"gridcolor\":\"white\",\"gridwidth\":2,\"linecolor\":\"white\",\"showbackground\":true,\"ticks\":\"\",\"zerolinecolor\":\"white\"},\"zaxis\":{\"backgroundcolor\":\"#E5ECF6\",\"gridcolor\":\"white\",\"gridwidth\":2,\"linecolor\":\"white\",\"showbackground\":true,\"ticks\":\"\",\"zerolinecolor\":\"white\"}},\"shapedefaults\":{\"line\":{\"color\":\"#2a3f5f\"}},\"ternary\":{\"aaxis\":{\"gridcolor\":\"white\",\"linecolor\":\"white\",\"ticks\":\"\"},\"baxis\":{\"gridcolor\":\"white\",\"linecolor\":\"white\",\"ticks\":\"\"},\"bgcolor\":\"#E5ECF6\",\"caxis\":{\"gridcolor\":\"white\",\"linecolor\":\"white\",\"ticks\":\"\"}},\"title\":{\"x\":0.05},\"xaxis\":{\"automargin\":true,\"gridcolor\":\"white\",\"linecolor\":\"white\",\"ticks\":\"\",\"title\":{\"standoff\":15},\"zerolinecolor\":\"white\",\"zerolinewidth\":2},\"yaxis\":{\"automargin\":true,\"gridcolor\":\"white\",\"linecolor\":\"white\",\"ticks\":\"\",\"title\":{\"standoff\":15},\"zerolinecolor\":\"white\",\"zerolinewidth\":2}}},\"title\":{\"font\":{\"color\":\"#4D5663\"}},\"xaxis\":{\"gridcolor\":\"#E1E5ED\",\"showgrid\":true,\"tickfont\":{\"color\":\"#4D5663\"},\"title\":{\"font\":{\"color\":\"#4D5663\"},\"text\":\"\"},\"zerolinecolor\":\"#E1E5ED\"},\"yaxis\":{\"gridcolor\":\"#E1E5ED\",\"showgrid\":true,\"tickfont\":{\"color\":\"#4D5663\"},\"title\":{\"font\":{\"color\":\"#4D5663\"},\"text\":\"\"},\"zerolinecolor\":\"#E1E5ED\"}},                        {\"showLink\": true, \"linkText\": \"Export to plot.ly\", \"plotlyServerURL\": \"https://plot.ly\", \"responsive\": true}                    ).then(function(){\n",
       "                            \n",
       "var gd = document.getElementById('f6aa369b-6897-442c-9347-138ff66ae4a3');\n",
       "var x = new MutationObserver(function (mutations, observer) {{\n",
       "        var display = window.getComputedStyle(gd).display;\n",
       "        if (!display || display === 'none') {{\n",
       "            console.log([gd, 'removed!']);\n",
       "            Plotly.purge(gd);\n",
       "            observer.disconnect();\n",
       "        }}\n",
       "}});\n",
       "\n",
       "// Listen for the removal of the full notebook cells\n",
       "var notebookContainer = gd.closest('#notebook-container');\n",
       "if (notebookContainer) {{\n",
       "    x.observe(notebookContainer, {childList: true});\n",
       "}}\n",
       "\n",
       "// Listen for the clearing of the current output cell\n",
       "var outputEl = gd.closest('.output');\n",
       "if (outputEl) {{\n",
       "    x.observe(outputEl, {childList: true});\n",
       "}}\n",
       "\n",
       "                        })                };                });            </script>        </div>"
      ]
     },
     "metadata": {},
     "output_type": "display_data"
    }
   ],
   "source": [
    "# overlapping histogram\n",
    "# you can turn on/off columns or just pass them in individually\n",
    "df.iplot(kind='hist')"
   ]
  },
  {
   "cell_type": "code",
   "execution_count": 37,
   "id": "7efda944",
   "metadata": {},
   "outputs": [
    {
     "name": "stderr",
     "output_type": "stream",
     "text": [
      "C:\\Users\\Microsoft\\anaconda3\\lib\\site-packages\\cufflinks\\plotlytools.py:849: FutureWarning:\n",
      "\n",
      "The pandas.np module is deprecated and will be removed from pandas in a future version. Import numpy directly instead\n",
      "\n",
      "C:\\Users\\Microsoft\\anaconda3\\lib\\site-packages\\cufflinks\\plotlytools.py:850: FutureWarning:\n",
      "\n",
      "The pandas.np module is deprecated and will be removed from pandas in a future version. Import numpy directly instead\n",
      "\n"
     ]
    },
    {
     "data": {
      "application/vnd.plotly.v1+json": {
       "config": {
        "linkText": "Export to plot.ly",
        "plotlyServerURL": "https://plot.ly",
        "showLink": true
       },
       "data": [
        {
         "line": {
          "color": "rgba(255, 153, 51, 1.0)",
          "dash": "solid",
          "shape": "linear",
          "width": 1.3
         },
         "mode": "lines",
         "name": "A",
         "text": "",
         "type": "scatter",
         "x": [
          0,
          1,
          2,
          3,
          4,
          5,
          6,
          7,
          8,
          9,
          10,
          11,
          12,
          13,
          14,
          15,
          16,
          17,
          18,
          19,
          20,
          21,
          22,
          23,
          24,
          25,
          26,
          27,
          28,
          29,
          30,
          31,
          32,
          33,
          34,
          35,
          36,
          37,
          38,
          39,
          40,
          41,
          42,
          43,
          44,
          45,
          46,
          47,
          48,
          49,
          50,
          51,
          52,
          53,
          54,
          55,
          56,
          57,
          58,
          59,
          60,
          61,
          62,
          63,
          64,
          65,
          66,
          67,
          68,
          69,
          70,
          71,
          72,
          73,
          74,
          75,
          76,
          77,
          78,
          79,
          80,
          81,
          82,
          83,
          84,
          85,
          86,
          87,
          88,
          89,
          90,
          91,
          92,
          93,
          94,
          95,
          96,
          97,
          98,
          99
         ],
         "y": [
          -0.24869303225749126,
          -2.388145795579333,
          0.7052569495813963,
          0.8921836516207222,
          -0.8641832945932809,
          0.12474763473727571,
          0.9771147206925541,
          -1.120879746434406,
          2.083325158822628,
          -0.14292514964191178,
          -1.1312169975938375,
          -0.11607697197171943,
          -2.180363608406877,
          -1.109061809100249,
          1.1778238870317181,
          0.7910259440816909,
          0.645202281124067,
          -0.1742790933800676,
          0.8225032314842339,
          0.29877822246100105,
          0.36722046683406245,
          1.2324544434409372,
          -1.7020118796248933,
          1.7042326155461203,
          -1.4450455739935764,
          -0.78545924825664,
          2.06296995198097,
          0.3665990108761806,
          -1.116799652901445,
          0.7366232257112952,
          0.6809107980964005,
          0.4337169537228572,
          0.5054307038730637,
          -0.9015199558765126,
          1.2400228835450735,
          -0.0764876321557282,
          1.5777026737325832,
          -0.09862690109282116,
          0.7644500967843794,
          0.17103982442114465,
          0.37321438050746564,
          -0.1021660818701845,
          -2.351357285273254,
          0.8671154218975321,
          0.9128969618550399,
          0.17785238425044794,
          0.21187259997227123,
          0.050938673505943645,
          0.6563964094079809,
          0.053649786152871054,
          -0.0197549209834424,
          1.5798149195593896,
          0.791318635261723,
          -0.9025588999319102,
          1.656944673728671,
          -0.8269206687359101,
          0.06556319052433303,
          -0.8214461312213147,
          2.187880503422802,
          -0.46944316735562686,
          -0.7370885868139803,
          0.8165338304816602,
          -0.9054807194666195,
          -1.3809585264041093,
          -0.7458765995206087,
          0.18823758886614955,
          1.3784227314336097,
          -1.0036999714454244,
          -0.8559179530591503,
          -1.5808922630144657,
          -1.0890433281306702,
          0.6087193993857751,
          1.2516196623031353,
          -0.7354149576024046,
          0.2891258014135116,
          0.07985900771739284,
          -1.215018118998959,
          0.31249748403780464,
          0.9175732377339435,
          -1.041267348022098,
          -1.069969287706913,
          1.4965582109974387,
          2.639408794995632,
          0.9601098331096278,
          0.31731584401142465,
          -2.0170362462039684,
          0.9816338696585786,
          1.5190162401027576,
          0.15579596719864214,
          0.27471292445643963,
          -0.63239828780116,
          -1.0501242325930704,
          0.8160338670311766,
          -1.0935321627740018,
          -0.8056994370048624,
          0.32500050683722304,
          0.30487108890472714,
          -0.31497417629318075,
          2.0218995987796933,
          0.4843579882960143
         ]
        },
        {
         "line": {
          "color": "rgba(55, 128, 191, 1.0)",
          "dash": "solid",
          "shape": "linear",
          "width": 1.3
         },
         "mode": "lines",
         "name": "B",
         "text": "",
         "type": "scatter",
         "x": [
          0,
          1,
          2,
          3,
          4,
          5,
          6,
          7,
          8,
          9,
          10,
          11,
          12,
          13,
          14,
          15,
          16,
          17,
          18,
          19,
          20,
          21,
          22,
          23,
          24,
          25,
          26,
          27,
          28,
          29,
          30,
          31,
          32,
          33,
          34,
          35,
          36,
          37,
          38,
          39,
          40,
          41,
          42,
          43,
          44,
          45,
          46,
          47,
          48,
          49,
          50,
          51,
          52,
          53,
          54,
          55,
          56,
          57,
          58,
          59,
          60,
          61,
          62,
          63,
          64,
          65,
          66,
          67,
          68,
          69,
          70,
          71,
          72,
          73,
          74,
          75,
          76,
          77,
          78,
          79,
          80,
          81,
          82,
          83,
          84,
          85,
          86,
          87,
          88,
          89,
          90,
          91,
          92,
          93,
          94,
          95,
          96,
          97,
          98,
          99
         ],
         "y": [
          -0.612674881396858,
          -0.2369623864621897,
          0.884172060253383,
          1.1599681389449998,
          1.541433973431705,
          -0.024482749390586922,
          -0.010581934928280717,
          0.4208804279380881,
          -1.055904482828417,
          -0.5731293410391528,
          0.6136951834885712,
          0.3788139488071389,
          -0.7236246217565258,
          -0.9832872929064812,
          -0.04584667102425731,
          1.0990096326338898,
          -0.4894552325381044,
          0.09207295202927872,
          0.8907023697335712,
          1.071647550161279,
          -0.09772605038866598,
          -0.5573372268161606,
          2.1569812897937672,
          -0.3138297576026716,
          0.967564149880955,
          0.5283041481971225,
          1.275552520971748,
          -0.23814452995452495,
          1.3686369305494708,
          0.4554414353012013,
          0.17261064038033674,
          -1.2790756257079117,
          -1.668432178436465,
          -0.7589722147586523,
          -1.1217293268341164,
          0.1457960988457628,
          -2.460171601392952,
          1.1224080996706933,
          -0.5718735010119889,
          0.7480470173720155,
          -0.03113393613510434,
          1.6490615045790034,
          0.05753332794358935,
          -0.20428125058288318,
          -2.0075424792795133,
          0.667885385351891,
          0.0636282659190983,
          -0.011188874517152437,
          2.049007627401017,
          -1.5848630631660825,
          -0.9622210929462339,
          -0.8431124359578438,
          0.05754501771367724,
          -1.2870024758751444,
          -0.19727806101733522,
          1.3001919306481338,
          0.3064075043148491,
          0.07117476930400782,
          -0.96812683843896,
          1.82880823196082,
          1.5559339345907204,
          1.7050542509227609,
          1.7171720163798219,
          0.42589246627030913,
          -2.3660287467420225,
          -1.5323420715419014,
          1.9884957118847637,
          -0.7216381285780816,
          -0.9380010074166955,
          0.16306318472752554,
          -0.7425934426726053,
          -0.9707420414928241,
          -2.0238789682217306,
          0.20622339294902128,
          0.29403482434209716,
          0.12147098035639514,
          0.20258350462675498,
          -0.2992269193093349,
          0.22115912154903292,
          -1.7790002822602209,
          -1.872050479776317,
          -0.43176879529106,
          0.940906565069375,
          1.3443483421299551,
          -0.8062940834059503,
          -0.15012732876279758,
          0.20043931984963673,
          0.22002772846606183,
          -1.4076957323909052,
          1.36507767965311,
          0.5463241272540051,
          1.9568592851420272,
          -0.886230842336463,
          -0.24970954645615465,
          1.4577791399977678,
          -1.0263047973016162,
          -1.0009532490096018,
          -0.28890730822092503,
          1.072250787176654,
          0.45805736391766777
         ]
        },
        {
         "connectgaps": false,
         "fill": "tozeroy",
         "line": {
          "color": "green",
          "dash": "solid",
          "shape": "linear",
          "width": 0.5
         },
         "mode": "lines",
         "name": "Spread",
         "showlegend": false,
         "type": "scatter",
         "x": [
          0,
          1,
          2,
          3,
          4,
          5,
          6,
          7,
          8,
          9,
          10,
          11,
          12,
          13,
          14,
          15,
          16,
          17,
          18,
          19,
          20,
          21,
          22,
          23,
          24,
          25,
          26,
          27,
          28,
          29,
          30,
          31,
          32,
          33,
          34,
          35,
          36,
          37,
          38,
          39,
          40,
          41,
          42,
          43,
          44,
          45,
          46,
          47,
          48,
          49,
          50,
          51,
          52,
          53,
          54,
          55,
          56,
          57,
          58,
          59,
          60,
          61,
          62,
          63,
          64,
          65,
          66,
          67,
          68,
          69,
          70,
          71,
          72,
          73,
          74,
          75,
          76,
          77,
          78,
          79,
          80,
          81,
          82,
          83,
          84,
          85,
          86,
          87,
          88,
          89,
          90,
          91,
          92,
          93,
          94,
          95,
          96,
          97,
          98,
          99
         ],
         "xaxis": "x2",
         "y": [
          0.3639818491393667,
          "",
          "",
          "",
          "",
          0.14923038412786263,
          0.9876966556208349,
          "",
          3.1392296416510446,
          0.43020419139724103,
          "",
          "",
          "",
          "",
          1.2236705580559755,
          "",
          1.1346575136621713,
          "",
          "",
          "",
          0.46494651722272845,
          1.789791670257098,
          "",
          2.018062373148792,
          "",
          "",
          0.7874174310092219,
          0.6047435408307056,
          "",
          0.28118179041009395,
          0.5083001577160637,
          1.7127925794307688,
          2.1738628823095287,
          "",
          2.3617522103791897,
          "",
          4.037874275125535,
          "",
          1.3363235977963681,
          "",
          0.40434831664257,
          "",
          "",
          1.0713966724804154,
          2.9204394411345533,
          "",
          0.14824433405317294,
          0.062127548023096085,
          "",
          1.6385128493189536,
          0.9424661719627915,
          2.4229273555172335,
          0.7337736175480457,
          0.3844435759432342,
          1.8542227347460063,
          "",
          "",
          "",
          3.156007341861762,
          "",
          "",
          "",
          "",
          "",
          1.6201521472214138,
          1.720579660408051,
          "",
          "",
          0.08208305435754515,
          "",
          "",
          1.5794614408785992,
          3.275498630524866,
          "",
          "",
          "",
          "",
          0.6117244033471396,
          0.6964141161849106,
          0.7377329342381229,
          0.802081192069404,
          1.9283270062884987,
          1.698502229926257,
          "",
          1.123609927417375,
          "",
          0.7811945498089419,
          1.2989885116366957,
          1.5634916995895474,
          "",
          "",
          "",
          1.7022647093676397,
          "",
          "",
          1.3513053041388392,
          1.3058243379143288,
          "",
          0.9496488116030393,
          0.026300624378346515
         ],
         "yaxis": "y2"
        },
        {
         "connectgaps": false,
         "fill": "tozeroy",
         "line": {
          "color": "red",
          "dash": "solid",
          "shape": "linear",
          "width": 0.5
         },
         "mode": "lines",
         "name": "Spread",
         "showlegend": false,
         "type": "scatter",
         "x": [
          0,
          1,
          2,
          3,
          4,
          5,
          6,
          7,
          8,
          9,
          10,
          11,
          12,
          13,
          14,
          15,
          16,
          17,
          18,
          19,
          20,
          21,
          22,
          23,
          24,
          25,
          26,
          27,
          28,
          29,
          30,
          31,
          32,
          33,
          34,
          35,
          36,
          37,
          38,
          39,
          40,
          41,
          42,
          43,
          44,
          45,
          46,
          47,
          48,
          49,
          50,
          51,
          52,
          53,
          54,
          55,
          56,
          57,
          58,
          59,
          60,
          61,
          62,
          63,
          64,
          65,
          66,
          67,
          68,
          69,
          70,
          71,
          72,
          73,
          74,
          75,
          76,
          77,
          78,
          79,
          80,
          81,
          82,
          83,
          84,
          85,
          86,
          87,
          88,
          89,
          90,
          91,
          92,
          93,
          94,
          95,
          96,
          97,
          98,
          99
         ],
         "xaxis": "x2",
         "y": [
          "",
          -2.1511834091171433,
          -0.17891511067198673,
          -0.2677844873242776,
          -2.405617268024986,
          "",
          "",
          -1.5417601743724942,
          "",
          "",
          -1.7449121810824089,
          -0.4948909207788583,
          -1.4567389866503513,
          -0.1257745161937679,
          "",
          -0.30798368855219893,
          "",
          -0.2663520454093463,
          -0.06819913824933732,
          -0.7728693277002779,
          "",
          "",
          -3.8589931694186603,
          "",
          -2.412609723874531,
          -1.3137633964537625,
          "",
          "",
          -2.485436583450916,
          "",
          "",
          "",
          "",
          -0.14254774111786028,
          "",
          -0.22228373100149101,
          "",
          -1.2210350007635145,
          "",
          -0.5770071929508709,
          "",
          -1.751227586449188,
          -2.4088906132168435,
          "",
          "",
          -0.4900330011014431,
          "",
          "",
          -1.392611217993036,
          "",
          "",
          "",
          "",
          "",
          "",
          -2.127112599384044,
          -0.24084431379051607,
          -0.8926209005253225,
          "",
          -2.298251399316447,
          -2.2930225214047004,
          -0.8885204204411007,
          -2.622652735846441,
          -1.8068509926744185,
          "",
          "",
          -0.610072980451154,
          -0.2820618428673428,
          "",
          -1.7439554477419912,
          -0.3464498854580649,
          "",
          "",
          -0.9416383505514259,
          -0.004909022928585582,
          -0.041611972639002306,
          -1.417601623625714,
          "",
          "",
          "",
          "",
          "",
          "",
          -0.3842385090203273,
          "",
          -1.8669089174411708,
          "",
          "",
          "",
          -1.0903647551966704,
          -1.1787224150551652,
          -3.0069835177350974,
          "",
          -0.8438226163178472,
          -2.26347857700263,
          "",
          "",
          -0.026066868072255722,
          "",
          ""
         ],
         "yaxis": "y2"
        }
       ],
       "layout": {
        "hovermode": "x",
        "legend": {
         "bgcolor": "#F5F6F9",
         "font": {
          "color": "#4D5663"
         }
        },
        "paper_bgcolor": "#F5F6F9",
        "plot_bgcolor": "#F5F6F9",
        "template": {
         "data": {
          "bar": [
           {
            "error_x": {
             "color": "#2a3f5f"
            },
            "error_y": {
             "color": "#2a3f5f"
            },
            "marker": {
             "line": {
              "color": "#E5ECF6",
              "width": 0.5
             },
             "pattern": {
              "fillmode": "overlay",
              "size": 10,
              "solidity": 0.2
             }
            },
            "type": "bar"
           }
          ],
          "barpolar": [
           {
            "marker": {
             "line": {
              "color": "#E5ECF6",
              "width": 0.5
             },
             "pattern": {
              "fillmode": "overlay",
              "size": 10,
              "solidity": 0.2
             }
            },
            "type": "barpolar"
           }
          ],
          "carpet": [
           {
            "aaxis": {
             "endlinecolor": "#2a3f5f",
             "gridcolor": "white",
             "linecolor": "white",
             "minorgridcolor": "white",
             "startlinecolor": "#2a3f5f"
            },
            "baxis": {
             "endlinecolor": "#2a3f5f",
             "gridcolor": "white",
             "linecolor": "white",
             "minorgridcolor": "white",
             "startlinecolor": "#2a3f5f"
            },
            "type": "carpet"
           }
          ],
          "choropleth": [
           {
            "colorbar": {
             "outlinewidth": 0,
             "ticks": ""
            },
            "type": "choropleth"
           }
          ],
          "contour": [
           {
            "colorbar": {
             "outlinewidth": 0,
             "ticks": ""
            },
            "colorscale": [
             [
              0,
              "#0d0887"
             ],
             [
              0.1111111111111111,
              "#46039f"
             ],
             [
              0.2222222222222222,
              "#7201a8"
             ],
             [
              0.3333333333333333,
              "#9c179e"
             ],
             [
              0.4444444444444444,
              "#bd3786"
             ],
             [
              0.5555555555555556,
              "#d8576b"
             ],
             [
              0.6666666666666666,
              "#ed7953"
             ],
             [
              0.7777777777777778,
              "#fb9f3a"
             ],
             [
              0.8888888888888888,
              "#fdca26"
             ],
             [
              1,
              "#f0f921"
             ]
            ],
            "type": "contour"
           }
          ],
          "contourcarpet": [
           {
            "colorbar": {
             "outlinewidth": 0,
             "ticks": ""
            },
            "type": "contourcarpet"
           }
          ],
          "heatmap": [
           {
            "colorbar": {
             "outlinewidth": 0,
             "ticks": ""
            },
            "colorscale": [
             [
              0,
              "#0d0887"
             ],
             [
              0.1111111111111111,
              "#46039f"
             ],
             [
              0.2222222222222222,
              "#7201a8"
             ],
             [
              0.3333333333333333,
              "#9c179e"
             ],
             [
              0.4444444444444444,
              "#bd3786"
             ],
             [
              0.5555555555555556,
              "#d8576b"
             ],
             [
              0.6666666666666666,
              "#ed7953"
             ],
             [
              0.7777777777777778,
              "#fb9f3a"
             ],
             [
              0.8888888888888888,
              "#fdca26"
             ],
             [
              1,
              "#f0f921"
             ]
            ],
            "type": "heatmap"
           }
          ],
          "heatmapgl": [
           {
            "colorbar": {
             "outlinewidth": 0,
             "ticks": ""
            },
            "colorscale": [
             [
              0,
              "#0d0887"
             ],
             [
              0.1111111111111111,
              "#46039f"
             ],
             [
              0.2222222222222222,
              "#7201a8"
             ],
             [
              0.3333333333333333,
              "#9c179e"
             ],
             [
              0.4444444444444444,
              "#bd3786"
             ],
             [
              0.5555555555555556,
              "#d8576b"
             ],
             [
              0.6666666666666666,
              "#ed7953"
             ],
             [
              0.7777777777777778,
              "#fb9f3a"
             ],
             [
              0.8888888888888888,
              "#fdca26"
             ],
             [
              1,
              "#f0f921"
             ]
            ],
            "type": "heatmapgl"
           }
          ],
          "histogram": [
           {
            "marker": {
             "pattern": {
              "fillmode": "overlay",
              "size": 10,
              "solidity": 0.2
             }
            },
            "type": "histogram"
           }
          ],
          "histogram2d": [
           {
            "colorbar": {
             "outlinewidth": 0,
             "ticks": ""
            },
            "colorscale": [
             [
              0,
              "#0d0887"
             ],
             [
              0.1111111111111111,
              "#46039f"
             ],
             [
              0.2222222222222222,
              "#7201a8"
             ],
             [
              0.3333333333333333,
              "#9c179e"
             ],
             [
              0.4444444444444444,
              "#bd3786"
             ],
             [
              0.5555555555555556,
              "#d8576b"
             ],
             [
              0.6666666666666666,
              "#ed7953"
             ],
             [
              0.7777777777777778,
              "#fb9f3a"
             ],
             [
              0.8888888888888888,
              "#fdca26"
             ],
             [
              1,
              "#f0f921"
             ]
            ],
            "type": "histogram2d"
           }
          ],
          "histogram2dcontour": [
           {
            "colorbar": {
             "outlinewidth": 0,
             "ticks": ""
            },
            "colorscale": [
             [
              0,
              "#0d0887"
             ],
             [
              0.1111111111111111,
              "#46039f"
             ],
             [
              0.2222222222222222,
              "#7201a8"
             ],
             [
              0.3333333333333333,
              "#9c179e"
             ],
             [
              0.4444444444444444,
              "#bd3786"
             ],
             [
              0.5555555555555556,
              "#d8576b"
             ],
             [
              0.6666666666666666,
              "#ed7953"
             ],
             [
              0.7777777777777778,
              "#fb9f3a"
             ],
             [
              0.8888888888888888,
              "#fdca26"
             ],
             [
              1,
              "#f0f921"
             ]
            ],
            "type": "histogram2dcontour"
           }
          ],
          "mesh3d": [
           {
            "colorbar": {
             "outlinewidth": 0,
             "ticks": ""
            },
            "type": "mesh3d"
           }
          ],
          "parcoords": [
           {
            "line": {
             "colorbar": {
              "outlinewidth": 0,
              "ticks": ""
             }
            },
            "type": "parcoords"
           }
          ],
          "pie": [
           {
            "automargin": true,
            "type": "pie"
           }
          ],
          "scatter": [
           {
            "fillpattern": {
             "fillmode": "overlay",
             "size": 10,
             "solidity": 0.2
            },
            "type": "scatter"
           }
          ],
          "scatter3d": [
           {
            "line": {
             "colorbar": {
              "outlinewidth": 0,
              "ticks": ""
             }
            },
            "marker": {
             "colorbar": {
              "outlinewidth": 0,
              "ticks": ""
             }
            },
            "type": "scatter3d"
           }
          ],
          "scattercarpet": [
           {
            "marker": {
             "colorbar": {
              "outlinewidth": 0,
              "ticks": ""
             }
            },
            "type": "scattercarpet"
           }
          ],
          "scattergeo": [
           {
            "marker": {
             "colorbar": {
              "outlinewidth": 0,
              "ticks": ""
             }
            },
            "type": "scattergeo"
           }
          ],
          "scattergl": [
           {
            "marker": {
             "colorbar": {
              "outlinewidth": 0,
              "ticks": ""
             }
            },
            "type": "scattergl"
           }
          ],
          "scattermapbox": [
           {
            "marker": {
             "colorbar": {
              "outlinewidth": 0,
              "ticks": ""
             }
            },
            "type": "scattermapbox"
           }
          ],
          "scatterpolar": [
           {
            "marker": {
             "colorbar": {
              "outlinewidth": 0,
              "ticks": ""
             }
            },
            "type": "scatterpolar"
           }
          ],
          "scatterpolargl": [
           {
            "marker": {
             "colorbar": {
              "outlinewidth": 0,
              "ticks": ""
             }
            },
            "type": "scatterpolargl"
           }
          ],
          "scatterternary": [
           {
            "marker": {
             "colorbar": {
              "outlinewidth": 0,
              "ticks": ""
             }
            },
            "type": "scatterternary"
           }
          ],
          "surface": [
           {
            "colorbar": {
             "outlinewidth": 0,
             "ticks": ""
            },
            "colorscale": [
             [
              0,
              "#0d0887"
             ],
             [
              0.1111111111111111,
              "#46039f"
             ],
             [
              0.2222222222222222,
              "#7201a8"
             ],
             [
              0.3333333333333333,
              "#9c179e"
             ],
             [
              0.4444444444444444,
              "#bd3786"
             ],
             [
              0.5555555555555556,
              "#d8576b"
             ],
             [
              0.6666666666666666,
              "#ed7953"
             ],
             [
              0.7777777777777778,
              "#fb9f3a"
             ],
             [
              0.8888888888888888,
              "#fdca26"
             ],
             [
              1,
              "#f0f921"
             ]
            ],
            "type": "surface"
           }
          ],
          "table": [
           {
            "cells": {
             "fill": {
              "color": "#EBF0F8"
             },
             "line": {
              "color": "white"
             }
            },
            "header": {
             "fill": {
              "color": "#C8D4E3"
             },
             "line": {
              "color": "white"
             }
            },
            "type": "table"
           }
          ]
         },
         "layout": {
          "annotationdefaults": {
           "arrowcolor": "#2a3f5f",
           "arrowhead": 0,
           "arrowwidth": 1
          },
          "autotypenumbers": "strict",
          "coloraxis": {
           "colorbar": {
            "outlinewidth": 0,
            "ticks": ""
           }
          },
          "colorscale": {
           "diverging": [
            [
             0,
             "#8e0152"
            ],
            [
             0.1,
             "#c51b7d"
            ],
            [
             0.2,
             "#de77ae"
            ],
            [
             0.3,
             "#f1b6da"
            ],
            [
             0.4,
             "#fde0ef"
            ],
            [
             0.5,
             "#f7f7f7"
            ],
            [
             0.6,
             "#e6f5d0"
            ],
            [
             0.7,
             "#b8e186"
            ],
            [
             0.8,
             "#7fbc41"
            ],
            [
             0.9,
             "#4d9221"
            ],
            [
             1,
             "#276419"
            ]
           ],
           "sequential": [
            [
             0,
             "#0d0887"
            ],
            [
             0.1111111111111111,
             "#46039f"
            ],
            [
             0.2222222222222222,
             "#7201a8"
            ],
            [
             0.3333333333333333,
             "#9c179e"
            ],
            [
             0.4444444444444444,
             "#bd3786"
            ],
            [
             0.5555555555555556,
             "#d8576b"
            ],
            [
             0.6666666666666666,
             "#ed7953"
            ],
            [
             0.7777777777777778,
             "#fb9f3a"
            ],
            [
             0.8888888888888888,
             "#fdca26"
            ],
            [
             1,
             "#f0f921"
            ]
           ],
           "sequentialminus": [
            [
             0,
             "#0d0887"
            ],
            [
             0.1111111111111111,
             "#46039f"
            ],
            [
             0.2222222222222222,
             "#7201a8"
            ],
            [
             0.3333333333333333,
             "#9c179e"
            ],
            [
             0.4444444444444444,
             "#bd3786"
            ],
            [
             0.5555555555555556,
             "#d8576b"
            ],
            [
             0.6666666666666666,
             "#ed7953"
            ],
            [
             0.7777777777777778,
             "#fb9f3a"
            ],
            [
             0.8888888888888888,
             "#fdca26"
            ],
            [
             1,
             "#f0f921"
            ]
           ]
          },
          "colorway": [
           "#636efa",
           "#EF553B",
           "#00cc96",
           "#ab63fa",
           "#FFA15A",
           "#19d3f3",
           "#FF6692",
           "#B6E880",
           "#FF97FF",
           "#FECB52"
          ],
          "font": {
           "color": "#2a3f5f"
          },
          "geo": {
           "bgcolor": "white",
           "lakecolor": "white",
           "landcolor": "#E5ECF6",
           "showlakes": true,
           "showland": true,
           "subunitcolor": "white"
          },
          "hoverlabel": {
           "align": "left"
          },
          "hovermode": "closest",
          "mapbox": {
           "style": "light"
          },
          "paper_bgcolor": "white",
          "plot_bgcolor": "#E5ECF6",
          "polar": {
           "angularaxis": {
            "gridcolor": "white",
            "linecolor": "white",
            "ticks": ""
           },
           "bgcolor": "#E5ECF6",
           "radialaxis": {
            "gridcolor": "white",
            "linecolor": "white",
            "ticks": ""
           }
          },
          "scene": {
           "xaxis": {
            "backgroundcolor": "#E5ECF6",
            "gridcolor": "white",
            "gridwidth": 2,
            "linecolor": "white",
            "showbackground": true,
            "ticks": "",
            "zerolinecolor": "white"
           },
           "yaxis": {
            "backgroundcolor": "#E5ECF6",
            "gridcolor": "white",
            "gridwidth": 2,
            "linecolor": "white",
            "showbackground": true,
            "ticks": "",
            "zerolinecolor": "white"
           },
           "zaxis": {
            "backgroundcolor": "#E5ECF6",
            "gridcolor": "white",
            "gridwidth": 2,
            "linecolor": "white",
            "showbackground": true,
            "ticks": "",
            "zerolinecolor": "white"
           }
          },
          "shapedefaults": {
           "line": {
            "color": "#2a3f5f"
           }
          },
          "ternary": {
           "aaxis": {
            "gridcolor": "white",
            "linecolor": "white",
            "ticks": ""
           },
           "baxis": {
            "gridcolor": "white",
            "linecolor": "white",
            "ticks": ""
           },
           "bgcolor": "#E5ECF6",
           "caxis": {
            "gridcolor": "white",
            "linecolor": "white",
            "ticks": ""
           }
          },
          "title": {
           "x": 0.05
          },
          "xaxis": {
           "automargin": true,
           "gridcolor": "white",
           "linecolor": "white",
           "ticks": "",
           "title": {
            "standoff": 15
           },
           "zerolinecolor": "white",
           "zerolinewidth": 2
          },
          "yaxis": {
           "automargin": true,
           "gridcolor": "white",
           "linecolor": "white",
           "ticks": "",
           "title": {
            "standoff": 15
           },
           "zerolinecolor": "white",
           "zerolinewidth": 2
          }
         }
        },
        "title": {
         "font": {
          "color": "#4D5663"
         }
        },
        "xaxis": {
         "gridcolor": "#E1E5ED",
         "showgrid": true,
         "tickfont": {
          "color": "#4D5663"
         },
         "title": {
          "font": {
           "color": "#4D5663"
          },
          "text": ""
         },
         "zerolinecolor": "#E1E5ED"
        },
        "xaxis2": {
         "anchor": "y2",
         "gridcolor": "#E1E5ED",
         "showgrid": true,
         "showticklabels": false,
         "tickfont": {
          "color": "#4D5663"
         },
         "title": {
          "font": {
           "color": "#4D5663"
          },
          "text": ""
         },
         "zerolinecolor": "#E1E5ED"
        },
        "yaxis": {
         "domain": [
          0.3,
          1
         ],
         "gridcolor": "#E1E5ED",
         "showgrid": true,
         "tickfont": {
          "color": "#4D5663"
         },
         "title": {
          "font": {
           "color": "#4D5663"
          },
          "text": ""
         },
         "zerolinecolor": "#E1E5ED"
        },
        "yaxis2": {
         "domain": [
          0,
          0.25
         ],
         "gridcolor": "#E1E5ED",
         "showgrid": true,
         "tickfont": {
          "color": "#4D5663"
         },
         "title": {
          "font": {
           "color": "#4D5663"
          },
          "text": "Spread"
         },
         "zerolinecolor": "#E1E5ED"
        }
       }
      },
      "text/html": [
       "<div>                            <div id=\"a2d8064c-99e7-4365-a530-d348e0814f6d\" class=\"plotly-graph-div\" style=\"height:525px; width:100%;\"></div>            <script type=\"text/javascript\">                require([\"plotly\"], function(Plotly) {                    window.PLOTLYENV=window.PLOTLYENV || {};\n",
       "                    window.PLOTLYENV.BASE_URL='https://plot.ly';                                    if (document.getElementById(\"a2d8064c-99e7-4365-a530-d348e0814f6d\")) {                    Plotly.newPlot(                        \"a2d8064c-99e7-4365-a530-d348e0814f6d\",                        [{\"line\":{\"color\":\"rgba(255, 153, 51, 1.0)\",\"dash\":\"solid\",\"shape\":\"linear\",\"width\":1.3},\"mode\":\"lines\",\"name\":\"A\",\"text\":\"\",\"x\":[0,1,2,3,4,5,6,7,8,9,10,11,12,13,14,15,16,17,18,19,20,21,22,23,24,25,26,27,28,29,30,31,32,33,34,35,36,37,38,39,40,41,42,43,44,45,46,47,48,49,50,51,52,53,54,55,56,57,58,59,60,61,62,63,64,65,66,67,68,69,70,71,72,73,74,75,76,77,78,79,80,81,82,83,84,85,86,87,88,89,90,91,92,93,94,95,96,97,98,99],\"y\":[-0.24869303225749126,-2.388145795579333,0.7052569495813963,0.8921836516207222,-0.8641832945932809,0.12474763473727571,0.9771147206925541,-1.120879746434406,2.083325158822628,-0.14292514964191178,-1.1312169975938375,-0.11607697197171943,-2.180363608406877,-1.109061809100249,1.1778238870317181,0.7910259440816909,0.645202281124067,-0.1742790933800676,0.8225032314842339,0.29877822246100105,0.36722046683406245,1.2324544434409372,-1.7020118796248933,1.7042326155461203,-1.4450455739935764,-0.78545924825664,2.06296995198097,0.3665990108761806,-1.116799652901445,0.7366232257112952,0.6809107980964005,0.4337169537228572,0.5054307038730637,-0.9015199558765126,1.2400228835450735,-0.0764876321557282,1.5777026737325832,-0.09862690109282116,0.7644500967843794,0.17103982442114465,0.37321438050746564,-0.1021660818701845,-2.351357285273254,0.8671154218975321,0.9128969618550399,0.17785238425044794,0.21187259997227123,0.050938673505943645,0.6563964094079809,0.053649786152871054,-0.0197549209834424,1.5798149195593896,0.791318635261723,-0.9025588999319102,1.656944673728671,-0.8269206687359101,0.06556319052433303,-0.8214461312213147,2.187880503422802,-0.46944316735562686,-0.7370885868139803,0.8165338304816602,-0.9054807194666195,-1.3809585264041093,-0.7458765995206087,0.18823758886614955,1.3784227314336097,-1.0036999714454244,-0.8559179530591503,-1.5808922630144657,-1.0890433281306702,0.6087193993857751,1.2516196623031353,-0.7354149576024046,0.2891258014135116,0.07985900771739284,-1.215018118998959,0.31249748403780464,0.9175732377339435,-1.041267348022098,-1.069969287706913,1.4965582109974387,2.639408794995632,0.9601098331096278,0.31731584401142465,-2.0170362462039684,0.9816338696585786,1.5190162401027576,0.15579596719864214,0.27471292445643963,-0.63239828780116,-1.0501242325930704,0.8160338670311766,-1.0935321627740018,-0.8056994370048624,0.32500050683722304,0.30487108890472714,-0.31497417629318075,2.0218995987796933,0.4843579882960143],\"type\":\"scatter\"},{\"line\":{\"color\":\"rgba(55, 128, 191, 1.0)\",\"dash\":\"solid\",\"shape\":\"linear\",\"width\":1.3},\"mode\":\"lines\",\"name\":\"B\",\"text\":\"\",\"x\":[0,1,2,3,4,5,6,7,8,9,10,11,12,13,14,15,16,17,18,19,20,21,22,23,24,25,26,27,28,29,30,31,32,33,34,35,36,37,38,39,40,41,42,43,44,45,46,47,48,49,50,51,52,53,54,55,56,57,58,59,60,61,62,63,64,65,66,67,68,69,70,71,72,73,74,75,76,77,78,79,80,81,82,83,84,85,86,87,88,89,90,91,92,93,94,95,96,97,98,99],\"y\":[-0.612674881396858,-0.2369623864621897,0.884172060253383,1.1599681389449998,1.541433973431705,-0.024482749390586922,-0.010581934928280717,0.4208804279380881,-1.055904482828417,-0.5731293410391528,0.6136951834885712,0.3788139488071389,-0.7236246217565258,-0.9832872929064812,-0.04584667102425731,1.0990096326338898,-0.4894552325381044,0.09207295202927872,0.8907023697335712,1.071647550161279,-0.09772605038866598,-0.5573372268161606,2.1569812897937672,-0.3138297576026716,0.967564149880955,0.5283041481971225,1.275552520971748,-0.23814452995452495,1.3686369305494708,0.4554414353012013,0.17261064038033674,-1.2790756257079117,-1.668432178436465,-0.7589722147586523,-1.1217293268341164,0.1457960988457628,-2.460171601392952,1.1224080996706933,-0.5718735010119889,0.7480470173720155,-0.03113393613510434,1.6490615045790034,0.05753332794358935,-0.20428125058288318,-2.0075424792795133,0.667885385351891,0.0636282659190983,-0.011188874517152437,2.049007627401017,-1.5848630631660825,-0.9622210929462339,-0.8431124359578438,0.05754501771367724,-1.2870024758751444,-0.19727806101733522,1.3001919306481338,0.3064075043148491,0.07117476930400782,-0.96812683843896,1.82880823196082,1.5559339345907204,1.7050542509227609,1.7171720163798219,0.42589246627030913,-2.3660287467420225,-1.5323420715419014,1.9884957118847637,-0.7216381285780816,-0.9380010074166955,0.16306318472752554,-0.7425934426726053,-0.9707420414928241,-2.0238789682217306,0.20622339294902128,0.29403482434209716,0.12147098035639514,0.20258350462675498,-0.2992269193093349,0.22115912154903292,-1.7790002822602209,-1.872050479776317,-0.43176879529106,0.940906565069375,1.3443483421299551,-0.8062940834059503,-0.15012732876279758,0.20043931984963673,0.22002772846606183,-1.4076957323909052,1.36507767965311,0.5463241272540051,1.9568592851420272,-0.886230842336463,-0.24970954645615465,1.4577791399977678,-1.0263047973016162,-1.0009532490096018,-0.28890730822092503,1.072250787176654,0.45805736391766777],\"type\":\"scatter\"},{\"connectgaps\":false,\"fill\":\"tozeroy\",\"line\":{\"color\":\"green\",\"dash\":\"solid\",\"shape\":\"linear\",\"width\":0.5},\"mode\":\"lines\",\"name\":\"Spread\",\"showlegend\":false,\"x\":[0,1,2,3,4,5,6,7,8,9,10,11,12,13,14,15,16,17,18,19,20,21,22,23,24,25,26,27,28,29,30,31,32,33,34,35,36,37,38,39,40,41,42,43,44,45,46,47,48,49,50,51,52,53,54,55,56,57,58,59,60,61,62,63,64,65,66,67,68,69,70,71,72,73,74,75,76,77,78,79,80,81,82,83,84,85,86,87,88,89,90,91,92,93,94,95,96,97,98,99],\"xaxis\":\"x2\",\"y\":[0.3639818491393667,\"\",\"\",\"\",\"\",0.14923038412786263,0.9876966556208349,\"\",3.1392296416510446,0.43020419139724103,\"\",\"\",\"\",\"\",1.2236705580559755,\"\",1.1346575136621713,\"\",\"\",\"\",0.46494651722272845,1.789791670257098,\"\",2.018062373148792,\"\",\"\",0.7874174310092219,0.6047435408307056,\"\",0.28118179041009395,0.5083001577160637,1.7127925794307688,2.1738628823095287,\"\",2.3617522103791897,\"\",4.037874275125535,\"\",1.3363235977963681,\"\",0.40434831664257,\"\",\"\",1.0713966724804154,2.9204394411345533,\"\",0.14824433405317294,0.062127548023096085,\"\",1.6385128493189536,0.9424661719627915,2.4229273555172335,0.7337736175480457,0.3844435759432342,1.8542227347460063,\"\",\"\",\"\",3.156007341861762,\"\",\"\",\"\",\"\",\"\",1.6201521472214138,1.720579660408051,\"\",\"\",0.08208305435754515,\"\",\"\",1.5794614408785992,3.275498630524866,\"\",\"\",\"\",\"\",0.6117244033471396,0.6964141161849106,0.7377329342381229,0.802081192069404,1.9283270062884987,1.698502229926257,\"\",1.123609927417375,\"\",0.7811945498089419,1.2989885116366957,1.5634916995895474,\"\",\"\",\"\",1.7022647093676397,\"\",\"\",1.3513053041388392,1.3058243379143288,\"\",0.9496488116030393,0.026300624378346515],\"yaxis\":\"y2\",\"type\":\"scatter\"},{\"connectgaps\":false,\"fill\":\"tozeroy\",\"line\":{\"color\":\"red\",\"dash\":\"solid\",\"shape\":\"linear\",\"width\":0.5},\"mode\":\"lines\",\"name\":\"Spread\",\"showlegend\":false,\"x\":[0,1,2,3,4,5,6,7,8,9,10,11,12,13,14,15,16,17,18,19,20,21,22,23,24,25,26,27,28,29,30,31,32,33,34,35,36,37,38,39,40,41,42,43,44,45,46,47,48,49,50,51,52,53,54,55,56,57,58,59,60,61,62,63,64,65,66,67,68,69,70,71,72,73,74,75,76,77,78,79,80,81,82,83,84,85,86,87,88,89,90,91,92,93,94,95,96,97,98,99],\"xaxis\":\"x2\",\"y\":[\"\",-2.1511834091171433,-0.17891511067198673,-0.2677844873242776,-2.405617268024986,\"\",\"\",-1.5417601743724942,\"\",\"\",-1.7449121810824089,-0.4948909207788583,-1.4567389866503513,-0.1257745161937679,\"\",-0.30798368855219893,\"\",-0.2663520454093463,-0.06819913824933732,-0.7728693277002779,\"\",\"\",-3.8589931694186603,\"\",-2.412609723874531,-1.3137633964537625,\"\",\"\",-2.485436583450916,\"\",\"\",\"\",\"\",-0.14254774111786028,\"\",-0.22228373100149101,\"\",-1.2210350007635145,\"\",-0.5770071929508709,\"\",-1.751227586449188,-2.4088906132168435,\"\",\"\",-0.4900330011014431,\"\",\"\",-1.392611217993036,\"\",\"\",\"\",\"\",\"\",\"\",-2.127112599384044,-0.24084431379051607,-0.8926209005253225,\"\",-2.298251399316447,-2.2930225214047004,-0.8885204204411007,-2.622652735846441,-1.8068509926744185,\"\",\"\",-0.610072980451154,-0.2820618428673428,\"\",-1.7439554477419912,-0.3464498854580649,\"\",\"\",-0.9416383505514259,-0.004909022928585582,-0.041611972639002306,-1.417601623625714,\"\",\"\",\"\",\"\",\"\",\"\",-0.3842385090203273,\"\",-1.8669089174411708,\"\",\"\",\"\",-1.0903647551966704,-1.1787224150551652,-3.0069835177350974,\"\",-0.8438226163178472,-2.26347857700263,\"\",\"\",-0.026066868072255722,\"\",\"\"],\"yaxis\":\"y2\",\"type\":\"scatter\"}],                        {\"hovermode\":\"x\",\"legend\":{\"bgcolor\":\"#F5F6F9\",\"font\":{\"color\":\"#4D5663\"}},\"paper_bgcolor\":\"#F5F6F9\",\"plot_bgcolor\":\"#F5F6F9\",\"template\":{\"data\":{\"barpolar\":[{\"marker\":{\"line\":{\"color\":\"#E5ECF6\",\"width\":0.5},\"pattern\":{\"fillmode\":\"overlay\",\"size\":10,\"solidity\":0.2}},\"type\":\"barpolar\"}],\"bar\":[{\"error_x\":{\"color\":\"#2a3f5f\"},\"error_y\":{\"color\":\"#2a3f5f\"},\"marker\":{\"line\":{\"color\":\"#E5ECF6\",\"width\":0.5},\"pattern\":{\"fillmode\":\"overlay\",\"size\":10,\"solidity\":0.2}},\"type\":\"bar\"}],\"carpet\":[{\"aaxis\":{\"endlinecolor\":\"#2a3f5f\",\"gridcolor\":\"white\",\"linecolor\":\"white\",\"minorgridcolor\":\"white\",\"startlinecolor\":\"#2a3f5f\"},\"baxis\":{\"endlinecolor\":\"#2a3f5f\",\"gridcolor\":\"white\",\"linecolor\":\"white\",\"minorgridcolor\":\"white\",\"startlinecolor\":\"#2a3f5f\"},\"type\":\"carpet\"}],\"choropleth\":[{\"colorbar\":{\"outlinewidth\":0,\"ticks\":\"\"},\"type\":\"choropleth\"}],\"contourcarpet\":[{\"colorbar\":{\"outlinewidth\":0,\"ticks\":\"\"},\"type\":\"contourcarpet\"}],\"contour\":[{\"colorbar\":{\"outlinewidth\":0,\"ticks\":\"\"},\"colorscale\":[[0.0,\"#0d0887\"],[0.1111111111111111,\"#46039f\"],[0.2222222222222222,\"#7201a8\"],[0.3333333333333333,\"#9c179e\"],[0.4444444444444444,\"#bd3786\"],[0.5555555555555556,\"#d8576b\"],[0.6666666666666666,\"#ed7953\"],[0.7777777777777778,\"#fb9f3a\"],[0.8888888888888888,\"#fdca26\"],[1.0,\"#f0f921\"]],\"type\":\"contour\"}],\"heatmapgl\":[{\"colorbar\":{\"outlinewidth\":0,\"ticks\":\"\"},\"colorscale\":[[0.0,\"#0d0887\"],[0.1111111111111111,\"#46039f\"],[0.2222222222222222,\"#7201a8\"],[0.3333333333333333,\"#9c179e\"],[0.4444444444444444,\"#bd3786\"],[0.5555555555555556,\"#d8576b\"],[0.6666666666666666,\"#ed7953\"],[0.7777777777777778,\"#fb9f3a\"],[0.8888888888888888,\"#fdca26\"],[1.0,\"#f0f921\"]],\"type\":\"heatmapgl\"}],\"heatmap\":[{\"colorbar\":{\"outlinewidth\":0,\"ticks\":\"\"},\"colorscale\":[[0.0,\"#0d0887\"],[0.1111111111111111,\"#46039f\"],[0.2222222222222222,\"#7201a8\"],[0.3333333333333333,\"#9c179e\"],[0.4444444444444444,\"#bd3786\"],[0.5555555555555556,\"#d8576b\"],[0.6666666666666666,\"#ed7953\"],[0.7777777777777778,\"#fb9f3a\"],[0.8888888888888888,\"#fdca26\"],[1.0,\"#f0f921\"]],\"type\":\"heatmap\"}],\"histogram2dcontour\":[{\"colorbar\":{\"outlinewidth\":0,\"ticks\":\"\"},\"colorscale\":[[0.0,\"#0d0887\"],[0.1111111111111111,\"#46039f\"],[0.2222222222222222,\"#7201a8\"],[0.3333333333333333,\"#9c179e\"],[0.4444444444444444,\"#bd3786\"],[0.5555555555555556,\"#d8576b\"],[0.6666666666666666,\"#ed7953\"],[0.7777777777777778,\"#fb9f3a\"],[0.8888888888888888,\"#fdca26\"],[1.0,\"#f0f921\"]],\"type\":\"histogram2dcontour\"}],\"histogram2d\":[{\"colorbar\":{\"outlinewidth\":0,\"ticks\":\"\"},\"colorscale\":[[0.0,\"#0d0887\"],[0.1111111111111111,\"#46039f\"],[0.2222222222222222,\"#7201a8\"],[0.3333333333333333,\"#9c179e\"],[0.4444444444444444,\"#bd3786\"],[0.5555555555555556,\"#d8576b\"],[0.6666666666666666,\"#ed7953\"],[0.7777777777777778,\"#fb9f3a\"],[0.8888888888888888,\"#fdca26\"],[1.0,\"#f0f921\"]],\"type\":\"histogram2d\"}],\"histogram\":[{\"marker\":{\"pattern\":{\"fillmode\":\"overlay\",\"size\":10,\"solidity\":0.2}},\"type\":\"histogram\"}],\"mesh3d\":[{\"colorbar\":{\"outlinewidth\":0,\"ticks\":\"\"},\"type\":\"mesh3d\"}],\"parcoords\":[{\"line\":{\"colorbar\":{\"outlinewidth\":0,\"ticks\":\"\"}},\"type\":\"parcoords\"}],\"pie\":[{\"automargin\":true,\"type\":\"pie\"}],\"scatter3d\":[{\"line\":{\"colorbar\":{\"outlinewidth\":0,\"ticks\":\"\"}},\"marker\":{\"colorbar\":{\"outlinewidth\":0,\"ticks\":\"\"}},\"type\":\"scatter3d\"}],\"scattercarpet\":[{\"marker\":{\"colorbar\":{\"outlinewidth\":0,\"ticks\":\"\"}},\"type\":\"scattercarpet\"}],\"scattergeo\":[{\"marker\":{\"colorbar\":{\"outlinewidth\":0,\"ticks\":\"\"}},\"type\":\"scattergeo\"}],\"scattergl\":[{\"marker\":{\"colorbar\":{\"outlinewidth\":0,\"ticks\":\"\"}},\"type\":\"scattergl\"}],\"scattermapbox\":[{\"marker\":{\"colorbar\":{\"outlinewidth\":0,\"ticks\":\"\"}},\"type\":\"scattermapbox\"}],\"scatterpolargl\":[{\"marker\":{\"colorbar\":{\"outlinewidth\":0,\"ticks\":\"\"}},\"type\":\"scatterpolargl\"}],\"scatterpolar\":[{\"marker\":{\"colorbar\":{\"outlinewidth\":0,\"ticks\":\"\"}},\"type\":\"scatterpolar\"}],\"scatter\":[{\"fillpattern\":{\"fillmode\":\"overlay\",\"size\":10,\"solidity\":0.2},\"type\":\"scatter\"}],\"scatterternary\":[{\"marker\":{\"colorbar\":{\"outlinewidth\":0,\"ticks\":\"\"}},\"type\":\"scatterternary\"}],\"surface\":[{\"colorbar\":{\"outlinewidth\":0,\"ticks\":\"\"},\"colorscale\":[[0.0,\"#0d0887\"],[0.1111111111111111,\"#46039f\"],[0.2222222222222222,\"#7201a8\"],[0.3333333333333333,\"#9c179e\"],[0.4444444444444444,\"#bd3786\"],[0.5555555555555556,\"#d8576b\"],[0.6666666666666666,\"#ed7953\"],[0.7777777777777778,\"#fb9f3a\"],[0.8888888888888888,\"#fdca26\"],[1.0,\"#f0f921\"]],\"type\":\"surface\"}],\"table\":[{\"cells\":{\"fill\":{\"color\":\"#EBF0F8\"},\"line\":{\"color\":\"white\"}},\"header\":{\"fill\":{\"color\":\"#C8D4E3\"},\"line\":{\"color\":\"white\"}},\"type\":\"table\"}]},\"layout\":{\"annotationdefaults\":{\"arrowcolor\":\"#2a3f5f\",\"arrowhead\":0,\"arrowwidth\":1},\"autotypenumbers\":\"strict\",\"coloraxis\":{\"colorbar\":{\"outlinewidth\":0,\"ticks\":\"\"}},\"colorscale\":{\"diverging\":[[0,\"#8e0152\"],[0.1,\"#c51b7d\"],[0.2,\"#de77ae\"],[0.3,\"#f1b6da\"],[0.4,\"#fde0ef\"],[0.5,\"#f7f7f7\"],[0.6,\"#e6f5d0\"],[0.7,\"#b8e186\"],[0.8,\"#7fbc41\"],[0.9,\"#4d9221\"],[1,\"#276419\"]],\"sequential\":[[0.0,\"#0d0887\"],[0.1111111111111111,\"#46039f\"],[0.2222222222222222,\"#7201a8\"],[0.3333333333333333,\"#9c179e\"],[0.4444444444444444,\"#bd3786\"],[0.5555555555555556,\"#d8576b\"],[0.6666666666666666,\"#ed7953\"],[0.7777777777777778,\"#fb9f3a\"],[0.8888888888888888,\"#fdca26\"],[1.0,\"#f0f921\"]],\"sequentialminus\":[[0.0,\"#0d0887\"],[0.1111111111111111,\"#46039f\"],[0.2222222222222222,\"#7201a8\"],[0.3333333333333333,\"#9c179e\"],[0.4444444444444444,\"#bd3786\"],[0.5555555555555556,\"#d8576b\"],[0.6666666666666666,\"#ed7953\"],[0.7777777777777778,\"#fb9f3a\"],[0.8888888888888888,\"#fdca26\"],[1.0,\"#f0f921\"]]},\"colorway\":[\"#636efa\",\"#EF553B\",\"#00cc96\",\"#ab63fa\",\"#FFA15A\",\"#19d3f3\",\"#FF6692\",\"#B6E880\",\"#FF97FF\",\"#FECB52\"],\"font\":{\"color\":\"#2a3f5f\"},\"geo\":{\"bgcolor\":\"white\",\"lakecolor\":\"white\",\"landcolor\":\"#E5ECF6\",\"showlakes\":true,\"showland\":true,\"subunitcolor\":\"white\"},\"hoverlabel\":{\"align\":\"left\"},\"hovermode\":\"closest\",\"mapbox\":{\"style\":\"light\"},\"paper_bgcolor\":\"white\",\"plot_bgcolor\":\"#E5ECF6\",\"polar\":{\"angularaxis\":{\"gridcolor\":\"white\",\"linecolor\":\"white\",\"ticks\":\"\"},\"bgcolor\":\"#E5ECF6\",\"radialaxis\":{\"gridcolor\":\"white\",\"linecolor\":\"white\",\"ticks\":\"\"}},\"scene\":{\"xaxis\":{\"backgroundcolor\":\"#E5ECF6\",\"gridcolor\":\"white\",\"gridwidth\":2,\"linecolor\":\"white\",\"showbackground\":true,\"ticks\":\"\",\"zerolinecolor\":\"white\"},\"yaxis\":{\"backgroundcolor\":\"#E5ECF6\",\"gridcolor\":\"white\",\"gridwidth\":2,\"linecolor\":\"white\",\"showbackground\":true,\"ticks\":\"\",\"zerolinecolor\":\"white\"},\"zaxis\":{\"backgroundcolor\":\"#E5ECF6\",\"gridcolor\":\"white\",\"gridwidth\":2,\"linecolor\":\"white\",\"showbackground\":true,\"ticks\":\"\",\"zerolinecolor\":\"white\"}},\"shapedefaults\":{\"line\":{\"color\":\"#2a3f5f\"}},\"ternary\":{\"aaxis\":{\"gridcolor\":\"white\",\"linecolor\":\"white\",\"ticks\":\"\"},\"baxis\":{\"gridcolor\":\"white\",\"linecolor\":\"white\",\"ticks\":\"\"},\"bgcolor\":\"#E5ECF6\",\"caxis\":{\"gridcolor\":\"white\",\"linecolor\":\"white\",\"ticks\":\"\"}},\"title\":{\"x\":0.05},\"xaxis\":{\"automargin\":true,\"gridcolor\":\"white\",\"linecolor\":\"white\",\"ticks\":\"\",\"title\":{\"standoff\":15},\"zerolinecolor\":\"white\",\"zerolinewidth\":2},\"yaxis\":{\"automargin\":true,\"gridcolor\":\"white\",\"linecolor\":\"white\",\"ticks\":\"\",\"title\":{\"standoff\":15},\"zerolinecolor\":\"white\",\"zerolinewidth\":2}}},\"title\":{\"font\":{\"color\":\"#4D5663\"}},\"xaxis\":{\"gridcolor\":\"#E1E5ED\",\"showgrid\":true,\"tickfont\":{\"color\":\"#4D5663\"},\"title\":{\"font\":{\"color\":\"#4D5663\"},\"text\":\"\"},\"zerolinecolor\":\"#E1E5ED\"},\"yaxis\":{\"domain\":[0.3,1],\"gridcolor\":\"#E1E5ED\",\"showgrid\":true,\"tickfont\":{\"color\":\"#4D5663\"},\"title\":{\"font\":{\"color\":\"#4D5663\"},\"text\":\"\"},\"zerolinecolor\":\"#E1E5ED\"},\"yaxis2\":{\"domain\":[0,0.25],\"gridcolor\":\"#E1E5ED\",\"showgrid\":true,\"tickfont\":{\"color\":\"#4D5663\"},\"title\":{\"font\":{\"color\":\"#4D5663\"},\"text\":\"Spread\"},\"zerolinecolor\":\"#E1E5ED\"},\"xaxis2\":{\"anchor\":\"y2\",\"gridcolor\":\"#E1E5ED\",\"showgrid\":true,\"showticklabels\":false,\"tickfont\":{\"color\":\"#4D5663\"},\"title\":{\"font\":{\"color\":\"#4D5663\"},\"text\":\"\"},\"zerolinecolor\":\"#E1E5ED\"}},                        {\"showLink\": true, \"linkText\": \"Export to plot.ly\", \"plotlyServerURL\": \"https://plot.ly\", \"responsive\": true}                    ).then(function(){\n",
       "                            \n",
       "var gd = document.getElementById('a2d8064c-99e7-4365-a530-d348e0814f6d');\n",
       "var x = new MutationObserver(function (mutations, observer) {{\n",
       "        var display = window.getComputedStyle(gd).display;\n",
       "        if (!display || display === 'none') {{\n",
       "            console.log([gd, 'removed!']);\n",
       "            Plotly.purge(gd);\n",
       "            observer.disconnect();\n",
       "        }}\n",
       "}});\n",
       "\n",
       "// Listen for the removal of the full notebook cells\n",
       "var notebookContainer = gd.closest('#notebook-container');\n",
       "if (notebookContainer) {{\n",
       "    x.observe(notebookContainer, {childList: true});\n",
       "}}\n",
       "\n",
       "// Listen for the clearing of the current output cell\n",
       "var outputEl = gd.closest('.output');\n",
       "if (outputEl) {{\n",
       "    x.observe(outputEl, {childList: true});\n",
       "}}\n",
       "\n",
       "                        })                };                });            </script>        </div>"
      ]
     },
     "metadata": {},
     "output_type": "display_data"
    }
   ],
   "source": [
    "# spread plots and subplots\n",
    "df[['A','B']].iplot(kind='spread')"
   ]
  },
  {
   "cell_type": "code",
   "execution_count": 39,
   "id": "041c3f3e",
   "metadata": {},
   "outputs": [
    {
     "data": {
      "application/vnd.plotly.v1+json": {
       "config": {
        "linkText": "Export to plot.ly",
        "plotlyServerURL": "https://plot.ly",
        "showLink": true
       },
       "data": [
        {
         "marker": {
          "color": [
           "rgb(255, 153, 51)",
           "rgb(55, 128, 191)",
           "rgb(50, 171, 96)",
           "rgb(128, 0, 128)",
           "rgb(219, 64, 82)",
           "rgb(0, 128, 128)",
           "rgb(255, 255, 51)",
           "rgb(128, 128, 0)",
           "rgb(251, 128, 114)",
           "rgb(128, 177, 211)"
          ],
          "line": {
           "width": 1.3
          },
          "size": [
           14,
           84,
           54,
           58,
           51,
           23,
           42,
           50,
           67,
           50,
           50,
           24,
           43,
           36,
           53,
           90,
           66,
           43,
           12,
           62,
           41,
           62,
           25,
           62,
           69,
           78,
           77,
           50,
           38,
           33,
           69,
           57,
           83,
           72,
           40,
           47,
           19,
           75,
           45,
           45,
           64,
           34,
           45,
           63,
           58,
           64,
           77,
           40,
           58,
           67,
           28,
           94,
           52,
           51,
           49,
           48,
           104,
           48,
           41,
           45,
           104,
           112,
           81,
           80,
           78,
           68,
           51,
           44,
           46,
           17,
           56,
           58,
           72,
           107,
           51,
           53,
           54,
           68,
           66,
           52,
           33,
           38,
           61,
           59,
           77,
           58,
           80,
           53,
           103,
           99,
           34,
           93,
           62,
           82,
           53,
           59,
           91,
           52,
           93,
           74
          ],
          "symbol": "circle"
         },
         "mode": "markers",
         "text": "",
         "type": "scatter",
         "x": [
          -0.24869303225749126,
          -2.388145795579333,
          0.7052569495813963,
          0.8921836516207222,
          -0.8641832945932809,
          0.12474763473727571,
          0.9771147206925541,
          -1.120879746434406,
          2.083325158822628,
          -0.14292514964191178,
          -1.1312169975938375,
          -0.11607697197171943,
          -2.180363608406877,
          -1.109061809100249,
          1.1778238870317181,
          0.7910259440816909,
          0.645202281124067,
          -0.1742790933800676,
          0.8225032314842339,
          0.29877822246100105,
          0.36722046683406245,
          1.2324544434409372,
          -1.7020118796248933,
          1.7042326155461203,
          -1.4450455739935764,
          -0.78545924825664,
          2.06296995198097,
          0.3665990108761806,
          -1.116799652901445,
          0.7366232257112952,
          0.6809107980964005,
          0.4337169537228572,
          0.5054307038730637,
          -0.9015199558765126,
          1.2400228835450735,
          -0.0764876321557282,
          1.5777026737325832,
          -0.09862690109282116,
          0.7644500967843794,
          0.17103982442114465,
          0.37321438050746564,
          -0.1021660818701845,
          -2.351357285273254,
          0.8671154218975321,
          0.9128969618550399,
          0.17785238425044794,
          0.21187259997227123,
          0.050938673505943645,
          0.6563964094079809,
          0.053649786152871054,
          -0.0197549209834424,
          1.5798149195593896,
          0.791318635261723,
          -0.9025588999319102,
          1.656944673728671,
          -0.8269206687359101,
          0.06556319052433303,
          -0.8214461312213147,
          2.187880503422802,
          -0.46944316735562686,
          -0.7370885868139803,
          0.8165338304816602,
          -0.9054807194666195,
          -1.3809585264041093,
          -0.7458765995206087,
          0.18823758886614955,
          1.3784227314336097,
          -1.0036999714454244,
          -0.8559179530591503,
          -1.5808922630144657,
          -1.0890433281306702,
          0.6087193993857751,
          1.2516196623031353,
          -0.7354149576024046,
          0.2891258014135116,
          0.07985900771739284,
          -1.215018118998959,
          0.31249748403780464,
          0.9175732377339435,
          -1.041267348022098,
          -1.069969287706913,
          1.4965582109974387,
          2.639408794995632,
          0.9601098331096278,
          0.31731584401142465,
          -2.0170362462039684,
          0.9816338696585786,
          1.5190162401027576,
          0.15579596719864214,
          0.27471292445643963,
          -0.63239828780116,
          -1.0501242325930704,
          0.8160338670311766,
          -1.0935321627740018,
          -0.8056994370048624,
          0.32500050683722304,
          0.30487108890472714,
          -0.31497417629318075,
          2.0218995987796933,
          0.4843579882960143
         ],
         "y": [
          -0.612674881396858,
          -0.2369623864621897,
          0.884172060253383,
          1.1599681389449998,
          1.541433973431705,
          -0.024482749390586922,
          -0.010581934928280717,
          0.4208804279380881,
          -1.055904482828417,
          -0.5731293410391528,
          0.6136951834885712,
          0.3788139488071389,
          -0.7236246217565258,
          -0.9832872929064812,
          -0.04584667102425731,
          1.0990096326338898,
          -0.4894552325381044,
          0.09207295202927872,
          0.8907023697335712,
          1.071647550161279,
          -0.09772605038866598,
          -0.5573372268161606,
          2.1569812897937672,
          -0.3138297576026716,
          0.967564149880955,
          0.5283041481971225,
          1.275552520971748,
          -0.23814452995452495,
          1.3686369305494708,
          0.4554414353012013,
          0.17261064038033674,
          -1.2790756257079117,
          -1.668432178436465,
          -0.7589722147586523,
          -1.1217293268341164,
          0.1457960988457628,
          -2.460171601392952,
          1.1224080996706933,
          -0.5718735010119889,
          0.7480470173720155,
          -0.03113393613510434,
          1.6490615045790034,
          0.05753332794358935,
          -0.20428125058288318,
          -2.0075424792795133,
          0.667885385351891,
          0.0636282659190983,
          -0.011188874517152437,
          2.049007627401017,
          -1.5848630631660825,
          -0.9622210929462339,
          -0.8431124359578438,
          0.05754501771367724,
          -1.2870024758751444,
          -0.19727806101733522,
          1.3001919306481338,
          0.3064075043148491,
          0.07117476930400782,
          -0.96812683843896,
          1.82880823196082,
          1.5559339345907204,
          1.7050542509227609,
          1.7171720163798219,
          0.42589246627030913,
          -2.3660287467420225,
          -1.5323420715419014,
          1.9884957118847637,
          -0.7216381285780816,
          -0.9380010074166955,
          0.16306318472752554,
          -0.7425934426726053,
          -0.9707420414928241,
          -2.0238789682217306,
          0.20622339294902128,
          0.29403482434209716,
          0.12147098035639514,
          0.20258350462675498,
          -0.2992269193093349,
          0.22115912154903292,
          -1.7790002822602209,
          -1.872050479776317,
          -0.43176879529106,
          0.940906565069375,
          1.3443483421299551,
          -0.8062940834059503,
          -0.15012732876279758,
          0.20043931984963673,
          0.22002772846606183,
          -1.4076957323909052,
          1.36507767965311,
          0.5463241272540051,
          1.9568592851420272,
          -0.886230842336463,
          -0.24970954645615465,
          1.4577791399977678,
          -1.0263047973016162,
          -1.0009532490096018,
          -0.28890730822092503,
          1.072250787176654,
          0.45805736391766777
         ]
        }
       ],
       "layout": {
        "legend": {
         "bgcolor": "#F5F6F9",
         "font": {
          "color": "#4D5663"
         }
        },
        "paper_bgcolor": "#F5F6F9",
        "plot_bgcolor": "#F5F6F9",
        "template": {
         "data": {
          "bar": [
           {
            "error_x": {
             "color": "#2a3f5f"
            },
            "error_y": {
             "color": "#2a3f5f"
            },
            "marker": {
             "line": {
              "color": "#E5ECF6",
              "width": 0.5
             },
             "pattern": {
              "fillmode": "overlay",
              "size": 10,
              "solidity": 0.2
             }
            },
            "type": "bar"
           }
          ],
          "barpolar": [
           {
            "marker": {
             "line": {
              "color": "#E5ECF6",
              "width": 0.5
             },
             "pattern": {
              "fillmode": "overlay",
              "size": 10,
              "solidity": 0.2
             }
            },
            "type": "barpolar"
           }
          ],
          "carpet": [
           {
            "aaxis": {
             "endlinecolor": "#2a3f5f",
             "gridcolor": "white",
             "linecolor": "white",
             "minorgridcolor": "white",
             "startlinecolor": "#2a3f5f"
            },
            "baxis": {
             "endlinecolor": "#2a3f5f",
             "gridcolor": "white",
             "linecolor": "white",
             "minorgridcolor": "white",
             "startlinecolor": "#2a3f5f"
            },
            "type": "carpet"
           }
          ],
          "choropleth": [
           {
            "colorbar": {
             "outlinewidth": 0,
             "ticks": ""
            },
            "type": "choropleth"
           }
          ],
          "contour": [
           {
            "colorbar": {
             "outlinewidth": 0,
             "ticks": ""
            },
            "colorscale": [
             [
              0,
              "#0d0887"
             ],
             [
              0.1111111111111111,
              "#46039f"
             ],
             [
              0.2222222222222222,
              "#7201a8"
             ],
             [
              0.3333333333333333,
              "#9c179e"
             ],
             [
              0.4444444444444444,
              "#bd3786"
             ],
             [
              0.5555555555555556,
              "#d8576b"
             ],
             [
              0.6666666666666666,
              "#ed7953"
             ],
             [
              0.7777777777777778,
              "#fb9f3a"
             ],
             [
              0.8888888888888888,
              "#fdca26"
             ],
             [
              1,
              "#f0f921"
             ]
            ],
            "type": "contour"
           }
          ],
          "contourcarpet": [
           {
            "colorbar": {
             "outlinewidth": 0,
             "ticks": ""
            },
            "type": "contourcarpet"
           }
          ],
          "heatmap": [
           {
            "colorbar": {
             "outlinewidth": 0,
             "ticks": ""
            },
            "colorscale": [
             [
              0,
              "#0d0887"
             ],
             [
              0.1111111111111111,
              "#46039f"
             ],
             [
              0.2222222222222222,
              "#7201a8"
             ],
             [
              0.3333333333333333,
              "#9c179e"
             ],
             [
              0.4444444444444444,
              "#bd3786"
             ],
             [
              0.5555555555555556,
              "#d8576b"
             ],
             [
              0.6666666666666666,
              "#ed7953"
             ],
             [
              0.7777777777777778,
              "#fb9f3a"
             ],
             [
              0.8888888888888888,
              "#fdca26"
             ],
             [
              1,
              "#f0f921"
             ]
            ],
            "type": "heatmap"
           }
          ],
          "heatmapgl": [
           {
            "colorbar": {
             "outlinewidth": 0,
             "ticks": ""
            },
            "colorscale": [
             [
              0,
              "#0d0887"
             ],
             [
              0.1111111111111111,
              "#46039f"
             ],
             [
              0.2222222222222222,
              "#7201a8"
             ],
             [
              0.3333333333333333,
              "#9c179e"
             ],
             [
              0.4444444444444444,
              "#bd3786"
             ],
             [
              0.5555555555555556,
              "#d8576b"
             ],
             [
              0.6666666666666666,
              "#ed7953"
             ],
             [
              0.7777777777777778,
              "#fb9f3a"
             ],
             [
              0.8888888888888888,
              "#fdca26"
             ],
             [
              1,
              "#f0f921"
             ]
            ],
            "type": "heatmapgl"
           }
          ],
          "histogram": [
           {
            "marker": {
             "pattern": {
              "fillmode": "overlay",
              "size": 10,
              "solidity": 0.2
             }
            },
            "type": "histogram"
           }
          ],
          "histogram2d": [
           {
            "colorbar": {
             "outlinewidth": 0,
             "ticks": ""
            },
            "colorscale": [
             [
              0,
              "#0d0887"
             ],
             [
              0.1111111111111111,
              "#46039f"
             ],
             [
              0.2222222222222222,
              "#7201a8"
             ],
             [
              0.3333333333333333,
              "#9c179e"
             ],
             [
              0.4444444444444444,
              "#bd3786"
             ],
             [
              0.5555555555555556,
              "#d8576b"
             ],
             [
              0.6666666666666666,
              "#ed7953"
             ],
             [
              0.7777777777777778,
              "#fb9f3a"
             ],
             [
              0.8888888888888888,
              "#fdca26"
             ],
             [
              1,
              "#f0f921"
             ]
            ],
            "type": "histogram2d"
           }
          ],
          "histogram2dcontour": [
           {
            "colorbar": {
             "outlinewidth": 0,
             "ticks": ""
            },
            "colorscale": [
             [
              0,
              "#0d0887"
             ],
             [
              0.1111111111111111,
              "#46039f"
             ],
             [
              0.2222222222222222,
              "#7201a8"
             ],
             [
              0.3333333333333333,
              "#9c179e"
             ],
             [
              0.4444444444444444,
              "#bd3786"
             ],
             [
              0.5555555555555556,
              "#d8576b"
             ],
             [
              0.6666666666666666,
              "#ed7953"
             ],
             [
              0.7777777777777778,
              "#fb9f3a"
             ],
             [
              0.8888888888888888,
              "#fdca26"
             ],
             [
              1,
              "#f0f921"
             ]
            ],
            "type": "histogram2dcontour"
           }
          ],
          "mesh3d": [
           {
            "colorbar": {
             "outlinewidth": 0,
             "ticks": ""
            },
            "type": "mesh3d"
           }
          ],
          "parcoords": [
           {
            "line": {
             "colorbar": {
              "outlinewidth": 0,
              "ticks": ""
             }
            },
            "type": "parcoords"
           }
          ],
          "pie": [
           {
            "automargin": true,
            "type": "pie"
           }
          ],
          "scatter": [
           {
            "fillpattern": {
             "fillmode": "overlay",
             "size": 10,
             "solidity": 0.2
            },
            "type": "scatter"
           }
          ],
          "scatter3d": [
           {
            "line": {
             "colorbar": {
              "outlinewidth": 0,
              "ticks": ""
             }
            },
            "marker": {
             "colorbar": {
              "outlinewidth": 0,
              "ticks": ""
             }
            },
            "type": "scatter3d"
           }
          ],
          "scattercarpet": [
           {
            "marker": {
             "colorbar": {
              "outlinewidth": 0,
              "ticks": ""
             }
            },
            "type": "scattercarpet"
           }
          ],
          "scattergeo": [
           {
            "marker": {
             "colorbar": {
              "outlinewidth": 0,
              "ticks": ""
             }
            },
            "type": "scattergeo"
           }
          ],
          "scattergl": [
           {
            "marker": {
             "colorbar": {
              "outlinewidth": 0,
              "ticks": ""
             }
            },
            "type": "scattergl"
           }
          ],
          "scattermapbox": [
           {
            "marker": {
             "colorbar": {
              "outlinewidth": 0,
              "ticks": ""
             }
            },
            "type": "scattermapbox"
           }
          ],
          "scatterpolar": [
           {
            "marker": {
             "colorbar": {
              "outlinewidth": 0,
              "ticks": ""
             }
            },
            "type": "scatterpolar"
           }
          ],
          "scatterpolargl": [
           {
            "marker": {
             "colorbar": {
              "outlinewidth": 0,
              "ticks": ""
             }
            },
            "type": "scatterpolargl"
           }
          ],
          "scatterternary": [
           {
            "marker": {
             "colorbar": {
              "outlinewidth": 0,
              "ticks": ""
             }
            },
            "type": "scatterternary"
           }
          ],
          "surface": [
           {
            "colorbar": {
             "outlinewidth": 0,
             "ticks": ""
            },
            "colorscale": [
             [
              0,
              "#0d0887"
             ],
             [
              0.1111111111111111,
              "#46039f"
             ],
             [
              0.2222222222222222,
              "#7201a8"
             ],
             [
              0.3333333333333333,
              "#9c179e"
             ],
             [
              0.4444444444444444,
              "#bd3786"
             ],
             [
              0.5555555555555556,
              "#d8576b"
             ],
             [
              0.6666666666666666,
              "#ed7953"
             ],
             [
              0.7777777777777778,
              "#fb9f3a"
             ],
             [
              0.8888888888888888,
              "#fdca26"
             ],
             [
              1,
              "#f0f921"
             ]
            ],
            "type": "surface"
           }
          ],
          "table": [
           {
            "cells": {
             "fill": {
              "color": "#EBF0F8"
             },
             "line": {
              "color": "white"
             }
            },
            "header": {
             "fill": {
              "color": "#C8D4E3"
             },
             "line": {
              "color": "white"
             }
            },
            "type": "table"
           }
          ]
         },
         "layout": {
          "annotationdefaults": {
           "arrowcolor": "#2a3f5f",
           "arrowhead": 0,
           "arrowwidth": 1
          },
          "autotypenumbers": "strict",
          "coloraxis": {
           "colorbar": {
            "outlinewidth": 0,
            "ticks": ""
           }
          },
          "colorscale": {
           "diverging": [
            [
             0,
             "#8e0152"
            ],
            [
             0.1,
             "#c51b7d"
            ],
            [
             0.2,
             "#de77ae"
            ],
            [
             0.3,
             "#f1b6da"
            ],
            [
             0.4,
             "#fde0ef"
            ],
            [
             0.5,
             "#f7f7f7"
            ],
            [
             0.6,
             "#e6f5d0"
            ],
            [
             0.7,
             "#b8e186"
            ],
            [
             0.8,
             "#7fbc41"
            ],
            [
             0.9,
             "#4d9221"
            ],
            [
             1,
             "#276419"
            ]
           ],
           "sequential": [
            [
             0,
             "#0d0887"
            ],
            [
             0.1111111111111111,
             "#46039f"
            ],
            [
             0.2222222222222222,
             "#7201a8"
            ],
            [
             0.3333333333333333,
             "#9c179e"
            ],
            [
             0.4444444444444444,
             "#bd3786"
            ],
            [
             0.5555555555555556,
             "#d8576b"
            ],
            [
             0.6666666666666666,
             "#ed7953"
            ],
            [
             0.7777777777777778,
             "#fb9f3a"
            ],
            [
             0.8888888888888888,
             "#fdca26"
            ],
            [
             1,
             "#f0f921"
            ]
           ],
           "sequentialminus": [
            [
             0,
             "#0d0887"
            ],
            [
             0.1111111111111111,
             "#46039f"
            ],
            [
             0.2222222222222222,
             "#7201a8"
            ],
            [
             0.3333333333333333,
             "#9c179e"
            ],
            [
             0.4444444444444444,
             "#bd3786"
            ],
            [
             0.5555555555555556,
             "#d8576b"
            ],
            [
             0.6666666666666666,
             "#ed7953"
            ],
            [
             0.7777777777777778,
             "#fb9f3a"
            ],
            [
             0.8888888888888888,
             "#fdca26"
            ],
            [
             1,
             "#f0f921"
            ]
           ]
          },
          "colorway": [
           "#636efa",
           "#EF553B",
           "#00cc96",
           "#ab63fa",
           "#FFA15A",
           "#19d3f3",
           "#FF6692",
           "#B6E880",
           "#FF97FF",
           "#FECB52"
          ],
          "font": {
           "color": "#2a3f5f"
          },
          "geo": {
           "bgcolor": "white",
           "lakecolor": "white",
           "landcolor": "#E5ECF6",
           "showlakes": true,
           "showland": true,
           "subunitcolor": "white"
          },
          "hoverlabel": {
           "align": "left"
          },
          "hovermode": "closest",
          "mapbox": {
           "style": "light"
          },
          "paper_bgcolor": "white",
          "plot_bgcolor": "#E5ECF6",
          "polar": {
           "angularaxis": {
            "gridcolor": "white",
            "linecolor": "white",
            "ticks": ""
           },
           "bgcolor": "#E5ECF6",
           "radialaxis": {
            "gridcolor": "white",
            "linecolor": "white",
            "ticks": ""
           }
          },
          "scene": {
           "xaxis": {
            "backgroundcolor": "#E5ECF6",
            "gridcolor": "white",
            "gridwidth": 2,
            "linecolor": "white",
            "showbackground": true,
            "ticks": "",
            "zerolinecolor": "white"
           },
           "yaxis": {
            "backgroundcolor": "#E5ECF6",
            "gridcolor": "white",
            "gridwidth": 2,
            "linecolor": "white",
            "showbackground": true,
            "ticks": "",
            "zerolinecolor": "white"
           },
           "zaxis": {
            "backgroundcolor": "#E5ECF6",
            "gridcolor": "white",
            "gridwidth": 2,
            "linecolor": "white",
            "showbackground": true,
            "ticks": "",
            "zerolinecolor": "white"
           }
          },
          "shapedefaults": {
           "line": {
            "color": "#2a3f5f"
           }
          },
          "ternary": {
           "aaxis": {
            "gridcolor": "white",
            "linecolor": "white",
            "ticks": ""
           },
           "baxis": {
            "gridcolor": "white",
            "linecolor": "white",
            "ticks": ""
           },
           "bgcolor": "#E5ECF6",
           "caxis": {
            "gridcolor": "white",
            "linecolor": "white",
            "ticks": ""
           }
          },
          "title": {
           "x": 0.05
          },
          "xaxis": {
           "automargin": true,
           "gridcolor": "white",
           "linecolor": "white",
           "ticks": "",
           "title": {
            "standoff": 15
           },
           "zerolinecolor": "white",
           "zerolinewidth": 2
          },
          "yaxis": {
           "automargin": true,
           "gridcolor": "white",
           "linecolor": "white",
           "ticks": "",
           "title": {
            "standoff": 15
           },
           "zerolinecolor": "white",
           "zerolinewidth": 2
          }
         }
        },
        "title": {
         "font": {
          "color": "#4D5663"
         }
        },
        "xaxis": {
         "gridcolor": "#E1E5ED",
         "showgrid": true,
         "tickfont": {
          "color": "#4D5663"
         },
         "title": {
          "font": {
           "color": "#4D5663"
          },
          "text": ""
         },
         "zerolinecolor": "#E1E5ED"
        },
        "yaxis": {
         "gridcolor": "#E1E5ED",
         "showgrid": true,
         "tickfont": {
          "color": "#4D5663"
         },
         "title": {
          "font": {
           "color": "#4D5663"
          },
          "text": ""
         },
         "zerolinecolor": "#E1E5ED"
        }
       }
      },
      "text/html": [
       "<div>                            <div id=\"b9ed1ef1-b7aa-4fc8-9e0d-b9da719fcce9\" class=\"plotly-graph-div\" style=\"height:525px; width:100%;\"></div>            <script type=\"text/javascript\">                require([\"plotly\"], function(Plotly) {                    window.PLOTLYENV=window.PLOTLYENV || {};\n",
       "                    window.PLOTLYENV.BASE_URL='https://plot.ly';                                    if (document.getElementById(\"b9ed1ef1-b7aa-4fc8-9e0d-b9da719fcce9\")) {                    Plotly.newPlot(                        \"b9ed1ef1-b7aa-4fc8-9e0d-b9da719fcce9\",                        [{\"marker\":{\"color\":[\"rgb(255, 153, 51)\",\"rgb(55, 128, 191)\",\"rgb(50, 171, 96)\",\"rgb(128, 0, 128)\",\"rgb(219, 64, 82)\",\"rgb(0, 128, 128)\",\"rgb(255, 255, 51)\",\"rgb(128, 128, 0)\",\"rgb(251, 128, 114)\",\"rgb(128, 177, 211)\"],\"line\":{\"width\":1.3},\"size\":[14,84,54,58,51,23,42,50,67,50,50,24,43,36,53,90,66,43,12,62,41,62,25,62,69,78,77,50,38,33,69,57,83,72,40,47,19,75,45,45,64,34,45,63,58,64,77,40,58,67,28,94,52,51,49,48,104,48,41,45,104,112,81,80,78,68,51,44,46,17,56,58,72,107,51,53,54,68,66,52,33,38,61,59,77,58,80,53,103,99,34,93,62,82,53,59,91,52,93,74],\"symbol\":\"circle\"},\"mode\":\"markers\",\"text\":\"\",\"x\":[-0.24869303225749126,-2.388145795579333,0.7052569495813963,0.8921836516207222,-0.8641832945932809,0.12474763473727571,0.9771147206925541,-1.120879746434406,2.083325158822628,-0.14292514964191178,-1.1312169975938375,-0.11607697197171943,-2.180363608406877,-1.109061809100249,1.1778238870317181,0.7910259440816909,0.645202281124067,-0.1742790933800676,0.8225032314842339,0.29877822246100105,0.36722046683406245,1.2324544434409372,-1.7020118796248933,1.7042326155461203,-1.4450455739935764,-0.78545924825664,2.06296995198097,0.3665990108761806,-1.116799652901445,0.7366232257112952,0.6809107980964005,0.4337169537228572,0.5054307038730637,-0.9015199558765126,1.2400228835450735,-0.0764876321557282,1.5777026737325832,-0.09862690109282116,0.7644500967843794,0.17103982442114465,0.37321438050746564,-0.1021660818701845,-2.351357285273254,0.8671154218975321,0.9128969618550399,0.17785238425044794,0.21187259997227123,0.050938673505943645,0.6563964094079809,0.053649786152871054,-0.0197549209834424,1.5798149195593896,0.791318635261723,-0.9025588999319102,1.656944673728671,-0.8269206687359101,0.06556319052433303,-0.8214461312213147,2.187880503422802,-0.46944316735562686,-0.7370885868139803,0.8165338304816602,-0.9054807194666195,-1.3809585264041093,-0.7458765995206087,0.18823758886614955,1.3784227314336097,-1.0036999714454244,-0.8559179530591503,-1.5808922630144657,-1.0890433281306702,0.6087193993857751,1.2516196623031353,-0.7354149576024046,0.2891258014135116,0.07985900771739284,-1.215018118998959,0.31249748403780464,0.9175732377339435,-1.041267348022098,-1.069969287706913,1.4965582109974387,2.639408794995632,0.9601098331096278,0.31731584401142465,-2.0170362462039684,0.9816338696585786,1.5190162401027576,0.15579596719864214,0.27471292445643963,-0.63239828780116,-1.0501242325930704,0.8160338670311766,-1.0935321627740018,-0.8056994370048624,0.32500050683722304,0.30487108890472714,-0.31497417629318075,2.0218995987796933,0.4843579882960143],\"y\":[-0.612674881396858,-0.2369623864621897,0.884172060253383,1.1599681389449998,1.541433973431705,-0.024482749390586922,-0.010581934928280717,0.4208804279380881,-1.055904482828417,-0.5731293410391528,0.6136951834885712,0.3788139488071389,-0.7236246217565258,-0.9832872929064812,-0.04584667102425731,1.0990096326338898,-0.4894552325381044,0.09207295202927872,0.8907023697335712,1.071647550161279,-0.09772605038866598,-0.5573372268161606,2.1569812897937672,-0.3138297576026716,0.967564149880955,0.5283041481971225,1.275552520971748,-0.23814452995452495,1.3686369305494708,0.4554414353012013,0.17261064038033674,-1.2790756257079117,-1.668432178436465,-0.7589722147586523,-1.1217293268341164,0.1457960988457628,-2.460171601392952,1.1224080996706933,-0.5718735010119889,0.7480470173720155,-0.03113393613510434,1.6490615045790034,0.05753332794358935,-0.20428125058288318,-2.0075424792795133,0.667885385351891,0.0636282659190983,-0.011188874517152437,2.049007627401017,-1.5848630631660825,-0.9622210929462339,-0.8431124359578438,0.05754501771367724,-1.2870024758751444,-0.19727806101733522,1.3001919306481338,0.3064075043148491,0.07117476930400782,-0.96812683843896,1.82880823196082,1.5559339345907204,1.7050542509227609,1.7171720163798219,0.42589246627030913,-2.3660287467420225,-1.5323420715419014,1.9884957118847637,-0.7216381285780816,-0.9380010074166955,0.16306318472752554,-0.7425934426726053,-0.9707420414928241,-2.0238789682217306,0.20622339294902128,0.29403482434209716,0.12147098035639514,0.20258350462675498,-0.2992269193093349,0.22115912154903292,-1.7790002822602209,-1.872050479776317,-0.43176879529106,0.940906565069375,1.3443483421299551,-0.8062940834059503,-0.15012732876279758,0.20043931984963673,0.22002772846606183,-1.4076957323909052,1.36507767965311,0.5463241272540051,1.9568592851420272,-0.886230842336463,-0.24970954645615465,1.4577791399977678,-1.0263047973016162,-1.0009532490096018,-0.28890730822092503,1.072250787176654,0.45805736391766777],\"type\":\"scatter\"}],                        {\"legend\":{\"bgcolor\":\"#F5F6F9\",\"font\":{\"color\":\"#4D5663\"}},\"paper_bgcolor\":\"#F5F6F9\",\"plot_bgcolor\":\"#F5F6F9\",\"template\":{\"data\":{\"barpolar\":[{\"marker\":{\"line\":{\"color\":\"#E5ECF6\",\"width\":0.5},\"pattern\":{\"fillmode\":\"overlay\",\"size\":10,\"solidity\":0.2}},\"type\":\"barpolar\"}],\"bar\":[{\"error_x\":{\"color\":\"#2a3f5f\"},\"error_y\":{\"color\":\"#2a3f5f\"},\"marker\":{\"line\":{\"color\":\"#E5ECF6\",\"width\":0.5},\"pattern\":{\"fillmode\":\"overlay\",\"size\":10,\"solidity\":0.2}},\"type\":\"bar\"}],\"carpet\":[{\"aaxis\":{\"endlinecolor\":\"#2a3f5f\",\"gridcolor\":\"white\",\"linecolor\":\"white\",\"minorgridcolor\":\"white\",\"startlinecolor\":\"#2a3f5f\"},\"baxis\":{\"endlinecolor\":\"#2a3f5f\",\"gridcolor\":\"white\",\"linecolor\":\"white\",\"minorgridcolor\":\"white\",\"startlinecolor\":\"#2a3f5f\"},\"type\":\"carpet\"}],\"choropleth\":[{\"colorbar\":{\"outlinewidth\":0,\"ticks\":\"\"},\"type\":\"choropleth\"}],\"contourcarpet\":[{\"colorbar\":{\"outlinewidth\":0,\"ticks\":\"\"},\"type\":\"contourcarpet\"}],\"contour\":[{\"colorbar\":{\"outlinewidth\":0,\"ticks\":\"\"},\"colorscale\":[[0.0,\"#0d0887\"],[0.1111111111111111,\"#46039f\"],[0.2222222222222222,\"#7201a8\"],[0.3333333333333333,\"#9c179e\"],[0.4444444444444444,\"#bd3786\"],[0.5555555555555556,\"#d8576b\"],[0.6666666666666666,\"#ed7953\"],[0.7777777777777778,\"#fb9f3a\"],[0.8888888888888888,\"#fdca26\"],[1.0,\"#f0f921\"]],\"type\":\"contour\"}],\"heatmapgl\":[{\"colorbar\":{\"outlinewidth\":0,\"ticks\":\"\"},\"colorscale\":[[0.0,\"#0d0887\"],[0.1111111111111111,\"#46039f\"],[0.2222222222222222,\"#7201a8\"],[0.3333333333333333,\"#9c179e\"],[0.4444444444444444,\"#bd3786\"],[0.5555555555555556,\"#d8576b\"],[0.6666666666666666,\"#ed7953\"],[0.7777777777777778,\"#fb9f3a\"],[0.8888888888888888,\"#fdca26\"],[1.0,\"#f0f921\"]],\"type\":\"heatmapgl\"}],\"heatmap\":[{\"colorbar\":{\"outlinewidth\":0,\"ticks\":\"\"},\"colorscale\":[[0.0,\"#0d0887\"],[0.1111111111111111,\"#46039f\"],[0.2222222222222222,\"#7201a8\"],[0.3333333333333333,\"#9c179e\"],[0.4444444444444444,\"#bd3786\"],[0.5555555555555556,\"#d8576b\"],[0.6666666666666666,\"#ed7953\"],[0.7777777777777778,\"#fb9f3a\"],[0.8888888888888888,\"#fdca26\"],[1.0,\"#f0f921\"]],\"type\":\"heatmap\"}],\"histogram2dcontour\":[{\"colorbar\":{\"outlinewidth\":0,\"ticks\":\"\"},\"colorscale\":[[0.0,\"#0d0887\"],[0.1111111111111111,\"#46039f\"],[0.2222222222222222,\"#7201a8\"],[0.3333333333333333,\"#9c179e\"],[0.4444444444444444,\"#bd3786\"],[0.5555555555555556,\"#d8576b\"],[0.6666666666666666,\"#ed7953\"],[0.7777777777777778,\"#fb9f3a\"],[0.8888888888888888,\"#fdca26\"],[1.0,\"#f0f921\"]],\"type\":\"histogram2dcontour\"}],\"histogram2d\":[{\"colorbar\":{\"outlinewidth\":0,\"ticks\":\"\"},\"colorscale\":[[0.0,\"#0d0887\"],[0.1111111111111111,\"#46039f\"],[0.2222222222222222,\"#7201a8\"],[0.3333333333333333,\"#9c179e\"],[0.4444444444444444,\"#bd3786\"],[0.5555555555555556,\"#d8576b\"],[0.6666666666666666,\"#ed7953\"],[0.7777777777777778,\"#fb9f3a\"],[0.8888888888888888,\"#fdca26\"],[1.0,\"#f0f921\"]],\"type\":\"histogram2d\"}],\"histogram\":[{\"marker\":{\"pattern\":{\"fillmode\":\"overlay\",\"size\":10,\"solidity\":0.2}},\"type\":\"histogram\"}],\"mesh3d\":[{\"colorbar\":{\"outlinewidth\":0,\"ticks\":\"\"},\"type\":\"mesh3d\"}],\"parcoords\":[{\"line\":{\"colorbar\":{\"outlinewidth\":0,\"ticks\":\"\"}},\"type\":\"parcoords\"}],\"pie\":[{\"automargin\":true,\"type\":\"pie\"}],\"scatter3d\":[{\"line\":{\"colorbar\":{\"outlinewidth\":0,\"ticks\":\"\"}},\"marker\":{\"colorbar\":{\"outlinewidth\":0,\"ticks\":\"\"}},\"type\":\"scatter3d\"}],\"scattercarpet\":[{\"marker\":{\"colorbar\":{\"outlinewidth\":0,\"ticks\":\"\"}},\"type\":\"scattercarpet\"}],\"scattergeo\":[{\"marker\":{\"colorbar\":{\"outlinewidth\":0,\"ticks\":\"\"}},\"type\":\"scattergeo\"}],\"scattergl\":[{\"marker\":{\"colorbar\":{\"outlinewidth\":0,\"ticks\":\"\"}},\"type\":\"scattergl\"}],\"scattermapbox\":[{\"marker\":{\"colorbar\":{\"outlinewidth\":0,\"ticks\":\"\"}},\"type\":\"scattermapbox\"}],\"scatterpolargl\":[{\"marker\":{\"colorbar\":{\"outlinewidth\":0,\"ticks\":\"\"}},\"type\":\"scatterpolargl\"}],\"scatterpolar\":[{\"marker\":{\"colorbar\":{\"outlinewidth\":0,\"ticks\":\"\"}},\"type\":\"scatterpolar\"}],\"scatter\":[{\"fillpattern\":{\"fillmode\":\"overlay\",\"size\":10,\"solidity\":0.2},\"type\":\"scatter\"}],\"scatterternary\":[{\"marker\":{\"colorbar\":{\"outlinewidth\":0,\"ticks\":\"\"}},\"type\":\"scatterternary\"}],\"surface\":[{\"colorbar\":{\"outlinewidth\":0,\"ticks\":\"\"},\"colorscale\":[[0.0,\"#0d0887\"],[0.1111111111111111,\"#46039f\"],[0.2222222222222222,\"#7201a8\"],[0.3333333333333333,\"#9c179e\"],[0.4444444444444444,\"#bd3786\"],[0.5555555555555556,\"#d8576b\"],[0.6666666666666666,\"#ed7953\"],[0.7777777777777778,\"#fb9f3a\"],[0.8888888888888888,\"#fdca26\"],[1.0,\"#f0f921\"]],\"type\":\"surface\"}],\"table\":[{\"cells\":{\"fill\":{\"color\":\"#EBF0F8\"},\"line\":{\"color\":\"white\"}},\"header\":{\"fill\":{\"color\":\"#C8D4E3\"},\"line\":{\"color\":\"white\"}},\"type\":\"table\"}]},\"layout\":{\"annotationdefaults\":{\"arrowcolor\":\"#2a3f5f\",\"arrowhead\":0,\"arrowwidth\":1},\"autotypenumbers\":\"strict\",\"coloraxis\":{\"colorbar\":{\"outlinewidth\":0,\"ticks\":\"\"}},\"colorscale\":{\"diverging\":[[0,\"#8e0152\"],[0.1,\"#c51b7d\"],[0.2,\"#de77ae\"],[0.3,\"#f1b6da\"],[0.4,\"#fde0ef\"],[0.5,\"#f7f7f7\"],[0.6,\"#e6f5d0\"],[0.7,\"#b8e186\"],[0.8,\"#7fbc41\"],[0.9,\"#4d9221\"],[1,\"#276419\"]],\"sequential\":[[0.0,\"#0d0887\"],[0.1111111111111111,\"#46039f\"],[0.2222222222222222,\"#7201a8\"],[0.3333333333333333,\"#9c179e\"],[0.4444444444444444,\"#bd3786\"],[0.5555555555555556,\"#d8576b\"],[0.6666666666666666,\"#ed7953\"],[0.7777777777777778,\"#fb9f3a\"],[0.8888888888888888,\"#fdca26\"],[1.0,\"#f0f921\"]],\"sequentialminus\":[[0.0,\"#0d0887\"],[0.1111111111111111,\"#46039f\"],[0.2222222222222222,\"#7201a8\"],[0.3333333333333333,\"#9c179e\"],[0.4444444444444444,\"#bd3786\"],[0.5555555555555556,\"#d8576b\"],[0.6666666666666666,\"#ed7953\"],[0.7777777777777778,\"#fb9f3a\"],[0.8888888888888888,\"#fdca26\"],[1.0,\"#f0f921\"]]},\"colorway\":[\"#636efa\",\"#EF553B\",\"#00cc96\",\"#ab63fa\",\"#FFA15A\",\"#19d3f3\",\"#FF6692\",\"#B6E880\",\"#FF97FF\",\"#FECB52\"],\"font\":{\"color\":\"#2a3f5f\"},\"geo\":{\"bgcolor\":\"white\",\"lakecolor\":\"white\",\"landcolor\":\"#E5ECF6\",\"showlakes\":true,\"showland\":true,\"subunitcolor\":\"white\"},\"hoverlabel\":{\"align\":\"left\"},\"hovermode\":\"closest\",\"mapbox\":{\"style\":\"light\"},\"paper_bgcolor\":\"white\",\"plot_bgcolor\":\"#E5ECF6\",\"polar\":{\"angularaxis\":{\"gridcolor\":\"white\",\"linecolor\":\"white\",\"ticks\":\"\"},\"bgcolor\":\"#E5ECF6\",\"radialaxis\":{\"gridcolor\":\"white\",\"linecolor\":\"white\",\"ticks\":\"\"}},\"scene\":{\"xaxis\":{\"backgroundcolor\":\"#E5ECF6\",\"gridcolor\":\"white\",\"gridwidth\":2,\"linecolor\":\"white\",\"showbackground\":true,\"ticks\":\"\",\"zerolinecolor\":\"white\"},\"yaxis\":{\"backgroundcolor\":\"#E5ECF6\",\"gridcolor\":\"white\",\"gridwidth\":2,\"linecolor\":\"white\",\"showbackground\":true,\"ticks\":\"\",\"zerolinecolor\":\"white\"},\"zaxis\":{\"backgroundcolor\":\"#E5ECF6\",\"gridcolor\":\"white\",\"gridwidth\":2,\"linecolor\":\"white\",\"showbackground\":true,\"ticks\":\"\",\"zerolinecolor\":\"white\"}},\"shapedefaults\":{\"line\":{\"color\":\"#2a3f5f\"}},\"ternary\":{\"aaxis\":{\"gridcolor\":\"white\",\"linecolor\":\"white\",\"ticks\":\"\"},\"baxis\":{\"gridcolor\":\"white\",\"linecolor\":\"white\",\"ticks\":\"\"},\"bgcolor\":\"#E5ECF6\",\"caxis\":{\"gridcolor\":\"white\",\"linecolor\":\"white\",\"ticks\":\"\"}},\"title\":{\"x\":0.05},\"xaxis\":{\"automargin\":true,\"gridcolor\":\"white\",\"linecolor\":\"white\",\"ticks\":\"\",\"title\":{\"standoff\":15},\"zerolinecolor\":\"white\",\"zerolinewidth\":2},\"yaxis\":{\"automargin\":true,\"gridcolor\":\"white\",\"linecolor\":\"white\",\"ticks\":\"\",\"title\":{\"standoff\":15},\"zerolinecolor\":\"white\",\"zerolinewidth\":2}}},\"title\":{\"font\":{\"color\":\"#4D5663\"}},\"xaxis\":{\"gridcolor\":\"#E1E5ED\",\"showgrid\":true,\"tickfont\":{\"color\":\"#4D5663\"},\"title\":{\"font\":{\"color\":\"#4D5663\"},\"text\":\"\"},\"zerolinecolor\":\"#E1E5ED\"},\"yaxis\":{\"gridcolor\":\"#E1E5ED\",\"showgrid\":true,\"tickfont\":{\"color\":\"#4D5663\"},\"title\":{\"font\":{\"color\":\"#4D5663\"},\"text\":\"\"},\"zerolinecolor\":\"#E1E5ED\"}},                        {\"showLink\": true, \"linkText\": \"Export to plot.ly\", \"plotlyServerURL\": \"https://plot.ly\", \"responsive\": true}                    ).then(function(){\n",
       "                            \n",
       "var gd = document.getElementById('b9ed1ef1-b7aa-4fc8-9e0d-b9da719fcce9');\n",
       "var x = new MutationObserver(function (mutations, observer) {{\n",
       "        var display = window.getComputedStyle(gd).display;\n",
       "        if (!display || display === 'none') {{\n",
       "            console.log([gd, 'removed!']);\n",
       "            Plotly.purge(gd);\n",
       "            observer.disconnect();\n",
       "        }}\n",
       "}});\n",
       "\n",
       "// Listen for the removal of the full notebook cells\n",
       "var notebookContainer = gd.closest('#notebook-container');\n",
       "if (notebookContainer) {{\n",
       "    x.observe(notebookContainer, {childList: true});\n",
       "}}\n",
       "\n",
       "// Listen for the clearing of the current output cell\n",
       "var outputEl = gd.closest('.output');\n",
       "if (outputEl) {{\n",
       "    x.observe(outputEl, {childList: true});\n",
       "}}\n",
       "\n",
       "                        })                };                });            </script>        </div>"
      ]
     },
     "metadata": {},
     "output_type": "display_data"
    }
   ],
   "source": [
    "# Bubble plot\n",
    "df.iplot(kind='bubble', x='A', y='B', size ='C')"
   ]
  },
  {
   "cell_type": "code",
   "execution_count": 40,
   "id": "44c8d50d",
   "metadata": {},
   "outputs": [
    {
     "data": {
      "application/vnd.plotly.v1+json": {
       "config": {
        "linkText": "Export to plot.ly",
        "plotlyServerURL": "https://plot.ly",
        "showLink": true
       },
       "data": [
        {
         "histfunc": "count",
         "histnorm": "",
         "marker": {
          "color": "rgba(255, 153, 51, 1.0)",
          "line": {
           "color": "#4D5663",
           "width": 1.3
          }
         },
         "name": "A",
         "nbinsx": 10,
         "opacity": 0.8,
         "orientation": "v",
         "type": "histogram",
         "x": [
          -0.24869303225749126,
          -2.388145795579333,
          0.7052569495813963,
          0.8921836516207222,
          -0.8641832945932809,
          0.12474763473727571,
          0.9771147206925541,
          -1.120879746434406,
          2.083325158822628,
          -0.14292514964191178,
          -1.1312169975938375,
          -0.11607697197171943,
          -2.180363608406877,
          -1.109061809100249,
          1.1778238870317181,
          0.7910259440816909,
          0.645202281124067,
          -0.1742790933800676,
          0.8225032314842339,
          0.29877822246100105,
          0.36722046683406245,
          1.2324544434409372,
          -1.7020118796248933,
          1.7042326155461203,
          -1.4450455739935764,
          -0.78545924825664,
          2.06296995198097,
          0.3665990108761806,
          -1.116799652901445,
          0.7366232257112952,
          0.6809107980964005,
          0.4337169537228572,
          0.5054307038730637,
          -0.9015199558765126,
          1.2400228835450735,
          -0.0764876321557282,
          1.5777026737325832,
          -0.09862690109282116,
          0.7644500967843794,
          0.17103982442114465,
          0.37321438050746564,
          -0.1021660818701845,
          -2.351357285273254,
          0.8671154218975321,
          0.9128969618550399,
          0.17785238425044794,
          0.21187259997227123,
          0.050938673505943645,
          0.6563964094079809,
          0.053649786152871054,
          -0.0197549209834424,
          1.5798149195593896,
          0.791318635261723,
          -0.9025588999319102,
          1.656944673728671,
          -0.8269206687359101,
          0.06556319052433303,
          -0.8214461312213147,
          2.187880503422802,
          -0.46944316735562686,
          -0.7370885868139803,
          0.8165338304816602,
          -0.9054807194666195,
          -1.3809585264041093,
          -0.7458765995206087,
          0.18823758886614955,
          1.3784227314336097,
          -1.0036999714454244,
          -0.8559179530591503,
          -1.5808922630144657,
          -1.0890433281306702,
          0.6087193993857751,
          1.2516196623031353,
          -0.7354149576024046,
          0.2891258014135116,
          0.07985900771739284,
          -1.215018118998959,
          0.31249748403780464,
          0.9175732377339435,
          -1.041267348022098,
          -1.069969287706913,
          1.4965582109974387,
          2.639408794995632,
          0.9601098331096278,
          0.31731584401142465,
          -2.0170362462039684,
          0.9816338696585786,
          1.5190162401027576,
          0.15579596719864214,
          0.27471292445643963,
          -0.63239828780116,
          -1.0501242325930704,
          0.8160338670311766,
          -1.0935321627740018,
          -0.8056994370048624,
          0.32500050683722304,
          0.30487108890472714,
          -0.31497417629318075,
          2.0218995987796933,
          0.4843579882960143
         ],
         "xaxis": "x",
         "yaxis": "y"
        },
        {
         "line": {
          "color": "rgba(128, 128, 128, 1.0)",
          "dash": "solid",
          "shape": "linear",
          "width": 1.3
         },
         "marker": {
          "size": 2,
          "symbol": "circle"
         },
         "mode": "markers",
         "name": "A",
         "text": "",
         "type": "scatter",
         "x": [
          -0.612674881396858,
          -0.2369623864621897,
          0.884172060253383,
          1.1599681389449998,
          1.541433973431705,
          -0.024482749390586922,
          -0.010581934928280717,
          0.4208804279380881,
          -1.055904482828417,
          -0.5731293410391528,
          0.6136951834885712,
          0.3788139488071389,
          -0.7236246217565258,
          -0.9832872929064812,
          -0.04584667102425731,
          1.0990096326338898,
          -0.4894552325381044,
          0.09207295202927872,
          0.8907023697335712,
          1.071647550161279,
          -0.09772605038866598,
          -0.5573372268161606,
          2.1569812897937672,
          -0.3138297576026716,
          0.967564149880955,
          0.5283041481971225,
          1.275552520971748,
          -0.23814452995452495,
          1.3686369305494708,
          0.4554414353012013,
          0.17261064038033674,
          -1.2790756257079117,
          -1.668432178436465,
          -0.7589722147586523,
          -1.1217293268341164,
          0.1457960988457628,
          -2.460171601392952,
          1.1224080996706933,
          -0.5718735010119889,
          0.7480470173720155,
          -0.03113393613510434,
          1.6490615045790034,
          0.05753332794358935,
          -0.20428125058288318,
          -2.0075424792795133,
          0.667885385351891,
          0.0636282659190983,
          -0.011188874517152437,
          2.049007627401017,
          -1.5848630631660825,
          -0.9622210929462339,
          -0.8431124359578438,
          0.05754501771367724,
          -1.2870024758751444,
          -0.19727806101733522,
          1.3001919306481338,
          0.3064075043148491,
          0.07117476930400782,
          -0.96812683843896,
          1.82880823196082,
          1.5559339345907204,
          1.7050542509227609,
          1.7171720163798219,
          0.42589246627030913,
          -2.3660287467420225,
          -1.5323420715419014,
          1.9884957118847637,
          -0.7216381285780816,
          -0.9380010074166955,
          0.16306318472752554,
          -0.7425934426726053,
          -0.9707420414928241,
          -2.0238789682217306,
          0.20622339294902128,
          0.29403482434209716,
          0.12147098035639514,
          0.20258350462675498,
          -0.2992269193093349,
          0.22115912154903292,
          -1.7790002822602209,
          -1.872050479776317,
          -0.43176879529106,
          0.940906565069375,
          1.3443483421299551,
          -0.8062940834059503,
          -0.15012732876279758,
          0.20043931984963673,
          0.22002772846606183,
          -1.4076957323909052,
          1.36507767965311,
          0.5463241272540051,
          1.9568592851420272,
          -0.886230842336463,
          -0.24970954645615465,
          1.4577791399977678,
          -1.0263047973016162,
          -1.0009532490096018,
          -0.28890730822092503,
          1.072250787176654,
          0.45805736391766777
         ],
         "xaxis": "x2",
         "y": [
          -0.24869303225749126,
          -2.388145795579333,
          0.7052569495813963,
          0.8921836516207222,
          -0.8641832945932809,
          0.12474763473727571,
          0.9771147206925541,
          -1.120879746434406,
          2.083325158822628,
          -0.14292514964191178,
          -1.1312169975938375,
          -0.11607697197171943,
          -2.180363608406877,
          -1.109061809100249,
          1.1778238870317181,
          0.7910259440816909,
          0.645202281124067,
          -0.1742790933800676,
          0.8225032314842339,
          0.29877822246100105,
          0.36722046683406245,
          1.2324544434409372,
          -1.7020118796248933,
          1.7042326155461203,
          -1.4450455739935764,
          -0.78545924825664,
          2.06296995198097,
          0.3665990108761806,
          -1.116799652901445,
          0.7366232257112952,
          0.6809107980964005,
          0.4337169537228572,
          0.5054307038730637,
          -0.9015199558765126,
          1.2400228835450735,
          -0.0764876321557282,
          1.5777026737325832,
          -0.09862690109282116,
          0.7644500967843794,
          0.17103982442114465,
          0.37321438050746564,
          -0.1021660818701845,
          -2.351357285273254,
          0.8671154218975321,
          0.9128969618550399,
          0.17785238425044794,
          0.21187259997227123,
          0.050938673505943645,
          0.6563964094079809,
          0.053649786152871054,
          -0.0197549209834424,
          1.5798149195593896,
          0.791318635261723,
          -0.9025588999319102,
          1.656944673728671,
          -0.8269206687359101,
          0.06556319052433303,
          -0.8214461312213147,
          2.187880503422802,
          -0.46944316735562686,
          -0.7370885868139803,
          0.8165338304816602,
          -0.9054807194666195,
          -1.3809585264041093,
          -0.7458765995206087,
          0.18823758886614955,
          1.3784227314336097,
          -1.0036999714454244,
          -0.8559179530591503,
          -1.5808922630144657,
          -1.0890433281306702,
          0.6087193993857751,
          1.2516196623031353,
          -0.7354149576024046,
          0.2891258014135116,
          0.07985900771739284,
          -1.215018118998959,
          0.31249748403780464,
          0.9175732377339435,
          -1.041267348022098,
          -1.069969287706913,
          1.4965582109974387,
          2.639408794995632,
          0.9601098331096278,
          0.31731584401142465,
          -2.0170362462039684,
          0.9816338696585786,
          1.5190162401027576,
          0.15579596719864214,
          0.27471292445643963,
          -0.63239828780116,
          -1.0501242325930704,
          0.8160338670311766,
          -1.0935321627740018,
          -0.8056994370048624,
          0.32500050683722304,
          0.30487108890472714,
          -0.31497417629318075,
          2.0218995987796933,
          0.4843579882960143
         ],
         "yaxis": "y2"
        },
        {
         "line": {
          "color": "rgba(128, 128, 128, 1.0)",
          "dash": "solid",
          "shape": "linear",
          "width": 1.3
         },
         "marker": {
          "size": 2,
          "symbol": "circle"
         },
         "mode": "markers",
         "name": "A",
         "text": "",
         "type": "scatter",
         "x": [
          -2.1875962710340633,
          1.2043466892488253,
          -0.2624637021694007,
          -0.044774519494937354,
          -0.38828732945577965,
          -1.7604191184675766,
          -0.8330320826323994,
          -0.45260597178575424,
          0.37666516698609703,
          -0.45075330251265217,
          -0.4543014386060515,
          -1.6818125208376644,
          -0.777172441623389,
          -1.115031723523379,
          -0.2828639849820452,
          1.5109558788259014,
          0.3497580319219913,
          -0.7986845728658987,
          -2.304293194629496,
          0.13818781871544455,
          -0.8568120676938925,
          0.1283511008423489,
          -1.6464870113713808,
          0.1509732009457024,
          0.48580680075115507,
          0.8844256749558661,
          0.863925568233306,
          -0.424112327916965,
          -1.023377757860004,
          -1.2429516240004856,
          0.4644114102285322,
          -0.10295568470534225,
          1.1343980376200298,
          0.5952729060364006,
          -0.944905980125573,
          -0.5918297192626695,
          -1.9362958830669315,
          0.7773084542894089,
          -0.7025040256192104,
          -0.6721361405389769,
          0.22489473295161644,
          -1.2072044451488124,
          -0.6679812924099646,
          0.20072281504376818,
          -0.06894227862165513,
          0.21307238240542759,
          0.8622619083858662,
          -0.9334003090979155,
          -0.04407152633317502,
          0.3703242459554553,
          -1.5132386818086954,
          1.704751495814103,
          -0.35615570204659286,
          -0.4074435132315458,
          -0.4803434654367431,
          -0.5228307576630105,
          2.1418357368651204,
          -0.5378629661350438,
          -0.8789667540700302,
          -0.679433912537144,
          2.166892421079014,
          2.526250778691885,
          1.0743531852444916,
          0.9990476667989842,
          0.9265298440916431,
          0.42914042026948807,
          -0.4111111006921592,
          -0.7268320997806266,
          -0.6605936820905781,
          -2.04184195646119,
          -0.14404800610251542,
          -0.07021136849345204,
          0.5959802125115937,
          2.3055706612204316,
          -0.39023861984682784,
          -0.2870649687792531,
          -0.241642459550871,
          0.43550553077105064,
          0.3272146563694911,
          -0.37076963719152484,
          -1.2705471688439887,
          -1.0400727555021632,
          0.1039131879954186,
          0.008023775137617924,
          0.8491798895964642,
          -0.03897877933284549,
          1.0028909315813694,
          -0.32044741849232344,
          2.1146621360431057,
          1.9176799493258965,
          -1.2039507080103085,
          1.6289595320326293,
          0.1337860305895442,
          1.0994080407915758,
          -0.2758949893549994,
          0.011838560565450105,
          1.5341262281452326,
          -0.36978117398831484,
          1.6380429951546858,
          0.7304392696016989
         ],
         "xaxis": "x3",
         "y": [
          -0.24869303225749126,
          -2.388145795579333,
          0.7052569495813963,
          0.8921836516207222,
          -0.8641832945932809,
          0.12474763473727571,
          0.9771147206925541,
          -1.120879746434406,
          2.083325158822628,
          -0.14292514964191178,
          -1.1312169975938375,
          -0.11607697197171943,
          -2.180363608406877,
          -1.109061809100249,
          1.1778238870317181,
          0.7910259440816909,
          0.645202281124067,
          -0.1742790933800676,
          0.8225032314842339,
          0.29877822246100105,
          0.36722046683406245,
          1.2324544434409372,
          -1.7020118796248933,
          1.7042326155461203,
          -1.4450455739935764,
          -0.78545924825664,
          2.06296995198097,
          0.3665990108761806,
          -1.116799652901445,
          0.7366232257112952,
          0.6809107980964005,
          0.4337169537228572,
          0.5054307038730637,
          -0.9015199558765126,
          1.2400228835450735,
          -0.0764876321557282,
          1.5777026737325832,
          -0.09862690109282116,
          0.7644500967843794,
          0.17103982442114465,
          0.37321438050746564,
          -0.1021660818701845,
          -2.351357285273254,
          0.8671154218975321,
          0.9128969618550399,
          0.17785238425044794,
          0.21187259997227123,
          0.050938673505943645,
          0.6563964094079809,
          0.053649786152871054,
          -0.0197549209834424,
          1.5798149195593896,
          0.791318635261723,
          -0.9025588999319102,
          1.656944673728671,
          -0.8269206687359101,
          0.06556319052433303,
          -0.8214461312213147,
          2.187880503422802,
          -0.46944316735562686,
          -0.7370885868139803,
          0.8165338304816602,
          -0.9054807194666195,
          -1.3809585264041093,
          -0.7458765995206087,
          0.18823758886614955,
          1.3784227314336097,
          -1.0036999714454244,
          -0.8559179530591503,
          -1.5808922630144657,
          -1.0890433281306702,
          0.6087193993857751,
          1.2516196623031353,
          -0.7354149576024046,
          0.2891258014135116,
          0.07985900771739284,
          -1.215018118998959,
          0.31249748403780464,
          0.9175732377339435,
          -1.041267348022098,
          -1.069969287706913,
          1.4965582109974387,
          2.639408794995632,
          0.9601098331096278,
          0.31731584401142465,
          -2.0170362462039684,
          0.9816338696585786,
          1.5190162401027576,
          0.15579596719864214,
          0.27471292445643963,
          -0.63239828780116,
          -1.0501242325930704,
          0.8160338670311766,
          -1.0935321627740018,
          -0.8056994370048624,
          0.32500050683722304,
          0.30487108890472714,
          -0.31497417629318075,
          2.0218995987796933,
          0.4843579882960143
         ],
         "yaxis": "y3"
        },
        {
         "line": {
          "color": "rgba(128, 128, 128, 1.0)",
          "dash": "solid",
          "shape": "linear",
          "width": 1.3
         },
         "marker": {
          "size": 2,
          "symbol": "circle"
         },
         "mode": "markers",
         "name": "A",
         "text": "",
         "type": "scatter",
         "x": [
          -1.5897221946627162,
          0.3881534151264451,
          0.2772944841151599,
          1.298330640559541,
          0.8568091610919952,
          -1.486106835229758,
          -1.0862231370818147,
          0.5748087439840773,
          1.026628771340924,
          -0.4141700103142258,
          0.30538030427163665,
          -0.012805826093219381,
          -2.0749459185303816,
          0.8672918118015417,
          0.07451223055141265,
          -1.4561635949972151,
          -0.5360852317698505,
          0.3265984770476418,
          0.8368502744859896,
          -0.07877931097570023,
          0.30867488169765506,
          -0.9617878067606253,
          -1.4812539643895888,
          0.19203346442859506,
          1.0976284998357833,
          2.66715863939564,
          -0.6873804694129563,
          0.9948807074855572,
          -0.36959070183480014,
          -0.18158394365251512,
          0.34071102177736184,
          1.9530310396655668,
          1.503513220409165,
          -0.32346215040040593,
          -0.08263971729847629,
          -1.5292671827037791,
          0.28974899643705376,
          0.4631692021102995,
          0.8071285959134398,
          -0.9225761376000622,
          0.8235374860706418,
          -1.4003448077047984,
          0.7472141205820891,
          0.09259546962931467,
          -0.13428263434801724,
          0.22832046417331497,
          -0.7557896338030863,
          0.5533146148613863,
          -2.2699352226812253,
          -0.6861455007876447,
          0.5353727580331634,
          0.6991968133340193,
          2.2640420510689365,
          0.9316723073168875,
          -0.4747759199341716,
          0.5320410779272005,
          1.024932640201076,
          0.14427840861954674,
          -1.0822146534072383,
          0.3105510034526434,
          0.5891865162490424,
          -0.7105178812376683,
          0.3334024361608685,
          -0.01715749825336284,
          1.0880748291362126,
          0.7982450519963034,
          0.9505168604870251,
          -0.4029352598200969,
          1.4491594657254252,
          0.20045013807179224,
          -0.40928058030959946,
          0.5972644954771477,
          0.4809926819086426,
          -1.2633582269604677,
          -0.38106444879833234,
          1.0058960599684232,
          -0.5053756209038799,
          -0.3861065428798655,
          0.7108175908518505,
          -0.16554681207675614,
          1.374812443087915,
          1.3763994785644487,
          0.20954640783588474,
          0.3344658816141513,
          -2.1098790196848967,
          0.5367893903275768,
          -0.5464041834590837,
          1.7701255317721094,
          0.9911185492373951,
          -1.831858888910831,
          -0.3197343382221082,
          -0.03144426316548922,
          -0.7145999792041241,
          0.0552858232740609,
          -1.338721708829007,
          0.923197690489228,
          0.7368405105614648,
          -0.628642418169745,
          0.5444548763628334,
          -1.5507106220555789
         ],
         "xaxis": "x4",
         "y": [
          -0.24869303225749126,
          -2.388145795579333,
          0.7052569495813963,
          0.8921836516207222,
          -0.8641832945932809,
          0.12474763473727571,
          0.9771147206925541,
          -1.120879746434406,
          2.083325158822628,
          -0.14292514964191178,
          -1.1312169975938375,
          -0.11607697197171943,
          -2.180363608406877,
          -1.109061809100249,
          1.1778238870317181,
          0.7910259440816909,
          0.645202281124067,
          -0.1742790933800676,
          0.8225032314842339,
          0.29877822246100105,
          0.36722046683406245,
          1.2324544434409372,
          -1.7020118796248933,
          1.7042326155461203,
          -1.4450455739935764,
          -0.78545924825664,
          2.06296995198097,
          0.3665990108761806,
          -1.116799652901445,
          0.7366232257112952,
          0.6809107980964005,
          0.4337169537228572,
          0.5054307038730637,
          -0.9015199558765126,
          1.2400228835450735,
          -0.0764876321557282,
          1.5777026737325832,
          -0.09862690109282116,
          0.7644500967843794,
          0.17103982442114465,
          0.37321438050746564,
          -0.1021660818701845,
          -2.351357285273254,
          0.8671154218975321,
          0.9128969618550399,
          0.17785238425044794,
          0.21187259997227123,
          0.050938673505943645,
          0.6563964094079809,
          0.053649786152871054,
          -0.0197549209834424,
          1.5798149195593896,
          0.791318635261723,
          -0.9025588999319102,
          1.656944673728671,
          -0.8269206687359101,
          0.06556319052433303,
          -0.8214461312213147,
          2.187880503422802,
          -0.46944316735562686,
          -0.7370885868139803,
          0.8165338304816602,
          -0.9054807194666195,
          -1.3809585264041093,
          -0.7458765995206087,
          0.18823758886614955,
          1.3784227314336097,
          -1.0036999714454244,
          -0.8559179530591503,
          -1.5808922630144657,
          -1.0890433281306702,
          0.6087193993857751,
          1.2516196623031353,
          -0.7354149576024046,
          0.2891258014135116,
          0.07985900771739284,
          -1.215018118998959,
          0.31249748403780464,
          0.9175732377339435,
          -1.041267348022098,
          -1.069969287706913,
          1.4965582109974387,
          2.639408794995632,
          0.9601098331096278,
          0.31731584401142465,
          -2.0170362462039684,
          0.9816338696585786,
          1.5190162401027576,
          0.15579596719864214,
          0.27471292445643963,
          -0.63239828780116,
          -1.0501242325930704,
          0.8160338670311766,
          -1.0935321627740018,
          -0.8056994370048624,
          0.32500050683722304,
          0.30487108890472714,
          -0.31497417629318075,
          2.0218995987796933,
          0.4843579882960143
         ],
         "yaxis": "y4"
        },
        {
         "line": {
          "color": "rgba(128, 128, 128, 1.0)",
          "dash": "solid",
          "shape": "linear",
          "width": 1.3
         },
         "marker": {
          "size": 2,
          "symbol": "circle"
         },
         "mode": "markers",
         "name": "B",
         "text": "",
         "type": "scatter",
         "x": [
          -0.24869303225749126,
          -2.388145795579333,
          0.7052569495813963,
          0.8921836516207222,
          -0.8641832945932809,
          0.12474763473727571,
          0.9771147206925541,
          -1.120879746434406,
          2.083325158822628,
          -0.14292514964191178,
          -1.1312169975938375,
          -0.11607697197171943,
          -2.180363608406877,
          -1.109061809100249,
          1.1778238870317181,
          0.7910259440816909,
          0.645202281124067,
          -0.1742790933800676,
          0.8225032314842339,
          0.29877822246100105,
          0.36722046683406245,
          1.2324544434409372,
          -1.7020118796248933,
          1.7042326155461203,
          -1.4450455739935764,
          -0.78545924825664,
          2.06296995198097,
          0.3665990108761806,
          -1.116799652901445,
          0.7366232257112952,
          0.6809107980964005,
          0.4337169537228572,
          0.5054307038730637,
          -0.9015199558765126,
          1.2400228835450735,
          -0.0764876321557282,
          1.5777026737325832,
          -0.09862690109282116,
          0.7644500967843794,
          0.17103982442114465,
          0.37321438050746564,
          -0.1021660818701845,
          -2.351357285273254,
          0.8671154218975321,
          0.9128969618550399,
          0.17785238425044794,
          0.21187259997227123,
          0.050938673505943645,
          0.6563964094079809,
          0.053649786152871054,
          -0.0197549209834424,
          1.5798149195593896,
          0.791318635261723,
          -0.9025588999319102,
          1.656944673728671,
          -0.8269206687359101,
          0.06556319052433303,
          -0.8214461312213147,
          2.187880503422802,
          -0.46944316735562686,
          -0.7370885868139803,
          0.8165338304816602,
          -0.9054807194666195,
          -1.3809585264041093,
          -0.7458765995206087,
          0.18823758886614955,
          1.3784227314336097,
          -1.0036999714454244,
          -0.8559179530591503,
          -1.5808922630144657,
          -1.0890433281306702,
          0.6087193993857751,
          1.2516196623031353,
          -0.7354149576024046,
          0.2891258014135116,
          0.07985900771739284,
          -1.215018118998959,
          0.31249748403780464,
          0.9175732377339435,
          -1.041267348022098,
          -1.069969287706913,
          1.4965582109974387,
          2.639408794995632,
          0.9601098331096278,
          0.31731584401142465,
          -2.0170362462039684,
          0.9816338696585786,
          1.5190162401027576,
          0.15579596719864214,
          0.27471292445643963,
          -0.63239828780116,
          -1.0501242325930704,
          0.8160338670311766,
          -1.0935321627740018,
          -0.8056994370048624,
          0.32500050683722304,
          0.30487108890472714,
          -0.31497417629318075,
          2.0218995987796933,
          0.4843579882960143
         ],
         "xaxis": "x5",
         "y": [
          -0.612674881396858,
          -0.2369623864621897,
          0.884172060253383,
          1.1599681389449998,
          1.541433973431705,
          -0.024482749390586922,
          -0.010581934928280717,
          0.4208804279380881,
          -1.055904482828417,
          -0.5731293410391528,
          0.6136951834885712,
          0.3788139488071389,
          -0.7236246217565258,
          -0.9832872929064812,
          -0.04584667102425731,
          1.0990096326338898,
          -0.4894552325381044,
          0.09207295202927872,
          0.8907023697335712,
          1.071647550161279,
          -0.09772605038866598,
          -0.5573372268161606,
          2.1569812897937672,
          -0.3138297576026716,
          0.967564149880955,
          0.5283041481971225,
          1.275552520971748,
          -0.23814452995452495,
          1.3686369305494708,
          0.4554414353012013,
          0.17261064038033674,
          -1.2790756257079117,
          -1.668432178436465,
          -0.7589722147586523,
          -1.1217293268341164,
          0.1457960988457628,
          -2.460171601392952,
          1.1224080996706933,
          -0.5718735010119889,
          0.7480470173720155,
          -0.03113393613510434,
          1.6490615045790034,
          0.05753332794358935,
          -0.20428125058288318,
          -2.0075424792795133,
          0.667885385351891,
          0.0636282659190983,
          -0.011188874517152437,
          2.049007627401017,
          -1.5848630631660825,
          -0.9622210929462339,
          -0.8431124359578438,
          0.05754501771367724,
          -1.2870024758751444,
          -0.19727806101733522,
          1.3001919306481338,
          0.3064075043148491,
          0.07117476930400782,
          -0.96812683843896,
          1.82880823196082,
          1.5559339345907204,
          1.7050542509227609,
          1.7171720163798219,
          0.42589246627030913,
          -2.3660287467420225,
          -1.5323420715419014,
          1.9884957118847637,
          -0.7216381285780816,
          -0.9380010074166955,
          0.16306318472752554,
          -0.7425934426726053,
          -0.9707420414928241,
          -2.0238789682217306,
          0.20622339294902128,
          0.29403482434209716,
          0.12147098035639514,
          0.20258350462675498,
          -0.2992269193093349,
          0.22115912154903292,
          -1.7790002822602209,
          -1.872050479776317,
          -0.43176879529106,
          0.940906565069375,
          1.3443483421299551,
          -0.8062940834059503,
          -0.15012732876279758,
          0.20043931984963673,
          0.22002772846606183,
          -1.4076957323909052,
          1.36507767965311,
          0.5463241272540051,
          1.9568592851420272,
          -0.886230842336463,
          -0.24970954645615465,
          1.4577791399977678,
          -1.0263047973016162,
          -1.0009532490096018,
          -0.28890730822092503,
          1.072250787176654,
          0.45805736391766777
         ],
         "yaxis": "y5"
        },
        {
         "histfunc": "count",
         "histnorm": "",
         "marker": {
          "color": "rgba(55, 128, 191, 1.0)",
          "line": {
           "color": "#4D5663",
           "width": 1.3
          }
         },
         "name": "B",
         "nbinsx": 10,
         "opacity": 0.8,
         "orientation": "v",
         "type": "histogram",
         "x": [
          -0.612674881396858,
          -0.2369623864621897,
          0.884172060253383,
          1.1599681389449998,
          1.541433973431705,
          -0.024482749390586922,
          -0.010581934928280717,
          0.4208804279380881,
          -1.055904482828417,
          -0.5731293410391528,
          0.6136951834885712,
          0.3788139488071389,
          -0.7236246217565258,
          -0.9832872929064812,
          -0.04584667102425731,
          1.0990096326338898,
          -0.4894552325381044,
          0.09207295202927872,
          0.8907023697335712,
          1.071647550161279,
          -0.09772605038866598,
          -0.5573372268161606,
          2.1569812897937672,
          -0.3138297576026716,
          0.967564149880955,
          0.5283041481971225,
          1.275552520971748,
          -0.23814452995452495,
          1.3686369305494708,
          0.4554414353012013,
          0.17261064038033674,
          -1.2790756257079117,
          -1.668432178436465,
          -0.7589722147586523,
          -1.1217293268341164,
          0.1457960988457628,
          -2.460171601392952,
          1.1224080996706933,
          -0.5718735010119889,
          0.7480470173720155,
          -0.03113393613510434,
          1.6490615045790034,
          0.05753332794358935,
          -0.20428125058288318,
          -2.0075424792795133,
          0.667885385351891,
          0.0636282659190983,
          -0.011188874517152437,
          2.049007627401017,
          -1.5848630631660825,
          -0.9622210929462339,
          -0.8431124359578438,
          0.05754501771367724,
          -1.2870024758751444,
          -0.19727806101733522,
          1.3001919306481338,
          0.3064075043148491,
          0.07117476930400782,
          -0.96812683843896,
          1.82880823196082,
          1.5559339345907204,
          1.7050542509227609,
          1.7171720163798219,
          0.42589246627030913,
          -2.3660287467420225,
          -1.5323420715419014,
          1.9884957118847637,
          -0.7216381285780816,
          -0.9380010074166955,
          0.16306318472752554,
          -0.7425934426726053,
          -0.9707420414928241,
          -2.0238789682217306,
          0.20622339294902128,
          0.29403482434209716,
          0.12147098035639514,
          0.20258350462675498,
          -0.2992269193093349,
          0.22115912154903292,
          -1.7790002822602209,
          -1.872050479776317,
          -0.43176879529106,
          0.940906565069375,
          1.3443483421299551,
          -0.8062940834059503,
          -0.15012732876279758,
          0.20043931984963673,
          0.22002772846606183,
          -1.4076957323909052,
          1.36507767965311,
          0.5463241272540051,
          1.9568592851420272,
          -0.886230842336463,
          -0.24970954645615465,
          1.4577791399977678,
          -1.0263047973016162,
          -1.0009532490096018,
          -0.28890730822092503,
          1.072250787176654,
          0.45805736391766777
         ],
         "xaxis": "x6",
         "yaxis": "y6"
        },
        {
         "line": {
          "color": "rgba(128, 128, 128, 1.0)",
          "dash": "solid",
          "shape": "linear",
          "width": 1.3
         },
         "marker": {
          "size": 2,
          "symbol": "circle"
         },
         "mode": "markers",
         "name": "B",
         "text": "",
         "type": "scatter",
         "x": [
          -2.1875962710340633,
          1.2043466892488253,
          -0.2624637021694007,
          -0.044774519494937354,
          -0.38828732945577965,
          -1.7604191184675766,
          -0.8330320826323994,
          -0.45260597178575424,
          0.37666516698609703,
          -0.45075330251265217,
          -0.4543014386060515,
          -1.6818125208376644,
          -0.777172441623389,
          -1.115031723523379,
          -0.2828639849820452,
          1.5109558788259014,
          0.3497580319219913,
          -0.7986845728658987,
          -2.304293194629496,
          0.13818781871544455,
          -0.8568120676938925,
          0.1283511008423489,
          -1.6464870113713808,
          0.1509732009457024,
          0.48580680075115507,
          0.8844256749558661,
          0.863925568233306,
          -0.424112327916965,
          -1.023377757860004,
          -1.2429516240004856,
          0.4644114102285322,
          -0.10295568470534225,
          1.1343980376200298,
          0.5952729060364006,
          -0.944905980125573,
          -0.5918297192626695,
          -1.9362958830669315,
          0.7773084542894089,
          -0.7025040256192104,
          -0.6721361405389769,
          0.22489473295161644,
          -1.2072044451488124,
          -0.6679812924099646,
          0.20072281504376818,
          -0.06894227862165513,
          0.21307238240542759,
          0.8622619083858662,
          -0.9334003090979155,
          -0.04407152633317502,
          0.3703242459554553,
          -1.5132386818086954,
          1.704751495814103,
          -0.35615570204659286,
          -0.4074435132315458,
          -0.4803434654367431,
          -0.5228307576630105,
          2.1418357368651204,
          -0.5378629661350438,
          -0.8789667540700302,
          -0.679433912537144,
          2.166892421079014,
          2.526250778691885,
          1.0743531852444916,
          0.9990476667989842,
          0.9265298440916431,
          0.42914042026948807,
          -0.4111111006921592,
          -0.7268320997806266,
          -0.6605936820905781,
          -2.04184195646119,
          -0.14404800610251542,
          -0.07021136849345204,
          0.5959802125115937,
          2.3055706612204316,
          -0.39023861984682784,
          -0.2870649687792531,
          -0.241642459550871,
          0.43550553077105064,
          0.3272146563694911,
          -0.37076963719152484,
          -1.2705471688439887,
          -1.0400727555021632,
          0.1039131879954186,
          0.008023775137617924,
          0.8491798895964642,
          -0.03897877933284549,
          1.0028909315813694,
          -0.32044741849232344,
          2.1146621360431057,
          1.9176799493258965,
          -1.2039507080103085,
          1.6289595320326293,
          0.1337860305895442,
          1.0994080407915758,
          -0.2758949893549994,
          0.011838560565450105,
          1.5341262281452326,
          -0.36978117398831484,
          1.6380429951546858,
          0.7304392696016989
         ],
         "xaxis": "x7",
         "y": [
          -0.612674881396858,
          -0.2369623864621897,
          0.884172060253383,
          1.1599681389449998,
          1.541433973431705,
          -0.024482749390586922,
          -0.010581934928280717,
          0.4208804279380881,
          -1.055904482828417,
          -0.5731293410391528,
          0.6136951834885712,
          0.3788139488071389,
          -0.7236246217565258,
          -0.9832872929064812,
          -0.04584667102425731,
          1.0990096326338898,
          -0.4894552325381044,
          0.09207295202927872,
          0.8907023697335712,
          1.071647550161279,
          -0.09772605038866598,
          -0.5573372268161606,
          2.1569812897937672,
          -0.3138297576026716,
          0.967564149880955,
          0.5283041481971225,
          1.275552520971748,
          -0.23814452995452495,
          1.3686369305494708,
          0.4554414353012013,
          0.17261064038033674,
          -1.2790756257079117,
          -1.668432178436465,
          -0.7589722147586523,
          -1.1217293268341164,
          0.1457960988457628,
          -2.460171601392952,
          1.1224080996706933,
          -0.5718735010119889,
          0.7480470173720155,
          -0.03113393613510434,
          1.6490615045790034,
          0.05753332794358935,
          -0.20428125058288318,
          -2.0075424792795133,
          0.667885385351891,
          0.0636282659190983,
          -0.011188874517152437,
          2.049007627401017,
          -1.5848630631660825,
          -0.9622210929462339,
          -0.8431124359578438,
          0.05754501771367724,
          -1.2870024758751444,
          -0.19727806101733522,
          1.3001919306481338,
          0.3064075043148491,
          0.07117476930400782,
          -0.96812683843896,
          1.82880823196082,
          1.5559339345907204,
          1.7050542509227609,
          1.7171720163798219,
          0.42589246627030913,
          -2.3660287467420225,
          -1.5323420715419014,
          1.9884957118847637,
          -0.7216381285780816,
          -0.9380010074166955,
          0.16306318472752554,
          -0.7425934426726053,
          -0.9707420414928241,
          -2.0238789682217306,
          0.20622339294902128,
          0.29403482434209716,
          0.12147098035639514,
          0.20258350462675498,
          -0.2992269193093349,
          0.22115912154903292,
          -1.7790002822602209,
          -1.872050479776317,
          -0.43176879529106,
          0.940906565069375,
          1.3443483421299551,
          -0.8062940834059503,
          -0.15012732876279758,
          0.20043931984963673,
          0.22002772846606183,
          -1.4076957323909052,
          1.36507767965311,
          0.5463241272540051,
          1.9568592851420272,
          -0.886230842336463,
          -0.24970954645615465,
          1.4577791399977678,
          -1.0263047973016162,
          -1.0009532490096018,
          -0.28890730822092503,
          1.072250787176654,
          0.45805736391766777
         ],
         "yaxis": "y7"
        },
        {
         "line": {
          "color": "rgba(128, 128, 128, 1.0)",
          "dash": "solid",
          "shape": "linear",
          "width": 1.3
         },
         "marker": {
          "size": 2,
          "symbol": "circle"
         },
         "mode": "markers",
         "name": "B",
         "text": "",
         "type": "scatter",
         "x": [
          -1.5897221946627162,
          0.3881534151264451,
          0.2772944841151599,
          1.298330640559541,
          0.8568091610919952,
          -1.486106835229758,
          -1.0862231370818147,
          0.5748087439840773,
          1.026628771340924,
          -0.4141700103142258,
          0.30538030427163665,
          -0.012805826093219381,
          -2.0749459185303816,
          0.8672918118015417,
          0.07451223055141265,
          -1.4561635949972151,
          -0.5360852317698505,
          0.3265984770476418,
          0.8368502744859896,
          -0.07877931097570023,
          0.30867488169765506,
          -0.9617878067606253,
          -1.4812539643895888,
          0.19203346442859506,
          1.0976284998357833,
          2.66715863939564,
          -0.6873804694129563,
          0.9948807074855572,
          -0.36959070183480014,
          -0.18158394365251512,
          0.34071102177736184,
          1.9530310396655668,
          1.503513220409165,
          -0.32346215040040593,
          -0.08263971729847629,
          -1.5292671827037791,
          0.28974899643705376,
          0.4631692021102995,
          0.8071285959134398,
          -0.9225761376000622,
          0.8235374860706418,
          -1.4003448077047984,
          0.7472141205820891,
          0.09259546962931467,
          -0.13428263434801724,
          0.22832046417331497,
          -0.7557896338030863,
          0.5533146148613863,
          -2.2699352226812253,
          -0.6861455007876447,
          0.5353727580331634,
          0.6991968133340193,
          2.2640420510689365,
          0.9316723073168875,
          -0.4747759199341716,
          0.5320410779272005,
          1.024932640201076,
          0.14427840861954674,
          -1.0822146534072383,
          0.3105510034526434,
          0.5891865162490424,
          -0.7105178812376683,
          0.3334024361608685,
          -0.01715749825336284,
          1.0880748291362126,
          0.7982450519963034,
          0.9505168604870251,
          -0.4029352598200969,
          1.4491594657254252,
          0.20045013807179224,
          -0.40928058030959946,
          0.5972644954771477,
          0.4809926819086426,
          -1.2633582269604677,
          -0.38106444879833234,
          1.0058960599684232,
          -0.5053756209038799,
          -0.3861065428798655,
          0.7108175908518505,
          -0.16554681207675614,
          1.374812443087915,
          1.3763994785644487,
          0.20954640783588474,
          0.3344658816141513,
          -2.1098790196848967,
          0.5367893903275768,
          -0.5464041834590837,
          1.7701255317721094,
          0.9911185492373951,
          -1.831858888910831,
          -0.3197343382221082,
          -0.03144426316548922,
          -0.7145999792041241,
          0.0552858232740609,
          -1.338721708829007,
          0.923197690489228,
          0.7368405105614648,
          -0.628642418169745,
          0.5444548763628334,
          -1.5507106220555789
         ],
         "xaxis": "x8",
         "y": [
          -0.612674881396858,
          -0.2369623864621897,
          0.884172060253383,
          1.1599681389449998,
          1.541433973431705,
          -0.024482749390586922,
          -0.010581934928280717,
          0.4208804279380881,
          -1.055904482828417,
          -0.5731293410391528,
          0.6136951834885712,
          0.3788139488071389,
          -0.7236246217565258,
          -0.9832872929064812,
          -0.04584667102425731,
          1.0990096326338898,
          -0.4894552325381044,
          0.09207295202927872,
          0.8907023697335712,
          1.071647550161279,
          -0.09772605038866598,
          -0.5573372268161606,
          2.1569812897937672,
          -0.3138297576026716,
          0.967564149880955,
          0.5283041481971225,
          1.275552520971748,
          -0.23814452995452495,
          1.3686369305494708,
          0.4554414353012013,
          0.17261064038033674,
          -1.2790756257079117,
          -1.668432178436465,
          -0.7589722147586523,
          -1.1217293268341164,
          0.1457960988457628,
          -2.460171601392952,
          1.1224080996706933,
          -0.5718735010119889,
          0.7480470173720155,
          -0.03113393613510434,
          1.6490615045790034,
          0.05753332794358935,
          -0.20428125058288318,
          -2.0075424792795133,
          0.667885385351891,
          0.0636282659190983,
          -0.011188874517152437,
          2.049007627401017,
          -1.5848630631660825,
          -0.9622210929462339,
          -0.8431124359578438,
          0.05754501771367724,
          -1.2870024758751444,
          -0.19727806101733522,
          1.3001919306481338,
          0.3064075043148491,
          0.07117476930400782,
          -0.96812683843896,
          1.82880823196082,
          1.5559339345907204,
          1.7050542509227609,
          1.7171720163798219,
          0.42589246627030913,
          -2.3660287467420225,
          -1.5323420715419014,
          1.9884957118847637,
          -0.7216381285780816,
          -0.9380010074166955,
          0.16306318472752554,
          -0.7425934426726053,
          -0.9707420414928241,
          -2.0238789682217306,
          0.20622339294902128,
          0.29403482434209716,
          0.12147098035639514,
          0.20258350462675498,
          -0.2992269193093349,
          0.22115912154903292,
          -1.7790002822602209,
          -1.872050479776317,
          -0.43176879529106,
          0.940906565069375,
          1.3443483421299551,
          -0.8062940834059503,
          -0.15012732876279758,
          0.20043931984963673,
          0.22002772846606183,
          -1.4076957323909052,
          1.36507767965311,
          0.5463241272540051,
          1.9568592851420272,
          -0.886230842336463,
          -0.24970954645615465,
          1.4577791399977678,
          -1.0263047973016162,
          -1.0009532490096018,
          -0.28890730822092503,
          1.072250787176654,
          0.45805736391766777
         ],
         "yaxis": "y8"
        },
        {
         "line": {
          "color": "rgba(128, 128, 128, 1.0)",
          "dash": "solid",
          "shape": "linear",
          "width": 1.3
         },
         "marker": {
          "size": 2,
          "symbol": "circle"
         },
         "mode": "markers",
         "name": "C",
         "text": "",
         "type": "scatter",
         "x": [
          -0.24869303225749126,
          -2.388145795579333,
          0.7052569495813963,
          0.8921836516207222,
          -0.8641832945932809,
          0.12474763473727571,
          0.9771147206925541,
          -1.120879746434406,
          2.083325158822628,
          -0.14292514964191178,
          -1.1312169975938375,
          -0.11607697197171943,
          -2.180363608406877,
          -1.109061809100249,
          1.1778238870317181,
          0.7910259440816909,
          0.645202281124067,
          -0.1742790933800676,
          0.8225032314842339,
          0.29877822246100105,
          0.36722046683406245,
          1.2324544434409372,
          -1.7020118796248933,
          1.7042326155461203,
          -1.4450455739935764,
          -0.78545924825664,
          2.06296995198097,
          0.3665990108761806,
          -1.116799652901445,
          0.7366232257112952,
          0.6809107980964005,
          0.4337169537228572,
          0.5054307038730637,
          -0.9015199558765126,
          1.2400228835450735,
          -0.0764876321557282,
          1.5777026737325832,
          -0.09862690109282116,
          0.7644500967843794,
          0.17103982442114465,
          0.37321438050746564,
          -0.1021660818701845,
          -2.351357285273254,
          0.8671154218975321,
          0.9128969618550399,
          0.17785238425044794,
          0.21187259997227123,
          0.050938673505943645,
          0.6563964094079809,
          0.053649786152871054,
          -0.0197549209834424,
          1.5798149195593896,
          0.791318635261723,
          -0.9025588999319102,
          1.656944673728671,
          -0.8269206687359101,
          0.06556319052433303,
          -0.8214461312213147,
          2.187880503422802,
          -0.46944316735562686,
          -0.7370885868139803,
          0.8165338304816602,
          -0.9054807194666195,
          -1.3809585264041093,
          -0.7458765995206087,
          0.18823758886614955,
          1.3784227314336097,
          -1.0036999714454244,
          -0.8559179530591503,
          -1.5808922630144657,
          -1.0890433281306702,
          0.6087193993857751,
          1.2516196623031353,
          -0.7354149576024046,
          0.2891258014135116,
          0.07985900771739284,
          -1.215018118998959,
          0.31249748403780464,
          0.9175732377339435,
          -1.041267348022098,
          -1.069969287706913,
          1.4965582109974387,
          2.639408794995632,
          0.9601098331096278,
          0.31731584401142465,
          -2.0170362462039684,
          0.9816338696585786,
          1.5190162401027576,
          0.15579596719864214,
          0.27471292445643963,
          -0.63239828780116,
          -1.0501242325930704,
          0.8160338670311766,
          -1.0935321627740018,
          -0.8056994370048624,
          0.32500050683722304,
          0.30487108890472714,
          -0.31497417629318075,
          2.0218995987796933,
          0.4843579882960143
         ],
         "xaxis": "x9",
         "y": [
          -2.1875962710340633,
          1.2043466892488253,
          -0.2624637021694007,
          -0.044774519494937354,
          -0.38828732945577965,
          -1.7604191184675766,
          -0.8330320826323994,
          -0.45260597178575424,
          0.37666516698609703,
          -0.45075330251265217,
          -0.4543014386060515,
          -1.6818125208376644,
          -0.777172441623389,
          -1.115031723523379,
          -0.2828639849820452,
          1.5109558788259014,
          0.3497580319219913,
          -0.7986845728658987,
          -2.304293194629496,
          0.13818781871544455,
          -0.8568120676938925,
          0.1283511008423489,
          -1.6464870113713808,
          0.1509732009457024,
          0.48580680075115507,
          0.8844256749558661,
          0.863925568233306,
          -0.424112327916965,
          -1.023377757860004,
          -1.2429516240004856,
          0.4644114102285322,
          -0.10295568470534225,
          1.1343980376200298,
          0.5952729060364006,
          -0.944905980125573,
          -0.5918297192626695,
          -1.9362958830669315,
          0.7773084542894089,
          -0.7025040256192104,
          -0.6721361405389769,
          0.22489473295161644,
          -1.2072044451488124,
          -0.6679812924099646,
          0.20072281504376818,
          -0.06894227862165513,
          0.21307238240542759,
          0.8622619083858662,
          -0.9334003090979155,
          -0.04407152633317502,
          0.3703242459554553,
          -1.5132386818086954,
          1.704751495814103,
          -0.35615570204659286,
          -0.4074435132315458,
          -0.4803434654367431,
          -0.5228307576630105,
          2.1418357368651204,
          -0.5378629661350438,
          -0.8789667540700302,
          -0.679433912537144,
          2.166892421079014,
          2.526250778691885,
          1.0743531852444916,
          0.9990476667989842,
          0.9265298440916431,
          0.42914042026948807,
          -0.4111111006921592,
          -0.7268320997806266,
          -0.6605936820905781,
          -2.04184195646119,
          -0.14404800610251542,
          -0.07021136849345204,
          0.5959802125115937,
          2.3055706612204316,
          -0.39023861984682784,
          -0.2870649687792531,
          -0.241642459550871,
          0.43550553077105064,
          0.3272146563694911,
          -0.37076963719152484,
          -1.2705471688439887,
          -1.0400727555021632,
          0.1039131879954186,
          0.008023775137617924,
          0.8491798895964642,
          -0.03897877933284549,
          1.0028909315813694,
          -0.32044741849232344,
          2.1146621360431057,
          1.9176799493258965,
          -1.2039507080103085,
          1.6289595320326293,
          0.1337860305895442,
          1.0994080407915758,
          -0.2758949893549994,
          0.011838560565450105,
          1.5341262281452326,
          -0.36978117398831484,
          1.6380429951546858,
          0.7304392696016989
         ],
         "yaxis": "y9"
        },
        {
         "line": {
          "color": "rgba(128, 128, 128, 1.0)",
          "dash": "solid",
          "shape": "linear",
          "width": 1.3
         },
         "marker": {
          "size": 2,
          "symbol": "circle"
         },
         "mode": "markers",
         "name": "C",
         "text": "",
         "type": "scatter",
         "x": [
          -0.612674881396858,
          -0.2369623864621897,
          0.884172060253383,
          1.1599681389449998,
          1.541433973431705,
          -0.024482749390586922,
          -0.010581934928280717,
          0.4208804279380881,
          -1.055904482828417,
          -0.5731293410391528,
          0.6136951834885712,
          0.3788139488071389,
          -0.7236246217565258,
          -0.9832872929064812,
          -0.04584667102425731,
          1.0990096326338898,
          -0.4894552325381044,
          0.09207295202927872,
          0.8907023697335712,
          1.071647550161279,
          -0.09772605038866598,
          -0.5573372268161606,
          2.1569812897937672,
          -0.3138297576026716,
          0.967564149880955,
          0.5283041481971225,
          1.275552520971748,
          -0.23814452995452495,
          1.3686369305494708,
          0.4554414353012013,
          0.17261064038033674,
          -1.2790756257079117,
          -1.668432178436465,
          -0.7589722147586523,
          -1.1217293268341164,
          0.1457960988457628,
          -2.460171601392952,
          1.1224080996706933,
          -0.5718735010119889,
          0.7480470173720155,
          -0.03113393613510434,
          1.6490615045790034,
          0.05753332794358935,
          -0.20428125058288318,
          -2.0075424792795133,
          0.667885385351891,
          0.0636282659190983,
          -0.011188874517152437,
          2.049007627401017,
          -1.5848630631660825,
          -0.9622210929462339,
          -0.8431124359578438,
          0.05754501771367724,
          -1.2870024758751444,
          -0.19727806101733522,
          1.3001919306481338,
          0.3064075043148491,
          0.07117476930400782,
          -0.96812683843896,
          1.82880823196082,
          1.5559339345907204,
          1.7050542509227609,
          1.7171720163798219,
          0.42589246627030913,
          -2.3660287467420225,
          -1.5323420715419014,
          1.9884957118847637,
          -0.7216381285780816,
          -0.9380010074166955,
          0.16306318472752554,
          -0.7425934426726053,
          -0.9707420414928241,
          -2.0238789682217306,
          0.20622339294902128,
          0.29403482434209716,
          0.12147098035639514,
          0.20258350462675498,
          -0.2992269193093349,
          0.22115912154903292,
          -1.7790002822602209,
          -1.872050479776317,
          -0.43176879529106,
          0.940906565069375,
          1.3443483421299551,
          -0.8062940834059503,
          -0.15012732876279758,
          0.20043931984963673,
          0.22002772846606183,
          -1.4076957323909052,
          1.36507767965311,
          0.5463241272540051,
          1.9568592851420272,
          -0.886230842336463,
          -0.24970954645615465,
          1.4577791399977678,
          -1.0263047973016162,
          -1.0009532490096018,
          -0.28890730822092503,
          1.072250787176654,
          0.45805736391766777
         ],
         "xaxis": "x10",
         "y": [
          -2.1875962710340633,
          1.2043466892488253,
          -0.2624637021694007,
          -0.044774519494937354,
          -0.38828732945577965,
          -1.7604191184675766,
          -0.8330320826323994,
          -0.45260597178575424,
          0.37666516698609703,
          -0.45075330251265217,
          -0.4543014386060515,
          -1.6818125208376644,
          -0.777172441623389,
          -1.115031723523379,
          -0.2828639849820452,
          1.5109558788259014,
          0.3497580319219913,
          -0.7986845728658987,
          -2.304293194629496,
          0.13818781871544455,
          -0.8568120676938925,
          0.1283511008423489,
          -1.6464870113713808,
          0.1509732009457024,
          0.48580680075115507,
          0.8844256749558661,
          0.863925568233306,
          -0.424112327916965,
          -1.023377757860004,
          -1.2429516240004856,
          0.4644114102285322,
          -0.10295568470534225,
          1.1343980376200298,
          0.5952729060364006,
          -0.944905980125573,
          -0.5918297192626695,
          -1.9362958830669315,
          0.7773084542894089,
          -0.7025040256192104,
          -0.6721361405389769,
          0.22489473295161644,
          -1.2072044451488124,
          -0.6679812924099646,
          0.20072281504376818,
          -0.06894227862165513,
          0.21307238240542759,
          0.8622619083858662,
          -0.9334003090979155,
          -0.04407152633317502,
          0.3703242459554553,
          -1.5132386818086954,
          1.704751495814103,
          -0.35615570204659286,
          -0.4074435132315458,
          -0.4803434654367431,
          -0.5228307576630105,
          2.1418357368651204,
          -0.5378629661350438,
          -0.8789667540700302,
          -0.679433912537144,
          2.166892421079014,
          2.526250778691885,
          1.0743531852444916,
          0.9990476667989842,
          0.9265298440916431,
          0.42914042026948807,
          -0.4111111006921592,
          -0.7268320997806266,
          -0.6605936820905781,
          -2.04184195646119,
          -0.14404800610251542,
          -0.07021136849345204,
          0.5959802125115937,
          2.3055706612204316,
          -0.39023861984682784,
          -0.2870649687792531,
          -0.241642459550871,
          0.43550553077105064,
          0.3272146563694911,
          -0.37076963719152484,
          -1.2705471688439887,
          -1.0400727555021632,
          0.1039131879954186,
          0.008023775137617924,
          0.8491798895964642,
          -0.03897877933284549,
          1.0028909315813694,
          -0.32044741849232344,
          2.1146621360431057,
          1.9176799493258965,
          -1.2039507080103085,
          1.6289595320326293,
          0.1337860305895442,
          1.0994080407915758,
          -0.2758949893549994,
          0.011838560565450105,
          1.5341262281452326,
          -0.36978117398831484,
          1.6380429951546858,
          0.7304392696016989
         ],
         "yaxis": "y10"
        },
        {
         "histfunc": "count",
         "histnorm": "",
         "marker": {
          "color": "rgba(50, 171, 96, 1.0)",
          "line": {
           "color": "#4D5663",
           "width": 1.3
          }
         },
         "name": "C",
         "nbinsx": 10,
         "opacity": 0.8,
         "orientation": "v",
         "type": "histogram",
         "x": [
          -2.1875962710340633,
          1.2043466892488253,
          -0.2624637021694007,
          -0.044774519494937354,
          -0.38828732945577965,
          -1.7604191184675766,
          -0.8330320826323994,
          -0.45260597178575424,
          0.37666516698609703,
          -0.45075330251265217,
          -0.4543014386060515,
          -1.6818125208376644,
          -0.777172441623389,
          -1.115031723523379,
          -0.2828639849820452,
          1.5109558788259014,
          0.3497580319219913,
          -0.7986845728658987,
          -2.304293194629496,
          0.13818781871544455,
          -0.8568120676938925,
          0.1283511008423489,
          -1.6464870113713808,
          0.1509732009457024,
          0.48580680075115507,
          0.8844256749558661,
          0.863925568233306,
          -0.424112327916965,
          -1.023377757860004,
          -1.2429516240004856,
          0.4644114102285322,
          -0.10295568470534225,
          1.1343980376200298,
          0.5952729060364006,
          -0.944905980125573,
          -0.5918297192626695,
          -1.9362958830669315,
          0.7773084542894089,
          -0.7025040256192104,
          -0.6721361405389769,
          0.22489473295161644,
          -1.2072044451488124,
          -0.6679812924099646,
          0.20072281504376818,
          -0.06894227862165513,
          0.21307238240542759,
          0.8622619083858662,
          -0.9334003090979155,
          -0.04407152633317502,
          0.3703242459554553,
          -1.5132386818086954,
          1.704751495814103,
          -0.35615570204659286,
          -0.4074435132315458,
          -0.4803434654367431,
          -0.5228307576630105,
          2.1418357368651204,
          -0.5378629661350438,
          -0.8789667540700302,
          -0.679433912537144,
          2.166892421079014,
          2.526250778691885,
          1.0743531852444916,
          0.9990476667989842,
          0.9265298440916431,
          0.42914042026948807,
          -0.4111111006921592,
          -0.7268320997806266,
          -0.6605936820905781,
          -2.04184195646119,
          -0.14404800610251542,
          -0.07021136849345204,
          0.5959802125115937,
          2.3055706612204316,
          -0.39023861984682784,
          -0.2870649687792531,
          -0.241642459550871,
          0.43550553077105064,
          0.3272146563694911,
          -0.37076963719152484,
          -1.2705471688439887,
          -1.0400727555021632,
          0.1039131879954186,
          0.008023775137617924,
          0.8491798895964642,
          -0.03897877933284549,
          1.0028909315813694,
          -0.32044741849232344,
          2.1146621360431057,
          1.9176799493258965,
          -1.2039507080103085,
          1.6289595320326293,
          0.1337860305895442,
          1.0994080407915758,
          -0.2758949893549994,
          0.011838560565450105,
          1.5341262281452326,
          -0.36978117398831484,
          1.6380429951546858,
          0.7304392696016989
         ],
         "xaxis": "x11",
         "yaxis": "y11"
        },
        {
         "line": {
          "color": "rgba(128, 128, 128, 1.0)",
          "dash": "solid",
          "shape": "linear",
          "width": 1.3
         },
         "marker": {
          "size": 2,
          "symbol": "circle"
         },
         "mode": "markers",
         "name": "C",
         "text": "",
         "type": "scatter",
         "x": [
          -1.5897221946627162,
          0.3881534151264451,
          0.2772944841151599,
          1.298330640559541,
          0.8568091610919952,
          -1.486106835229758,
          -1.0862231370818147,
          0.5748087439840773,
          1.026628771340924,
          -0.4141700103142258,
          0.30538030427163665,
          -0.012805826093219381,
          -2.0749459185303816,
          0.8672918118015417,
          0.07451223055141265,
          -1.4561635949972151,
          -0.5360852317698505,
          0.3265984770476418,
          0.8368502744859896,
          -0.07877931097570023,
          0.30867488169765506,
          -0.9617878067606253,
          -1.4812539643895888,
          0.19203346442859506,
          1.0976284998357833,
          2.66715863939564,
          -0.6873804694129563,
          0.9948807074855572,
          -0.36959070183480014,
          -0.18158394365251512,
          0.34071102177736184,
          1.9530310396655668,
          1.503513220409165,
          -0.32346215040040593,
          -0.08263971729847629,
          -1.5292671827037791,
          0.28974899643705376,
          0.4631692021102995,
          0.8071285959134398,
          -0.9225761376000622,
          0.8235374860706418,
          -1.4003448077047984,
          0.7472141205820891,
          0.09259546962931467,
          -0.13428263434801724,
          0.22832046417331497,
          -0.7557896338030863,
          0.5533146148613863,
          -2.2699352226812253,
          -0.6861455007876447,
          0.5353727580331634,
          0.6991968133340193,
          2.2640420510689365,
          0.9316723073168875,
          -0.4747759199341716,
          0.5320410779272005,
          1.024932640201076,
          0.14427840861954674,
          -1.0822146534072383,
          0.3105510034526434,
          0.5891865162490424,
          -0.7105178812376683,
          0.3334024361608685,
          -0.01715749825336284,
          1.0880748291362126,
          0.7982450519963034,
          0.9505168604870251,
          -0.4029352598200969,
          1.4491594657254252,
          0.20045013807179224,
          -0.40928058030959946,
          0.5972644954771477,
          0.4809926819086426,
          -1.2633582269604677,
          -0.38106444879833234,
          1.0058960599684232,
          -0.5053756209038799,
          -0.3861065428798655,
          0.7108175908518505,
          -0.16554681207675614,
          1.374812443087915,
          1.3763994785644487,
          0.20954640783588474,
          0.3344658816141513,
          -2.1098790196848967,
          0.5367893903275768,
          -0.5464041834590837,
          1.7701255317721094,
          0.9911185492373951,
          -1.831858888910831,
          -0.3197343382221082,
          -0.03144426316548922,
          -0.7145999792041241,
          0.0552858232740609,
          -1.338721708829007,
          0.923197690489228,
          0.7368405105614648,
          -0.628642418169745,
          0.5444548763628334,
          -1.5507106220555789
         ],
         "xaxis": "x12",
         "y": [
          -2.1875962710340633,
          1.2043466892488253,
          -0.2624637021694007,
          -0.044774519494937354,
          -0.38828732945577965,
          -1.7604191184675766,
          -0.8330320826323994,
          -0.45260597178575424,
          0.37666516698609703,
          -0.45075330251265217,
          -0.4543014386060515,
          -1.6818125208376644,
          -0.777172441623389,
          -1.115031723523379,
          -0.2828639849820452,
          1.5109558788259014,
          0.3497580319219913,
          -0.7986845728658987,
          -2.304293194629496,
          0.13818781871544455,
          -0.8568120676938925,
          0.1283511008423489,
          -1.6464870113713808,
          0.1509732009457024,
          0.48580680075115507,
          0.8844256749558661,
          0.863925568233306,
          -0.424112327916965,
          -1.023377757860004,
          -1.2429516240004856,
          0.4644114102285322,
          -0.10295568470534225,
          1.1343980376200298,
          0.5952729060364006,
          -0.944905980125573,
          -0.5918297192626695,
          -1.9362958830669315,
          0.7773084542894089,
          -0.7025040256192104,
          -0.6721361405389769,
          0.22489473295161644,
          -1.2072044451488124,
          -0.6679812924099646,
          0.20072281504376818,
          -0.06894227862165513,
          0.21307238240542759,
          0.8622619083858662,
          -0.9334003090979155,
          -0.04407152633317502,
          0.3703242459554553,
          -1.5132386818086954,
          1.704751495814103,
          -0.35615570204659286,
          -0.4074435132315458,
          -0.4803434654367431,
          -0.5228307576630105,
          2.1418357368651204,
          -0.5378629661350438,
          -0.8789667540700302,
          -0.679433912537144,
          2.166892421079014,
          2.526250778691885,
          1.0743531852444916,
          0.9990476667989842,
          0.9265298440916431,
          0.42914042026948807,
          -0.4111111006921592,
          -0.7268320997806266,
          -0.6605936820905781,
          -2.04184195646119,
          -0.14404800610251542,
          -0.07021136849345204,
          0.5959802125115937,
          2.3055706612204316,
          -0.39023861984682784,
          -0.2870649687792531,
          -0.241642459550871,
          0.43550553077105064,
          0.3272146563694911,
          -0.37076963719152484,
          -1.2705471688439887,
          -1.0400727555021632,
          0.1039131879954186,
          0.008023775137617924,
          0.8491798895964642,
          -0.03897877933284549,
          1.0028909315813694,
          -0.32044741849232344,
          2.1146621360431057,
          1.9176799493258965,
          -1.2039507080103085,
          1.6289595320326293,
          0.1337860305895442,
          1.0994080407915758,
          -0.2758949893549994,
          0.011838560565450105,
          1.5341262281452326,
          -0.36978117398831484,
          1.6380429951546858,
          0.7304392696016989
         ],
         "yaxis": "y12"
        },
        {
         "line": {
          "color": "rgba(128, 128, 128, 1.0)",
          "dash": "solid",
          "shape": "linear",
          "width": 1.3
         },
         "marker": {
          "size": 2,
          "symbol": "circle"
         },
         "mode": "markers",
         "name": "D",
         "text": "",
         "type": "scatter",
         "x": [
          -0.24869303225749126,
          -2.388145795579333,
          0.7052569495813963,
          0.8921836516207222,
          -0.8641832945932809,
          0.12474763473727571,
          0.9771147206925541,
          -1.120879746434406,
          2.083325158822628,
          -0.14292514964191178,
          -1.1312169975938375,
          -0.11607697197171943,
          -2.180363608406877,
          -1.109061809100249,
          1.1778238870317181,
          0.7910259440816909,
          0.645202281124067,
          -0.1742790933800676,
          0.8225032314842339,
          0.29877822246100105,
          0.36722046683406245,
          1.2324544434409372,
          -1.7020118796248933,
          1.7042326155461203,
          -1.4450455739935764,
          -0.78545924825664,
          2.06296995198097,
          0.3665990108761806,
          -1.116799652901445,
          0.7366232257112952,
          0.6809107980964005,
          0.4337169537228572,
          0.5054307038730637,
          -0.9015199558765126,
          1.2400228835450735,
          -0.0764876321557282,
          1.5777026737325832,
          -0.09862690109282116,
          0.7644500967843794,
          0.17103982442114465,
          0.37321438050746564,
          -0.1021660818701845,
          -2.351357285273254,
          0.8671154218975321,
          0.9128969618550399,
          0.17785238425044794,
          0.21187259997227123,
          0.050938673505943645,
          0.6563964094079809,
          0.053649786152871054,
          -0.0197549209834424,
          1.5798149195593896,
          0.791318635261723,
          -0.9025588999319102,
          1.656944673728671,
          -0.8269206687359101,
          0.06556319052433303,
          -0.8214461312213147,
          2.187880503422802,
          -0.46944316735562686,
          -0.7370885868139803,
          0.8165338304816602,
          -0.9054807194666195,
          -1.3809585264041093,
          -0.7458765995206087,
          0.18823758886614955,
          1.3784227314336097,
          -1.0036999714454244,
          -0.8559179530591503,
          -1.5808922630144657,
          -1.0890433281306702,
          0.6087193993857751,
          1.2516196623031353,
          -0.7354149576024046,
          0.2891258014135116,
          0.07985900771739284,
          -1.215018118998959,
          0.31249748403780464,
          0.9175732377339435,
          -1.041267348022098,
          -1.069969287706913,
          1.4965582109974387,
          2.639408794995632,
          0.9601098331096278,
          0.31731584401142465,
          -2.0170362462039684,
          0.9816338696585786,
          1.5190162401027576,
          0.15579596719864214,
          0.27471292445643963,
          -0.63239828780116,
          -1.0501242325930704,
          0.8160338670311766,
          -1.0935321627740018,
          -0.8056994370048624,
          0.32500050683722304,
          0.30487108890472714,
          -0.31497417629318075,
          2.0218995987796933,
          0.4843579882960143
         ],
         "xaxis": "x13",
         "y": [
          -1.5897221946627162,
          0.3881534151264451,
          0.2772944841151599,
          1.298330640559541,
          0.8568091610919952,
          -1.486106835229758,
          -1.0862231370818147,
          0.5748087439840773,
          1.026628771340924,
          -0.4141700103142258,
          0.30538030427163665,
          -0.012805826093219381,
          -2.0749459185303816,
          0.8672918118015417,
          0.07451223055141265,
          -1.4561635949972151,
          -0.5360852317698505,
          0.3265984770476418,
          0.8368502744859896,
          -0.07877931097570023,
          0.30867488169765506,
          -0.9617878067606253,
          -1.4812539643895888,
          0.19203346442859506,
          1.0976284998357833,
          2.66715863939564,
          -0.6873804694129563,
          0.9948807074855572,
          -0.36959070183480014,
          -0.18158394365251512,
          0.34071102177736184,
          1.9530310396655668,
          1.503513220409165,
          -0.32346215040040593,
          -0.08263971729847629,
          -1.5292671827037791,
          0.28974899643705376,
          0.4631692021102995,
          0.8071285959134398,
          -0.9225761376000622,
          0.8235374860706418,
          -1.4003448077047984,
          0.7472141205820891,
          0.09259546962931467,
          -0.13428263434801724,
          0.22832046417331497,
          -0.7557896338030863,
          0.5533146148613863,
          -2.2699352226812253,
          -0.6861455007876447,
          0.5353727580331634,
          0.6991968133340193,
          2.2640420510689365,
          0.9316723073168875,
          -0.4747759199341716,
          0.5320410779272005,
          1.024932640201076,
          0.14427840861954674,
          -1.0822146534072383,
          0.3105510034526434,
          0.5891865162490424,
          -0.7105178812376683,
          0.3334024361608685,
          -0.01715749825336284,
          1.0880748291362126,
          0.7982450519963034,
          0.9505168604870251,
          -0.4029352598200969,
          1.4491594657254252,
          0.20045013807179224,
          -0.40928058030959946,
          0.5972644954771477,
          0.4809926819086426,
          -1.2633582269604677,
          -0.38106444879833234,
          1.0058960599684232,
          -0.5053756209038799,
          -0.3861065428798655,
          0.7108175908518505,
          -0.16554681207675614,
          1.374812443087915,
          1.3763994785644487,
          0.20954640783588474,
          0.3344658816141513,
          -2.1098790196848967,
          0.5367893903275768,
          -0.5464041834590837,
          1.7701255317721094,
          0.9911185492373951,
          -1.831858888910831,
          -0.3197343382221082,
          -0.03144426316548922,
          -0.7145999792041241,
          0.0552858232740609,
          -1.338721708829007,
          0.923197690489228,
          0.7368405105614648,
          -0.628642418169745,
          0.5444548763628334,
          -1.5507106220555789
         ],
         "yaxis": "y13"
        },
        {
         "line": {
          "color": "rgba(128, 128, 128, 1.0)",
          "dash": "solid",
          "shape": "linear",
          "width": 1.3
         },
         "marker": {
          "size": 2,
          "symbol": "circle"
         },
         "mode": "markers",
         "name": "D",
         "text": "",
         "type": "scatter",
         "x": [
          -0.612674881396858,
          -0.2369623864621897,
          0.884172060253383,
          1.1599681389449998,
          1.541433973431705,
          -0.024482749390586922,
          -0.010581934928280717,
          0.4208804279380881,
          -1.055904482828417,
          -0.5731293410391528,
          0.6136951834885712,
          0.3788139488071389,
          -0.7236246217565258,
          -0.9832872929064812,
          -0.04584667102425731,
          1.0990096326338898,
          -0.4894552325381044,
          0.09207295202927872,
          0.8907023697335712,
          1.071647550161279,
          -0.09772605038866598,
          -0.5573372268161606,
          2.1569812897937672,
          -0.3138297576026716,
          0.967564149880955,
          0.5283041481971225,
          1.275552520971748,
          -0.23814452995452495,
          1.3686369305494708,
          0.4554414353012013,
          0.17261064038033674,
          -1.2790756257079117,
          -1.668432178436465,
          -0.7589722147586523,
          -1.1217293268341164,
          0.1457960988457628,
          -2.460171601392952,
          1.1224080996706933,
          -0.5718735010119889,
          0.7480470173720155,
          -0.03113393613510434,
          1.6490615045790034,
          0.05753332794358935,
          -0.20428125058288318,
          -2.0075424792795133,
          0.667885385351891,
          0.0636282659190983,
          -0.011188874517152437,
          2.049007627401017,
          -1.5848630631660825,
          -0.9622210929462339,
          -0.8431124359578438,
          0.05754501771367724,
          -1.2870024758751444,
          -0.19727806101733522,
          1.3001919306481338,
          0.3064075043148491,
          0.07117476930400782,
          -0.96812683843896,
          1.82880823196082,
          1.5559339345907204,
          1.7050542509227609,
          1.7171720163798219,
          0.42589246627030913,
          -2.3660287467420225,
          -1.5323420715419014,
          1.9884957118847637,
          -0.7216381285780816,
          -0.9380010074166955,
          0.16306318472752554,
          -0.7425934426726053,
          -0.9707420414928241,
          -2.0238789682217306,
          0.20622339294902128,
          0.29403482434209716,
          0.12147098035639514,
          0.20258350462675498,
          -0.2992269193093349,
          0.22115912154903292,
          -1.7790002822602209,
          -1.872050479776317,
          -0.43176879529106,
          0.940906565069375,
          1.3443483421299551,
          -0.8062940834059503,
          -0.15012732876279758,
          0.20043931984963673,
          0.22002772846606183,
          -1.4076957323909052,
          1.36507767965311,
          0.5463241272540051,
          1.9568592851420272,
          -0.886230842336463,
          -0.24970954645615465,
          1.4577791399977678,
          -1.0263047973016162,
          -1.0009532490096018,
          -0.28890730822092503,
          1.072250787176654,
          0.45805736391766777
         ],
         "xaxis": "x14",
         "y": [
          -1.5897221946627162,
          0.3881534151264451,
          0.2772944841151599,
          1.298330640559541,
          0.8568091610919952,
          -1.486106835229758,
          -1.0862231370818147,
          0.5748087439840773,
          1.026628771340924,
          -0.4141700103142258,
          0.30538030427163665,
          -0.012805826093219381,
          -2.0749459185303816,
          0.8672918118015417,
          0.07451223055141265,
          -1.4561635949972151,
          -0.5360852317698505,
          0.3265984770476418,
          0.8368502744859896,
          -0.07877931097570023,
          0.30867488169765506,
          -0.9617878067606253,
          -1.4812539643895888,
          0.19203346442859506,
          1.0976284998357833,
          2.66715863939564,
          -0.6873804694129563,
          0.9948807074855572,
          -0.36959070183480014,
          -0.18158394365251512,
          0.34071102177736184,
          1.9530310396655668,
          1.503513220409165,
          -0.32346215040040593,
          -0.08263971729847629,
          -1.5292671827037791,
          0.28974899643705376,
          0.4631692021102995,
          0.8071285959134398,
          -0.9225761376000622,
          0.8235374860706418,
          -1.4003448077047984,
          0.7472141205820891,
          0.09259546962931467,
          -0.13428263434801724,
          0.22832046417331497,
          -0.7557896338030863,
          0.5533146148613863,
          -2.2699352226812253,
          -0.6861455007876447,
          0.5353727580331634,
          0.6991968133340193,
          2.2640420510689365,
          0.9316723073168875,
          -0.4747759199341716,
          0.5320410779272005,
          1.024932640201076,
          0.14427840861954674,
          -1.0822146534072383,
          0.3105510034526434,
          0.5891865162490424,
          -0.7105178812376683,
          0.3334024361608685,
          -0.01715749825336284,
          1.0880748291362126,
          0.7982450519963034,
          0.9505168604870251,
          -0.4029352598200969,
          1.4491594657254252,
          0.20045013807179224,
          -0.40928058030959946,
          0.5972644954771477,
          0.4809926819086426,
          -1.2633582269604677,
          -0.38106444879833234,
          1.0058960599684232,
          -0.5053756209038799,
          -0.3861065428798655,
          0.7108175908518505,
          -0.16554681207675614,
          1.374812443087915,
          1.3763994785644487,
          0.20954640783588474,
          0.3344658816141513,
          -2.1098790196848967,
          0.5367893903275768,
          -0.5464041834590837,
          1.7701255317721094,
          0.9911185492373951,
          -1.831858888910831,
          -0.3197343382221082,
          -0.03144426316548922,
          -0.7145999792041241,
          0.0552858232740609,
          -1.338721708829007,
          0.923197690489228,
          0.7368405105614648,
          -0.628642418169745,
          0.5444548763628334,
          -1.5507106220555789
         ],
         "yaxis": "y14"
        },
        {
         "line": {
          "color": "rgba(128, 128, 128, 1.0)",
          "dash": "solid",
          "shape": "linear",
          "width": 1.3
         },
         "marker": {
          "size": 2,
          "symbol": "circle"
         },
         "mode": "markers",
         "name": "D",
         "text": "",
         "type": "scatter",
         "x": [
          -2.1875962710340633,
          1.2043466892488253,
          -0.2624637021694007,
          -0.044774519494937354,
          -0.38828732945577965,
          -1.7604191184675766,
          -0.8330320826323994,
          -0.45260597178575424,
          0.37666516698609703,
          -0.45075330251265217,
          -0.4543014386060515,
          -1.6818125208376644,
          -0.777172441623389,
          -1.115031723523379,
          -0.2828639849820452,
          1.5109558788259014,
          0.3497580319219913,
          -0.7986845728658987,
          -2.304293194629496,
          0.13818781871544455,
          -0.8568120676938925,
          0.1283511008423489,
          -1.6464870113713808,
          0.1509732009457024,
          0.48580680075115507,
          0.8844256749558661,
          0.863925568233306,
          -0.424112327916965,
          -1.023377757860004,
          -1.2429516240004856,
          0.4644114102285322,
          -0.10295568470534225,
          1.1343980376200298,
          0.5952729060364006,
          -0.944905980125573,
          -0.5918297192626695,
          -1.9362958830669315,
          0.7773084542894089,
          -0.7025040256192104,
          -0.6721361405389769,
          0.22489473295161644,
          -1.2072044451488124,
          -0.6679812924099646,
          0.20072281504376818,
          -0.06894227862165513,
          0.21307238240542759,
          0.8622619083858662,
          -0.9334003090979155,
          -0.04407152633317502,
          0.3703242459554553,
          -1.5132386818086954,
          1.704751495814103,
          -0.35615570204659286,
          -0.4074435132315458,
          -0.4803434654367431,
          -0.5228307576630105,
          2.1418357368651204,
          -0.5378629661350438,
          -0.8789667540700302,
          -0.679433912537144,
          2.166892421079014,
          2.526250778691885,
          1.0743531852444916,
          0.9990476667989842,
          0.9265298440916431,
          0.42914042026948807,
          -0.4111111006921592,
          -0.7268320997806266,
          -0.6605936820905781,
          -2.04184195646119,
          -0.14404800610251542,
          -0.07021136849345204,
          0.5959802125115937,
          2.3055706612204316,
          -0.39023861984682784,
          -0.2870649687792531,
          -0.241642459550871,
          0.43550553077105064,
          0.3272146563694911,
          -0.37076963719152484,
          -1.2705471688439887,
          -1.0400727555021632,
          0.1039131879954186,
          0.008023775137617924,
          0.8491798895964642,
          -0.03897877933284549,
          1.0028909315813694,
          -0.32044741849232344,
          2.1146621360431057,
          1.9176799493258965,
          -1.2039507080103085,
          1.6289595320326293,
          0.1337860305895442,
          1.0994080407915758,
          -0.2758949893549994,
          0.011838560565450105,
          1.5341262281452326,
          -0.36978117398831484,
          1.6380429951546858,
          0.7304392696016989
         ],
         "xaxis": "x15",
         "y": [
          -1.5897221946627162,
          0.3881534151264451,
          0.2772944841151599,
          1.298330640559541,
          0.8568091610919952,
          -1.486106835229758,
          -1.0862231370818147,
          0.5748087439840773,
          1.026628771340924,
          -0.4141700103142258,
          0.30538030427163665,
          -0.012805826093219381,
          -2.0749459185303816,
          0.8672918118015417,
          0.07451223055141265,
          -1.4561635949972151,
          -0.5360852317698505,
          0.3265984770476418,
          0.8368502744859896,
          -0.07877931097570023,
          0.30867488169765506,
          -0.9617878067606253,
          -1.4812539643895888,
          0.19203346442859506,
          1.0976284998357833,
          2.66715863939564,
          -0.6873804694129563,
          0.9948807074855572,
          -0.36959070183480014,
          -0.18158394365251512,
          0.34071102177736184,
          1.9530310396655668,
          1.503513220409165,
          -0.32346215040040593,
          -0.08263971729847629,
          -1.5292671827037791,
          0.28974899643705376,
          0.4631692021102995,
          0.8071285959134398,
          -0.9225761376000622,
          0.8235374860706418,
          -1.4003448077047984,
          0.7472141205820891,
          0.09259546962931467,
          -0.13428263434801724,
          0.22832046417331497,
          -0.7557896338030863,
          0.5533146148613863,
          -2.2699352226812253,
          -0.6861455007876447,
          0.5353727580331634,
          0.6991968133340193,
          2.2640420510689365,
          0.9316723073168875,
          -0.4747759199341716,
          0.5320410779272005,
          1.024932640201076,
          0.14427840861954674,
          -1.0822146534072383,
          0.3105510034526434,
          0.5891865162490424,
          -0.7105178812376683,
          0.3334024361608685,
          -0.01715749825336284,
          1.0880748291362126,
          0.7982450519963034,
          0.9505168604870251,
          -0.4029352598200969,
          1.4491594657254252,
          0.20045013807179224,
          -0.40928058030959946,
          0.5972644954771477,
          0.4809926819086426,
          -1.2633582269604677,
          -0.38106444879833234,
          1.0058960599684232,
          -0.5053756209038799,
          -0.3861065428798655,
          0.7108175908518505,
          -0.16554681207675614,
          1.374812443087915,
          1.3763994785644487,
          0.20954640783588474,
          0.3344658816141513,
          -2.1098790196848967,
          0.5367893903275768,
          -0.5464041834590837,
          1.7701255317721094,
          0.9911185492373951,
          -1.831858888910831,
          -0.3197343382221082,
          -0.03144426316548922,
          -0.7145999792041241,
          0.0552858232740609,
          -1.338721708829007,
          0.923197690489228,
          0.7368405105614648,
          -0.628642418169745,
          0.5444548763628334,
          -1.5507106220555789
         ],
         "yaxis": "y15"
        },
        {
         "histfunc": "count",
         "histnorm": "",
         "marker": {
          "color": "rgba(128, 0, 128, 1.0)",
          "line": {
           "color": "#4D5663",
           "width": 1.3
          }
         },
         "name": "D",
         "nbinsx": 10,
         "opacity": 0.8,
         "orientation": "v",
         "type": "histogram",
         "x": [
          -1.5897221946627162,
          0.3881534151264451,
          0.2772944841151599,
          1.298330640559541,
          0.8568091610919952,
          -1.486106835229758,
          -1.0862231370818147,
          0.5748087439840773,
          1.026628771340924,
          -0.4141700103142258,
          0.30538030427163665,
          -0.012805826093219381,
          -2.0749459185303816,
          0.8672918118015417,
          0.07451223055141265,
          -1.4561635949972151,
          -0.5360852317698505,
          0.3265984770476418,
          0.8368502744859896,
          -0.07877931097570023,
          0.30867488169765506,
          -0.9617878067606253,
          -1.4812539643895888,
          0.19203346442859506,
          1.0976284998357833,
          2.66715863939564,
          -0.6873804694129563,
          0.9948807074855572,
          -0.36959070183480014,
          -0.18158394365251512,
          0.34071102177736184,
          1.9530310396655668,
          1.503513220409165,
          -0.32346215040040593,
          -0.08263971729847629,
          -1.5292671827037791,
          0.28974899643705376,
          0.4631692021102995,
          0.8071285959134398,
          -0.9225761376000622,
          0.8235374860706418,
          -1.4003448077047984,
          0.7472141205820891,
          0.09259546962931467,
          -0.13428263434801724,
          0.22832046417331497,
          -0.7557896338030863,
          0.5533146148613863,
          -2.2699352226812253,
          -0.6861455007876447,
          0.5353727580331634,
          0.6991968133340193,
          2.2640420510689365,
          0.9316723073168875,
          -0.4747759199341716,
          0.5320410779272005,
          1.024932640201076,
          0.14427840861954674,
          -1.0822146534072383,
          0.3105510034526434,
          0.5891865162490424,
          -0.7105178812376683,
          0.3334024361608685,
          -0.01715749825336284,
          1.0880748291362126,
          0.7982450519963034,
          0.9505168604870251,
          -0.4029352598200969,
          1.4491594657254252,
          0.20045013807179224,
          -0.40928058030959946,
          0.5972644954771477,
          0.4809926819086426,
          -1.2633582269604677,
          -0.38106444879833234,
          1.0058960599684232,
          -0.5053756209038799,
          -0.3861065428798655,
          0.7108175908518505,
          -0.16554681207675614,
          1.374812443087915,
          1.3763994785644487,
          0.20954640783588474,
          0.3344658816141513,
          -2.1098790196848967,
          0.5367893903275768,
          -0.5464041834590837,
          1.7701255317721094,
          0.9911185492373951,
          -1.831858888910831,
          -0.3197343382221082,
          -0.03144426316548922,
          -0.7145999792041241,
          0.0552858232740609,
          -1.338721708829007,
          0.923197690489228,
          0.7368405105614648,
          -0.628642418169745,
          0.5444548763628334,
          -1.5507106220555789
         ],
         "xaxis": "x16",
         "yaxis": "y16"
        }
       ],
       "layout": {
        "bargap": 0.02,
        "legend": {
         "bgcolor": "#F5F6F9",
         "font": {
          "color": "#4D5663"
         }
        },
        "paper_bgcolor": "#F5F6F9",
        "plot_bgcolor": "#F5F6F9",
        "showlegend": false,
        "template": {
         "data": {
          "bar": [
           {
            "error_x": {
             "color": "#2a3f5f"
            },
            "error_y": {
             "color": "#2a3f5f"
            },
            "marker": {
             "line": {
              "color": "#E5ECF6",
              "width": 0.5
             },
             "pattern": {
              "fillmode": "overlay",
              "size": 10,
              "solidity": 0.2
             }
            },
            "type": "bar"
           }
          ],
          "barpolar": [
           {
            "marker": {
             "line": {
              "color": "#E5ECF6",
              "width": 0.5
             },
             "pattern": {
              "fillmode": "overlay",
              "size": 10,
              "solidity": 0.2
             }
            },
            "type": "barpolar"
           }
          ],
          "carpet": [
           {
            "aaxis": {
             "endlinecolor": "#2a3f5f",
             "gridcolor": "white",
             "linecolor": "white",
             "minorgridcolor": "white",
             "startlinecolor": "#2a3f5f"
            },
            "baxis": {
             "endlinecolor": "#2a3f5f",
             "gridcolor": "white",
             "linecolor": "white",
             "minorgridcolor": "white",
             "startlinecolor": "#2a3f5f"
            },
            "type": "carpet"
           }
          ],
          "choropleth": [
           {
            "colorbar": {
             "outlinewidth": 0,
             "ticks": ""
            },
            "type": "choropleth"
           }
          ],
          "contour": [
           {
            "colorbar": {
             "outlinewidth": 0,
             "ticks": ""
            },
            "colorscale": [
             [
              0,
              "#0d0887"
             ],
             [
              0.1111111111111111,
              "#46039f"
             ],
             [
              0.2222222222222222,
              "#7201a8"
             ],
             [
              0.3333333333333333,
              "#9c179e"
             ],
             [
              0.4444444444444444,
              "#bd3786"
             ],
             [
              0.5555555555555556,
              "#d8576b"
             ],
             [
              0.6666666666666666,
              "#ed7953"
             ],
             [
              0.7777777777777778,
              "#fb9f3a"
             ],
             [
              0.8888888888888888,
              "#fdca26"
             ],
             [
              1,
              "#f0f921"
             ]
            ],
            "type": "contour"
           }
          ],
          "contourcarpet": [
           {
            "colorbar": {
             "outlinewidth": 0,
             "ticks": ""
            },
            "type": "contourcarpet"
           }
          ],
          "heatmap": [
           {
            "colorbar": {
             "outlinewidth": 0,
             "ticks": ""
            },
            "colorscale": [
             [
              0,
              "#0d0887"
             ],
             [
              0.1111111111111111,
              "#46039f"
             ],
             [
              0.2222222222222222,
              "#7201a8"
             ],
             [
              0.3333333333333333,
              "#9c179e"
             ],
             [
              0.4444444444444444,
              "#bd3786"
             ],
             [
              0.5555555555555556,
              "#d8576b"
             ],
             [
              0.6666666666666666,
              "#ed7953"
             ],
             [
              0.7777777777777778,
              "#fb9f3a"
             ],
             [
              0.8888888888888888,
              "#fdca26"
             ],
             [
              1,
              "#f0f921"
             ]
            ],
            "type": "heatmap"
           }
          ],
          "heatmapgl": [
           {
            "colorbar": {
             "outlinewidth": 0,
             "ticks": ""
            },
            "colorscale": [
             [
              0,
              "#0d0887"
             ],
             [
              0.1111111111111111,
              "#46039f"
             ],
             [
              0.2222222222222222,
              "#7201a8"
             ],
             [
              0.3333333333333333,
              "#9c179e"
             ],
             [
              0.4444444444444444,
              "#bd3786"
             ],
             [
              0.5555555555555556,
              "#d8576b"
             ],
             [
              0.6666666666666666,
              "#ed7953"
             ],
             [
              0.7777777777777778,
              "#fb9f3a"
             ],
             [
              0.8888888888888888,
              "#fdca26"
             ],
             [
              1,
              "#f0f921"
             ]
            ],
            "type": "heatmapgl"
           }
          ],
          "histogram": [
           {
            "marker": {
             "pattern": {
              "fillmode": "overlay",
              "size": 10,
              "solidity": 0.2
             }
            },
            "type": "histogram"
           }
          ],
          "histogram2d": [
           {
            "colorbar": {
             "outlinewidth": 0,
             "ticks": ""
            },
            "colorscale": [
             [
              0,
              "#0d0887"
             ],
             [
              0.1111111111111111,
              "#46039f"
             ],
             [
              0.2222222222222222,
              "#7201a8"
             ],
             [
              0.3333333333333333,
              "#9c179e"
             ],
             [
              0.4444444444444444,
              "#bd3786"
             ],
             [
              0.5555555555555556,
              "#d8576b"
             ],
             [
              0.6666666666666666,
              "#ed7953"
             ],
             [
              0.7777777777777778,
              "#fb9f3a"
             ],
             [
              0.8888888888888888,
              "#fdca26"
             ],
             [
              1,
              "#f0f921"
             ]
            ],
            "type": "histogram2d"
           }
          ],
          "histogram2dcontour": [
           {
            "colorbar": {
             "outlinewidth": 0,
             "ticks": ""
            },
            "colorscale": [
             [
              0,
              "#0d0887"
             ],
             [
              0.1111111111111111,
              "#46039f"
             ],
             [
              0.2222222222222222,
              "#7201a8"
             ],
             [
              0.3333333333333333,
              "#9c179e"
             ],
             [
              0.4444444444444444,
              "#bd3786"
             ],
             [
              0.5555555555555556,
              "#d8576b"
             ],
             [
              0.6666666666666666,
              "#ed7953"
             ],
             [
              0.7777777777777778,
              "#fb9f3a"
             ],
             [
              0.8888888888888888,
              "#fdca26"
             ],
             [
              1,
              "#f0f921"
             ]
            ],
            "type": "histogram2dcontour"
           }
          ],
          "mesh3d": [
           {
            "colorbar": {
             "outlinewidth": 0,
             "ticks": ""
            },
            "type": "mesh3d"
           }
          ],
          "parcoords": [
           {
            "line": {
             "colorbar": {
              "outlinewidth": 0,
              "ticks": ""
             }
            },
            "type": "parcoords"
           }
          ],
          "pie": [
           {
            "automargin": true,
            "type": "pie"
           }
          ],
          "scatter": [
           {
            "fillpattern": {
             "fillmode": "overlay",
             "size": 10,
             "solidity": 0.2
            },
            "type": "scatter"
           }
          ],
          "scatter3d": [
           {
            "line": {
             "colorbar": {
              "outlinewidth": 0,
              "ticks": ""
             }
            },
            "marker": {
             "colorbar": {
              "outlinewidth": 0,
              "ticks": ""
             }
            },
            "type": "scatter3d"
           }
          ],
          "scattercarpet": [
           {
            "marker": {
             "colorbar": {
              "outlinewidth": 0,
              "ticks": ""
             }
            },
            "type": "scattercarpet"
           }
          ],
          "scattergeo": [
           {
            "marker": {
             "colorbar": {
              "outlinewidth": 0,
              "ticks": ""
             }
            },
            "type": "scattergeo"
           }
          ],
          "scattergl": [
           {
            "marker": {
             "colorbar": {
              "outlinewidth": 0,
              "ticks": ""
             }
            },
            "type": "scattergl"
           }
          ],
          "scattermapbox": [
           {
            "marker": {
             "colorbar": {
              "outlinewidth": 0,
              "ticks": ""
             }
            },
            "type": "scattermapbox"
           }
          ],
          "scatterpolar": [
           {
            "marker": {
             "colorbar": {
              "outlinewidth": 0,
              "ticks": ""
             }
            },
            "type": "scatterpolar"
           }
          ],
          "scatterpolargl": [
           {
            "marker": {
             "colorbar": {
              "outlinewidth": 0,
              "ticks": ""
             }
            },
            "type": "scatterpolargl"
           }
          ],
          "scatterternary": [
           {
            "marker": {
             "colorbar": {
              "outlinewidth": 0,
              "ticks": ""
             }
            },
            "type": "scatterternary"
           }
          ],
          "surface": [
           {
            "colorbar": {
             "outlinewidth": 0,
             "ticks": ""
            },
            "colorscale": [
             [
              0,
              "#0d0887"
             ],
             [
              0.1111111111111111,
              "#46039f"
             ],
             [
              0.2222222222222222,
              "#7201a8"
             ],
             [
              0.3333333333333333,
              "#9c179e"
             ],
             [
              0.4444444444444444,
              "#bd3786"
             ],
             [
              0.5555555555555556,
              "#d8576b"
             ],
             [
              0.6666666666666666,
              "#ed7953"
             ],
             [
              0.7777777777777778,
              "#fb9f3a"
             ],
             [
              0.8888888888888888,
              "#fdca26"
             ],
             [
              1,
              "#f0f921"
             ]
            ],
            "type": "surface"
           }
          ],
          "table": [
           {
            "cells": {
             "fill": {
              "color": "#EBF0F8"
             },
             "line": {
              "color": "white"
             }
            },
            "header": {
             "fill": {
              "color": "#C8D4E3"
             },
             "line": {
              "color": "white"
             }
            },
            "type": "table"
           }
          ]
         },
         "layout": {
          "annotationdefaults": {
           "arrowcolor": "#2a3f5f",
           "arrowhead": 0,
           "arrowwidth": 1
          },
          "autotypenumbers": "strict",
          "coloraxis": {
           "colorbar": {
            "outlinewidth": 0,
            "ticks": ""
           }
          },
          "colorscale": {
           "diverging": [
            [
             0,
             "#8e0152"
            ],
            [
             0.1,
             "#c51b7d"
            ],
            [
             0.2,
             "#de77ae"
            ],
            [
             0.3,
             "#f1b6da"
            ],
            [
             0.4,
             "#fde0ef"
            ],
            [
             0.5,
             "#f7f7f7"
            ],
            [
             0.6,
             "#e6f5d0"
            ],
            [
             0.7,
             "#b8e186"
            ],
            [
             0.8,
             "#7fbc41"
            ],
            [
             0.9,
             "#4d9221"
            ],
            [
             1,
             "#276419"
            ]
           ],
           "sequential": [
            [
             0,
             "#0d0887"
            ],
            [
             0.1111111111111111,
             "#46039f"
            ],
            [
             0.2222222222222222,
             "#7201a8"
            ],
            [
             0.3333333333333333,
             "#9c179e"
            ],
            [
             0.4444444444444444,
             "#bd3786"
            ],
            [
             0.5555555555555556,
             "#d8576b"
            ],
            [
             0.6666666666666666,
             "#ed7953"
            ],
            [
             0.7777777777777778,
             "#fb9f3a"
            ],
            [
             0.8888888888888888,
             "#fdca26"
            ],
            [
             1,
             "#f0f921"
            ]
           ],
           "sequentialminus": [
            [
             0,
             "#0d0887"
            ],
            [
             0.1111111111111111,
             "#46039f"
            ],
            [
             0.2222222222222222,
             "#7201a8"
            ],
            [
             0.3333333333333333,
             "#9c179e"
            ],
            [
             0.4444444444444444,
             "#bd3786"
            ],
            [
             0.5555555555555556,
             "#d8576b"
            ],
            [
             0.6666666666666666,
             "#ed7953"
            ],
            [
             0.7777777777777778,
             "#fb9f3a"
            ],
            [
             0.8888888888888888,
             "#fdca26"
            ],
            [
             1,
             "#f0f921"
            ]
           ]
          },
          "colorway": [
           "#636efa",
           "#EF553B",
           "#00cc96",
           "#ab63fa",
           "#FFA15A",
           "#19d3f3",
           "#FF6692",
           "#B6E880",
           "#FF97FF",
           "#FECB52"
          ],
          "font": {
           "color": "#2a3f5f"
          },
          "geo": {
           "bgcolor": "white",
           "lakecolor": "white",
           "landcolor": "#E5ECF6",
           "showlakes": true,
           "showland": true,
           "subunitcolor": "white"
          },
          "hoverlabel": {
           "align": "left"
          },
          "hovermode": "closest",
          "mapbox": {
           "style": "light"
          },
          "paper_bgcolor": "white",
          "plot_bgcolor": "#E5ECF6",
          "polar": {
           "angularaxis": {
            "gridcolor": "white",
            "linecolor": "white",
            "ticks": ""
           },
           "bgcolor": "#E5ECF6",
           "radialaxis": {
            "gridcolor": "white",
            "linecolor": "white",
            "ticks": ""
           }
          },
          "scene": {
           "xaxis": {
            "backgroundcolor": "#E5ECF6",
            "gridcolor": "white",
            "gridwidth": 2,
            "linecolor": "white",
            "showbackground": true,
            "ticks": "",
            "zerolinecolor": "white"
           },
           "yaxis": {
            "backgroundcolor": "#E5ECF6",
            "gridcolor": "white",
            "gridwidth": 2,
            "linecolor": "white",
            "showbackground": true,
            "ticks": "",
            "zerolinecolor": "white"
           },
           "zaxis": {
            "backgroundcolor": "#E5ECF6",
            "gridcolor": "white",
            "gridwidth": 2,
            "linecolor": "white",
            "showbackground": true,
            "ticks": "",
            "zerolinecolor": "white"
           }
          },
          "shapedefaults": {
           "line": {
            "color": "#2a3f5f"
           }
          },
          "ternary": {
           "aaxis": {
            "gridcolor": "white",
            "linecolor": "white",
            "ticks": ""
           },
           "baxis": {
            "gridcolor": "white",
            "linecolor": "white",
            "ticks": ""
           },
           "bgcolor": "#E5ECF6",
           "caxis": {
            "gridcolor": "white",
            "linecolor": "white",
            "ticks": ""
           }
          },
          "title": {
           "x": 0.05
          },
          "xaxis": {
           "automargin": true,
           "gridcolor": "white",
           "linecolor": "white",
           "ticks": "",
           "title": {
            "standoff": 15
           },
           "zerolinecolor": "white",
           "zerolinewidth": 2
          },
          "yaxis": {
           "automargin": true,
           "gridcolor": "white",
           "linecolor": "white",
           "ticks": "",
           "title": {
            "standoff": 15
           },
           "zerolinecolor": "white",
           "zerolinewidth": 2
          }
         }
        },
        "title": {
         "font": {
          "color": "#4D5663"
         }
        },
        "xaxis": {
         "anchor": "y",
         "domain": [
          0,
          0.2125
         ],
         "gridcolor": "#E1E5ED",
         "showgrid": false,
         "tickfont": {
          "color": "#4D5663"
         },
         "title": {
          "font": {
           "color": "#4D5663"
          },
          "text": ""
         },
         "zerolinecolor": "#E1E5ED"
        },
        "xaxis10": {
         "anchor": "y10",
         "domain": [
          0.2625,
          0.475
         ],
         "gridcolor": "#E1E5ED",
         "showgrid": false,
         "tickfont": {
          "color": "#4D5663"
         },
         "title": {
          "font": {
           "color": "#4D5663"
          },
          "text": ""
         },
         "zerolinecolor": "#E1E5ED"
        },
        "xaxis11": {
         "anchor": "y11",
         "domain": [
          0.525,
          0.7375
         ],
         "gridcolor": "#E1E5ED",
         "showgrid": false,
         "tickfont": {
          "color": "#4D5663"
         },
         "title": {
          "font": {
           "color": "#4D5663"
          },
          "text": ""
         },
         "zerolinecolor": "#E1E5ED"
        },
        "xaxis12": {
         "anchor": "y12",
         "domain": [
          0.7875,
          1
         ],
         "gridcolor": "#E1E5ED",
         "showgrid": false,
         "tickfont": {
          "color": "#4D5663"
         },
         "title": {
          "font": {
           "color": "#4D5663"
          },
          "text": ""
         },
         "zerolinecolor": "#E1E5ED"
        },
        "xaxis13": {
         "anchor": "y13",
         "domain": [
          0,
          0.2125
         ],
         "gridcolor": "#E1E5ED",
         "showgrid": false,
         "tickfont": {
          "color": "#4D5663"
         },
         "title": {
          "font": {
           "color": "#4D5663"
          },
          "text": ""
         },
         "zerolinecolor": "#E1E5ED"
        },
        "xaxis14": {
         "anchor": "y14",
         "domain": [
          0.2625,
          0.475
         ],
         "gridcolor": "#E1E5ED",
         "showgrid": false,
         "tickfont": {
          "color": "#4D5663"
         },
         "title": {
          "font": {
           "color": "#4D5663"
          },
          "text": ""
         },
         "zerolinecolor": "#E1E5ED"
        },
        "xaxis15": {
         "anchor": "y15",
         "domain": [
          0.525,
          0.7375
         ],
         "gridcolor": "#E1E5ED",
         "showgrid": false,
         "tickfont": {
          "color": "#4D5663"
         },
         "title": {
          "font": {
           "color": "#4D5663"
          },
          "text": ""
         },
         "zerolinecolor": "#E1E5ED"
        },
        "xaxis16": {
         "anchor": "y16",
         "domain": [
          0.7875,
          1
         ],
         "gridcolor": "#E1E5ED",
         "showgrid": false,
         "tickfont": {
          "color": "#4D5663"
         },
         "title": {
          "font": {
           "color": "#4D5663"
          },
          "text": ""
         },
         "zerolinecolor": "#E1E5ED"
        },
        "xaxis2": {
         "anchor": "y2",
         "domain": [
          0.2625,
          0.475
         ],
         "gridcolor": "#E1E5ED",
         "showgrid": false,
         "tickfont": {
          "color": "#4D5663"
         },
         "title": {
          "font": {
           "color": "#4D5663"
          },
          "text": ""
         },
         "zerolinecolor": "#E1E5ED"
        },
        "xaxis3": {
         "anchor": "y3",
         "domain": [
          0.525,
          0.7375
         ],
         "gridcolor": "#E1E5ED",
         "showgrid": false,
         "tickfont": {
          "color": "#4D5663"
         },
         "title": {
          "font": {
           "color": "#4D5663"
          },
          "text": ""
         },
         "zerolinecolor": "#E1E5ED"
        },
        "xaxis4": {
         "anchor": "y4",
         "domain": [
          0.7875,
          1
         ],
         "gridcolor": "#E1E5ED",
         "showgrid": false,
         "tickfont": {
          "color": "#4D5663"
         },
         "title": {
          "font": {
           "color": "#4D5663"
          },
          "text": ""
         },
         "zerolinecolor": "#E1E5ED"
        },
        "xaxis5": {
         "anchor": "y5",
         "domain": [
          0,
          0.2125
         ],
         "gridcolor": "#E1E5ED",
         "showgrid": false,
         "tickfont": {
          "color": "#4D5663"
         },
         "title": {
          "font": {
           "color": "#4D5663"
          },
          "text": ""
         },
         "zerolinecolor": "#E1E5ED"
        },
        "xaxis6": {
         "anchor": "y6",
         "domain": [
          0.2625,
          0.475
         ],
         "gridcolor": "#E1E5ED",
         "showgrid": false,
         "tickfont": {
          "color": "#4D5663"
         },
         "title": {
          "font": {
           "color": "#4D5663"
          },
          "text": ""
         },
         "zerolinecolor": "#E1E5ED"
        },
        "xaxis7": {
         "anchor": "y7",
         "domain": [
          0.525,
          0.7375
         ],
         "gridcolor": "#E1E5ED",
         "showgrid": false,
         "tickfont": {
          "color": "#4D5663"
         },
         "title": {
          "font": {
           "color": "#4D5663"
          },
          "text": ""
         },
         "zerolinecolor": "#E1E5ED"
        },
        "xaxis8": {
         "anchor": "y8",
         "domain": [
          0.7875,
          1
         ],
         "gridcolor": "#E1E5ED",
         "showgrid": false,
         "tickfont": {
          "color": "#4D5663"
         },
         "title": {
          "font": {
           "color": "#4D5663"
          },
          "text": ""
         },
         "zerolinecolor": "#E1E5ED"
        },
        "xaxis9": {
         "anchor": "y9",
         "domain": [
          0,
          0.2125
         ],
         "gridcolor": "#E1E5ED",
         "showgrid": false,
         "tickfont": {
          "color": "#4D5663"
         },
         "title": {
          "font": {
           "color": "#4D5663"
          },
          "text": ""
         },
         "zerolinecolor": "#E1E5ED"
        },
        "yaxis": {
         "anchor": "x",
         "domain": [
          0.8025,
          1
         ],
         "gridcolor": "#E1E5ED",
         "showgrid": false,
         "tickfont": {
          "color": "#4D5663"
         },
         "title": {
          "font": {
           "color": "#4D5663"
          },
          "text": ""
         },
         "zerolinecolor": "#E1E5ED"
        },
        "yaxis10": {
         "anchor": "x10",
         "domain": [
          0.2675,
          0.465
         ],
         "gridcolor": "#E1E5ED",
         "showgrid": false,
         "tickfont": {
          "color": "#4D5663"
         },
         "title": {
          "font": {
           "color": "#4D5663"
          },
          "text": ""
         },
         "zerolinecolor": "#E1E5ED"
        },
        "yaxis11": {
         "anchor": "x11",
         "domain": [
          0.2675,
          0.465
         ],
         "gridcolor": "#E1E5ED",
         "showgrid": false,
         "tickfont": {
          "color": "#4D5663"
         },
         "title": {
          "font": {
           "color": "#4D5663"
          },
          "text": ""
         },
         "zerolinecolor": "#E1E5ED"
        },
        "yaxis12": {
         "anchor": "x12",
         "domain": [
          0.2675,
          0.465
         ],
         "gridcolor": "#E1E5ED",
         "showgrid": false,
         "tickfont": {
          "color": "#4D5663"
         },
         "title": {
          "font": {
           "color": "#4D5663"
          },
          "text": ""
         },
         "zerolinecolor": "#E1E5ED"
        },
        "yaxis13": {
         "anchor": "x13",
         "domain": [
          0,
          0.1975
         ],
         "gridcolor": "#E1E5ED",
         "showgrid": false,
         "tickfont": {
          "color": "#4D5663"
         },
         "title": {
          "font": {
           "color": "#4D5663"
          },
          "text": ""
         },
         "zerolinecolor": "#E1E5ED"
        },
        "yaxis14": {
         "anchor": "x14",
         "domain": [
          0,
          0.1975
         ],
         "gridcolor": "#E1E5ED",
         "showgrid": false,
         "tickfont": {
          "color": "#4D5663"
         },
         "title": {
          "font": {
           "color": "#4D5663"
          },
          "text": ""
         },
         "zerolinecolor": "#E1E5ED"
        },
        "yaxis15": {
         "anchor": "x15",
         "domain": [
          0,
          0.1975
         ],
         "gridcolor": "#E1E5ED",
         "showgrid": false,
         "tickfont": {
          "color": "#4D5663"
         },
         "title": {
          "font": {
           "color": "#4D5663"
          },
          "text": ""
         },
         "zerolinecolor": "#E1E5ED"
        },
        "yaxis16": {
         "anchor": "x16",
         "domain": [
          0,
          0.1975
         ],
         "gridcolor": "#E1E5ED",
         "showgrid": false,
         "tickfont": {
          "color": "#4D5663"
         },
         "title": {
          "font": {
           "color": "#4D5663"
          },
          "text": ""
         },
         "zerolinecolor": "#E1E5ED"
        },
        "yaxis2": {
         "anchor": "x2",
         "domain": [
          0.8025,
          1
         ],
         "gridcolor": "#E1E5ED",
         "showgrid": false,
         "tickfont": {
          "color": "#4D5663"
         },
         "title": {
          "font": {
           "color": "#4D5663"
          },
          "text": ""
         },
         "zerolinecolor": "#E1E5ED"
        },
        "yaxis3": {
         "anchor": "x3",
         "domain": [
          0.8025,
          1
         ],
         "gridcolor": "#E1E5ED",
         "showgrid": false,
         "tickfont": {
          "color": "#4D5663"
         },
         "title": {
          "font": {
           "color": "#4D5663"
          },
          "text": ""
         },
         "zerolinecolor": "#E1E5ED"
        },
        "yaxis4": {
         "anchor": "x4",
         "domain": [
          0.8025,
          1
         ],
         "gridcolor": "#E1E5ED",
         "showgrid": false,
         "tickfont": {
          "color": "#4D5663"
         },
         "title": {
          "font": {
           "color": "#4D5663"
          },
          "text": ""
         },
         "zerolinecolor": "#E1E5ED"
        },
        "yaxis5": {
         "anchor": "x5",
         "domain": [
          0.535,
          0.7325
         ],
         "gridcolor": "#E1E5ED",
         "showgrid": false,
         "tickfont": {
          "color": "#4D5663"
         },
         "title": {
          "font": {
           "color": "#4D5663"
          },
          "text": ""
         },
         "zerolinecolor": "#E1E5ED"
        },
        "yaxis6": {
         "anchor": "x6",
         "domain": [
          0.535,
          0.7325
         ],
         "gridcolor": "#E1E5ED",
         "showgrid": false,
         "tickfont": {
          "color": "#4D5663"
         },
         "title": {
          "font": {
           "color": "#4D5663"
          },
          "text": ""
         },
         "zerolinecolor": "#E1E5ED"
        },
        "yaxis7": {
         "anchor": "x7",
         "domain": [
          0.535,
          0.7325
         ],
         "gridcolor": "#E1E5ED",
         "showgrid": false,
         "tickfont": {
          "color": "#4D5663"
         },
         "title": {
          "font": {
           "color": "#4D5663"
          },
          "text": ""
         },
         "zerolinecolor": "#E1E5ED"
        },
        "yaxis8": {
         "anchor": "x8",
         "domain": [
          0.535,
          0.7325
         ],
         "gridcolor": "#E1E5ED",
         "showgrid": false,
         "tickfont": {
          "color": "#4D5663"
         },
         "title": {
          "font": {
           "color": "#4D5663"
          },
          "text": ""
         },
         "zerolinecolor": "#E1E5ED"
        },
        "yaxis9": {
         "anchor": "x9",
         "domain": [
          0.2675,
          0.465
         ],
         "gridcolor": "#E1E5ED",
         "showgrid": false,
         "tickfont": {
          "color": "#4D5663"
         },
         "title": {
          "font": {
           "color": "#4D5663"
          },
          "text": ""
         },
         "zerolinecolor": "#E1E5ED"
        }
       }
      },
      "text/html": [
       "<div>                            <div id=\"0cd83538-2aef-41c0-87e3-a92540aceb6f\" class=\"plotly-graph-div\" style=\"height:525px; width:100%;\"></div>            <script type=\"text/javascript\">                require([\"plotly\"], function(Plotly) {                    window.PLOTLYENV=window.PLOTLYENV || {};\n",
       "                    window.PLOTLYENV.BASE_URL='https://plot.ly';                                    if (document.getElementById(\"0cd83538-2aef-41c0-87e3-a92540aceb6f\")) {                    Plotly.newPlot(                        \"0cd83538-2aef-41c0-87e3-a92540aceb6f\",                        [{\"histfunc\":\"count\",\"histnorm\":\"\",\"marker\":{\"color\":\"rgba(255, 153, 51, 1.0)\",\"line\":{\"color\":\"#4D5663\",\"width\":1.3}},\"name\":\"A\",\"nbinsx\":10,\"opacity\":0.8,\"orientation\":\"v\",\"x\":[-0.24869303225749126,-2.388145795579333,0.7052569495813963,0.8921836516207222,-0.8641832945932809,0.12474763473727571,0.9771147206925541,-1.120879746434406,2.083325158822628,-0.14292514964191178,-1.1312169975938375,-0.11607697197171943,-2.180363608406877,-1.109061809100249,1.1778238870317181,0.7910259440816909,0.645202281124067,-0.1742790933800676,0.8225032314842339,0.29877822246100105,0.36722046683406245,1.2324544434409372,-1.7020118796248933,1.7042326155461203,-1.4450455739935764,-0.78545924825664,2.06296995198097,0.3665990108761806,-1.116799652901445,0.7366232257112952,0.6809107980964005,0.4337169537228572,0.5054307038730637,-0.9015199558765126,1.2400228835450735,-0.0764876321557282,1.5777026737325832,-0.09862690109282116,0.7644500967843794,0.17103982442114465,0.37321438050746564,-0.1021660818701845,-2.351357285273254,0.8671154218975321,0.9128969618550399,0.17785238425044794,0.21187259997227123,0.050938673505943645,0.6563964094079809,0.053649786152871054,-0.0197549209834424,1.5798149195593896,0.791318635261723,-0.9025588999319102,1.656944673728671,-0.8269206687359101,0.06556319052433303,-0.8214461312213147,2.187880503422802,-0.46944316735562686,-0.7370885868139803,0.8165338304816602,-0.9054807194666195,-1.3809585264041093,-0.7458765995206087,0.18823758886614955,1.3784227314336097,-1.0036999714454244,-0.8559179530591503,-1.5808922630144657,-1.0890433281306702,0.6087193993857751,1.2516196623031353,-0.7354149576024046,0.2891258014135116,0.07985900771739284,-1.215018118998959,0.31249748403780464,0.9175732377339435,-1.041267348022098,-1.069969287706913,1.4965582109974387,2.639408794995632,0.9601098331096278,0.31731584401142465,-2.0170362462039684,0.9816338696585786,1.5190162401027576,0.15579596719864214,0.27471292445643963,-0.63239828780116,-1.0501242325930704,0.8160338670311766,-1.0935321627740018,-0.8056994370048624,0.32500050683722304,0.30487108890472714,-0.31497417629318075,2.0218995987796933,0.4843579882960143],\"xaxis\":\"x\",\"yaxis\":\"y\",\"type\":\"histogram\"},{\"line\":{\"color\":\"rgba(128, 128, 128, 1.0)\",\"dash\":\"solid\",\"shape\":\"linear\",\"width\":1.3},\"marker\":{\"size\":2,\"symbol\":\"circle\"},\"mode\":\"markers\",\"name\":\"A\",\"text\":\"\",\"x\":[-0.612674881396858,-0.2369623864621897,0.884172060253383,1.1599681389449998,1.541433973431705,-0.024482749390586922,-0.010581934928280717,0.4208804279380881,-1.055904482828417,-0.5731293410391528,0.6136951834885712,0.3788139488071389,-0.7236246217565258,-0.9832872929064812,-0.04584667102425731,1.0990096326338898,-0.4894552325381044,0.09207295202927872,0.8907023697335712,1.071647550161279,-0.09772605038866598,-0.5573372268161606,2.1569812897937672,-0.3138297576026716,0.967564149880955,0.5283041481971225,1.275552520971748,-0.23814452995452495,1.3686369305494708,0.4554414353012013,0.17261064038033674,-1.2790756257079117,-1.668432178436465,-0.7589722147586523,-1.1217293268341164,0.1457960988457628,-2.460171601392952,1.1224080996706933,-0.5718735010119889,0.7480470173720155,-0.03113393613510434,1.6490615045790034,0.05753332794358935,-0.20428125058288318,-2.0075424792795133,0.667885385351891,0.0636282659190983,-0.011188874517152437,2.049007627401017,-1.5848630631660825,-0.9622210929462339,-0.8431124359578438,0.05754501771367724,-1.2870024758751444,-0.19727806101733522,1.3001919306481338,0.3064075043148491,0.07117476930400782,-0.96812683843896,1.82880823196082,1.5559339345907204,1.7050542509227609,1.7171720163798219,0.42589246627030913,-2.3660287467420225,-1.5323420715419014,1.9884957118847637,-0.7216381285780816,-0.9380010074166955,0.16306318472752554,-0.7425934426726053,-0.9707420414928241,-2.0238789682217306,0.20622339294902128,0.29403482434209716,0.12147098035639514,0.20258350462675498,-0.2992269193093349,0.22115912154903292,-1.7790002822602209,-1.872050479776317,-0.43176879529106,0.940906565069375,1.3443483421299551,-0.8062940834059503,-0.15012732876279758,0.20043931984963673,0.22002772846606183,-1.4076957323909052,1.36507767965311,0.5463241272540051,1.9568592851420272,-0.886230842336463,-0.24970954645615465,1.4577791399977678,-1.0263047973016162,-1.0009532490096018,-0.28890730822092503,1.072250787176654,0.45805736391766777],\"xaxis\":\"x2\",\"y\":[-0.24869303225749126,-2.388145795579333,0.7052569495813963,0.8921836516207222,-0.8641832945932809,0.12474763473727571,0.9771147206925541,-1.120879746434406,2.083325158822628,-0.14292514964191178,-1.1312169975938375,-0.11607697197171943,-2.180363608406877,-1.109061809100249,1.1778238870317181,0.7910259440816909,0.645202281124067,-0.1742790933800676,0.8225032314842339,0.29877822246100105,0.36722046683406245,1.2324544434409372,-1.7020118796248933,1.7042326155461203,-1.4450455739935764,-0.78545924825664,2.06296995198097,0.3665990108761806,-1.116799652901445,0.7366232257112952,0.6809107980964005,0.4337169537228572,0.5054307038730637,-0.9015199558765126,1.2400228835450735,-0.0764876321557282,1.5777026737325832,-0.09862690109282116,0.7644500967843794,0.17103982442114465,0.37321438050746564,-0.1021660818701845,-2.351357285273254,0.8671154218975321,0.9128969618550399,0.17785238425044794,0.21187259997227123,0.050938673505943645,0.6563964094079809,0.053649786152871054,-0.0197549209834424,1.5798149195593896,0.791318635261723,-0.9025588999319102,1.656944673728671,-0.8269206687359101,0.06556319052433303,-0.8214461312213147,2.187880503422802,-0.46944316735562686,-0.7370885868139803,0.8165338304816602,-0.9054807194666195,-1.3809585264041093,-0.7458765995206087,0.18823758886614955,1.3784227314336097,-1.0036999714454244,-0.8559179530591503,-1.5808922630144657,-1.0890433281306702,0.6087193993857751,1.2516196623031353,-0.7354149576024046,0.2891258014135116,0.07985900771739284,-1.215018118998959,0.31249748403780464,0.9175732377339435,-1.041267348022098,-1.069969287706913,1.4965582109974387,2.639408794995632,0.9601098331096278,0.31731584401142465,-2.0170362462039684,0.9816338696585786,1.5190162401027576,0.15579596719864214,0.27471292445643963,-0.63239828780116,-1.0501242325930704,0.8160338670311766,-1.0935321627740018,-0.8056994370048624,0.32500050683722304,0.30487108890472714,-0.31497417629318075,2.0218995987796933,0.4843579882960143],\"yaxis\":\"y2\",\"type\":\"scatter\"},{\"line\":{\"color\":\"rgba(128, 128, 128, 1.0)\",\"dash\":\"solid\",\"shape\":\"linear\",\"width\":1.3},\"marker\":{\"size\":2,\"symbol\":\"circle\"},\"mode\":\"markers\",\"name\":\"A\",\"text\":\"\",\"x\":[-2.1875962710340633,1.2043466892488253,-0.2624637021694007,-0.044774519494937354,-0.38828732945577965,-1.7604191184675766,-0.8330320826323994,-0.45260597178575424,0.37666516698609703,-0.45075330251265217,-0.4543014386060515,-1.6818125208376644,-0.777172441623389,-1.115031723523379,-0.2828639849820452,1.5109558788259014,0.3497580319219913,-0.7986845728658987,-2.304293194629496,0.13818781871544455,-0.8568120676938925,0.1283511008423489,-1.6464870113713808,0.1509732009457024,0.48580680075115507,0.8844256749558661,0.863925568233306,-0.424112327916965,-1.023377757860004,-1.2429516240004856,0.4644114102285322,-0.10295568470534225,1.1343980376200298,0.5952729060364006,-0.944905980125573,-0.5918297192626695,-1.9362958830669315,0.7773084542894089,-0.7025040256192104,-0.6721361405389769,0.22489473295161644,-1.2072044451488124,-0.6679812924099646,0.20072281504376818,-0.06894227862165513,0.21307238240542759,0.8622619083858662,-0.9334003090979155,-0.04407152633317502,0.3703242459554553,-1.5132386818086954,1.704751495814103,-0.35615570204659286,-0.4074435132315458,-0.4803434654367431,-0.5228307576630105,2.1418357368651204,-0.5378629661350438,-0.8789667540700302,-0.679433912537144,2.166892421079014,2.526250778691885,1.0743531852444916,0.9990476667989842,0.9265298440916431,0.42914042026948807,-0.4111111006921592,-0.7268320997806266,-0.6605936820905781,-2.04184195646119,-0.14404800610251542,-0.07021136849345204,0.5959802125115937,2.3055706612204316,-0.39023861984682784,-0.2870649687792531,-0.241642459550871,0.43550553077105064,0.3272146563694911,-0.37076963719152484,-1.2705471688439887,-1.0400727555021632,0.1039131879954186,0.008023775137617924,0.8491798895964642,-0.03897877933284549,1.0028909315813694,-0.32044741849232344,2.1146621360431057,1.9176799493258965,-1.2039507080103085,1.6289595320326293,0.1337860305895442,1.0994080407915758,-0.2758949893549994,0.011838560565450105,1.5341262281452326,-0.36978117398831484,1.6380429951546858,0.7304392696016989],\"xaxis\":\"x3\",\"y\":[-0.24869303225749126,-2.388145795579333,0.7052569495813963,0.8921836516207222,-0.8641832945932809,0.12474763473727571,0.9771147206925541,-1.120879746434406,2.083325158822628,-0.14292514964191178,-1.1312169975938375,-0.11607697197171943,-2.180363608406877,-1.109061809100249,1.1778238870317181,0.7910259440816909,0.645202281124067,-0.1742790933800676,0.8225032314842339,0.29877822246100105,0.36722046683406245,1.2324544434409372,-1.7020118796248933,1.7042326155461203,-1.4450455739935764,-0.78545924825664,2.06296995198097,0.3665990108761806,-1.116799652901445,0.7366232257112952,0.6809107980964005,0.4337169537228572,0.5054307038730637,-0.9015199558765126,1.2400228835450735,-0.0764876321557282,1.5777026737325832,-0.09862690109282116,0.7644500967843794,0.17103982442114465,0.37321438050746564,-0.1021660818701845,-2.351357285273254,0.8671154218975321,0.9128969618550399,0.17785238425044794,0.21187259997227123,0.050938673505943645,0.6563964094079809,0.053649786152871054,-0.0197549209834424,1.5798149195593896,0.791318635261723,-0.9025588999319102,1.656944673728671,-0.8269206687359101,0.06556319052433303,-0.8214461312213147,2.187880503422802,-0.46944316735562686,-0.7370885868139803,0.8165338304816602,-0.9054807194666195,-1.3809585264041093,-0.7458765995206087,0.18823758886614955,1.3784227314336097,-1.0036999714454244,-0.8559179530591503,-1.5808922630144657,-1.0890433281306702,0.6087193993857751,1.2516196623031353,-0.7354149576024046,0.2891258014135116,0.07985900771739284,-1.215018118998959,0.31249748403780464,0.9175732377339435,-1.041267348022098,-1.069969287706913,1.4965582109974387,2.639408794995632,0.9601098331096278,0.31731584401142465,-2.0170362462039684,0.9816338696585786,1.5190162401027576,0.15579596719864214,0.27471292445643963,-0.63239828780116,-1.0501242325930704,0.8160338670311766,-1.0935321627740018,-0.8056994370048624,0.32500050683722304,0.30487108890472714,-0.31497417629318075,2.0218995987796933,0.4843579882960143],\"yaxis\":\"y3\",\"type\":\"scatter\"},{\"line\":{\"color\":\"rgba(128, 128, 128, 1.0)\",\"dash\":\"solid\",\"shape\":\"linear\",\"width\":1.3},\"marker\":{\"size\":2,\"symbol\":\"circle\"},\"mode\":\"markers\",\"name\":\"A\",\"text\":\"\",\"x\":[-1.5897221946627162,0.3881534151264451,0.2772944841151599,1.298330640559541,0.8568091610919952,-1.486106835229758,-1.0862231370818147,0.5748087439840773,1.026628771340924,-0.4141700103142258,0.30538030427163665,-0.012805826093219381,-2.0749459185303816,0.8672918118015417,0.07451223055141265,-1.4561635949972151,-0.5360852317698505,0.3265984770476418,0.8368502744859896,-0.07877931097570023,0.30867488169765506,-0.9617878067606253,-1.4812539643895888,0.19203346442859506,1.0976284998357833,2.66715863939564,-0.6873804694129563,0.9948807074855572,-0.36959070183480014,-0.18158394365251512,0.34071102177736184,1.9530310396655668,1.503513220409165,-0.32346215040040593,-0.08263971729847629,-1.5292671827037791,0.28974899643705376,0.4631692021102995,0.8071285959134398,-0.9225761376000622,0.8235374860706418,-1.4003448077047984,0.7472141205820891,0.09259546962931467,-0.13428263434801724,0.22832046417331497,-0.7557896338030863,0.5533146148613863,-2.2699352226812253,-0.6861455007876447,0.5353727580331634,0.6991968133340193,2.2640420510689365,0.9316723073168875,-0.4747759199341716,0.5320410779272005,1.024932640201076,0.14427840861954674,-1.0822146534072383,0.3105510034526434,0.5891865162490424,-0.7105178812376683,0.3334024361608685,-0.01715749825336284,1.0880748291362126,0.7982450519963034,0.9505168604870251,-0.4029352598200969,1.4491594657254252,0.20045013807179224,-0.40928058030959946,0.5972644954771477,0.4809926819086426,-1.2633582269604677,-0.38106444879833234,1.0058960599684232,-0.5053756209038799,-0.3861065428798655,0.7108175908518505,-0.16554681207675614,1.374812443087915,1.3763994785644487,0.20954640783588474,0.3344658816141513,-2.1098790196848967,0.5367893903275768,-0.5464041834590837,1.7701255317721094,0.9911185492373951,-1.831858888910831,-0.3197343382221082,-0.03144426316548922,-0.7145999792041241,0.0552858232740609,-1.338721708829007,0.923197690489228,0.7368405105614648,-0.628642418169745,0.5444548763628334,-1.5507106220555789],\"xaxis\":\"x4\",\"y\":[-0.24869303225749126,-2.388145795579333,0.7052569495813963,0.8921836516207222,-0.8641832945932809,0.12474763473727571,0.9771147206925541,-1.120879746434406,2.083325158822628,-0.14292514964191178,-1.1312169975938375,-0.11607697197171943,-2.180363608406877,-1.109061809100249,1.1778238870317181,0.7910259440816909,0.645202281124067,-0.1742790933800676,0.8225032314842339,0.29877822246100105,0.36722046683406245,1.2324544434409372,-1.7020118796248933,1.7042326155461203,-1.4450455739935764,-0.78545924825664,2.06296995198097,0.3665990108761806,-1.116799652901445,0.7366232257112952,0.6809107980964005,0.4337169537228572,0.5054307038730637,-0.9015199558765126,1.2400228835450735,-0.0764876321557282,1.5777026737325832,-0.09862690109282116,0.7644500967843794,0.17103982442114465,0.37321438050746564,-0.1021660818701845,-2.351357285273254,0.8671154218975321,0.9128969618550399,0.17785238425044794,0.21187259997227123,0.050938673505943645,0.6563964094079809,0.053649786152871054,-0.0197549209834424,1.5798149195593896,0.791318635261723,-0.9025588999319102,1.656944673728671,-0.8269206687359101,0.06556319052433303,-0.8214461312213147,2.187880503422802,-0.46944316735562686,-0.7370885868139803,0.8165338304816602,-0.9054807194666195,-1.3809585264041093,-0.7458765995206087,0.18823758886614955,1.3784227314336097,-1.0036999714454244,-0.8559179530591503,-1.5808922630144657,-1.0890433281306702,0.6087193993857751,1.2516196623031353,-0.7354149576024046,0.2891258014135116,0.07985900771739284,-1.215018118998959,0.31249748403780464,0.9175732377339435,-1.041267348022098,-1.069969287706913,1.4965582109974387,2.639408794995632,0.9601098331096278,0.31731584401142465,-2.0170362462039684,0.9816338696585786,1.5190162401027576,0.15579596719864214,0.27471292445643963,-0.63239828780116,-1.0501242325930704,0.8160338670311766,-1.0935321627740018,-0.8056994370048624,0.32500050683722304,0.30487108890472714,-0.31497417629318075,2.0218995987796933,0.4843579882960143],\"yaxis\":\"y4\",\"type\":\"scatter\"},{\"line\":{\"color\":\"rgba(128, 128, 128, 1.0)\",\"dash\":\"solid\",\"shape\":\"linear\",\"width\":1.3},\"marker\":{\"size\":2,\"symbol\":\"circle\"},\"mode\":\"markers\",\"name\":\"B\",\"text\":\"\",\"x\":[-0.24869303225749126,-2.388145795579333,0.7052569495813963,0.8921836516207222,-0.8641832945932809,0.12474763473727571,0.9771147206925541,-1.120879746434406,2.083325158822628,-0.14292514964191178,-1.1312169975938375,-0.11607697197171943,-2.180363608406877,-1.109061809100249,1.1778238870317181,0.7910259440816909,0.645202281124067,-0.1742790933800676,0.8225032314842339,0.29877822246100105,0.36722046683406245,1.2324544434409372,-1.7020118796248933,1.7042326155461203,-1.4450455739935764,-0.78545924825664,2.06296995198097,0.3665990108761806,-1.116799652901445,0.7366232257112952,0.6809107980964005,0.4337169537228572,0.5054307038730637,-0.9015199558765126,1.2400228835450735,-0.0764876321557282,1.5777026737325832,-0.09862690109282116,0.7644500967843794,0.17103982442114465,0.37321438050746564,-0.1021660818701845,-2.351357285273254,0.8671154218975321,0.9128969618550399,0.17785238425044794,0.21187259997227123,0.050938673505943645,0.6563964094079809,0.053649786152871054,-0.0197549209834424,1.5798149195593896,0.791318635261723,-0.9025588999319102,1.656944673728671,-0.8269206687359101,0.06556319052433303,-0.8214461312213147,2.187880503422802,-0.46944316735562686,-0.7370885868139803,0.8165338304816602,-0.9054807194666195,-1.3809585264041093,-0.7458765995206087,0.18823758886614955,1.3784227314336097,-1.0036999714454244,-0.8559179530591503,-1.5808922630144657,-1.0890433281306702,0.6087193993857751,1.2516196623031353,-0.7354149576024046,0.2891258014135116,0.07985900771739284,-1.215018118998959,0.31249748403780464,0.9175732377339435,-1.041267348022098,-1.069969287706913,1.4965582109974387,2.639408794995632,0.9601098331096278,0.31731584401142465,-2.0170362462039684,0.9816338696585786,1.5190162401027576,0.15579596719864214,0.27471292445643963,-0.63239828780116,-1.0501242325930704,0.8160338670311766,-1.0935321627740018,-0.8056994370048624,0.32500050683722304,0.30487108890472714,-0.31497417629318075,2.0218995987796933,0.4843579882960143],\"xaxis\":\"x5\",\"y\":[-0.612674881396858,-0.2369623864621897,0.884172060253383,1.1599681389449998,1.541433973431705,-0.024482749390586922,-0.010581934928280717,0.4208804279380881,-1.055904482828417,-0.5731293410391528,0.6136951834885712,0.3788139488071389,-0.7236246217565258,-0.9832872929064812,-0.04584667102425731,1.0990096326338898,-0.4894552325381044,0.09207295202927872,0.8907023697335712,1.071647550161279,-0.09772605038866598,-0.5573372268161606,2.1569812897937672,-0.3138297576026716,0.967564149880955,0.5283041481971225,1.275552520971748,-0.23814452995452495,1.3686369305494708,0.4554414353012013,0.17261064038033674,-1.2790756257079117,-1.668432178436465,-0.7589722147586523,-1.1217293268341164,0.1457960988457628,-2.460171601392952,1.1224080996706933,-0.5718735010119889,0.7480470173720155,-0.03113393613510434,1.6490615045790034,0.05753332794358935,-0.20428125058288318,-2.0075424792795133,0.667885385351891,0.0636282659190983,-0.011188874517152437,2.049007627401017,-1.5848630631660825,-0.9622210929462339,-0.8431124359578438,0.05754501771367724,-1.2870024758751444,-0.19727806101733522,1.3001919306481338,0.3064075043148491,0.07117476930400782,-0.96812683843896,1.82880823196082,1.5559339345907204,1.7050542509227609,1.7171720163798219,0.42589246627030913,-2.3660287467420225,-1.5323420715419014,1.9884957118847637,-0.7216381285780816,-0.9380010074166955,0.16306318472752554,-0.7425934426726053,-0.9707420414928241,-2.0238789682217306,0.20622339294902128,0.29403482434209716,0.12147098035639514,0.20258350462675498,-0.2992269193093349,0.22115912154903292,-1.7790002822602209,-1.872050479776317,-0.43176879529106,0.940906565069375,1.3443483421299551,-0.8062940834059503,-0.15012732876279758,0.20043931984963673,0.22002772846606183,-1.4076957323909052,1.36507767965311,0.5463241272540051,1.9568592851420272,-0.886230842336463,-0.24970954645615465,1.4577791399977678,-1.0263047973016162,-1.0009532490096018,-0.28890730822092503,1.072250787176654,0.45805736391766777],\"yaxis\":\"y5\",\"type\":\"scatter\"},{\"histfunc\":\"count\",\"histnorm\":\"\",\"marker\":{\"color\":\"rgba(55, 128, 191, 1.0)\",\"line\":{\"color\":\"#4D5663\",\"width\":1.3}},\"name\":\"B\",\"nbinsx\":10,\"opacity\":0.8,\"orientation\":\"v\",\"x\":[-0.612674881396858,-0.2369623864621897,0.884172060253383,1.1599681389449998,1.541433973431705,-0.024482749390586922,-0.010581934928280717,0.4208804279380881,-1.055904482828417,-0.5731293410391528,0.6136951834885712,0.3788139488071389,-0.7236246217565258,-0.9832872929064812,-0.04584667102425731,1.0990096326338898,-0.4894552325381044,0.09207295202927872,0.8907023697335712,1.071647550161279,-0.09772605038866598,-0.5573372268161606,2.1569812897937672,-0.3138297576026716,0.967564149880955,0.5283041481971225,1.275552520971748,-0.23814452995452495,1.3686369305494708,0.4554414353012013,0.17261064038033674,-1.2790756257079117,-1.668432178436465,-0.7589722147586523,-1.1217293268341164,0.1457960988457628,-2.460171601392952,1.1224080996706933,-0.5718735010119889,0.7480470173720155,-0.03113393613510434,1.6490615045790034,0.05753332794358935,-0.20428125058288318,-2.0075424792795133,0.667885385351891,0.0636282659190983,-0.011188874517152437,2.049007627401017,-1.5848630631660825,-0.9622210929462339,-0.8431124359578438,0.05754501771367724,-1.2870024758751444,-0.19727806101733522,1.3001919306481338,0.3064075043148491,0.07117476930400782,-0.96812683843896,1.82880823196082,1.5559339345907204,1.7050542509227609,1.7171720163798219,0.42589246627030913,-2.3660287467420225,-1.5323420715419014,1.9884957118847637,-0.7216381285780816,-0.9380010074166955,0.16306318472752554,-0.7425934426726053,-0.9707420414928241,-2.0238789682217306,0.20622339294902128,0.29403482434209716,0.12147098035639514,0.20258350462675498,-0.2992269193093349,0.22115912154903292,-1.7790002822602209,-1.872050479776317,-0.43176879529106,0.940906565069375,1.3443483421299551,-0.8062940834059503,-0.15012732876279758,0.20043931984963673,0.22002772846606183,-1.4076957323909052,1.36507767965311,0.5463241272540051,1.9568592851420272,-0.886230842336463,-0.24970954645615465,1.4577791399977678,-1.0263047973016162,-1.0009532490096018,-0.28890730822092503,1.072250787176654,0.45805736391766777],\"xaxis\":\"x6\",\"yaxis\":\"y6\",\"type\":\"histogram\"},{\"line\":{\"color\":\"rgba(128, 128, 128, 1.0)\",\"dash\":\"solid\",\"shape\":\"linear\",\"width\":1.3},\"marker\":{\"size\":2,\"symbol\":\"circle\"},\"mode\":\"markers\",\"name\":\"B\",\"text\":\"\",\"x\":[-2.1875962710340633,1.2043466892488253,-0.2624637021694007,-0.044774519494937354,-0.38828732945577965,-1.7604191184675766,-0.8330320826323994,-0.45260597178575424,0.37666516698609703,-0.45075330251265217,-0.4543014386060515,-1.6818125208376644,-0.777172441623389,-1.115031723523379,-0.2828639849820452,1.5109558788259014,0.3497580319219913,-0.7986845728658987,-2.304293194629496,0.13818781871544455,-0.8568120676938925,0.1283511008423489,-1.6464870113713808,0.1509732009457024,0.48580680075115507,0.8844256749558661,0.863925568233306,-0.424112327916965,-1.023377757860004,-1.2429516240004856,0.4644114102285322,-0.10295568470534225,1.1343980376200298,0.5952729060364006,-0.944905980125573,-0.5918297192626695,-1.9362958830669315,0.7773084542894089,-0.7025040256192104,-0.6721361405389769,0.22489473295161644,-1.2072044451488124,-0.6679812924099646,0.20072281504376818,-0.06894227862165513,0.21307238240542759,0.8622619083858662,-0.9334003090979155,-0.04407152633317502,0.3703242459554553,-1.5132386818086954,1.704751495814103,-0.35615570204659286,-0.4074435132315458,-0.4803434654367431,-0.5228307576630105,2.1418357368651204,-0.5378629661350438,-0.8789667540700302,-0.679433912537144,2.166892421079014,2.526250778691885,1.0743531852444916,0.9990476667989842,0.9265298440916431,0.42914042026948807,-0.4111111006921592,-0.7268320997806266,-0.6605936820905781,-2.04184195646119,-0.14404800610251542,-0.07021136849345204,0.5959802125115937,2.3055706612204316,-0.39023861984682784,-0.2870649687792531,-0.241642459550871,0.43550553077105064,0.3272146563694911,-0.37076963719152484,-1.2705471688439887,-1.0400727555021632,0.1039131879954186,0.008023775137617924,0.8491798895964642,-0.03897877933284549,1.0028909315813694,-0.32044741849232344,2.1146621360431057,1.9176799493258965,-1.2039507080103085,1.6289595320326293,0.1337860305895442,1.0994080407915758,-0.2758949893549994,0.011838560565450105,1.5341262281452326,-0.36978117398831484,1.6380429951546858,0.7304392696016989],\"xaxis\":\"x7\",\"y\":[-0.612674881396858,-0.2369623864621897,0.884172060253383,1.1599681389449998,1.541433973431705,-0.024482749390586922,-0.010581934928280717,0.4208804279380881,-1.055904482828417,-0.5731293410391528,0.6136951834885712,0.3788139488071389,-0.7236246217565258,-0.9832872929064812,-0.04584667102425731,1.0990096326338898,-0.4894552325381044,0.09207295202927872,0.8907023697335712,1.071647550161279,-0.09772605038866598,-0.5573372268161606,2.1569812897937672,-0.3138297576026716,0.967564149880955,0.5283041481971225,1.275552520971748,-0.23814452995452495,1.3686369305494708,0.4554414353012013,0.17261064038033674,-1.2790756257079117,-1.668432178436465,-0.7589722147586523,-1.1217293268341164,0.1457960988457628,-2.460171601392952,1.1224080996706933,-0.5718735010119889,0.7480470173720155,-0.03113393613510434,1.6490615045790034,0.05753332794358935,-0.20428125058288318,-2.0075424792795133,0.667885385351891,0.0636282659190983,-0.011188874517152437,2.049007627401017,-1.5848630631660825,-0.9622210929462339,-0.8431124359578438,0.05754501771367724,-1.2870024758751444,-0.19727806101733522,1.3001919306481338,0.3064075043148491,0.07117476930400782,-0.96812683843896,1.82880823196082,1.5559339345907204,1.7050542509227609,1.7171720163798219,0.42589246627030913,-2.3660287467420225,-1.5323420715419014,1.9884957118847637,-0.7216381285780816,-0.9380010074166955,0.16306318472752554,-0.7425934426726053,-0.9707420414928241,-2.0238789682217306,0.20622339294902128,0.29403482434209716,0.12147098035639514,0.20258350462675498,-0.2992269193093349,0.22115912154903292,-1.7790002822602209,-1.872050479776317,-0.43176879529106,0.940906565069375,1.3443483421299551,-0.8062940834059503,-0.15012732876279758,0.20043931984963673,0.22002772846606183,-1.4076957323909052,1.36507767965311,0.5463241272540051,1.9568592851420272,-0.886230842336463,-0.24970954645615465,1.4577791399977678,-1.0263047973016162,-1.0009532490096018,-0.28890730822092503,1.072250787176654,0.45805736391766777],\"yaxis\":\"y7\",\"type\":\"scatter\"},{\"line\":{\"color\":\"rgba(128, 128, 128, 1.0)\",\"dash\":\"solid\",\"shape\":\"linear\",\"width\":1.3},\"marker\":{\"size\":2,\"symbol\":\"circle\"},\"mode\":\"markers\",\"name\":\"B\",\"text\":\"\",\"x\":[-1.5897221946627162,0.3881534151264451,0.2772944841151599,1.298330640559541,0.8568091610919952,-1.486106835229758,-1.0862231370818147,0.5748087439840773,1.026628771340924,-0.4141700103142258,0.30538030427163665,-0.012805826093219381,-2.0749459185303816,0.8672918118015417,0.07451223055141265,-1.4561635949972151,-0.5360852317698505,0.3265984770476418,0.8368502744859896,-0.07877931097570023,0.30867488169765506,-0.9617878067606253,-1.4812539643895888,0.19203346442859506,1.0976284998357833,2.66715863939564,-0.6873804694129563,0.9948807074855572,-0.36959070183480014,-0.18158394365251512,0.34071102177736184,1.9530310396655668,1.503513220409165,-0.32346215040040593,-0.08263971729847629,-1.5292671827037791,0.28974899643705376,0.4631692021102995,0.8071285959134398,-0.9225761376000622,0.8235374860706418,-1.4003448077047984,0.7472141205820891,0.09259546962931467,-0.13428263434801724,0.22832046417331497,-0.7557896338030863,0.5533146148613863,-2.2699352226812253,-0.6861455007876447,0.5353727580331634,0.6991968133340193,2.2640420510689365,0.9316723073168875,-0.4747759199341716,0.5320410779272005,1.024932640201076,0.14427840861954674,-1.0822146534072383,0.3105510034526434,0.5891865162490424,-0.7105178812376683,0.3334024361608685,-0.01715749825336284,1.0880748291362126,0.7982450519963034,0.9505168604870251,-0.4029352598200969,1.4491594657254252,0.20045013807179224,-0.40928058030959946,0.5972644954771477,0.4809926819086426,-1.2633582269604677,-0.38106444879833234,1.0058960599684232,-0.5053756209038799,-0.3861065428798655,0.7108175908518505,-0.16554681207675614,1.374812443087915,1.3763994785644487,0.20954640783588474,0.3344658816141513,-2.1098790196848967,0.5367893903275768,-0.5464041834590837,1.7701255317721094,0.9911185492373951,-1.831858888910831,-0.3197343382221082,-0.03144426316548922,-0.7145999792041241,0.0552858232740609,-1.338721708829007,0.923197690489228,0.7368405105614648,-0.628642418169745,0.5444548763628334,-1.5507106220555789],\"xaxis\":\"x8\",\"y\":[-0.612674881396858,-0.2369623864621897,0.884172060253383,1.1599681389449998,1.541433973431705,-0.024482749390586922,-0.010581934928280717,0.4208804279380881,-1.055904482828417,-0.5731293410391528,0.6136951834885712,0.3788139488071389,-0.7236246217565258,-0.9832872929064812,-0.04584667102425731,1.0990096326338898,-0.4894552325381044,0.09207295202927872,0.8907023697335712,1.071647550161279,-0.09772605038866598,-0.5573372268161606,2.1569812897937672,-0.3138297576026716,0.967564149880955,0.5283041481971225,1.275552520971748,-0.23814452995452495,1.3686369305494708,0.4554414353012013,0.17261064038033674,-1.2790756257079117,-1.668432178436465,-0.7589722147586523,-1.1217293268341164,0.1457960988457628,-2.460171601392952,1.1224080996706933,-0.5718735010119889,0.7480470173720155,-0.03113393613510434,1.6490615045790034,0.05753332794358935,-0.20428125058288318,-2.0075424792795133,0.667885385351891,0.0636282659190983,-0.011188874517152437,2.049007627401017,-1.5848630631660825,-0.9622210929462339,-0.8431124359578438,0.05754501771367724,-1.2870024758751444,-0.19727806101733522,1.3001919306481338,0.3064075043148491,0.07117476930400782,-0.96812683843896,1.82880823196082,1.5559339345907204,1.7050542509227609,1.7171720163798219,0.42589246627030913,-2.3660287467420225,-1.5323420715419014,1.9884957118847637,-0.7216381285780816,-0.9380010074166955,0.16306318472752554,-0.7425934426726053,-0.9707420414928241,-2.0238789682217306,0.20622339294902128,0.29403482434209716,0.12147098035639514,0.20258350462675498,-0.2992269193093349,0.22115912154903292,-1.7790002822602209,-1.872050479776317,-0.43176879529106,0.940906565069375,1.3443483421299551,-0.8062940834059503,-0.15012732876279758,0.20043931984963673,0.22002772846606183,-1.4076957323909052,1.36507767965311,0.5463241272540051,1.9568592851420272,-0.886230842336463,-0.24970954645615465,1.4577791399977678,-1.0263047973016162,-1.0009532490096018,-0.28890730822092503,1.072250787176654,0.45805736391766777],\"yaxis\":\"y8\",\"type\":\"scatter\"},{\"line\":{\"color\":\"rgba(128, 128, 128, 1.0)\",\"dash\":\"solid\",\"shape\":\"linear\",\"width\":1.3},\"marker\":{\"size\":2,\"symbol\":\"circle\"},\"mode\":\"markers\",\"name\":\"C\",\"text\":\"\",\"x\":[-0.24869303225749126,-2.388145795579333,0.7052569495813963,0.8921836516207222,-0.8641832945932809,0.12474763473727571,0.9771147206925541,-1.120879746434406,2.083325158822628,-0.14292514964191178,-1.1312169975938375,-0.11607697197171943,-2.180363608406877,-1.109061809100249,1.1778238870317181,0.7910259440816909,0.645202281124067,-0.1742790933800676,0.8225032314842339,0.29877822246100105,0.36722046683406245,1.2324544434409372,-1.7020118796248933,1.7042326155461203,-1.4450455739935764,-0.78545924825664,2.06296995198097,0.3665990108761806,-1.116799652901445,0.7366232257112952,0.6809107980964005,0.4337169537228572,0.5054307038730637,-0.9015199558765126,1.2400228835450735,-0.0764876321557282,1.5777026737325832,-0.09862690109282116,0.7644500967843794,0.17103982442114465,0.37321438050746564,-0.1021660818701845,-2.351357285273254,0.8671154218975321,0.9128969618550399,0.17785238425044794,0.21187259997227123,0.050938673505943645,0.6563964094079809,0.053649786152871054,-0.0197549209834424,1.5798149195593896,0.791318635261723,-0.9025588999319102,1.656944673728671,-0.8269206687359101,0.06556319052433303,-0.8214461312213147,2.187880503422802,-0.46944316735562686,-0.7370885868139803,0.8165338304816602,-0.9054807194666195,-1.3809585264041093,-0.7458765995206087,0.18823758886614955,1.3784227314336097,-1.0036999714454244,-0.8559179530591503,-1.5808922630144657,-1.0890433281306702,0.6087193993857751,1.2516196623031353,-0.7354149576024046,0.2891258014135116,0.07985900771739284,-1.215018118998959,0.31249748403780464,0.9175732377339435,-1.041267348022098,-1.069969287706913,1.4965582109974387,2.639408794995632,0.9601098331096278,0.31731584401142465,-2.0170362462039684,0.9816338696585786,1.5190162401027576,0.15579596719864214,0.27471292445643963,-0.63239828780116,-1.0501242325930704,0.8160338670311766,-1.0935321627740018,-0.8056994370048624,0.32500050683722304,0.30487108890472714,-0.31497417629318075,2.0218995987796933,0.4843579882960143],\"xaxis\":\"x9\",\"y\":[-2.1875962710340633,1.2043466892488253,-0.2624637021694007,-0.044774519494937354,-0.38828732945577965,-1.7604191184675766,-0.8330320826323994,-0.45260597178575424,0.37666516698609703,-0.45075330251265217,-0.4543014386060515,-1.6818125208376644,-0.777172441623389,-1.115031723523379,-0.2828639849820452,1.5109558788259014,0.3497580319219913,-0.7986845728658987,-2.304293194629496,0.13818781871544455,-0.8568120676938925,0.1283511008423489,-1.6464870113713808,0.1509732009457024,0.48580680075115507,0.8844256749558661,0.863925568233306,-0.424112327916965,-1.023377757860004,-1.2429516240004856,0.4644114102285322,-0.10295568470534225,1.1343980376200298,0.5952729060364006,-0.944905980125573,-0.5918297192626695,-1.9362958830669315,0.7773084542894089,-0.7025040256192104,-0.6721361405389769,0.22489473295161644,-1.2072044451488124,-0.6679812924099646,0.20072281504376818,-0.06894227862165513,0.21307238240542759,0.8622619083858662,-0.9334003090979155,-0.04407152633317502,0.3703242459554553,-1.5132386818086954,1.704751495814103,-0.35615570204659286,-0.4074435132315458,-0.4803434654367431,-0.5228307576630105,2.1418357368651204,-0.5378629661350438,-0.8789667540700302,-0.679433912537144,2.166892421079014,2.526250778691885,1.0743531852444916,0.9990476667989842,0.9265298440916431,0.42914042026948807,-0.4111111006921592,-0.7268320997806266,-0.6605936820905781,-2.04184195646119,-0.14404800610251542,-0.07021136849345204,0.5959802125115937,2.3055706612204316,-0.39023861984682784,-0.2870649687792531,-0.241642459550871,0.43550553077105064,0.3272146563694911,-0.37076963719152484,-1.2705471688439887,-1.0400727555021632,0.1039131879954186,0.008023775137617924,0.8491798895964642,-0.03897877933284549,1.0028909315813694,-0.32044741849232344,2.1146621360431057,1.9176799493258965,-1.2039507080103085,1.6289595320326293,0.1337860305895442,1.0994080407915758,-0.2758949893549994,0.011838560565450105,1.5341262281452326,-0.36978117398831484,1.6380429951546858,0.7304392696016989],\"yaxis\":\"y9\",\"type\":\"scatter\"},{\"line\":{\"color\":\"rgba(128, 128, 128, 1.0)\",\"dash\":\"solid\",\"shape\":\"linear\",\"width\":1.3},\"marker\":{\"size\":2,\"symbol\":\"circle\"},\"mode\":\"markers\",\"name\":\"C\",\"text\":\"\",\"x\":[-0.612674881396858,-0.2369623864621897,0.884172060253383,1.1599681389449998,1.541433973431705,-0.024482749390586922,-0.010581934928280717,0.4208804279380881,-1.055904482828417,-0.5731293410391528,0.6136951834885712,0.3788139488071389,-0.7236246217565258,-0.9832872929064812,-0.04584667102425731,1.0990096326338898,-0.4894552325381044,0.09207295202927872,0.8907023697335712,1.071647550161279,-0.09772605038866598,-0.5573372268161606,2.1569812897937672,-0.3138297576026716,0.967564149880955,0.5283041481971225,1.275552520971748,-0.23814452995452495,1.3686369305494708,0.4554414353012013,0.17261064038033674,-1.2790756257079117,-1.668432178436465,-0.7589722147586523,-1.1217293268341164,0.1457960988457628,-2.460171601392952,1.1224080996706933,-0.5718735010119889,0.7480470173720155,-0.03113393613510434,1.6490615045790034,0.05753332794358935,-0.20428125058288318,-2.0075424792795133,0.667885385351891,0.0636282659190983,-0.011188874517152437,2.049007627401017,-1.5848630631660825,-0.9622210929462339,-0.8431124359578438,0.05754501771367724,-1.2870024758751444,-0.19727806101733522,1.3001919306481338,0.3064075043148491,0.07117476930400782,-0.96812683843896,1.82880823196082,1.5559339345907204,1.7050542509227609,1.7171720163798219,0.42589246627030913,-2.3660287467420225,-1.5323420715419014,1.9884957118847637,-0.7216381285780816,-0.9380010074166955,0.16306318472752554,-0.7425934426726053,-0.9707420414928241,-2.0238789682217306,0.20622339294902128,0.29403482434209716,0.12147098035639514,0.20258350462675498,-0.2992269193093349,0.22115912154903292,-1.7790002822602209,-1.872050479776317,-0.43176879529106,0.940906565069375,1.3443483421299551,-0.8062940834059503,-0.15012732876279758,0.20043931984963673,0.22002772846606183,-1.4076957323909052,1.36507767965311,0.5463241272540051,1.9568592851420272,-0.886230842336463,-0.24970954645615465,1.4577791399977678,-1.0263047973016162,-1.0009532490096018,-0.28890730822092503,1.072250787176654,0.45805736391766777],\"xaxis\":\"x10\",\"y\":[-2.1875962710340633,1.2043466892488253,-0.2624637021694007,-0.044774519494937354,-0.38828732945577965,-1.7604191184675766,-0.8330320826323994,-0.45260597178575424,0.37666516698609703,-0.45075330251265217,-0.4543014386060515,-1.6818125208376644,-0.777172441623389,-1.115031723523379,-0.2828639849820452,1.5109558788259014,0.3497580319219913,-0.7986845728658987,-2.304293194629496,0.13818781871544455,-0.8568120676938925,0.1283511008423489,-1.6464870113713808,0.1509732009457024,0.48580680075115507,0.8844256749558661,0.863925568233306,-0.424112327916965,-1.023377757860004,-1.2429516240004856,0.4644114102285322,-0.10295568470534225,1.1343980376200298,0.5952729060364006,-0.944905980125573,-0.5918297192626695,-1.9362958830669315,0.7773084542894089,-0.7025040256192104,-0.6721361405389769,0.22489473295161644,-1.2072044451488124,-0.6679812924099646,0.20072281504376818,-0.06894227862165513,0.21307238240542759,0.8622619083858662,-0.9334003090979155,-0.04407152633317502,0.3703242459554553,-1.5132386818086954,1.704751495814103,-0.35615570204659286,-0.4074435132315458,-0.4803434654367431,-0.5228307576630105,2.1418357368651204,-0.5378629661350438,-0.8789667540700302,-0.679433912537144,2.166892421079014,2.526250778691885,1.0743531852444916,0.9990476667989842,0.9265298440916431,0.42914042026948807,-0.4111111006921592,-0.7268320997806266,-0.6605936820905781,-2.04184195646119,-0.14404800610251542,-0.07021136849345204,0.5959802125115937,2.3055706612204316,-0.39023861984682784,-0.2870649687792531,-0.241642459550871,0.43550553077105064,0.3272146563694911,-0.37076963719152484,-1.2705471688439887,-1.0400727555021632,0.1039131879954186,0.008023775137617924,0.8491798895964642,-0.03897877933284549,1.0028909315813694,-0.32044741849232344,2.1146621360431057,1.9176799493258965,-1.2039507080103085,1.6289595320326293,0.1337860305895442,1.0994080407915758,-0.2758949893549994,0.011838560565450105,1.5341262281452326,-0.36978117398831484,1.6380429951546858,0.7304392696016989],\"yaxis\":\"y10\",\"type\":\"scatter\"},{\"histfunc\":\"count\",\"histnorm\":\"\",\"marker\":{\"color\":\"rgba(50, 171, 96, 1.0)\",\"line\":{\"color\":\"#4D5663\",\"width\":1.3}},\"name\":\"C\",\"nbinsx\":10,\"opacity\":0.8,\"orientation\":\"v\",\"x\":[-2.1875962710340633,1.2043466892488253,-0.2624637021694007,-0.044774519494937354,-0.38828732945577965,-1.7604191184675766,-0.8330320826323994,-0.45260597178575424,0.37666516698609703,-0.45075330251265217,-0.4543014386060515,-1.6818125208376644,-0.777172441623389,-1.115031723523379,-0.2828639849820452,1.5109558788259014,0.3497580319219913,-0.7986845728658987,-2.304293194629496,0.13818781871544455,-0.8568120676938925,0.1283511008423489,-1.6464870113713808,0.1509732009457024,0.48580680075115507,0.8844256749558661,0.863925568233306,-0.424112327916965,-1.023377757860004,-1.2429516240004856,0.4644114102285322,-0.10295568470534225,1.1343980376200298,0.5952729060364006,-0.944905980125573,-0.5918297192626695,-1.9362958830669315,0.7773084542894089,-0.7025040256192104,-0.6721361405389769,0.22489473295161644,-1.2072044451488124,-0.6679812924099646,0.20072281504376818,-0.06894227862165513,0.21307238240542759,0.8622619083858662,-0.9334003090979155,-0.04407152633317502,0.3703242459554553,-1.5132386818086954,1.704751495814103,-0.35615570204659286,-0.4074435132315458,-0.4803434654367431,-0.5228307576630105,2.1418357368651204,-0.5378629661350438,-0.8789667540700302,-0.679433912537144,2.166892421079014,2.526250778691885,1.0743531852444916,0.9990476667989842,0.9265298440916431,0.42914042026948807,-0.4111111006921592,-0.7268320997806266,-0.6605936820905781,-2.04184195646119,-0.14404800610251542,-0.07021136849345204,0.5959802125115937,2.3055706612204316,-0.39023861984682784,-0.2870649687792531,-0.241642459550871,0.43550553077105064,0.3272146563694911,-0.37076963719152484,-1.2705471688439887,-1.0400727555021632,0.1039131879954186,0.008023775137617924,0.8491798895964642,-0.03897877933284549,1.0028909315813694,-0.32044741849232344,2.1146621360431057,1.9176799493258965,-1.2039507080103085,1.6289595320326293,0.1337860305895442,1.0994080407915758,-0.2758949893549994,0.011838560565450105,1.5341262281452326,-0.36978117398831484,1.6380429951546858,0.7304392696016989],\"xaxis\":\"x11\",\"yaxis\":\"y11\",\"type\":\"histogram\"},{\"line\":{\"color\":\"rgba(128, 128, 128, 1.0)\",\"dash\":\"solid\",\"shape\":\"linear\",\"width\":1.3},\"marker\":{\"size\":2,\"symbol\":\"circle\"},\"mode\":\"markers\",\"name\":\"C\",\"text\":\"\",\"x\":[-1.5897221946627162,0.3881534151264451,0.2772944841151599,1.298330640559541,0.8568091610919952,-1.486106835229758,-1.0862231370818147,0.5748087439840773,1.026628771340924,-0.4141700103142258,0.30538030427163665,-0.012805826093219381,-2.0749459185303816,0.8672918118015417,0.07451223055141265,-1.4561635949972151,-0.5360852317698505,0.3265984770476418,0.8368502744859896,-0.07877931097570023,0.30867488169765506,-0.9617878067606253,-1.4812539643895888,0.19203346442859506,1.0976284998357833,2.66715863939564,-0.6873804694129563,0.9948807074855572,-0.36959070183480014,-0.18158394365251512,0.34071102177736184,1.9530310396655668,1.503513220409165,-0.32346215040040593,-0.08263971729847629,-1.5292671827037791,0.28974899643705376,0.4631692021102995,0.8071285959134398,-0.9225761376000622,0.8235374860706418,-1.4003448077047984,0.7472141205820891,0.09259546962931467,-0.13428263434801724,0.22832046417331497,-0.7557896338030863,0.5533146148613863,-2.2699352226812253,-0.6861455007876447,0.5353727580331634,0.6991968133340193,2.2640420510689365,0.9316723073168875,-0.4747759199341716,0.5320410779272005,1.024932640201076,0.14427840861954674,-1.0822146534072383,0.3105510034526434,0.5891865162490424,-0.7105178812376683,0.3334024361608685,-0.01715749825336284,1.0880748291362126,0.7982450519963034,0.9505168604870251,-0.4029352598200969,1.4491594657254252,0.20045013807179224,-0.40928058030959946,0.5972644954771477,0.4809926819086426,-1.2633582269604677,-0.38106444879833234,1.0058960599684232,-0.5053756209038799,-0.3861065428798655,0.7108175908518505,-0.16554681207675614,1.374812443087915,1.3763994785644487,0.20954640783588474,0.3344658816141513,-2.1098790196848967,0.5367893903275768,-0.5464041834590837,1.7701255317721094,0.9911185492373951,-1.831858888910831,-0.3197343382221082,-0.03144426316548922,-0.7145999792041241,0.0552858232740609,-1.338721708829007,0.923197690489228,0.7368405105614648,-0.628642418169745,0.5444548763628334,-1.5507106220555789],\"xaxis\":\"x12\",\"y\":[-2.1875962710340633,1.2043466892488253,-0.2624637021694007,-0.044774519494937354,-0.38828732945577965,-1.7604191184675766,-0.8330320826323994,-0.45260597178575424,0.37666516698609703,-0.45075330251265217,-0.4543014386060515,-1.6818125208376644,-0.777172441623389,-1.115031723523379,-0.2828639849820452,1.5109558788259014,0.3497580319219913,-0.7986845728658987,-2.304293194629496,0.13818781871544455,-0.8568120676938925,0.1283511008423489,-1.6464870113713808,0.1509732009457024,0.48580680075115507,0.8844256749558661,0.863925568233306,-0.424112327916965,-1.023377757860004,-1.2429516240004856,0.4644114102285322,-0.10295568470534225,1.1343980376200298,0.5952729060364006,-0.944905980125573,-0.5918297192626695,-1.9362958830669315,0.7773084542894089,-0.7025040256192104,-0.6721361405389769,0.22489473295161644,-1.2072044451488124,-0.6679812924099646,0.20072281504376818,-0.06894227862165513,0.21307238240542759,0.8622619083858662,-0.9334003090979155,-0.04407152633317502,0.3703242459554553,-1.5132386818086954,1.704751495814103,-0.35615570204659286,-0.4074435132315458,-0.4803434654367431,-0.5228307576630105,2.1418357368651204,-0.5378629661350438,-0.8789667540700302,-0.679433912537144,2.166892421079014,2.526250778691885,1.0743531852444916,0.9990476667989842,0.9265298440916431,0.42914042026948807,-0.4111111006921592,-0.7268320997806266,-0.6605936820905781,-2.04184195646119,-0.14404800610251542,-0.07021136849345204,0.5959802125115937,2.3055706612204316,-0.39023861984682784,-0.2870649687792531,-0.241642459550871,0.43550553077105064,0.3272146563694911,-0.37076963719152484,-1.2705471688439887,-1.0400727555021632,0.1039131879954186,0.008023775137617924,0.8491798895964642,-0.03897877933284549,1.0028909315813694,-0.32044741849232344,2.1146621360431057,1.9176799493258965,-1.2039507080103085,1.6289595320326293,0.1337860305895442,1.0994080407915758,-0.2758949893549994,0.011838560565450105,1.5341262281452326,-0.36978117398831484,1.6380429951546858,0.7304392696016989],\"yaxis\":\"y12\",\"type\":\"scatter\"},{\"line\":{\"color\":\"rgba(128, 128, 128, 1.0)\",\"dash\":\"solid\",\"shape\":\"linear\",\"width\":1.3},\"marker\":{\"size\":2,\"symbol\":\"circle\"},\"mode\":\"markers\",\"name\":\"D\",\"text\":\"\",\"x\":[-0.24869303225749126,-2.388145795579333,0.7052569495813963,0.8921836516207222,-0.8641832945932809,0.12474763473727571,0.9771147206925541,-1.120879746434406,2.083325158822628,-0.14292514964191178,-1.1312169975938375,-0.11607697197171943,-2.180363608406877,-1.109061809100249,1.1778238870317181,0.7910259440816909,0.645202281124067,-0.1742790933800676,0.8225032314842339,0.29877822246100105,0.36722046683406245,1.2324544434409372,-1.7020118796248933,1.7042326155461203,-1.4450455739935764,-0.78545924825664,2.06296995198097,0.3665990108761806,-1.116799652901445,0.7366232257112952,0.6809107980964005,0.4337169537228572,0.5054307038730637,-0.9015199558765126,1.2400228835450735,-0.0764876321557282,1.5777026737325832,-0.09862690109282116,0.7644500967843794,0.17103982442114465,0.37321438050746564,-0.1021660818701845,-2.351357285273254,0.8671154218975321,0.9128969618550399,0.17785238425044794,0.21187259997227123,0.050938673505943645,0.6563964094079809,0.053649786152871054,-0.0197549209834424,1.5798149195593896,0.791318635261723,-0.9025588999319102,1.656944673728671,-0.8269206687359101,0.06556319052433303,-0.8214461312213147,2.187880503422802,-0.46944316735562686,-0.7370885868139803,0.8165338304816602,-0.9054807194666195,-1.3809585264041093,-0.7458765995206087,0.18823758886614955,1.3784227314336097,-1.0036999714454244,-0.8559179530591503,-1.5808922630144657,-1.0890433281306702,0.6087193993857751,1.2516196623031353,-0.7354149576024046,0.2891258014135116,0.07985900771739284,-1.215018118998959,0.31249748403780464,0.9175732377339435,-1.041267348022098,-1.069969287706913,1.4965582109974387,2.639408794995632,0.9601098331096278,0.31731584401142465,-2.0170362462039684,0.9816338696585786,1.5190162401027576,0.15579596719864214,0.27471292445643963,-0.63239828780116,-1.0501242325930704,0.8160338670311766,-1.0935321627740018,-0.8056994370048624,0.32500050683722304,0.30487108890472714,-0.31497417629318075,2.0218995987796933,0.4843579882960143],\"xaxis\":\"x13\",\"y\":[-1.5897221946627162,0.3881534151264451,0.2772944841151599,1.298330640559541,0.8568091610919952,-1.486106835229758,-1.0862231370818147,0.5748087439840773,1.026628771340924,-0.4141700103142258,0.30538030427163665,-0.012805826093219381,-2.0749459185303816,0.8672918118015417,0.07451223055141265,-1.4561635949972151,-0.5360852317698505,0.3265984770476418,0.8368502744859896,-0.07877931097570023,0.30867488169765506,-0.9617878067606253,-1.4812539643895888,0.19203346442859506,1.0976284998357833,2.66715863939564,-0.6873804694129563,0.9948807074855572,-0.36959070183480014,-0.18158394365251512,0.34071102177736184,1.9530310396655668,1.503513220409165,-0.32346215040040593,-0.08263971729847629,-1.5292671827037791,0.28974899643705376,0.4631692021102995,0.8071285959134398,-0.9225761376000622,0.8235374860706418,-1.4003448077047984,0.7472141205820891,0.09259546962931467,-0.13428263434801724,0.22832046417331497,-0.7557896338030863,0.5533146148613863,-2.2699352226812253,-0.6861455007876447,0.5353727580331634,0.6991968133340193,2.2640420510689365,0.9316723073168875,-0.4747759199341716,0.5320410779272005,1.024932640201076,0.14427840861954674,-1.0822146534072383,0.3105510034526434,0.5891865162490424,-0.7105178812376683,0.3334024361608685,-0.01715749825336284,1.0880748291362126,0.7982450519963034,0.9505168604870251,-0.4029352598200969,1.4491594657254252,0.20045013807179224,-0.40928058030959946,0.5972644954771477,0.4809926819086426,-1.2633582269604677,-0.38106444879833234,1.0058960599684232,-0.5053756209038799,-0.3861065428798655,0.7108175908518505,-0.16554681207675614,1.374812443087915,1.3763994785644487,0.20954640783588474,0.3344658816141513,-2.1098790196848967,0.5367893903275768,-0.5464041834590837,1.7701255317721094,0.9911185492373951,-1.831858888910831,-0.3197343382221082,-0.03144426316548922,-0.7145999792041241,0.0552858232740609,-1.338721708829007,0.923197690489228,0.7368405105614648,-0.628642418169745,0.5444548763628334,-1.5507106220555789],\"yaxis\":\"y13\",\"type\":\"scatter\"},{\"line\":{\"color\":\"rgba(128, 128, 128, 1.0)\",\"dash\":\"solid\",\"shape\":\"linear\",\"width\":1.3},\"marker\":{\"size\":2,\"symbol\":\"circle\"},\"mode\":\"markers\",\"name\":\"D\",\"text\":\"\",\"x\":[-0.612674881396858,-0.2369623864621897,0.884172060253383,1.1599681389449998,1.541433973431705,-0.024482749390586922,-0.010581934928280717,0.4208804279380881,-1.055904482828417,-0.5731293410391528,0.6136951834885712,0.3788139488071389,-0.7236246217565258,-0.9832872929064812,-0.04584667102425731,1.0990096326338898,-0.4894552325381044,0.09207295202927872,0.8907023697335712,1.071647550161279,-0.09772605038866598,-0.5573372268161606,2.1569812897937672,-0.3138297576026716,0.967564149880955,0.5283041481971225,1.275552520971748,-0.23814452995452495,1.3686369305494708,0.4554414353012013,0.17261064038033674,-1.2790756257079117,-1.668432178436465,-0.7589722147586523,-1.1217293268341164,0.1457960988457628,-2.460171601392952,1.1224080996706933,-0.5718735010119889,0.7480470173720155,-0.03113393613510434,1.6490615045790034,0.05753332794358935,-0.20428125058288318,-2.0075424792795133,0.667885385351891,0.0636282659190983,-0.011188874517152437,2.049007627401017,-1.5848630631660825,-0.9622210929462339,-0.8431124359578438,0.05754501771367724,-1.2870024758751444,-0.19727806101733522,1.3001919306481338,0.3064075043148491,0.07117476930400782,-0.96812683843896,1.82880823196082,1.5559339345907204,1.7050542509227609,1.7171720163798219,0.42589246627030913,-2.3660287467420225,-1.5323420715419014,1.9884957118847637,-0.7216381285780816,-0.9380010074166955,0.16306318472752554,-0.7425934426726053,-0.9707420414928241,-2.0238789682217306,0.20622339294902128,0.29403482434209716,0.12147098035639514,0.20258350462675498,-0.2992269193093349,0.22115912154903292,-1.7790002822602209,-1.872050479776317,-0.43176879529106,0.940906565069375,1.3443483421299551,-0.8062940834059503,-0.15012732876279758,0.20043931984963673,0.22002772846606183,-1.4076957323909052,1.36507767965311,0.5463241272540051,1.9568592851420272,-0.886230842336463,-0.24970954645615465,1.4577791399977678,-1.0263047973016162,-1.0009532490096018,-0.28890730822092503,1.072250787176654,0.45805736391766777],\"xaxis\":\"x14\",\"y\":[-1.5897221946627162,0.3881534151264451,0.2772944841151599,1.298330640559541,0.8568091610919952,-1.486106835229758,-1.0862231370818147,0.5748087439840773,1.026628771340924,-0.4141700103142258,0.30538030427163665,-0.012805826093219381,-2.0749459185303816,0.8672918118015417,0.07451223055141265,-1.4561635949972151,-0.5360852317698505,0.3265984770476418,0.8368502744859896,-0.07877931097570023,0.30867488169765506,-0.9617878067606253,-1.4812539643895888,0.19203346442859506,1.0976284998357833,2.66715863939564,-0.6873804694129563,0.9948807074855572,-0.36959070183480014,-0.18158394365251512,0.34071102177736184,1.9530310396655668,1.503513220409165,-0.32346215040040593,-0.08263971729847629,-1.5292671827037791,0.28974899643705376,0.4631692021102995,0.8071285959134398,-0.9225761376000622,0.8235374860706418,-1.4003448077047984,0.7472141205820891,0.09259546962931467,-0.13428263434801724,0.22832046417331497,-0.7557896338030863,0.5533146148613863,-2.2699352226812253,-0.6861455007876447,0.5353727580331634,0.6991968133340193,2.2640420510689365,0.9316723073168875,-0.4747759199341716,0.5320410779272005,1.024932640201076,0.14427840861954674,-1.0822146534072383,0.3105510034526434,0.5891865162490424,-0.7105178812376683,0.3334024361608685,-0.01715749825336284,1.0880748291362126,0.7982450519963034,0.9505168604870251,-0.4029352598200969,1.4491594657254252,0.20045013807179224,-0.40928058030959946,0.5972644954771477,0.4809926819086426,-1.2633582269604677,-0.38106444879833234,1.0058960599684232,-0.5053756209038799,-0.3861065428798655,0.7108175908518505,-0.16554681207675614,1.374812443087915,1.3763994785644487,0.20954640783588474,0.3344658816141513,-2.1098790196848967,0.5367893903275768,-0.5464041834590837,1.7701255317721094,0.9911185492373951,-1.831858888910831,-0.3197343382221082,-0.03144426316548922,-0.7145999792041241,0.0552858232740609,-1.338721708829007,0.923197690489228,0.7368405105614648,-0.628642418169745,0.5444548763628334,-1.5507106220555789],\"yaxis\":\"y14\",\"type\":\"scatter\"},{\"line\":{\"color\":\"rgba(128, 128, 128, 1.0)\",\"dash\":\"solid\",\"shape\":\"linear\",\"width\":1.3},\"marker\":{\"size\":2,\"symbol\":\"circle\"},\"mode\":\"markers\",\"name\":\"D\",\"text\":\"\",\"x\":[-2.1875962710340633,1.2043466892488253,-0.2624637021694007,-0.044774519494937354,-0.38828732945577965,-1.7604191184675766,-0.8330320826323994,-0.45260597178575424,0.37666516698609703,-0.45075330251265217,-0.4543014386060515,-1.6818125208376644,-0.777172441623389,-1.115031723523379,-0.2828639849820452,1.5109558788259014,0.3497580319219913,-0.7986845728658987,-2.304293194629496,0.13818781871544455,-0.8568120676938925,0.1283511008423489,-1.6464870113713808,0.1509732009457024,0.48580680075115507,0.8844256749558661,0.863925568233306,-0.424112327916965,-1.023377757860004,-1.2429516240004856,0.4644114102285322,-0.10295568470534225,1.1343980376200298,0.5952729060364006,-0.944905980125573,-0.5918297192626695,-1.9362958830669315,0.7773084542894089,-0.7025040256192104,-0.6721361405389769,0.22489473295161644,-1.2072044451488124,-0.6679812924099646,0.20072281504376818,-0.06894227862165513,0.21307238240542759,0.8622619083858662,-0.9334003090979155,-0.04407152633317502,0.3703242459554553,-1.5132386818086954,1.704751495814103,-0.35615570204659286,-0.4074435132315458,-0.4803434654367431,-0.5228307576630105,2.1418357368651204,-0.5378629661350438,-0.8789667540700302,-0.679433912537144,2.166892421079014,2.526250778691885,1.0743531852444916,0.9990476667989842,0.9265298440916431,0.42914042026948807,-0.4111111006921592,-0.7268320997806266,-0.6605936820905781,-2.04184195646119,-0.14404800610251542,-0.07021136849345204,0.5959802125115937,2.3055706612204316,-0.39023861984682784,-0.2870649687792531,-0.241642459550871,0.43550553077105064,0.3272146563694911,-0.37076963719152484,-1.2705471688439887,-1.0400727555021632,0.1039131879954186,0.008023775137617924,0.8491798895964642,-0.03897877933284549,1.0028909315813694,-0.32044741849232344,2.1146621360431057,1.9176799493258965,-1.2039507080103085,1.6289595320326293,0.1337860305895442,1.0994080407915758,-0.2758949893549994,0.011838560565450105,1.5341262281452326,-0.36978117398831484,1.6380429951546858,0.7304392696016989],\"xaxis\":\"x15\",\"y\":[-1.5897221946627162,0.3881534151264451,0.2772944841151599,1.298330640559541,0.8568091610919952,-1.486106835229758,-1.0862231370818147,0.5748087439840773,1.026628771340924,-0.4141700103142258,0.30538030427163665,-0.012805826093219381,-2.0749459185303816,0.8672918118015417,0.07451223055141265,-1.4561635949972151,-0.5360852317698505,0.3265984770476418,0.8368502744859896,-0.07877931097570023,0.30867488169765506,-0.9617878067606253,-1.4812539643895888,0.19203346442859506,1.0976284998357833,2.66715863939564,-0.6873804694129563,0.9948807074855572,-0.36959070183480014,-0.18158394365251512,0.34071102177736184,1.9530310396655668,1.503513220409165,-0.32346215040040593,-0.08263971729847629,-1.5292671827037791,0.28974899643705376,0.4631692021102995,0.8071285959134398,-0.9225761376000622,0.8235374860706418,-1.4003448077047984,0.7472141205820891,0.09259546962931467,-0.13428263434801724,0.22832046417331497,-0.7557896338030863,0.5533146148613863,-2.2699352226812253,-0.6861455007876447,0.5353727580331634,0.6991968133340193,2.2640420510689365,0.9316723073168875,-0.4747759199341716,0.5320410779272005,1.024932640201076,0.14427840861954674,-1.0822146534072383,0.3105510034526434,0.5891865162490424,-0.7105178812376683,0.3334024361608685,-0.01715749825336284,1.0880748291362126,0.7982450519963034,0.9505168604870251,-0.4029352598200969,1.4491594657254252,0.20045013807179224,-0.40928058030959946,0.5972644954771477,0.4809926819086426,-1.2633582269604677,-0.38106444879833234,1.0058960599684232,-0.5053756209038799,-0.3861065428798655,0.7108175908518505,-0.16554681207675614,1.374812443087915,1.3763994785644487,0.20954640783588474,0.3344658816141513,-2.1098790196848967,0.5367893903275768,-0.5464041834590837,1.7701255317721094,0.9911185492373951,-1.831858888910831,-0.3197343382221082,-0.03144426316548922,-0.7145999792041241,0.0552858232740609,-1.338721708829007,0.923197690489228,0.7368405105614648,-0.628642418169745,0.5444548763628334,-1.5507106220555789],\"yaxis\":\"y15\",\"type\":\"scatter\"},{\"histfunc\":\"count\",\"histnorm\":\"\",\"marker\":{\"color\":\"rgba(128, 0, 128, 1.0)\",\"line\":{\"color\":\"#4D5663\",\"width\":1.3}},\"name\":\"D\",\"nbinsx\":10,\"opacity\":0.8,\"orientation\":\"v\",\"x\":[-1.5897221946627162,0.3881534151264451,0.2772944841151599,1.298330640559541,0.8568091610919952,-1.486106835229758,-1.0862231370818147,0.5748087439840773,1.026628771340924,-0.4141700103142258,0.30538030427163665,-0.012805826093219381,-2.0749459185303816,0.8672918118015417,0.07451223055141265,-1.4561635949972151,-0.5360852317698505,0.3265984770476418,0.8368502744859896,-0.07877931097570023,0.30867488169765506,-0.9617878067606253,-1.4812539643895888,0.19203346442859506,1.0976284998357833,2.66715863939564,-0.6873804694129563,0.9948807074855572,-0.36959070183480014,-0.18158394365251512,0.34071102177736184,1.9530310396655668,1.503513220409165,-0.32346215040040593,-0.08263971729847629,-1.5292671827037791,0.28974899643705376,0.4631692021102995,0.8071285959134398,-0.9225761376000622,0.8235374860706418,-1.4003448077047984,0.7472141205820891,0.09259546962931467,-0.13428263434801724,0.22832046417331497,-0.7557896338030863,0.5533146148613863,-2.2699352226812253,-0.6861455007876447,0.5353727580331634,0.6991968133340193,2.2640420510689365,0.9316723073168875,-0.4747759199341716,0.5320410779272005,1.024932640201076,0.14427840861954674,-1.0822146534072383,0.3105510034526434,0.5891865162490424,-0.7105178812376683,0.3334024361608685,-0.01715749825336284,1.0880748291362126,0.7982450519963034,0.9505168604870251,-0.4029352598200969,1.4491594657254252,0.20045013807179224,-0.40928058030959946,0.5972644954771477,0.4809926819086426,-1.2633582269604677,-0.38106444879833234,1.0058960599684232,-0.5053756209038799,-0.3861065428798655,0.7108175908518505,-0.16554681207675614,1.374812443087915,1.3763994785644487,0.20954640783588474,0.3344658816141513,-2.1098790196848967,0.5367893903275768,-0.5464041834590837,1.7701255317721094,0.9911185492373951,-1.831858888910831,-0.3197343382221082,-0.03144426316548922,-0.7145999792041241,0.0552858232740609,-1.338721708829007,0.923197690489228,0.7368405105614648,-0.628642418169745,0.5444548763628334,-1.5507106220555789],\"xaxis\":\"x16\",\"yaxis\":\"y16\",\"type\":\"histogram\"}],                        {\"bargap\":0.02,\"legend\":{\"bgcolor\":\"#F5F6F9\",\"font\":{\"color\":\"#4D5663\"}},\"paper_bgcolor\":\"#F5F6F9\",\"plot_bgcolor\":\"#F5F6F9\",\"showlegend\":false,\"template\":{\"data\":{\"barpolar\":[{\"marker\":{\"line\":{\"color\":\"#E5ECF6\",\"width\":0.5},\"pattern\":{\"fillmode\":\"overlay\",\"size\":10,\"solidity\":0.2}},\"type\":\"barpolar\"}],\"bar\":[{\"error_x\":{\"color\":\"#2a3f5f\"},\"error_y\":{\"color\":\"#2a3f5f\"},\"marker\":{\"line\":{\"color\":\"#E5ECF6\",\"width\":0.5},\"pattern\":{\"fillmode\":\"overlay\",\"size\":10,\"solidity\":0.2}},\"type\":\"bar\"}],\"carpet\":[{\"aaxis\":{\"endlinecolor\":\"#2a3f5f\",\"gridcolor\":\"white\",\"linecolor\":\"white\",\"minorgridcolor\":\"white\",\"startlinecolor\":\"#2a3f5f\"},\"baxis\":{\"endlinecolor\":\"#2a3f5f\",\"gridcolor\":\"white\",\"linecolor\":\"white\",\"minorgridcolor\":\"white\",\"startlinecolor\":\"#2a3f5f\"},\"type\":\"carpet\"}],\"choropleth\":[{\"colorbar\":{\"outlinewidth\":0,\"ticks\":\"\"},\"type\":\"choropleth\"}],\"contourcarpet\":[{\"colorbar\":{\"outlinewidth\":0,\"ticks\":\"\"},\"type\":\"contourcarpet\"}],\"contour\":[{\"colorbar\":{\"outlinewidth\":0,\"ticks\":\"\"},\"colorscale\":[[0.0,\"#0d0887\"],[0.1111111111111111,\"#46039f\"],[0.2222222222222222,\"#7201a8\"],[0.3333333333333333,\"#9c179e\"],[0.4444444444444444,\"#bd3786\"],[0.5555555555555556,\"#d8576b\"],[0.6666666666666666,\"#ed7953\"],[0.7777777777777778,\"#fb9f3a\"],[0.8888888888888888,\"#fdca26\"],[1.0,\"#f0f921\"]],\"type\":\"contour\"}],\"heatmapgl\":[{\"colorbar\":{\"outlinewidth\":0,\"ticks\":\"\"},\"colorscale\":[[0.0,\"#0d0887\"],[0.1111111111111111,\"#46039f\"],[0.2222222222222222,\"#7201a8\"],[0.3333333333333333,\"#9c179e\"],[0.4444444444444444,\"#bd3786\"],[0.5555555555555556,\"#d8576b\"],[0.6666666666666666,\"#ed7953\"],[0.7777777777777778,\"#fb9f3a\"],[0.8888888888888888,\"#fdca26\"],[1.0,\"#f0f921\"]],\"type\":\"heatmapgl\"}],\"heatmap\":[{\"colorbar\":{\"outlinewidth\":0,\"ticks\":\"\"},\"colorscale\":[[0.0,\"#0d0887\"],[0.1111111111111111,\"#46039f\"],[0.2222222222222222,\"#7201a8\"],[0.3333333333333333,\"#9c179e\"],[0.4444444444444444,\"#bd3786\"],[0.5555555555555556,\"#d8576b\"],[0.6666666666666666,\"#ed7953\"],[0.7777777777777778,\"#fb9f3a\"],[0.8888888888888888,\"#fdca26\"],[1.0,\"#f0f921\"]],\"type\":\"heatmap\"}],\"histogram2dcontour\":[{\"colorbar\":{\"outlinewidth\":0,\"ticks\":\"\"},\"colorscale\":[[0.0,\"#0d0887\"],[0.1111111111111111,\"#46039f\"],[0.2222222222222222,\"#7201a8\"],[0.3333333333333333,\"#9c179e\"],[0.4444444444444444,\"#bd3786\"],[0.5555555555555556,\"#d8576b\"],[0.6666666666666666,\"#ed7953\"],[0.7777777777777778,\"#fb9f3a\"],[0.8888888888888888,\"#fdca26\"],[1.0,\"#f0f921\"]],\"type\":\"histogram2dcontour\"}],\"histogram2d\":[{\"colorbar\":{\"outlinewidth\":0,\"ticks\":\"\"},\"colorscale\":[[0.0,\"#0d0887\"],[0.1111111111111111,\"#46039f\"],[0.2222222222222222,\"#7201a8\"],[0.3333333333333333,\"#9c179e\"],[0.4444444444444444,\"#bd3786\"],[0.5555555555555556,\"#d8576b\"],[0.6666666666666666,\"#ed7953\"],[0.7777777777777778,\"#fb9f3a\"],[0.8888888888888888,\"#fdca26\"],[1.0,\"#f0f921\"]],\"type\":\"histogram2d\"}],\"histogram\":[{\"marker\":{\"pattern\":{\"fillmode\":\"overlay\",\"size\":10,\"solidity\":0.2}},\"type\":\"histogram\"}],\"mesh3d\":[{\"colorbar\":{\"outlinewidth\":0,\"ticks\":\"\"},\"type\":\"mesh3d\"}],\"parcoords\":[{\"line\":{\"colorbar\":{\"outlinewidth\":0,\"ticks\":\"\"}},\"type\":\"parcoords\"}],\"pie\":[{\"automargin\":true,\"type\":\"pie\"}],\"scatter3d\":[{\"line\":{\"colorbar\":{\"outlinewidth\":0,\"ticks\":\"\"}},\"marker\":{\"colorbar\":{\"outlinewidth\":0,\"ticks\":\"\"}},\"type\":\"scatter3d\"}],\"scattercarpet\":[{\"marker\":{\"colorbar\":{\"outlinewidth\":0,\"ticks\":\"\"}},\"type\":\"scattercarpet\"}],\"scattergeo\":[{\"marker\":{\"colorbar\":{\"outlinewidth\":0,\"ticks\":\"\"}},\"type\":\"scattergeo\"}],\"scattergl\":[{\"marker\":{\"colorbar\":{\"outlinewidth\":0,\"ticks\":\"\"}},\"type\":\"scattergl\"}],\"scattermapbox\":[{\"marker\":{\"colorbar\":{\"outlinewidth\":0,\"ticks\":\"\"}},\"type\":\"scattermapbox\"}],\"scatterpolargl\":[{\"marker\":{\"colorbar\":{\"outlinewidth\":0,\"ticks\":\"\"}},\"type\":\"scatterpolargl\"}],\"scatterpolar\":[{\"marker\":{\"colorbar\":{\"outlinewidth\":0,\"ticks\":\"\"}},\"type\":\"scatterpolar\"}],\"scatter\":[{\"fillpattern\":{\"fillmode\":\"overlay\",\"size\":10,\"solidity\":0.2},\"type\":\"scatter\"}],\"scatterternary\":[{\"marker\":{\"colorbar\":{\"outlinewidth\":0,\"ticks\":\"\"}},\"type\":\"scatterternary\"}],\"surface\":[{\"colorbar\":{\"outlinewidth\":0,\"ticks\":\"\"},\"colorscale\":[[0.0,\"#0d0887\"],[0.1111111111111111,\"#46039f\"],[0.2222222222222222,\"#7201a8\"],[0.3333333333333333,\"#9c179e\"],[0.4444444444444444,\"#bd3786\"],[0.5555555555555556,\"#d8576b\"],[0.6666666666666666,\"#ed7953\"],[0.7777777777777778,\"#fb9f3a\"],[0.8888888888888888,\"#fdca26\"],[1.0,\"#f0f921\"]],\"type\":\"surface\"}],\"table\":[{\"cells\":{\"fill\":{\"color\":\"#EBF0F8\"},\"line\":{\"color\":\"white\"}},\"header\":{\"fill\":{\"color\":\"#C8D4E3\"},\"line\":{\"color\":\"white\"}},\"type\":\"table\"}]},\"layout\":{\"annotationdefaults\":{\"arrowcolor\":\"#2a3f5f\",\"arrowhead\":0,\"arrowwidth\":1},\"autotypenumbers\":\"strict\",\"coloraxis\":{\"colorbar\":{\"outlinewidth\":0,\"ticks\":\"\"}},\"colorscale\":{\"diverging\":[[0,\"#8e0152\"],[0.1,\"#c51b7d\"],[0.2,\"#de77ae\"],[0.3,\"#f1b6da\"],[0.4,\"#fde0ef\"],[0.5,\"#f7f7f7\"],[0.6,\"#e6f5d0\"],[0.7,\"#b8e186\"],[0.8,\"#7fbc41\"],[0.9,\"#4d9221\"],[1,\"#276419\"]],\"sequential\":[[0.0,\"#0d0887\"],[0.1111111111111111,\"#46039f\"],[0.2222222222222222,\"#7201a8\"],[0.3333333333333333,\"#9c179e\"],[0.4444444444444444,\"#bd3786\"],[0.5555555555555556,\"#d8576b\"],[0.6666666666666666,\"#ed7953\"],[0.7777777777777778,\"#fb9f3a\"],[0.8888888888888888,\"#fdca26\"],[1.0,\"#f0f921\"]],\"sequentialminus\":[[0.0,\"#0d0887\"],[0.1111111111111111,\"#46039f\"],[0.2222222222222222,\"#7201a8\"],[0.3333333333333333,\"#9c179e\"],[0.4444444444444444,\"#bd3786\"],[0.5555555555555556,\"#d8576b\"],[0.6666666666666666,\"#ed7953\"],[0.7777777777777778,\"#fb9f3a\"],[0.8888888888888888,\"#fdca26\"],[1.0,\"#f0f921\"]]},\"colorway\":[\"#636efa\",\"#EF553B\",\"#00cc96\",\"#ab63fa\",\"#FFA15A\",\"#19d3f3\",\"#FF6692\",\"#B6E880\",\"#FF97FF\",\"#FECB52\"],\"font\":{\"color\":\"#2a3f5f\"},\"geo\":{\"bgcolor\":\"white\",\"lakecolor\":\"white\",\"landcolor\":\"#E5ECF6\",\"showlakes\":true,\"showland\":true,\"subunitcolor\":\"white\"},\"hoverlabel\":{\"align\":\"left\"},\"hovermode\":\"closest\",\"mapbox\":{\"style\":\"light\"},\"paper_bgcolor\":\"white\",\"plot_bgcolor\":\"#E5ECF6\",\"polar\":{\"angularaxis\":{\"gridcolor\":\"white\",\"linecolor\":\"white\",\"ticks\":\"\"},\"bgcolor\":\"#E5ECF6\",\"radialaxis\":{\"gridcolor\":\"white\",\"linecolor\":\"white\",\"ticks\":\"\"}},\"scene\":{\"xaxis\":{\"backgroundcolor\":\"#E5ECF6\",\"gridcolor\":\"white\",\"gridwidth\":2,\"linecolor\":\"white\",\"showbackground\":true,\"ticks\":\"\",\"zerolinecolor\":\"white\"},\"yaxis\":{\"backgroundcolor\":\"#E5ECF6\",\"gridcolor\":\"white\",\"gridwidth\":2,\"linecolor\":\"white\",\"showbackground\":true,\"ticks\":\"\",\"zerolinecolor\":\"white\"},\"zaxis\":{\"backgroundcolor\":\"#E5ECF6\",\"gridcolor\":\"white\",\"gridwidth\":2,\"linecolor\":\"white\",\"showbackground\":true,\"ticks\":\"\",\"zerolinecolor\":\"white\"}},\"shapedefaults\":{\"line\":{\"color\":\"#2a3f5f\"}},\"ternary\":{\"aaxis\":{\"gridcolor\":\"white\",\"linecolor\":\"white\",\"ticks\":\"\"},\"baxis\":{\"gridcolor\":\"white\",\"linecolor\":\"white\",\"ticks\":\"\"},\"bgcolor\":\"#E5ECF6\",\"caxis\":{\"gridcolor\":\"white\",\"linecolor\":\"white\",\"ticks\":\"\"}},\"title\":{\"x\":0.05},\"xaxis\":{\"automargin\":true,\"gridcolor\":\"white\",\"linecolor\":\"white\",\"ticks\":\"\",\"title\":{\"standoff\":15},\"zerolinecolor\":\"white\",\"zerolinewidth\":2},\"yaxis\":{\"automargin\":true,\"gridcolor\":\"white\",\"linecolor\":\"white\",\"ticks\":\"\",\"title\":{\"standoff\":15},\"zerolinecolor\":\"white\",\"zerolinewidth\":2}}},\"title\":{\"font\":{\"color\":\"#4D5663\"}},\"xaxis\":{\"anchor\":\"y\",\"domain\":[0.0,0.2125],\"gridcolor\":\"#E1E5ED\",\"showgrid\":false,\"tickfont\":{\"color\":\"#4D5663\"},\"title\":{\"font\":{\"color\":\"#4D5663\"},\"text\":\"\"},\"zerolinecolor\":\"#E1E5ED\"},\"yaxis\":{\"anchor\":\"x\",\"domain\":[0.8025,1.0],\"gridcolor\":\"#E1E5ED\",\"showgrid\":false,\"tickfont\":{\"color\":\"#4D5663\"},\"title\":{\"font\":{\"color\":\"#4D5663\"},\"text\":\"\"},\"zerolinecolor\":\"#E1E5ED\"},\"xaxis2\":{\"anchor\":\"y2\",\"domain\":[0.2625,0.475],\"gridcolor\":\"#E1E5ED\",\"showgrid\":false,\"tickfont\":{\"color\":\"#4D5663\"},\"title\":{\"font\":{\"color\":\"#4D5663\"},\"text\":\"\"},\"zerolinecolor\":\"#E1E5ED\"},\"yaxis2\":{\"anchor\":\"x2\",\"domain\":[0.8025,1.0],\"gridcolor\":\"#E1E5ED\",\"showgrid\":false,\"tickfont\":{\"color\":\"#4D5663\"},\"title\":{\"font\":{\"color\":\"#4D5663\"},\"text\":\"\"},\"zerolinecolor\":\"#E1E5ED\"},\"xaxis3\":{\"anchor\":\"y3\",\"domain\":[0.525,0.7375],\"gridcolor\":\"#E1E5ED\",\"showgrid\":false,\"tickfont\":{\"color\":\"#4D5663\"},\"title\":{\"font\":{\"color\":\"#4D5663\"},\"text\":\"\"},\"zerolinecolor\":\"#E1E5ED\"},\"yaxis3\":{\"anchor\":\"x3\",\"domain\":[0.8025,1.0],\"gridcolor\":\"#E1E5ED\",\"showgrid\":false,\"tickfont\":{\"color\":\"#4D5663\"},\"title\":{\"font\":{\"color\":\"#4D5663\"},\"text\":\"\"},\"zerolinecolor\":\"#E1E5ED\"},\"xaxis4\":{\"anchor\":\"y4\",\"domain\":[0.7875,1.0],\"gridcolor\":\"#E1E5ED\",\"showgrid\":false,\"tickfont\":{\"color\":\"#4D5663\"},\"title\":{\"font\":{\"color\":\"#4D5663\"},\"text\":\"\"},\"zerolinecolor\":\"#E1E5ED\"},\"yaxis4\":{\"anchor\":\"x4\",\"domain\":[0.8025,1.0],\"gridcolor\":\"#E1E5ED\",\"showgrid\":false,\"tickfont\":{\"color\":\"#4D5663\"},\"title\":{\"font\":{\"color\":\"#4D5663\"},\"text\":\"\"},\"zerolinecolor\":\"#E1E5ED\"},\"xaxis5\":{\"anchor\":\"y5\",\"domain\":[0.0,0.2125],\"gridcolor\":\"#E1E5ED\",\"showgrid\":false,\"tickfont\":{\"color\":\"#4D5663\"},\"title\":{\"font\":{\"color\":\"#4D5663\"},\"text\":\"\"},\"zerolinecolor\":\"#E1E5ED\"},\"yaxis5\":{\"anchor\":\"x5\",\"domain\":[0.535,0.7325],\"gridcolor\":\"#E1E5ED\",\"showgrid\":false,\"tickfont\":{\"color\":\"#4D5663\"},\"title\":{\"font\":{\"color\":\"#4D5663\"},\"text\":\"\"},\"zerolinecolor\":\"#E1E5ED\"},\"xaxis6\":{\"anchor\":\"y6\",\"domain\":[0.2625,0.475],\"gridcolor\":\"#E1E5ED\",\"showgrid\":false,\"tickfont\":{\"color\":\"#4D5663\"},\"title\":{\"font\":{\"color\":\"#4D5663\"},\"text\":\"\"},\"zerolinecolor\":\"#E1E5ED\"},\"yaxis6\":{\"anchor\":\"x6\",\"domain\":[0.535,0.7325],\"gridcolor\":\"#E1E5ED\",\"showgrid\":false,\"tickfont\":{\"color\":\"#4D5663\"},\"title\":{\"font\":{\"color\":\"#4D5663\"},\"text\":\"\"},\"zerolinecolor\":\"#E1E5ED\"},\"xaxis7\":{\"anchor\":\"y7\",\"domain\":[0.525,0.7375],\"gridcolor\":\"#E1E5ED\",\"showgrid\":false,\"tickfont\":{\"color\":\"#4D5663\"},\"title\":{\"font\":{\"color\":\"#4D5663\"},\"text\":\"\"},\"zerolinecolor\":\"#E1E5ED\"},\"yaxis7\":{\"anchor\":\"x7\",\"domain\":[0.535,0.7325],\"gridcolor\":\"#E1E5ED\",\"showgrid\":false,\"tickfont\":{\"color\":\"#4D5663\"},\"title\":{\"font\":{\"color\":\"#4D5663\"},\"text\":\"\"},\"zerolinecolor\":\"#E1E5ED\"},\"xaxis8\":{\"anchor\":\"y8\",\"domain\":[0.7875,1.0],\"gridcolor\":\"#E1E5ED\",\"showgrid\":false,\"tickfont\":{\"color\":\"#4D5663\"},\"title\":{\"font\":{\"color\":\"#4D5663\"},\"text\":\"\"},\"zerolinecolor\":\"#E1E5ED\"},\"yaxis8\":{\"anchor\":\"x8\",\"domain\":[0.535,0.7325],\"gridcolor\":\"#E1E5ED\",\"showgrid\":false,\"tickfont\":{\"color\":\"#4D5663\"},\"title\":{\"font\":{\"color\":\"#4D5663\"},\"text\":\"\"},\"zerolinecolor\":\"#E1E5ED\"},\"xaxis9\":{\"anchor\":\"y9\",\"domain\":[0.0,0.2125],\"gridcolor\":\"#E1E5ED\",\"showgrid\":false,\"tickfont\":{\"color\":\"#4D5663\"},\"title\":{\"font\":{\"color\":\"#4D5663\"},\"text\":\"\"},\"zerolinecolor\":\"#E1E5ED\"},\"yaxis9\":{\"anchor\":\"x9\",\"domain\":[0.2675,0.465],\"gridcolor\":\"#E1E5ED\",\"showgrid\":false,\"tickfont\":{\"color\":\"#4D5663\"},\"title\":{\"font\":{\"color\":\"#4D5663\"},\"text\":\"\"},\"zerolinecolor\":\"#E1E5ED\"},\"xaxis10\":{\"anchor\":\"y10\",\"domain\":[0.2625,0.475],\"gridcolor\":\"#E1E5ED\",\"showgrid\":false,\"tickfont\":{\"color\":\"#4D5663\"},\"title\":{\"font\":{\"color\":\"#4D5663\"},\"text\":\"\"},\"zerolinecolor\":\"#E1E5ED\"},\"yaxis10\":{\"anchor\":\"x10\",\"domain\":[0.2675,0.465],\"gridcolor\":\"#E1E5ED\",\"showgrid\":false,\"tickfont\":{\"color\":\"#4D5663\"},\"title\":{\"font\":{\"color\":\"#4D5663\"},\"text\":\"\"},\"zerolinecolor\":\"#E1E5ED\"},\"xaxis11\":{\"anchor\":\"y11\",\"domain\":[0.525,0.7375],\"gridcolor\":\"#E1E5ED\",\"showgrid\":false,\"tickfont\":{\"color\":\"#4D5663\"},\"title\":{\"font\":{\"color\":\"#4D5663\"},\"text\":\"\"},\"zerolinecolor\":\"#E1E5ED\"},\"yaxis11\":{\"anchor\":\"x11\",\"domain\":[0.2675,0.465],\"gridcolor\":\"#E1E5ED\",\"showgrid\":false,\"tickfont\":{\"color\":\"#4D5663\"},\"title\":{\"font\":{\"color\":\"#4D5663\"},\"text\":\"\"},\"zerolinecolor\":\"#E1E5ED\"},\"xaxis12\":{\"anchor\":\"y12\",\"domain\":[0.7875,1.0],\"gridcolor\":\"#E1E5ED\",\"showgrid\":false,\"tickfont\":{\"color\":\"#4D5663\"},\"title\":{\"font\":{\"color\":\"#4D5663\"},\"text\":\"\"},\"zerolinecolor\":\"#E1E5ED\"},\"yaxis12\":{\"anchor\":\"x12\",\"domain\":[0.2675,0.465],\"gridcolor\":\"#E1E5ED\",\"showgrid\":false,\"tickfont\":{\"color\":\"#4D5663\"},\"title\":{\"font\":{\"color\":\"#4D5663\"},\"text\":\"\"},\"zerolinecolor\":\"#E1E5ED\"},\"xaxis13\":{\"anchor\":\"y13\",\"domain\":[0.0,0.2125],\"gridcolor\":\"#E1E5ED\",\"showgrid\":false,\"tickfont\":{\"color\":\"#4D5663\"},\"title\":{\"font\":{\"color\":\"#4D5663\"},\"text\":\"\"},\"zerolinecolor\":\"#E1E5ED\"},\"yaxis13\":{\"anchor\":\"x13\",\"domain\":[0.0,0.1975],\"gridcolor\":\"#E1E5ED\",\"showgrid\":false,\"tickfont\":{\"color\":\"#4D5663\"},\"title\":{\"font\":{\"color\":\"#4D5663\"},\"text\":\"\"},\"zerolinecolor\":\"#E1E5ED\"},\"xaxis14\":{\"anchor\":\"y14\",\"domain\":[0.2625,0.475],\"gridcolor\":\"#E1E5ED\",\"showgrid\":false,\"tickfont\":{\"color\":\"#4D5663\"},\"title\":{\"font\":{\"color\":\"#4D5663\"},\"text\":\"\"},\"zerolinecolor\":\"#E1E5ED\"},\"yaxis14\":{\"anchor\":\"x14\",\"domain\":[0.0,0.1975],\"gridcolor\":\"#E1E5ED\",\"showgrid\":false,\"tickfont\":{\"color\":\"#4D5663\"},\"title\":{\"font\":{\"color\":\"#4D5663\"},\"text\":\"\"},\"zerolinecolor\":\"#E1E5ED\"},\"xaxis15\":{\"anchor\":\"y15\",\"domain\":[0.525,0.7375],\"gridcolor\":\"#E1E5ED\",\"showgrid\":false,\"tickfont\":{\"color\":\"#4D5663\"},\"title\":{\"font\":{\"color\":\"#4D5663\"},\"text\":\"\"},\"zerolinecolor\":\"#E1E5ED\"},\"yaxis15\":{\"anchor\":\"x15\",\"domain\":[0.0,0.1975],\"gridcolor\":\"#E1E5ED\",\"showgrid\":false,\"tickfont\":{\"color\":\"#4D5663\"},\"title\":{\"font\":{\"color\":\"#4D5663\"},\"text\":\"\"},\"zerolinecolor\":\"#E1E5ED\"},\"xaxis16\":{\"anchor\":\"y16\",\"domain\":[0.7875,1.0],\"gridcolor\":\"#E1E5ED\",\"showgrid\":false,\"tickfont\":{\"color\":\"#4D5663\"},\"title\":{\"font\":{\"color\":\"#4D5663\"},\"text\":\"\"},\"zerolinecolor\":\"#E1E5ED\"},\"yaxis16\":{\"anchor\":\"x16\",\"domain\":[0.0,0.1975],\"gridcolor\":\"#E1E5ED\",\"showgrid\":false,\"tickfont\":{\"color\":\"#4D5663\"},\"title\":{\"font\":{\"color\":\"#4D5663\"},\"text\":\"\"},\"zerolinecolor\":\"#E1E5ED\"}},                        {\"showLink\": true, \"linkText\": \"Export to plot.ly\", \"plotlyServerURL\": \"https://plot.ly\", \"responsive\": true}                    ).then(function(){\n",
       "                            \n",
       "var gd = document.getElementById('0cd83538-2aef-41c0-87e3-a92540aceb6f');\n",
       "var x = new MutationObserver(function (mutations, observer) {{\n",
       "        var display = window.getComputedStyle(gd).display;\n",
       "        if (!display || display === 'none') {{\n",
       "            console.log([gd, 'removed!']);\n",
       "            Plotly.purge(gd);\n",
       "            observer.disconnect();\n",
       "        }}\n",
       "}});\n",
       "\n",
       "// Listen for the removal of the full notebook cells\n",
       "var notebookContainer = gd.closest('#notebook-container');\n",
       "if (notebookContainer) {{\n",
       "    x.observe(notebookContainer, {childList: true});\n",
       "}}\n",
       "\n",
       "// Listen for the clearing of the current output cell\n",
       "var outputEl = gd.closest('.output');\n",
       "if (outputEl) {{\n",
       "    x.observe(outputEl, {childList: true});\n",
       "}}\n",
       "\n",
       "                        })                };                });            </script>        </div>"
      ]
     },
     "metadata": {},
     "output_type": "display_data"
    }
   ],
   "source": [
    "# scatter matrix plot\n",
    "# similar to seaborn's pair plot, but may need all numerical columns\n",
    "df.scatter_matrix()"
   ]
  },
  {
   "cell_type": "code",
   "execution_count": null,
   "id": "36dcbeb9",
   "metadata": {},
   "outputs": [],
   "source": [
    "# checkout santosjorge/cufflinks github page for more information about cufflinks plots"
   ]
  },
  {
   "cell_type": "code",
   "execution_count": null,
   "id": "c4fbd916",
   "metadata": {},
   "outputs": [],
   "source": []
  }
 ],
 "metadata": {
  "kernelspec": {
   "display_name": "Python 3 (ipykernel)",
   "language": "python",
   "name": "python3"
  },
  "language_info": {
   "codemirror_mode": {
    "name": "ipython",
    "version": 3
   },
   "file_extension": ".py",
   "mimetype": "text/x-python",
   "name": "python",
   "nbconvert_exporter": "python",
   "pygments_lexer": "ipython3",
   "version": "3.9.7"
  }
 },
 "nbformat": 4,
 "nbformat_minor": 5
}
